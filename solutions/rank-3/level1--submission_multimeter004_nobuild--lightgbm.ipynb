{
 "cells": [
  {
   "cell_type": "markdown",
   "metadata": {},
   "source": [
    "inspired from: https://www.kaggle.com/aitude/ashrae-kfold-lightgbm-without-leak-1-08"
   ]
  },
  {
   "cell_type": "markdown",
   "metadata": {},
   "source": [
    "## Import Packages"
   ]
  },
  {
   "cell_type": "code",
   "execution_count": null,
   "metadata": {},
   "outputs": [],
   "source": []
  },
  {
   "cell_type": "code",
   "execution_count": 1,
   "metadata": {
    "ExecuteTime": {
     "end_time": "2020-06-19T09:46:12.872758Z",
     "start_time": "2020-06-19T09:46:12.233636Z"
    }
   },
   "outputs": [],
   "source": [
    "import pandas as pd\n",
    "import numpy as np\n",
    "import matplotlib.pyplot as plt\n",
    "import lightgbm as lgb\n",
    "from sklearn.preprocessing import LabelEncoder\n",
    "from sklearn.model_selection import KFold\n",
    "import datetime\n",
    "import gc\n",
    "\n",
    "DATA_PATH = \"./\""
   ]
  },
  {
   "cell_type": "code",
   "execution_count": 2,
   "metadata": {
    "ExecuteTime": {
     "end_time": "2020-06-19T09:46:12.919348Z",
     "start_time": "2020-06-19T09:46:12.874081Z"
    }
   },
   "outputs": [],
   "source": [
    "import matplotlib.pyplot as plt\n",
    "import seaborn as sns\n",
    "%matplotlib inline"
   ]
  },
  {
   "cell_type": "markdown",
   "metadata": {},
   "source": [
    "## Load Data"
   ]
  },
  {
   "cell_type": "markdown",
   "metadata": {},
   "source": [
    "## Utility Functions"
   ]
  },
  {
   "cell_type": "code",
   "execution_count": 3,
   "metadata": {
    "ExecuteTime": {
     "end_time": "2020-06-19T09:46:13.681990Z",
     "start_time": "2020-06-19T09:46:12.920712Z"
    }
   },
   "outputs": [],
   "source": [
    "# https://www.kaggle.com/nz0722/aligned-timestamp-lgbm-by-meter-type?scriptVersionId=22831732\n",
    "\n",
    "weather_dtypes = {\n",
    "    'site_id': np.uint8,\n",
    "    'air_temperature': np.float32,\n",
    "    'cloud_coverage': np.float32,\n",
    "    'dew_temperature': np.float32,\n",
    "    'precip_depth_1_hr': np.float32,\n",
    "    'sea_level_pressure': np.float32,\n",
    "    'wind_direction': np.float32,\n",
    "    'wind_speed': np.float32,\n",
    "}\n",
    "\n",
    "\n",
    "RAW_DATA_DIR = '../'\n",
    "weather_train = pd.read_csv('weather_train.csv',dtype=weather_dtypes, parse_dates=['timestamp'])\n",
    "weather_test = pd.read_csv('weather_test.csv',dtype=weather_dtypes, parse_dates=['timestamp'])\n",
    "\n",
    "weather = pd.concat([weather_train,weather_test],ignore_index=True)\n",
    "del weather_train, weather_test\n",
    "weather_key = ['site_id', 'timestamp']\n",
    "temp_skeleton = weather[weather_key + ['air_temperature']].drop_duplicates(subset=weather_key).sort_values(by=weather_key).copy()\n",
    "del weather\n",
    "\n",
    "data_to_plot = temp_skeleton.copy()\n",
    "data_to_plot[\"hour\"] = data_to_plot[\"timestamp\"].dt.hour\n",
    "\n",
    "# calculate ranks of hourly temperatures within date/site_id chunks\n",
    "temp_skeleton['temp_rank'] = temp_skeleton.groupby(['site_id', temp_skeleton.timestamp.dt.date])['air_temperature'].rank('average')\n",
    "\n",
    "# create a dataframe of site_ids (0-16) x mean hour rank of temperature within day (0-23)\n",
    "df_2d = temp_skeleton.groupby(['site_id', temp_skeleton.timestamp.dt.hour])['temp_rank'].mean().unstack(level=1)\n",
    "\n",
    "# Subtract the columnID of temperature peak by 14, getting the timestamp alignment gap.\n",
    "site_ids_offsets = pd.Series(df_2d.values.argmax(axis=1) - 14)\n",
    "site_ids_offsets.index.name = 'site_id'\n",
    "\n",
    "def timestamp_align(df):\n",
    "    df['offset'] = df.site_id.map(site_ids_offsets)\n",
    "    df['timestamp_aligned'] = (pd.to_datetime(df[\"timestamp\"]) - pd.to_timedelta(df.offset, unit='H'))\n",
    "    df['timestamp'] = df['timestamp_aligned']\n",
    "    del df['timestamp_aligned']\n",
    "    return df"
   ]
  },
  {
   "cell_type": "code",
   "execution_count": 4,
   "metadata": {
    "ExecuteTime": {
     "end_time": "2020-06-19T09:46:13.717662Z",
     "start_time": "2020-06-19T09:46:13.683480Z"
    }
   },
   "outputs": [],
   "source": [
    "# Original code from https://www.kaggle.com/aitude/ashrae-missing-weather-data-handling by @aitude\n",
    "\n",
    "from meteocalc import Temp, dew_point, heat_index, wind_chill, feels_like\n",
    "\n",
    "def c2f(T):\n",
    "    return T * 9 / 5. + 32\n",
    "\n",
    "def windchill(T, v):\n",
    "    return (10*v**.5 - v +10.5) * (33 - T)\n",
    "\n",
    "def prepareweather(df):\n",
    "    df['RH'] = 100 - 5 * (df['air_temperature']-df['dew_temperature'])\n",
    "#     df['RH_above50'] = (df['RH'] > 50).astype(int) \n",
    "    df['heat'] = df.apply(lambda x: heat_index(c2f(x.air_temperature), x.RH).c, axis=1)\n",
    "    df['windchill'] = df.apply(lambda x: windchill(x.air_temperature, x.wind_speed), axis=1)\n",
    "    df['feellike'] = df.apply(lambda x: feels_like(c2f(x.air_temperature), x.RH, x.wind_speed*2.237).c, axis=1)\n",
    "    \n",
    "    return df\n",
    "\n",
    "\n",
    "\n",
    "def add_lag_feature(weather_df, window=3):  \n",
    "    group_df = weather_df.groupby('site_id')\n",
    "    cols = ['air_temperature', 'dew_temperature', 'heat', 'windchill', 'feellike']\n",
    "    rolled = group_df[cols].rolling(window=window, min_periods=0)\n",
    "    lag_mean = rolled.mean().reset_index().astype(np.float16)\n",
    "    lag_max = rolled.max().reset_index().astype(np.float16)\n",
    "    lag_min = rolled.min().reset_index().astype(np.float16)\n",
    "    lag_std = rolled.std().reset_index().astype(np.float16)\n",
    "    for col in cols:\n",
    "        weather_df[f'{col}_mean_lag{window}'] = lag_mean[col]\n",
    "#         weather_df[f'{col}_max_lag{window}'] = lag_max[col]\n",
    "#         weather_df[f'{col}_min_lag{window}'] = lag_min[col]\n",
    "#         weather_df[f'{col}_std_lag{window}'] = lag_std[col]\n",
    "\n",
    "\n",
    "def fill_weather_dataset(weather_df):\n",
    "    \n",
    "    \n",
    "    \n",
    "    # Find Missing Dates\n",
    "    time_format = \"%Y-%m-%d %H:%M:%S\"\n",
    "    start_date = datetime.datetime.strptime(weather_df['timestamp'].min(),time_format)\n",
    "    end_date = datetime.datetime.strptime(weather_df['timestamp'].max(),time_format)\n",
    "    total_hours = int(((end_date - start_date).total_seconds() + 3600) / 3600)\n",
    "    hours_list = [(end_date - datetime.timedelta(hours=x)).strftime(time_format) for x in range(total_hours)]\n",
    "\n",
    "    missing_hours = []\n",
    "    for site_id in range(16):\n",
    "        site_hours = np.array(weather_df[weather_df['site_id'] == site_id]['timestamp'])\n",
    "        new_rows = pd.DataFrame(np.setdiff1d(hours_list,site_hours),columns=['timestamp'])\n",
    "        new_rows['site_id'] = site_id\n",
    "        weather_df = pd.concat([weather_df,new_rows])\n",
    "\n",
    "        weather_df = weather_df.reset_index(drop=True) \n",
    "        \n",
    "#     for col in weather_df.columns:\n",
    "#         if col != 'timestamp':\n",
    "#             if weather_df[col].isna().sum():\n",
    "#                 weather_df['na_'+col] = weather_df[col].isna().astype(int)\n",
    "\n",
    "#     weather_df['weath_na_total'] = weather_df.isna().sum(axis=1)\n",
    "    \n",
    "    weather_df = timestamp_align(weather_df)\n",
    "    # Add new Features\n",
    "    weather_df[\"datetime\"] = pd.to_datetime(weather_df[\"timestamp\"])\n",
    "    weather_df[\"day\"] = weather_df[\"datetime\"].dt.day\n",
    "    weather_df[\"week\"] = weather_df[\"datetime\"].dt.week\n",
    "    weather_df[\"month\"] = weather_df[\"datetime\"].dt.month\n",
    "    \n",
    "    # Reset Index for Fast Update\n",
    "    weather_df = weather_df.set_index(['site_id','day','month'])\n",
    "\n",
    "    air_temperature_filler = pd.DataFrame(weather_df.groupby(['site_id','day','month'])['air_temperature'].mean(),columns=[\"air_temperature\"])\n",
    "    weather_df.update(air_temperature_filler,overwrite=False)\n",
    "\n",
    "    # Step 1\n",
    "    cloud_coverage_filler = weather_df.groupby(['site_id','day','month'])['cloud_coverage'].mean()\n",
    "    # Step 2\n",
    "    cloud_coverage_filler = pd.DataFrame(cloud_coverage_filler.fillna(method='ffill'),columns=[\"cloud_coverage\"])\n",
    "\n",
    "    weather_df.update(cloud_coverage_filler,overwrite=False)\n",
    "\n",
    "    due_temperature_filler = pd.DataFrame(weather_df.groupby(['site_id','day','month'])['dew_temperature'].mean(),columns=[\"dew_temperature\"])\n",
    "    weather_df.update(due_temperature_filler,overwrite=False)\n",
    "\n",
    "    # Step 1\n",
    "    sea_level_filler = weather_df.groupby(['site_id','day','month'])['sea_level_pressure'].mean()\n",
    "    # Step 2\n",
    "    sea_level_filler = pd.DataFrame(sea_level_filler.fillna(method='ffill'),columns=['sea_level_pressure'])\n",
    "\n",
    "    weather_df.update(sea_level_filler,overwrite=False)\n",
    "\n",
    "    wind_direction_filler =  pd.DataFrame(weather_df.groupby(['site_id','day','month'])['wind_direction'].mean(),columns=['wind_direction'])\n",
    "    weather_df.update(wind_direction_filler,overwrite=False)\n",
    "\n",
    "    wind_speed_filler =  pd.DataFrame(weather_df.groupby(['site_id','day','month'])['wind_speed'].mean(),columns=['wind_speed'])\n",
    "    weather_df.update(wind_speed_filler,overwrite=False)\n",
    "\n",
    "    # Step 1\n",
    "    precip_depth_filler = weather_df.groupby(['site_id','day','month'])['precip_depth_1_hr'].mean()\n",
    "    # Step 2\n",
    "    precip_depth_filler = pd.DataFrame(precip_depth_filler.fillna(method='ffill'),columns=['precip_depth_1_hr'])\n",
    "\n",
    "    weather_df.update(precip_depth_filler,overwrite=False)\n",
    "\n",
    "    weather_df = weather_df.reset_index()\n",
    "    weather_df = weather_df.drop(['datetime','day','week','month'],axis=1)\n",
    "    \n",
    "    \n",
    "    \n",
    "\n",
    "    \n",
    "    print('add heat, RH...')\n",
    "    weather_df = prepareweather(weather_df)\n",
    "    \n",
    "    print('add lag features')\n",
    "    add_lag_feature(weather_df, window=3)\n",
    "    \n",
    "    return weather_df\n",
    "\n",
    "\n",
    "\n",
    "\n",
    "# Original code from https://www.kaggle.com/gemartin/load-data-reduce-memory-usage by @gemartin\n",
    "\n",
    "from pandas.api.types import is_datetime64_any_dtype as is_datetime\n",
    "from pandas.api.types import is_categorical_dtype\n",
    "\n",
    "def reduce_mem_usage(df, use_float16=False):\n",
    "    \"\"\"\n",
    "    Iterate through all the columns of a dataframe and modify the data type to reduce memory usage.        \n",
    "    \"\"\"\n",
    "    \n",
    "    start_mem = df.memory_usage().sum() / 1024**2\n",
    "    print(\"Memory usage of dataframe is {:.2f} MB\".format(start_mem))\n",
    "    \n",
    "    for col in df.columns:\n",
    "        if is_datetime(df[col]) or is_categorical_dtype(df[col]):\n",
    "            continue\n",
    "        col_type = df[col].dtype\n",
    "        \n",
    "        if col_type != object:\n",
    "            c_min = df[col].min()\n",
    "            c_max = df[col].max()\n",
    "            if str(col_type)[:3] == \"int\":\n",
    "                if c_min > np.iinfo(np.int8).min and c_max < np.iinfo(np.int8).max:\n",
    "                    df[col] = df[col].astype(np.int8)\n",
    "                elif c_min > np.iinfo(np.int16).min and c_max < np.iinfo(np.int16).max:\n",
    "                    df[col] = df[col].astype(np.int16)\n",
    "                elif c_min > np.iinfo(np.int32).min and c_max < np.iinfo(np.int32).max:\n",
    "                    df[col] = df[col].astype(np.int32)\n",
    "                elif c_min > np.iinfo(np.int64).min and c_max < np.iinfo(np.int64).max:\n",
    "                    df[col] = df[col].astype(np.int64)  \n",
    "            else:\n",
    "                if use_float16 and c_min > np.finfo(np.float16).min and c_max < np.finfo(np.float16).max:\n",
    "                    df[col] = df[col].astype(np.float16)\n",
    "                elif c_min > np.finfo(np.float32).min and c_max < np.finfo(np.float32).max:\n",
    "                    df[col] = df[col].astype(np.float32)\n",
    "                else:\n",
    "                    df[col] = df[col].astype(np.float64)\n",
    "        else:\n",
    "            df[col] = df[col].astype(\"category\")\n",
    "\n",
    "    end_mem = df.memory_usage().sum() / 1024**2\n",
    "    print(\"Memory usage after optimization is: {:.2f} MB\".format(end_mem))\n",
    "    print(\"Decreased by {:.1f}%\".format(100 * (start_mem - end_mem) / start_mem))\n",
    "    \n",
    "    return df\n",
    "\n",
    "\n",
    "def features_engineering(df):\n",
    "    \n",
    "    # Sort by timestamp\n",
    "    df.sort_values(\"timestamp\")\n",
    "    df.reset_index(drop=True)\n",
    "    \n",
    "    # Add more features\n",
    "    df[\"timestamp\"] = pd.to_datetime(df[\"timestamp\"],format=\"%Y-%m-%d %H:%M:%S\")\n",
    "    df[\"hour\"] = df[\"timestamp\"].dt.hour\n",
    "    df[\"weekday\"] = df[\"timestamp\"].dt.weekday\n",
    "    \n",
    "    # Remove Unused Columns\n",
    "    drop = [\"timestamp\",\"sea_level_pressure\", \"wind_direction\", \"wind_speed\", \"precip_depth_1_hr\"]\n",
    "    df = df.drop(drop, axis=1)\n",
    "    gc.collect()\n",
    "    \n",
    "    return df\n",
    "\n",
    "\n",
    "def building_features(building_meta_df):\n",
    "    building_addfeatures = pd.read_feather('building_all_meters.feather')\n",
    "    \n",
    "    for col in building_meta_df.columns:\n",
    "        if col != 'timestamp':\n",
    "            if building_meta_df[col].isna().sum():\n",
    "                building_meta_df['na_'+col] = building_meta_df[col].isna().astype(int)\n",
    "\n",
    "    building_meta_df['build_na_total'] = building_meta_df.isna().sum(axis=1)\n",
    "\n",
    "    building_meta_df = pd.concat([building_meta_df, \n",
    "                                  building_addfeatures[['meter_reading_0', 'meter_reading_1', \n",
    "                                                        'meter_reading_2', 'meter_reading_3']]], axis=1)\n",
    "\n",
    "    from sklearn.preprocessing import LabelEncoder\n",
    "    le = LabelEncoder()\n",
    "    building_meta_df.primary_use = le.fit_transform(building_meta_df.primary_use)\n",
    "\n",
    "    building_meta_df['cnt_building_per_site'] = building_meta_df.groupby(['site_id']).building_id.transform(lambda x: x.size)\n",
    "    building_meta_df['cnt_building_per_site_prim'] = building_meta_df.groupby(['site_id', 'primary_use']).building_id.transform(lambda x: x.size)\n",
    "    building_meta_df['sqr_mean_per_site'] = building_meta_df.groupby(['site_id', ]).square_feet.transform('median')\n",
    "    building_meta_df['sqr_mean_per_prim_site'] = building_meta_df.groupby(['site_id', 'primary_use']).square_feet.transform('median')\n",
    "\n",
    "    return building_meta_df"
   ]
  },
  {
   "cell_type": "markdown",
   "metadata": {},
   "source": [
    "## Fill Weather Information\n"
   ]
  },
  {
   "cell_type": "code",
   "execution_count": 5,
   "metadata": {
    "ExecuteTime": {
     "end_time": "2020-06-19T09:46:17.015676Z",
     "start_time": "2020-06-19T09:46:13.718771Z"
    }
   },
   "outputs": [],
   "source": [
    "train_df = pd.read_feather(\"./train_cleanup_001.feather\")\n",
    "\n",
    "# Remove outliers\n",
    "train_df = train_df [ train_df['building_id'] != 1099 ]\n",
    "train_df = train_df.query('not (building_id <= 104 & meter == 0 & timestamp <= \"2016-05-20\")')\n",
    "\n",
    "building_df = pd.read_csv(DATA_PATH + 'building_metadata.csv')\n",
    "weather_trn = pd.read_csv(DATA_PATH + 'weather_train.csv')\n",
    "weather_tst = pd.read_csv(DATA_PATH + 'weather_test.csv')\n",
    "weather_df = pd.concat([weather_trn, weather_tst], axis=0)"
   ]
  },
  {
   "cell_type": "code",
   "execution_count": 6,
   "metadata": {
    "ExecuteTime": {
     "end_time": "2020-06-19T09:46:17.021047Z",
     "start_time": "2020-06-19T09:46:17.016992Z"
    }
   },
   "outputs": [
    {
     "data": {
      "text/plain": [
       "Index(['building_id', 'meter', 'timestamp', 'meter_reading'], dtype='object')"
      ]
     },
     "execution_count": 6,
     "metadata": {},
     "output_type": "execute_result"
    }
   ],
   "source": [
    "train_df.columns"
   ]
  },
  {
   "cell_type": "code",
   "execution_count": 7,
   "metadata": {
    "ExecuteTime": {
     "end_time": "2020-06-19T09:48:49.211977Z",
     "start_time": "2020-06-19T09:46:17.022128Z"
    }
   },
   "outputs": [
    {
     "name": "stderr",
     "output_type": "stream",
     "text": [
      "/home/ubuntu/anaconda3/envs/tensorflow_p36/lib/python3.6/site-packages/ipykernel_launcher.py:53: FutureWarning: Sorting because non-concatenation axis is not aligned. A future version\n",
      "of pandas will change to not sort by default.\n",
      "\n",
      "To accept the future behavior, pass 'sort=False'.\n",
      "\n",
      "To retain the current behavior and silence the warning, pass 'sort=True'.\n",
      "\n"
     ]
    },
    {
     "name": "stdout",
     "output_type": "stream",
     "text": [
      "add heat, RH...\n",
      "add lag features\n",
      "CPU times: user 2min 31s, sys: 1.15 s, total: 2min 32s\n",
      "Wall time: 2min 32s\n"
     ]
    }
   ],
   "source": [
    "%%time\n",
    "weather_df = fill_weather_dataset(weather_df)"
   ]
  },
  {
   "cell_type": "code",
   "execution_count": 8,
   "metadata": {
    "ExecuteTime": {
     "end_time": "2020-06-19T09:48:49.265688Z",
     "start_time": "2020-06-19T09:48:49.213901Z"
    }
   },
   "outputs": [],
   "source": [
    "building_df = building_features(building_df)"
   ]
  },
  {
   "cell_type": "markdown",
   "metadata": {},
   "source": [
    "## Merge Data\n",
    "\n",
    "We need to add building and weather information into training dataset."
   ]
  },
  {
   "cell_type": "code",
   "execution_count": 9,
   "metadata": {
    "ExecuteTime": {
     "end_time": "2020-06-19T09:48:51.384309Z",
     "start_time": "2020-06-19T09:48:49.267082Z"
    }
   },
   "outputs": [
    {
     "data": {
      "text/plain": [
       "building_id               int64\n",
       "meter                     int64\n",
       "timestamp        datetime64[ns]\n",
       "meter_reading           float64\n",
       "dtype: object"
      ]
     },
     "execution_count": 9,
     "metadata": {},
     "output_type": "execute_result"
    }
   ],
   "source": [
    "train_df[\"timestamp\"] = pd.to_datetime(train_df[\"timestamp\"])\n",
    "train_df.dtypes"
   ]
  },
  {
   "cell_type": "code",
   "execution_count": 10,
   "metadata": {
    "ExecuteTime": {
     "end_time": "2020-06-19T09:49:03.519156Z",
     "start_time": "2020-06-19T09:48:51.385557Z"
    }
   },
   "outputs": [
    {
     "data": {
      "text/plain": [
       "343"
      ]
     },
     "execution_count": 10,
     "metadata": {},
     "output_type": "execute_result"
    }
   ],
   "source": [
    "train_df = train_df.merge(building_df, left_on='building_id',right_on='building_id',how='left')\n",
    "# train_df[\"timestamp\"] = pd.to_datetime(train_df[\"timestamp\"])\n",
    "train_df = train_df.merge(weather_df,how='left',left_on=['site_id','timestamp'],right_on=['site_id','timestamp'])\n",
    "del weather_df\n",
    "gc.collect()"
   ]
  },
  {
   "cell_type": "markdown",
   "metadata": {},
   "source": [
    "## Features Engineering"
   ]
  },
  {
   "cell_type": "code",
   "execution_count": 11,
   "metadata": {
    "ExecuteTime": {
     "end_time": "2020-06-19T09:49:21.300469Z",
     "start_time": "2020-06-19T09:49:03.520248Z"
    }
   },
   "outputs": [],
   "source": [
    "train_df = features_engineering(train_df)"
   ]
  },
  {
   "cell_type": "code",
   "execution_count": 12,
   "metadata": {
    "ExecuteTime": {
     "end_time": "2020-06-19T09:49:39.470784Z",
     "start_time": "2020-06-19T09:49:21.301658Z"
    }
   },
   "outputs": [
    {
     "name": "stdout",
     "output_type": "stream",
     "text": [
      "Memory usage of dataframe is 4691.48 MB\n",
      "Memory usage after optimization is: 2064.25 MB\n",
      "Decreased by 56.0%\n",
      "Memory usage of dataframe is 0.19 MB\n",
      "Memory usage after optimization is: 0.06 MB\n",
      "Decreased by 66.1%\n"
     ]
    }
   ],
   "source": [
    "train_df = reduce_mem_usage(train_df,use_float16=False)\n",
    "building_df = reduce_mem_usage(building_df,use_float16=False)"
   ]
  },
  {
   "cell_type": "code",
   "execution_count": 13,
   "metadata": {
    "ExecuteTime": {
     "end_time": "2020-06-19T09:49:52.066348Z",
     "start_time": "2020-06-19T09:49:39.471986Z"
    }
   },
   "outputs": [],
   "source": [
    "train_df[\"square_feet\"] = train_df[\"square_feet\"].apply(lambda x: int(x/1000))\n",
    "train_df[\"meter_reading\"] = train_df[\"meter_reading\"].apply(lambda x: 0 if x<0 else x)"
   ]
  },
  {
   "cell_type": "code",
   "execution_count": null,
   "metadata": {},
   "outputs": [],
   "source": []
  },
  {
   "cell_type": "markdown",
   "metadata": {},
   "source": [
    "## Features & Target Variables"
   ]
  },
  {
   "cell_type": "code",
   "execution_count": 14,
   "metadata": {
    "ExecuteTime": {
     "end_time": "2020-06-19T09:49:52.070403Z",
     "start_time": "2020-06-19T09:49:52.067610Z"
    }
   },
   "outputs": [],
   "source": [
    "features0 = [#'building_id', 'meter', \n",
    "    'site_id', 'primary_use',\n",
    "       'square_feet', 'year_built',# 'floor_count', \n",
    "    'na_year_built',\n",
    "       #'na_floor_count', \n",
    "    'build_na_total', 'meter_reading_0',\n",
    "       #'meter_reading_1', \n",
    "    #'meter_reading_2', \n",
    "    'meter_reading_3',\n",
    "       'cnt_building_per_site', 'cnt_building_per_site_prim',\n",
    "       'sqr_mean_per_site', 'sqr_mean_per_prim_site', 'air_temperature',\n",
    "       'cloud_coverage', \n",
    "#     'dew_temperature', \n",
    "    'offset', 'RH', 'heat',\n",
    "       'windchill', 'feellike', 'air_temperature_mean_lag3',\n",
    "       #'dew_temperature_mean_lag3', \n",
    "    'heat_mean_lag3', 'windchill_mean_lag3',\n",
    "       #'feellike_mean_lag3', \n",
    "    'hour', 'weekday'\n",
    "    \n",
    "       ]"
   ]
  },
  {
   "cell_type": "code",
   "execution_count": 15,
   "metadata": {
    "ExecuteTime": {
     "end_time": "2020-06-19T09:49:52.074151Z",
     "start_time": "2020-06-19T09:49:52.071456Z"
    }
   },
   "outputs": [],
   "source": [
    "categorical_features0 = [#\"building_id\", 'meter', \n",
    "    'weekday', 'primary_use','site_id',]"
   ]
  },
  {
   "cell_type": "code",
   "execution_count": 16,
   "metadata": {
    "ExecuteTime": {
     "end_time": "2020-06-19T09:49:52.078911Z",
     "start_time": "2020-06-19T09:49:52.075226Z"
    }
   },
   "outputs": [
    {
     "data": {
      "text/plain": [
       "Index(['building_id', 'meter', 'meter_reading', 'site_id', 'primary_use',\n",
       "       'square_feet', 'year_built', 'floor_count', 'na_year_built',\n",
       "       'na_floor_count', 'build_na_total', 'meter_reading_0',\n",
       "       'meter_reading_1', 'meter_reading_2', 'meter_reading_3',\n",
       "       'cnt_building_per_site', 'cnt_building_per_site_prim',\n",
       "       'sqr_mean_per_site', 'sqr_mean_per_prim_site', 'air_temperature',\n",
       "       'cloud_coverage', 'dew_temperature', 'offset', 'RH', 'heat',\n",
       "       'windchill', 'feellike', 'air_temperature_mean_lag3',\n",
       "       'dew_temperature_mean_lag3', 'heat_mean_lag3', 'windchill_mean_lag3',\n",
       "       'feellike_mean_lag3', 'hour', 'weekday'],\n",
       "      dtype='object')"
      ]
     },
     "execution_count": 16,
     "metadata": {},
     "output_type": "execute_result"
    }
   ],
   "source": [
    "train_df.columns"
   ]
  },
  {
   "cell_type": "code",
   "execution_count": 17,
   "metadata": {
    "ExecuteTime": {
     "end_time": "2020-06-19T09:49:54.540345Z",
     "start_time": "2020-06-19T09:49:52.079917Z"
    }
   },
   "outputs": [],
   "source": [
    "train_df = train_df.reset_index(drop=True)"
   ]
  },
  {
   "cell_type": "code",
   "execution_count": 18,
   "metadata": {
    "ExecuteTime": {
     "end_time": "2020-06-19T09:57:23.652108Z",
     "start_time": "2020-06-19T09:49:54.541640Z"
    }
   },
   "outputs": [
    {
     "name": "stderr",
     "output_type": "stream",
     "text": [
      "/home/ubuntu/anaconda3/envs/tensorflow_p36/lib/python3.6/site-packages/lightgbm/basic.py:1291: UserWarning: Using categorical_feature in Dataset.\n",
      "  warnings.warn('Using categorical_feature in Dataset.')\n"
     ]
    },
    {
     "name": "stdout",
     "output_type": "stream",
     "text": [
      "Training until validation scores don't improve for 50 rounds\n",
      "[25]\ttraining's rmse: 0.932806\tvalid_1's rmse: 0.932856\n",
      "[50]\ttraining's rmse: 0.792529\tvalid_1's rmse: 0.804998\n",
      "[75]\ttraining's rmse: 0.739297\tvalid_1's rmse: 0.762331\n",
      "[100]\ttraining's rmse: 0.706194\tvalid_1's rmse: 0.739537\n",
      "[125]\ttraining's rmse: 0.685112\tvalid_1's rmse: 0.72792\n",
      "[150]\ttraining's rmse: 0.667371\tvalid_1's rmse: 0.716266\n",
      "[175]\ttraining's rmse: 0.653013\tvalid_1's rmse: 0.708648\n",
      "[200]\ttraining's rmse: 0.638841\tvalid_1's rmse: 0.702335\n",
      "[225]\ttraining's rmse: 0.625564\tvalid_1's rmse: 0.695866\n",
      "[250]\ttraining's rmse: 0.61244\tvalid_1's rmse: 0.688965\n",
      "[275]\ttraining's rmse: 0.601993\tvalid_1's rmse: 0.683507\n",
      "[300]\ttraining's rmse: 0.59262\tvalid_1's rmse: 0.681245\n",
      "[325]\ttraining's rmse: 0.583893\tvalid_1's rmse: 0.677497\n",
      "[350]\ttraining's rmse: 0.575992\tvalid_1's rmse: 0.675425\n",
      "[375]\ttraining's rmse: 0.568712\tvalid_1's rmse: 0.674156\n",
      "[400]\ttraining's rmse: 0.563476\tvalid_1's rmse: 0.671705\n",
      "[425]\ttraining's rmse: 0.558199\tvalid_1's rmse: 0.669453\n",
      "[450]\ttraining's rmse: 0.554137\tvalid_1's rmse: 0.668497\n",
      "[475]\ttraining's rmse: 0.549391\tvalid_1's rmse: 0.66729\n",
      "[500]\ttraining's rmse: 0.545194\tvalid_1's rmse: 0.665184\n",
      "[525]\ttraining's rmse: 0.541934\tvalid_1's rmse: 0.664891\n",
      "[550]\ttraining's rmse: 0.535628\tvalid_1's rmse: 0.661528\n",
      "[575]\ttraining's rmse: 0.532275\tvalid_1's rmse: 0.660028\n",
      "[600]\ttraining's rmse: 0.528798\tvalid_1's rmse: 0.658761\n",
      "[625]\ttraining's rmse: 0.52439\tvalid_1's rmse: 0.656301\n",
      "[650]\ttraining's rmse: 0.520424\tvalid_1's rmse: 0.655162\n",
      "[675]\ttraining's rmse: 0.515465\tvalid_1's rmse: 0.653057\n",
      "[700]\ttraining's rmse: 0.512099\tvalid_1's rmse: 0.651774\n",
      "[725]\ttraining's rmse: 0.508893\tvalid_1's rmse: 0.650079\n",
      "[750]\ttraining's rmse: 0.505803\tvalid_1's rmse: 0.648967\n",
      "[775]\ttraining's rmse: 0.502974\tvalid_1's rmse: 0.647967\n",
      "[800]\ttraining's rmse: 0.500381\tvalid_1's rmse: 0.646804\n",
      "[825]\ttraining's rmse: 0.497613\tvalid_1's rmse: 0.646125\n",
      "[850]\ttraining's rmse: 0.495085\tvalid_1's rmse: 0.646124\n",
      "[875]\ttraining's rmse: 0.49327\tvalid_1's rmse: 0.645207\n",
      "[900]\ttraining's rmse: 0.492012\tvalid_1's rmse: 0.644666\n",
      "[925]\ttraining's rmse: 0.49017\tvalid_1's rmse: 0.644024\n",
      "[950]\ttraining's rmse: 0.488118\tvalid_1's rmse: 0.643329\n",
      "[975]\ttraining's rmse: 0.485696\tvalid_1's rmse: 0.642897\n",
      "[1000]\ttraining's rmse: 0.483591\tvalid_1's rmse: 0.642401\n",
      "Did not meet early stopping. Best iteration is:\n",
      "[1000]\ttraining's rmse: 0.483591\tvalid_1's rmse: 0.642401\n",
      "Training until validation scores don't improve for 50 rounds\n",
      "[25]\ttraining's rmse: 0.919403\tvalid_1's rmse: 0.957544\n",
      "[50]\ttraining's rmse: 0.784512\tvalid_1's rmse: 0.828174\n",
      "[75]\ttraining's rmse: 0.735251\tvalid_1's rmse: 0.780732\n",
      "[100]\ttraining's rmse: 0.704553\tvalid_1's rmse: 0.752582\n",
      "[125]\ttraining's rmse: 0.684732\tvalid_1's rmse: 0.733849\n",
      "[150]\ttraining's rmse: 0.668139\tvalid_1's rmse: 0.718839\n",
      "[175]\ttraining's rmse: 0.656066\tvalid_1's rmse: 0.707787\n",
      "[200]\ttraining's rmse: 0.644247\tvalid_1's rmse: 0.696927\n",
      "[225]\ttraining's rmse: 0.631751\tvalid_1's rmse: 0.683631\n",
      "[250]\ttraining's rmse: 0.621587\tvalid_1's rmse: 0.6734\n",
      "[275]\ttraining's rmse: 0.612493\tvalid_1's rmse: 0.664887\n",
      "[300]\ttraining's rmse: 0.601816\tvalid_1's rmse: 0.655465\n",
      "[325]\ttraining's rmse: 0.593683\tvalid_1's rmse: 0.647818\n",
      "[350]\ttraining's rmse: 0.586964\tvalid_1's rmse: 0.640372\n",
      "[375]\ttraining's rmse: 0.581113\tvalid_1's rmse: 0.635186\n",
      "[400]\ttraining's rmse: 0.576002\tvalid_1's rmse: 0.629473\n",
      "[425]\ttraining's rmse: 0.570819\tvalid_1's rmse: 0.62456\n",
      "[450]\ttraining's rmse: 0.564997\tvalid_1's rmse: 0.619007\n",
      "[475]\ttraining's rmse: 0.560104\tvalid_1's rmse: 0.615042\n",
      "[500]\ttraining's rmse: 0.555171\tvalid_1's rmse: 0.609756\n",
      "[525]\ttraining's rmse: 0.550171\tvalid_1's rmse: 0.605313\n",
      "[550]\ttraining's rmse: 0.546455\tvalid_1's rmse: 0.600376\n",
      "[575]\ttraining's rmse: 0.54357\tvalid_1's rmse: 0.598087\n",
      "[600]\ttraining's rmse: 0.540415\tvalid_1's rmse: 0.595674\n",
      "[625]\ttraining's rmse: 0.536597\tvalid_1's rmse: 0.591965\n",
      "[650]\ttraining's rmse: 0.534146\tvalid_1's rmse: 0.589928\n",
      "[675]\ttraining's rmse: 0.531063\tvalid_1's rmse: 0.587455\n",
      "[700]\ttraining's rmse: 0.527572\tvalid_1's rmse: 0.583939\n",
      "[725]\ttraining's rmse: 0.524814\tvalid_1's rmse: 0.581634\n",
      "[750]\ttraining's rmse: 0.521877\tvalid_1's rmse: 0.578636\n",
      "[775]\ttraining's rmse: 0.518842\tvalid_1's rmse: 0.575542\n",
      "[800]\ttraining's rmse: 0.516092\tvalid_1's rmse: 0.573636\n",
      "[825]\ttraining's rmse: 0.513806\tvalid_1's rmse: 0.571871\n",
      "[850]\ttraining's rmse: 0.511136\tvalid_1's rmse: 0.569341\n",
      "[875]\ttraining's rmse: 0.508311\tvalid_1's rmse: 0.566742\n",
      "[900]\ttraining's rmse: 0.506469\tvalid_1's rmse: 0.565304\n",
      "[925]\ttraining's rmse: 0.504574\tvalid_1's rmse: 0.563639\n",
      "[950]\ttraining's rmse: 0.502655\tvalid_1's rmse: 0.561699\n",
      "[975]\ttraining's rmse: 0.500661\tvalid_1's rmse: 0.559949\n",
      "[1000]\ttraining's rmse: 0.499318\tvalid_1's rmse: 0.558487\n",
      "Did not meet early stopping. Best iteration is:\n",
      "[1000]\ttraining's rmse: 0.499318\tvalid_1's rmse: 0.558487\n",
      "Training until validation scores don't improve for 50 rounds\n",
      "[25]\ttraining's rmse: 0.927907\tvalid_1's rmse: 0.932223\n",
      "[50]\ttraining's rmse: 0.78724\tvalid_1's rmse: 0.803551\n",
      "[75]\ttraining's rmse: 0.733891\tvalid_1's rmse: 0.760519\n",
      "[100]\ttraining's rmse: 0.699907\tvalid_1's rmse: 0.735204\n",
      "[125]\ttraining's rmse: 0.678702\tvalid_1's rmse: 0.720752\n",
      "[150]\ttraining's rmse: 0.659597\tvalid_1's rmse: 0.70872\n",
      "[175]\ttraining's rmse: 0.644783\tvalid_1's rmse: 0.699557\n",
      "[200]\ttraining's rmse: 0.631131\tvalid_1's rmse: 0.691855\n",
      "[225]\ttraining's rmse: 0.617192\tvalid_1's rmse: 0.68391\n",
      "[250]\ttraining's rmse: 0.603534\tvalid_1's rmse: 0.677079\n",
      "[275]\ttraining's rmse: 0.592586\tvalid_1's rmse: 0.671779\n",
      "[300]\ttraining's rmse: 0.583244\tvalid_1's rmse: 0.66631\n",
      "[325]\ttraining's rmse: 0.575648\tvalid_1's rmse: 0.663139\n",
      "[350]\ttraining's rmse: 0.566232\tvalid_1's rmse: 0.658669\n",
      "[375]\ttraining's rmse: 0.559062\tvalid_1's rmse: 0.654775\n",
      "[400]\ttraining's rmse: 0.552063\tvalid_1's rmse: 0.650448\n",
      "[425]\ttraining's rmse: 0.545616\tvalid_1's rmse: 0.648202\n",
      "[450]\ttraining's rmse: 0.540531\tvalid_1's rmse: 0.645265\n",
      "[475]\ttraining's rmse: 0.536473\tvalid_1's rmse: 0.643087\n",
      "[500]\ttraining's rmse: 0.531162\tvalid_1's rmse: 0.640648\n",
      "[525]\ttraining's rmse: 0.525383\tvalid_1's rmse: 0.638141\n",
      "[550]\ttraining's rmse: 0.520901\tvalid_1's rmse: 0.635832\n",
      "[575]\ttraining's rmse: 0.517365\tvalid_1's rmse: 0.634568\n",
      "[600]\ttraining's rmse: 0.51284\tvalid_1's rmse: 0.632788\n",
      "[625]\ttraining's rmse: 0.509696\tvalid_1's rmse: 0.63141\n",
      "[650]\ttraining's rmse: 0.505805\tvalid_1's rmse: 0.62973\n",
      "[675]\ttraining's rmse: 0.50175\tvalid_1's rmse: 0.627918\n",
      "[700]\ttraining's rmse: 0.498101\tvalid_1's rmse: 0.626464\n",
      "[725]\ttraining's rmse: 0.49359\tvalid_1's rmse: 0.624356\n",
      "[750]\ttraining's rmse: 0.49098\tvalid_1's rmse: 0.624017\n",
      "[775]\ttraining's rmse: 0.487933\tvalid_1's rmse: 0.622365\n",
      "[800]\ttraining's rmse: 0.485205\tvalid_1's rmse: 0.62219\n",
      "[825]\ttraining's rmse: 0.482551\tvalid_1's rmse: 0.620651\n",
      "[850]\ttraining's rmse: 0.479821\tvalid_1's rmse: 0.619394\n",
      "[875]\ttraining's rmse: 0.477741\tvalid_1's rmse: 0.61845\n",
      "[900]\ttraining's rmse: 0.475836\tvalid_1's rmse: 0.617682\n",
      "[925]\ttraining's rmse: 0.473464\tvalid_1's rmse: 0.617297\n",
      "[950]\ttraining's rmse: 0.471056\tvalid_1's rmse: 0.616134\n",
      "[975]\ttraining's rmse: 0.468843\tvalid_1's rmse: 0.6154\n",
      "[1000]\ttraining's rmse: 0.467205\tvalid_1's rmse: 0.614616\n",
      "Did not meet early stopping. Best iteration is:\n",
      "[1000]\ttraining's rmse: 0.467205\tvalid_1's rmse: 0.614616\n"
     ]
    }
   ],
   "source": [
    "params = {\n",
    "    \"objective\": \"regression\",\n",
    "    \"boosting\": \"gbdt\",\n",
    "#     \"num_leaves\": 16,\n",
    "    \"learning_rate\": 0.05,\n",
    "    \"feature_fraction\": 0.85,\n",
    "    \"reg_lambda\": 2,\n",
    "    \"metric\": \"rmse\",\n",
    "#     'min_data_in_leaf' : 6000,\n",
    "}\n",
    "\n",
    "X_trn = train_df[train_df.meter==0].reset_index(drop=True)\n",
    "X_trn = X_trn[features0+[\"meter_reading\"]]\n",
    "\n",
    "target = np.log1p(X_trn[\"meter_reading\"])\n",
    "X_trn= X_trn.drop('meter_reading', axis = 1)\n",
    "\n",
    "kf = KFold(n_splits=3)\n",
    "models0 = []\n",
    "for train_index,test_index in kf.split(X_trn):\n",
    "    train_features = X_trn.loc[train_index]\n",
    "    train_target = target.loc[train_index]\n",
    "    \n",
    "    test_features = X_trn.loc[test_index]\n",
    "    test_target = target.loc[test_index]\n",
    "    \n",
    "    d_training = lgb.Dataset(train_features, label=train_target,categorical_feature=categorical_features0, free_raw_data=False)\n",
    "    d_test = lgb.Dataset(test_features, label=test_target,categorical_feature=categorical_features0, free_raw_data=False)\n",
    "    \n",
    "    model = lgb.train(params, train_set=d_training, num_boost_round=1000, valid_sets=[d_training,d_test], verbose_eval=25, early_stopping_rounds=50)\n",
    "    models0.append(model)\n",
    "    del train_features, train_target, test_features, test_target, d_training, d_test\n",
    "    gc.collect()"
   ]
  },
  {
   "cell_type": "code",
   "execution_count": 19,
   "metadata": {
    "ExecuteTime": {
     "end_time": "2020-06-19T09:57:23.671183Z",
     "start_time": "2020-06-19T09:57:23.653691Z"
    }
   },
   "outputs": [
    {
     "data": {
      "text/html": [
       "<div>\n",
       "<style scoped>\n",
       "    .dataframe tbody tr th:only-of-type {\n",
       "        vertical-align: middle;\n",
       "    }\n",
       "\n",
       "    .dataframe tbody tr th {\n",
       "        vertical-align: top;\n",
       "    }\n",
       "\n",
       "    .dataframe thead th {\n",
       "        text-align: right;\n",
       "    }\n",
       "</style>\n",
       "<table border=\"1\" class=\"dataframe\">\n",
       "  <thead>\n",
       "    <tr style=\"text-align: right;\">\n",
       "      <th></th>\n",
       "      <th>feature</th>\n",
       "      <th>importance</th>\n",
       "      <th>half</th>\n",
       "    </tr>\n",
       "  </thead>\n",
       "  <tbody>\n",
       "    <tr>\n",
       "      <th>2</th>\n",
       "      <td>square_feet</td>\n",
       "      <td>9363</td>\n",
       "      <td>1</td>\n",
       "    </tr>\n",
       "    <tr>\n",
       "      <th>3</th>\n",
       "      <td>year_built</td>\n",
       "      <td>4752</td>\n",
       "      <td>1</td>\n",
       "    </tr>\n",
       "    <tr>\n",
       "      <th>1</th>\n",
       "      <td>primary_use</td>\n",
       "      <td>2285</td>\n",
       "      <td>1</td>\n",
       "    </tr>\n",
       "    <tr>\n",
       "      <th>0</th>\n",
       "      <td>site_id</td>\n",
       "      <td>2126</td>\n",
       "      <td>1</td>\n",
       "    </tr>\n",
       "    <tr>\n",
       "      <th>9</th>\n",
       "      <td>cnt_building_per_site_prim</td>\n",
       "      <td>1648</td>\n",
       "      <td>1</td>\n",
       "    </tr>\n",
       "    <tr>\n",
       "      <th>22</th>\n",
       "      <td>hour</td>\n",
       "      <td>1633</td>\n",
       "      <td>1</td>\n",
       "    </tr>\n",
       "    <tr>\n",
       "      <th>11</th>\n",
       "      <td>sqr_mean_per_prim_site</td>\n",
       "      <td>1566</td>\n",
       "      <td>1</td>\n",
       "    </tr>\n",
       "    <tr>\n",
       "      <th>16</th>\n",
       "      <td>heat</td>\n",
       "      <td>753</td>\n",
       "      <td>1</td>\n",
       "    </tr>\n",
       "    <tr>\n",
       "      <th>8</th>\n",
       "      <td>cnt_building_per_site</td>\n",
       "      <td>650</td>\n",
       "      <td>1</td>\n",
       "    </tr>\n",
       "    <tr>\n",
       "      <th>12</th>\n",
       "      <td>air_temperature</td>\n",
       "      <td>634</td>\n",
       "      <td>1</td>\n",
       "    </tr>\n",
       "    <tr>\n",
       "      <th>20</th>\n",
       "      <td>heat_mean_lag3</td>\n",
       "      <td>616</td>\n",
       "      <td>1</td>\n",
       "    </tr>\n",
       "    <tr>\n",
       "      <th>23</th>\n",
       "      <td>weekday</td>\n",
       "      <td>498</td>\n",
       "      <td>1</td>\n",
       "    </tr>\n",
       "    <tr>\n",
       "      <th>15</th>\n",
       "      <td>RH</td>\n",
       "      <td>461</td>\n",
       "      <td>1</td>\n",
       "    </tr>\n",
       "    <tr>\n",
       "      <th>10</th>\n",
       "      <td>sqr_mean_per_site</td>\n",
       "      <td>416</td>\n",
       "      <td>1</td>\n",
       "    </tr>\n",
       "    <tr>\n",
       "      <th>19</th>\n",
       "      <td>air_temperature_mean_lag3</td>\n",
       "      <td>411</td>\n",
       "      <td>1</td>\n",
       "    </tr>\n",
       "    <tr>\n",
       "      <th>5</th>\n",
       "      <td>build_na_total</td>\n",
       "      <td>406</td>\n",
       "      <td>1</td>\n",
       "    </tr>\n",
       "    <tr>\n",
       "      <th>21</th>\n",
       "      <td>windchill_mean_lag3</td>\n",
       "      <td>394</td>\n",
       "      <td>1</td>\n",
       "    </tr>\n",
       "    <tr>\n",
       "      <th>18</th>\n",
       "      <td>feellike</td>\n",
       "      <td>355</td>\n",
       "      <td>1</td>\n",
       "    </tr>\n",
       "    <tr>\n",
       "      <th>7</th>\n",
       "      <td>meter_reading_3</td>\n",
       "      <td>279</td>\n",
       "      <td>1</td>\n",
       "    </tr>\n",
       "    <tr>\n",
       "      <th>17</th>\n",
       "      <td>windchill</td>\n",
       "      <td>278</td>\n",
       "      <td>1</td>\n",
       "    </tr>\n",
       "    <tr>\n",
       "      <th>13</th>\n",
       "      <td>cloud_coverage</td>\n",
       "      <td>218</td>\n",
       "      <td>1</td>\n",
       "    </tr>\n",
       "    <tr>\n",
       "      <th>14</th>\n",
       "      <td>offset</td>\n",
       "      <td>146</td>\n",
       "      <td>1</td>\n",
       "    </tr>\n",
       "    <tr>\n",
       "      <th>4</th>\n",
       "      <td>na_year_built</td>\n",
       "      <td>112</td>\n",
       "      <td>1</td>\n",
       "    </tr>\n",
       "    <tr>\n",
       "      <th>6</th>\n",
       "      <td>meter_reading_0</td>\n",
       "      <td>0</td>\n",
       "      <td>1</td>\n",
       "    </tr>\n",
       "  </tbody>\n",
       "</table>\n",
       "</div>"
      ],
      "text/plain": [
       "                       feature  importance  half\n",
       "2                  square_feet        9363     1\n",
       "3                   year_built        4752     1\n",
       "1                  primary_use        2285     1\n",
       "0                      site_id        2126     1\n",
       "9   cnt_building_per_site_prim        1648     1\n",
       "22                        hour        1633     1\n",
       "11      sqr_mean_per_prim_site        1566     1\n",
       "16                        heat         753     1\n",
       "8        cnt_building_per_site         650     1\n",
       "12             air_temperature         634     1\n",
       "20              heat_mean_lag3         616     1\n",
       "23                     weekday         498     1\n",
       "15                          RH         461     1\n",
       "10           sqr_mean_per_site         416     1\n",
       "19   air_temperature_mean_lag3         411     1\n",
       "5               build_na_total         406     1\n",
       "21         windchill_mean_lag3         394     1\n",
       "18                    feellike         355     1\n",
       "7              meter_reading_3         279     1\n",
       "17                   windchill         278     1\n",
       "13              cloud_coverage         218     1\n",
       "14                      offset         146     1\n",
       "4                na_year_built         112     1\n",
       "6              meter_reading_0           0     1"
      ]
     },
     "execution_count": 19,
     "metadata": {},
     "output_type": "execute_result"
    }
   ],
   "source": [
    "df_fimp_1 = pd.DataFrame()\n",
    "df_fimp_1[\"feature\"] = X_trn.columns.values\n",
    "df_fimp_1[\"importance\"] = models0[0].feature_importance()\n",
    "df_fimp_1[\"half\"] = 1\n",
    "df_fimp_1.sort_values(by='importance', ascending=False)\n",
    "# df_fimp_1.sort_values(by='importance', ascending=False).feature.values[:-10]"
   ]
  },
  {
   "cell_type": "code",
   "execution_count": 20,
   "metadata": {
    "ExecuteTime": {
     "end_time": "2020-06-19T09:57:24.542439Z",
     "start_time": "2020-06-19T09:57:23.672655Z"
    }
   },
   "outputs": [
    {
     "data": {
      "image/png": "[encoded data removed]",
      "text/plain": [
       "<Figure size 432x288 with 1 Axes>"
      ]
     },
     "metadata": {
      "needs_background": "light"
     },
     "output_type": "display_data"
    },
    {
     "data": {
      "image/png": "[encoded data removed]",
      "text/plain": [
       "<Figure size 432x288 with 1 Axes>"
      ]
     },
     "metadata": {
      "needs_background": "light"
     },
     "output_type": "display_data"
    },
    {
     "data": {
      "image/png": "[encoded data removed]",
      "text/plain": [
       "<Figure size 432x288 with 1 Axes>"
      ]
     },
     "metadata": {
      "needs_background": "light"
     },
     "output_type": "display_data"
    }
   ],
   "source": [
    "# %matplotlib inline\n",
    "for model in models0:\n",
    "    lgb.plot_importance(model)\n",
    "    plt.show()"
   ]
  },
  {
   "cell_type": "code",
   "execution_count": null,
   "metadata": {},
   "outputs": [],
   "source": []
  },
  {
   "cell_type": "code",
   "execution_count": null,
   "metadata": {},
   "outputs": [],
   "source": []
  },
  {
   "cell_type": "code",
   "execution_count": null,
   "metadata": {},
   "outputs": [],
   "source": []
  },
  {
   "cell_type": "code",
   "execution_count": null,
   "metadata": {},
   "outputs": [],
   "source": []
  },
  {
   "cell_type": "markdown",
   "metadata": {},
   "source": [
    "# meter =  1"
   ]
  },
  {
   "cell_type": "code",
   "execution_count": 21,
   "metadata": {
    "ExecuteTime": {
     "end_time": "2020-06-19T09:57:24.546417Z",
     "start_time": "2020-06-19T09:57:24.543654Z"
    }
   },
   "outputs": [],
   "source": [
    "features1 = [#'building_id', 'meter', \n",
    "    'site_id', 'primary_use',\n",
    "       'square_feet', 'year_built',# 'floor_count', \n",
    "    'na_year_built',\n",
    "       #'na_floor_count', \n",
    "    'build_na_total', 'meter_reading_0',\n",
    "       #'meter_reading_1', \n",
    "    #'meter_reading_2', \n",
    "    'meter_reading_3',\n",
    "       'cnt_building_per_site', \n",
    "    #'cnt_building_per_site_prim',\n",
    "       'sqr_mean_per_site', 'sqr_mean_per_prim_site', 'air_temperature',\n",
    "#        'cloud_coverage', \n",
    "#     'dew_temperature', \n",
    "    'offset', 'RH', \n",
    "    #'heat',\n",
    "      # 'windchill', \n",
    "    'feellike', 'air_temperature_mean_lag3',\n",
    "       #'dew_temperature_mean_lag3', \n",
    "#     'heat_mean_lag3', \n",
    "    'windchill_mean_lag3',\n",
    "       #'feellike_mean_lag3', \n",
    "    'hour', 'weekday'\n",
    "       ]"
   ]
  },
  {
   "cell_type": "code",
   "execution_count": 22,
   "metadata": {
    "ExecuteTime": {
     "end_time": "2020-06-19T09:57:24.551193Z",
     "start_time": "2020-06-19T09:57:24.547464Z"
    }
   },
   "outputs": [],
   "source": [
    "categorical_features1 = [#\"building_id\", 'meter', \n",
    "    'weekday', 'primary_use','site_id',]"
   ]
  },
  {
   "cell_type": "code",
   "execution_count": 23,
   "metadata": {
    "ExecuteTime": {
     "end_time": "2020-06-19T09:59:39.333986Z",
     "start_time": "2020-06-19T09:57:24.553889Z"
    }
   },
   "outputs": [
    {
     "name": "stdout",
     "output_type": "stream",
     "text": [
      "Training until validation scores don't improve for 50 rounds\n",
      "[25]\ttraining's rmse: 1.70591\tvalid_1's rmse: 1.88446\n",
      "[50]\ttraining's rmse: 1.51595\tvalid_1's rmse: 1.69348\n",
      "[75]\ttraining's rmse: 1.41747\tvalid_1's rmse: 1.60767\n",
      "[100]\ttraining's rmse: 1.36283\tvalid_1's rmse: 1.56238\n",
      "[125]\ttraining's rmse: 1.32304\tvalid_1's rmse: 1.52893\n",
      "[150]\ttraining's rmse: 1.29048\tvalid_1's rmse: 1.50433\n",
      "[175]\ttraining's rmse: 1.26646\tvalid_1's rmse: 1.48826\n",
      "[200]\ttraining's rmse: 1.24701\tvalid_1's rmse: 1.47497\n",
      "[225]\ttraining's rmse: 1.23172\tvalid_1's rmse: 1.46309\n",
      "[250]\ttraining's rmse: 1.21854\tvalid_1's rmse: 1.45261\n",
      "[275]\ttraining's rmse: 1.20515\tvalid_1's rmse: 1.44279\n",
      "[300]\ttraining's rmse: 1.19004\tvalid_1's rmse: 1.43089\n",
      "[325]\ttraining's rmse: 1.17911\tvalid_1's rmse: 1.42051\n",
      "[350]\ttraining's rmse: 1.16647\tvalid_1's rmse: 1.40803\n",
      "[375]\ttraining's rmse: 1.1565\tvalid_1's rmse: 1.39939\n",
      "[400]\ttraining's rmse: 1.14923\tvalid_1's rmse: 1.39349\n",
      "[425]\ttraining's rmse: 1.13985\tvalid_1's rmse: 1.38662\n",
      "[450]\ttraining's rmse: 1.13369\tvalid_1's rmse: 1.38201\n",
      "[475]\ttraining's rmse: 1.12592\tvalid_1's rmse: 1.37721\n",
      "[500]\ttraining's rmse: 1.11961\tvalid_1's rmse: 1.37304\n",
      "[525]\ttraining's rmse: 1.11183\tvalid_1's rmse: 1.36826\n",
      "[550]\ttraining's rmse: 1.10612\tvalid_1's rmse: 1.36552\n",
      "[575]\ttraining's rmse: 1.10044\tvalid_1's rmse: 1.36213\n",
      "[600]\ttraining's rmse: 1.09414\tvalid_1's rmse: 1.3585\n",
      "[625]\ttraining's rmse: 1.08906\tvalid_1's rmse: 1.3564\n",
      "[650]\ttraining's rmse: 1.08393\tvalid_1's rmse: 1.35391\n",
      "[675]\ttraining's rmse: 1.0787\tvalid_1's rmse: 1.35148\n",
      "[700]\ttraining's rmse: 1.073\tvalid_1's rmse: 1.34835\n",
      "[725]\ttraining's rmse: 1.06806\tvalid_1's rmse: 1.34526\n",
      "[750]\ttraining's rmse: 1.06343\tvalid_1's rmse: 1.34247\n",
      "[775]\ttraining's rmse: 1.05856\tvalid_1's rmse: 1.34048\n",
      "[800]\ttraining's rmse: 1.05538\tvalid_1's rmse: 1.33975\n",
      "[825]\ttraining's rmse: 1.05104\tvalid_1's rmse: 1.337\n",
      "[850]\ttraining's rmse: 1.04741\tvalid_1's rmse: 1.33512\n",
      "[875]\ttraining's rmse: 1.04381\tvalid_1's rmse: 1.33325\n",
      "[900]\ttraining's rmse: 1.04058\tvalid_1's rmse: 1.33233\n",
      "[925]\ttraining's rmse: 1.03692\tvalid_1's rmse: 1.33036\n",
      "[950]\ttraining's rmse: 1.03353\tvalid_1's rmse: 1.32953\n",
      "[975]\ttraining's rmse: 1.03116\tvalid_1's rmse: 1.32863\n",
      "[1000]\ttraining's rmse: 1.02784\tvalid_1's rmse: 1.32718\n",
      "Did not meet early stopping. Best iteration is:\n",
      "[1000]\ttraining's rmse: 1.02784\tvalid_1's rmse: 1.32718\n",
      "Training until validation scores don't improve for 50 rounds\n",
      "[25]\ttraining's rmse: 1.76581\tvalid_1's rmse: 1.82304\n",
      "[50]\ttraining's rmse: 1.56672\tvalid_1's rmse: 1.59945\n",
      "[75]\ttraining's rmse: 1.46876\tvalid_1's rmse: 1.50286\n",
      "[100]\ttraining's rmse: 1.41169\tvalid_1's rmse: 1.44609\n",
      "[125]\ttraining's rmse: 1.37254\tvalid_1's rmse: 1.41333\n",
      "[150]\ttraining's rmse: 1.34029\tvalid_1's rmse: 1.38993\n",
      "[175]\ttraining's rmse: 1.31371\tvalid_1's rmse: 1.36982\n",
      "[200]\ttraining's rmse: 1.2933\tvalid_1's rmse: 1.35873\n",
      "[225]\ttraining's rmse: 1.27408\tvalid_1's rmse: 1.34497\n",
      "[250]\ttraining's rmse: 1.25885\tvalid_1's rmse: 1.3308\n",
      "[275]\ttraining's rmse: 1.24619\tvalid_1's rmse: 1.3221\n",
      "[300]\ttraining's rmse: 1.23242\tvalid_1's rmse: 1.31102\n",
      "[325]\ttraining's rmse: 1.21922\tvalid_1's rmse: 1.30182\n",
      "[350]\ttraining's rmse: 1.20711\tvalid_1's rmse: 1.29375\n",
      "[375]\ttraining's rmse: 1.19782\tvalid_1's rmse: 1.28847\n",
      "[400]\ttraining's rmse: 1.18912\tvalid_1's rmse: 1.28514\n",
      "[425]\ttraining's rmse: 1.18211\tvalid_1's rmse: 1.28046\n",
      "[450]\ttraining's rmse: 1.17552\tvalid_1's rmse: 1.27793\n",
      "[475]\ttraining's rmse: 1.16646\tvalid_1's rmse: 1.27303\n",
      "[500]\ttraining's rmse: 1.15939\tvalid_1's rmse: 1.2676\n",
      "[525]\ttraining's rmse: 1.15107\tvalid_1's rmse: 1.26477\n",
      "[550]\ttraining's rmse: 1.14558\tvalid_1's rmse: 1.2606\n",
      "[575]\ttraining's rmse: 1.14066\tvalid_1's rmse: 1.25803\n",
      "[600]\ttraining's rmse: 1.13657\tvalid_1's rmse: 1.25452\n",
      "[625]\ttraining's rmse: 1.13074\tvalid_1's rmse: 1.25033\n",
      "[650]\ttraining's rmse: 1.12609\tvalid_1's rmse: 1.24736\n",
      "[675]\ttraining's rmse: 1.12168\tvalid_1's rmse: 1.24531\n",
      "[700]\ttraining's rmse: 1.11742\tvalid_1's rmse: 1.24303\n",
      "[725]\ttraining's rmse: 1.11263\tvalid_1's rmse: 1.23903\n",
      "[750]\ttraining's rmse: 1.10908\tvalid_1's rmse: 1.23732\n",
      "[775]\ttraining's rmse: 1.10505\tvalid_1's rmse: 1.23414\n",
      "[800]\ttraining's rmse: 1.10082\tvalid_1's rmse: 1.23101\n",
      "[825]\ttraining's rmse: 1.09781\tvalid_1's rmse: 1.22866\n",
      "[850]\ttraining's rmse: 1.09473\tvalid_1's rmse: 1.22637\n",
      "[875]\ttraining's rmse: 1.09188\tvalid_1's rmse: 1.22493\n",
      "[900]\ttraining's rmse: 1.08887\tvalid_1's rmse: 1.22248\n",
      "[925]\ttraining's rmse: 1.08593\tvalid_1's rmse: 1.22069\n",
      "[950]\ttraining's rmse: 1.08361\tvalid_1's rmse: 1.21961\n",
      "[975]\ttraining's rmse: 1.08076\tvalid_1's rmse: 1.21801\n",
      "[1000]\ttraining's rmse: 1.07858\tvalid_1's rmse: 1.21634\n",
      "Did not meet early stopping. Best iteration is:\n",
      "[1000]\ttraining's rmse: 1.07858\tvalid_1's rmse: 1.21634\n",
      "Training until validation scores don't improve for 50 rounds\n",
      "[25]\ttraining's rmse: 1.72106\tvalid_1's rmse: 1.79354\n",
      "[50]\ttraining's rmse: 1.5204\tvalid_1's rmse: 1.62572\n",
      "[75]\ttraining's rmse: 1.42032\tvalid_1's rmse: 1.54924\n",
      "[100]\ttraining's rmse: 1.36123\tvalid_1's rmse: 1.50415\n",
      "[125]\ttraining's rmse: 1.31671\tvalid_1's rmse: 1.47425\n",
      "[150]\ttraining's rmse: 1.2859\tvalid_1's rmse: 1.45509\n",
      "[175]\ttraining's rmse: 1.26055\tvalid_1's rmse: 1.43821\n",
      "[200]\ttraining's rmse: 1.23839\tvalid_1's rmse: 1.42479\n",
      "[225]\ttraining's rmse: 1.21887\tvalid_1's rmse: 1.41427\n",
      "[250]\ttraining's rmse: 1.20229\tvalid_1's rmse: 1.40379\n",
      "[275]\ttraining's rmse: 1.18599\tvalid_1's rmse: 1.39314\n",
      "[300]\ttraining's rmse: 1.17087\tvalid_1's rmse: 1.38518\n",
      "[325]\ttraining's rmse: 1.1564\tvalid_1's rmse: 1.37814\n",
      "[350]\ttraining's rmse: 1.14312\tvalid_1's rmse: 1.37121\n",
      "[375]\ttraining's rmse: 1.13165\tvalid_1's rmse: 1.36612\n",
      "[400]\ttraining's rmse: 1.11891\tvalid_1's rmse: 1.36065\n",
      "[425]\ttraining's rmse: 1.10956\tvalid_1's rmse: 1.35808\n",
      "[450]\ttraining's rmse: 1.09862\tvalid_1's rmse: 1.35289\n",
      "[475]\ttraining's rmse: 1.09075\tvalid_1's rmse: 1.34963\n",
      "[500]\ttraining's rmse: 1.08239\tvalid_1's rmse: 1.34676\n",
      "[525]\ttraining's rmse: 1.07329\tvalid_1's rmse: 1.34351\n",
      "[550]\ttraining's rmse: 1.0669\tvalid_1's rmse: 1.34212\n",
      "[575]\ttraining's rmse: 1.05906\tvalid_1's rmse: 1.33959\n",
      "[600]\ttraining's rmse: 1.05289\tvalid_1's rmse: 1.33795\n",
      "[625]\ttraining's rmse: 1.04731\tvalid_1's rmse: 1.33592\n",
      "[650]\ttraining's rmse: 1.04157\tvalid_1's rmse: 1.33411\n",
      "[675]\ttraining's rmse: 1.03599\tvalid_1's rmse: 1.33314\n",
      "[700]\ttraining's rmse: 1.03152\tvalid_1's rmse: 1.33163\n",
      "[725]\ttraining's rmse: 1.0264\tvalid_1's rmse: 1.33055\n",
      "[750]\ttraining's rmse: 1.02266\tvalid_1's rmse: 1.32911\n",
      "[775]\ttraining's rmse: 1.01827\tvalid_1's rmse: 1.32813\n",
      "[800]\ttraining's rmse: 1.01303\tvalid_1's rmse: 1.32722\n",
      "[825]\ttraining's rmse: 1.00895\tvalid_1's rmse: 1.32632\n",
      "[850]\ttraining's rmse: 1.00518\tvalid_1's rmse: 1.32506\n",
      "[875]\ttraining's rmse: 1.00098\tvalid_1's rmse: 1.32364\n",
      "[900]\ttraining's rmse: 0.997496\tvalid_1's rmse: 1.32258\n",
      "[925]\ttraining's rmse: 0.993778\tvalid_1's rmse: 1.32149\n",
      "[950]\ttraining's rmse: 0.990594\tvalid_1's rmse: 1.32074\n",
      "[975]\ttraining's rmse: 0.987921\tvalid_1's rmse: 1.31982\n",
      "[1000]\ttraining's rmse: 0.985215\tvalid_1's rmse: 1.319\n",
      "Did not meet early stopping. Best iteration is:\n",
      "[1000]\ttraining's rmse: 0.985215\tvalid_1's rmse: 1.319\n"
     ]
    }
   ],
   "source": [
    "params = {\n",
    "    \"objective\": \"regression\",\n",
    "    \"boosting\": \"gbdt\",\n",
    "#     \"num_leaves\": 16,\n",
    "    \"learning_rate\": 0.05,\n",
    "    \"feature_fraction\": 0.85,\n",
    "    \"reg_lambda\": 2,\n",
    "    \"metric\": \"rmse\",\n",
    "#     'min_data_in_leaf' : 6000,\n",
    "}\n",
    "\n",
    "X_trn = train_df[train_df.meter==1].reset_index(drop=True)\n",
    "X_trn = X_trn[features1+[\"meter_reading\"]]\n",
    "\n",
    "target = np.log1p(X_trn[\"meter_reading\"])\n",
    "X_trn= X_trn.drop('meter_reading', axis = 1)\n",
    "\n",
    "kf = KFold(n_splits=3)\n",
    "models1 = []\n",
    "for train_index,test_index in kf.split(X_trn):\n",
    "    train_features = X_trn.loc[train_index]\n",
    "    train_target = target.loc[train_index]\n",
    "    \n",
    "    test_features = X_trn.loc[test_index]\n",
    "    test_target = target.loc[test_index]\n",
    "    \n",
    "    d_training = lgb.Dataset(train_features, label=train_target,categorical_feature=categorical_features1, free_raw_data=False)\n",
    "    d_test = lgb.Dataset(test_features, label=test_target,categorical_feature=categorical_features1, free_raw_data=False)\n",
    "    \n",
    "    model = lgb.train(params, train_set=d_training, num_boost_round=1000, valid_sets=[d_training,d_test], verbose_eval=25, early_stopping_rounds=50)\n",
    "    models1.append(model)\n",
    "    del train_features, train_target, test_features, test_target, d_training, d_test\n",
    "    gc.collect()"
   ]
  },
  {
   "cell_type": "code",
   "execution_count": 24,
   "metadata": {
    "ExecuteTime": {
     "end_time": "2020-06-19T09:59:39.350875Z",
     "start_time": "2020-06-19T09:59:39.336308Z"
    }
   },
   "outputs": [
    {
     "data": {
      "text/html": [
       "<div>\n",
       "<style scoped>\n",
       "    .dataframe tbody tr th:only-of-type {\n",
       "        vertical-align: middle;\n",
       "    }\n",
       "\n",
       "    .dataframe tbody tr th {\n",
       "        vertical-align: top;\n",
       "    }\n",
       "\n",
       "    .dataframe thead th {\n",
       "        text-align: right;\n",
       "    }\n",
       "</style>\n",
       "<table border=\"1\" class=\"dataframe\">\n",
       "  <thead>\n",
       "    <tr style=\"text-align: right;\">\n",
       "      <th></th>\n",
       "      <th>feature</th>\n",
       "      <th>importance</th>\n",
       "      <th>half</th>\n",
       "    </tr>\n",
       "  </thead>\n",
       "  <tbody>\n",
       "    <tr>\n",
       "      <th>2</th>\n",
       "      <td>square_feet</td>\n",
       "      <td>9051</td>\n",
       "      <td>1</td>\n",
       "    </tr>\n",
       "    <tr>\n",
       "      <th>3</th>\n",
       "      <td>year_built</td>\n",
       "      <td>3564</td>\n",
       "      <td>1</td>\n",
       "    </tr>\n",
       "    <tr>\n",
       "      <th>11</th>\n",
       "      <td>air_temperature</td>\n",
       "      <td>2984</td>\n",
       "      <td>1</td>\n",
       "    </tr>\n",
       "    <tr>\n",
       "      <th>17</th>\n",
       "      <td>hour</td>\n",
       "      <td>2409</td>\n",
       "      <td>1</td>\n",
       "    </tr>\n",
       "    <tr>\n",
       "      <th>1</th>\n",
       "      <td>primary_use</td>\n",
       "      <td>1943</td>\n",
       "      <td>1</td>\n",
       "    </tr>\n",
       "    <tr>\n",
       "      <th>14</th>\n",
       "      <td>feellike</td>\n",
       "      <td>1558</td>\n",
       "      <td>1</td>\n",
       "    </tr>\n",
       "    <tr>\n",
       "      <th>0</th>\n",
       "      <td>site_id</td>\n",
       "      <td>1459</td>\n",
       "      <td>1</td>\n",
       "    </tr>\n",
       "    <tr>\n",
       "      <th>10</th>\n",
       "      <td>sqr_mean_per_prim_site</td>\n",
       "      <td>1334</td>\n",
       "      <td>1</td>\n",
       "    </tr>\n",
       "    <tr>\n",
       "      <th>15</th>\n",
       "      <td>air_temperature_mean_lag3</td>\n",
       "      <td>1288</td>\n",
       "      <td>1</td>\n",
       "    </tr>\n",
       "    <tr>\n",
       "      <th>13</th>\n",
       "      <td>RH</td>\n",
       "      <td>1007</td>\n",
       "      <td>1</td>\n",
       "    </tr>\n",
       "    <tr>\n",
       "      <th>8</th>\n",
       "      <td>cnt_building_per_site</td>\n",
       "      <td>733</td>\n",
       "      <td>1</td>\n",
       "    </tr>\n",
       "    <tr>\n",
       "      <th>18</th>\n",
       "      <td>weekday</td>\n",
       "      <td>716</td>\n",
       "      <td>1</td>\n",
       "    </tr>\n",
       "    <tr>\n",
       "      <th>16</th>\n",
       "      <td>windchill_mean_lag3</td>\n",
       "      <td>546</td>\n",
       "      <td>1</td>\n",
       "    </tr>\n",
       "    <tr>\n",
       "      <th>7</th>\n",
       "      <td>meter_reading_3</td>\n",
       "      <td>543</td>\n",
       "      <td>1</td>\n",
       "    </tr>\n",
       "    <tr>\n",
       "      <th>9</th>\n",
       "      <td>sqr_mean_per_site</td>\n",
       "      <td>388</td>\n",
       "      <td>1</td>\n",
       "    </tr>\n",
       "    <tr>\n",
       "      <th>6</th>\n",
       "      <td>meter_reading_0</td>\n",
       "      <td>201</td>\n",
       "      <td>1</td>\n",
       "    </tr>\n",
       "    <tr>\n",
       "      <th>5</th>\n",
       "      <td>build_na_total</td>\n",
       "      <td>107</td>\n",
       "      <td>1</td>\n",
       "    </tr>\n",
       "    <tr>\n",
       "      <th>4</th>\n",
       "      <td>na_year_built</td>\n",
       "      <td>86</td>\n",
       "      <td>1</td>\n",
       "    </tr>\n",
       "    <tr>\n",
       "      <th>12</th>\n",
       "      <td>offset</td>\n",
       "      <td>83</td>\n",
       "      <td>1</td>\n",
       "    </tr>\n",
       "  </tbody>\n",
       "</table>\n",
       "</div>"
      ],
      "text/plain": [
       "                      feature  importance  half\n",
       "2                 square_feet        9051     1\n",
       "3                  year_built        3564     1\n",
       "11            air_temperature        2984     1\n",
       "17                       hour        2409     1\n",
       "1                 primary_use        1943     1\n",
       "14                   feellike        1558     1\n",
       "0                     site_id        1459     1\n",
       "10     sqr_mean_per_prim_site        1334     1\n",
       "15  air_temperature_mean_lag3        1288     1\n",
       "13                         RH        1007     1\n",
       "8       cnt_building_per_site         733     1\n",
       "18                    weekday         716     1\n",
       "16        windchill_mean_lag3         546     1\n",
       "7             meter_reading_3         543     1\n",
       "9           sqr_mean_per_site         388     1\n",
       "6             meter_reading_0         201     1\n",
       "5              build_na_total         107     1\n",
       "4               na_year_built          86     1\n",
       "12                     offset          83     1"
      ]
     },
     "execution_count": 24,
     "metadata": {},
     "output_type": "execute_result"
    }
   ],
   "source": [
    "df_fimp_1 = pd.DataFrame()\n",
    "df_fimp_1[\"feature\"] = X_trn.columns.values\n",
    "df_fimp_1[\"importance\"] = models1[0].feature_importance()\n",
    "df_fimp_1[\"half\"] = 1\n",
    "df_fimp_1.sort_values(by='importance', ascending=False)\n",
    "# df_fimp_1.sort_values(by='importance', ascending=False).feature[:-10].values"
   ]
  },
  {
   "cell_type": "code",
   "execution_count": 25,
   "metadata": {
    "ExecuteTime": {
     "end_time": "2020-06-19T09:59:39.982028Z",
     "start_time": "2020-06-19T09:59:39.352414Z"
    }
   },
   "outputs": [
    {
     "data": {
      "image/png": "[encoded data removed]",
      "text/plain": [
       "<Figure size 432x288 with 1 Axes>"
      ]
     },
     "metadata": {
      "needs_background": "light"
     },
     "output_type": "display_data"
    },
    {
     "data": {
      "image/png": "[encoded data removed]",
      "text/plain": [
       "<Figure size 432x288 with 1 Axes>"
      ]
     },
     "metadata": {
      "needs_background": "light"
     },
     "output_type": "display_data"
    },
    {
     "data": {
      "image/png": "[encoded data removed]",
      "text/plain": [
       "<Figure size 432x288 with 1 Axes>"
      ]
     },
     "metadata": {
      "needs_background": "light"
     },
     "output_type": "display_data"
    }
   ],
   "source": [
    "# %matplotlib inline\n",
    "for model in models1:\n",
    "    lgb.plot_importance(model)\n",
    "    plt.show()"
   ]
  },
  {
   "cell_type": "code",
   "execution_count": null,
   "metadata": {},
   "outputs": [],
   "source": []
  },
  {
   "cell_type": "markdown",
   "metadata": {},
   "source": [
    "# meter 2"
   ]
  },
  {
   "cell_type": "code",
   "execution_count": 26,
   "metadata": {
    "ExecuteTime": {
     "end_time": "2020-06-19T09:59:39.985610Z",
     "start_time": "2020-06-19T09:59:39.983160Z"
    }
   },
   "outputs": [],
   "source": [
    "features2 = ['square_feet', 'year_built', 'primary_use', 'hour',\n",
    "       'dew_temperature_mean_lag3', 'heat', 'dew_temperature',\n",
    "       'cnt_building_per_site_prim', 'sqr_mean_per_prim_site',\n",
    "       'meter_reading_1', 'air_temperature', 'feellike', 'site_id',\n",
    "       'windchill', 'weekday', 'cnt_building_per_site', 'RH',\n",
    "       'meter_reading_0', 'heat_mean_lag3', 'windchill_mean_lag3',\n",
    "       'air_temperature_mean_lag3'\n",
    "       ]"
   ]
  },
  {
   "cell_type": "code",
   "execution_count": 27,
   "metadata": {
    "ExecuteTime": {
     "end_time": "2020-06-19T09:59:39.990553Z",
     "start_time": "2020-06-19T09:59:39.986662Z"
    }
   },
   "outputs": [],
   "source": [
    "categorical_features2 = [\"primary_use\", 'site_id',]"
   ]
  },
  {
   "cell_type": "code",
   "execution_count": 28,
   "metadata": {
    "ExecuteTime": {
     "end_time": "2020-06-19T10:01:01.875306Z",
     "start_time": "2020-06-19T09:59:39.991596Z"
    }
   },
   "outputs": [
    {
     "name": "stdout",
     "output_type": "stream",
     "text": [
      "Training until validation scores don't improve for 50 rounds\n",
      "[25]\ttraining's rmse: 1.87068\tvalid_1's rmse: 1.94007\n",
      "[50]\ttraining's rmse: 1.63043\tvalid_1's rmse: 1.79095\n",
      "[75]\ttraining's rmse: 1.50793\tvalid_1's rmse: 1.70609\n",
      "[100]\ttraining's rmse: 1.42589\tvalid_1's rmse: 1.64202\n",
      "[125]\ttraining's rmse: 1.3687\tvalid_1's rmse: 1.60539\n",
      "[150]\ttraining's rmse: 1.33599\tvalid_1's rmse: 1.58531\n",
      "[175]\ttraining's rmse: 1.3083\tvalid_1's rmse: 1.57016\n",
      "[200]\ttraining's rmse: 1.28797\tvalid_1's rmse: 1.55906\n",
      "[225]\ttraining's rmse: 1.26777\tvalid_1's rmse: 1.54774\n",
      "[250]\ttraining's rmse: 1.25011\tvalid_1's rmse: 1.53853\n",
      "[275]\ttraining's rmse: 1.23495\tvalid_1's rmse: 1.52975\n",
      "[300]\ttraining's rmse: 1.22312\tvalid_1's rmse: 1.52401\n",
      "[325]\ttraining's rmse: 1.2127\tvalid_1's rmse: 1.52025\n",
      "[350]\ttraining's rmse: 1.19967\tvalid_1's rmse: 1.51303\n",
      "[375]\ttraining's rmse: 1.1893\tvalid_1's rmse: 1.50949\n",
      "[400]\ttraining's rmse: 1.18153\tvalid_1's rmse: 1.50678\n",
      "[425]\ttraining's rmse: 1.17395\tvalid_1's rmse: 1.50359\n",
      "[450]\ttraining's rmse: 1.16721\tvalid_1's rmse: 1.50139\n",
      "[475]\ttraining's rmse: 1.16062\tvalid_1's rmse: 1.5\n",
      "[500]\ttraining's rmse: 1.15462\tvalid_1's rmse: 1.50003\n",
      "[525]\ttraining's rmse: 1.14772\tvalid_1's rmse: 1.49902\n",
      "[550]\ttraining's rmse: 1.14233\tvalid_1's rmse: 1.49891\n",
      "[575]\ttraining's rmse: 1.13735\tvalid_1's rmse: 1.49874\n",
      "[600]\ttraining's rmse: 1.13222\tvalid_1's rmse: 1.49758\n",
      "[625]\ttraining's rmse: 1.12804\tvalid_1's rmse: 1.49691\n",
      "[650]\ttraining's rmse: 1.12318\tvalid_1's rmse: 1.49693\n",
      "[675]\ttraining's rmse: 1.11832\tvalid_1's rmse: 1.49759\n",
      "Early stopping, best iteration is:\n",
      "[630]\ttraining's rmse: 1.12686\tvalid_1's rmse: 1.49653\n",
      "Training until validation scores don't improve for 50 rounds\n",
      "[25]\ttraining's rmse: 1.81798\tvalid_1's rmse: 2.18816\n",
      "[50]\ttraining's rmse: 1.61043\tvalid_1's rmse: 1.95003\n",
      "[75]\ttraining's rmse: 1.50089\tvalid_1's rmse: 1.83083\n",
      "[100]\ttraining's rmse: 1.42268\tvalid_1's rmse: 1.75235\n",
      "[125]\ttraining's rmse: 1.37677\tvalid_1's rmse: 1.69237\n",
      "[150]\ttraining's rmse: 1.34164\tvalid_1's rmse: 1.6465\n",
      "[175]\ttraining's rmse: 1.31609\tvalid_1's rmse: 1.61216\n",
      "[200]\ttraining's rmse: 1.29736\tvalid_1's rmse: 1.58719\n",
      "[225]\ttraining's rmse: 1.27945\tvalid_1's rmse: 1.56713\n",
      "[250]\ttraining's rmse: 1.26196\tvalid_1's rmse: 1.54839\n",
      "[275]\ttraining's rmse: 1.2488\tvalid_1's rmse: 1.53392\n",
      "[300]\ttraining's rmse: 1.23543\tvalid_1's rmse: 1.52116\n",
      "[325]\ttraining's rmse: 1.22167\tvalid_1's rmse: 1.50552\n",
      "[350]\ttraining's rmse: 1.21167\tvalid_1's rmse: 1.49431\n",
      "[375]\ttraining's rmse: 1.20157\tvalid_1's rmse: 1.48531\n",
      "[400]\ttraining's rmse: 1.19493\tvalid_1's rmse: 1.47647\n",
      "[425]\ttraining's rmse: 1.18764\tvalid_1's rmse: 1.47095\n",
      "[450]\ttraining's rmse: 1.18084\tvalid_1's rmse: 1.46413\n",
      "[475]\ttraining's rmse: 1.17427\tvalid_1's rmse: 1.45554\n",
      "[500]\ttraining's rmse: 1.1687\tvalid_1's rmse: 1.45012\n",
      "[525]\ttraining's rmse: 1.16319\tvalid_1's rmse: 1.44209\n",
      "[550]\ttraining's rmse: 1.15646\tvalid_1's rmse: 1.42967\n",
      "[575]\ttraining's rmse: 1.15024\tvalid_1's rmse: 1.42091\n",
      "[600]\ttraining's rmse: 1.14565\tvalid_1's rmse: 1.4162\n",
      "[625]\ttraining's rmse: 1.1418\tvalid_1's rmse: 1.41351\n",
      "[650]\ttraining's rmse: 1.13841\tvalid_1's rmse: 1.41111\n",
      "[675]\ttraining's rmse: 1.1348\tvalid_1's rmse: 1.40924\n",
      "[700]\ttraining's rmse: 1.13146\tvalid_1's rmse: 1.40725\n",
      "[725]\ttraining's rmse: 1.12789\tvalid_1's rmse: 1.40493\n",
      "[750]\ttraining's rmse: 1.12449\tvalid_1's rmse: 1.40273\n",
      "[775]\ttraining's rmse: 1.1214\tvalid_1's rmse: 1.40006\n",
      "[800]\ttraining's rmse: 1.11717\tvalid_1's rmse: 1.39602\n",
      "[825]\ttraining's rmse: 1.11403\tvalid_1's rmse: 1.39322\n",
      "[850]\ttraining's rmse: 1.11083\tvalid_1's rmse: 1.39101\n",
      "[875]\ttraining's rmse: 1.10837\tvalid_1's rmse: 1.38957\n",
      "[900]\ttraining's rmse: 1.1056\tvalid_1's rmse: 1.38726\n",
      "[925]\ttraining's rmse: 1.10326\tvalid_1's rmse: 1.38548\n",
      "[950]\ttraining's rmse: 1.10084\tvalid_1's rmse: 1.38424\n",
      "[975]\ttraining's rmse: 1.09786\tvalid_1's rmse: 1.38151\n",
      "[1000]\ttraining's rmse: 1.09531\tvalid_1's rmse: 1.38041\n",
      "Did not meet early stopping. Best iteration is:\n",
      "[1000]\ttraining's rmse: 1.09531\tvalid_1's rmse: 1.38041\n",
      "Training until validation scores don't improve for 50 rounds\n",
      "[25]\ttraining's rmse: 1.89247\tvalid_1's rmse: 1.90769\n",
      "[50]\ttraining's rmse: 1.65951\tvalid_1's rmse: 1.73086\n",
      "[75]\ttraining's rmse: 1.52773\tvalid_1's rmse: 1.6263\n",
      "[100]\ttraining's rmse: 1.44605\tvalid_1's rmse: 1.56986\n",
      "[125]\ttraining's rmse: 1.38624\tvalid_1's rmse: 1.52598\n",
      "[150]\ttraining's rmse: 1.3472\tvalid_1's rmse: 1.50898\n",
      "[175]\ttraining's rmse: 1.31753\tvalid_1's rmse: 1.49254\n",
      "[200]\ttraining's rmse: 1.29498\tvalid_1's rmse: 1.48394\n",
      "[225]\ttraining's rmse: 1.27318\tvalid_1's rmse: 1.47561\n",
      "[250]\ttraining's rmse: 1.2529\tvalid_1's rmse: 1.46707\n",
      "[275]\ttraining's rmse: 1.23217\tvalid_1's rmse: 1.46034\n",
      "[300]\ttraining's rmse: 1.216\tvalid_1's rmse: 1.45682\n",
      "[325]\ttraining's rmse: 1.20648\tvalid_1's rmse: 1.45564\n",
      "[350]\ttraining's rmse: 1.19586\tvalid_1's rmse: 1.45397\n",
      "[375]\ttraining's rmse: 1.18571\tvalid_1's rmse: 1.45351\n",
      "[400]\ttraining's rmse: 1.17492\tvalid_1's rmse: 1.45288\n",
      "[425]\ttraining's rmse: 1.16538\tvalid_1's rmse: 1.45241\n",
      "[450]\ttraining's rmse: 1.15429\tvalid_1's rmse: 1.45535\n",
      "Early stopping, best iteration is:\n",
      "[424]\ttraining's rmse: 1.16597\tvalid_1's rmse: 1.45172\n"
     ]
    }
   ],
   "source": [
    "params = {\n",
    "    \"objective\": \"regression\",\n",
    "    \"boosting\": \"gbdt\",\n",
    "#     \"num_leaves\": 16,\n",
    "    \"learning_rate\": 0.05,\n",
    "    \"feature_fraction\": 1,\n",
    "#     \"reg_lambda\": 2,\n",
    "    \"metric\": \"rmse\",\n",
    "#     'min_data_in_leaf' : 6000,\n",
    "}\n",
    "\n",
    "X_trn = train_df[train_df.meter==2].reset_index(drop=True)\n",
    "X_trn = X_trn[features2+[\"meter_reading\"]]\n",
    "\n",
    "target = np.log1p(X_trn[\"meter_reading\"])\n",
    "X_trn= X_trn.drop('meter_reading', axis = 1)\n",
    "\n",
    "kf = KFold(n_splits=3)\n",
    "models2 = []\n",
    "for train_index,test_index in kf.split(X_trn):\n",
    "    train_features = X_trn.loc[train_index]\n",
    "    train_target = target.loc[train_index]\n",
    "    \n",
    "    test_features = X_trn.loc[test_index]\n",
    "    test_target = target.loc[test_index]\n",
    "    \n",
    "    d_training = lgb.Dataset(train_features, label=train_target,categorical_feature=categorical_features2, free_raw_data=False)\n",
    "    d_test = lgb.Dataset(test_features, label=test_target,categorical_feature=categorical_features2, free_raw_data=False)\n",
    "    \n",
    "    model = lgb.train(params, train_set=d_training, num_boost_round=1000, valid_sets=[d_training,d_test], verbose_eval=25, early_stopping_rounds=50)\n",
    "    models2.append(model)\n",
    "    del train_features, train_target, test_features, test_target, d_training, d_test\n",
    "    gc.collect()"
   ]
  },
  {
   "cell_type": "code",
   "execution_count": 29,
   "metadata": {
    "ExecuteTime": {
     "end_time": "2020-06-19T10:01:02.686720Z",
     "start_time": "2020-06-19T10:01:01.876915Z"
    }
   },
   "outputs": [
    {
     "data": {
      "image/png": "[encoded data removed]",
      "text/plain": [
       "<Figure size 432x288 with 1 Axes>"
      ]
     },
     "metadata": {
      "needs_background": "light"
     },
     "output_type": "display_data"
    },
    {
     "data": {
      "image/png": "[encoded data removed]",
      "text/plain": [
       "<Figure size 432x288 with 1 Axes>"
      ]
     },
     "metadata": {
      "needs_background": "light"
     },
     "output_type": "display_data"
    },
    {
     "data": {
      "image/png": "[encoded data removed]",
      "text/plain": [
       "<Figure size 432x288 with 1 Axes>"
      ]
     },
     "metadata": {
      "needs_background": "light"
     },
     "output_type": "display_data"
    }
   ],
   "source": [
    "# %matplotlib inline\n",
    "for model in models2:\n",
    "    lgb.plot_importance(model)\n",
    "    plt.show()"
   ]
  },
  {
   "cell_type": "code",
   "execution_count": 30,
   "metadata": {
    "ExecuteTime": {
     "end_time": "2020-06-19T10:01:02.698436Z",
     "start_time": "2020-06-19T10:01:02.687879Z"
    }
   },
   "outputs": [
    {
     "data": {
      "text/html": [
       "<div>\n",
       "<style scoped>\n",
       "    .dataframe tbody tr th:only-of-type {\n",
       "        vertical-align: middle;\n",
       "    }\n",
       "\n",
       "    .dataframe tbody tr th {\n",
       "        vertical-align: top;\n",
       "    }\n",
       "\n",
       "    .dataframe thead th {\n",
       "        text-align: right;\n",
       "    }\n",
       "</style>\n",
       "<table border=\"1\" class=\"dataframe\">\n",
       "  <thead>\n",
       "    <tr style=\"text-align: right;\">\n",
       "      <th></th>\n",
       "      <th>feature</th>\n",
       "      <th>importance</th>\n",
       "      <th>half</th>\n",
       "    </tr>\n",
       "  </thead>\n",
       "  <tbody>\n",
       "    <tr>\n",
       "      <th>0</th>\n",
       "      <td>square_feet</td>\n",
       "      <td>7158</td>\n",
       "      <td>1</td>\n",
       "    </tr>\n",
       "    <tr>\n",
       "      <th>1</th>\n",
       "      <td>year_built</td>\n",
       "      <td>1301</td>\n",
       "      <td>1</td>\n",
       "    </tr>\n",
       "    <tr>\n",
       "      <th>2</th>\n",
       "      <td>primary_use</td>\n",
       "      <td>1135</td>\n",
       "      <td>1</td>\n",
       "    </tr>\n",
       "    <tr>\n",
       "      <th>7</th>\n",
       "      <td>cnt_building_per_site_prim</td>\n",
       "      <td>986</td>\n",
       "      <td>1</td>\n",
       "    </tr>\n",
       "    <tr>\n",
       "      <th>3</th>\n",
       "      <td>hour</td>\n",
       "      <td>934</td>\n",
       "      <td>1</td>\n",
       "    </tr>\n",
       "    <tr>\n",
       "      <th>5</th>\n",
       "      <td>heat</td>\n",
       "      <td>806</td>\n",
       "      <td>1</td>\n",
       "    </tr>\n",
       "    <tr>\n",
       "      <th>4</th>\n",
       "      <td>dew_temperature_mean_lag3</td>\n",
       "      <td>781</td>\n",
       "      <td>1</td>\n",
       "    </tr>\n",
       "    <tr>\n",
       "      <th>6</th>\n",
       "      <td>dew_temperature</td>\n",
       "      <td>707</td>\n",
       "      <td>1</td>\n",
       "    </tr>\n",
       "    <tr>\n",
       "      <th>8</th>\n",
       "      <td>sqr_mean_per_prim_site</td>\n",
       "      <td>647</td>\n",
       "      <td>1</td>\n",
       "    </tr>\n",
       "    <tr>\n",
       "      <th>12</th>\n",
       "      <td>site_id</td>\n",
       "      <td>572</td>\n",
       "      <td>1</td>\n",
       "    </tr>\n",
       "    <tr>\n",
       "      <th>10</th>\n",
       "      <td>air_temperature</td>\n",
       "      <td>513</td>\n",
       "      <td>1</td>\n",
       "    </tr>\n",
       "    <tr>\n",
       "      <th>9</th>\n",
       "      <td>meter_reading_1</td>\n",
       "      <td>512</td>\n",
       "      <td>1</td>\n",
       "    </tr>\n",
       "    <tr>\n",
       "      <th>11</th>\n",
       "      <td>feellike</td>\n",
       "      <td>411</td>\n",
       "      <td>1</td>\n",
       "    </tr>\n",
       "    <tr>\n",
       "      <th>13</th>\n",
       "      <td>windchill</td>\n",
       "      <td>362</td>\n",
       "      <td>1</td>\n",
       "    </tr>\n",
       "    <tr>\n",
       "      <th>14</th>\n",
       "      <td>weekday</td>\n",
       "      <td>318</td>\n",
       "      <td>1</td>\n",
       "    </tr>\n",
       "    <tr>\n",
       "      <th>20</th>\n",
       "      <td>air_temperature_mean_lag3</td>\n",
       "      <td>316</td>\n",
       "      <td>1</td>\n",
       "    </tr>\n",
       "    <tr>\n",
       "      <th>18</th>\n",
       "      <td>heat_mean_lag3</td>\n",
       "      <td>315</td>\n",
       "      <td>1</td>\n",
       "    </tr>\n",
       "    <tr>\n",
       "      <th>16</th>\n",
       "      <td>RH</td>\n",
       "      <td>313</td>\n",
       "      <td>1</td>\n",
       "    </tr>\n",
       "    <tr>\n",
       "      <th>19</th>\n",
       "      <td>windchill_mean_lag3</td>\n",
       "      <td>294</td>\n",
       "      <td>1</td>\n",
       "    </tr>\n",
       "    <tr>\n",
       "      <th>17</th>\n",
       "      <td>meter_reading_0</td>\n",
       "      <td>261</td>\n",
       "      <td>1</td>\n",
       "    </tr>\n",
       "    <tr>\n",
       "      <th>15</th>\n",
       "      <td>cnt_building_per_site</td>\n",
       "      <td>258</td>\n",
       "      <td>1</td>\n",
       "    </tr>\n",
       "  </tbody>\n",
       "</table>\n",
       "</div>"
      ],
      "text/plain": [
       "                       feature  importance  half\n",
       "0                  square_feet        7158     1\n",
       "1                   year_built        1301     1\n",
       "2                  primary_use        1135     1\n",
       "7   cnt_building_per_site_prim         986     1\n",
       "3                         hour         934     1\n",
       "5                         heat         806     1\n",
       "4    dew_temperature_mean_lag3         781     1\n",
       "6              dew_temperature         707     1\n",
       "8       sqr_mean_per_prim_site         647     1\n",
       "12                     site_id         572     1\n",
       "10             air_temperature         513     1\n",
       "9              meter_reading_1         512     1\n",
       "11                    feellike         411     1\n",
       "13                   windchill         362     1\n",
       "14                     weekday         318     1\n",
       "20   air_temperature_mean_lag3         316     1\n",
       "18              heat_mean_lag3         315     1\n",
       "16                          RH         313     1\n",
       "19         windchill_mean_lag3         294     1\n",
       "17             meter_reading_0         261     1\n",
       "15       cnt_building_per_site         258     1"
      ]
     },
     "execution_count": 30,
     "metadata": {},
     "output_type": "execute_result"
    }
   ],
   "source": [
    "df_fimp_1 = pd.DataFrame()\n",
    "df_fimp_1[\"feature\"] = X_trn.columns.values\n",
    "df_fimp_1[\"importance\"] = models2[0].feature_importance()\n",
    "df_fimp_1[\"half\"] = 1\n",
    "df_fimp_1.sort_values(by='importance', ascending=False)\n"
   ]
  },
  {
   "cell_type": "code",
   "execution_count": 31,
   "metadata": {
    "ExecuteTime": {
     "end_time": "2020-06-19T10:01:02.703578Z",
     "start_time": "2020-06-19T10:01:02.699453Z"
    }
   },
   "outputs": [
    {
     "data": {
      "text/plain": [
       "array(['square_feet', 'year_built', 'primary_use',\n",
       "       'cnt_building_per_site_prim', 'hour', 'heat',\n",
       "       'dew_temperature_mean_lag3', 'dew_temperature',\n",
       "       'sqr_mean_per_prim_site', 'site_id', 'air_temperature'],\n",
       "      dtype=object)"
      ]
     },
     "execution_count": 31,
     "metadata": {},
     "output_type": "execute_result"
    }
   ],
   "source": [
    "df_fimp_1.sort_values(by='importance', ascending=False).feature[:-10].values"
   ]
  },
  {
   "cell_type": "code",
   "execution_count": null,
   "metadata": {},
   "outputs": [],
   "source": []
  },
  {
   "cell_type": "code",
   "execution_count": null,
   "metadata": {},
   "outputs": [],
   "source": []
  },
  {
   "cell_type": "code",
   "execution_count": 32,
   "metadata": {
    "ExecuteTime": {
     "end_time": "2020-06-19T10:01:02.707658Z",
     "start_time": "2020-06-19T10:01:02.704657Z"
    }
   },
   "outputs": [],
   "source": [
    "features3 = ['square_feet', 'year_built', 'primary_use', 'hour',\n",
    "       'dew_temperature_mean_lag3', 'heat', 'dew_temperature',\n",
    "       'cnt_building_per_site_prim', 'sqr_mean_per_prim_site',\n",
    "       'meter_reading_1', 'air_temperature', 'feellike', 'site_id',\n",
    "       'windchill', 'weekday', 'cnt_building_per_site', 'RH',\n",
    "       'meter_reading_0', 'heat_mean_lag3', 'windchill_mean_lag3',\n",
    "       'air_temperature_mean_lag3'\n",
    "       ]"
   ]
  },
  {
   "cell_type": "code",
   "execution_count": 33,
   "metadata": {
    "ExecuteTime": {
     "end_time": "2020-06-19T10:01:02.711301Z",
     "start_time": "2020-06-19T10:01:02.708758Z"
    }
   },
   "outputs": [],
   "source": [
    "categorical_features3 = ['primary_use', 'weekday']"
   ]
  },
  {
   "cell_type": "code",
   "execution_count": 34,
   "metadata": {
    "ExecuteTime": {
     "end_time": "2020-06-19T10:01:32.819589Z",
     "start_time": "2020-06-19T10:01:02.712351Z"
    }
   },
   "outputs": [
    {
     "name": "stdout",
     "output_type": "stream",
     "text": [
      "Training until validation scores don't improve for 50 rounds\n",
      "[25]\ttraining's rmse: 1.3312\tvalid_1's rmse: 1.73541\n",
      "[50]\ttraining's rmse: 1.1112\tvalid_1's rmse: 1.66705\n",
      "[75]\ttraining's rmse: 1.0441\tvalid_1's rmse: 1.66969\n",
      "[100]\ttraining's rmse: 1.00225\tvalid_1's rmse: 1.67358\n",
      "Early stopping, best iteration is:\n",
      "[57]\ttraining's rmse: 1.0873\tvalid_1's rmse: 1.66589\n",
      "Training until validation scores don't improve for 50 rounds\n",
      "[25]\ttraining's rmse: 1.38938\tvalid_1's rmse: 1.53543\n",
      "[50]\ttraining's rmse: 1.17652\tvalid_1's rmse: 1.41335\n",
      "[75]\ttraining's rmse: 1.10455\tvalid_1's rmse: 1.40606\n",
      "[100]\ttraining's rmse: 1.05851\tvalid_1's rmse: 1.40726\n",
      "[125]\ttraining's rmse: 1.02161\tvalid_1's rmse: 1.40808\n",
      "Early stopping, best iteration is:\n",
      "[76]\ttraining's rmse: 1.10204\tvalid_1's rmse: 1.40604\n",
      "Training until validation scores don't improve for 50 rounds\n",
      "[25]\ttraining's rmse: 1.28643\tvalid_1's rmse: 1.72182\n",
      "[50]\ttraining's rmse: 1.05461\tvalid_1's rmse: 1.66827\n",
      "[75]\ttraining's rmse: 0.985236\tvalid_1's rmse: 1.67745\n",
      "Early stopping, best iteration is:\n",
      "[48]\ttraining's rmse: 1.06326\tvalid_1's rmse: 1.66801\n"
     ]
    }
   ],
   "source": [
    "params = {\n",
    "    \"objective\": \"regression\",\n",
    "    \"boosting\": \"gbdt\",\n",
    "#     \"num_leaves\": 1280,\n",
    "    \"learning_rate\": 0.05,\n",
    "#     \"feature_fraction\": 0.85,\n",
    "    \"reg_lambda\": 2,\n",
    "    \"metric\": \"rmse\",\n",
    "    \"num_leaves\": 1280,\n",
    "}\n",
    "\n",
    "X_trn = train_df[train_df.meter==3].reset_index(drop=True)\n",
    "X_trn = X_trn[features3+[\"meter_reading\"]]\n",
    "\n",
    "target = np.log1p(X_trn[\"meter_reading\"])\n",
    "X_trn= X_trn.drop('meter_reading', axis = 1)\n",
    "\n",
    "kf = KFold(n_splits=3)\n",
    "models3 = []\n",
    "for train_index,test_index in kf.split(X_trn):\n",
    "    train_features = X_trn.loc[train_index]\n",
    "    train_target = target.loc[train_index]\n",
    "    \n",
    "    test_features = X_trn.loc[test_index]\n",
    "    test_target = target.loc[test_index]\n",
    "    \n",
    "    d_training = lgb.Dataset(train_features, label=train_target,categorical_feature=categorical_features3, free_raw_data=False)\n",
    "    d_test = lgb.Dataset(test_features, label=test_target,categorical_feature=categorical_features3, free_raw_data=False)\n",
    "    \n",
    "    model = lgb.train(params, train_set=d_training, num_boost_round=1000, valid_sets=[d_training,d_test], verbose_eval=25, early_stopping_rounds=50)\n",
    "    models3.append(model)\n",
    "    del train_features, train_target, test_features, test_target, d_training, d_test\n",
    "    gc.collect()"
   ]
  },
  {
   "cell_type": "code",
   "execution_count": 35,
   "metadata": {
    "ExecuteTime": {
     "end_time": "2020-06-19T10:01:33.548821Z",
     "start_time": "2020-06-19T10:01:32.821154Z"
    }
   },
   "outputs": [
    {
     "data": {
      "image/png": "[encoded data removed]",
      "text/plain": [
       "<Figure size 432x288 with 1 Axes>"
      ]
     },
     "metadata": {
      "needs_background": "light"
     },
     "output_type": "display_data"
    },
    {
     "data": {
      "image/png": "[encoded data removed]",
      "text/plain": [
       "<Figure size 432x288 with 1 Axes>"
      ]
     },
     "metadata": {
      "needs_background": "light"
     },
     "output_type": "display_data"
    },
    {
     "data": {
      "image/png": "[encoded data removed]",
      "text/plain": [
       "<Figure size 432x288 with 1 Axes>"
      ]
     },
     "metadata": {
      "needs_background": "light"
     },
     "output_type": "display_data"
    }
   ],
   "source": [
    "# %matplotlib inline\n",
    "for model in models3:\n",
    "    lgb.plot_importance(model)\n",
    "    plt.show()"
   ]
  },
  {
   "cell_type": "code",
   "execution_count": 36,
   "metadata": {
    "ExecuteTime": {
     "end_time": "2020-06-19T10:01:33.557948Z",
     "start_time": "2020-06-19T10:01:33.549970Z"
    }
   },
   "outputs": [
    {
     "data": {
      "text/plain": [
       "array(['square_feet', 'dew_temperature_mean_lag3', 'hour',\n",
       "       'dew_temperature', 'windchill_mean_lag3', 'heat', 'windchill',\n",
       "       'RH', 'weekday', 'heat_mean_lag3', 'air_temperature_mean_lag3'],\n",
       "      dtype=object)"
      ]
     },
     "execution_count": 36,
     "metadata": {},
     "output_type": "execute_result"
    }
   ],
   "source": [
    "df_fimp_1 = pd.DataFrame()\n",
    "df_fimp_1[\"feature\"] = X_trn.columns.values\n",
    "df_fimp_1[\"importance\"] = models3[0].feature_importance()\n",
    "df_fimp_1[\"half\"] = 1\n",
    "df_fimp_1.sort_values(by='importance', ascending=False)\n",
    "df_fimp_1.sort_values(by='importance', ascending=False).feature[:-10].values"
   ]
  },
  {
   "cell_type": "code",
   "execution_count": 37,
   "metadata": {
    "ExecuteTime": {
     "end_time": "2020-06-19T10:01:33.562518Z",
     "start_time": "2020-06-19T10:01:33.558995Z"
    }
   },
   "outputs": [
    {
     "data": {
      "text/plain": [
       "1"
      ]
     },
     "execution_count": 37,
     "metadata": {},
     "output_type": "execute_result"
    }
   ],
   "source": [
    "1"
   ]
  },
  {
   "cell_type": "code",
   "execution_count": null,
   "metadata": {},
   "outputs": [],
   "source": []
  },
  {
   "cell_type": "code",
   "execution_count": null,
   "metadata": {},
   "outputs": [],
   "source": []
  },
  {
   "cell_type": "markdown",
   "metadata": {},
   "source": [
    "## Load Test Data"
   ]
  },
  {
   "cell_type": "code",
   "execution_count": 38,
   "metadata": {
    "ExecuteTime": {
     "end_time": "2020-06-19T10:01:46.127571Z",
     "start_time": "2020-06-19T10:01:33.563542Z"
    }
   },
   "outputs": [],
   "source": [
    "test_df = pd.read_csv('test.csv')\n",
    "row_ids = test_df[\"row_id\"]\n",
    "test_df.drop(\"row_id\", axis=1, inplace=True)\n",
    "#test_df = reduce_mem_usage(test_df)"
   ]
  },
  {
   "cell_type": "markdown",
   "metadata": {},
   "source": [
    "## Merge Building Data"
   ]
  },
  {
   "cell_type": "code",
   "execution_count": 39,
   "metadata": {
    "ExecuteTime": {
     "end_time": "2020-06-19T10:01:54.877781Z",
     "start_time": "2020-06-19T10:01:46.128837Z"
    }
   },
   "outputs": [
    {
     "data": {
      "text/plain": [
       "16764"
      ]
     },
     "execution_count": 39,
     "metadata": {},
     "output_type": "execute_result"
    }
   ],
   "source": [
    "test_df = test_df.merge(building_df,left_on='building_id',right_on='building_id',how='left')\n",
    "# del building_df\n",
    "gc.collect()"
   ]
  },
  {
   "cell_type": "code",
   "execution_count": 40,
   "metadata": {
    "ExecuteTime": {
     "end_time": "2020-06-19T10:02:12.594896Z",
     "start_time": "2020-06-19T10:01:54.878855Z"
    }
   },
   "outputs": [],
   "source": [
    "test_df[\"square_feet\"] = test_df[\"square_feet\"].apply(lambda x: int(x/1000))"
   ]
  },
  {
   "cell_type": "markdown",
   "metadata": {},
   "source": [
    "## Merge Weather Data"
   ]
  },
  {
   "cell_type": "code",
   "execution_count": 41,
   "metadata": {
    "ExecuteTime": {
     "end_time": "2020-06-19T10:02:12.600150Z",
     "start_time": "2020-06-19T10:02:12.596132Z"
    }
   },
   "outputs": [
    {
     "data": {
      "text/plain": [
       "building_id                     int64\n",
       "meter                           int64\n",
       "timestamp                      object\n",
       "site_id                          int8\n",
       "primary_use                      int8\n",
       "square_feet                     int64\n",
       "year_built                    float32\n",
       "floor_count                   float32\n",
       "na_year_built                    int8\n",
       "na_floor_count                   int8\n",
       "build_na_total                   int8\n",
       "meter_reading_0               float32\n",
       "meter_reading_1               float32\n",
       "meter_reading_2               float32\n",
       "meter_reading_3               float32\n",
       "cnt_building_per_site           int16\n",
       "cnt_building_per_site_prim       int8\n",
       "sqr_mean_per_site             float32\n",
       "sqr_mean_per_prim_site        float32\n",
       "dtype: object"
      ]
     },
     "execution_count": 41,
     "metadata": {},
     "output_type": "execute_result"
    }
   ],
   "source": [
    "test_df.dtypes"
   ]
  },
  {
   "cell_type": "code",
   "execution_count": 42,
   "metadata": {
    "ExecuteTime": {
     "end_time": "2020-06-19T10:02:17.683099Z",
     "start_time": "2020-06-19T10:02:12.601152Z"
    }
   },
   "outputs": [],
   "source": [
    "test_df[\"timestamp\"] = pd.to_datetime(test_df[\"timestamp\"])\n",
    "#test_df[\"timestamp\"] = pd.to_datetime(test_df[\"timestamp\"].astype('float'))"
   ]
  },
  {
   "cell_type": "code",
   "execution_count": 43,
   "metadata": {
    "ExecuteTime": {
     "end_time": "2020-06-19T10:04:49.502305Z",
     "start_time": "2020-06-19T10:02:17.684394Z"
    }
   },
   "outputs": [
    {
     "name": "stderr",
     "output_type": "stream",
     "text": [
      "/home/ubuntu/anaconda3/envs/tensorflow_p36/lib/python3.6/site-packages/ipykernel_launcher.py:53: FutureWarning: Sorting because non-concatenation axis is not aligned. A future version\n",
      "of pandas will change to not sort by default.\n",
      "\n",
      "To accept the future behavior, pass 'sort=False'.\n",
      "\n",
      "To retain the current behavior and silence the warning, pass 'sort=True'.\n",
      "\n"
     ]
    },
    {
     "name": "stdout",
     "output_type": "stream",
     "text": [
      "add heat, RH...\n",
      "add lag features\n"
     ]
    }
   ],
   "source": [
    "weather_trn = pd.read_csv(DATA_PATH + 'weather_train.csv')\n",
    "weather_tst = pd.read_csv(DATA_PATH + 'weather_test.csv')\n",
    "weather_df = pd.concat([weather_trn, weather_tst], axis=0)\n",
    "weather_df = fill_weather_dataset(weather_df)"
   ]
  },
  {
   "cell_type": "code",
   "execution_count": 44,
   "metadata": {
    "ExecuteTime": {
     "end_time": "2020-06-19T10:05:01.314509Z",
     "start_time": "2020-06-19T10:04:49.503581Z"
    }
   },
   "outputs": [
    {
     "data": {
      "text/plain": [
       "343"
      ]
     },
     "execution_count": 44,
     "metadata": {},
     "output_type": "execute_result"
    }
   ],
   "source": [
    "# test_df[\"timestamp\"] = pd.to_datetime(test_df[\"timestamp\"])\n",
    "test_df = test_df.merge(weather_df,how='left',on=['timestamp','site_id'])\n",
    "del weather_df\n",
    "gc.collect()"
   ]
  },
  {
   "cell_type": "markdown",
   "metadata": {},
   "source": [
    "## Features Engineering"
   ]
  },
  {
   "cell_type": "code",
   "execution_count": 45,
   "metadata": {
    "ExecuteTime": {
     "end_time": "2020-06-19T10:05:29.933492Z",
     "start_time": "2020-06-19T10:05:01.315635Z"
    }
   },
   "outputs": [],
   "source": [
    "test_df = features_engineering(test_df)"
   ]
  },
  {
   "cell_type": "markdown",
   "metadata": {},
   "source": [
    "## Prediction"
   ]
  },
  {
   "cell_type": "code",
   "execution_count": 46,
   "metadata": {
    "ExecuteTime": {
     "end_time": "2020-06-19T10:05:29.936792Z",
     "start_time": "2020-06-19T10:05:29.934739Z"
    }
   },
   "outputs": [],
   "source": [
    "featuress = [features0, features1, features2, features3]"
   ]
  },
  {
   "cell_type": "code",
   "execution_count": 47,
   "metadata": {
    "ExecuteTime": {
     "end_time": "2020-06-19T10:05:29.940221Z",
     "start_time": "2020-06-19T10:05:29.937807Z"
    }
   },
   "outputs": [],
   "source": [
    "def create_X(test_df, target_meter):\n",
    "    target_test_df = test_df[test_df['meter'] == target_meter]\n",
    "    target_test_df = target_test_df[featuress[target_meter]]\n",
    "    return target_test_df"
   ]
  },
  {
   "cell_type": "code",
   "execution_count": 48,
   "metadata": {
    "ExecuteTime": {
     "end_time": "2020-06-19T10:05:29.948355Z",
     "start_time": "2020-06-19T10:05:29.941240Z"
    }
   },
   "outputs": [],
   "source": [
    "from tqdm import tqdm_notebook as tqdm\n",
    "\n",
    "def pred(X_test, models, batch_size=1000000):\n",
    "    iterations = (X_test.shape[0] + batch_size -1) // batch_size\n",
    "    print('iterations', iterations)\n",
    "\n",
    "    y_test_pred_total = np.zeros(X_test.shape[0])\n",
    "    for i, model in enumerate(models):\n",
    "        print(f'predicting {i}-th model')\n",
    "        for k in tqdm(range(iterations)):\n",
    "            y_pred_test = model.predict(X_test[k*batch_size:(k+1)*batch_size], num_iteration=model.best_iteration)\n",
    "            y_test_pred_total[k*batch_size:(k+1)*batch_size] += y_pred_test\n",
    "\n",
    "    y_test_pred_total /= len(models)\n",
    "    return y_test_pred_total"
   ]
  },
  {
   "cell_type": "code",
   "execution_count": 49,
   "metadata": {
    "ExecuteTime": {
     "end_time": "2020-06-19T10:14:11.412023Z",
     "start_time": "2020-06-19T10:05:29.949365Z"
    }
   },
   "outputs": [
    {
     "name": "stdout",
     "output_type": "stream",
     "text": [
      "iterations 25\n",
      "predicting 0-th model\n"
     ]
    },
    {
     "name": "stderr",
     "output_type": "stream",
     "text": [
      "/home/ubuntu/anaconda3/envs/tensorflow_p36/lib/python3.6/site-packages/ipykernel_launcher.py:10: TqdmDeprecationWarning: This function will be removed in tqdm==5.0.0\n",
      "Please use `tqdm.notebook.tqdm` instead of `tqdm.tqdm_notebook`\n",
      "  # Remove the CWD from sys.path while we load stuff.\n"
     ]
    },
    {
     "data": {
      "application/vnd.jupyter.widget-view+json": {
       "model_id": "862a64af25724e458dbbeca93f637e0f",
       "version_major": 2,
       "version_minor": 0
      },
      "text/plain": [
       "HBox(children=(FloatProgress(value=0.0, max=25.0), HTML(value='')))"
      ]
     },
     "metadata": {},
     "output_type": "display_data"
    },
    {
     "name": "stdout",
     "output_type": "stream",
     "text": [
      "\n",
      "predicting 1-th model\n"
     ]
    },
    {
     "data": {
      "application/vnd.jupyter.widget-view+json": {
       "model_id": "4d70f11553ed4ce7ac1a518370e802b0",
       "version_major": 2,
       "version_minor": 0
      },
      "text/plain": [
       "HBox(children=(FloatProgress(value=0.0, max=25.0), HTML(value='')))"
      ]
     },
     "metadata": {},
     "output_type": "display_data"
    },
    {
     "name": "stdout",
     "output_type": "stream",
     "text": [
      "\n",
      "predicting 2-th model\n"
     ]
    },
    {
     "data": {
      "application/vnd.jupyter.widget-view+json": {
       "model_id": "36d8f8fc8ccf4638a62661eea1136063",
       "version_major": 2,
       "version_minor": 0
      },
      "text/plain": [
       "HBox(children=(FloatProgress(value=0.0, max=25.0), HTML(value='')))"
      ]
     },
     "metadata": {},
     "output_type": "display_data"
    },
    {
     "name": "stdout",
     "output_type": "stream",
     "text": [
      "\n",
      "CPU times: user 2h 9min 41s, sys: 26.5 s, total: 2h 10min 8s\n",
      "Wall time: 8min 41s\n"
     ]
    },
    {
     "data": {
      "text/plain": [
       "44"
      ]
     },
     "execution_count": 49,
     "metadata": {},
     "output_type": "execute_result"
    },
    {
     "data": {
      "image/png": "[encoded data removed]",
      "text/plain": [
       "<Figure size 432x288 with 1 Axes>"
      ]
     },
     "metadata": {
      "needs_background": "light"
     },
     "output_type": "display_data"
    }
   ],
   "source": [
    "%%time\n",
    "\n",
    "X_test = create_X(test_df, target_meter=0)\n",
    "gc.collect()\n",
    "\n",
    "y_test0 = pred(X_test, models0)\n",
    "\n",
    "sns.distplot(y_test0)\n",
    "\n",
    "del X_test\n",
    "gc.collect()"
   ]
  },
  {
   "cell_type": "code",
   "execution_count": 50,
   "metadata": {
    "ExecuteTime": {
     "end_time": "2020-06-19T10:17:13.395144Z",
     "start_time": "2020-06-19T10:14:11.413187Z"
    }
   },
   "outputs": [
    {
     "name": "stdout",
     "output_type": "stream",
     "text": [
      "iterations 9\n",
      "predicting 0-th model\n"
     ]
    },
    {
     "name": "stderr",
     "output_type": "stream",
     "text": [
      "/home/ubuntu/anaconda3/envs/tensorflow_p36/lib/python3.6/site-packages/ipykernel_launcher.py:10: TqdmDeprecationWarning: This function will be removed in tqdm==5.0.0\n",
      "Please use `tqdm.notebook.tqdm` instead of `tqdm.tqdm_notebook`\n",
      "  # Remove the CWD from sys.path while we load stuff.\n"
     ]
    },
    {
     "data": {
      "application/vnd.jupyter.widget-view+json": {
       "model_id": "1b0cfa12bfc347fea4a368580ddaa41e",
       "version_major": 2,
       "version_minor": 0
      },
      "text/plain": [
       "HBox(children=(FloatProgress(value=0.0, max=9.0), HTML(value='')))"
      ]
     },
     "metadata": {},
     "output_type": "display_data"
    },
    {
     "name": "stdout",
     "output_type": "stream",
     "text": [
      "\n",
      "predicting 1-th model\n"
     ]
    },
    {
     "data": {
      "application/vnd.jupyter.widget-view+json": {
       "model_id": "cf239434f6914810b3e19ab6f1eb3e5b",
       "version_major": 2,
       "version_minor": 0
      },
      "text/plain": [
       "HBox(children=(FloatProgress(value=0.0, max=9.0), HTML(value='')))"
      ]
     },
     "metadata": {},
     "output_type": "display_data"
    },
    {
     "name": "stdout",
     "output_type": "stream",
     "text": [
      "\n",
      "predicting 2-th model\n"
     ]
    },
    {
     "data": {
      "application/vnd.jupyter.widget-view+json": {
       "model_id": "263072eee54349b980b0c20c421291cf",
       "version_major": 2,
       "version_minor": 0
      },
      "text/plain": [
       "HBox(children=(FloatProgress(value=0.0, max=9.0), HTML(value='')))"
      ]
     },
     "metadata": {},
     "output_type": "display_data"
    },
    {
     "name": "stdout",
     "output_type": "stream",
     "text": [
      "\n",
      "CPU times: user 45min 40s, sys: 8.65 s, total: 45min 49s\n",
      "Wall time: 3min 1s\n"
     ]
    },
    {
     "data": {
      "text/plain": [
       "23"
      ]
     },
     "execution_count": 50,
     "metadata": {},
     "output_type": "execute_result"
    },
    {
     "data": {
      "image/png": "[encoded data removed]",
      "text/plain": [
       "<Figure size 432x288 with 1 Axes>"
      ]
     },
     "metadata": {
      "needs_background": "light"
     },
     "output_type": "display_data"
    }
   ],
   "source": [
    "%%time\n",
    "\n",
    "X_test = create_X(test_df, target_meter=1)\n",
    "gc.collect()\n",
    "\n",
    "y_test1 = pred(X_test, models1)\n",
    "\n",
    "sns.distplot(y_test1)\n",
    "\n",
    "del X_test\n",
    "gc.collect()"
   ]
  },
  {
   "cell_type": "code",
   "execution_count": 51,
   "metadata": {
    "ExecuteTime": {
     "end_time": "2020-06-19T10:18:25.753213Z",
     "start_time": "2020-06-19T10:17:13.396312Z"
    }
   },
   "outputs": [
    {
     "name": "stdout",
     "output_type": "stream",
     "text": [
      "iterations 6\n",
      "predicting 0-th model\n"
     ]
    },
    {
     "name": "stderr",
     "output_type": "stream",
     "text": [
      "/home/ubuntu/anaconda3/envs/tensorflow_p36/lib/python3.6/site-packages/ipykernel_launcher.py:10: TqdmDeprecationWarning: This function will be removed in tqdm==5.0.0\n",
      "Please use `tqdm.notebook.tqdm` instead of `tqdm.tqdm_notebook`\n",
      "  # Remove the CWD from sys.path while we load stuff.\n"
     ]
    },
    {
     "data": {
      "application/vnd.jupyter.widget-view+json": {
       "model_id": "3e1dcd89dc1a4eb7bfdbcc2509b6cbaa",
       "version_major": 2,
       "version_minor": 0
      },
      "text/plain": [
       "HBox(children=(FloatProgress(value=0.0, max=6.0), HTML(value='')))"
      ]
     },
     "metadata": {},
     "output_type": "display_data"
    },
    {
     "name": "stdout",
     "output_type": "stream",
     "text": [
      "\n",
      "predicting 1-th model\n"
     ]
    },
    {
     "data": {
      "application/vnd.jupyter.widget-view+json": {
       "model_id": "db2f764ab84746dabe50fabda4d13b9f",
       "version_major": 2,
       "version_minor": 0
      },
      "text/plain": [
       "HBox(children=(FloatProgress(value=0.0, max=6.0), HTML(value='')))"
      ]
     },
     "metadata": {},
     "output_type": "display_data"
    },
    {
     "name": "stdout",
     "output_type": "stream",
     "text": [
      "\n",
      "predicting 2-th model\n"
     ]
    },
    {
     "data": {
      "application/vnd.jupyter.widget-view+json": {
       "model_id": "4b006ff2ea5743a2af4b2290f40258f2",
       "version_major": 2,
       "version_minor": 0
      },
      "text/plain": [
       "HBox(children=(FloatProgress(value=0.0, max=6.0), HTML(value='')))"
      ]
     },
     "metadata": {},
     "output_type": "display_data"
    },
    {
     "name": "stdout",
     "output_type": "stream",
     "text": [
      "\n",
      "CPU times: user 17min 37s, sys: 5.95 s, total: 17min 43s\n",
      "Wall time: 1min 12s\n"
     ]
    },
    {
     "data": {
      "text/plain": [
       "30"
      ]
     },
     "execution_count": 51,
     "metadata": {},
     "output_type": "execute_result"
    },
    {
     "data": {
      "image/png": "[encoded data removed]",
      "text/plain": [
       "<Figure size 432x288 with 1 Axes>"
      ]
     },
     "metadata": {
      "needs_background": "light"
     },
     "output_type": "display_data"
    }
   ],
   "source": [
    "%%time\n",
    "\n",
    "X_test = create_X(test_df, target_meter=2)\n",
    "gc.collect()\n",
    "\n",
    "y_test2 = pred(X_test, models2)\n",
    "\n",
    "sns.distplot(y_test2)\n",
    "\n",
    "del X_test\n",
    "gc.collect()"
   ]
  },
  {
   "cell_type": "code",
   "execution_count": 52,
   "metadata": {
    "ExecuteTime": {
     "end_time": "2020-06-19T10:18:34.266434Z",
     "start_time": "2020-06-19T10:18:25.754462Z"
    }
   },
   "outputs": [
    {
     "name": "stdout",
     "output_type": "stream",
     "text": [
      "iterations 3\n",
      "predicting 0-th model\n"
     ]
    },
    {
     "name": "stderr",
     "output_type": "stream",
     "text": [
      "/home/ubuntu/anaconda3/envs/tensorflow_p36/lib/python3.6/site-packages/ipykernel_launcher.py:10: TqdmDeprecationWarning: This function will be removed in tqdm==5.0.0\n",
      "Please use `tqdm.notebook.tqdm` instead of `tqdm.tqdm_notebook`\n",
      "  # Remove the CWD from sys.path while we load stuff.\n"
     ]
    },
    {
     "data": {
      "application/vnd.jupyter.widget-view+json": {
       "model_id": "1b9202bcc870437fa95fb04e4adc0709",
       "version_major": 2,
       "version_minor": 0
      },
      "text/plain": [
       "HBox(children=(FloatProgress(value=0.0, max=3.0), HTML(value='')))"
      ]
     },
     "metadata": {},
     "output_type": "display_data"
    },
    {
     "name": "stdout",
     "output_type": "stream",
     "text": [
      "\n",
      "predicting 1-th model\n"
     ]
    },
    {
     "data": {
      "application/vnd.jupyter.widget-view+json": {
       "model_id": "c02e39d48a5540cc8c35f866c81a39f5",
       "version_major": 2,
       "version_minor": 0
      },
      "text/plain": [
       "HBox(children=(FloatProgress(value=0.0, max=3.0), HTML(value='')))"
      ]
     },
     "metadata": {},
     "output_type": "display_data"
    },
    {
     "name": "stdout",
     "output_type": "stream",
     "text": [
      "\n",
      "predicting 2-th model\n"
     ]
    },
    {
     "data": {
      "application/vnd.jupyter.widget-view+json": {
       "model_id": "0e8216696327477a9c098c60d803427b",
       "version_major": 2,
       "version_minor": 0
      },
      "text/plain": [
       "HBox(children=(FloatProgress(value=0.0, max=3.0), HTML(value='')))"
      ]
     },
     "metadata": {},
     "output_type": "display_data"
    },
    {
     "name": "stdout",
     "output_type": "stream",
     "text": [
      "\n",
      "CPU times: user 1min 39s, sys: 2.57 s, total: 1min 41s\n",
      "Wall time: 8.38 s\n"
     ]
    },
    {
     "data": {
      "text/plain": [
       "17"
      ]
     },
     "execution_count": 52,
     "metadata": {},
     "output_type": "execute_result"
    },
    {
     "data": {
      "image/png": "[encoded data removed]",
      "text/plain": [
       "<Figure size 432x288 with 1 Axes>"
      ]
     },
     "metadata": {
      "needs_background": "light"
     },
     "output_type": "display_data"
    }
   ],
   "source": [
    "%%time\n",
    "\n",
    "X_test = create_X(test_df, target_meter=3)\n",
    "gc.collect()\n",
    "\n",
    "y_test3 = pred(X_test, models3)\n",
    "\n",
    "sns.distplot(y_test3)\n",
    "\n",
    "del X_test\n",
    "gc.collect()"
   ]
  },
  {
   "cell_type": "code",
   "execution_count": null,
   "metadata": {},
   "outputs": [],
   "source": []
  },
  {
   "cell_type": "code",
   "execution_count": 53,
   "metadata": {
    "ExecuteTime": {
     "end_time": "2020-06-19T10:18:38.197150Z",
     "start_time": "2020-06-19T10:18:34.267566Z"
    }
   },
   "outputs": [],
   "source": [
    "sample_submission = pd.read_csv('sample_submission.csv')"
   ]
  },
  {
   "cell_type": "code",
   "execution_count": 54,
   "metadata": {
    "ExecuteTime": {
     "end_time": "2020-06-19T10:18:41.665408Z",
     "start_time": "2020-06-19T10:18:38.198370Z"
    }
   },
   "outputs": [],
   "source": [
    "sample_submission.loc[test_df['meter'] == 0, 'meter_reading'] = np.expm1(y_test0)\n",
    "sample_submission.loc[test_df['meter'] == 1, 'meter_reading'] = np.expm1(y_test1)\n",
    "sample_submission.loc[test_df['meter'] == 2, 'meter_reading'] = np.expm1(y_test2)\n",
    "sample_submission.loc[test_df['meter'] == 3, 'meter_reading'] = np.expm1(y_test3)"
   ]
  },
  {
   "cell_type": "code",
   "execution_count": 55,
   "metadata": {
    "ExecuteTime": {
     "end_time": "2020-06-19T10:22:32.285715Z",
     "start_time": "2020-06-19T10:18:41.666652Z"
    }
   },
   "outputs": [],
   "source": [
    "sample_submission.to_csv('submission_multimeter004_nobuild.csv.gz',\n",
    "                         index=False,compression='gzip', \n",
    "                         float_format='%.4f', \n",
    "                         chunksize=25000)"
   ]
  },
  {
   "cell_type": "code",
   "execution_count": 56,
   "metadata": {
    "ExecuteTime": {
     "end_time": "2020-06-19T10:22:32.295358Z",
     "start_time": "2020-06-19T10:22:32.286929Z"
    }
   },
   "outputs": [
    {
     "data": {
      "text/html": [
       "<div>\n",
       "<style scoped>\n",
       "    .dataframe tbody tr th:only-of-type {\n",
       "        vertical-align: middle;\n",
       "    }\n",
       "\n",
       "    .dataframe tbody tr th {\n",
       "        vertical-align: top;\n",
       "    }\n",
       "\n",
       "    .dataframe thead th {\n",
       "        text-align: right;\n",
       "    }\n",
       "</style>\n",
       "<table border=\"1\" class=\"dataframe\">\n",
       "  <thead>\n",
       "    <tr style=\"text-align: right;\">\n",
       "      <th></th>\n",
       "      <th>row_id</th>\n",
       "      <th>meter_reading</th>\n",
       "    </tr>\n",
       "  </thead>\n",
       "  <tbody>\n",
       "    <tr>\n",
       "      <th>0</th>\n",
       "      <td>0</td>\n",
       "      <td>161.427620</td>\n",
       "    </tr>\n",
       "    <tr>\n",
       "      <th>1</th>\n",
       "      <td>1</td>\n",
       "      <td>76.341812</td>\n",
       "    </tr>\n",
       "    <tr>\n",
       "      <th>2</th>\n",
       "      <td>2</td>\n",
       "      <td>16.477939</td>\n",
       "    </tr>\n",
       "    <tr>\n",
       "      <th>3</th>\n",
       "      <td>3</td>\n",
       "      <td>218.213837</td>\n",
       "    </tr>\n",
       "    <tr>\n",
       "      <th>4</th>\n",
       "      <td>4</td>\n",
       "      <td>968.836075</td>\n",
       "    </tr>\n",
       "  </tbody>\n",
       "</table>\n",
       "</div>"
      ],
      "text/plain": [
       "   row_id  meter_reading\n",
       "0       0     161.427620\n",
       "1       1      76.341812\n",
       "2       2      16.477939\n",
       "3       3     218.213837\n",
       "4       4     968.836075"
      ]
     },
     "execution_count": 56,
     "metadata": {},
     "output_type": "execute_result"
    }
   ],
   "source": [
    "sample_submission.head()"
   ]
  },
  {
   "cell_type": "code",
   "execution_count": 57,
   "metadata": {
    "ExecuteTime": {
     "end_time": "2020-06-19T10:22:32.298147Z",
     "start_time": "2020-06-19T10:22:32.296385Z"
    }
   },
   "outputs": [],
   "source": [
    "#!kaggle competitions submit -c ashrae-energy-prediction -f submission_multimeter004_nobuild.csv.gz -m \"lgbm multimeter no building feature\""
   ]
  },
  {
   "cell_type": "code",
   "execution_count": null,
   "metadata": {},
   "outputs": [],
   "source": []
  },
  {
   "cell_type": "code",
   "execution_count": null,
   "metadata": {},
   "outputs": [],
   "source": []
  },
  {
   "cell_type": "code",
   "execution_count": null,
   "metadata": {},
   "outputs": [],
   "source": []
  },
  {
   "cell_type": "code",
   "execution_count": null,
   "metadata": {},
   "outputs": [],
   "source": []
  },
  {
   "cell_type": "code",
   "execution_count": null,
   "metadata": {},
   "outputs": [],
   "source": []
  },
  {
   "cell_type": "code",
   "execution_count": null,
   "metadata": {},
   "outputs": [],
   "source": []
  },
  {
   "cell_type": "code",
   "execution_count": null,
   "metadata": {},
   "outputs": [],
   "source": []
  }
 ],
 "metadata": {
  "kernelspec": {
   "display_name": "Python 3",
   "language": "python",
   "name": "python3"
  },
  "language_info": {
   "codemirror_mode": {
    "name": "ipython",
    "version": 3
   },
   "file_extension": ".py",
   "mimetype": "text/x-python",
   "name": "python",
   "nbconvert_exporter": "python",
   "pygments_lexer": "ipython3",
   "version": "3.6.10"
  }
 },
 "nbformat": 4,
 "nbformat_minor": 2
}
