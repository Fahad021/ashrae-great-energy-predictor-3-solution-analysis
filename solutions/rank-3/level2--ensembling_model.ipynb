{
 "cells": [
  {
   "cell_type": "code",
   "execution_count": 1,
   "metadata": {},
   "outputs": [],
   "source": [
    "import numpy as np\n",
    "import pandas as pd\n",
    "import glob"
   ]
  },
  {
   "cell_type": "markdown",
   "metadata": {},
   "source": [
    "# 1. Creation of the ensemble training set"
   ]
  },
  {
   "cell_type": "code",
   "execution_count": 2,
   "metadata": {},
   "outputs": [
    {
     "name": "stderr",
     "output_type": "stream",
     "text": [
      "C:\\Users\\sbbpan\\AppData\\Local\\Continuum\\anaconda3\\lib\\site-packages\\pyarrow\\pandas_compat.py:752: FutureWarning: .labels was deprecated in version 0.24.0. Use .codes instead.\n",
      "  labels, = index.labels\n"
     ]
    }
   ],
   "source": [
    "# load the leak that will be used to run the ensemble\n",
    "submission = pd.read_feather('./output/leak012345_001.feather')"
   ]
  },
  {
   "cell_type": "code",
   "execution_count": 3,
   "metadata": {},
   "outputs": [],
   "source": [
    "# initiate the load of the predictions of level 1\n",
    "sub = pd.read_csv('./output/sample_submission.csv')\n",
    "del sub['meter_reading']"
   ]
  },
  {
   "cell_type": "code",
   "execution_count": null,
   "metadata": {},
   "outputs": [],
   "source": []
  },
  {
   "cell_type": "code",
   "execution_count": 4,
   "metadata": {},
   "outputs": [],
   "source": [
    "# list of predictions of level 1 used as features in ensembling model:\n",
    "\n",
    "sublist = [\n",
    "'./output/submission_multimeter003.csv.gz',          #level1--submission_multimeter003--lightgbm.ipynb\n",
    "'./output/submission_multimeter004_nobuild.csv.gz',  #level1--submission_multimeter004_nobuild--lightgbm.ipynb\n",
    "'./output/submission_withoutleak001.csv.gz',         #level1--submission_withoutleak001--lightgbm.ipynb\n",
    "'./output/submission_whatsyourcv3_0052_trncl.csv.gz',#level1--submission_whatsyourcv3_0052_trncl--lightgbm.ipynb\n",
    "\n",
    "'./output/submission_nn007lofo.csv.gz',  #level1--submission_nn007lofo--CNN.ipynb\n",
    "'./output/submission_nn001.csv',         #level1--submission_nn001--DenseNN.ipynb\n",
    "     \n",
    "'./output/submission_catboost002.csv.gz',   #level1--catboost002--Catboost.ipynb\n",
    "      \n",
    "'./output/fe2_lgbm.csv',               #downloaded from https://www.kaggle.com/ragnar123/another-1-08-lb-no-leak (1st commit)\n",
    "'./output/histgradboost113.csv',       #downloaded from https://www.kaggle.com/tunguz/ashrae-histgradientboosting (version 7 and rename it to histgradboost113.csv)\n",
    "\n",
    "          ]"
   ]
  },
  {
   "cell_type": "markdown",
   "metadata": {},
   "source": [
    "In the list above, fe2_lgbm.csv and histgradboost113.csv have been downloaded from https://www.kaggle.com/ragnar123/another-1-08-lb-no-leak (commit #1) and https://www.kaggle.com/tunguz/ashrae-histgradientboosting (commit #7, and rename it to histgradboost113.csv) respectively."
   ]
  },
  {
   "cell_type": "code",
   "execution_count": 5,
   "metadata": {},
   "outputs": [],
   "source": [
    "\n",
    "# function to aggregate the predictions in one unique pandas\n",
    "def join_sub(pathlist, sub):\n",
    "    name_list = []\n",
    "    for path in pathlist:\n",
    "        name_tmp = path.split('/')[-1].split('.')[0]\n",
    "        print(name_tmp)\n",
    "        sub_tmp = pd.read_csv(path).sort_values(by='row_id')\n",
    "        sub_tmp.rename(columns={'meter_reading': name_tmp}, inplace=True)\n",
    "        \n",
    "        sub_tmp[name_tmp] = sub_tmp[name_tmp].apply(lambda x: 0 if x < 0 else x)\n",
    "        sub_tmp[name_tmp] = np.log1p(sub_tmp[name_tmp].values)\n",
    "                                                                  \n",
    "        sub = pd.concat([sub, sub_tmp[name_tmp]], axis=1)\n",
    "        name_list.append(name_tmp)\n",
    "    return sub, name_list"
   ]
  },
  {
   "cell_type": "code",
   "execution_count": 6,
   "metadata": {},
   "outputs": [
    {
     "data": {
      "text/plain": [
       "20"
      ]
     },
     "execution_count": 6,
     "metadata": {},
     "output_type": "execute_result"
    }
   ],
   "source": [
    "import gc\n",
    "gc.collect()"
   ]
  },
  {
   "cell_type": "code",
   "execution_count": 7,
   "metadata": {},
   "outputs": [
    {
     "name": "stdout",
     "output_type": "stream",
     "text": [
      "submission_multimeter003\n",
      "submission_multimeter004_nobuild\n",
      "submission_withoutleak001\n",
      "submission_whatsyourcv3_0052_trncl\n",
      "submission_nn007lofo\n",
      "submission_nn001\n",
      "submission_catboost002\n",
      "fe2_lgbm\n",
      "histgradboost113\n"
     ]
    }
   ],
   "source": [
    "subm, name_list = join_sub(sublist, sub)"
   ]
  },
  {
   "cell_type": "code",
   "execution_count": 8,
   "metadata": {},
   "outputs": [
    {
     "name": "stdout",
     "output_type": "stream",
     "text": [
      "<class 'pandas.core.frame.DataFrame'>\n",
      "RangeIndex: 41697600 entries, 0 to 41697599\n",
      "Data columns (total 10 columns):\n",
      "row_id                                int64\n",
      "submission_multimeter003              float64\n",
      "submission_multimeter004_nobuild      float64\n",
      "submission_withoutleak001             float64\n",
      "submission_whatsyourcv3_0052_trncl    float64\n",
      "submission_nn007lofo                  float64\n",
      "submission_nn001                      float64\n",
      "submission_catboost002                float64\n",
      "fe2_lgbm                              float64\n",
      "histgradboost113                      float64\n",
      "dtypes: float64(9), int64(1)\n",
      "memory usage: 3.1 GB\n"
     ]
    }
   ],
   "source": [
    "subm.info()"
   ]
  },
  {
   "cell_type": "code",
   "execution_count": 9,
   "metadata": {},
   "outputs": [
    {
     "data": {
      "text/html": [
       "<div>\n",
       "<style scoped>\n",
       "    .dataframe tbody tr th:only-of-type {\n",
       "        vertical-align: middle;\n",
       "    }\n",
       "\n",
       "    .dataframe tbody tr th {\n",
       "        vertical-align: top;\n",
       "    }\n",
       "\n",
       "    .dataframe thead th {\n",
       "        text-align: right;\n",
       "    }\n",
       "</style>\n",
       "<table border=\"1\" class=\"dataframe\">\n",
       "  <thead>\n",
       "    <tr style=\"text-align: right;\">\n",
       "      <th></th>\n",
       "      <th>row_id</th>\n",
       "      <th>submission_multimeter003</th>\n",
       "      <th>submission_multimeter004_nobuild</th>\n",
       "      <th>submission_withoutleak001</th>\n",
       "      <th>submission_whatsyourcv3_0052_trncl</th>\n",
       "      <th>submission_nn007lofo</th>\n",
       "      <th>submission_nn001</th>\n",
       "      <th>submission_catboost002</th>\n",
       "      <th>fe2_lgbm</th>\n",
       "      <th>histgradboost113</th>\n",
       "    </tr>\n",
       "  </thead>\n",
       "  <tbody>\n",
       "    <tr>\n",
       "      <td>0</td>\n",
       "      <td>0</td>\n",
       "      <td>5.137161</td>\n",
       "      <td>5.090909</td>\n",
       "      <td>5.029254</td>\n",
       "      <td>5.132836</td>\n",
       "      <td>5.143642</td>\n",
       "      <td>5.457628</td>\n",
       "      <td>3.569992</td>\n",
       "      <td>4.994006</td>\n",
       "      <td>5.200388</td>\n",
       "    </tr>\n",
       "    <tr>\n",
       "      <td>1</td>\n",
       "      <td>1</td>\n",
       "      <td>4.188979</td>\n",
       "      <td>4.348912</td>\n",
       "      <td>4.294870</td>\n",
       "      <td>4.211026</td>\n",
       "      <td>4.442335</td>\n",
       "      <td>4.633441</td>\n",
       "      <td>2.640663</td>\n",
       "      <td>4.427003</td>\n",
       "      <td>4.432485</td>\n",
       "    </tr>\n",
       "    <tr>\n",
       "      <td>2</td>\n",
       "      <td>2</td>\n",
       "      <td>2.020209</td>\n",
       "      <td>2.861618</td>\n",
       "      <td>2.371897</td>\n",
       "      <td>2.175479</td>\n",
       "      <td>2.017220</td>\n",
       "      <td>2.474189</td>\n",
       "      <td>1.303429</td>\n",
       "      <td>2.394636</td>\n",
       "      <td>2.427290</td>\n",
       "    </tr>\n",
       "    <tr>\n",
       "      <td>3</td>\n",
       "      <td>3</td>\n",
       "      <td>5.323947</td>\n",
       "      <td>5.390725</td>\n",
       "      <td>5.516343</td>\n",
       "      <td>5.686560</td>\n",
       "      <td>5.723576</td>\n",
       "      <td>5.854838</td>\n",
       "      <td>3.790002</td>\n",
       "      <td>5.514924</td>\n",
       "      <td>5.559772</td>\n",
       "    </tr>\n",
       "    <tr>\n",
       "      <td>4</td>\n",
       "      <td>4</td>\n",
       "      <td>7.141346</td>\n",
       "      <td>6.878505</td>\n",
       "      <td>7.246858</td>\n",
       "      <td>7.121456</td>\n",
       "      <td>7.088749</td>\n",
       "      <td>7.360601</td>\n",
       "      <td>4.743891</td>\n",
       "      <td>7.031928</td>\n",
       "      <td>7.006811</td>\n",
       "    </tr>\n",
       "  </tbody>\n",
       "</table>\n",
       "</div>"
      ],
      "text/plain": [
       "   row_id  submission_multimeter003  submission_multimeter004_nobuild  \\\n",
       "0       0                  5.137161                          5.090909   \n",
       "1       1                  4.188979                          4.348912   \n",
       "2       2                  2.020209                          2.861618   \n",
       "3       3                  5.323947                          5.390725   \n",
       "4       4                  7.141346                          6.878505   \n",
       "\n",
       "   submission_withoutleak001  submission_whatsyourcv3_0052_trncl  \\\n",
       "0                   5.029254                            5.132836   \n",
       "1                   4.294870                            4.211026   \n",
       "2                   2.371897                            2.175479   \n",
       "3                   5.516343                            5.686560   \n",
       "4                   7.246858                            7.121456   \n",
       "\n",
       "   submission_nn007lofo  submission_nn001  submission_catboost002  fe2_lgbm  \\\n",
       "0              5.143642          5.457628                3.569992  4.994006   \n",
       "1              4.442335          4.633441                2.640663  4.427003   \n",
       "2              2.017220          2.474189                1.303429  2.394636   \n",
       "3              5.723576          5.854838                3.790002  5.514924   \n",
       "4              7.088749          7.360601                4.743891  7.031928   \n",
       "\n",
       "   histgradboost113  \n",
       "0          5.200388  \n",
       "1          4.432485  \n",
       "2          2.427290  \n",
       "3          5.559772  \n",
       "4          7.006811  "
      ]
     },
     "execution_count": 9,
     "metadata": {},
     "output_type": "execute_result"
    }
   ],
   "source": [
    "subm.head()"
   ]
  },
  {
   "cell_type": "code",
   "execution_count": 10,
   "metadata": {},
   "outputs": [
    {
     "data": {
      "text/html": [
       "<div>\n",
       "<style scoped>\n",
       "    .dataframe tbody tr th:only-of-type {\n",
       "        vertical-align: middle;\n",
       "    }\n",
       "\n",
       "    .dataframe tbody tr th {\n",
       "        vertical-align: top;\n",
       "    }\n",
       "\n",
       "    .dataframe thead th {\n",
       "        text-align: right;\n",
       "    }\n",
       "</style>\n",
       "<table border=\"1\" class=\"dataframe\">\n",
       "  <thead>\n",
       "    <tr style=\"text-align: right;\">\n",
       "      <th></th>\n",
       "      <th>row_id</th>\n",
       "      <th>building_id</th>\n",
       "      <th>meter</th>\n",
       "      <th>timestamp</th>\n",
       "      <th>site_id</th>\n",
       "      <th>primary_use</th>\n",
       "      <th>square_feet</th>\n",
       "      <th>year_built</th>\n",
       "      <th>floor_count</th>\n",
       "      <th>na_year_built</th>\n",
       "      <th>...</th>\n",
       "      <th>had_heat</th>\n",
       "      <th>had_windchill</th>\n",
       "      <th>had_feellike</th>\n",
       "      <th>had_air_temperature_mean_lag3</th>\n",
       "      <th>had_dew_temperature_mean_lag3</th>\n",
       "      <th>had_heat_mean_lag3</th>\n",
       "      <th>had_windchill_mean_lag3</th>\n",
       "      <th>had_feellike_mean_lag3</th>\n",
       "      <th>tm_day_of_week</th>\n",
       "      <th>tm_hour_of_day</th>\n",
       "    </tr>\n",
       "  </thead>\n",
       "  <tbody>\n",
       "    <tr>\n",
       "      <td>0</td>\n",
       "      <td>0</td>\n",
       "      <td>0</td>\n",
       "      <td>0</td>\n",
       "      <td>8784</td>\n",
       "      <td>0</td>\n",
       "      <td>0</td>\n",
       "      <td>7432</td>\n",
       "      <td>2008</td>\n",
       "      <td>-1</td>\n",
       "      <td>0</td>\n",
       "      <td>...</td>\n",
       "      <td>1</td>\n",
       "      <td>1</td>\n",
       "      <td>1</td>\n",
       "      <td>1</td>\n",
       "      <td>1</td>\n",
       "      <td>1</td>\n",
       "      <td>1</td>\n",
       "      <td>1</td>\n",
       "      <td>2</td>\n",
       "      <td>0</td>\n",
       "    </tr>\n",
       "    <tr>\n",
       "      <td>1</td>\n",
       "      <td>1</td>\n",
       "      <td>1</td>\n",
       "      <td>0</td>\n",
       "      <td>8784</td>\n",
       "      <td>0</td>\n",
       "      <td>0</td>\n",
       "      <td>2720</td>\n",
       "      <td>2004</td>\n",
       "      <td>-1</td>\n",
       "      <td>0</td>\n",
       "      <td>...</td>\n",
       "      <td>1</td>\n",
       "      <td>1</td>\n",
       "      <td>1</td>\n",
       "      <td>1</td>\n",
       "      <td>1</td>\n",
       "      <td>1</td>\n",
       "      <td>1</td>\n",
       "      <td>1</td>\n",
       "      <td>2</td>\n",
       "      <td>0</td>\n",
       "    </tr>\n",
       "    <tr>\n",
       "      <td>2</td>\n",
       "      <td>2</td>\n",
       "      <td>2</td>\n",
       "      <td>0</td>\n",
       "      <td>8784</td>\n",
       "      <td>0</td>\n",
       "      <td>0</td>\n",
       "      <td>5376</td>\n",
       "      <td>1991</td>\n",
       "      <td>-1</td>\n",
       "      <td>0</td>\n",
       "      <td>...</td>\n",
       "      <td>1</td>\n",
       "      <td>1</td>\n",
       "      <td>1</td>\n",
       "      <td>1</td>\n",
       "      <td>1</td>\n",
       "      <td>1</td>\n",
       "      <td>1</td>\n",
       "      <td>1</td>\n",
       "      <td>2</td>\n",
       "      <td>0</td>\n",
       "    </tr>\n",
       "    <tr>\n",
       "      <td>3</td>\n",
       "      <td>3</td>\n",
       "      <td>3</td>\n",
       "      <td>0</td>\n",
       "      <td>8784</td>\n",
       "      <td>0</td>\n",
       "      <td>0</td>\n",
       "      <td>23685</td>\n",
       "      <td>2002</td>\n",
       "      <td>-1</td>\n",
       "      <td>0</td>\n",
       "      <td>...</td>\n",
       "      <td>1</td>\n",
       "      <td>1</td>\n",
       "      <td>1</td>\n",
       "      <td>1</td>\n",
       "      <td>1</td>\n",
       "      <td>1</td>\n",
       "      <td>1</td>\n",
       "      <td>1</td>\n",
       "      <td>2</td>\n",
       "      <td>0</td>\n",
       "    </tr>\n",
       "    <tr>\n",
       "      <td>4</td>\n",
       "      <td>4</td>\n",
       "      <td>4</td>\n",
       "      <td>0</td>\n",
       "      <td>8784</td>\n",
       "      <td>0</td>\n",
       "      <td>0</td>\n",
       "      <td>116607</td>\n",
       "      <td>1975</td>\n",
       "      <td>-1</td>\n",
       "      <td>0</td>\n",
       "      <td>...</td>\n",
       "      <td>1</td>\n",
       "      <td>1</td>\n",
       "      <td>1</td>\n",
       "      <td>1</td>\n",
       "      <td>1</td>\n",
       "      <td>1</td>\n",
       "      <td>1</td>\n",
       "      <td>1</td>\n",
       "      <td>2</td>\n",
       "      <td>0</td>\n",
       "    </tr>\n",
       "  </tbody>\n",
       "</table>\n",
       "<p>5 rows × 54 columns</p>\n",
       "</div>"
      ],
      "text/plain": [
       "   row_id  building_id  meter  timestamp  site_id  primary_use  square_feet  \\\n",
       "0       0            0      0       8784        0            0         7432   \n",
       "1       1            1      0       8784        0            0         2720   \n",
       "2       2            2      0       8784        0            0         5376   \n",
       "3       3            3      0       8784        0            0        23685   \n",
       "4       4            4      0       8784        0            0       116607   \n",
       "\n",
       "   year_built  floor_count  na_year_built  ...  had_heat  had_windchill  \\\n",
       "0        2008           -1              0  ...         1              1   \n",
       "1        2004           -1              0  ...         1              1   \n",
       "2        1991           -1              0  ...         1              1   \n",
       "3        2002           -1              0  ...         1              1   \n",
       "4        1975           -1              0  ...         1              1   \n",
       "\n",
       "   had_feellike  had_air_temperature_mean_lag3  had_dew_temperature_mean_lag3  \\\n",
       "0             1                              1                              1   \n",
       "1             1                              1                              1   \n",
       "2             1                              1                              1   \n",
       "3             1                              1                              1   \n",
       "4             1                              1                              1   \n",
       "\n",
       "   had_heat_mean_lag3  had_windchill_mean_lag3  had_feellike_mean_lag3  \\\n",
       "0                   1                        1                       1   \n",
       "1                   1                        1                       1   \n",
       "2                   1                        1                       1   \n",
       "3                   1                        1                       1   \n",
       "4                   1                        1                       1   \n",
       "\n",
       "   tm_day_of_week  tm_hour_of_day  \n",
       "0               2               0  \n",
       "1               2               0  \n",
       "2               2               0  \n",
       "3               2               0  \n",
       "4               2               0  \n",
       "\n",
       "[5 rows x 54 columns]"
      ]
     },
     "execution_count": 10,
     "metadata": {},
     "output_type": "execute_result"
    }
   ],
   "source": [
    "test = pd.read_feather('./output/test_simple_cleanup.feather')\n",
    "test.head()"
   ]
  },
  {
   "cell_type": "code",
   "execution_count": 11,
   "metadata": {},
   "outputs": [],
   "source": [
    "#test.info()"
   ]
  },
  {
   "cell_type": "code",
   "execution_count": 12,
   "metadata": {},
   "outputs": [
    {
     "data": {
      "text/html": [
       "<div>\n",
       "<style scoped>\n",
       "    .dataframe tbody tr th:only-of-type {\n",
       "        vertical-align: middle;\n",
       "    }\n",
       "\n",
       "    .dataframe tbody tr th {\n",
       "        vertical-align: top;\n",
       "    }\n",
       "\n",
       "    .dataframe thead th {\n",
       "        text-align: right;\n",
       "    }\n",
       "</style>\n",
       "<table border=\"1\" class=\"dataframe\">\n",
       "  <thead>\n",
       "    <tr style=\"text-align: right;\">\n",
       "      <th></th>\n",
       "      <th>building_id</th>\n",
       "      <th>meter</th>\n",
       "      <th>meter_reading</th>\n",
       "      <th>row_id</th>\n",
       "      <th>submission_multimeter003</th>\n",
       "      <th>submission_multimeter004_nobuild</th>\n",
       "      <th>submission_withoutleak001</th>\n",
       "      <th>submission_whatsyourcv3_0052_trncl</th>\n",
       "      <th>submission_nn007lofo</th>\n",
       "      <th>submission_nn001</th>\n",
       "      <th>submission_catboost002</th>\n",
       "      <th>fe2_lgbm</th>\n",
       "      <th>histgradboost113</th>\n",
       "    </tr>\n",
       "  </thead>\n",
       "  <tbody>\n",
       "    <tr>\n",
       "      <td>0</td>\n",
       "      <td>0</td>\n",
       "      <td>0</td>\n",
       "      <td>173.3703</td>\n",
       "      <td>0</td>\n",
       "      <td>5.137161</td>\n",
       "      <td>5.090909</td>\n",
       "      <td>5.029254</td>\n",
       "      <td>5.132836</td>\n",
       "      <td>5.143642</td>\n",
       "      <td>5.457628</td>\n",
       "      <td>3.569992</td>\n",
       "      <td>4.994006</td>\n",
       "      <td>5.200388</td>\n",
       "    </tr>\n",
       "    <tr>\n",
       "      <td>1</td>\n",
       "      <td>1</td>\n",
       "      <td>0</td>\n",
       "      <td>53.5127</td>\n",
       "      <td>1</td>\n",
       "      <td>4.188979</td>\n",
       "      <td>4.348912</td>\n",
       "      <td>4.294870</td>\n",
       "      <td>4.211026</td>\n",
       "      <td>4.442335</td>\n",
       "      <td>4.633441</td>\n",
       "      <td>2.640663</td>\n",
       "      <td>4.427003</td>\n",
       "      <td>4.432485</td>\n",
       "    </tr>\n",
       "    <tr>\n",
       "      <td>2</td>\n",
       "      <td>2</td>\n",
       "      <td>0</td>\n",
       "      <td>6.1430</td>\n",
       "      <td>2</td>\n",
       "      <td>2.020209</td>\n",
       "      <td>2.861618</td>\n",
       "      <td>2.371897</td>\n",
       "      <td>2.175479</td>\n",
       "      <td>2.017220</td>\n",
       "      <td>2.474189</td>\n",
       "      <td>1.303429</td>\n",
       "      <td>2.394636</td>\n",
       "      <td>2.427290</td>\n",
       "    </tr>\n",
       "    <tr>\n",
       "      <td>3</td>\n",
       "      <td>3</td>\n",
       "      <td>0</td>\n",
       "      <td>101.7015</td>\n",
       "      <td>3</td>\n",
       "      <td>5.323947</td>\n",
       "      <td>5.390725</td>\n",
       "      <td>5.516343</td>\n",
       "      <td>5.686560</td>\n",
       "      <td>5.723576</td>\n",
       "      <td>5.854838</td>\n",
       "      <td>3.790002</td>\n",
       "      <td>5.514924</td>\n",
       "      <td>5.559772</td>\n",
       "    </tr>\n",
       "    <tr>\n",
       "      <td>4</td>\n",
       "      <td>4</td>\n",
       "      <td>0</td>\n",
       "      <td>1141.2407</td>\n",
       "      <td>4</td>\n",
       "      <td>7.141346</td>\n",
       "      <td>6.878505</td>\n",
       "      <td>7.246858</td>\n",
       "      <td>7.121456</td>\n",
       "      <td>7.088749</td>\n",
       "      <td>7.360601</td>\n",
       "      <td>4.743891</td>\n",
       "      <td>7.031928</td>\n",
       "      <td>7.006811</td>\n",
       "    </tr>\n",
       "  </tbody>\n",
       "</table>\n",
       "</div>"
      ],
      "text/plain": [
       "   building_id  meter  meter_reading  row_id  submission_multimeter003  \\\n",
       "0            0      0       173.3703       0                  5.137161   \n",
       "1            1      0        53.5127       1                  4.188979   \n",
       "2            2      0         6.1430       2                  2.020209   \n",
       "3            3      0       101.7015       3                  5.323947   \n",
       "4            4      0      1141.2407       4                  7.141346   \n",
       "\n",
       "   submission_multimeter004_nobuild  submission_withoutleak001  \\\n",
       "0                          5.090909                   5.029254   \n",
       "1                          4.348912                   4.294870   \n",
       "2                          2.861618                   2.371897   \n",
       "3                          5.390725                   5.516343   \n",
       "4                          6.878505                   7.246858   \n",
       "\n",
       "   submission_whatsyourcv3_0052_trncl  submission_nn007lofo  submission_nn001  \\\n",
       "0                            5.132836              5.143642          5.457628   \n",
       "1                            4.211026              4.442335          4.633441   \n",
       "2                            2.175479              2.017220          2.474189   \n",
       "3                            5.686560              5.723576          5.854838   \n",
       "4                            7.121456              7.088749          7.360601   \n",
       "\n",
       "   submission_catboost002  fe2_lgbm  histgradboost113  \n",
       "0                3.569992  4.994006          5.200388  \n",
       "1                2.640663  4.427003          4.432485  \n",
       "2                1.303429  2.394636          2.427290  \n",
       "3                3.790002  5.514924          5.559772  \n",
       "4                4.743891  7.031928          7.006811  "
      ]
     },
     "execution_count": 12,
     "metadata": {},
     "output_type": "execute_result"
    }
   ],
   "source": [
    "# the training set is the aggregation of the predictions of level 1, the leaky target and some raw features from the test set\n",
    "subm_full = pd.concat([test[['building_id','meter']], submission['meter_reading'], subm], axis=1).reset_index(drop=True)\n",
    "subm_full.head()"
   ]
  },
  {
   "cell_type": "code",
   "execution_count": 13,
   "metadata": {},
   "outputs": [
    {
     "name": "stdout",
     "output_type": "stream",
     "text": [
      "<class 'pandas.core.frame.DataFrame'>\n",
      "RangeIndex: 41697600 entries, 0 to 41697599\n",
      "Data columns (total 13 columns):\n",
      "building_id                           int16\n",
      "meter                                 int8\n",
      "meter_reading                         float64\n",
      "row_id                                int64\n",
      "submission_multimeter003              float64\n",
      "submission_multimeter004_nobuild      float64\n",
      "submission_withoutleak001             float64\n",
      "submission_whatsyourcv3_0052_trncl    float64\n",
      "submission_nn007lofo                  float64\n",
      "submission_nn001                      float64\n",
      "submission_catboost002                float64\n",
      "fe2_lgbm                              float64\n",
      "histgradboost113                      float64\n",
      "dtypes: float64(10), int16(1), int64(1), int8(1)\n",
      "memory usage: 3.5 GB\n"
     ]
    }
   ],
   "source": [
    "subm_full.info()"
   ]
  },
  {
   "cell_type": "code",
   "execution_count": 14,
   "metadata": {},
   "outputs": [
    {
     "data": {
      "text/plain": [
       "80"
      ]
     },
     "execution_count": 14,
     "metadata": {},
     "output_type": "execute_result"
    }
   ],
   "source": [
    "del submission\n",
    "del test\n",
    "import gc\n",
    "gc.collect()"
   ]
  },
  {
   "cell_type": "code",
   "execution_count": 15,
   "metadata": {},
   "outputs": [
    {
     "data": {
      "text/plain": [
       "((7027893, 13), (34669707, 13))"
      ]
     },
     "execution_count": 15,
     "metadata": {},
     "output_type": "execute_result"
    }
   ],
   "source": [
    "# the training set are the rows from the leak when all the other are the ones that are still unknown.\n",
    "subm_trn = subm_full[subm_full.meter_reading!=-9999.99].reset_index(drop=True)\n",
    "subm_tst = subm_full[subm_full.meter_reading==-9999.99].reset_index(drop=True)\n",
    "\n",
    "subm_trn.shape, subm_tst.shape"
   ]
  },
  {
   "cell_type": "code",
   "execution_count": 16,
   "metadata": {},
   "outputs": [
    {
     "data": {
      "text/plain": [
       "40"
      ]
     },
     "execution_count": 16,
     "metadata": {},
     "output_type": "execute_result"
    }
   ],
   "source": [
    "del subm_full\n",
    "gc.collect()"
   ]
  },
  {
   "cell_type": "code",
   "execution_count": 17,
   "metadata": {},
   "outputs": [],
   "source": [
    "subm_trn['meter_reading'] = subm_trn['meter_reading'].apply(lambda x: 0 if x < 0 else x)\n",
    "subm_trn['meter_reading'] = np.log1p(subm_trn['meter_reading'].values)"
   ]
  },
  {
   "cell_type": "code",
   "execution_count": 18,
   "metadata": {},
   "outputs": [
    {
     "data": {
      "text/plain": [
       "['submission_multimeter003',\n",
       " 'submission_multimeter004_nobuild',\n",
       " 'submission_withoutleak001',\n",
       " 'submission_whatsyourcv3_0052_trncl',\n",
       " 'submission_nn007lofo',\n",
       " 'submission_nn001',\n",
       " 'submission_catboost002',\n",
       " 'fe2_lgbm',\n",
       " 'histgradboost113']"
      ]
     },
     "execution_count": 18,
     "metadata": {},
     "output_type": "execute_result"
    }
   ],
   "source": [
    "# features in the ensemble training set that are predictions from level 1:\n",
    "name_list = [x for x in subm_trn.columns if x not in ['row_id', 'building_id', 'meter', 'meter_reading']]\n",
    "name_list"
   ]
  },
  {
   "cell_type": "code",
   "execution_count": 19,
   "metadata": {},
   "outputs": [],
   "source": [
    "# simple feature engineering:\n",
    "subm_trn['mean_tgt'] = subm_trn[name_list].mean(axis=1)\n",
    "subm_trn['median_tgt'] = subm_trn[name_list].median(axis=1)"
   ]
  },
  {
   "cell_type": "code",
   "execution_count": 20,
   "metadata": {},
   "outputs": [
    {
     "data": {
      "text/plain": [
       "['meter',\n",
       " 'submission_multimeter003',\n",
       " 'submission_multimeter004_nobuild',\n",
       " 'submission_withoutleak001',\n",
       " 'submission_whatsyourcv3_0052_trncl',\n",
       " 'submission_nn007lofo',\n",
       " 'submission_nn001',\n",
       " 'submission_catboost002',\n",
       " 'fe2_lgbm',\n",
       " 'histgradboost113',\n",
       " 'mean_tgt',\n",
       " 'median_tgt']"
      ]
     },
     "execution_count": 20,
     "metadata": {},
     "output_type": "execute_result"
    }
   ],
   "source": [
    "# the raw feature \"meter\" is added to all the predictions from level 1:\n",
    "features = [x for x in subm_trn.columns if x not in ['row_id', 'building_id', 'meter_reading']]\n",
    "features"
   ]
  },
  {
   "cell_type": "code",
   "execution_count": null,
   "metadata": {},
   "outputs": [],
   "source": []
  },
  {
   "cell_type": "markdown",
   "metadata": {},
   "source": [
    "# 2. run the ensemble model"
   ]
  },
  {
   "cell_type": "code",
   "execution_count": 21,
   "metadata": {},
   "outputs": [],
   "source": [
    "import gc\n",
    "import os\n",
    "import random\n",
    "\n",
    "import lightgbm as lgb\n",
    "import numpy as np"
   ]
  },
  {
   "cell_type": "code",
   "execution_count": 22,
   "metadata": {},
   "outputs": [
    {
     "name": "stderr",
     "output_type": "stream",
     "text": [
      "C:\\Users\\sbbpan\\AppData\\Local\\Continuum\\anaconda3\\lib\\site-packages\\lightgbm\\basic.py:1291: UserWarning: Using categorical_feature in Dataset.\n",
      "  warnings.warn('Using categorical_feature in Dataset.')\n"
     ]
    },
    {
     "name": "stdout",
     "output_type": "stream",
     "text": [
      "Training until validation scores don't improve for 50 rounds\n",
      "[25]\ttraining's rmse: 0.890998\tvalid_1's rmse: 1.33846\n",
      "[50]\ttraining's rmse: 0.747589\tvalid_1's rmse: 1.2416\n",
      "[75]\ttraining's rmse: 0.725297\tvalid_1's rmse: 1.23003\n",
      "[100]\ttraining's rmse: 0.715756\tvalid_1's rmse: 1.23132\n",
      "[125]\ttraining's rmse: 0.709394\tvalid_1's rmse: 1.23506\n",
      "Early stopping, best iteration is:\n",
      "[78]\ttraining's rmse: 0.723665\tvalid_1's rmse: 1.2283\n",
      "Training until validation scores don't improve for 50 rounds\n",
      "[25]\ttraining's rmse: 0.984555\tvalid_1's rmse: 1.05258\n",
      "[50]\ttraining's rmse: 0.843401\tvalid_1's rmse: 1.01663\n",
      "[75]\ttraining's rmse: 0.822277\tvalid_1's rmse: 1.01936\n",
      "[100]\ttraining's rmse: 0.814217\tvalid_1's rmse: 1.01998\n",
      "Early stopping, best iteration is:\n",
      "[52]\ttraining's rmse: 0.840037\tvalid_1's rmse: 1.01644\n",
      "Training until validation scores don't improve for 50 rounds\n",
      "[25]\ttraining's rmse: 1.07401\tvalid_1's rmse: 0.793103\n",
      "[50]\ttraining's rmse: 0.962473\tvalid_1's rmse: 0.579459\n",
      "[75]\ttraining's rmse: 0.942982\tvalid_1's rmse: 0.552042\n",
      "[100]\ttraining's rmse: 0.933901\tvalid_1's rmse: 0.547195\n",
      "[125]\ttraining's rmse: 0.927322\tvalid_1's rmse: 0.545125\n",
      "[150]\ttraining's rmse: 0.922598\tvalid_1's rmse: 0.543642\n",
      "[175]\ttraining's rmse: 0.918324\tvalid_1's rmse: 0.542812\n",
      "[200]\ttraining's rmse: 0.914308\tvalid_1's rmse: 0.542257\n",
      "[225]\ttraining's rmse: 0.910595\tvalid_1's rmse: 0.541575\n",
      "[250]\ttraining's rmse: 0.907092\tvalid_1's rmse: 0.541275\n",
      "[275]\ttraining's rmse: 0.903797\tvalid_1's rmse: 0.540822\n",
      "[300]\ttraining's rmse: 0.901\tvalid_1's rmse: 0.540443\n",
      "[325]\ttraining's rmse: 0.898136\tvalid_1's rmse: 0.540092\n",
      "[350]\ttraining's rmse: 0.895403\tvalid_1's rmse: 0.539784\n",
      "[375]\ttraining's rmse: 0.893066\tvalid_1's rmse: 0.539472\n",
      "[400]\ttraining's rmse: 0.890543\tvalid_1's rmse: 0.539365\n",
      "[425]\ttraining's rmse: 0.888497\tvalid_1's rmse: 0.53903\n",
      "[450]\ttraining's rmse: 0.886473\tvalid_1's rmse: 0.538993\n",
      "[475]\ttraining's rmse: 0.884625\tvalid_1's rmse: 0.538792\n",
      "[500]\ttraining's rmse: 0.882726\tvalid_1's rmse: 0.538588\n",
      "[525]\ttraining's rmse: 0.881009\tvalid_1's rmse: 0.538392\n",
      "[550]\ttraining's rmse: 0.879518\tvalid_1's rmse: 0.538394\n",
      "[575]\ttraining's rmse: 0.877667\tvalid_1's rmse: 0.538129\n",
      "[600]\ttraining's rmse: 0.876107\tvalid_1's rmse: 0.537977\n",
      "[625]\ttraining's rmse: 0.874498\tvalid_1's rmse: 0.53768\n",
      "[650]\ttraining's rmse: 0.872939\tvalid_1's rmse: 0.537578\n",
      "[675]\ttraining's rmse: 0.87173\tvalid_1's rmse: 0.537224\n",
      "[700]\ttraining's rmse: 0.87043\tvalid_1's rmse: 0.537009\n",
      "[725]\ttraining's rmse: 0.869041\tvalid_1's rmse: 0.536891\n",
      "[750]\ttraining's rmse: 0.867715\tvalid_1's rmse: 0.536496\n",
      "[775]\ttraining's rmse: 0.866575\tvalid_1's rmse: 0.536297\n",
      "[800]\ttraining's rmse: 0.865302\tvalid_1's rmse: 0.5363\n",
      "[825]\ttraining's rmse: 0.864149\tvalid_1's rmse: 0.536024\n",
      "[850]\ttraining's rmse: 0.862909\tvalid_1's rmse: 0.535722\n",
      "[875]\ttraining's rmse: 0.861742\tvalid_1's rmse: 0.535714\n",
      "[900]\ttraining's rmse: 0.860705\tvalid_1's rmse: 0.535593\n",
      "[925]\ttraining's rmse: 0.859726\tvalid_1's rmse: 0.5354\n",
      "[950]\ttraining's rmse: 0.858885\tvalid_1's rmse: 0.535157\n",
      "[975]\ttraining's rmse: 0.857979\tvalid_1's rmse: 0.535097\n",
      "[1000]\ttraining's rmse: 0.856994\tvalid_1's rmse: 0.535038\n",
      "[1025]\ttraining's rmse: 0.855894\tvalid_1's rmse: 0.535166\n",
      "[1050]\ttraining's rmse: 0.854989\tvalid_1's rmse: 0.535119\n",
      "Early stopping, best iteration is:\n",
      "[1000]\ttraining's rmse: 0.856994\tvalid_1's rmse: 0.535038\n",
      "Training until validation scores don't improve for 50 rounds\n",
      "[25]\ttraining's rmse: 1.04668\tvalid_1's rmse: 0.900777\n",
      "[50]\ttraining's rmse: 0.935253\tvalid_1's rmse: 0.70457\n",
      "[75]\ttraining's rmse: 0.915959\tvalid_1's rmse: 0.680575\n",
      "[100]\ttraining's rmse: 0.907299\tvalid_1's rmse: 0.676682\n",
      "[125]\ttraining's rmse: 0.901291\tvalid_1's rmse: 0.6755\n",
      "[150]\ttraining's rmse: 0.895837\tvalid_1's rmse: 0.675311\n",
      "[175]\ttraining's rmse: 0.891492\tvalid_1's rmse: 0.675003\n",
      "[200]\ttraining's rmse: 0.887984\tvalid_1's rmse: 0.674184\n",
      "[225]\ttraining's rmse: 0.884132\tvalid_1's rmse: 0.673858\n",
      "[250]\ttraining's rmse: 0.880883\tvalid_1's rmse: 0.673455\n",
      "[275]\ttraining's rmse: 0.877884\tvalid_1's rmse: 0.672554\n",
      "[300]\ttraining's rmse: 0.875236\tvalid_1's rmse: 0.671928\n",
      "[325]\ttraining's rmse: 0.872676\tvalid_1's rmse: 0.671309\n",
      "[350]\ttraining's rmse: 0.870248\tvalid_1's rmse: 0.671082\n",
      "[375]\ttraining's rmse: 0.867917\tvalid_1's rmse: 0.670383\n",
      "[400]\ttraining's rmse: 0.86594\tvalid_1's rmse: 0.669665\n",
      "[425]\ttraining's rmse: 0.864058\tvalid_1's rmse: 0.668958\n",
      "[450]\ttraining's rmse: 0.862362\tvalid_1's rmse: 0.668797\n",
      "[475]\ttraining's rmse: 0.860762\tvalid_1's rmse: 0.668455\n",
      "[500]\ttraining's rmse: 0.859202\tvalid_1's rmse: 0.668592\n",
      "[525]\ttraining's rmse: 0.85784\tvalid_1's rmse: 0.668225\n",
      "[550]\ttraining's rmse: 0.85613\tvalid_1's rmse: 0.668151\n",
      "[575]\ttraining's rmse: 0.854244\tvalid_1's rmse: 0.667548\n",
      "[600]\ttraining's rmse: 0.852524\tvalid_1's rmse: 0.667184\n",
      "[625]\ttraining's rmse: 0.850718\tvalid_1's rmse: 0.667101\n",
      "[650]\ttraining's rmse: 0.849009\tvalid_1's rmse: 0.666609\n",
      "[675]\ttraining's rmse: 0.847452\tvalid_1's rmse: 0.666227\n",
      "[700]\ttraining's rmse: 0.846207\tvalid_1's rmse: 0.665789\n",
      "[725]\ttraining's rmse: 0.844793\tvalid_1's rmse: 0.665581\n",
      "[750]\ttraining's rmse: 0.843479\tvalid_1's rmse: 0.665239\n",
      "[775]\ttraining's rmse: 0.84209\tvalid_1's rmse: 0.664812\n",
      "[800]\ttraining's rmse: 0.840974\tvalid_1's rmse: 0.664437\n",
      "[825]\ttraining's rmse: 0.839851\tvalid_1's rmse: 0.664167\n",
      "[850]\ttraining's rmse: 0.838681\tvalid_1's rmse: 0.663512\n",
      "[875]\ttraining's rmse: 0.837631\tvalid_1's rmse: 0.663092\n",
      "[900]\ttraining's rmse: 0.836521\tvalid_1's rmse: 0.662803\n",
      "[925]\ttraining's rmse: 0.835548\tvalid_1's rmse: 0.662368\n",
      "[950]\ttraining's rmse: 0.8345\tvalid_1's rmse: 0.662251\n",
      "[975]\ttraining's rmse: 0.833613\tvalid_1's rmse: 0.661755\n",
      "[1000]\ttraining's rmse: 0.832696\tvalid_1's rmse: 0.661699\n",
      "[1025]\ttraining's rmse: 0.83191\tvalid_1's rmse: 0.66149\n",
      "[1050]\ttraining's rmse: 0.831118\tvalid_1's rmse: 0.661322\n",
      "[1075]\ttraining's rmse: 0.830298\tvalid_1's rmse: 0.661233\n",
      "[1100]\ttraining's rmse: 0.829521\tvalid_1's rmse: 0.660937\n",
      "[1125]\ttraining's rmse: 0.828699\tvalid_1's rmse: 0.660669\n",
      "[1150]\ttraining's rmse: 0.827973\tvalid_1's rmse: 0.66061\n",
      "[1175]\ttraining's rmse: 0.827273\tvalid_1's rmse: 0.66057\n",
      "[1200]\ttraining's rmse: 0.826508\tvalid_1's rmse: 0.660642\n",
      "Early stopping, best iteration is:\n",
      "[1170]\ttraining's rmse: 0.82743\tvalid_1's rmse: 0.660449\n"
     ]
    }
   ],
   "source": [
    "from sklearn.model_selection import KFold\n",
    "\n",
    "params = {\n",
    "    \"objective\": \"regression\",\n",
    "    \"boosting\": \"gbdt\",\n",
    "#     \"num_leaves\": 1280,\n",
    "    \"learning_rate\": 0.05,\n",
    "    \"feature_fraction\": 0.95,\n",
    "    \"reg_lambda\": 2,\n",
    "    \"metric\": \"rmse\",\n",
    "}\n",
    "\n",
    "\n",
    "categorical_features = ['meter']\n",
    "\n",
    "kf = KFold(n_splits=4, shuffle=False)\n",
    "models = []\n",
    "for train_index,test_index in kf.split(subm_trn):\n",
    "    \n",
    "    train_features = subm_trn[features].loc[train_index]\n",
    "    train_target = subm_trn['meter_reading'].loc[train_index]\n",
    "    \n",
    "    val_features = subm_trn[features].loc[test_index]\n",
    "    val_target = subm_trn['meter_reading'].loc[test_index]\n",
    "    \n",
    "    d_training = lgb.Dataset(train_features, \n",
    "                             label=train_target,\n",
    "                             categorical_feature=categorical_features, \n",
    "                             free_raw_data=False)\n",
    "    \n",
    "    d_test = lgb.Dataset(val_features, \n",
    "                         label=val_target,\n",
    "                         categorical_feature=categorical_features, \n",
    "                         free_raw_data=False)\n",
    "    \n",
    "    model = lgb.train(params, \n",
    "                      train_set=d_training, \n",
    "                      num_boost_round=2000, \n",
    "                      valid_sets=[d_training,d_test], \n",
    "                      verbose_eval=25, \n",
    "                      early_stopping_rounds=50)\n",
    "    \n",
    "    models.append(model)\n",
    "#     del train_features, train_target, test_features, test_target, d_training, d_test\n",
    "    gc.collect()\n"
   ]
  },
  {
   "cell_type": "code",
   "execution_count": 23,
   "metadata": {},
   "outputs": [
    {
     "data": {
      "text/plain": [
       "[<lightgbm.basic.Booster at 0x242a98c4d08>,\n",
       " <lightgbm.basic.Booster at 0x242a98c55c8>,\n",
       " <lightgbm.basic.Booster at 0x242a98c7208>,\n",
       " <lightgbm.basic.Booster at 0x242a98c73c8>]"
      ]
     },
     "execution_count": 23,
     "metadata": {},
     "output_type": "execute_result"
    }
   ],
   "source": [
    "models"
   ]
  },
  {
   "cell_type": "code",
   "execution_count": 24,
   "metadata": {},
   "outputs": [
    {
     "data": {
      "image/png": "[encoded data removed]",
      "text/plain": [
       "<Figure size 432x288 with 1 Axes>"
      ]
     },
     "metadata": {
      "needs_background": "light"
     },
     "output_type": "display_data"
    },
    {
     "data": {
      "image/png": "[encoded data removed]",
      "text/plain": [
       "<Figure size 432x288 with 1 Axes>"
      ]
     },
     "metadata": {
      "needs_background": "light"
     },
     "output_type": "display_data"
    },
    {
     "data": {
      "image/png": "[encoded data removed]",
      "text/plain": [
       "<Figure size 432x288 with 1 Axes>"
      ]
     },
     "metadata": {
      "needs_background": "light"
     },
     "output_type": "display_data"
    },
    {
     "data": {
      "image/png": "[encoded data removed]",
      "text/plain": [
       "<Figure size 432x288 with 1 Axes>"
      ]
     },
     "metadata": {
      "needs_background": "light"
     },
     "output_type": "display_data"
    }
   ],
   "source": [
    "%matplotlib inline\n",
    "for model in models:\n",
    "    lgb.plot_importance(model)\n",
    "#     plt.show()"
   ]
  },
  {
   "cell_type": "code",
   "execution_count": null,
   "metadata": {},
   "outputs": [],
   "source": []
  },
  {
   "cell_type": "markdown",
   "metadata": {},
   "source": [
    "# 3. final prediction using the ensemble model on the entire test set:"
   ]
  },
  {
   "cell_type": "code",
   "execution_count": 25,
   "metadata": {},
   "outputs": [
    {
     "data": {
      "text/plain": [
       "['submission_multimeter003',\n",
       " 'submission_multimeter004_nobuild',\n",
       " 'submission_withoutleak001',\n",
       " 'submission_whatsyourcv3_0052_trncl',\n",
       " 'submission_nn007lofo',\n",
       " 'submission_nn001',\n",
       " 'submission_catboost002',\n",
       " 'fe2_lgbm',\n",
       " 'histgradboost113']"
      ]
     },
     "execution_count": 25,
     "metadata": {},
     "output_type": "execute_result"
    }
   ],
   "source": [
    "name_list"
   ]
  },
  {
   "cell_type": "code",
   "execution_count": 26,
   "metadata": {},
   "outputs": [
    {
     "name": "stderr",
     "output_type": "stream",
     "text": [
      "C:\\Users\\sbbpan\\AppData\\Local\\Continuum\\anaconda3\\lib\\site-packages\\pyarrow\\pandas_compat.py:752: FutureWarning: .labels was deprecated in version 0.24.0. Use .codes instead.\n",
      "  labels, = index.labels\n"
     ]
    }
   ],
   "source": [
    "test = pd.read_feather('./output/test_simple_cleanup.feather')\n",
    "submission = pd.read_feather('./output/leak012345_001.feather')\n",
    "subm_full = pd.concat([test[['building_id','meter']], submission['meter_reading'], subm], axis=1).reset_index(drop=True)"
   ]
  },
  {
   "cell_type": "code",
   "execution_count": 27,
   "metadata": {},
   "outputs": [],
   "source": [
    "subm_full['mean_tgt'] = subm_full[name_list].mean(axis=1)\n",
    "subm_full['median_tgt'] = subm_full[name_list].median(axis=1)"
   ]
  },
  {
   "cell_type": "code",
   "execution_count": 28,
   "metadata": {},
   "outputs": [
    {
     "data": {
      "text/plain": [
       "Index(['meter', 'submission_multimeter003', 'submission_multimeter004_nobuild',\n",
       "       'submission_withoutleak001', 'submission_whatsyourcv3_0052_trncl',\n",
       "       'submission_nn007lofo', 'submission_nn001', 'submission_catboost002',\n",
       "       'fe2_lgbm', 'histgradboost113', 'mean_tgt', 'median_tgt'],\n",
       "      dtype='object')"
      ]
     },
     "execution_count": 28,
     "metadata": {},
     "output_type": "execute_result"
    }
   ],
   "source": [
    "subm_full[features].columns"
   ]
  },
  {
   "cell_type": "code",
   "execution_count": 29,
   "metadata": {
    "scrolled": true
   },
   "outputs": [
    {
     "name": "stderr",
     "output_type": "stream",
     "text": [
      "100%|██████████████████████████████████████████████████████████████████████████████████| 84/84 [56:58<00:00, 40.70s/it]\n"
     ]
    }
   ],
   "source": [
    "from tqdm import tqdm\n",
    "i=0\n",
    "\n",
    "res = np.zeros((subm_full.shape[0]),dtype=np.float32)\n",
    "step_size = 500000\n",
    "for j in tqdm(range(int(np.ceil(subm_full.shape[0]/step_size)))):\n",
    "#     for_prediction = get_keras_data(test.iloc[i:i+step_size], numericals, categoricals)\n",
    "    for_prediction = subm_full[features].iloc[i:i+step_size]\n",
    "    res[i:min(i+step_size,subm_full.shape[0])] = \\\n",
    "       np.expm1(sum([model.predict(for_prediction, num_iteration=model.best_iteration) for model in models])/len(models))\n",
    "    i+=step_size"
   ]
  },
  {
   "cell_type": "code",
   "execution_count": 36,
   "metadata": {},
   "outputs": [],
   "source": [
    "# use of the leak for final submission:\n",
    "submission = pd.read_feather('./output/leak012345_001.feather')"
   ]
  },
  {
   "cell_type": "code",
   "execution_count": 37,
   "metadata": {},
   "outputs": [],
   "source": [
    "submission['real'] = res"
   ]
  },
  {
   "cell_type": "code",
   "execution_count": 38,
   "metadata": {},
   "outputs": [
    {
     "data": {
      "text/html": [
       "<div>\n",
       "<style scoped>\n",
       "    .dataframe tbody tr th:only-of-type {\n",
       "        vertical-align: middle;\n",
       "    }\n",
       "\n",
       "    .dataframe tbody tr th {\n",
       "        vertical-align: top;\n",
       "    }\n",
       "\n",
       "    .dataframe thead th {\n",
       "        text-align: right;\n",
       "    }\n",
       "</style>\n",
       "<table border=\"1\" class=\"dataframe\">\n",
       "  <thead>\n",
       "    <tr style=\"text-align: right;\">\n",
       "      <th></th>\n",
       "      <th>index</th>\n",
       "      <th>row_id</th>\n",
       "      <th>meter_reading</th>\n",
       "      <th>real</th>\n",
       "    </tr>\n",
       "  </thead>\n",
       "  <tbody>\n",
       "    <tr>\n",
       "      <td>0</td>\n",
       "      <td>0</td>\n",
       "      <td>0</td>\n",
       "      <td>173.3703</td>\n",
       "      <td>163.031982</td>\n",
       "    </tr>\n",
       "    <tr>\n",
       "      <td>1</td>\n",
       "      <td>1</td>\n",
       "      <td>1</td>\n",
       "      <td>53.5127</td>\n",
       "      <td>69.824280</td>\n",
       "    </tr>\n",
       "    <tr>\n",
       "      <td>2</td>\n",
       "      <td>2</td>\n",
       "      <td>2</td>\n",
       "      <td>6.1430</td>\n",
       "      <td>9.194549</td>\n",
       "    </tr>\n",
       "    <tr>\n",
       "      <td>3</td>\n",
       "      <td>3</td>\n",
       "      <td>3</td>\n",
       "      <td>101.7015</td>\n",
       "      <td>185.681519</td>\n",
       "    </tr>\n",
       "    <tr>\n",
       "      <td>4</td>\n",
       "      <td>4</td>\n",
       "      <td>4</td>\n",
       "      <td>1141.2407</td>\n",
       "      <td>1144.265137</td>\n",
       "    </tr>\n",
       "    <tr>\n",
       "      <td>...</td>\n",
       "      <td>...</td>\n",
       "      <td>...</td>\n",
       "      <td>...</td>\n",
       "      <td>...</td>\n",
       "    </tr>\n",
       "    <tr>\n",
       "      <td>41697595</td>\n",
       "      <td>41697595</td>\n",
       "      <td>41697595</td>\n",
       "      <td>-9999.9900</td>\n",
       "      <td>6.560429</td>\n",
       "    </tr>\n",
       "    <tr>\n",
       "      <td>41697596</td>\n",
       "      <td>41697596</td>\n",
       "      <td>41697596</td>\n",
       "      <td>-9999.9900</td>\n",
       "      <td>6.280246</td>\n",
       "    </tr>\n",
       "    <tr>\n",
       "      <td>41697597</td>\n",
       "      <td>41697597</td>\n",
       "      <td>41697597</td>\n",
       "      <td>-9999.9900</td>\n",
       "      <td>2.680038</td>\n",
       "    </tr>\n",
       "    <tr>\n",
       "      <td>41697598</td>\n",
       "      <td>41697598</td>\n",
       "      <td>41697598</td>\n",
       "      <td>-9999.9900</td>\n",
       "      <td>155.619186</td>\n",
       "    </tr>\n",
       "    <tr>\n",
       "      <td>41697599</td>\n",
       "      <td>41697599</td>\n",
       "      <td>41697599</td>\n",
       "      <td>-9999.9900</td>\n",
       "      <td>3.270343</td>\n",
       "    </tr>\n",
       "  </tbody>\n",
       "</table>\n",
       "<p>41697600 rows × 4 columns</p>\n",
       "</div>"
      ],
      "text/plain": [
       "             index    row_id  meter_reading         real\n",
       "0                0         0       173.3703   163.031982\n",
       "1                1         1        53.5127    69.824280\n",
       "2                2         2         6.1430     9.194549\n",
       "3                3         3       101.7015   185.681519\n",
       "4                4         4      1141.2407  1144.265137\n",
       "...            ...       ...            ...          ...\n",
       "41697595  41697595  41697595     -9999.9900     6.560429\n",
       "41697596  41697596  41697596     -9999.9900     6.280246\n",
       "41697597  41697597  41697597     -9999.9900     2.680038\n",
       "41697598  41697598  41697598     -9999.9900   155.619186\n",
       "41697599  41697599  41697599     -9999.9900     3.270343\n",
       "\n",
       "[41697600 rows x 4 columns]"
      ]
     },
     "execution_count": 38,
     "metadata": {},
     "output_type": "execute_result"
    }
   ],
   "source": [
    "submission"
   ]
  },
  {
   "cell_type": "code",
   "execution_count": 33,
   "metadata": {},
   "outputs": [],
   "source": [
    "# concatenation of the leak and the ensembling prediction:\n",
    "submission['meter_reading']  = np.where(submission.meter_reading==-9999.99, submission['real'], submission['meter_reading'])\n"
   ]
  },
  {
   "cell_type": "code",
   "execution_count": 34,
   "metadata": {},
   "outputs": [],
   "source": [
    "submission[['row_id','meter_reading']].to_csv('./output/submission_ensemble_3rd_place.csv.gz', index=False,  compression='gzip', float_format='%.4f', chunksize=25000)"
   ]
  },
  {
   "cell_type": "code",
   "execution_count": 35,
   "metadata": {},
   "outputs": [],
   "source": [
    "#!kaggle competitions submit -c ashrae-energy-prediction -f submission_ensemble_3rd_place.csv.gz -m \"final ensemble 3rd place position\"\n"
   ]
  }
 ],
 "metadata": {
  "kernelspec": {
   "display_name": "Python 3",
   "language": "python",
   "name": "python3"
  },
  "language_info": {
   "codemirror_mode": {
    "name": "ipython",
    "version": 3
   },
   "file_extension": ".py",
   "mimetype": "text/x-python",
   "name": "python",
   "nbconvert_exporter": "python",
   "pygments_lexer": "ipython3",
   "version": "3.7.4"
  }
 },
 "nbformat": 4,
 "nbformat_minor": 2
}
