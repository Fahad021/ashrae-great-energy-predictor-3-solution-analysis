{
 "cells": [
  {
   "cell_type": "code",
   "execution_count": 1,
   "metadata": {
    "ExecuteTime": {
     "end_time": "2020-04-25T06:40:38.172900Z",
     "start_time": "2020-04-25T06:40:37.865852Z"
    }
   },
   "outputs": [],
   "source": [
    "import numpy as np\n",
    "import pandas as pd\n",
    "import glob"
   ]
  },
  {
   "cell_type": "markdown",
   "metadata": {},
   "source": [
    "# 1. Creation of the ensemble training set"
   ]
  },
  {
   "cell_type": "code",
   "execution_count": 2,
   "metadata": {
    "ExecuteTime": {
     "end_time": "2020-04-25T06:40:38.441416Z",
     "start_time": "2020-04-25T06:40:38.174687Z"
    }
   },
   "outputs": [],
   "source": [
    "# load the leak that will be used to run the ensemble\n",
    "submission = pd.read_feather('leak012345_001.feather')"
   ]
  },
  {
   "cell_type": "code",
   "execution_count": 3,
   "metadata": {
    "ExecuteTime": {
     "end_time": "2020-04-25T06:40:48.987327Z",
     "start_time": "2020-04-25T06:40:38.443563Z"
    }
   },
   "outputs": [],
   "source": [
    "# initiate the load of the predictions of level 1\n",
    "sub = pd.read_csv('./sample_submission.csv')\n",
    "del sub['meter_reading']"
   ]
  },
  {
   "cell_type": "code",
   "execution_count": null,
   "metadata": {},
   "outputs": [],
   "source": []
  },
  {
   "cell_type": "code",
   "execution_count": 4,
   "metadata": {
    "ExecuteTime": {
     "end_time": "2020-04-25T06:40:48.996450Z",
     "start_time": "2020-04-25T06:40:48.990741Z"
    }
   },
   "outputs": [],
   "source": [
    "# list of predictions of level 1 used as features in ensembling model:\n",
    "\n",
    "sublist = [\n",
    "'submission_multimeter003.csv.gz',          #level1--submission_multimeter003--lightgbm.ipynb\n",
    "'submission_multimeter004_nobuild.csv.gz',  #level1--submission_multimeter004_nobuild--lightgbm.ipynb\n",
    "'submission_withoutleak001.csv.gz',         #level1--submission_withoutleak001--lightgbm.ipynb\n",
    "'submission_whatsyourcv3_0052_trncl.csv.gz',#level1--submission_whatsyourcv3_0052_trncl--lightgbm.ipynb\n",
    "\n",
    "'submission_nn007lofo.csv.gz',  #level1--submission_nn007lofo--CNN.ipynb\n",
    "'submission_nn001.csv',         #level1--submission_nn001--DenseNN.ipynb\n",
    "     \n",
    "'submission_catboost002.csv.gz',   #level1--catboost002--Catboost.ipynb\n",
    "      \n",
    "'fe2_lgbm.csv',               #downloaded from https://www.kaggle.com/ragnar123/another-1-08-lb-no-leak (1st commit)\n",
    "'histgradboost113.csv',       #downloaded from https://www.kaggle.com/tunguz/ashrae-histgradientboosting (version 7 and rename it to histgradboost113.csv)\n",
    "\n",
    "          ]"
   ]
  },
  {
   "cell_type": "markdown",
   "metadata": {},
   "source": [
    "In the list above, fe2_lgbm.csv and histgradboost113.csv have been downloaded from https://www.kaggle.com/ragnar123/another-1-08-lb-no-leak (commit #1) and https://www.kaggle.com/tunguz/ashrae-histgradientboosting (commit #7, and rename it to histgradboost113.csv) respectively."
   ]
  },
  {
   "cell_type": "code",
   "execution_count": 5,
   "metadata": {
    "ExecuteTime": {
     "end_time": "2020-04-25T06:40:49.003604Z",
     "start_time": "2020-04-25T06:40:48.998395Z"
    }
   },
   "outputs": [],
   "source": [
    "\n",
    "# function to aggregate the predictions in one unique pandas\n",
    "def join_sub(pathlist, sub):\n",
    "    name_list = []\n",
    "    for path in pathlist:\n",
    "        name_tmp = path.split('/')[-1].split('.')[0]\n",
    "        print(name_tmp)\n",
    "        sub_tmp = pd.read_csv(path).sort_values(by='row_id')\n",
    "        sub_tmp.rename(columns={'meter_reading': name_tmp}, inplace=True)\n",
    "        \n",
    "        sub_tmp[name_tmp] = sub_tmp[name_tmp].apply(lambda x: 0 if x < 0 else x)\n",
    "        sub_tmp[name_tmp] = np.log1p(sub_tmp[name_tmp].values)\n",
    "                                                                  \n",
    "        sub = pd.concat([sub, sub_tmp[name_tmp]], axis=1)\n",
    "        name_list.append(name_tmp)\n",
    "    return sub, name_list"
   ]
  },
  {
   "cell_type": "code",
   "execution_count": 6,
   "metadata": {
    "ExecuteTime": {
     "end_time": "2020-04-25T06:40:49.066075Z",
     "start_time": "2020-04-25T06:40:49.005242Z"
    }
   },
   "outputs": [
    {
     "data": {
      "text/plain": [
       "7"
      ]
     },
     "execution_count": 6,
     "metadata": {},
     "output_type": "execute_result"
    }
   ],
   "source": [
    "import gc\n",
    "gc.collect()"
   ]
  },
  {
   "cell_type": "code",
   "execution_count": 7,
   "metadata": {
    "ExecuteTime": {
     "end_time": "2020-04-25T06:45:22.623628Z",
     "start_time": "2020-04-25T06:40:49.068212Z"
    }
   },
   "outputs": [
    {
     "name": "stdout",
     "output_type": "stream",
     "text": [
      "submission_multimeter003\n",
      "submission_multimeter004_nobuild\n",
      "submission_withoutleak001\n",
      "submission_whatsyourcv3_0052_trncl\n",
      "submission_nn007lofo\n",
      "submission_nn001\n",
      "submission_catboost002\n",
      "fe2_lgbm\n",
      "histgradboost113\n"
     ]
    }
   ],
   "source": [
    "subm, name_list = join_sub(sublist, sub)"
   ]
  },
  {
   "cell_type": "code",
   "execution_count": 8,
   "metadata": {
    "ExecuteTime": {
     "end_time": "2020-04-25T06:45:23.286367Z",
     "start_time": "2020-04-25T06:45:22.635150Z"
    }
   },
   "outputs": [
    {
     "name": "stdout",
     "output_type": "stream",
     "text": [
      "<class 'pandas.core.frame.DataFrame'>\n",
      "RangeIndex: 41697600 entries, 0 to 41697599\n",
      "Data columns (total 10 columns):\n",
      "row_id                                int64\n",
      "submission_multimeter003              float64\n",
      "submission_multimeter004_nobuild      float64\n",
      "submission_withoutleak001             float64\n",
      "submission_whatsyourcv3_0052_trncl    float64\n",
      "submission_nn007lofo                  float64\n",
      "submission_nn001                      float64\n",
      "submission_catboost002                float64\n",
      "fe2_lgbm                              float64\n",
      "histgradboost113                      float64\n",
      "dtypes: float64(9), int64(1)\n",
      "memory usage: 3.1 GB\n"
     ]
    }
   ],
   "source": [
    "subm.info()"
   ]
  },
  {
   "cell_type": "code",
   "execution_count": 9,
   "metadata": {
    "ExecuteTime": {
     "end_time": "2020-04-25T06:45:23.306717Z",
     "start_time": "2020-04-25T06:45:23.288580Z"
    }
   },
   "outputs": [
    {
     "data": {
      "text/html": [
       "<div>\n",
       "<style scoped>\n",
       "    .dataframe tbody tr th:only-of-type {\n",
       "        vertical-align: middle;\n",
       "    }\n",
       "\n",
       "    .dataframe tbody tr th {\n",
       "        vertical-align: top;\n",
       "    }\n",
       "\n",
       "    .dataframe thead th {\n",
       "        text-align: right;\n",
       "    }\n",
       "</style>\n",
       "<table border=\"1\" class=\"dataframe\">\n",
       "  <thead>\n",
       "    <tr style=\"text-align: right;\">\n",
       "      <th></th>\n",
       "      <th>row_id</th>\n",
       "      <th>submission_multimeter003</th>\n",
       "      <th>submission_multimeter004_nobuild</th>\n",
       "      <th>submission_withoutleak001</th>\n",
       "      <th>submission_whatsyourcv3_0052_trncl</th>\n",
       "      <th>submission_nn007lofo</th>\n",
       "      <th>submission_nn001</th>\n",
       "      <th>submission_catboost002</th>\n",
       "      <th>fe2_lgbm</th>\n",
       "      <th>histgradboost113</th>\n",
       "    </tr>\n",
       "  </thead>\n",
       "  <tbody>\n",
       "    <tr>\n",
       "      <th>0</th>\n",
       "      <td>0</td>\n",
       "      <td>5.137161</td>\n",
       "      <td>5.089294</td>\n",
       "      <td>5.029254</td>\n",
       "      <td>5.132836</td>\n",
       "      <td>5.320779</td>\n",
       "      <td>5.407233</td>\n",
       "      <td>3.611923</td>\n",
       "      <td>5.035160</td>\n",
       "      <td>5.200388</td>\n",
       "    </tr>\n",
       "    <tr>\n",
       "      <th>1</th>\n",
       "      <td>1</td>\n",
       "      <td>4.188979</td>\n",
       "      <td>4.347297</td>\n",
       "      <td>4.294870</td>\n",
       "      <td>4.211026</td>\n",
       "      <td>4.569920</td>\n",
       "      <td>4.608794</td>\n",
       "      <td>2.693965</td>\n",
       "      <td>4.466447</td>\n",
       "      <td>4.432485</td>\n",
       "    </tr>\n",
       "    <tr>\n",
       "      <th>2</th>\n",
       "      <td>2</td>\n",
       "      <td>2.020209</td>\n",
       "      <td>2.859998</td>\n",
       "      <td>2.371897</td>\n",
       "      <td>2.175479</td>\n",
       "      <td>2.059366</td>\n",
       "      <td>2.404678</td>\n",
       "      <td>1.450981</td>\n",
       "      <td>2.397863</td>\n",
       "      <td>2.427290</td>\n",
       "    </tr>\n",
       "    <tr>\n",
       "      <th>3</th>\n",
       "      <td>3</td>\n",
       "      <td>5.323947</td>\n",
       "      <td>5.389109</td>\n",
       "      <td>5.516343</td>\n",
       "      <td>5.686560</td>\n",
       "      <td>5.832538</td>\n",
       "      <td>5.848543</td>\n",
       "      <td>3.966863</td>\n",
       "      <td>5.485559</td>\n",
       "      <td>5.559772</td>\n",
       "    </tr>\n",
       "    <tr>\n",
       "      <th>4</th>\n",
       "      <td>4</td>\n",
       "      <td>7.141346</td>\n",
       "      <td>6.876189</td>\n",
       "      <td>7.246858</td>\n",
       "      <td>7.121456</td>\n",
       "      <td>7.071405</td>\n",
       "      <td>7.383540</td>\n",
       "      <td>4.560792</td>\n",
       "      <td>7.024336</td>\n",
       "      <td>7.006811</td>\n",
       "    </tr>\n",
       "  </tbody>\n",
       "</table>\n",
       "</div>"
      ],
      "text/plain": [
       "   row_id  submission_multimeter003  submission_multimeter004_nobuild  \\\n",
       "0       0                  5.137161                          5.089294   \n",
       "1       1                  4.188979                          4.347297   \n",
       "2       2                  2.020209                          2.859998   \n",
       "3       3                  5.323947                          5.389109   \n",
       "4       4                  7.141346                          6.876189   \n",
       "\n",
       "   submission_withoutleak001  submission_whatsyourcv3_0052_trncl  \\\n",
       "0                   5.029254                            5.132836   \n",
       "1                   4.294870                            4.211026   \n",
       "2                   2.371897                            2.175479   \n",
       "3                   5.516343                            5.686560   \n",
       "4                   7.246858                            7.121456   \n",
       "\n",
       "   submission_nn007lofo  submission_nn001  submission_catboost002  fe2_lgbm  \\\n",
       "0              5.320779          5.407233                3.611923  5.035160   \n",
       "1              4.569920          4.608794                2.693965  4.466447   \n",
       "2              2.059366          2.404678                1.450981  2.397863   \n",
       "3              5.832538          5.848543                3.966863  5.485559   \n",
       "4              7.071405          7.383540                4.560792  7.024336   \n",
       "\n",
       "   histgradboost113  \n",
       "0          5.200388  \n",
       "1          4.432485  \n",
       "2          2.427290  \n",
       "3          5.559772  \n",
       "4          7.006811  "
      ]
     },
     "execution_count": 9,
     "metadata": {},
     "output_type": "execute_result"
    }
   ],
   "source": [
    "subm.head()"
   ]
  },
  {
   "cell_type": "code",
   "execution_count": 10,
   "metadata": {
    "ExecuteTime": {
     "end_time": "2020-04-25T06:46:04.365122Z",
     "start_time": "2020-04-25T06:45:23.308968Z"
    }
   },
   "outputs": [
    {
     "data": {
      "text/html": [
       "<div>\n",
       "<style scoped>\n",
       "    .dataframe tbody tr th:only-of-type {\n",
       "        vertical-align: middle;\n",
       "    }\n",
       "\n",
       "    .dataframe tbody tr th {\n",
       "        vertical-align: top;\n",
       "    }\n",
       "\n",
       "    .dataframe thead th {\n",
       "        text-align: right;\n",
       "    }\n",
       "</style>\n",
       "<table border=\"1\" class=\"dataframe\">\n",
       "  <thead>\n",
       "    <tr style=\"text-align: right;\">\n",
       "      <th></th>\n",
       "      <th>row_id</th>\n",
       "      <th>building_id</th>\n",
       "      <th>meter</th>\n",
       "      <th>timestamp</th>\n",
       "      <th>site_id</th>\n",
       "      <th>primary_use</th>\n",
       "      <th>square_feet</th>\n",
       "      <th>year_built</th>\n",
       "      <th>floor_count</th>\n",
       "      <th>na_year_built</th>\n",
       "      <th>...</th>\n",
       "      <th>had_heat</th>\n",
       "      <th>had_windchill</th>\n",
       "      <th>had_feellike</th>\n",
       "      <th>had_air_temperature_mean_lag3</th>\n",
       "      <th>had_dew_temperature_mean_lag3</th>\n",
       "      <th>had_heat_mean_lag3</th>\n",
       "      <th>had_windchill_mean_lag3</th>\n",
       "      <th>had_feellike_mean_lag3</th>\n",
       "      <th>tm_day_of_week</th>\n",
       "      <th>tm_hour_of_day</th>\n",
       "    </tr>\n",
       "  </thead>\n",
       "  <tbody>\n",
       "    <tr>\n",
       "      <th>0</th>\n",
       "      <td>0</td>\n",
       "      <td>0</td>\n",
       "      <td>0</td>\n",
       "      <td>8784</td>\n",
       "      <td>0</td>\n",
       "      <td>0</td>\n",
       "      <td>7432</td>\n",
       "      <td>2008</td>\n",
       "      <td>-1</td>\n",
       "      <td>0</td>\n",
       "      <td>...</td>\n",
       "      <td>1</td>\n",
       "      <td>1</td>\n",
       "      <td>1</td>\n",
       "      <td>1</td>\n",
       "      <td>1</td>\n",
       "      <td>1</td>\n",
       "      <td>1</td>\n",
       "      <td>1</td>\n",
       "      <td>2</td>\n",
       "      <td>0</td>\n",
       "    </tr>\n",
       "    <tr>\n",
       "      <th>1</th>\n",
       "      <td>1</td>\n",
       "      <td>1</td>\n",
       "      <td>0</td>\n",
       "      <td>8784</td>\n",
       "      <td>0</td>\n",
       "      <td>0</td>\n",
       "      <td>2720</td>\n",
       "      <td>2004</td>\n",
       "      <td>-1</td>\n",
       "      <td>0</td>\n",
       "      <td>...</td>\n",
       "      <td>1</td>\n",
       "      <td>1</td>\n",
       "      <td>1</td>\n",
       "      <td>1</td>\n",
       "      <td>1</td>\n",
       "      <td>1</td>\n",
       "      <td>1</td>\n",
       "      <td>1</td>\n",
       "      <td>2</td>\n",
       "      <td>0</td>\n",
       "    </tr>\n",
       "    <tr>\n",
       "      <th>2</th>\n",
       "      <td>2</td>\n",
       "      <td>2</td>\n",
       "      <td>0</td>\n",
       "      <td>8784</td>\n",
       "      <td>0</td>\n",
       "      <td>0</td>\n",
       "      <td>5376</td>\n",
       "      <td>1991</td>\n",
       "      <td>-1</td>\n",
       "      <td>0</td>\n",
       "      <td>...</td>\n",
       "      <td>1</td>\n",
       "      <td>1</td>\n",
       "      <td>1</td>\n",
       "      <td>1</td>\n",
       "      <td>1</td>\n",
       "      <td>1</td>\n",
       "      <td>1</td>\n",
       "      <td>1</td>\n",
       "      <td>2</td>\n",
       "      <td>0</td>\n",
       "    </tr>\n",
       "    <tr>\n",
       "      <th>3</th>\n",
       "      <td>3</td>\n",
       "      <td>3</td>\n",
       "      <td>0</td>\n",
       "      <td>8784</td>\n",
       "      <td>0</td>\n",
       "      <td>0</td>\n",
       "      <td>23685</td>\n",
       "      <td>2002</td>\n",
       "      <td>-1</td>\n",
       "      <td>0</td>\n",
       "      <td>...</td>\n",
       "      <td>1</td>\n",
       "      <td>1</td>\n",
       "      <td>1</td>\n",
       "      <td>1</td>\n",
       "      <td>1</td>\n",
       "      <td>1</td>\n",
       "      <td>1</td>\n",
       "      <td>1</td>\n",
       "      <td>2</td>\n",
       "      <td>0</td>\n",
       "    </tr>\n",
       "    <tr>\n",
       "      <th>4</th>\n",
       "      <td>4</td>\n",
       "      <td>4</td>\n",
       "      <td>0</td>\n",
       "      <td>8784</td>\n",
       "      <td>0</td>\n",
       "      <td>0</td>\n",
       "      <td>116607</td>\n",
       "      <td>1975</td>\n",
       "      <td>-1</td>\n",
       "      <td>0</td>\n",
       "      <td>...</td>\n",
       "      <td>1</td>\n",
       "      <td>1</td>\n",
       "      <td>1</td>\n",
       "      <td>1</td>\n",
       "      <td>1</td>\n",
       "      <td>1</td>\n",
       "      <td>1</td>\n",
       "      <td>1</td>\n",
       "      <td>2</td>\n",
       "      <td>0</td>\n",
       "    </tr>\n",
       "  </tbody>\n",
       "</table>\n",
       "<p>5 rows × 54 columns</p>\n",
       "</div>"
      ],
      "text/plain": [
       "   row_id  building_id  meter  timestamp  site_id  primary_use  square_feet  \\\n",
       "0       0            0      0       8784        0            0         7432   \n",
       "1       1            1      0       8784        0            0         2720   \n",
       "2       2            2      0       8784        0            0         5376   \n",
       "3       3            3      0       8784        0            0        23685   \n",
       "4       4            4      0       8784        0            0       116607   \n",
       "\n",
       "   year_built  floor_count  na_year_built  ...  had_heat  had_windchill  \\\n",
       "0        2008           -1              0  ...         1              1   \n",
       "1        2004           -1              0  ...         1              1   \n",
       "2        1991           -1              0  ...         1              1   \n",
       "3        2002           -1              0  ...         1              1   \n",
       "4        1975           -1              0  ...         1              1   \n",
       "\n",
       "   had_feellike  had_air_temperature_mean_lag3  had_dew_temperature_mean_lag3  \\\n",
       "0             1                              1                              1   \n",
       "1             1                              1                              1   \n",
       "2             1                              1                              1   \n",
       "3             1                              1                              1   \n",
       "4             1                              1                              1   \n",
       "\n",
       "   had_heat_mean_lag3  had_windchill_mean_lag3  had_feellike_mean_lag3  \\\n",
       "0                   1                        1                       1   \n",
       "1                   1                        1                       1   \n",
       "2                   1                        1                       1   \n",
       "3                   1                        1                       1   \n",
       "4                   1                        1                       1   \n",
       "\n",
       "   tm_day_of_week  tm_hour_of_day  \n",
       "0               2               0  \n",
       "1               2               0  \n",
       "2               2               0  \n",
       "3               2               0  \n",
       "4               2               0  \n",
       "\n",
       "[5 rows x 54 columns]"
      ]
     },
     "execution_count": 10,
     "metadata": {},
     "output_type": "execute_result"
    }
   ],
   "source": [
    "test = pd.read_feather('test_simple_cleanup.feather')\n",
    "test.head()"
   ]
  },
  {
   "cell_type": "code",
   "execution_count": 11,
   "metadata": {
    "ExecuteTime": {
     "end_time": "2020-04-25T06:46:04.369458Z",
     "start_time": "2020-04-25T06:46:04.367131Z"
    }
   },
   "outputs": [],
   "source": [
    "#test.info()"
   ]
  },
  {
   "cell_type": "code",
   "execution_count": 12,
   "metadata": {
    "ExecuteTime": {
     "end_time": "2020-04-25T06:46:06.140586Z",
     "start_time": "2020-04-25T06:46:04.370910Z"
    }
   },
   "outputs": [
    {
     "data": {
      "text/html": [
       "<div>\n",
       "<style scoped>\n",
       "    .dataframe tbody tr th:only-of-type {\n",
       "        vertical-align: middle;\n",
       "    }\n",
       "\n",
       "    .dataframe tbody tr th {\n",
       "        vertical-align: top;\n",
       "    }\n",
       "\n",
       "    .dataframe thead th {\n",
       "        text-align: right;\n",
       "    }\n",
       "</style>\n",
       "<table border=\"1\" class=\"dataframe\">\n",
       "  <thead>\n",
       "    <tr style=\"text-align: right;\">\n",
       "      <th></th>\n",
       "      <th>building_id</th>\n",
       "      <th>meter</th>\n",
       "      <th>meter_reading</th>\n",
       "      <th>row_id</th>\n",
       "      <th>submission_multimeter003</th>\n",
       "      <th>submission_multimeter004_nobuild</th>\n",
       "      <th>submission_withoutleak001</th>\n",
       "      <th>submission_whatsyourcv3_0052_trncl</th>\n",
       "      <th>submission_nn007lofo</th>\n",
       "      <th>submission_nn001</th>\n",
       "      <th>submission_catboost002</th>\n",
       "      <th>fe2_lgbm</th>\n",
       "      <th>histgradboost113</th>\n",
       "    </tr>\n",
       "  </thead>\n",
       "  <tbody>\n",
       "    <tr>\n",
       "      <th>0</th>\n",
       "      <td>0</td>\n",
       "      <td>0</td>\n",
       "      <td>173.3703</td>\n",
       "      <td>0</td>\n",
       "      <td>5.137161</td>\n",
       "      <td>5.089294</td>\n",
       "      <td>5.029254</td>\n",
       "      <td>5.132836</td>\n",
       "      <td>5.320779</td>\n",
       "      <td>5.407233</td>\n",
       "      <td>3.611923</td>\n",
       "      <td>5.035160</td>\n",
       "      <td>5.200388</td>\n",
       "    </tr>\n",
       "    <tr>\n",
       "      <th>1</th>\n",
       "      <td>1</td>\n",
       "      <td>0</td>\n",
       "      <td>53.5127</td>\n",
       "      <td>1</td>\n",
       "      <td>4.188979</td>\n",
       "      <td>4.347297</td>\n",
       "      <td>4.294870</td>\n",
       "      <td>4.211026</td>\n",
       "      <td>4.569920</td>\n",
       "      <td>4.608794</td>\n",
       "      <td>2.693965</td>\n",
       "      <td>4.466447</td>\n",
       "      <td>4.432485</td>\n",
       "    </tr>\n",
       "    <tr>\n",
       "      <th>2</th>\n",
       "      <td>2</td>\n",
       "      <td>0</td>\n",
       "      <td>6.1430</td>\n",
       "      <td>2</td>\n",
       "      <td>2.020209</td>\n",
       "      <td>2.859998</td>\n",
       "      <td>2.371897</td>\n",
       "      <td>2.175479</td>\n",
       "      <td>2.059366</td>\n",
       "      <td>2.404678</td>\n",
       "      <td>1.450981</td>\n",
       "      <td>2.397863</td>\n",
       "      <td>2.427290</td>\n",
       "    </tr>\n",
       "    <tr>\n",
       "      <th>3</th>\n",
       "      <td>3</td>\n",
       "      <td>0</td>\n",
       "      <td>101.7015</td>\n",
       "      <td>3</td>\n",
       "      <td>5.323947</td>\n",
       "      <td>5.389109</td>\n",
       "      <td>5.516343</td>\n",
       "      <td>5.686560</td>\n",
       "      <td>5.832538</td>\n",
       "      <td>5.848543</td>\n",
       "      <td>3.966863</td>\n",
       "      <td>5.485559</td>\n",
       "      <td>5.559772</td>\n",
       "    </tr>\n",
       "    <tr>\n",
       "      <th>4</th>\n",
       "      <td>4</td>\n",
       "      <td>0</td>\n",
       "      <td>1141.2407</td>\n",
       "      <td>4</td>\n",
       "      <td>7.141346</td>\n",
       "      <td>6.876189</td>\n",
       "      <td>7.246858</td>\n",
       "      <td>7.121456</td>\n",
       "      <td>7.071405</td>\n",
       "      <td>7.383540</td>\n",
       "      <td>4.560792</td>\n",
       "      <td>7.024336</td>\n",
       "      <td>7.006811</td>\n",
       "    </tr>\n",
       "  </tbody>\n",
       "</table>\n",
       "</div>"
      ],
      "text/plain": [
       "   building_id  meter  meter_reading  row_id  submission_multimeter003  \\\n",
       "0            0      0       173.3703       0                  5.137161   \n",
       "1            1      0        53.5127       1                  4.188979   \n",
       "2            2      0         6.1430       2                  2.020209   \n",
       "3            3      0       101.7015       3                  5.323947   \n",
       "4            4      0      1141.2407       4                  7.141346   \n",
       "\n",
       "   submission_multimeter004_nobuild  submission_withoutleak001  \\\n",
       "0                          5.089294                   5.029254   \n",
       "1                          4.347297                   4.294870   \n",
       "2                          2.859998                   2.371897   \n",
       "3                          5.389109                   5.516343   \n",
       "4                          6.876189                   7.246858   \n",
       "\n",
       "   submission_whatsyourcv3_0052_trncl  submission_nn007lofo  submission_nn001  \\\n",
       "0                            5.132836              5.320779          5.407233   \n",
       "1                            4.211026              4.569920          4.608794   \n",
       "2                            2.175479              2.059366          2.404678   \n",
       "3                            5.686560              5.832538          5.848543   \n",
       "4                            7.121456              7.071405          7.383540   \n",
       "\n",
       "   submission_catboost002  fe2_lgbm  histgradboost113  \n",
       "0                3.611923  5.035160          5.200388  \n",
       "1                2.693965  4.466447          4.432485  \n",
       "2                1.450981  2.397863          2.427290  \n",
       "3                3.966863  5.485559          5.559772  \n",
       "4                4.560792  7.024336          7.006811  "
      ]
     },
     "execution_count": 12,
     "metadata": {},
     "output_type": "execute_result"
    }
   ],
   "source": [
    "# the training set is the aggregation of the predictions of level 1, the leaky target and some raw features from the test set\n",
    "subm_full = pd.concat([test[['building_id','meter']], submission['meter_reading'], subm], axis=1).reset_index(drop=True)\n",
    "subm_full.head()"
   ]
  },
  {
   "cell_type": "code",
   "execution_count": 13,
   "metadata": {
    "ExecuteTime": {
     "end_time": "2020-04-25T06:46:06.152258Z",
     "start_time": "2020-04-25T06:46:06.142909Z"
    }
   },
   "outputs": [
    {
     "name": "stdout",
     "output_type": "stream",
     "text": [
      "<class 'pandas.core.frame.DataFrame'>\n",
      "RangeIndex: 41697600 entries, 0 to 41697599\n",
      "Data columns (total 13 columns):\n",
      "building_id                           int16\n",
      "meter                                 int8\n",
      "meter_reading                         float64\n",
      "row_id                                int64\n",
      "submission_multimeter003              float64\n",
      "submission_multimeter004_nobuild      float64\n",
      "submission_withoutleak001             float64\n",
      "submission_whatsyourcv3_0052_trncl    float64\n",
      "submission_nn007lofo                  float64\n",
      "submission_nn001                      float64\n",
      "submission_catboost002                float64\n",
      "fe2_lgbm                              float64\n",
      "histgradboost113                      float64\n",
      "dtypes: float64(10), int16(1), int64(1), int8(1)\n",
      "memory usage: 3.5 GB\n"
     ]
    }
   ],
   "source": [
    "subm_full.info()"
   ]
  },
  {
   "cell_type": "code",
   "execution_count": 14,
   "metadata": {
    "ExecuteTime": {
     "end_time": "2020-04-25T06:46:06.242416Z",
     "start_time": "2020-04-25T06:46:06.154977Z"
    }
   },
   "outputs": [
    {
     "data": {
      "text/plain": [
       "21"
      ]
     },
     "execution_count": 14,
     "metadata": {},
     "output_type": "execute_result"
    }
   ],
   "source": [
    "del submission\n",
    "del test\n",
    "import gc\n",
    "gc.collect()"
   ]
  },
  {
   "cell_type": "code",
   "execution_count": 15,
   "metadata": {
    "ExecuteTime": {
     "end_time": "2020-04-25T06:46:09.327302Z",
     "start_time": "2020-04-25T06:46:06.245194Z"
    }
   },
   "outputs": [
    {
     "data": {
      "text/plain": [
       "((7027893, 13), (34669707, 13))"
      ]
     },
     "execution_count": 15,
     "metadata": {},
     "output_type": "execute_result"
    }
   ],
   "source": [
    "# the training set are the rows from the leak when all the other are the ones that are still unknown.\n",
    "subm_trn = subm_full[subm_full.meter_reading!=-9999.99].reset_index(drop=True)\n",
    "subm_tst = subm_full[subm_full.meter_reading==-9999.99].reset_index(drop=True)\n",
    "\n",
    "subm_trn.shape, subm_tst.shape"
   ]
  },
  {
   "cell_type": "code",
   "execution_count": 16,
   "metadata": {
    "ExecuteTime": {
     "end_time": "2020-04-25T06:46:09.435850Z",
     "start_time": "2020-04-25T06:46:09.330146Z"
    }
   },
   "outputs": [
    {
     "data": {
      "text/plain": [
       "0"
      ]
     },
     "execution_count": 16,
     "metadata": {},
     "output_type": "execute_result"
    }
   ],
   "source": [
    "del subm_full\n",
    "gc.collect()"
   ]
  },
  {
   "cell_type": "code",
   "execution_count": 17,
   "metadata": {
    "ExecuteTime": {
     "end_time": "2020-04-25T06:46:11.104811Z",
     "start_time": "2020-04-25T06:46:09.437917Z"
    }
   },
   "outputs": [],
   "source": [
    "subm_trn['meter_reading'] = subm_trn['meter_reading'].apply(lambda x: 0 if x < 0 else x)\n",
    "subm_trn['meter_reading'] = np.log1p(subm_trn['meter_reading'].values)"
   ]
  },
  {
   "cell_type": "code",
   "execution_count": 18,
   "metadata": {
    "ExecuteTime": {
     "end_time": "2020-04-25T06:46:11.111828Z",
     "start_time": "2020-04-25T06:46:11.107060Z"
    }
   },
   "outputs": [
    {
     "data": {
      "text/plain": [
       "['submission_multimeter003',\n",
       " 'submission_multimeter004_nobuild',\n",
       " 'submission_withoutleak001',\n",
       " 'submission_whatsyourcv3_0052_trncl',\n",
       " 'submission_nn007lofo',\n",
       " 'submission_nn001',\n",
       " 'submission_catboost002',\n",
       " 'fe2_lgbm',\n",
       " 'histgradboost113']"
      ]
     },
     "execution_count": 18,
     "metadata": {},
     "output_type": "execute_result"
    }
   ],
   "source": [
    "# features in the ensemble training set that are predictions from level 1:\n",
    "name_list = [x for x in subm_trn.columns if x not in ['row_id', 'building_id', 'meter', 'meter_reading']]\n",
    "name_list"
   ]
  },
  {
   "cell_type": "code",
   "execution_count": 19,
   "metadata": {
    "ExecuteTime": {
     "end_time": "2020-04-25T06:46:12.496476Z",
     "start_time": "2020-04-25T06:46:11.114127Z"
    }
   },
   "outputs": [],
   "source": [
    "# simple feature engineering:\n",
    "subm_trn['mean_tgt'] = subm_trn[name_list].mean(axis=1)\n",
    "subm_trn['median_tgt'] = subm_trn[name_list].median(axis=1)"
   ]
  },
  {
   "cell_type": "code",
   "execution_count": 20,
   "metadata": {
    "ExecuteTime": {
     "end_time": "2020-04-25T06:46:12.502976Z",
     "start_time": "2020-04-25T06:46:12.498411Z"
    }
   },
   "outputs": [
    {
     "data": {
      "text/plain": [
       "['meter',\n",
       " 'submission_multimeter003',\n",
       " 'submission_multimeter004_nobuild',\n",
       " 'submission_withoutleak001',\n",
       " 'submission_whatsyourcv3_0052_trncl',\n",
       " 'submission_nn007lofo',\n",
       " 'submission_nn001',\n",
       " 'submission_catboost002',\n",
       " 'fe2_lgbm',\n",
       " 'histgradboost113',\n",
       " 'mean_tgt',\n",
       " 'median_tgt']"
      ]
     },
     "execution_count": 20,
     "metadata": {},
     "output_type": "execute_result"
    }
   ],
   "source": [
    "# the raw feature \"meter\" is added to all the predictions from level 1:\n",
    "features = [x for x in subm_trn.columns if x not in ['row_id', 'building_id', 'meter_reading']]\n",
    "features"
   ]
  },
  {
   "cell_type": "code",
   "execution_count": null,
   "metadata": {},
   "outputs": [],
   "source": []
  },
  {
   "cell_type": "markdown",
   "metadata": {},
   "source": [
    "# 2. run the ensemble model"
   ]
  },
  {
   "cell_type": "code",
   "execution_count": 21,
   "metadata": {
    "ExecuteTime": {
     "end_time": "2020-04-25T06:46:12.839355Z",
     "start_time": "2020-04-25T06:46:12.505264Z"
    }
   },
   "outputs": [],
   "source": [
    "import gc\n",
    "import os\n",
    "import random\n",
    "\n",
    "import lightgbm as lgb\n",
    "import numpy as np"
   ]
  },
  {
   "cell_type": "code",
   "execution_count": 22,
   "metadata": {
    "ExecuteTime": {
     "end_time": "2020-04-25T06:50:12.769918Z",
     "start_time": "2020-04-25T06:46:12.841446Z"
    }
   },
   "outputs": [
    {
     "name": "stderr",
     "output_type": "stream",
     "text": [
      "/home/ubuntu/anaconda3/lib/python3.6/site-packages/lightgbm/basic.py:1291: UserWarning: Using categorical_feature in Dataset.\n",
      "  warnings.warn('Using categorical_feature in Dataset.')\n"
     ]
    },
    {
     "name": "stdout",
     "output_type": "stream",
     "text": [
      "Training until validation scores don't improve for 50 rounds\n",
      "[25]\ttraining's rmse: 0.887626\tvalid_1's rmse: 1.33889\n",
      "[50]\ttraining's rmse: 0.742442\tvalid_1's rmse: 1.24021\n",
      "[75]\ttraining's rmse: 0.720161\tvalid_1's rmse: 1.22955\n",
      "[100]\ttraining's rmse: 0.710757\tvalid_1's rmse: 1.23208\n",
      "[125]\ttraining's rmse: 0.703858\tvalid_1's rmse: 1.23735\n",
      "Early stopping, best iteration is:\n",
      "[83]\ttraining's rmse: 0.716722\tvalid_1's rmse: 1.22822\n",
      "Training until validation scores don't improve for 50 rounds\n",
      "[25]\ttraining's rmse: 0.981162\tvalid_1's rmse: 1.05375\n",
      "[50]\ttraining's rmse: 0.837447\tvalid_1's rmse: 1.01765\n",
      "[75]\ttraining's rmse: 0.815508\tvalid_1's rmse: 1.0201\n",
      "Early stopping, best iteration is:\n",
      "[46]\ttraining's rmse: 0.845219\tvalid_1's rmse: 1.0171\n",
      "Training until validation scores don't improve for 50 rounds\n",
      "[25]\ttraining's rmse: 1.07135\tvalid_1's rmse: 0.789163\n",
      "[50]\ttraining's rmse: 0.958809\tvalid_1's rmse: 0.575272\n",
      "[75]\ttraining's rmse: 0.938291\tvalid_1's rmse: 0.548009\n",
      "[100]\ttraining's rmse: 0.928865\tvalid_1's rmse: 0.542397\n",
      "[125]\ttraining's rmse: 0.92162\tvalid_1's rmse: 0.540926\n",
      "[150]\ttraining's rmse: 0.916818\tvalid_1's rmse: 0.539887\n",
      "[175]\ttraining's rmse: 0.912919\tvalid_1's rmse: 0.539191\n",
      "[200]\ttraining's rmse: 0.909046\tvalid_1's rmse: 0.539159\n",
      "[225]\ttraining's rmse: 0.905311\tvalid_1's rmse: 0.538597\n",
      "[250]\ttraining's rmse: 0.902158\tvalid_1's rmse: 0.537902\n",
      "[275]\ttraining's rmse: 0.898874\tvalid_1's rmse: 0.537427\n",
      "[300]\ttraining's rmse: 0.895502\tvalid_1's rmse: 0.536784\n",
      "[325]\ttraining's rmse: 0.892834\tvalid_1's rmse: 0.536677\n",
      "[350]\ttraining's rmse: 0.89\tvalid_1's rmse: 0.536235\n",
      "[375]\ttraining's rmse: 0.887586\tvalid_1's rmse: 0.535888\n",
      "[400]\ttraining's rmse: 0.885093\tvalid_1's rmse: 0.535636\n",
      "[425]\ttraining's rmse: 0.882919\tvalid_1's rmse: 0.535466\n",
      "[450]\ttraining's rmse: 0.880867\tvalid_1's rmse: 0.535191\n",
      "[475]\ttraining's rmse: 0.879072\tvalid_1's rmse: 0.534966\n",
      "[500]\ttraining's rmse: 0.877344\tvalid_1's rmse: 0.534676\n",
      "[525]\ttraining's rmse: 0.875525\tvalid_1's rmse: 0.534418\n",
      "[550]\ttraining's rmse: 0.873576\tvalid_1's rmse: 0.534316\n",
      "[575]\ttraining's rmse: 0.871699\tvalid_1's rmse: 0.534163\n",
      "[600]\ttraining's rmse: 0.870006\tvalid_1's rmse: 0.533716\n",
      "[625]\ttraining's rmse: 0.868372\tvalid_1's rmse: 0.533482\n",
      "[650]\ttraining's rmse: 0.866958\tvalid_1's rmse: 0.533115\n",
      "[675]\ttraining's rmse: 0.865579\tvalid_1's rmse: 0.532972\n",
      "[700]\ttraining's rmse: 0.864264\tvalid_1's rmse: 0.532666\n",
      "[725]\ttraining's rmse: 0.863009\tvalid_1's rmse: 0.532616\n",
      "[750]\ttraining's rmse: 0.861714\tvalid_1's rmse: 0.532487\n",
      "[775]\ttraining's rmse: 0.860482\tvalid_1's rmse: 0.532469\n",
      "[800]\ttraining's rmse: 0.859379\tvalid_1's rmse: 0.532331\n",
      "[825]\ttraining's rmse: 0.858218\tvalid_1's rmse: 0.532245\n",
      "[850]\ttraining's rmse: 0.857054\tvalid_1's rmse: 0.532182\n",
      "[875]\ttraining's rmse: 0.856049\tvalid_1's rmse: 0.53205\n",
      "[900]\ttraining's rmse: 0.854907\tvalid_1's rmse: 0.531988\n",
      "[925]\ttraining's rmse: 0.853809\tvalid_1's rmse: 0.531992\n",
      "[950]\ttraining's rmse: 0.85272\tvalid_1's rmse: 0.531724\n",
      "[975]\ttraining's rmse: 0.851731\tvalid_1's rmse: 0.531694\n",
      "[1000]\ttraining's rmse: 0.850805\tvalid_1's rmse: 0.531655\n",
      "[1025]\ttraining's rmse: 0.849839\tvalid_1's rmse: 0.531607\n",
      "[1050]\ttraining's rmse: 0.849048\tvalid_1's rmse: 0.53139\n",
      "[1075]\ttraining's rmse: 0.84818\tvalid_1's rmse: 0.531378\n",
      "[1100]\ttraining's rmse: 0.847326\tvalid_1's rmse: 0.53134\n",
      "[1125]\ttraining's rmse: 0.846512\tvalid_1's rmse: 0.531232\n",
      "[1150]\ttraining's rmse: 0.845808\tvalid_1's rmse: 0.531117\n",
      "[1175]\ttraining's rmse: 0.844958\tvalid_1's rmse: 0.531052\n",
      "[1200]\ttraining's rmse: 0.844192\tvalid_1's rmse: 0.531054\n",
      "[1225]\ttraining's rmse: 0.843471\tvalid_1's rmse: 0.531\n",
      "[1250]\ttraining's rmse: 0.84275\tvalid_1's rmse: 0.530971\n",
      "[1275]\ttraining's rmse: 0.842023\tvalid_1's rmse: 0.530971\n",
      "[1300]\ttraining's rmse: 0.841424\tvalid_1's rmse: 0.530907\n",
      "[1325]\ttraining's rmse: 0.840708\tvalid_1's rmse: 0.530879\n",
      "[1350]\ttraining's rmse: 0.840161\tvalid_1's rmse: 0.530698\n",
      "[1375]\ttraining's rmse: 0.839553\tvalid_1's rmse: 0.530654\n",
      "[1400]\ttraining's rmse: 0.838871\tvalid_1's rmse: 0.530687\n",
      "Early stopping, best iteration is:\n",
      "[1360]\ttraining's rmse: 0.839919\tvalid_1's rmse: 0.530639\n",
      "Training until validation scores don't improve for 50 rounds\n",
      "[25]\ttraining's rmse: 1.04492\tvalid_1's rmse: 0.898664\n",
      "[50]\ttraining's rmse: 0.932242\tvalid_1's rmse: 0.698788\n",
      "[75]\ttraining's rmse: 0.911876\tvalid_1's rmse: 0.673796\n",
      "[100]\ttraining's rmse: 0.902687\tvalid_1's rmse: 0.669661\n",
      "[125]\ttraining's rmse: 0.895626\tvalid_1's rmse: 0.66891\n",
      "[150]\ttraining's rmse: 0.890333\tvalid_1's rmse: 0.668245\n",
      "[175]\ttraining's rmse: 0.886015\tvalid_1's rmse: 0.668153\n",
      "[200]\ttraining's rmse: 0.882213\tvalid_1's rmse: 0.667515\n",
      "[225]\ttraining's rmse: 0.878297\tvalid_1's rmse: 0.666844\n",
      "[250]\ttraining's rmse: 0.874974\tvalid_1's rmse: 0.666209\n",
      "[275]\ttraining's rmse: 0.871812\tvalid_1's rmse: 0.666125\n",
      "[300]\ttraining's rmse: 0.868792\tvalid_1's rmse: 0.665684\n",
      "[325]\ttraining's rmse: 0.866179\tvalid_1's rmse: 0.665154\n",
      "[350]\ttraining's rmse: 0.864141\tvalid_1's rmse: 0.66511\n",
      "[375]\ttraining's rmse: 0.862096\tvalid_1's rmse: 0.66508\n",
      "[400]\ttraining's rmse: 0.859691\tvalid_1's rmse: 0.664761\n",
      "[425]\ttraining's rmse: 0.857722\tvalid_1's rmse: 0.664323\n",
      "[450]\ttraining's rmse: 0.855542\tvalid_1's rmse: 0.663912\n",
      "[475]\ttraining's rmse: 0.853526\tvalid_1's rmse: 0.663395\n",
      "[500]\ttraining's rmse: 0.851719\tvalid_1's rmse: 0.66295\n",
      "[525]\ttraining's rmse: 0.849892\tvalid_1's rmse: 0.662987\n",
      "[550]\ttraining's rmse: 0.848171\tvalid_1's rmse: 0.662749\n",
      "[575]\ttraining's rmse: 0.84664\tvalid_1's rmse: 0.662482\n",
      "[600]\ttraining's rmse: 0.844973\tvalid_1's rmse: 0.662045\n",
      "[625]\ttraining's rmse: 0.843517\tvalid_1's rmse: 0.662053\n",
      "[650]\ttraining's rmse: 0.842138\tvalid_1's rmse: 0.661947\n",
      "[675]\ttraining's rmse: 0.84073\tvalid_1's rmse: 0.661688\n",
      "[700]\ttraining's rmse: 0.839418\tvalid_1's rmse: 0.661535\n",
      "[725]\ttraining's rmse: 0.837969\tvalid_1's rmse: 0.661402\n",
      "[750]\ttraining's rmse: 0.836766\tvalid_1's rmse: 0.661171\n",
      "[775]\ttraining's rmse: 0.835557\tvalid_1's rmse: 0.661023\n",
      "[800]\ttraining's rmse: 0.834449\tvalid_1's rmse: 0.660559\n",
      "[825]\ttraining's rmse: 0.833332\tvalid_1's rmse: 0.66065\n",
      "[850]\ttraining's rmse: 0.832198\tvalid_1's rmse: 0.660373\n",
      "[875]\ttraining's rmse: 0.831295\tvalid_1's rmse: 0.660113\n",
      "[900]\ttraining's rmse: 0.830235\tvalid_1's rmse: 0.659986\n",
      "[925]\ttraining's rmse: 0.829244\tvalid_1's rmse: 0.659824\n",
      "[950]\ttraining's rmse: 0.828352\tvalid_1's rmse: 0.659778\n",
      "[975]\ttraining's rmse: 0.827539\tvalid_1's rmse: 0.65945\n",
      "[1000]\ttraining's rmse: 0.826752\tvalid_1's rmse: 0.659424\n",
      "[1025]\ttraining's rmse: 0.825983\tvalid_1's rmse: 0.659472\n",
      "Early stopping, best iteration is:\n",
      "[991]\ttraining's rmse: 0.827023\tvalid_1's rmse: 0.659386\n"
     ]
    }
   ],
   "source": [
    "from sklearn.model_selection import KFold\n",
    "\n",
    "params = {\n",
    "    \"objective\": \"regression\",\n",
    "    \"boosting\": \"gbdt\",\n",
    "#     \"num_leaves\": 1280,\n",
    "    \"learning_rate\": 0.05,\n",
    "    \"feature_fraction\": 0.95,\n",
    "    \"reg_lambda\": 2,\n",
    "    \"metric\": \"rmse\",\n",
    "}\n",
    "\n",
    "\n",
    "categorical_features = ['meter']\n",
    "\n",
    "kf = KFold(n_splits=4, shuffle=False)\n",
    "models = []\n",
    "for train_index,test_index in kf.split(subm_trn):\n",
    "    \n",
    "    train_features = subm_trn[features].loc[train_index]\n",
    "    train_target = subm_trn['meter_reading'].loc[train_index]\n",
    "    \n",
    "    val_features = subm_trn[features].loc[test_index]\n",
    "    val_target = subm_trn['meter_reading'].loc[test_index]\n",
    "    \n",
    "    d_training = lgb.Dataset(train_features, \n",
    "                             label=train_target,\n",
    "                             categorical_feature=categorical_features, \n",
    "                             free_raw_data=False)\n",
    "    \n",
    "    d_test = lgb.Dataset(val_features, \n",
    "                         label=val_target,\n",
    "                         categorical_feature=categorical_features, \n",
    "                         free_raw_data=False)\n",
    "    \n",
    "    model = lgb.train(params, \n",
    "                      train_set=d_training, \n",
    "                      num_boost_round=2000, \n",
    "                      valid_sets=[d_training,d_test], \n",
    "                      verbose_eval=25, \n",
    "                      early_stopping_rounds=50)\n",
    "    \n",
    "    models.append(model)\n",
    "#     del train_features, train_target, test_features, test_target, d_training, d_test\n",
    "    gc.collect()\n"
   ]
  },
  {
   "cell_type": "code",
   "execution_count": 23,
   "metadata": {
    "ExecuteTime": {
     "end_time": "2020-04-25T06:50:12.786651Z",
     "start_time": "2020-04-25T06:50:12.772862Z"
    }
   },
   "outputs": [
    {
     "data": {
      "text/plain": [
       "[<lightgbm.basic.Booster at 0x7f5d655a2ac8>,\n",
       " <lightgbm.basic.Booster at 0x7f5d655a2a90>,\n",
       " <lightgbm.basic.Booster at 0x7f5dccc6fda0>,\n",
       " <lightgbm.basic.Booster at 0x7f5dd3289940>]"
      ]
     },
     "execution_count": 23,
     "metadata": {},
     "output_type": "execute_result"
    }
   ],
   "source": [
    "models"
   ]
  },
  {
   "cell_type": "code",
   "execution_count": 24,
   "metadata": {
    "ExecuteTime": {
     "end_time": "2020-04-25T06:50:13.706900Z",
     "start_time": "2020-04-25T06:50:12.793381Z"
    }
   },
   "outputs": [
    {
     "data": {
      "image/png": "[encoded data removed]",
      "text/plain": [
       "<Figure size 432x288 with 1 Axes>"
      ]
     },
     "metadata": {},
     "output_type": "display_data"
    },
    {
     "data": {
      "image/png": "[encoded data removed]",
      "text/plain": [
       "<Figure size 432x288 with 1 Axes>"
      ]
     },
     "metadata": {},
     "output_type": "display_data"
    },
    {
     "data": {
      "image/png": "[encoded data removed]",
      "text/plain": [
       "<Figure size 432x288 with 1 Axes>"
      ]
     },
     "metadata": {},
     "output_type": "display_data"
    },
    {
     "data": {
      "image/png": "[encoded data removed]",
      "text/plain": [
       "<Figure size 432x288 with 1 Axes>"
      ]
     },
     "metadata": {},
     "output_type": "display_data"
    }
   ],
   "source": [
    "%matplotlib inline\n",
    "for model in models:\n",
    "    lgb.plot_importance(model)\n",
    "#     plt.show()"
   ]
  },
  {
   "cell_type": "code",
   "execution_count": null,
   "metadata": {},
   "outputs": [],
   "source": []
  },
  {
   "cell_type": "markdown",
   "metadata": {},
   "source": [
    "# 3. final prediction using the ensemble model on the entire test set:"
   ]
  },
  {
   "cell_type": "code",
   "execution_count": 25,
   "metadata": {
    "ExecuteTime": {
     "end_time": "2020-04-25T06:50:13.712866Z",
     "start_time": "2020-04-25T06:50:13.708661Z"
    }
   },
   "outputs": [
    {
     "data": {
      "text/plain": [
       "['submission_multimeter003',\n",
       " 'submission_multimeter004_nobuild',\n",
       " 'submission_withoutleak001',\n",
       " 'submission_whatsyourcv3_0052_trncl',\n",
       " 'submission_nn007lofo',\n",
       " 'submission_nn001',\n",
       " 'submission_catboost002',\n",
       " 'fe2_lgbm',\n",
       " 'histgradboost113']"
      ]
     },
     "execution_count": 25,
     "metadata": {},
     "output_type": "execute_result"
    }
   ],
   "source": [
    "name_list"
   ]
  },
  {
   "cell_type": "code",
   "execution_count": 26,
   "metadata": {
    "ExecuteTime": {
     "end_time": "2020-04-25T06:50:16.893179Z",
     "start_time": "2020-04-25T06:50:13.715295Z"
    }
   },
   "outputs": [],
   "source": [
    "test = pd.read_feather('test_simple_cleanup.feather')\n",
    "submission = pd.read_feather('leak012345_001.feather')\n",
    "subm_full = pd.concat([test[['building_id','meter']], submission['meter_reading'], subm], axis=1).reset_index(drop=True)"
   ]
  },
  {
   "cell_type": "code",
   "execution_count": 27,
   "metadata": {
    "ExecuteTime": {
     "end_time": "2020-04-25T06:50:24.981639Z",
     "start_time": "2020-04-25T06:50:16.895573Z"
    }
   },
   "outputs": [],
   "source": [
    "subm_full['mean_tgt'] = subm_full[name_list].mean(axis=1)\n",
    "subm_full['median_tgt'] = subm_full[name_list].median(axis=1)"
   ]
  },
  {
   "cell_type": "code",
   "execution_count": 28,
   "metadata": {
    "ExecuteTime": {
     "end_time": "2020-04-25T06:50:27.146469Z",
     "start_time": "2020-04-25T06:50:24.983838Z"
    }
   },
   "outputs": [
    {
     "data": {
      "text/plain": [
       "Index(['meter', 'submission_multimeter003', 'submission_multimeter004_nobuild',\n",
       "       'submission_withoutleak001', 'submission_whatsyourcv3_0052_trncl',\n",
       "       'submission_nn007lofo', 'submission_nn001', 'submission_catboost002',\n",
       "       'fe2_lgbm', 'histgradboost113', 'mean_tgt', 'median_tgt'],\n",
       "      dtype='object')"
      ]
     },
     "execution_count": 28,
     "metadata": {},
     "output_type": "execute_result"
    }
   ],
   "source": [
    "subm_full[features].columns"
   ]
  },
  {
   "cell_type": "code",
   "execution_count": 29,
   "metadata": {
    "ExecuteTime": {
     "end_time": "2020-04-25T06:58:14.444628Z",
     "start_time": "2020-04-25T06:50:27.148496Z"
    },
    "scrolled": true
   },
   "outputs": [
    {
     "name": "stderr",
     "output_type": "stream",
     "text": [
      "100%|██████████| 84/84 [07:47<00:00,  5.15s/it]\n"
     ]
    }
   ],
   "source": [
    "from tqdm import tqdm\n",
    "i=0\n",
    "\n",
    "res = np.zeros((subm_full.shape[0]),dtype=np.float32)\n",
    "step_size = 500000\n",
    "for j in tqdm(range(int(np.ceil(subm_full.shape[0]/step_size)))):\n",
    "#     for_prediction = get_keras_data(test.iloc[i:i+step_size], numericals, categoricals)\n",
    "    for_prediction = subm_full[features].iloc[i:i+step_size]\n",
    "    res[i:min(i+step_size,subm_full.shape[0])] = \\\n",
    "       np.expm1(sum([model.predict(for_prediction, num_iteration=model.best_iteration) for model in models])/len(models))\n",
    "    i+=step_size"
   ]
  },
  {
   "cell_type": "code",
   "execution_count": 30,
   "metadata": {
    "ExecuteTime": {
     "end_time": "2020-04-25T06:58:14.726374Z",
     "start_time": "2020-04-25T06:58:14.447252Z"
    }
   },
   "outputs": [],
   "source": [
    "# use of the leak for final submission:\n",
    "submission = pd.read_feather('leak012345_001.feather')"
   ]
  },
  {
   "cell_type": "code",
   "execution_count": 31,
   "metadata": {
    "ExecuteTime": {
     "end_time": "2020-04-25T06:58:14.958019Z",
     "start_time": "2020-04-25T06:58:14.728270Z"
    }
   },
   "outputs": [],
   "source": [
    "submission['real'] = res"
   ]
  },
  {
   "cell_type": "code",
   "execution_count": 32,
   "metadata": {
    "ExecuteTime": {
     "end_time": "2020-04-25T06:58:14.982467Z",
     "start_time": "2020-04-25T06:58:14.960044Z"
    }
   },
   "outputs": [
    {
     "data": {
      "text/html": [
       "<div>\n",
       "<style scoped>\n",
       "    .dataframe tbody tr th:only-of-type {\n",
       "        vertical-align: middle;\n",
       "    }\n",
       "\n",
       "    .dataframe tbody tr th {\n",
       "        vertical-align: top;\n",
       "    }\n",
       "\n",
       "    .dataframe thead th {\n",
       "        text-align: right;\n",
       "    }\n",
       "</style>\n",
       "<table border=\"1\" class=\"dataframe\">\n",
       "  <thead>\n",
       "    <tr style=\"text-align: right;\">\n",
       "      <th></th>\n",
       "      <th>index</th>\n",
       "      <th>row_id</th>\n",
       "      <th>meter_reading</th>\n",
       "      <th>real</th>\n",
       "    </tr>\n",
       "  </thead>\n",
       "  <tbody>\n",
       "    <tr>\n",
       "      <th>0</th>\n",
       "      <td>0</td>\n",
       "      <td>0</td>\n",
       "      <td>173.3703</td>\n",
       "      <td>168.282043</td>\n",
       "    </tr>\n",
       "    <tr>\n",
       "      <th>1</th>\n",
       "      <td>1</td>\n",
       "      <td>1</td>\n",
       "      <td>53.5127</td>\n",
       "      <td>69.482140</td>\n",
       "    </tr>\n",
       "    <tr>\n",
       "      <th>2</th>\n",
       "      <td>2</td>\n",
       "      <td>2</td>\n",
       "      <td>6.1430</td>\n",
       "      <td>9.192924</td>\n",
       "    </tr>\n",
       "    <tr>\n",
       "      <th>3</th>\n",
       "      <td>3</td>\n",
       "      <td>3</td>\n",
       "      <td>101.7015</td>\n",
       "      <td>211.809982</td>\n",
       "    </tr>\n",
       "    <tr>\n",
       "      <th>4</th>\n",
       "      <td>4</td>\n",
       "      <td>4</td>\n",
       "      <td>1141.2407</td>\n",
       "      <td>1126.121094</td>\n",
       "    </tr>\n",
       "    <tr>\n",
       "      <th>5</th>\n",
       "      <td>5</td>\n",
       "      <td>5</td>\n",
       "      <td>13.6512</td>\n",
       "      <td>12.720911</td>\n",
       "    </tr>\n",
       "    <tr>\n",
       "      <th>6</th>\n",
       "      <td>6</td>\n",
       "      <td>6</td>\n",
       "      <td>260.8745</td>\n",
       "      <td>103.691071</td>\n",
       "    </tr>\n",
       "    <tr>\n",
       "      <th>7</th>\n",
       "      <td>7</td>\n",
       "      <td>7</td>\n",
       "      <td>502.7056</td>\n",
       "      <td>414.342712</td>\n",
       "    </tr>\n",
       "    <tr>\n",
       "      <th>8</th>\n",
       "      <td>8</td>\n",
       "      <td>8</td>\n",
       "      <td>717.5740</td>\n",
       "      <td>21.538399</td>\n",
       "    </tr>\n",
       "    <tr>\n",
       "      <th>9</th>\n",
       "      <td>9</td>\n",
       "      <td>9</td>\n",
       "      <td>513.2853</td>\n",
       "      <td>324.895142</td>\n",
       "    </tr>\n",
       "    <tr>\n",
       "      <th>10</th>\n",
       "      <td>10</td>\n",
       "      <td>10</td>\n",
       "      <td>61.8400</td>\n",
       "      <td>60.289799</td>\n",
       "    </tr>\n",
       "    <tr>\n",
       "      <th>11</th>\n",
       "      <td>11</td>\n",
       "      <td>11</td>\n",
       "      <td>0.0000</td>\n",
       "      <td>9.634135</td>\n",
       "    </tr>\n",
       "    <tr>\n",
       "      <th>12</th>\n",
       "      <td>12</td>\n",
       "      <td>12</td>\n",
       "      <td>1806.7368</td>\n",
       "      <td>1092.984497</td>\n",
       "    </tr>\n",
       "    <tr>\n",
       "      <th>13</th>\n",
       "      <td>13</td>\n",
       "      <td>13</td>\n",
       "      <td>472.3317</td>\n",
       "      <td>362.419250</td>\n",
       "    </tr>\n",
       "    <tr>\n",
       "      <th>14</th>\n",
       "      <td>14</td>\n",
       "      <td>14</td>\n",
       "      <td>298.6201</td>\n",
       "      <td>195.150589</td>\n",
       "    </tr>\n",
       "    <tr>\n",
       "      <th>15</th>\n",
       "      <td>15</td>\n",
       "      <td>15</td>\n",
       "      <td>308.8585</td>\n",
       "      <td>220.271790</td>\n",
       "    </tr>\n",
       "    <tr>\n",
       "      <th>16</th>\n",
       "      <td>16</td>\n",
       "      <td>16</td>\n",
       "      <td>253.2614</td>\n",
       "      <td>29.826878</td>\n",
       "    </tr>\n",
       "    <tr>\n",
       "      <th>17</th>\n",
       "      <td>17</td>\n",
       "      <td>17</td>\n",
       "      <td>263.4682</td>\n",
       "      <td>255.816238</td>\n",
       "    </tr>\n",
       "    <tr>\n",
       "      <th>18</th>\n",
       "      <td>18</td>\n",
       "      <td>18</td>\n",
       "      <td>464.3126</td>\n",
       "      <td>156.872620</td>\n",
       "    </tr>\n",
       "    <tr>\n",
       "      <th>19</th>\n",
       "      <td>19</td>\n",
       "      <td>19</td>\n",
       "      <td>176.4418</td>\n",
       "      <td>164.625351</td>\n",
       "    </tr>\n",
       "    <tr>\n",
       "      <th>20</th>\n",
       "      <td>20</td>\n",
       "      <td>20</td>\n",
       "      <td>253.2614</td>\n",
       "      <td>179.487885</td>\n",
       "    </tr>\n",
       "    <tr>\n",
       "      <th>21</th>\n",
       "      <td>21</td>\n",
       "      <td>21</td>\n",
       "      <td>1299.0486</td>\n",
       "      <td>443.481293</td>\n",
       "    </tr>\n",
       "    <tr>\n",
       "      <th>22</th>\n",
       "      <td>22</td>\n",
       "      <td>22</td>\n",
       "      <td>165.5891</td>\n",
       "      <td>98.551315</td>\n",
       "    </tr>\n",
       "    <tr>\n",
       "      <th>23</th>\n",
       "      <td>23</td>\n",
       "      <td>23</td>\n",
       "      <td>2070.6147</td>\n",
       "      <td>1628.325317</td>\n",
       "    </tr>\n",
       "    <tr>\n",
       "      <th>24</th>\n",
       "      <td>24</td>\n",
       "      <td>24</td>\n",
       "      <td>174.7354</td>\n",
       "      <td>145.069397</td>\n",
       "    </tr>\n",
       "    <tr>\n",
       "      <th>25</th>\n",
       "      <td>25</td>\n",
       "      <td>25</td>\n",
       "      <td>321.0149</td>\n",
       "      <td>360.247406</td>\n",
       "    </tr>\n",
       "    <tr>\n",
       "      <th>26</th>\n",
       "      <td>26</td>\n",
       "      <td>26</td>\n",
       "      <td>36.8583</td>\n",
       "      <td>40.762951</td>\n",
       "    </tr>\n",
       "    <tr>\n",
       "      <th>27</th>\n",
       "      <td>27</td>\n",
       "      <td>27</td>\n",
       "      <td>20.9580</td>\n",
       "      <td>7.266474</td>\n",
       "    </tr>\n",
       "    <tr>\n",
       "      <th>28</th>\n",
       "      <td>28</td>\n",
       "      <td>28</td>\n",
       "      <td>839.8903</td>\n",
       "      <td>638.342468</td>\n",
       "    </tr>\n",
       "    <tr>\n",
       "      <th>29</th>\n",
       "      <td>29</td>\n",
       "      <td>29</td>\n",
       "      <td>391.7895</td>\n",
       "      <td>585.317810</td>\n",
       "    </tr>\n",
       "    <tr>\n",
       "      <th>...</th>\n",
       "      <td>...</td>\n",
       "      <td>...</td>\n",
       "      <td>...</td>\n",
       "      <td>...</td>\n",
       "    </tr>\n",
       "    <tr>\n",
       "      <th>41697570</th>\n",
       "      <td>41697570</td>\n",
       "      <td>41697570</td>\n",
       "      <td>-9999.9900</td>\n",
       "      <td>1838.348633</td>\n",
       "    </tr>\n",
       "    <tr>\n",
       "      <th>41697571</th>\n",
       "      <td>41697571</td>\n",
       "      <td>41697571</td>\n",
       "      <td>-9999.9900</td>\n",
       "      <td>41.902885</td>\n",
       "    </tr>\n",
       "    <tr>\n",
       "      <th>41697572</th>\n",
       "      <td>41697572</td>\n",
       "      <td>41697572</td>\n",
       "      <td>-9999.9900</td>\n",
       "      <td>30.407917</td>\n",
       "    </tr>\n",
       "    <tr>\n",
       "      <th>41697573</th>\n",
       "      <td>41697573</td>\n",
       "      <td>41697573</td>\n",
       "      <td>-9999.9900</td>\n",
       "      <td>269.724030</td>\n",
       "    </tr>\n",
       "    <tr>\n",
       "      <th>41697574</th>\n",
       "      <td>41697574</td>\n",
       "      <td>41697574</td>\n",
       "      <td>-9999.9900</td>\n",
       "      <td>172.471695</td>\n",
       "    </tr>\n",
       "    <tr>\n",
       "      <th>41697575</th>\n",
       "      <td>41697575</td>\n",
       "      <td>41697575</td>\n",
       "      <td>-9999.9900</td>\n",
       "      <td>132.908936</td>\n",
       "    </tr>\n",
       "    <tr>\n",
       "      <th>41697576</th>\n",
       "      <td>41697576</td>\n",
       "      <td>41697576</td>\n",
       "      <td>-9999.9900</td>\n",
       "      <td>183.087204</td>\n",
       "    </tr>\n",
       "    <tr>\n",
       "      <th>41697577</th>\n",
       "      <td>41697577</td>\n",
       "      <td>41697577</td>\n",
       "      <td>-9999.9900</td>\n",
       "      <td>449.894989</td>\n",
       "    </tr>\n",
       "    <tr>\n",
       "      <th>41697578</th>\n",
       "      <td>41697578</td>\n",
       "      <td>41697578</td>\n",
       "      <td>-9999.9900</td>\n",
       "      <td>25.148890</td>\n",
       "    </tr>\n",
       "    <tr>\n",
       "      <th>41697579</th>\n",
       "      <td>41697579</td>\n",
       "      <td>41697579</td>\n",
       "      <td>-9999.9900</td>\n",
       "      <td>546.978149</td>\n",
       "    </tr>\n",
       "    <tr>\n",
       "      <th>41697580</th>\n",
       "      <td>41697580</td>\n",
       "      <td>41697580</td>\n",
       "      <td>-9999.9900</td>\n",
       "      <td>73.104065</td>\n",
       "    </tr>\n",
       "    <tr>\n",
       "      <th>41697581</th>\n",
       "      <td>41697581</td>\n",
       "      <td>41697581</td>\n",
       "      <td>-9999.9900</td>\n",
       "      <td>196.953125</td>\n",
       "    </tr>\n",
       "    <tr>\n",
       "      <th>41697582</th>\n",
       "      <td>41697582</td>\n",
       "      <td>41697582</td>\n",
       "      <td>-9999.9900</td>\n",
       "      <td>6.111057</td>\n",
       "    </tr>\n",
       "    <tr>\n",
       "      <th>41697583</th>\n",
       "      <td>41697583</td>\n",
       "      <td>41697583</td>\n",
       "      <td>-9999.9900</td>\n",
       "      <td>16.291393</td>\n",
       "    </tr>\n",
       "    <tr>\n",
       "      <th>41697584</th>\n",
       "      <td>41697584</td>\n",
       "      <td>41697584</td>\n",
       "      <td>-9999.9900</td>\n",
       "      <td>732.493652</td>\n",
       "    </tr>\n",
       "    <tr>\n",
       "      <th>41697585</th>\n",
       "      <td>41697585</td>\n",
       "      <td>41697585</td>\n",
       "      <td>-9999.9900</td>\n",
       "      <td>376.741699</td>\n",
       "    </tr>\n",
       "    <tr>\n",
       "      <th>41697586</th>\n",
       "      <td>41697586</td>\n",
       "      <td>41697586</td>\n",
       "      <td>-9999.9900</td>\n",
       "      <td>423.479645</td>\n",
       "    </tr>\n",
       "    <tr>\n",
       "      <th>41697587</th>\n",
       "      <td>41697587</td>\n",
       "      <td>41697587</td>\n",
       "      <td>-9999.9900</td>\n",
       "      <td>153.501434</td>\n",
       "    </tr>\n",
       "    <tr>\n",
       "      <th>41697588</th>\n",
       "      <td>41697588</td>\n",
       "      <td>41697588</td>\n",
       "      <td>-9999.9900</td>\n",
       "      <td>353.328430</td>\n",
       "    </tr>\n",
       "    <tr>\n",
       "      <th>41697589</th>\n",
       "      <td>41697589</td>\n",
       "      <td>41697589</td>\n",
       "      <td>-9999.9900</td>\n",
       "      <td>187.732941</td>\n",
       "    </tr>\n",
       "    <tr>\n",
       "      <th>41697590</th>\n",
       "      <td>41697590</td>\n",
       "      <td>41697590</td>\n",
       "      <td>-9999.9900</td>\n",
       "      <td>245.706161</td>\n",
       "    </tr>\n",
       "    <tr>\n",
       "      <th>41697591</th>\n",
       "      <td>41697591</td>\n",
       "      <td>41697591</td>\n",
       "      <td>-9999.9900</td>\n",
       "      <td>205.692108</td>\n",
       "    </tr>\n",
       "    <tr>\n",
       "      <th>41697592</th>\n",
       "      <td>41697592</td>\n",
       "      <td>41697592</td>\n",
       "      <td>-9999.9900</td>\n",
       "      <td>79.088600</td>\n",
       "    </tr>\n",
       "    <tr>\n",
       "      <th>41697593</th>\n",
       "      <td>41697593</td>\n",
       "      <td>41697593</td>\n",
       "      <td>-9999.9900</td>\n",
       "      <td>3.185169</td>\n",
       "    </tr>\n",
       "    <tr>\n",
       "      <th>41697594</th>\n",
       "      <td>41697594</td>\n",
       "      <td>41697594</td>\n",
       "      <td>-9999.9900</td>\n",
       "      <td>79.229813</td>\n",
       "    </tr>\n",
       "    <tr>\n",
       "      <th>41697595</th>\n",
       "      <td>41697595</td>\n",
       "      <td>41697595</td>\n",
       "      <td>-9999.9900</td>\n",
       "      <td>6.199275</td>\n",
       "    </tr>\n",
       "    <tr>\n",
       "      <th>41697596</th>\n",
       "      <td>41697596</td>\n",
       "      <td>41697596</td>\n",
       "      <td>-9999.9900</td>\n",
       "      <td>6.402140</td>\n",
       "    </tr>\n",
       "    <tr>\n",
       "      <th>41697597</th>\n",
       "      <td>41697597</td>\n",
       "      <td>41697597</td>\n",
       "      <td>-9999.9900</td>\n",
       "      <td>2.653659</td>\n",
       "    </tr>\n",
       "    <tr>\n",
       "      <th>41697598</th>\n",
       "      <td>41697598</td>\n",
       "      <td>41697598</td>\n",
       "      <td>-9999.9900</td>\n",
       "      <td>156.098389</td>\n",
       "    </tr>\n",
       "    <tr>\n",
       "      <th>41697599</th>\n",
       "      <td>41697599</td>\n",
       "      <td>41697599</td>\n",
       "      <td>-9999.9900</td>\n",
       "      <td>3.516932</td>\n",
       "    </tr>\n",
       "  </tbody>\n",
       "</table>\n",
       "<p>41697600 rows × 4 columns</p>\n",
       "</div>"
      ],
      "text/plain": [
       "             index    row_id  meter_reading         real\n",
       "0                0         0       173.3703   168.282043\n",
       "1                1         1        53.5127    69.482140\n",
       "2                2         2         6.1430     9.192924\n",
       "3                3         3       101.7015   211.809982\n",
       "4                4         4      1141.2407  1126.121094\n",
       "5                5         5        13.6512    12.720911\n",
       "6                6         6       260.8745   103.691071\n",
       "7                7         7       502.7056   414.342712\n",
       "8                8         8       717.5740    21.538399\n",
       "9                9         9       513.2853   324.895142\n",
       "10              10        10        61.8400    60.289799\n",
       "11              11        11         0.0000     9.634135\n",
       "12              12        12      1806.7368  1092.984497\n",
       "13              13        13       472.3317   362.419250\n",
       "14              14        14       298.6201   195.150589\n",
       "15              15        15       308.8585   220.271790\n",
       "16              16        16       253.2614    29.826878\n",
       "17              17        17       263.4682   255.816238\n",
       "18              18        18       464.3126   156.872620\n",
       "19              19        19       176.4418   164.625351\n",
       "20              20        20       253.2614   179.487885\n",
       "21              21        21      1299.0486   443.481293\n",
       "22              22        22       165.5891    98.551315\n",
       "23              23        23      2070.6147  1628.325317\n",
       "24              24        24       174.7354   145.069397\n",
       "25              25        25       321.0149   360.247406\n",
       "26              26        26        36.8583    40.762951\n",
       "27              27        27        20.9580     7.266474\n",
       "28              28        28       839.8903   638.342468\n",
       "29              29        29       391.7895   585.317810\n",
       "...            ...       ...            ...          ...\n",
       "41697570  41697570  41697570     -9999.9900  1838.348633\n",
       "41697571  41697571  41697571     -9999.9900    41.902885\n",
       "41697572  41697572  41697572     -9999.9900    30.407917\n",
       "41697573  41697573  41697573     -9999.9900   269.724030\n",
       "41697574  41697574  41697574     -9999.9900   172.471695\n",
       "41697575  41697575  41697575     -9999.9900   132.908936\n",
       "41697576  41697576  41697576     -9999.9900   183.087204\n",
       "41697577  41697577  41697577     -9999.9900   449.894989\n",
       "41697578  41697578  41697578     -9999.9900    25.148890\n",
       "41697579  41697579  41697579     -9999.9900   546.978149\n",
       "41697580  41697580  41697580     -9999.9900    73.104065\n",
       "41697581  41697581  41697581     -9999.9900   196.953125\n",
       "41697582  41697582  41697582     -9999.9900     6.111057\n",
       "41697583  41697583  41697583     -9999.9900    16.291393\n",
       "41697584  41697584  41697584     -9999.9900   732.493652\n",
       "41697585  41697585  41697585     -9999.9900   376.741699\n",
       "41697586  41697586  41697586     -9999.9900   423.479645\n",
       "41697587  41697587  41697587     -9999.9900   153.501434\n",
       "41697588  41697588  41697588     -9999.9900   353.328430\n",
       "41697589  41697589  41697589     -9999.9900   187.732941\n",
       "41697590  41697590  41697590     -9999.9900   245.706161\n",
       "41697591  41697591  41697591     -9999.9900   205.692108\n",
       "41697592  41697592  41697592     -9999.9900    79.088600\n",
       "41697593  41697593  41697593     -9999.9900     3.185169\n",
       "41697594  41697594  41697594     -9999.9900    79.229813\n",
       "41697595  41697595  41697595     -9999.9900     6.199275\n",
       "41697596  41697596  41697596     -9999.9900     6.402140\n",
       "41697597  41697597  41697597     -9999.9900     2.653659\n",
       "41697598  41697598  41697598     -9999.9900   156.098389\n",
       "41697599  41697599  41697599     -9999.9900     3.516932\n",
       "\n",
       "[41697600 rows x 4 columns]"
      ]
     },
     "execution_count": 32,
     "metadata": {},
     "output_type": "execute_result"
    }
   ],
   "source": [
    "submission"
   ]
  },
  {
   "cell_type": "code",
   "execution_count": 33,
   "metadata": {
    "ExecuteTime": {
     "end_time": "2020-04-25T06:58:15.248546Z",
     "start_time": "2020-04-25T06:58:14.984577Z"
    }
   },
   "outputs": [],
   "source": [
    "# concatenation of the leak and the ensembling prediction:\n",
    "submission['meter_reading']  = np.where(submission.meter_reading==-9999.99, submission['real'], submission['meter_reading'])\n"
   ]
  },
  {
   "cell_type": "code",
   "execution_count": 34,
   "metadata": {
    "ExecuteTime": {
     "end_time": "2020-04-25T07:02:59.954871Z",
     "start_time": "2020-04-25T06:58:15.251300Z"
    }
   },
   "outputs": [],
   "source": [
    "submission[['row_id','meter_reading']].to_csv('submission_ensemble_3rd_place.csv.gz', index=False,  compression='gzip', float_format='%.4f', chunksize=25000)"
   ]
  },
  {
   "cell_type": "code",
   "execution_count": 35,
   "metadata": {
    "ExecuteTime": {
     "end_time": "2020-04-25T07:02:59.960359Z",
     "start_time": "2020-04-25T07:02:59.957433Z"
    }
   },
   "outputs": [],
   "source": [
    "#!kaggle competitions submit -c ashrae-energy-prediction -f submission_ensemble_3rd_place.csv.gz -m \"final ensemble 3rd place position\"\n"
   ]
  }
 ],
 "metadata": {
  "kernelspec": {
   "display_name": "Python 3",
   "language": "python",
   "name": "python3"
  },
  "language_info": {
   "codemirror_mode": {
    "name": "ipython",
    "version": 3
   },
   "file_extension": ".py",
   "mimetype": "text/x-python",
   "name": "python",
   "nbconvert_exporter": "python",
   "pygments_lexer": "ipython3",
   "version": "3.6.6"
  }
 },
 "nbformat": 4,
 "nbformat_minor": 2
}
