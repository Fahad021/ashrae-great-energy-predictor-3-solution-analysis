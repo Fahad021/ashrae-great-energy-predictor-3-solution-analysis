{
 "cells": [
  {
   "cell_type": "code",
   "execution_count": 1,
   "metadata": {
    "ExecuteTime": {
     "end_time": "2020-06-24T09:43:03.917826Z",
     "start_time": "2020-06-24T09:43:03.608913Z"
    }
   },
   "outputs": [],
   "source": [
    "import numpy as np\n",
    "import pandas as pd\n",
    "import glob"
   ]
  },
  {
   "cell_type": "markdown",
   "metadata": {},
   "source": [
    "# 1. Creation of the ensemble training set"
   ]
  },
  {
   "cell_type": "code",
   "execution_count": 2,
   "metadata": {
    "ExecuteTime": {
     "end_time": "2020-06-24T09:43:04.158198Z",
     "start_time": "2020-06-24T09:43:03.919120Z"
    }
   },
   "outputs": [],
   "source": [
    "# load the leak that will be used to run the ensemble\n",
    "submission = pd.read_feather('leak012345_001.feather')"
   ]
  },
  {
   "cell_type": "code",
   "execution_count": 3,
   "metadata": {
    "ExecuteTime": {
     "end_time": "2020-06-24T09:43:08.273465Z",
     "start_time": "2020-06-24T09:43:04.159766Z"
    }
   },
   "outputs": [],
   "source": [
    "# initiate the load of the predictions of level 1\n",
    "sub = pd.read_csv('./sample_submission.csv')\n",
    "del sub['meter_reading']"
   ]
  },
  {
   "cell_type": "code",
   "execution_count": null,
   "metadata": {},
   "outputs": [],
   "source": []
  },
  {
   "cell_type": "code",
   "execution_count": 4,
   "metadata": {
    "ExecuteTime": {
     "end_time": "2020-06-24T09:43:08.277488Z",
     "start_time": "2020-06-24T09:43:08.274918Z"
    }
   },
   "outputs": [],
   "source": [
    "# list of predictions of level 1 used as features in ensembling model:\n",
    "\n",
    "sublist = [\n",
    "'submission_multimeter003.csv.gz',          #level1--submission_multimeter003--lightgbm.ipynb\n",
    "'submission_multimeter004_nobuild.csv.gz',  #level1--submission_multimeter004_nobuild--lightgbm.ipynb\n",
    "'submission_withoutleak001.csv.gz',         #level1--submission_withoutleak001--lightgbm.ipynb\n",
    "'submission_whatsyourcv3_0052_trncl.csv.gz',#level1--submission_whatsyourcv3_0052_trncl--lightgbm.ipynb\n",
    "\n",
    "'submission_nn007lofo.csv.gz',  #level1--submission_nn007lofo--CNN.ipynb\n",
    "'submission_nn001.csv',         #level1--submission_nn001--DenseNN.ipynb\n",
    "     \n",
    "'submission_catboost002.csv.gz',   #level1--catboost002--Catboost.ipynb\n",
    "      \n",
    "'fe2_lgbm.csv',               #downloaded from https://www.kaggle.com/ragnar123/another-1-08-lb-no-leak (1st commit)\n",
    "'histgradboost113.csv',       #downloaded from https://www.kaggle.com/tunguz/ashrae-histgradientboosting (version 7 and rename it to histgradboost113.csv)\n",
    "\n",
    "          ]"
   ]
  },
  {
   "cell_type": "markdown",
   "metadata": {},
   "source": [
    "In the list above, fe2_lgbm.csv and histgradboost113.csv have been downloaded from https://www.kaggle.com/ragnar123/another-1-08-lb-no-leak (commit #1) and https://www.kaggle.com/tunguz/ashrae-histgradientboosting (commit #7, and rename it to histgradboost113.csv) respectively."
   ]
  },
  {
   "cell_type": "code",
   "execution_count": 5,
   "metadata": {
    "ExecuteTime": {
     "end_time": "2020-06-24T09:43:08.283497Z",
     "start_time": "2020-06-24T09:43:08.278707Z"
    }
   },
   "outputs": [],
   "source": [
    "\n",
    "# function to aggregate the predictions in one unique pandas\n",
    "def join_sub(pathlist, sub):\n",
    "    name_list = []\n",
    "    for path in pathlist:\n",
    "        name_tmp = path.split('/')[-1].split('.')[0]\n",
    "        print(name_tmp)\n",
    "        sub_tmp = pd.read_csv(path).sort_values(by='row_id')\n",
    "        sub_tmp.rename(columns={'meter_reading': name_tmp}, inplace=True)\n",
    "        \n",
    "        sub_tmp[name_tmp] = sub_tmp[name_tmp].apply(lambda x: 0 if x < 0 else x)\n",
    "        sub_tmp[name_tmp] = np.log1p(sub_tmp[name_tmp].values)\n",
    "                                                                  \n",
    "        sub = pd.concat([sub, sub_tmp[name_tmp]], axis=1)\n",
    "        name_list.append(name_tmp)\n",
    "    return sub, name_list"
   ]
  },
  {
   "cell_type": "code",
   "execution_count": 6,
   "metadata": {
    "ExecuteTime": {
     "end_time": "2020-06-24T09:43:08.317561Z",
     "start_time": "2020-06-24T09:43:08.284599Z"
    }
   },
   "outputs": [
    {
     "data": {
      "text/plain": [
       "0"
      ]
     },
     "execution_count": 6,
     "metadata": {},
     "output_type": "execute_result"
    }
   ],
   "source": [
    "import gc\n",
    "gc.collect()"
   ]
  },
  {
   "cell_type": "code",
   "execution_count": 7,
   "metadata": {
    "ExecuteTime": {
     "end_time": "2020-06-24T09:46:46.847368Z",
     "start_time": "2020-06-24T09:43:08.318659Z"
    }
   },
   "outputs": [
    {
     "name": "stdout",
     "output_type": "stream",
     "text": [
      "submission_multimeter003\n",
      "submission_multimeter004_nobuild\n",
      "submission_withoutleak001\n",
      "submission_whatsyourcv3_0052_trncl\n",
      "submission_nn007lofo\n",
      "submission_nn001\n",
      "submission_catboost002\n",
      "fe2_lgbm\n",
      "histgradboost113\n"
     ]
    }
   ],
   "source": [
    "subm, name_list = join_sub(sublist, sub)"
   ]
  },
  {
   "cell_type": "code",
   "execution_count": 8,
   "metadata": {
    "ExecuteTime": {
     "end_time": "2020-06-24T09:46:49.385293Z",
     "start_time": "2020-06-24T09:46:46.849265Z"
    }
   },
   "outputs": [
    {
     "name": "stdout",
     "output_type": "stream",
     "text": [
      "<class 'pandas.core.frame.DataFrame'>\n",
      "RangeIndex: 41697600 entries, 0 to 41697599\n",
      "Data columns (total 10 columns):\n",
      "row_id                                int64\n",
      "submission_multimeter003              float64\n",
      "submission_multimeter004_nobuild      float64\n",
      "submission_withoutleak001             float64\n",
      "submission_whatsyourcv3_0052_trncl    float64\n",
      "submission_nn007lofo                  float64\n",
      "submission_nn001                      float64\n",
      "submission_catboost002                float64\n",
      "fe2_lgbm                              float64\n",
      "histgradboost113                      float64\n",
      "dtypes: float64(9), int64(1)\n",
      "memory usage: 3.1 GB\n"
     ]
    }
   ],
   "source": [
    "subm.info()"
   ]
  },
  {
   "cell_type": "code",
   "execution_count": 9,
   "metadata": {
    "ExecuteTime": {
     "end_time": "2020-06-24T09:46:49.400057Z",
     "start_time": "2020-06-24T09:46:49.386952Z"
    }
   },
   "outputs": [
    {
     "data": {
      "text/html": [
       "<div>\n",
       "<style scoped>\n",
       "    .dataframe tbody tr th:only-of-type {\n",
       "        vertical-align: middle;\n",
       "    }\n",
       "\n",
       "    .dataframe tbody tr th {\n",
       "        vertical-align: top;\n",
       "    }\n",
       "\n",
       "    .dataframe thead th {\n",
       "        text-align: right;\n",
       "    }\n",
       "</style>\n",
       "<table border=\"1\" class=\"dataframe\">\n",
       "  <thead>\n",
       "    <tr style=\"text-align: right;\">\n",
       "      <th></th>\n",
       "      <th>row_id</th>\n",
       "      <th>submission_multimeter003</th>\n",
       "      <th>submission_multimeter004_nobuild</th>\n",
       "      <th>submission_withoutleak001</th>\n",
       "      <th>submission_whatsyourcv3_0052_trncl</th>\n",
       "      <th>submission_nn007lofo</th>\n",
       "      <th>submission_nn001</th>\n",
       "      <th>submission_catboost002</th>\n",
       "      <th>fe2_lgbm</th>\n",
       "      <th>histgradboost113</th>\n",
       "    </tr>\n",
       "  </thead>\n",
       "  <tbody>\n",
       "    <tr>\n",
       "      <th>0</th>\n",
       "      <td>0</td>\n",
       "      <td>5.137161</td>\n",
       "      <td>5.090232</td>\n",
       "      <td>5.009000</td>\n",
       "      <td>5.132836</td>\n",
       "      <td>5.186345</td>\n",
       "      <td>5.416244</td>\n",
       "      <td>3.893621</td>\n",
       "      <td>5.035160</td>\n",
       "      <td>5.200388</td>\n",
       "    </tr>\n",
       "    <tr>\n",
       "      <th>1</th>\n",
       "      <td>1</td>\n",
       "      <td>4.188979</td>\n",
       "      <td>4.348235</td>\n",
       "      <td>4.241376</td>\n",
       "      <td>4.211026</td>\n",
       "      <td>4.463649</td>\n",
       "      <td>4.654332</td>\n",
       "      <td>2.844555</td>\n",
       "      <td>4.466447</td>\n",
       "      <td>4.432485</td>\n",
       "    </tr>\n",
       "    <tr>\n",
       "      <th>2</th>\n",
       "      <td>2</td>\n",
       "      <td>2.020209</td>\n",
       "      <td>2.860937</td>\n",
       "      <td>2.374375</td>\n",
       "      <td>2.175479</td>\n",
       "      <td>1.975011</td>\n",
       "      <td>2.326737</td>\n",
       "      <td>1.447178</td>\n",
       "      <td>2.397863</td>\n",
       "      <td>2.427290</td>\n",
       "    </tr>\n",
       "    <tr>\n",
       "      <th>3</th>\n",
       "      <td>3</td>\n",
       "      <td>5.323947</td>\n",
       "      <td>5.390048</td>\n",
       "      <td>5.525267</td>\n",
       "      <td>5.686560</td>\n",
       "      <td>5.686459</td>\n",
       "      <td>5.877153</td>\n",
       "      <td>4.143712</td>\n",
       "      <td>5.485559</td>\n",
       "      <td>5.559772</td>\n",
       "    </tr>\n",
       "    <tr>\n",
       "      <th>4</th>\n",
       "      <td>4</td>\n",
       "      <td>7.141346</td>\n",
       "      <td>6.877127</td>\n",
       "      <td>7.250548</td>\n",
       "      <td>7.121456</td>\n",
       "      <td>7.129229</td>\n",
       "      <td>7.228379</td>\n",
       "      <td>4.957968</td>\n",
       "      <td>7.024336</td>\n",
       "      <td>7.006811</td>\n",
       "    </tr>\n",
       "  </tbody>\n",
       "</table>\n",
       "</div>"
      ],
      "text/plain": [
       "   row_id  submission_multimeter003  submission_multimeter004_nobuild  \\\n",
       "0       0                  5.137161                          5.090232   \n",
       "1       1                  4.188979                          4.348235   \n",
       "2       2                  2.020209                          2.860937   \n",
       "3       3                  5.323947                          5.390048   \n",
       "4       4                  7.141346                          6.877127   \n",
       "\n",
       "   submission_withoutleak001  submission_whatsyourcv3_0052_trncl  \\\n",
       "0                   5.009000                            5.132836   \n",
       "1                   4.241376                            4.211026   \n",
       "2                   2.374375                            2.175479   \n",
       "3                   5.525267                            5.686560   \n",
       "4                   7.250548                            7.121456   \n",
       "\n",
       "   submission_nn007lofo  submission_nn001  submission_catboost002  fe2_lgbm  \\\n",
       "0              5.186345          5.416244                3.893621  5.035160   \n",
       "1              4.463649          4.654332                2.844555  4.466447   \n",
       "2              1.975011          2.326737                1.447178  2.397863   \n",
       "3              5.686459          5.877153                4.143712  5.485559   \n",
       "4              7.129229          7.228379                4.957968  7.024336   \n",
       "\n",
       "   histgradboost113  \n",
       "0          5.200388  \n",
       "1          4.432485  \n",
       "2          2.427290  \n",
       "3          5.559772  \n",
       "4          7.006811  "
      ]
     },
     "execution_count": 9,
     "metadata": {},
     "output_type": "execute_result"
    }
   ],
   "source": [
    "subm.head()"
   ]
  },
  {
   "cell_type": "code",
   "execution_count": 10,
   "metadata": {
    "ExecuteTime": {
     "end_time": "2020-06-24T09:46:49.921512Z",
     "start_time": "2020-06-24T09:46:49.401180Z"
    }
   },
   "outputs": [
    {
     "data": {
      "text/html": [
       "<div>\n",
       "<style scoped>\n",
       "    .dataframe tbody tr th:only-of-type {\n",
       "        vertical-align: middle;\n",
       "    }\n",
       "\n",
       "    .dataframe tbody tr th {\n",
       "        vertical-align: top;\n",
       "    }\n",
       "\n",
       "    .dataframe thead th {\n",
       "        text-align: right;\n",
       "    }\n",
       "</style>\n",
       "<table border=\"1\" class=\"dataframe\">\n",
       "  <thead>\n",
       "    <tr style=\"text-align: right;\">\n",
       "      <th></th>\n",
       "      <th>row_id</th>\n",
       "      <th>building_id</th>\n",
       "      <th>meter</th>\n",
       "      <th>timestamp</th>\n",
       "      <th>site_id</th>\n",
       "      <th>primary_use</th>\n",
       "      <th>square_feet</th>\n",
       "      <th>year_built</th>\n",
       "      <th>floor_count</th>\n",
       "      <th>na_year_built</th>\n",
       "      <th>...</th>\n",
       "      <th>had_heat</th>\n",
       "      <th>had_windchill</th>\n",
       "      <th>had_feellike</th>\n",
       "      <th>had_air_temperature_mean_lag3</th>\n",
       "      <th>had_dew_temperature_mean_lag3</th>\n",
       "      <th>had_heat_mean_lag3</th>\n",
       "      <th>had_windchill_mean_lag3</th>\n",
       "      <th>had_feellike_mean_lag3</th>\n",
       "      <th>tm_day_of_week</th>\n",
       "      <th>tm_hour_of_day</th>\n",
       "    </tr>\n",
       "  </thead>\n",
       "  <tbody>\n",
       "    <tr>\n",
       "      <th>0</th>\n",
       "      <td>0</td>\n",
       "      <td>0</td>\n",
       "      <td>0</td>\n",
       "      <td>8784</td>\n",
       "      <td>0</td>\n",
       "      <td>0</td>\n",
       "      <td>7432</td>\n",
       "      <td>2008</td>\n",
       "      <td>-1</td>\n",
       "      <td>0</td>\n",
       "      <td>...</td>\n",
       "      <td>1</td>\n",
       "      <td>1</td>\n",
       "      <td>1</td>\n",
       "      <td>1</td>\n",
       "      <td>1</td>\n",
       "      <td>1</td>\n",
       "      <td>1</td>\n",
       "      <td>1</td>\n",
       "      <td>2</td>\n",
       "      <td>0</td>\n",
       "    </tr>\n",
       "    <tr>\n",
       "      <th>1</th>\n",
       "      <td>1</td>\n",
       "      <td>1</td>\n",
       "      <td>0</td>\n",
       "      <td>8784</td>\n",
       "      <td>0</td>\n",
       "      <td>0</td>\n",
       "      <td>2720</td>\n",
       "      <td>2004</td>\n",
       "      <td>-1</td>\n",
       "      <td>0</td>\n",
       "      <td>...</td>\n",
       "      <td>1</td>\n",
       "      <td>1</td>\n",
       "      <td>1</td>\n",
       "      <td>1</td>\n",
       "      <td>1</td>\n",
       "      <td>1</td>\n",
       "      <td>1</td>\n",
       "      <td>1</td>\n",
       "      <td>2</td>\n",
       "      <td>0</td>\n",
       "    </tr>\n",
       "    <tr>\n",
       "      <th>2</th>\n",
       "      <td>2</td>\n",
       "      <td>2</td>\n",
       "      <td>0</td>\n",
       "      <td>8784</td>\n",
       "      <td>0</td>\n",
       "      <td>0</td>\n",
       "      <td>5376</td>\n",
       "      <td>1991</td>\n",
       "      <td>-1</td>\n",
       "      <td>0</td>\n",
       "      <td>...</td>\n",
       "      <td>1</td>\n",
       "      <td>1</td>\n",
       "      <td>1</td>\n",
       "      <td>1</td>\n",
       "      <td>1</td>\n",
       "      <td>1</td>\n",
       "      <td>1</td>\n",
       "      <td>1</td>\n",
       "      <td>2</td>\n",
       "      <td>0</td>\n",
       "    </tr>\n",
       "    <tr>\n",
       "      <th>3</th>\n",
       "      <td>3</td>\n",
       "      <td>3</td>\n",
       "      <td>0</td>\n",
       "      <td>8784</td>\n",
       "      <td>0</td>\n",
       "      <td>0</td>\n",
       "      <td>23685</td>\n",
       "      <td>2002</td>\n",
       "      <td>-1</td>\n",
       "      <td>0</td>\n",
       "      <td>...</td>\n",
       "      <td>1</td>\n",
       "      <td>1</td>\n",
       "      <td>1</td>\n",
       "      <td>1</td>\n",
       "      <td>1</td>\n",
       "      <td>1</td>\n",
       "      <td>1</td>\n",
       "      <td>1</td>\n",
       "      <td>2</td>\n",
       "      <td>0</td>\n",
       "    </tr>\n",
       "    <tr>\n",
       "      <th>4</th>\n",
       "      <td>4</td>\n",
       "      <td>4</td>\n",
       "      <td>0</td>\n",
       "      <td>8784</td>\n",
       "      <td>0</td>\n",
       "      <td>0</td>\n",
       "      <td>116607</td>\n",
       "      <td>1975</td>\n",
       "      <td>-1</td>\n",
       "      <td>0</td>\n",
       "      <td>...</td>\n",
       "      <td>1</td>\n",
       "      <td>1</td>\n",
       "      <td>1</td>\n",
       "      <td>1</td>\n",
       "      <td>1</td>\n",
       "      <td>1</td>\n",
       "      <td>1</td>\n",
       "      <td>1</td>\n",
       "      <td>2</td>\n",
       "      <td>0</td>\n",
       "    </tr>\n",
       "  </tbody>\n",
       "</table>\n",
       "<p>5 rows × 54 columns</p>\n",
       "</div>"
      ],
      "text/plain": [
       "   row_id  building_id  meter  timestamp  site_id  primary_use  square_feet  \\\n",
       "0       0            0      0       8784        0            0         7432   \n",
       "1       1            1      0       8784        0            0         2720   \n",
       "2       2            2      0       8784        0            0         5376   \n",
       "3       3            3      0       8784        0            0        23685   \n",
       "4       4            4      0       8784        0            0       116607   \n",
       "\n",
       "   year_built  floor_count  na_year_built  ...  had_heat  had_windchill  \\\n",
       "0        2008           -1              0  ...         1              1   \n",
       "1        2004           -1              0  ...         1              1   \n",
       "2        1991           -1              0  ...         1              1   \n",
       "3        2002           -1              0  ...         1              1   \n",
       "4        1975           -1              0  ...         1              1   \n",
       "\n",
       "   had_feellike  had_air_temperature_mean_lag3  had_dew_temperature_mean_lag3  \\\n",
       "0             1                              1                              1   \n",
       "1             1                              1                              1   \n",
       "2             1                              1                              1   \n",
       "3             1                              1                              1   \n",
       "4             1                              1                              1   \n",
       "\n",
       "   had_heat_mean_lag3  had_windchill_mean_lag3  had_feellike_mean_lag3  \\\n",
       "0                   1                        1                       1   \n",
       "1                   1                        1                       1   \n",
       "2                   1                        1                       1   \n",
       "3                   1                        1                       1   \n",
       "4                   1                        1                       1   \n",
       "\n",
       "   tm_day_of_week  tm_hour_of_day  \n",
       "0               2               0  \n",
       "1               2               0  \n",
       "2               2               0  \n",
       "3               2               0  \n",
       "4               2               0  \n",
       "\n",
       "[5 rows x 54 columns]"
      ]
     },
     "execution_count": 10,
     "metadata": {},
     "output_type": "execute_result"
    }
   ],
   "source": [
    "test = pd.read_feather('test_simple_cleanup.feather')\n",
    "test.head()"
   ]
  },
  {
   "cell_type": "code",
   "execution_count": 11,
   "metadata": {
    "ExecuteTime": {
     "end_time": "2020-06-24T09:46:49.924572Z",
     "start_time": "2020-06-24T09:46:49.922754Z"
    }
   },
   "outputs": [],
   "source": [
    "#test.info()"
   ]
  },
  {
   "cell_type": "code",
   "execution_count": 12,
   "metadata": {
    "ExecuteTime": {
     "end_time": "2020-06-24T09:46:56.221161Z",
     "start_time": "2020-06-24T09:46:49.925699Z"
    }
   },
   "outputs": [
    {
     "data": {
      "text/html": [
       "<div>\n",
       "<style scoped>\n",
       "    .dataframe tbody tr th:only-of-type {\n",
       "        vertical-align: middle;\n",
       "    }\n",
       "\n",
       "    .dataframe tbody tr th {\n",
       "        vertical-align: top;\n",
       "    }\n",
       "\n",
       "    .dataframe thead th {\n",
       "        text-align: right;\n",
       "    }\n",
       "</style>\n",
       "<table border=\"1\" class=\"dataframe\">\n",
       "  <thead>\n",
       "    <tr style=\"text-align: right;\">\n",
       "      <th></th>\n",
       "      <th>building_id</th>\n",
       "      <th>meter</th>\n",
       "      <th>meter_reading</th>\n",
       "      <th>row_id</th>\n",
       "      <th>submission_multimeter003</th>\n",
       "      <th>submission_multimeter004_nobuild</th>\n",
       "      <th>submission_withoutleak001</th>\n",
       "      <th>submission_whatsyourcv3_0052_trncl</th>\n",
       "      <th>submission_nn007lofo</th>\n",
       "      <th>submission_nn001</th>\n",
       "      <th>submission_catboost002</th>\n",
       "      <th>fe2_lgbm</th>\n",
       "      <th>histgradboost113</th>\n",
       "    </tr>\n",
       "  </thead>\n",
       "  <tbody>\n",
       "    <tr>\n",
       "      <th>0</th>\n",
       "      <td>0</td>\n",
       "      <td>0</td>\n",
       "      <td>173.3703</td>\n",
       "      <td>0</td>\n",
       "      <td>5.137161</td>\n",
       "      <td>5.090232</td>\n",
       "      <td>5.009000</td>\n",
       "      <td>5.132836</td>\n",
       "      <td>5.186345</td>\n",
       "      <td>5.416244</td>\n",
       "      <td>3.893621</td>\n",
       "      <td>5.035160</td>\n",
       "      <td>5.200388</td>\n",
       "    </tr>\n",
       "    <tr>\n",
       "      <th>1</th>\n",
       "      <td>1</td>\n",
       "      <td>0</td>\n",
       "      <td>53.5127</td>\n",
       "      <td>1</td>\n",
       "      <td>4.188979</td>\n",
       "      <td>4.348235</td>\n",
       "      <td>4.241376</td>\n",
       "      <td>4.211026</td>\n",
       "      <td>4.463649</td>\n",
       "      <td>4.654332</td>\n",
       "      <td>2.844555</td>\n",
       "      <td>4.466447</td>\n",
       "      <td>4.432485</td>\n",
       "    </tr>\n",
       "    <tr>\n",
       "      <th>2</th>\n",
       "      <td>2</td>\n",
       "      <td>0</td>\n",
       "      <td>6.1430</td>\n",
       "      <td>2</td>\n",
       "      <td>2.020209</td>\n",
       "      <td>2.860937</td>\n",
       "      <td>2.374375</td>\n",
       "      <td>2.175479</td>\n",
       "      <td>1.975011</td>\n",
       "      <td>2.326737</td>\n",
       "      <td>1.447178</td>\n",
       "      <td>2.397863</td>\n",
       "      <td>2.427290</td>\n",
       "    </tr>\n",
       "    <tr>\n",
       "      <th>3</th>\n",
       "      <td>3</td>\n",
       "      <td>0</td>\n",
       "      <td>101.7015</td>\n",
       "      <td>3</td>\n",
       "      <td>5.323947</td>\n",
       "      <td>5.390048</td>\n",
       "      <td>5.525267</td>\n",
       "      <td>5.686560</td>\n",
       "      <td>5.686459</td>\n",
       "      <td>5.877153</td>\n",
       "      <td>4.143712</td>\n",
       "      <td>5.485559</td>\n",
       "      <td>5.559772</td>\n",
       "    </tr>\n",
       "    <tr>\n",
       "      <th>4</th>\n",
       "      <td>4</td>\n",
       "      <td>0</td>\n",
       "      <td>1141.2407</td>\n",
       "      <td>4</td>\n",
       "      <td>7.141346</td>\n",
       "      <td>6.877127</td>\n",
       "      <td>7.250548</td>\n",
       "      <td>7.121456</td>\n",
       "      <td>7.129229</td>\n",
       "      <td>7.228379</td>\n",
       "      <td>4.957968</td>\n",
       "      <td>7.024336</td>\n",
       "      <td>7.006811</td>\n",
       "    </tr>\n",
       "  </tbody>\n",
       "</table>\n",
       "</div>"
      ],
      "text/plain": [
       "   building_id  meter  meter_reading  row_id  submission_multimeter003  \\\n",
       "0            0      0       173.3703       0                  5.137161   \n",
       "1            1      0        53.5127       1                  4.188979   \n",
       "2            2      0         6.1430       2                  2.020209   \n",
       "3            3      0       101.7015       3                  5.323947   \n",
       "4            4      0      1141.2407       4                  7.141346   \n",
       "\n",
       "   submission_multimeter004_nobuild  submission_withoutleak001  \\\n",
       "0                          5.090232                   5.009000   \n",
       "1                          4.348235                   4.241376   \n",
       "2                          2.860937                   2.374375   \n",
       "3                          5.390048                   5.525267   \n",
       "4                          6.877127                   7.250548   \n",
       "\n",
       "   submission_whatsyourcv3_0052_trncl  submission_nn007lofo  submission_nn001  \\\n",
       "0                            5.132836              5.186345          5.416244   \n",
       "1                            4.211026              4.463649          4.654332   \n",
       "2                            2.175479              1.975011          2.326737   \n",
       "3                            5.686560              5.686459          5.877153   \n",
       "4                            7.121456              7.129229          7.228379   \n",
       "\n",
       "   submission_catboost002  fe2_lgbm  histgradboost113  \n",
       "0                3.893621  5.035160          5.200388  \n",
       "1                2.844555  4.466447          4.432485  \n",
       "2                1.447178  2.397863          2.427290  \n",
       "3                4.143712  5.485559          5.559772  \n",
       "4                4.957968  7.024336          7.006811  "
      ]
     },
     "execution_count": 12,
     "metadata": {},
     "output_type": "execute_result"
    }
   ],
   "source": [
    "# the training set is the aggregation of the predictions of level 1, the leaky target and some raw features from the test set\n",
    "subm_full = pd.concat([test[['building_id','meter']], submission['meter_reading'], subm], axis=1).reset_index(drop=True)\n",
    "subm_full.head()"
   ]
  },
  {
   "cell_type": "code",
   "execution_count": 13,
   "metadata": {
    "ExecuteTime": {
     "end_time": "2020-06-24T09:46:56.226847Z",
     "start_time": "2020-06-24T09:46:56.222429Z"
    }
   },
   "outputs": [
    {
     "name": "stdout",
     "output_type": "stream",
     "text": [
      "<class 'pandas.core.frame.DataFrame'>\n",
      "RangeIndex: 41697600 entries, 0 to 41697599\n",
      "Data columns (total 13 columns):\n",
      "building_id                           int16\n",
      "meter                                 int8\n",
      "meter_reading                         float64\n",
      "row_id                                int64\n",
      "submission_multimeter003              float64\n",
      "submission_multimeter004_nobuild      float64\n",
      "submission_withoutleak001             float64\n",
      "submission_whatsyourcv3_0052_trncl    float64\n",
      "submission_nn007lofo                  float64\n",
      "submission_nn001                      float64\n",
      "submission_catboost002                float64\n",
      "fe2_lgbm                              float64\n",
      "histgradboost113                      float64\n",
      "dtypes: float64(10), int16(1), int64(1), int8(1)\n",
      "memory usage: 3.5 GB\n"
     ]
    }
   ],
   "source": [
    "subm_full.info()"
   ]
  },
  {
   "cell_type": "code",
   "execution_count": 14,
   "metadata": {
    "ExecuteTime": {
     "end_time": "2020-06-24T09:46:56.258320Z",
     "start_time": "2020-06-24T09:46:56.227974Z"
    }
   },
   "outputs": [
    {
     "data": {
      "text/plain": [
       "14"
      ]
     },
     "execution_count": 14,
     "metadata": {},
     "output_type": "execute_result"
    }
   ],
   "source": [
    "del submission\n",
    "del test\n",
    "import gc\n",
    "gc.collect()"
   ]
  },
  {
   "cell_type": "code",
   "execution_count": 15,
   "metadata": {
    "ExecuteTime": {
     "end_time": "2020-06-24T09:47:00.754115Z",
     "start_time": "2020-06-24T09:46:56.259475Z"
    }
   },
   "outputs": [
    {
     "data": {
      "text/plain": [
       "((12055470, 13), (29642130, 13))"
      ]
     },
     "execution_count": 15,
     "metadata": {},
     "output_type": "execute_result"
    }
   ],
   "source": [
    "# the training set are the rows from the leak when all the other are the ones that are still unknown.\n",
    "subm_trn = subm_full[subm_full.meter_reading!=-9999.99].reset_index(drop=True)\n",
    "subm_tst = subm_full[subm_full.meter_reading==-9999.99].reset_index(drop=True)\n",
    "\n",
    "subm_trn.shape, subm_tst.shape"
   ]
  },
  {
   "cell_type": "code",
   "execution_count": 16,
   "metadata": {
    "ExecuteTime": {
     "end_time": "2020-06-24T09:47:00.784327Z",
     "start_time": "2020-06-24T09:47:00.755445Z"
    }
   },
   "outputs": [
    {
     "data": {
      "text/plain": [
       "0"
      ]
     },
     "execution_count": 16,
     "metadata": {},
     "output_type": "execute_result"
    }
   ],
   "source": [
    "del subm_full\n",
    "gc.collect()"
   ]
  },
  {
   "cell_type": "code",
   "execution_count": 17,
   "metadata": {
    "ExecuteTime": {
     "end_time": "2020-06-24T09:47:03.604428Z",
     "start_time": "2020-06-24T09:47:00.785470Z"
    }
   },
   "outputs": [],
   "source": [
    "subm_trn['meter_reading'] = subm_trn['meter_reading'].apply(lambda x: 0 if x < 0 else x)\n",
    "subm_trn['meter_reading'] = np.log1p(subm_trn['meter_reading'].values)"
   ]
  },
  {
   "cell_type": "code",
   "execution_count": 18,
   "metadata": {
    "ExecuteTime": {
     "end_time": "2020-06-24T09:47:03.609342Z",
     "start_time": "2020-06-24T09:47:03.605797Z"
    }
   },
   "outputs": [
    {
     "data": {
      "text/plain": [
       "['submission_multimeter003',\n",
       " 'submission_multimeter004_nobuild',\n",
       " 'submission_withoutleak001',\n",
       " 'submission_whatsyourcv3_0052_trncl',\n",
       " 'submission_nn007lofo',\n",
       " 'submission_nn001',\n",
       " 'submission_catboost002',\n",
       " 'fe2_lgbm',\n",
       " 'histgradboost113']"
      ]
     },
     "execution_count": 18,
     "metadata": {},
     "output_type": "execute_result"
    }
   ],
   "source": [
    "# features in the ensemble training set that are predictions from level 1:\n",
    "name_list = [x for x in subm_trn.columns if x not in ['row_id', 'building_id', 'meter', 'meter_reading']]\n",
    "name_list"
   ]
  },
  {
   "cell_type": "code",
   "execution_count": 19,
   "metadata": {
    "ExecuteTime": {
     "end_time": "2020-06-24T09:47:06.596267Z",
     "start_time": "2020-06-24T09:47:03.610525Z"
    }
   },
   "outputs": [],
   "source": [
    "# simple feature engineering:\n",
    "subm_trn['mean_tgt'] = subm_trn[name_list].mean(axis=1)\n",
    "subm_trn['median_tgt'] = subm_trn[name_list].median(axis=1)"
   ]
  },
  {
   "cell_type": "code",
   "execution_count": 20,
   "metadata": {
    "ExecuteTime": {
     "end_time": "2020-06-24T09:47:06.601192Z",
     "start_time": "2020-06-24T09:47:06.597639Z"
    }
   },
   "outputs": [
    {
     "data": {
      "text/plain": [
       "['meter',\n",
       " 'submission_multimeter003',\n",
       " 'submission_multimeter004_nobuild',\n",
       " 'submission_withoutleak001',\n",
       " 'submission_whatsyourcv3_0052_trncl',\n",
       " 'submission_nn007lofo',\n",
       " 'submission_nn001',\n",
       " 'submission_catboost002',\n",
       " 'fe2_lgbm',\n",
       " 'histgradboost113',\n",
       " 'mean_tgt',\n",
       " 'median_tgt']"
      ]
     },
     "execution_count": 20,
     "metadata": {},
     "output_type": "execute_result"
    }
   ],
   "source": [
    "# the raw feature \"meter\" is added to all the predictions from level 1:\n",
    "features = [x for x in subm_trn.columns if x not in ['row_id', 'building_id', 'meter_reading']]\n",
    "features"
   ]
  },
  {
   "cell_type": "code",
   "execution_count": null,
   "metadata": {},
   "outputs": [],
   "source": []
  },
  {
   "cell_type": "markdown",
   "metadata": {},
   "source": [
    "# 2. run the ensemble model"
   ]
  },
  {
   "cell_type": "code",
   "execution_count": 21,
   "metadata": {
    "ExecuteTime": {
     "end_time": "2020-06-24T09:47:06.827162Z",
     "start_time": "2020-06-24T09:47:06.602316Z"
    }
   },
   "outputs": [],
   "source": [
    "import gc\n",
    "import os\n",
    "import random\n",
    "\n",
    "import lightgbm as lgb\n",
    "import numpy as np"
   ]
  },
  {
   "cell_type": "code",
   "execution_count": 22,
   "metadata": {
    "ExecuteTime": {
     "end_time": "2020-06-24T09:48:56.823641Z",
     "start_time": "2020-06-24T09:47:06.828391Z"
    }
   },
   "outputs": [
    {
     "name": "stderr",
     "output_type": "stream",
     "text": [
      "/home/ubuntu/anaconda3/envs/tensorflow_p36/lib/python3.6/site-packages/lightgbm/basic.py:1291: UserWarning: Using categorical_feature in Dataset.\n",
      "  warnings.warn('Using categorical_feature in Dataset.')\n"
     ]
    },
    {
     "name": "stdout",
     "output_type": "stream",
     "text": [
      "Training until validation scores don't improve for 50 rounds\n",
      "[25]\ttraining's rmse: 0.945961\tvalid_1's rmse: 1.26533\n",
      "[50]\ttraining's rmse: 0.816725\tvalid_1's rmse: 1.21352\n",
      "[75]\ttraining's rmse: 0.800996\tvalid_1's rmse: 1.21893\n",
      "Early stopping, best iteration is:\n",
      "[47]\ttraining's rmse: 0.821511\tvalid_1's rmse: 1.21328\n",
      "Training until validation scores don't improve for 50 rounds\n",
      "[25]\ttraining's rmse: 1.03633\tvalid_1's rmse: 1.04944\n",
      "[50]\ttraining's rmse: 0.917685\tvalid_1's rmse: 0.941102\n",
      "[75]\ttraining's rmse: 0.900358\tvalid_1's rmse: 0.931436\n",
      "[100]\ttraining's rmse: 0.893973\tvalid_1's rmse: 0.931605\n",
      "[125]\ttraining's rmse: 0.889183\tvalid_1's rmse: 0.932394\n",
      "Early stopping, best iteration is:\n",
      "[80]\ttraining's rmse: 0.898765\tvalid_1's rmse: 0.931168\n",
      "Training until validation scores don't improve for 50 rounds\n",
      "[25]\ttraining's rmse: 1.0495\tvalid_1's rmse: 0.989965\n",
      "[50]\ttraining's rmse: 0.933024\tvalid_1's rmse: 0.886045\n",
      "[75]\ttraining's rmse: 0.916664\tvalid_1's rmse: 0.880869\n",
      "[100]\ttraining's rmse: 0.910186\tvalid_1's rmse: 0.880865\n",
      "[125]\ttraining's rmse: 0.906001\tvalid_1's rmse: 0.880373\n",
      "[150]\ttraining's rmse: 0.903035\tvalid_1's rmse: 0.879714\n",
      "[175]\ttraining's rmse: 0.900482\tvalid_1's rmse: 0.878996\n",
      "[200]\ttraining's rmse: 0.898124\tvalid_1's rmse: 0.878547\n",
      "[225]\ttraining's rmse: 0.895449\tvalid_1's rmse: 0.878465\n",
      "[250]\ttraining's rmse: 0.892933\tvalid_1's rmse: 0.878764\n",
      "Early stopping, best iteration is:\n",
      "[222]\ttraining's rmse: 0.895694\tvalid_1's rmse: 0.878439\n",
      "Training until validation scores don't improve for 50 rounds\n",
      "[25]\ttraining's rmse: 1.09305\tvalid_1's rmse: 0.911946\n",
      "[50]\ttraining's rmse: 0.990234\tvalid_1's rmse: 0.729317\n",
      "[75]\ttraining's rmse: 0.975379\tvalid_1's rmse: 0.701578\n",
      "[100]\ttraining's rmse: 0.969375\tvalid_1's rmse: 0.697214\n",
      "[125]\ttraining's rmse: 0.965119\tvalid_1's rmse: 0.697087\n",
      "[150]\ttraining's rmse: 0.96197\tvalid_1's rmse: 0.697508\n",
      "Early stopping, best iteration is:\n",
      "[113]\ttraining's rmse: 0.967109\tvalid_1's rmse: 0.696189\n"
     ]
    }
   ],
   "source": [
    "from sklearn.model_selection import KFold\n",
    "\n",
    "params = {\n",
    "    \"objective\": \"regression\",\n",
    "    \"boosting\": \"gbdt\",\n",
    "#     \"num_leaves\": 1280,\n",
    "    \"learning_rate\": 0.05,\n",
    "    \"feature_fraction\": 0.95,\n",
    "    \"reg_lambda\": 2,\n",
    "    \"metric\": \"rmse\",\n",
    "}\n",
    "\n",
    "\n",
    "categorical_features = ['meter']\n",
    "\n",
    "kf = KFold(n_splits=4, shuffle=False)\n",
    "models = []\n",
    "for train_index,test_index in kf.split(subm_trn):\n",
    "    \n",
    "    train_features = subm_trn[features].loc[train_index]\n",
    "    train_target = subm_trn['meter_reading'].loc[train_index]\n",
    "    \n",
    "    val_features = subm_trn[features].loc[test_index]\n",
    "    val_target = subm_trn['meter_reading'].loc[test_index]\n",
    "    \n",
    "    d_training = lgb.Dataset(train_features, \n",
    "                             label=train_target,\n",
    "                             categorical_feature=categorical_features, \n",
    "                             free_raw_data=False)\n",
    "    \n",
    "    d_test = lgb.Dataset(val_features, \n",
    "                         label=val_target,\n",
    "                         categorical_feature=categorical_features, \n",
    "                         free_raw_data=False)\n",
    "    \n",
    "    model = lgb.train(params, \n",
    "                      train_set=d_training, \n",
    "                      num_boost_round=2000, \n",
    "                      valid_sets=[d_training,d_test], \n",
    "                      verbose_eval=25, \n",
    "                      early_stopping_rounds=50)\n",
    "    \n",
    "    models.append(model)\n",
    "#     del train_features, train_target, test_features, test_target, d_training, d_test\n",
    "    gc.collect()\n"
   ]
  },
  {
   "cell_type": "code",
   "execution_count": 23,
   "metadata": {
    "ExecuteTime": {
     "end_time": "2020-06-24T09:48:56.830092Z",
     "start_time": "2020-06-24T09:48:56.826574Z"
    }
   },
   "outputs": [
    {
     "data": {
      "text/plain": [
       "[<lightgbm.basic.Booster at 0x7f7a73829d30>,\n",
       " <lightgbm.basic.Booster at 0x7f7a73829da0>,\n",
       " <lightgbm.basic.Booster at 0x7f79c5a23908>,\n",
       " <lightgbm.basic.Booster at 0x7f79c5a23160>]"
      ]
     },
     "execution_count": 23,
     "metadata": {},
     "output_type": "execute_result"
    }
   ],
   "source": [
    "models"
   ]
  },
  {
   "cell_type": "code",
   "execution_count": 24,
   "metadata": {
    "ExecuteTime": {
     "end_time": "2020-06-24T09:48:57.656895Z",
     "start_time": "2020-06-24T09:48:56.831893Z"
    }
   },
   "outputs": [
    {
     "data": {
      "image/png": "[encoded data removed]",
      "text/plain": [
       "<Figure size 432x288 with 1 Axes>"
      ]
     },
     "metadata": {
      "needs_background": "light"
     },
     "output_type": "display_data"
    },
    {
     "data": {
      "image/png": "[encoded data removed]",
      "text/plain": [
       "<Figure size 432x288 with 1 Axes>"
      ]
     },
     "metadata": {
      "needs_background": "light"
     },
     "output_type": "display_data"
    },
    {
     "data": {
      "image/png": "[encoded data removed]",
      "text/plain": [
       "<Figure size 432x288 with 1 Axes>"
      ]
     },
     "metadata": {
      "needs_background": "light"
     },
     "output_type": "display_data"
    },
    {
     "data": {
      "image/png": "[encoded data removed]",
      "text/plain": [
       "<Figure size 432x288 with 1 Axes>"
      ]
     },
     "metadata": {
      "needs_background": "light"
     },
     "output_type": "display_data"
    }
   ],
   "source": [
    "%matplotlib inline\n",
    "for model in models:\n",
    "    lgb.plot_importance(model)\n",
    "#     plt.show()"
   ]
  },
  {
   "cell_type": "code",
   "execution_count": null,
   "metadata": {},
   "outputs": [],
   "source": []
  },
  {
   "cell_type": "markdown",
   "metadata": {},
   "source": [
    "# 3. final prediction using the ensemble model on the entire test set:"
   ]
  },
  {
   "cell_type": "code",
   "execution_count": 25,
   "metadata": {
    "ExecuteTime": {
     "end_time": "2020-06-24T09:48:57.660725Z",
     "start_time": "2020-06-24T09:48:57.657995Z"
    }
   },
   "outputs": [
    {
     "data": {
      "text/plain": [
       "['submission_multimeter003',\n",
       " 'submission_multimeter004_nobuild',\n",
       " 'submission_withoutleak001',\n",
       " 'submission_whatsyourcv3_0052_trncl',\n",
       " 'submission_nn007lofo',\n",
       " 'submission_nn001',\n",
       " 'submission_catboost002',\n",
       " 'fe2_lgbm',\n",
       " 'histgradboost113']"
      ]
     },
     "execution_count": 25,
     "metadata": {},
     "output_type": "execute_result"
    }
   ],
   "source": [
    "name_list"
   ]
  },
  {
   "cell_type": "code",
   "execution_count": 26,
   "metadata": {
    "ExecuteTime": {
     "end_time": "2020-06-24T09:49:04.433124Z",
     "start_time": "2020-06-24T09:48:57.661752Z"
    }
   },
   "outputs": [],
   "source": [
    "test = pd.read_feather('test_simple_cleanup.feather')\n",
    "submission = pd.read_feather('leak012345_001.feather')\n",
    "subm_full = pd.concat([test[['building_id','meter']], submission['meter_reading'], subm], axis=1).reset_index(drop=True)"
   ]
  },
  {
   "cell_type": "code",
   "execution_count": 27,
   "metadata": {
    "ExecuteTime": {
     "end_time": "2020-06-24T09:49:14.615195Z",
     "start_time": "2020-06-24T09:49:04.434386Z"
    }
   },
   "outputs": [],
   "source": [
    "subm_full['mean_tgt'] = subm_full[name_list].mean(axis=1)\n",
    "subm_full['median_tgt'] = subm_full[name_list].median(axis=1)"
   ]
  },
  {
   "cell_type": "code",
   "execution_count": 28,
   "metadata": {
    "ExecuteTime": {
     "end_time": "2020-06-24T09:49:19.613707Z",
     "start_time": "2020-06-24T09:49:14.616454Z"
    }
   },
   "outputs": [
    {
     "data": {
      "text/plain": [
       "Index(['meter', 'submission_multimeter003', 'submission_multimeter004_nobuild',\n",
       "       'submission_withoutleak001', 'submission_whatsyourcv3_0052_trncl',\n",
       "       'submission_nn007lofo', 'submission_nn001', 'submission_catboost002',\n",
       "       'fe2_lgbm', 'histgradboost113', 'mean_tgt', 'median_tgt'],\n",
       "      dtype='object')"
      ]
     },
     "execution_count": 28,
     "metadata": {},
     "output_type": "execute_result"
    }
   ],
   "source": [
    "subm_full[features].columns"
   ]
  },
  {
   "cell_type": "code",
   "execution_count": 29,
   "metadata": {
    "ExecuteTime": {
     "end_time": "2020-06-24T09:53:09.564387Z",
     "start_time": "2020-06-24T09:49:19.614836Z"
    },
    "scrolled": true
   },
   "outputs": [
    {
     "name": "stderr",
     "output_type": "stream",
     "text": [
      "100%|██████████| 84/84 [03:49<00:00,  2.74s/it]\n"
     ]
    }
   ],
   "source": [
    "from tqdm import tqdm\n",
    "i=0\n",
    "\n",
    "res = np.zeros((subm_full.shape[0]),dtype=np.float32)\n",
    "step_size = 500000\n",
    "for j in tqdm(range(int(np.ceil(subm_full.shape[0]/step_size)))):\n",
    "#     for_prediction = get_keras_data(test.iloc[i:i+step_size], numericals, categoricals)\n",
    "    for_prediction = subm_full[features].iloc[i:i+step_size]\n",
    "    res[i:min(i+step_size,subm_full.shape[0])] = \\\n",
    "       np.expm1(sum([model.predict(for_prediction, num_iteration=model.best_iteration) for model in models])/len(models))\n",
    "    i+=step_size"
   ]
  },
  {
   "cell_type": "code",
   "execution_count": 30,
   "metadata": {
    "ExecuteTime": {
     "end_time": "2020-06-24T09:53:09.824480Z",
     "start_time": "2020-06-24T09:53:09.565819Z"
    }
   },
   "outputs": [],
   "source": [
    "# use of the leak for final submission:\n",
    "submission = pd.read_feather('leak012345_001.feather')"
   ]
  },
  {
   "cell_type": "code",
   "execution_count": 31,
   "metadata": {
    "ExecuteTime": {
     "end_time": "2020-06-24T09:53:09.899092Z",
     "start_time": "2020-06-24T09:53:09.825705Z"
    }
   },
   "outputs": [],
   "source": [
    "submission['real'] = res"
   ]
  },
  {
   "cell_type": "code",
   "execution_count": 32,
   "metadata": {
    "ExecuteTime": {
     "end_time": "2020-06-24T09:53:09.912379Z",
     "start_time": "2020-06-24T09:53:09.900317Z"
    }
   },
   "outputs": [
    {
     "data": {
      "text/html": [
       "<div>\n",
       "<style scoped>\n",
       "    .dataframe tbody tr th:only-of-type {\n",
       "        vertical-align: middle;\n",
       "    }\n",
       "\n",
       "    .dataframe tbody tr th {\n",
       "        vertical-align: top;\n",
       "    }\n",
       "\n",
       "    .dataframe thead th {\n",
       "        text-align: right;\n",
       "    }\n",
       "</style>\n",
       "<table border=\"1\" class=\"dataframe\">\n",
       "  <thead>\n",
       "    <tr style=\"text-align: right;\">\n",
       "      <th></th>\n",
       "      <th>index</th>\n",
       "      <th>row_id</th>\n",
       "      <th>meter_reading</th>\n",
       "      <th>real</th>\n",
       "    </tr>\n",
       "  </thead>\n",
       "  <tbody>\n",
       "    <tr>\n",
       "      <th>0</th>\n",
       "      <td>0</td>\n",
       "      <td>0</td>\n",
       "      <td>173.3703</td>\n",
       "      <td>155.496613</td>\n",
       "    </tr>\n",
       "    <tr>\n",
       "      <th>1</th>\n",
       "      <td>1</td>\n",
       "      <td>1</td>\n",
       "      <td>53.5127</td>\n",
       "      <td>71.205292</td>\n",
       "    </tr>\n",
       "    <tr>\n",
       "      <th>2</th>\n",
       "      <td>2</td>\n",
       "      <td>2</td>\n",
       "      <td>6.1430</td>\n",
       "      <td>8.671617</td>\n",
       "    </tr>\n",
       "    <tr>\n",
       "      <th>3</th>\n",
       "      <td>3</td>\n",
       "      <td>3</td>\n",
       "      <td>101.7015</td>\n",
       "      <td>208.460907</td>\n",
       "    </tr>\n",
       "    <tr>\n",
       "      <th>4</th>\n",
       "      <td>4</td>\n",
       "      <td>4</td>\n",
       "      <td>1141.2407</td>\n",
       "      <td>1082.212402</td>\n",
       "    </tr>\n",
       "    <tr>\n",
       "      <th>5</th>\n",
       "      <td>5</td>\n",
       "      <td>5</td>\n",
       "      <td>13.6512</td>\n",
       "      <td>13.495151</td>\n",
       "    </tr>\n",
       "    <tr>\n",
       "      <th>6</th>\n",
       "      <td>6</td>\n",
       "      <td>6</td>\n",
       "      <td>260.8745</td>\n",
       "      <td>96.477913</td>\n",
       "    </tr>\n",
       "    <tr>\n",
       "      <th>7</th>\n",
       "      <td>7</td>\n",
       "      <td>7</td>\n",
       "      <td>502.7056</td>\n",
       "      <td>429.329102</td>\n",
       "    </tr>\n",
       "    <tr>\n",
       "      <th>8</th>\n",
       "      <td>8</td>\n",
       "      <td>8</td>\n",
       "      <td>717.5740</td>\n",
       "      <td>149.730988</td>\n",
       "    </tr>\n",
       "    <tr>\n",
       "      <th>9</th>\n",
       "      <td>9</td>\n",
       "      <td>9</td>\n",
       "      <td>513.2853</td>\n",
       "      <td>290.353394</td>\n",
       "    </tr>\n",
       "    <tr>\n",
       "      <th>10</th>\n",
       "      <td>10</td>\n",
       "      <td>10</td>\n",
       "      <td>61.8400</td>\n",
       "      <td>52.543980</td>\n",
       "    </tr>\n",
       "    <tr>\n",
       "      <th>11</th>\n",
       "      <td>11</td>\n",
       "      <td>11</td>\n",
       "      <td>0.0000</td>\n",
       "      <td>8.077636</td>\n",
       "    </tr>\n",
       "    <tr>\n",
       "      <th>12</th>\n",
       "      <td>12</td>\n",
       "      <td>12</td>\n",
       "      <td>1806.7368</td>\n",
       "      <td>992.378174</td>\n",
       "    </tr>\n",
       "    <tr>\n",
       "      <th>13</th>\n",
       "      <td>13</td>\n",
       "      <td>13</td>\n",
       "      <td>472.3317</td>\n",
       "      <td>326.731903</td>\n",
       "    </tr>\n",
       "    <tr>\n",
       "      <th>14</th>\n",
       "      <td>14</td>\n",
       "      <td>14</td>\n",
       "      <td>298.6201</td>\n",
       "      <td>193.661652</td>\n",
       "    </tr>\n",
       "    <tr>\n",
       "      <th>15</th>\n",
       "      <td>15</td>\n",
       "      <td>15</td>\n",
       "      <td>308.8585</td>\n",
       "      <td>189.974548</td>\n",
       "    </tr>\n",
       "    <tr>\n",
       "      <th>16</th>\n",
       "      <td>16</td>\n",
       "      <td>16</td>\n",
       "      <td>253.2614</td>\n",
       "      <td>43.072025</td>\n",
       "    </tr>\n",
       "    <tr>\n",
       "      <th>17</th>\n",
       "      <td>17</td>\n",
       "      <td>17</td>\n",
       "      <td>263.4682</td>\n",
       "      <td>247.598190</td>\n",
       "    </tr>\n",
       "    <tr>\n",
       "      <th>18</th>\n",
       "      <td>18</td>\n",
       "      <td>18</td>\n",
       "      <td>464.3126</td>\n",
       "      <td>465.972809</td>\n",
       "    </tr>\n",
       "    <tr>\n",
       "      <th>19</th>\n",
       "      <td>19</td>\n",
       "      <td>19</td>\n",
       "      <td>176.4418</td>\n",
       "      <td>193.104294</td>\n",
       "    </tr>\n",
       "    <tr>\n",
       "      <th>20</th>\n",
       "      <td>20</td>\n",
       "      <td>20</td>\n",
       "      <td>253.2614</td>\n",
       "      <td>336.495636</td>\n",
       "    </tr>\n",
       "    <tr>\n",
       "      <th>21</th>\n",
       "      <td>21</td>\n",
       "      <td>21</td>\n",
       "      <td>1299.0486</td>\n",
       "      <td>517.931030</td>\n",
       "    </tr>\n",
       "    <tr>\n",
       "      <th>22</th>\n",
       "      <td>22</td>\n",
       "      <td>22</td>\n",
       "      <td>165.5891</td>\n",
       "      <td>87.517433</td>\n",
       "    </tr>\n",
       "    <tr>\n",
       "      <th>23</th>\n",
       "      <td>23</td>\n",
       "      <td>23</td>\n",
       "      <td>2070.6147</td>\n",
       "      <td>1450.248413</td>\n",
       "    </tr>\n",
       "    <tr>\n",
       "      <th>24</th>\n",
       "      <td>24</td>\n",
       "      <td>24</td>\n",
       "      <td>174.7354</td>\n",
       "      <td>145.436981</td>\n",
       "    </tr>\n",
       "    <tr>\n",
       "      <th>25</th>\n",
       "      <td>25</td>\n",
       "      <td>25</td>\n",
       "      <td>321.0149</td>\n",
       "      <td>334.910889</td>\n",
       "    </tr>\n",
       "    <tr>\n",
       "      <th>26</th>\n",
       "      <td>26</td>\n",
       "      <td>26</td>\n",
       "      <td>36.8583</td>\n",
       "      <td>42.007160</td>\n",
       "    </tr>\n",
       "    <tr>\n",
       "      <th>27</th>\n",
       "      <td>27</td>\n",
       "      <td>27</td>\n",
       "      <td>20.9580</td>\n",
       "      <td>13.022907</td>\n",
       "    </tr>\n",
       "    <tr>\n",
       "      <th>28</th>\n",
       "      <td>28</td>\n",
       "      <td>28</td>\n",
       "      <td>839.8903</td>\n",
       "      <td>632.729675</td>\n",
       "    </tr>\n",
       "    <tr>\n",
       "      <th>29</th>\n",
       "      <td>29</td>\n",
       "      <td>29</td>\n",
       "      <td>391.7895</td>\n",
       "      <td>574.842957</td>\n",
       "    </tr>\n",
       "    <tr>\n",
       "      <th>...</th>\n",
       "      <td>...</td>\n",
       "      <td>...</td>\n",
       "      <td>...</td>\n",
       "      <td>...</td>\n",
       "    </tr>\n",
       "    <tr>\n",
       "      <th>41697570</th>\n",
       "      <td>41697570</td>\n",
       "      <td>41697570</td>\n",
       "      <td>-9999.9900</td>\n",
       "      <td>1563.897339</td>\n",
       "    </tr>\n",
       "    <tr>\n",
       "      <th>41697571</th>\n",
       "      <td>41697571</td>\n",
       "      <td>41697571</td>\n",
       "      <td>-9999.9900</td>\n",
       "      <td>41.344311</td>\n",
       "    </tr>\n",
       "    <tr>\n",
       "      <th>41697572</th>\n",
       "      <td>41697572</td>\n",
       "      <td>41697572</td>\n",
       "      <td>-9999.9900</td>\n",
       "      <td>30.579966</td>\n",
       "    </tr>\n",
       "    <tr>\n",
       "      <th>41697573</th>\n",
       "      <td>41697573</td>\n",
       "      <td>41697573</td>\n",
       "      <td>-9999.9900</td>\n",
       "      <td>289.011444</td>\n",
       "    </tr>\n",
       "    <tr>\n",
       "      <th>41697574</th>\n",
       "      <td>41697574</td>\n",
       "      <td>41697574</td>\n",
       "      <td>-9999.9900</td>\n",
       "      <td>168.137283</td>\n",
       "    </tr>\n",
       "    <tr>\n",
       "      <th>41697575</th>\n",
       "      <td>41697575</td>\n",
       "      <td>41697575</td>\n",
       "      <td>-9999.9900</td>\n",
       "      <td>126.047920</td>\n",
       "    </tr>\n",
       "    <tr>\n",
       "      <th>41697576</th>\n",
       "      <td>41697576</td>\n",
       "      <td>41697576</td>\n",
       "      <td>-9999.9900</td>\n",
       "      <td>174.913773</td>\n",
       "    </tr>\n",
       "    <tr>\n",
       "      <th>41697577</th>\n",
       "      <td>41697577</td>\n",
       "      <td>41697577</td>\n",
       "      <td>-9999.9900</td>\n",
       "      <td>439.531494</td>\n",
       "    </tr>\n",
       "    <tr>\n",
       "      <th>41697578</th>\n",
       "      <td>41697578</td>\n",
       "      <td>41697578</td>\n",
       "      <td>-9999.9900</td>\n",
       "      <td>37.162209</td>\n",
       "    </tr>\n",
       "    <tr>\n",
       "      <th>41697579</th>\n",
       "      <td>41697579</td>\n",
       "      <td>41697579</td>\n",
       "      <td>-9999.9900</td>\n",
       "      <td>547.507812</td>\n",
       "    </tr>\n",
       "    <tr>\n",
       "      <th>41697580</th>\n",
       "      <td>41697580</td>\n",
       "      <td>41697580</td>\n",
       "      <td>-9999.9900</td>\n",
       "      <td>72.519226</td>\n",
       "    </tr>\n",
       "    <tr>\n",
       "      <th>41697581</th>\n",
       "      <td>41697581</td>\n",
       "      <td>41697581</td>\n",
       "      <td>-9999.9900</td>\n",
       "      <td>200.039749</td>\n",
       "    </tr>\n",
       "    <tr>\n",
       "      <th>41697582</th>\n",
       "      <td>41697582</td>\n",
       "      <td>41697582</td>\n",
       "      <td>-9999.9900</td>\n",
       "      <td>5.986032</td>\n",
       "    </tr>\n",
       "    <tr>\n",
       "      <th>41697583</th>\n",
       "      <td>41697583</td>\n",
       "      <td>41697583</td>\n",
       "      <td>-9999.9900</td>\n",
       "      <td>15.722809</td>\n",
       "    </tr>\n",
       "    <tr>\n",
       "      <th>41697584</th>\n",
       "      <td>41697584</td>\n",
       "      <td>41697584</td>\n",
       "      <td>-9999.9900</td>\n",
       "      <td>848.227966</td>\n",
       "    </tr>\n",
       "    <tr>\n",
       "      <th>41697585</th>\n",
       "      <td>41697585</td>\n",
       "      <td>41697585</td>\n",
       "      <td>-9999.9900</td>\n",
       "      <td>356.471436</td>\n",
       "    </tr>\n",
       "    <tr>\n",
       "      <th>41697586</th>\n",
       "      <td>41697586</td>\n",
       "      <td>41697586</td>\n",
       "      <td>-9999.9900</td>\n",
       "      <td>454.133820</td>\n",
       "    </tr>\n",
       "    <tr>\n",
       "      <th>41697587</th>\n",
       "      <td>41697587</td>\n",
       "      <td>41697587</td>\n",
       "      <td>-9999.9900</td>\n",
       "      <td>157.992523</td>\n",
       "    </tr>\n",
       "    <tr>\n",
       "      <th>41697588</th>\n",
       "      <td>41697588</td>\n",
       "      <td>41697588</td>\n",
       "      <td>-9999.9900</td>\n",
       "      <td>337.918396</td>\n",
       "    </tr>\n",
       "    <tr>\n",
       "      <th>41697589</th>\n",
       "      <td>41697589</td>\n",
       "      <td>41697589</td>\n",
       "      <td>-9999.9900</td>\n",
       "      <td>172.942688</td>\n",
       "    </tr>\n",
       "    <tr>\n",
       "      <th>41697590</th>\n",
       "      <td>41697590</td>\n",
       "      <td>41697590</td>\n",
       "      <td>-9999.9900</td>\n",
       "      <td>232.378479</td>\n",
       "    </tr>\n",
       "    <tr>\n",
       "      <th>41697591</th>\n",
       "      <td>41697591</td>\n",
       "      <td>41697591</td>\n",
       "      <td>-9999.9900</td>\n",
       "      <td>239.745621</td>\n",
       "    </tr>\n",
       "    <tr>\n",
       "      <th>41697592</th>\n",
       "      <td>41697592</td>\n",
       "      <td>41697592</td>\n",
       "      <td>-9999.9900</td>\n",
       "      <td>77.900291</td>\n",
       "    </tr>\n",
       "    <tr>\n",
       "      <th>41697593</th>\n",
       "      <td>41697593</td>\n",
       "      <td>41697593</td>\n",
       "      <td>-9999.9900</td>\n",
       "      <td>1.916792</td>\n",
       "    </tr>\n",
       "    <tr>\n",
       "      <th>41697594</th>\n",
       "      <td>41697594</td>\n",
       "      <td>41697594</td>\n",
       "      <td>-9999.9900</td>\n",
       "      <td>80.433136</td>\n",
       "    </tr>\n",
       "    <tr>\n",
       "      <th>41697595</th>\n",
       "      <td>41697595</td>\n",
       "      <td>41697595</td>\n",
       "      <td>-9999.9900</td>\n",
       "      <td>5.902653</td>\n",
       "    </tr>\n",
       "    <tr>\n",
       "      <th>41697596</th>\n",
       "      <td>41697596</td>\n",
       "      <td>41697596</td>\n",
       "      <td>-9999.9900</td>\n",
       "      <td>4.944012</td>\n",
       "    </tr>\n",
       "    <tr>\n",
       "      <th>41697597</th>\n",
       "      <td>41697597</td>\n",
       "      <td>41697597</td>\n",
       "      <td>-9999.9900</td>\n",
       "      <td>3.803178</td>\n",
       "    </tr>\n",
       "    <tr>\n",
       "      <th>41697598</th>\n",
       "      <td>41697598</td>\n",
       "      <td>41697598</td>\n",
       "      <td>-9999.9900</td>\n",
       "      <td>154.497070</td>\n",
       "    </tr>\n",
       "    <tr>\n",
       "      <th>41697599</th>\n",
       "      <td>41697599</td>\n",
       "      <td>41697599</td>\n",
       "      <td>-9999.9900</td>\n",
       "      <td>3.785663</td>\n",
       "    </tr>\n",
       "  </tbody>\n",
       "</table>\n",
       "<p>41697600 rows × 4 columns</p>\n",
       "</div>"
      ],
      "text/plain": [
       "             index    row_id  meter_reading         real\n",
       "0                0         0       173.3703   155.496613\n",
       "1                1         1        53.5127    71.205292\n",
       "2                2         2         6.1430     8.671617\n",
       "3                3         3       101.7015   208.460907\n",
       "4                4         4      1141.2407  1082.212402\n",
       "...            ...       ...            ...          ...\n",
       "41697595  41697595  41697595     -9999.9900     5.902653\n",
       "41697596  41697596  41697596     -9999.9900     4.944012\n",
       "41697597  41697597  41697597     -9999.9900     3.803178\n",
       "41697598  41697598  41697598     -9999.9900   154.497070\n",
       "41697599  41697599  41697599     -9999.9900     3.785663\n",
       "\n",
       "[41697600 rows x 4 columns]"
      ]
     },
     "execution_count": 32,
     "metadata": {},
     "output_type": "execute_result"
    }
   ],
   "source": [
    "submission"
   ]
  },
  {
   "cell_type": "code",
   "execution_count": 33,
   "metadata": {
    "ExecuteTime": {
     "end_time": "2020-06-24T09:53:10.302987Z",
     "start_time": "2020-06-24T09:53:09.913380Z"
    }
   },
   "outputs": [],
   "source": [
    "# concatenation of the leak and the ensembling prediction:\n",
    "submission['meter_reading']  = np.where(submission.meter_reading==-9999.99, submission['real'], submission['meter_reading'])\n"
   ]
  },
  {
   "cell_type": "code",
   "execution_count": 34,
   "metadata": {
    "ExecuteTime": {
     "end_time": "2020-06-24T09:57:00.203525Z",
     "start_time": "2020-06-24T09:53:10.304253Z"
    }
   },
   "outputs": [],
   "source": [
    "submission[['row_id','meter_reading']].to_csv('submission_ensemble_3rd_place.csv.gz', index=False,  compression='gzip', float_format='%.4f', chunksize=25000)"
   ]
  },
  {
   "cell_type": "code",
   "execution_count": 35,
   "metadata": {
    "ExecuteTime": {
     "end_time": "2020-06-24T09:57:00.206589Z",
     "start_time": "2020-06-24T09:57:00.204784Z"
    }
   },
   "outputs": [],
   "source": [
    "#!kaggle competitions submit -c ashrae-energy-prediction -f submission_ensemble_3rd_place.csv.gz -m \"final ensemble 3rd place position\"\n"
   ]
  }
 ],
 "metadata": {
  "kernelspec": {
   "display_name": "Python 3",
   "language": "python",
   "name": "python3"
  },
  "language_info": {
   "codemirror_mode": {
    "name": "ipython",
    "version": 3
   },
   "file_extension": ".py",
   "mimetype": "text/x-python",
   "name": "python",
   "nbconvert_exporter": "python",
   "pygments_lexer": "ipython3",
   "version": "3.7.4"
  }
 },
 "nbformat": 4,
 "nbformat_minor": 2
}
