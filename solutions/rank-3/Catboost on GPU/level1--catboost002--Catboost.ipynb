{
 "cells": [
  {
   "cell_type": "markdown",
   "metadata": {},
   "source": [
    "Based on https://www.kaggle.com/ragnar123/another-1-08-lb-no-leak"
   ]
  },
  {
   "cell_type": "markdown",
   "metadata": {},
   "source": [
    "\n",
    "#HARDWARE & SOFTWARE :  \n",
    "Cloud Computing Services: AWS    \n",
    "Instance Type: p3.2xlarge (8 vCPU, 61MB)   \n",
    "AMI ID: Deep Learning AMI (Ubuntu 16.04) Version 26.0 (ami-0e30cdd8359d89531)     \n",
    "Python: Python 3.6.6 :: Anaconda, Inc. (python packages are detailed separately in `requirements.txt`)   \n"
   ]
  },
  {
   "cell_type": "markdown",
   "metadata": {},
   "source": [
    "Note: this version was an early version, is overfitting and can be improved. Try removing the building id, changing the hyperameters (usage of 'per_float_feature_quantization' on building_id and meter, add regularization, decrease the depth), and decrease the number of features. "
   ]
  },
  {
   "cell_type": "code",
   "execution_count": null,
   "metadata": {},
   "outputs": [],
   "source": []
  },
  {
   "cell_type": "markdown",
   "metadata": {},
   "source": [
    "Load competitions files"
   ]
  },
  {
   "cell_type": "code",
   "execution_count": 1,
   "metadata": {
    "ExecuteTime": {
     "end_time": "2020-06-24T05:57:25.658030Z",
     "start_time": "2020-06-24T05:57:25.655889Z"
    }
   },
   "outputs": [],
   "source": [
    "#!kaggle competitions download -c ashrae-energy-prediction"
   ]
  },
  {
   "cell_type": "code",
   "execution_count": 2,
   "metadata": {
    "ExecuteTime": {
     "end_time": "2020-06-24T05:57:32.507858Z",
     "start_time": "2020-06-24T05:57:25.659209Z"
    }
   },
   "outputs": [
    {
     "name": "stdout",
     "output_type": "stream",
     "text": [
      "Requirement already satisfied: catboost==0.20 in /home/ubuntu/anaconda3/envs/tensorflow_p36/lib/python3.6/site-packages (0.20)\n",
      "Requirement already satisfied: six in /home/ubuntu/anaconda3/envs/tensorflow_p36/lib/python3.6/site-packages (from catboost==0.20) (1.14.0)\n",
      "Requirement already satisfied: graphviz in /home/ubuntu/anaconda3/envs/tensorflow_p36/lib/python3.6/site-packages (from catboost==0.20) (0.14)\n",
      "Requirement already satisfied: plotly in /home/ubuntu/anaconda3/envs/tensorflow_p36/lib/python3.6/site-packages (from catboost==0.20) (4.6.0)\n",
      "Requirement already satisfied: pandas>=0.24.0 in /home/ubuntu/anaconda3/envs/tensorflow_p36/lib/python3.6/site-packages (from catboost==0.20) (0.25.0)\n",
      "Requirement already satisfied: numpy>=1.16.0 in /home/ubuntu/anaconda3/envs/tensorflow_p36/lib/python3.6/site-packages (from catboost==0.20) (1.18.1)\n",
      "Requirement already satisfied: scipy in /home/ubuntu/anaconda3/envs/tensorflow_p36/lib/python3.6/site-packages (from catboost==0.20) (1.4.1)\n",
      "Requirement already satisfied: matplotlib in /home/ubuntu/anaconda3/envs/tensorflow_p36/lib/python3.6/site-packages (from catboost==0.20) (3.2.1)\n",
      "Requirement already satisfied: retrying>=1.3.3 in /home/ubuntu/anaconda3/envs/tensorflow_p36/lib/python3.6/site-packages (from plotly->catboost==0.20) (1.3.3)\n",
      "Requirement already satisfied: python-dateutil>=2.6.1 in /home/ubuntu/anaconda3/envs/tensorflow_p36/lib/python3.6/site-packages (from pandas>=0.24.0->catboost==0.20) (2.8.1)\n",
      "Requirement already satisfied: pytz>=2017.2 in /home/ubuntu/anaconda3/envs/tensorflow_p36/lib/python3.6/site-packages (from pandas>=0.24.0->catboost==0.20) (2019.3)\n",
      "Requirement already satisfied: pyparsing!=2.0.4,!=2.1.2,!=2.1.6,>=2.0.1 in /home/ubuntu/anaconda3/envs/tensorflow_p36/lib/python3.6/site-packages (from matplotlib->catboost==0.20) (2.4.6)\n",
      "Requirement already satisfied: kiwisolver>=1.0.1 in /home/ubuntu/anaconda3/envs/tensorflow_p36/lib/python3.6/site-packages (from matplotlib->catboost==0.20) (1.1.0)\n",
      "Requirement already satisfied: cycler>=0.10 in /home/ubuntu/anaconda3/envs/tensorflow_p36/lib/python3.6/site-packages (from matplotlib->catboost==0.20) (0.10.0)\n",
      "Requirement already satisfied: setuptools in /home/ubuntu/anaconda3/envs/tensorflow_p36/lib/python3.6/site-packages (from kiwisolver>=1.0.1->matplotlib->catboost==0.20) (46.1.3.post20200330)\n",
      "Requirement already satisfied: lightgbm==2.3.1 in /home/ubuntu/anaconda3/envs/tensorflow_p36/lib/python3.6/site-packages (2.3.1)\n",
      "Requirement already satisfied: numpy in /home/ubuntu/anaconda3/envs/tensorflow_p36/lib/python3.6/site-packages (from lightgbm==2.3.1) (1.18.1)\n",
      "Requirement already satisfied: scipy in /home/ubuntu/anaconda3/envs/tensorflow_p36/lib/python3.6/site-packages (from lightgbm==2.3.1) (1.4.1)\n",
      "Requirement already satisfied: scikit-learn in /home/ubuntu/anaconda3/envs/tensorflow_p36/lib/python3.6/site-packages (from lightgbm==2.3.1) (0.22.1)\n",
      "Requirement already satisfied: joblib>=0.11 in /home/ubuntu/anaconda3/envs/tensorflow_p36/lib/python3.6/site-packages (from scikit-learn->lightgbm==2.3.1) (0.14.1)\n",
      "Requirement already satisfied: tqdm==4.40.0 in /home/ubuntu/anaconda3/envs/tensorflow_p36/lib/python3.6/site-packages (4.40.0)\n",
      "Requirement already satisfied: meteocalc==1.1.0 in /home/ubuntu/anaconda3/envs/tensorflow_p36/lib/python3.6/site-packages (1.1.0)\n"
     ]
    }
   ],
   "source": [
    "!pip install catboost==0.20\n",
    "!pip install lightgbm==2.3.1\n",
    "!pip install tqdm==4.40.0\n",
    "!pip install meteocalc==1.1.0"
   ]
  },
  {
   "cell_type": "code",
   "execution_count": 3,
   "metadata": {
    "ExecuteTime": {
     "end_time": "2020-06-24T05:57:33.145857Z",
     "start_time": "2020-06-24T05:57:32.509476Z"
    }
   },
   "outputs": [],
   "source": [
    "# !python3 -m pip install meteocalc --user\n",
    "import pandas as pd\n",
    "import numpy as np\n",
    "import matplotlib.pyplot as plt\n",
    "import lightgbm as lgb\n",
    "from sklearn.preprocessing import LabelEncoder\n",
    "from sklearn.model_selection import KFold, StratifiedKFold, GroupKFold\n",
    "from tqdm import tqdm_notebook as tqdm\n",
    "import datetime\n",
    "from meteocalc import feels_like, Temp\n",
    "from sklearn import metrics\n",
    "import gc\n",
    "import os\n",
    "for dirname, _, filenames in os.walk('/kaggle/input'):\n",
    "    for filename in filenames:\n",
    "        print(os.path.join(dirname, filename))"
   ]
  },
  {
   "cell_type": "code",
   "execution_count": 4,
   "metadata": {
    "ExecuteTime": {
     "end_time": "2020-06-24T05:57:33.149161Z",
     "start_time": "2020-06-24T05:57:33.147249Z"
    }
   },
   "outputs": [],
   "source": [
    "# !python3 -m pip install tqdm --user"
   ]
  },
  {
   "cell_type": "markdown",
   "metadata": {},
   "source": [
    "# Load Data"
   ]
  },
  {
   "cell_type": "code",
   "execution_count": 5,
   "metadata": {
    "ExecuteTime": {
     "end_time": "2020-06-24T05:57:39.226798Z",
     "start_time": "2020-06-24T05:57:33.150338Z"
    }
   },
   "outputs": [],
   "source": [
    "train_df = pd.read_csv('train.csv')\n",
    "building_df = pd.read_csv('building_metadata.csv')\n",
    "weather_df = pd.read_csv('weather_train.csv')"
   ]
  },
  {
   "cell_type": "code",
   "execution_count": null,
   "metadata": {},
   "outputs": [],
   "source": []
  },
  {
   "cell_type": "code",
   "execution_count": null,
   "metadata": {},
   "outputs": [],
   "source": []
  },
  {
   "cell_type": "code",
   "execution_count": 6,
   "metadata": {
    "ExecuteTime": {
     "end_time": "2020-06-24T05:57:39.260289Z",
     "start_time": "2020-06-24T05:57:39.228148Z"
    }
   },
   "outputs": [],
   "source": [
    "# Original code from https://www.kaggle.com/aitude/ashrae-missing-weather-data-handling by @aitude\n",
    "\n",
    "def fill_weather_dataset(weather_df):\n",
    "    \n",
    "    # Find Missing Dates\n",
    "    time_format = \"%Y-%m-%d %H:%M:%S\"\n",
    "    start_date = datetime.datetime.strptime(weather_df['timestamp'].min(),time_format)\n",
    "    end_date = datetime.datetime.strptime(weather_df['timestamp'].max(),time_format)\n",
    "    total_hours = int(((end_date - start_date).total_seconds() + 3600) / 3600)\n",
    "    hours_list = [(end_date - datetime.timedelta(hours=x)).strftime(time_format) for x in range(total_hours)]\n",
    "\n",
    "    missing_hours = []\n",
    "    for site_id in range(16):\n",
    "        site_hours = np.array(weather_df[weather_df['site_id'] == site_id]['timestamp'])\n",
    "        new_rows = pd.DataFrame(np.setdiff1d(hours_list,site_hours),columns=['timestamp'])\n",
    "        new_rows['site_id'] = site_id\n",
    "        weather_df = pd.concat([weather_df,new_rows])\n",
    "\n",
    "        weather_df = weather_df.reset_index(drop=True)           \n",
    "\n",
    "    # Add new Features\n",
    "    weather_df[\"datetime\"] = pd.to_datetime(weather_df[\"timestamp\"])\n",
    "    weather_df[\"day\"] = weather_df[\"datetime\"].dt.day\n",
    "    weather_df[\"week\"] = weather_df[\"datetime\"].dt.week\n",
    "    weather_df[\"month\"] = weather_df[\"datetime\"].dt.month\n",
    "    \n",
    "    # Reset Index for Fast Update\n",
    "    weather_df = weather_df.set_index(['site_id','day','month'])\n",
    "\n",
    "    air_temperature_filler = pd.DataFrame(weather_df.groupby(['site_id','day','month'])['air_temperature'].mean(),columns=[\"air_temperature\"])\n",
    "    weather_df.update(air_temperature_filler,overwrite=False)\n",
    "\n",
    "    # Step 1\n",
    "    cloud_coverage_filler = weather_df.groupby(['site_id','day','month'])['cloud_coverage'].mean()\n",
    "    # Step 2\n",
    "    cloud_coverage_filler = pd.DataFrame(cloud_coverage_filler.fillna(method='ffill'),columns=[\"cloud_coverage\"])\n",
    "\n",
    "    weather_df.update(cloud_coverage_filler,overwrite=False)\n",
    "\n",
    "    due_temperature_filler = pd.DataFrame(weather_df.groupby(['site_id','day','month'])['dew_temperature'].mean(),columns=[\"dew_temperature\"])\n",
    "    weather_df.update(due_temperature_filler,overwrite=False)\n",
    "\n",
    "    # Step 1\n",
    "    sea_level_filler = weather_df.groupby(['site_id','day','month'])['sea_level_pressure'].mean()\n",
    "    # Step 2\n",
    "    sea_level_filler = pd.DataFrame(sea_level_filler.fillna(method='ffill'),columns=['sea_level_pressure'])\n",
    "\n",
    "    weather_df.update(sea_level_filler,overwrite=False)\n",
    "\n",
    "    wind_direction_filler =  pd.DataFrame(weather_df.groupby(['site_id','day','month'])['wind_direction'].mean(),columns=['wind_direction'])\n",
    "    weather_df.update(wind_direction_filler,overwrite=False)\n",
    "\n",
    "    wind_speed_filler =  pd.DataFrame(weather_df.groupby(['site_id','day','month'])['wind_speed'].mean(),columns=['wind_speed'])\n",
    "    weather_df.update(wind_speed_filler,overwrite=False)\n",
    "\n",
    "    # Step 1\n",
    "    precip_depth_filler = weather_df.groupby(['site_id','day','month'])['precip_depth_1_hr'].mean()\n",
    "    # Step 2\n",
    "    precip_depth_filler = pd.DataFrame(precip_depth_filler.fillna(method='ffill'),columns=['precip_depth_1_hr'])\n",
    "\n",
    "    weather_df.update(precip_depth_filler,overwrite=False)\n",
    "\n",
    "    weather_df = weather_df.reset_index()\n",
    "    weather_df = weather_df.drop(['datetime','day','week','month'],axis=1)\n",
    "    \n",
    "    def get_meteorological_features(data):\n",
    "        def calculate_rh(df):\n",
    "            df['relative_humidity'] = 100 * (np.exp((17.625 * df['dew_temperature']) / (243.04 + df['dew_temperature'])) / np.exp((17.625 * df['air_temperature'])/(243.04 + df['air_temperature'])))\n",
    "        def calculate_fl(df):\n",
    "            flike_final = []\n",
    "            flike = []\n",
    "            # calculate Feels Like temperature\n",
    "            for i in range(len(df)):\n",
    "                at = df['air_temperature'][i]\n",
    "                rh = df['relative_humidity'][i]\n",
    "                ws = df['wind_speed'][i]\n",
    "                flike.append(feels_like(Temp(at, unit = 'C'), rh, ws))\n",
    "            for i in range(len(flike)):\n",
    "                flike_final.append(flike[i].f)\n",
    "            df['feels_like'] = flike_final\n",
    "            del flike_final, flike, at, rh, ws\n",
    "        calculate_rh(data)\n",
    "        calculate_fl(data)\n",
    "        return data\n",
    "\n",
    "    weather_df = get_meteorological_features(weather_df)\n",
    "    \n",
    "    return weather_df\n",
    "\n",
    "# Original code from https://www.kaggle.com/gemartin/load-data-reduce-memory-usage by @gemartin\n",
    "\n",
    "from pandas.api.types import is_datetime64_any_dtype as is_datetime\n",
    "from pandas.api.types import is_categorical_dtype\n",
    "\n",
    "def reduce_mem_usage(df, use_float16=False):\n",
    "    \"\"\"\n",
    "    Iterate through all the columns of a dataframe and modify the data type to reduce memory usage.        \n",
    "    \"\"\"\n",
    "    \n",
    "    start_mem = df.memory_usage().sum() / 1024**2\n",
    "    print(\"Memory usage of dataframe is {:.2f} MB\".format(start_mem))\n",
    "    \n",
    "    for col in df.columns:\n",
    "        if is_datetime(df[col]) or is_categorical_dtype(df[col]):\n",
    "            continue\n",
    "        col_type = df[col].dtype\n",
    "        \n",
    "        if col_type != object:\n",
    "            c_min = df[col].min()\n",
    "            c_max = df[col].max()\n",
    "            if str(col_type)[:3] == \"int\":\n",
    "                if c_min > np.iinfo(np.int8).min and c_max < np.iinfo(np.int8).max:\n",
    "                    df[col] = df[col].astype(np.int8)\n",
    "                elif c_min > np.iinfo(np.int16).min and c_max < np.iinfo(np.int16).max:\n",
    "                    df[col] = df[col].astype(np.int16)\n",
    "                elif c_min > np.iinfo(np.int32).min and c_max < np.iinfo(np.int32).max:\n",
    "                    df[col] = df[col].astype(np.int32)\n",
    "                elif c_min > np.iinfo(np.int64).min and c_max < np.iinfo(np.int64).max:\n",
    "                    df[col] = df[col].astype(np.int64)  \n",
    "            else:\n",
    "                if use_float16 and c_min > np.finfo(np.float16).min and c_max < np.finfo(np.float16).max:\n",
    "                    df[col] = df[col].astype(np.float16)\n",
    "                elif c_min > np.finfo(np.float32).min and c_max < np.finfo(np.float32).max:\n",
    "                    df[col] = df[col].astype(np.float32)\n",
    "                else:\n",
    "                    df[col] = df[col].astype(np.float64)\n",
    "        else:\n",
    "            df[col] = df[col].astype(\"category\")\n",
    "\n",
    "    end_mem = df.memory_usage().sum() / 1024**2\n",
    "    print(\"Memory usage after optimization is: {:.2f} MB\".format(end_mem))\n",
    "    print(\"Decreased by {:.1f}%\".format(100 * (start_mem - end_mem) / start_mem))\n",
    "    \n",
    "    return df\n",
    "\n",
    "\n",
    "def features_engineering(df):\n",
    "    \n",
    "    # Sort by timestamp\n",
    "    df.sort_values(\"timestamp\")\n",
    "    df.reset_index(drop=True)\n",
    "    \n",
    "    # Add more features\n",
    "    df[\"timestamp\"] = pd.to_datetime(df[\"timestamp\"],format=\"%Y-%m-%d %H:%M:%S\")\n",
    "    df[\"hour\"] = df[\"timestamp\"].dt.hour\n",
    "    df[\"dayofweek\"] = df[\"timestamp\"].dt.weekday\n",
    "    holidays = [\"2016-01-01\", \"2016-01-18\", \"2016-02-15\", \"2016-05-30\", \"2016-07-04\",\n",
    "                    \"2016-09-05\", \"2016-10-10\", \"2016-11-11\", \"2016-11-24\", \"2016-12-26\",\n",
    "                    \"2017-01-02\", \"2017-01-16\", \"2017-02-20\", \"2017-05-29\", \"2017-07-04\",\n",
    "                    \"2017-09-04\", \"2017-10-09\", \"2017-11-10\", \"2017-11-23\", \"2017-12-25\",\n",
    "                    \"2018-01-01\", \"2018-01-15\", \"2018-02-19\", \"2018-05-28\", \"2018-07-04\",\n",
    "                    \"2018-09-03\", \"2018-10-08\", \"2018-11-12\", \"2018-11-22\", \"2018-12-25\",\n",
    "                    \"2019-01-01\"]\n",
    "    df['group'] = df['timestamp'].dt.month\n",
    "    df['group'].replace((1, 2, 3, 4), 1, inplace = True)\n",
    "    df['group'].replace((5, 6, 7, 8), 2, inplace = True)\n",
    "    df['group'].replace((9, 10, 11, 12), 3, inplace = True)\n",
    "    \n",
    "    #########################################################\n",
    "    \n",
    "    df['monthth'] = df['timestamp'].dt.month\n",
    "    df['monthth'].replace((1, 2, 3, 12), 1, inplace = True)\n",
    "    df['monthth'].replace((4,11), 2, inplace = True)\n",
    "    df['monthth'].replace((5,10), 3, inplace = True)\n",
    "    df['monthth'].replace((6,9), 4, inplace = True)\n",
    "    df['monthth'].replace((7,8), 5, inplace = True)\n",
    "    \n",
    "    \n",
    "    df['doy'] = df['timestamp'].dt.dayofyear\n",
    "    \n",
    "    \n",
    "    ##########################################################\n",
    "    df[\"is_holiday\"] = (df.timestamp.isin(holidays)).astype(int)\n",
    "    df['square_feet'] =  np.log1p(df['square_feet'])\n",
    "    \n",
    "    \n",
    "    # Remove Unused Columns\n",
    "    drop = [\"timestamp\"]\n",
    "    df = df.drop(drop, axis=1)\n",
    "    gc.collect()\n",
    "    \n",
    "    # Encode Categorical Data\n",
    "    le = LabelEncoder()\n",
    "    df[\"primary_use\"] = le.fit_transform(df[\"primary_use\"])\n",
    "    \n",
    "    return df"
   ]
  },
  {
   "cell_type": "code",
   "execution_count": 7,
   "metadata": {
    "ExecuteTime": {
     "end_time": "2020-06-24T05:58:17.058043Z",
     "start_time": "2020-06-24T05:57:39.261872Z"
    }
   },
   "outputs": [
    {
     "name": "stderr",
     "output_type": "stream",
     "text": [
      "/home/ubuntu/anaconda3/envs/tensorflow_p36/lib/python3.6/site-packages/ipykernel_launcher.py:17: FutureWarning: Sorting because non-concatenation axis is not aligned. A future version\n",
      "of pandas will change to not sort by default.\n",
      "\n",
      "To accept the future behavior, pass 'sort=False'.\n",
      "\n",
      "To retain the current behavior and silence the warning, pass 'sort=True'.\n",
      "\n"
     ]
    },
    {
     "name": "stdout",
     "output_type": "stream",
     "text": [
      "Memory usage of dataframe is 616.95 MB\n",
      "Memory usage after optimization is: 173.90 MB\n",
      "Decreased by 71.8%\n",
      "Memory usage of dataframe is 0.07 MB\n",
      "Memory usage after optimization is: 0.02 MB\n",
      "Decreased by 73.8%\n",
      "Memory usage of dataframe is 11.80 MB\n",
      "Memory usage after optimization is: 3.19 MB\n",
      "Decreased by 72.9%\n"
     ]
    }
   ],
   "source": [
    "# weather manipulation\n",
    "weather_df = fill_weather_dataset(weather_df)\n",
    "\n",
    "# memory reduction\n",
    "train_df = reduce_mem_usage(train_df,use_float16=True)\n",
    "building_df = reduce_mem_usage(building_df,use_float16=True)\n",
    "weather_df = reduce_mem_usage(weather_df,use_float16=True)\n",
    "\n",
    "# merge data\n",
    "train_df = train_df.merge(building_df, left_on='building_id',right_on='building_id',how='left')\n",
    "train_df = train_df.merge(weather_df,how='left',left_on=['site_id','timestamp'],right_on=['site_id','timestamp'])\n",
    "del weather_df\n",
    "gc.collect()\n",
    "\n",
    "# feature engineering\n",
    "train_df = features_engineering(train_df)\n",
    "\n",
    "# transform target variable\n",
    "train_df['meter_reading'] = np.log1p(train_df[\"meter_reading\"])"
   ]
  },
  {
   "cell_type": "code",
   "execution_count": 8,
   "metadata": {
    "ExecuteTime": {
     "end_time": "2020-06-24T05:58:17.061504Z",
     "start_time": "2020-06-24T05:58:17.059571Z"
    }
   },
   "outputs": [],
   "source": [
    "# # eliminate bad rows\n",
    "# bad_rows = pd.read_csv('rows_to_drop.csv')\n",
    "# train_df.drop(bad_rows.loc[:, '0'], inplace = True)\n",
    "# train_df.reset_index(drop = True, inplace = True)"
   ]
  },
  {
   "cell_type": "code",
   "execution_count": 9,
   "metadata": {
    "ExecuteTime": {
     "end_time": "2020-06-24T05:58:18.007987Z",
     "start_time": "2020-06-24T05:58:17.062736Z"
    }
   },
   "outputs": [
    {
     "name": "stdout",
     "output_type": "stream",
     "text": [
      "<class 'pandas.core.frame.DataFrame'>\n",
      "Int64Index: 20216100 entries, 0 to 20216099\n",
      "Data columns (total 23 columns):\n",
      "building_id           int16\n",
      "meter                 int8\n",
      "meter_reading         float32\n",
      "site_id               int8\n",
      "primary_use           int64\n",
      "square_feet           float64\n",
      "year_built            float16\n",
      "floor_count           float16\n",
      "air_temperature       float16\n",
      "cloud_coverage        float16\n",
      "dew_temperature       float16\n",
      "precip_depth_1_hr     float16\n",
      "sea_level_pressure    float16\n",
      "wind_direction        float16\n",
      "wind_speed            float16\n",
      "relative_humidity     float16\n",
      "feels_like            float16\n",
      "hour                  int64\n",
      "dayofweek             int64\n",
      "group                 int64\n",
      "monthth               int64\n",
      "doy                   int64\n",
      "is_holiday            int64\n",
      "dtypes: float16(11), float32(1), float64(1), int16(1), int64(7), int8(2)\n",
      "memory usage: 1.9 GB\n"
     ]
    }
   ],
   "source": [
    "train_df.info()"
   ]
  },
  {
   "cell_type": "code",
   "execution_count": 10,
   "metadata": {
    "ExecuteTime": {
     "end_time": "2020-06-24T05:58:21.794648Z",
     "start_time": "2020-06-24T05:58:18.009371Z"
    }
   },
   "outputs": [],
   "source": [
    "# eliminate bad rows\n",
    "bad_rows = pd.read_csv('rows_to_drop.csv', header=None)\n",
    "# #train_df.drop(bad_rows.loc[:, '0'], inplace = True)\n",
    "train_df.drop(bad_rows[0], inplace = True)\n",
    "train_df.reset_index(drop = True, inplace = True)"
   ]
  },
  {
   "cell_type": "code",
   "execution_count": 11,
   "metadata": {
    "ExecuteTime": {
     "end_time": "2020-06-24T05:58:21.797903Z",
     "start_time": "2020-06-24T05:58:21.795926Z"
    }
   },
   "outputs": [],
   "source": [
    "# !python3 -m pip install catboost -U --user"
   ]
  },
  {
   "cell_type": "code",
   "execution_count": 12,
   "metadata": {
    "ExecuteTime": {
     "end_time": "2020-06-24T05:58:21.803827Z",
     "start_time": "2020-06-24T05:58:21.799060Z"
    }
   },
   "outputs": [
    {
     "data": {
      "text/plain": [
       "Index(['building_id', 'meter', 'meter_reading', 'site_id', 'primary_use',\n",
       "       'square_feet', 'year_built', 'floor_count', 'air_temperature',\n",
       "       'cloud_coverage', 'dew_temperature', 'precip_depth_1_hr',\n",
       "       'sea_level_pressure', 'wind_direction', 'wind_speed',\n",
       "       'relative_humidity', 'feels_like', 'hour', 'dayofweek', 'group',\n",
       "       'monthth', 'doy', 'is_holiday'],\n",
       "      dtype='object')"
      ]
     },
     "execution_count": 12,
     "metadata": {},
     "output_type": "execute_result"
    }
   ],
   "source": [
    "train_df.columns"
   ]
  },
  {
   "cell_type": "code",
   "execution_count": 13,
   "metadata": {
    "ExecuteTime": {
     "end_time": "2020-06-24T05:58:31.935942Z",
     "start_time": "2020-06-24T05:58:21.804897Z"
    }
   },
   "outputs": [],
   "source": [
    "# train_df['square_feet'] = train_df['square_feet'].apply(lambda x: int(x/100))\n",
    "\n",
    "train_df['ew'] = (1.0007+3.46*1e-6*train_df[\"sea_level_pressure\"])*(6.1121+np.exp(17.502*train_df[\"air_temperature\"]/(train_df[\"sea_level_pressure\"]+240.97)))\n",
    "\n",
    "latitude_dict = {0 :28.5383,\n",
    "1 :50.9097,\n",
    "2 :33.4255,\n",
    "3 :38.9072,\n",
    "4 :37.8715,\n",
    "5 :50.9097,\n",
    "6 :40.7128,\n",
    "7 :45.4215,\n",
    "8 :28.5383,\n",
    "9 :30.2672,\n",
    "10 :40.10677,\n",
    "11 :45.4215,\n",
    "12 :53.3498,\n",
    "13 :44.9375,\n",
    "14 :38.0293,\n",
    "15: 40.7128,}\n",
    "## the latitudes were set up using this post: https://www.kaggle.com/c/ashrae-energy-prediction/discussion/115698 \n",
    "\n",
    "train_df['latitude'] = train_df['site_id'].map(latitude_dict)\n",
    "train_df['solarHour'] = (train_df['hour']-12)*15\n",
    "train_df['solarDec'] = -23.45*np.cos(np.deg2rad(360*(train_df['doy']+10)/365))\n",
    "train_df['horizsolar'] = np.cos(np.deg2rad(train_df['solarHour']))*np.cos(np.deg2rad(train_df['solarDec']))*np.cos(np.deg2rad(train_df['latitude'])) + np.sin(np.deg2rad(train_df['solarDec']))*np.sin(np.deg2rad(train_df['latitude']))\n",
    "\n",
    "train_df['horizsolar'] = train_df['horizsolar'].apply(lambda x: 0 if x <0 else x)"
   ]
  },
  {
   "cell_type": "code",
   "execution_count": 14,
   "metadata": {
    "ExecuteTime": {
     "end_time": "2020-06-24T05:58:36.612683Z",
     "start_time": "2020-06-24T05:58:31.937190Z"
    }
   },
   "outputs": [],
   "source": [
    "for col in [ 'air_temperature',\n",
    "       'cloud_coverage', 'dew_temperature', 'precip_depth_1_hr', 'primary_use',]:\n",
    "\n",
    "    temp = train_df[col].value_counts().to_dict()\n",
    "    train_df[col+'_cnt'] = train_df[col].map(temp)"
   ]
  },
  {
   "cell_type": "code",
   "execution_count": 15,
   "metadata": {
    "ExecuteTime": {
     "end_time": "2020-06-24T05:58:44.619213Z",
     "start_time": "2020-06-24T05:58:36.613923Z"
    }
   },
   "outputs": [],
   "source": [
    "train_df[\"cloud_coverage\"] = train_df[\"cloud_coverage\"].apply(lambda x: int(x))"
   ]
  },
  {
   "cell_type": "code",
   "execution_count": 16,
   "metadata": {
    "ExecuteTime": {
     "end_time": "2020-06-24T05:58:48.383098Z",
     "start_time": "2020-06-24T05:58:44.620463Z"
    }
   },
   "outputs": [],
   "source": [
    "train_df.fillna(-1, inplace=True)"
   ]
  },
  {
   "cell_type": "code",
   "execution_count": 17,
   "metadata": {
    "ExecuteTime": {
     "end_time": "2020-06-24T05:58:48.387801Z",
     "start_time": "2020-06-24T05:58:48.384359Z"
    },
    "scrolled": false
   },
   "outputs": [],
   "source": [
    "# declare target, categorical and numeric columns\n",
    "target = 'meter_reading'\n",
    "categorical = ['building_id', 'site_id', 'primary_use', 'meter', 'is_holiday', 'dayofweek', 'cloud_coverage']\n",
    "numeric_cols = [col for col in train_df.columns if col not in categorical + [target, 'timestamp', 'group','cloud_coverage_cnt', 'wind_speed', 'precip_depth_1_hr',\n",
    "       'precip_depth_1_hr_cnt', 'is_holiday', 'dew_temperature_cnt', 'air_temperature_cnt',\n",
    "       'cloud_coverage_cnt','doy', 'monthth',\n",
    "\n",
    " 'solarHour',\n",
    " 'solarDec',]]\n",
    "features = categorical + numeric_cols"
   ]
  },
  {
   "cell_type": "code",
   "execution_count": 18,
   "metadata": {
    "ExecuteTime": {
     "end_time": "2020-06-24T05:58:48.394910Z",
     "start_time": "2020-06-24T05:58:48.388986Z"
    }
   },
   "outputs": [
    {
     "data": {
      "text/plain": [
       "['building_id',\n",
       " 'site_id',\n",
       " 'primary_use',\n",
       " 'meter',\n",
       " 'is_holiday',\n",
       " 'dayofweek',\n",
       " 'cloud_coverage',\n",
       " 'square_feet',\n",
       " 'year_built',\n",
       " 'floor_count',\n",
       " 'air_temperature',\n",
       " 'dew_temperature',\n",
       " 'sea_level_pressure',\n",
       " 'wind_direction',\n",
       " 'relative_humidity',\n",
       " 'feels_like',\n",
       " 'hour',\n",
       " 'ew',\n",
       " 'latitude',\n",
       " 'horizsolar',\n",
       " 'primary_use_cnt']"
      ]
     },
     "execution_count": 18,
     "metadata": {},
     "output_type": "execute_result"
    }
   ],
   "source": [
    "features"
   ]
  },
  {
   "cell_type": "code",
   "execution_count": 19,
   "metadata": {
    "ExecuteTime": {
     "end_time": "2020-06-24T05:58:48.399999Z",
     "start_time": "2020-06-24T05:58:48.397204Z"
    }
   },
   "outputs": [
    {
     "data": {
      "text/plain": [
       "['building_id',\n",
       " 'site_id',\n",
       " 'primary_use',\n",
       " 'meter',\n",
       " 'is_holiday',\n",
       " 'dayofweek',\n",
       " 'cloud_coverage']"
      ]
     },
     "execution_count": 19,
     "metadata": {},
     "output_type": "execute_result"
    }
   ],
   "source": [
    "categorical"
   ]
  },
  {
   "cell_type": "code",
   "execution_count": 20,
   "metadata": {
    "ExecuteTime": {
     "end_time": "2020-06-24T08:56:11.745145Z",
     "start_time": "2020-06-24T05:58:48.401389Z"
    }
   },
   "outputs": [
    {
     "name": "stderr",
     "output_type": "stream",
     "text": [
      "/home/ubuntu/anaconda3/envs/tensorflow_p36/lib/python3.6/site-packages/ipykernel_launcher.py:24: TqdmDeprecationWarning: This function will be removed in tqdm==5.0.0\n",
      "Please use `tqdm.notebook.tqdm` instead of `tqdm.tqdm_notebook`\n"
     ]
    },
    {
     "data": {
      "application/vnd.jupyter.widget-view+json": {
       "model_id": "13cc091db0a9442e916226aee058cc8d",
       "version_major": 2,
       "version_minor": 0
      },
      "text/plain": [
       "HBox(children=(FloatProgress(value=0.0, max=3.0), HTML(value='')))"
      ]
     },
     "metadata": {},
     "output_type": "display_data"
    },
    {
     "name": "stdout",
     "output_type": "stream",
     "text": [
      "0:\tlearn: 2.0542387\ttest: 2.0002534\tbest: 2.0002534 (0)\ttotal: 2.62s\tremaining: 1h 27m 15s\n",
      "100:\tlearn: 1.1710336\ttest: 1.2611770\tbest: 1.2611770 (100)\ttotal: 4m 20s\tremaining: 1h 21m 40s\n",
      "200:\tlearn: 1.0948532\ttest: 1.2030505\tbest: 1.2030505 (200)\ttotal: 8m 42s\tremaining: 1h 17m 58s\n",
      "300:\tlearn: 1.0503955\ttest: 1.1813295\tbest: 1.1812558 (298)\ttotal: 13m 20s\tremaining: 1h 15m 21s\n",
      "400:\tlearn: 1.0199133\ttest: 1.1711997\tbest: 1.1709918 (399)\ttotal: 17m 52s\tremaining: 1h 11m 17s\n",
      "500:\tlearn: 0.9957521\ttest: 1.1651239\tbest: 1.1643350 (491)\ttotal: 22m 25s\tremaining: 1h 7m 5s\n",
      "600:\tlearn: 0.9776789\ttest: 1.1588395\tbest: 1.1588395 (600)\ttotal: 26m 58s\tremaining: 1h 2m 47s\n",
      "700:\tlearn: 0.9620511\ttest: 1.1554385\tbest: 1.1551941 (679)\ttotal: 31m 34s\tremaining: 58m 30s\n",
      "800:\tlearn: 0.9496068\ttest: 1.1529522\tbest: 1.1527737 (797)\ttotal: 36m 5s\tremaining: 54m 1s\n",
      "900:\tlearn: 0.9385121\ttest: 1.1506904\tbest: 1.1506904 (900)\ttotal: 40m 42s\tremaining: 49m 39s\n",
      "1000:\tlearn: 0.9292292\ttest: 1.1482650\tbest: 1.1482650 (1000)\ttotal: 45m 15s\tremaining: 45m 9s\n",
      "1100:\tlearn: 0.9199519\ttest: 1.1468232\tbest: 1.1467259 (1086)\ttotal: 49m 58s\tremaining: 40m 48s\n",
      "1200:\tlearn: 0.9120116\ttest: 1.1456762\tbest: 1.1451553 (1178)\ttotal: 54m 25s\tremaining: 36m 12s\n",
      "1300:\tlearn: 0.9045515\ttest: 1.1445178\tbest: 1.1445178 (1300)\ttotal: 58m 59s\tremaining: 31m 41s\n",
      "1400:\tlearn: 0.8973911\ttest: 1.1429065\tbest: 1.1428186 (1388)\ttotal: 1h 3m 39s\tremaining: 27m 13s\n",
      "1500:\tlearn: 0.8920526\ttest: 1.1412699\tbest: 1.1412699 (1500)\ttotal: 1h 8m 7s\tremaining: 22m 39s\n",
      "1600:\tlearn: 0.8867063\ttest: 1.1412247\tbest: 1.1409424 (1537)\ttotal: 1h 12m 41s\tremaining: 18m 7s\n",
      "1700:\tlearn: 0.8817537\ttest: 1.1408826\tbest: 1.1403588 (1633)\ttotal: 1h 17m 11s\tremaining: 13m 34s\n",
      "bestTest = 1.140358798\n",
      "bestIteration = 1633\n",
      "Shrink model to first 1634 iterations.\n",
      "0:\tlearn: 2.0561165\ttest: 1.9980465\tbest: 1.9980465 (0)\ttotal: 2.89s\tremaining: 1h 36m 20s\n",
      "100:\tlearn: 1.0894790\ttest: 1.4600337\tbest: 1.4589405 (99)\ttotal: 4m 36s\tremaining: 1h 26m 31s\n",
      "200:\tlearn: 1.0096466\ttest: 1.4456271\tbest: 1.4456271 (200)\ttotal: 9m 6s\tremaining: 1h 21m 35s\n",
      "300:\tlearn: 0.9684095\ttest: 1.4296489\tbest: 1.4296489 (300)\ttotal: 13m 38s\tremaining: 1h 16m 57s\n",
      "400:\tlearn: 0.9385212\ttest: 1.4232269\tbest: 1.4229166 (394)\ttotal: 18m 12s\tremaining: 1h 12m 37s\n",
      "500:\tlearn: 0.9150187\ttest: 1.4197036\tbest: 1.4197036 (500)\ttotal: 22m 46s\tremaining: 1h 8m 9s\n",
      "600:\tlearn: 0.8966935\ttest: 1.4163562\tbest: 1.4156658 (569)\ttotal: 27m 20s\tremaining: 1h 3m 39s\n",
      "bestTest = 1.41566582\n",
      "bestIteration = 569\n",
      "Shrink model to first 570 iterations.\n",
      "0:\tlearn: 1.9816984\ttest: 2.1800063\tbest: 2.1800063 (0)\ttotal: 3.01s\tremaining: 1h 40m 16s\n",
      "100:\tlearn: 1.1195746\ttest: 1.5552358\tbest: 1.5552358 (100)\ttotal: 4m 28s\tremaining: 1h 24m 9s\n",
      "200:\tlearn: 1.0489366\ttest: 1.5177412\tbest: 1.5177412 (200)\ttotal: 8m 52s\tremaining: 1h 19m 22s\n",
      "300:\tlearn: 1.0071004\ttest: 1.5008977\tbest: 1.5005684 (297)\ttotal: 13m 34s\tremaining: 1h 16m 39s\n",
      "400:\tlearn: 0.9797135\ttest: 1.4944933\tbest: 1.4931995 (396)\ttotal: 18m 20s\tremaining: 1h 13m 6s\n",
      "500:\tlearn: 0.9586210\ttest: 1.4896164\tbest: 1.4892988 (496)\ttotal: 23m 3s\tremaining: 1h 9m\n",
      "600:\tlearn: 0.9403804\ttest: 1.4851256\tbest: 1.4851256 (600)\ttotal: 27m 36s\tremaining: 1h 4m 15s\n",
      "700:\tlearn: 0.9258104\ttest: 1.4849467\tbest: 1.4838363 (653)\ttotal: 32m 22s\tremaining: 59m 59s\n",
      "800:\tlearn: 0.9130958\ttest: 1.4832577\tbest: 1.4825945 (765)\ttotal: 36m 59s\tremaining: 55m 21s\n",
      "900:\tlearn: 0.9013867\ttest: 1.4820143\tbest: 1.4810884 (871)\ttotal: 41m 38s\tremaining: 50m 48s\n",
      "1000:\tlearn: 0.8919948\ttest: 1.4800937\tbest: 1.4798936 (994)\ttotal: 46m 27s\tremaining: 46m 22s\n",
      "1100:\tlearn: 0.8830216\ttest: 1.4798551\tbest: 1.4794377 (1061)\ttotal: 51m 4s\tremaining: 41m 42s\n",
      "1200:\tlearn: 0.8757716\ttest: 1.4786999\tbest: 1.4784959 (1188)\ttotal: 55m 46s\tremaining: 37m 6s\n",
      "1300:\tlearn: 0.8687692\ttest: 1.4800083\tbest: 1.4782580 (1218)\ttotal: 1h 31s\tremaining: 32m 31s\n",
      "bestTest = 1.478257967\n",
      "bestIteration = 1218\n",
      "Shrink model to first 1219 iterations.\n",
      "\n",
      "Our oof cv is : 1.3464110706863424\n"
     ]
    }
   ],
   "source": [
    "import catboost as cb\n",
    "# https://www.kaggle.com/corochann/ashrae-training-lgbm-by-meter-type?scriptVersionId=22053887\n",
    "\n",
    "def run_cat(train, cat_features = categorical, num_rounds = 20000, folds = 3):\n",
    "    kf = GroupKFold(n_splits = folds)\n",
    "    models = []\n",
    "    metric = 'RMSE'\n",
    "    SEED = 2019\n",
    "\n",
    "    params = {\n",
    "        'n_estimators': 2000,\n",
    "        'learning_rate': 0.1,\n",
    "        'eval_metric': 'RMSE',\n",
    "        'loss_function': 'RMSE',\n",
    "        'random_seed': SEED,\n",
    "        'metric_period': 10,\n",
    "        'task_type': 'GPU',\n",
    "        'depth': 8,\n",
    "    }\n",
    "    for col in categorical:\n",
    "        train[col] = train[col].astype('category')\n",
    "\n",
    "    oof = np.zeros(len(train))\n",
    "    for tr_idx, val_idx in tqdm(kf.split(train, groups = train['group']), total = folds):\n",
    "        tr_x, tr_y = train[features].iloc[tr_idx], train[target].iloc[tr_idx]\n",
    "        vl_x, vl_y = train[features].iloc[val_idx], train[target].iloc[val_idx]\n",
    "#         tr_data = lgb.Dataset(tr_x, label = tr_y,  categorical_feature = categorical)\n",
    "#         vl_data = lgb.Dataset(vl_x, label = vl_y,  categorical_feature = categorical)\n",
    "\n",
    "        model = cb.CatBoostRegressor(**params)\n",
    "\n",
    "        model.fit(tr_x, tr_y, \n",
    "              eval_set=(vl_x, vl_y),\n",
    "              cat_features=categorical, \n",
    "              use_best_model=True, \n",
    "              verbose=100,  # show every 100 iteration\n",
    "              early_stopping_rounds=100)\n",
    "#         clf = lgb.train(param, tr_data, num_rounds, valid_sets = [tr_data, vl_data], verbose_eval = 25, \n",
    "#                         early_stopping_rounds = 50)\n",
    "        models.append(model)\n",
    "        oof[val_idx] = model.predict(vl_x)\n",
    "        gc.collect()\n",
    "    score = np.sqrt(metrics.mean_squared_error(train[target], np.clip(oof, a_min=0, a_max=None)))\n",
    "    print('Our oof cv is :', score)\n",
    "    return models\n",
    "models = run_cat(train_df)"
   ]
  },
  {
   "cell_type": "code",
   "execution_count": 21,
   "metadata": {
    "ExecuteTime": {
     "end_time": "2020-06-24T08:56:12.481766Z",
     "start_time": "2020-06-24T08:56:11.746493Z"
    }
   },
   "outputs": [
    {
     "data": {
      "text/plain": [
       "3                  meter\n",
       "0            building_id\n",
       "7            square_feet\n",
       "18              latitude\n",
       "11       dew_temperature\n",
       "1                site_id\n",
       "15            feels_like\n",
       "2            primary_use\n",
       "8             year_built\n",
       "17                    ew\n",
       "16                  hour\n",
       "5              dayofweek\n",
       "12    sea_level_pressure\n",
       "6         cloud_coverage\n",
       "13        wind_direction\n",
       "19            horizsolar\n",
       "10       air_temperature\n",
       "20       primary_use_cnt\n",
       "9            floor_count\n",
       "14     relative_humidity\n",
       "4             is_holiday\n",
       "Name: feature, dtype: object"
      ]
     },
     "execution_count": 21,
     "metadata": {},
     "output_type": "execute_result"
    }
   ],
   "source": [
    "df_fimp_1 = pd.DataFrame()\n",
    "df_fimp_1[\"feature\"] = train_df[features].columns\n",
    "df_fimp_1[\"importance\"] = models[0].get_feature_importance()\n",
    "df_fimp_1[\"half\"] = 1\n",
    "df_fimp_1.sort_values(by='importance', ascending=False)['feature']#[-8:].values\n"
   ]
  },
  {
   "cell_type": "code",
   "execution_count": 22,
   "metadata": {
    "ExecuteTime": {
     "end_time": "2020-06-24T08:58:02.097291Z",
     "start_time": "2020-06-24T08:56:12.482978Z"
    }
   },
   "outputs": [
    {
     "name": "stdout",
     "output_type": "stream",
     "text": [
      "Memory usage of dataframe is 954.38 MB\n",
      "Memory usage after optimization is: 199.59 MB\n",
      "Decreased by 79.1%\n"
     ]
    },
    {
     "name": "stderr",
     "output_type": "stream",
     "text": [
      "/home/ubuntu/anaconda3/envs/tensorflow_p36/lib/python3.6/site-packages/ipykernel_launcher.py:17: FutureWarning: Sorting because non-concatenation axis is not aligned. A future version\n",
      "of pandas will change to not sort by default.\n",
      "\n",
      "To accept the future behavior, pass 'sort=False'.\n",
      "\n",
      "To retain the current behavior and silence the warning, pass 'sort=True'.\n",
      "\n"
     ]
    },
    {
     "name": "stdout",
     "output_type": "stream",
     "text": [
      "Memory usage of dataframe is 23.53 MB\n",
      "Memory usage after optimization is: 11.18 MB\n",
      "Decreased by 52.5%\n"
     ]
    }
   ],
   "source": [
    "# read test\n",
    "test_df = pd.read_csv('test.csv')\n",
    "row_ids = test_df[\"row_id\"]\n",
    "test_df.drop(\"row_id\", axis=1, inplace=True)\n",
    "test_df = reduce_mem_usage(test_df)\n",
    "\n",
    "# merge with building info\n",
    "test_df = test_df.merge(building_df,left_on='building_id',right_on='building_id',how='left')\n",
    "del building_df\n",
    "gc.collect()\n",
    "\n",
    "# fill test weather data\n",
    "weather_df = pd.read_csv('weather_test.csv')\n",
    "weather_df = fill_weather_dataset(weather_df)\n",
    "weather_df = reduce_mem_usage(weather_df)\n",
    "\n",
    "# merge weather data\n",
    "test_df = test_df.merge(weather_df,how='left',on=['timestamp','site_id'])\n",
    "del weather_df\n",
    "gc.collect()\n",
    "\n",
    "# feature engineering\n",
    "test_df = features_engineering(test_df)"
   ]
  },
  {
   "cell_type": "code",
   "execution_count": 23,
   "metadata": {
    "ExecuteTime": {
     "end_time": "2020-06-24T08:58:20.410908Z",
     "start_time": "2020-06-24T08:58:02.098559Z"
    }
   },
   "outputs": [],
   "source": [
    "test_df['ew'] = (1.0007+3.46*1e-6*test_df[\"sea_level_pressure\"])*(6.1121+np.exp(17.502*test_df[\"air_temperature\"]/(test_df[\"sea_level_pressure\"]+240.97)))\n",
    "\n",
    "latitude_dict = {0 :28.5383,\n",
    "1 :50.9097,\n",
    "2 :33.4255,\n",
    "3 :38.9072,\n",
    "4 :37.8715,\n",
    "5 :50.9097,\n",
    "6 :40.7128,\n",
    "7 :45.4215,\n",
    "8 :28.5383,\n",
    "9 :30.2672,\n",
    "10 :40.10677,\n",
    "11 :45.4215,\n",
    "12 :53.3498,\n",
    "13 :44.9375,\n",
    "14 :38.0293,\n",
    "15: 40.7128,}\n",
    "\n",
    "test_df['latitude'] = test_df['site_id'].map(latitude_dict)\n",
    "test_df['solarHour'] = (test_df['hour']-12)*15\n",
    "test_df['solarDec'] = -23.45*np.cos(np.deg2rad(360*(test_df['doy']+10)/365))\n",
    "test_df['horizsolar'] = np.cos(np.deg2rad(test_df['solarHour']))*np.cos(np.deg2rad(test_df['solarDec']))*np.cos(np.deg2rad(test_df['latitude'])) + np.sin(np.deg2rad(test_df['solarDec']))*np.sin(np.deg2rad(test_df['latitude']))\n",
    "\n",
    "test_df['horizsolar'] = test_df['horizsolar'].apply(lambda x: 0 if x <0 else x)"
   ]
  },
  {
   "cell_type": "code",
   "execution_count": 24,
   "metadata": {
    "ExecuteTime": {
     "end_time": "2020-06-24T08:58:31.162467Z",
     "start_time": "2020-06-24T08:58:20.412207Z"
    }
   },
   "outputs": [],
   "source": [
    "for col in [ 'air_temperature',\n",
    "       'cloud_coverage', 'dew_temperature', 'precip_depth_1_hr', 'primary_use',]:\n",
    "\n",
    "    temp = test_df[col].value_counts().to_dict()\n",
    "    test_df[col+'_cnt'] = test_df[col].map(temp)"
   ]
  },
  {
   "cell_type": "code",
   "execution_count": 25,
   "metadata": {
    "ExecuteTime": {
     "end_time": "2020-06-24T08:58:47.969610Z",
     "start_time": "2020-06-24T08:58:31.163706Z"
    }
   },
   "outputs": [],
   "source": [
    "test_df[\"cloud_coverage\"] = test_df[\"cloud_coverage\"].apply(lambda x: int(x))"
   ]
  },
  {
   "cell_type": "code",
   "execution_count": 26,
   "metadata": {
    "ExecuteTime": {
     "end_time": "2020-06-24T08:58:54.612677Z",
     "start_time": "2020-06-24T08:58:47.970911Z"
    }
   },
   "outputs": [],
   "source": [
    "test_df.fillna(-1, inplace=True)"
   ]
  },
  {
   "cell_type": "code",
   "execution_count": 27,
   "metadata": {
    "ExecuteTime": {
     "end_time": "2020-06-24T08:58:55.307027Z",
     "start_time": "2020-06-24T08:58:54.613968Z"
    }
   },
   "outputs": [],
   "source": [
    "for c in train_df[features].columns:\n",
    "    if c not in test_df.columns:\n",
    "        print(c)"
   ]
  },
  {
   "cell_type": "code",
   "execution_count": 28,
   "metadata": {
    "ExecuteTime": {
     "end_time": "2020-06-24T08:58:55.309991Z",
     "start_time": "2020-06-24T08:58:55.308263Z"
    }
   },
   "outputs": [],
   "source": [
    "# test_df[features]"
   ]
  },
  {
   "cell_type": "code",
   "execution_count": 29,
   "metadata": {
    "ExecuteTime": {
     "end_time": "2020-06-24T08:59:06.213275Z",
     "start_time": "2020-06-24T08:58:55.311076Z"
    }
   },
   "outputs": [],
   "source": [
    "for col in categorical:\n",
    "    test_df[col] = test_df[col].astype('category')"
   ]
  },
  {
   "cell_type": "code",
   "execution_count": 30,
   "metadata": {
    "ExecuteTime": {
     "end_time": "2020-06-24T08:59:07.672068Z",
     "start_time": "2020-06-24T08:59:06.214479Z"
    }
   },
   "outputs": [
    {
     "data": {
      "text/plain": [
       "building_id           category\n",
       "site_id               category\n",
       "primary_use           category\n",
       "meter                 category\n",
       "is_holiday            category\n",
       "dayofweek             category\n",
       "cloud_coverage        category\n",
       "square_feet            float64\n",
       "year_built             float16\n",
       "floor_count            float16\n",
       "air_temperature        float32\n",
       "dew_temperature        float32\n",
       "sea_level_pressure     float32\n",
       "wind_direction         float32\n",
       "relative_humidity      float32\n",
       "feels_like             float32\n",
       "hour                     int64\n",
       "ew                     float64\n",
       "latitude               float64\n",
       "horizsolar             float64\n",
       "primary_use_cnt          int64\n",
       "dtype: object"
      ]
     },
     "execution_count": 30,
     "metadata": {},
     "output_type": "execute_result"
    }
   ],
   "source": [
    "test_df[features].dtypes"
   ]
  },
  {
   "cell_type": "code",
   "execution_count": 31,
   "metadata": {
    "ExecuteTime": {
     "end_time": "2020-06-24T09:16:50.062120Z",
     "start_time": "2020-06-24T08:59:07.673221Z"
    }
   },
   "outputs": [
    {
     "name": "stderr",
     "output_type": "stream",
     "text": [
      "/home/ubuntu/anaconda3/envs/tensorflow_p36/lib/python3.6/site-packages/ipykernel_launcher.py:6: TqdmDeprecationWarning: This function will be removed in tqdm==5.0.0\n",
      "Please use `tqdm.notebook.tqdm` instead of `tqdm.tqdm_notebook`\n",
      "  \n"
     ]
    },
    {
     "data": {
      "application/vnd.jupyter.widget-view+json": {
       "model_id": "9c3e78ae2b2d481b89c8661edeb390e5",
       "version_major": 2,
       "version_minor": 0
      },
      "text/plain": [
       "HBox(children=(FloatProgress(value=0.0, max=50.0), HTML(value='')))"
      ]
     },
     "metadata": {},
     "output_type": "display_data"
    },
    {
     "name": "stdout",
     "output_type": "stream",
     "text": [
      "\n",
      "41697600\n",
      "We are done!\n",
      "CPU times: user 2h 13min 21s, sys: 2min 19s, total: 2h 15min 41s\n",
      "Wall time: 17min 42s\n"
     ]
    }
   ],
   "source": [
    "%%time\n",
    "def predictions(models, iterations = 50):\n",
    "    # split test data into batches\n",
    "    set_size = len(test_df)\n",
    "    batch_size = set_size // iterations\n",
    "    meter_reading = []\n",
    "    for i in tqdm(range(iterations)):\n",
    "        pos = i*batch_size\n",
    "        fold_preds = [np.expm1(model.predict(test_df[features].iloc[pos : pos+batch_size])) for model in models]\n",
    "        meter_reading.extend(np.mean(fold_preds, axis=0))\n",
    "\n",
    "    print(len(meter_reading))\n",
    "    assert len(meter_reading) == set_size\n",
    "    submission = pd.read_csv('sample_submission.csv')\n",
    "    submission['meter_reading'] = np.clip(meter_reading, a_min=0, a_max=None) # clip min at zero\n",
    "    submission.to_csv('submission_catboost002.csv.gz',\n",
    "                         index=False,compression='gzip', \n",
    "                         float_format='%.4f', \n",
    "                         chunksize=25000)\n",
    "    print('We are done!')\n",
    "predictions(models)"
   ]
  },
  {
   "cell_type": "code",
   "execution_count": 32,
   "metadata": {
    "ExecuteTime": {
     "end_time": "2020-06-24T09:16:50.065071Z",
     "start_time": "2020-06-24T09:16:50.063353Z"
    }
   },
   "outputs": [],
   "source": [
    "# submission = pd.read_csv('sample_submission.csv')\n",
    "# submission['meter_reading'] = 0\n",
    "# submission.to_csv('submission_catboost002_test.csv.gz',\n",
    "#                      index=False,compression='gzip', \n",
    "#                      float_format='%.4f', \n",
    "#                      chunksize=25000)"
   ]
  },
  {
   "cell_type": "code",
   "execution_count": 33,
   "metadata": {
    "ExecuteTime": {
     "end_time": "2020-06-24T09:16:50.068417Z",
     "start_time": "2020-06-24T09:16:50.066129Z"
    }
   },
   "outputs": [],
   "source": [
    "#!kaggle competitions submit -c ashrae-energy-prediction -f submission_catboost002.csv.gz -m \"catboost\"\n"
   ]
  },
  {
   "cell_type": "code",
   "execution_count": 34,
   "metadata": {
    "ExecuteTime": {
     "end_time": "2020-06-24T09:16:57.124935Z",
     "start_time": "2020-06-24T09:16:50.069457Z"
    }
   },
   "outputs": [],
   "source": [
    "## save models\n",
    "ix = 0\n",
    "for model in models:\n",
    "    model.save_model('cb_model_fold' + str(ix) + '.cbm')\n",
    "    ix = ix + 1"
   ]
  }
 ],
 "metadata": {
  "kernelspec": {
   "display_name": "Python 3",
   "language": "python",
   "name": "python3"
  },
  "language_info": {
   "codemirror_mode": {
    "name": "ipython",
    "version": 3
   },
   "file_extension": ".py",
   "mimetype": "text/x-python",
   "name": "python",
   "nbconvert_exporter": "python",
   "pygments_lexer": "ipython3",
   "version": "3.6.10"
  },
  "widgets": {
   "application/vnd.jupyter.widget-state+json": {
    "state": {
     "0dcce59782874dbb8ec24df23e537042": {
      "model_module": "@jupyter-widgets/controls",
      "model_module_version": "1.5.0",
      "model_name": "HBoxModel",
      "state": {
       "_dom_classes": [],
       "_model_module": "@jupyter-widgets/controls",
       "_model_module_version": "1.5.0",
       "_model_name": "HBoxModel",
       "_view_count": null,
       "_view_module": "@jupyter-widgets/controls",
       "_view_module_version": "1.5.0",
       "_view_name": "HBoxView",
       "box_style": "",
       "children": [
        "IPY_MODEL_a9bd0e48e6f8493a9c9aaabdca1b4308",
        "IPY_MODEL_33cad943f56d4882b327e64b3c7d6faf"
       ],
       "layout": "IPY_MODEL_9472c1bc0de34da691b474d14700f1e8"
      }
     },
     "143cc32510af4a7598db65152f3006ec": {
      "model_module": "@jupyter-widgets/base",
      "model_module_version": "1.2.0",
      "model_name": "LayoutModel",
      "state": {
       "_model_module": "@jupyter-widgets/base",
       "_model_module_version": "1.2.0",
       "_model_name": "LayoutModel",
       "_view_count": null,
       "_view_module": "@jupyter-widgets/base",
       "_view_module_version": "1.2.0",
       "_view_name": "LayoutView",
       "align_content": null,
       "align_items": null,
       "align_self": null,
       "border": null,
       "bottom": null,
       "display": null,
       "flex": null,
       "flex_flow": null,
       "grid_area": null,
       "grid_auto_columns": null,
       "grid_auto_flow": null,
       "grid_auto_rows": null,
       "grid_column": null,
       "grid_gap": null,
       "grid_row": null,
       "grid_template_areas": null,
       "grid_template_columns": null,
       "grid_template_rows": null,
       "height": null,
       "justify_content": null,
       "justify_items": null,
       "left": null,
       "margin": null,
       "max_height": null,
       "max_width": null,
       "min_height": null,
       "min_width": null,
       "object_fit": null,
       "object_position": null,
       "order": null,
       "overflow": null,
       "overflow_x": null,
       "overflow_y": null,
       "padding": null,
       "right": null,
       "top": null,
       "visibility": null,
       "width": null
      }
     },
     "1c7bc51f7cc9417a9447f64cfe82ffad": {
      "model_module": "@jupyter-widgets/controls",
      "model_module_version": "1.5.0",
      "model_name": "IntProgressModel",
      "state": {
       "_dom_classes": [],
       "_model_module": "@jupyter-widgets/controls",
       "_model_module_version": "1.5.0",
       "_model_name": "IntProgressModel",
       "_view_count": null,
       "_view_module": "@jupyter-widgets/controls",
       "_view_module_version": "1.5.0",
       "_view_name": "ProgressView",
       "bar_style": "success",
       "description": "100%",
       "description_tooltip": null,
       "layout": "IPY_MODEL_a24680ae797c48de92319d144a596a7e",
       "max": 50,
       "min": 0,
       "orientation": "horizontal",
       "style": "IPY_MODEL_3464d3ae0c1a47e6926685f2c1a4483b",
       "value": 50
      }
     },
     "2bebff39e3dc47e1b005b2e1cd1dbb42": {
      "model_module": "@jupyter-widgets/controls",
      "model_module_version": "1.5.0",
      "model_name": "HTMLModel",
      "state": {
       "_dom_classes": [],
       "_model_module": "@jupyter-widgets/controls",
       "_model_module_version": "1.5.0",
       "_model_name": "HTMLModel",
       "_view_count": null,
       "_view_module": "@jupyter-widgets/controls",
       "_view_module_version": "1.5.0",
       "_view_name": "HTMLView",
       "description": "",
       "description_tooltip": null,
       "layout": "IPY_MODEL_8549fe52450649799de56fc68b832915",
       "placeholder": "​",
       "style": "IPY_MODEL_6dd14275bb22452a8b24bde629078dde",
       "value": " 50/50 [1:39:11&lt;00:00, 119.03s/it]"
      }
     },
     "2f8c5f2605b84332b8e2900933b51ad1": {
      "model_module": "@jupyter-widgets/base",
      "model_module_version": "1.2.0",
      "model_name": "LayoutModel",
      "state": {
       "_model_module": "@jupyter-widgets/base",
       "_model_module_version": "1.2.0",
       "_model_name": "LayoutModel",
       "_view_count": null,
       "_view_module": "@jupyter-widgets/base",
       "_view_module_version": "1.2.0",
       "_view_name": "LayoutView",
       "align_content": null,
       "align_items": null,
       "align_self": null,
       "border": null,
       "bottom": null,
       "display": null,
       "flex": null,
       "flex_flow": null,
       "grid_area": null,
       "grid_auto_columns": null,
       "grid_auto_flow": null,
       "grid_auto_rows": null,
       "grid_column": null,
       "grid_gap": null,
       "grid_row": null,
       "grid_template_areas": null,
       "grid_template_columns": null,
       "grid_template_rows": null,
       "height": null,
       "justify_content": null,
       "justify_items": null,
       "left": null,
       "margin": null,
       "max_height": null,
       "max_width": null,
       "min_height": null,
       "min_width": null,
       "object_fit": null,
       "object_position": null,
       "order": null,
       "overflow": null,
       "overflow_x": null,
       "overflow_y": null,
       "padding": null,
       "right": null,
       "top": null,
       "visibility": null,
       "width": null
      }
     },
     "3110fa81a71f4b04860bd1fc6635d2d9": {
      "model_module": "@jupyter-widgets/base",
      "model_module_version": "1.2.0",
      "model_name": "LayoutModel",
      "state": {
       "_model_module": "@jupyter-widgets/base",
       "_model_module_version": "1.2.0",
       "_model_name": "LayoutModel",
       "_view_count": null,
       "_view_module": "@jupyter-widgets/base",
       "_view_module_version": "1.2.0",
       "_view_name": "LayoutView",
       "align_content": null,
       "align_items": null,
       "align_self": null,
       "border": null,
       "bottom": null,
       "display": null,
       "flex": null,
       "flex_flow": null,
       "grid_area": null,
       "grid_auto_columns": null,
       "grid_auto_flow": null,
       "grid_auto_rows": null,
       "grid_column": null,
       "grid_gap": null,
       "grid_row": null,
       "grid_template_areas": null,
       "grid_template_columns": null,
       "grid_template_rows": null,
       "height": null,
       "justify_content": null,
       "justify_items": null,
       "left": null,
       "margin": null,
       "max_height": null,
       "max_width": null,
       "min_height": null,
       "min_width": null,
       "object_fit": null,
       "object_position": null,
       "order": null,
       "overflow": null,
       "overflow_x": null,
       "overflow_y": null,
       "padding": null,
       "right": null,
       "top": null,
       "visibility": null,
       "width": null
      }
     },
     "33cad943f56d4882b327e64b3c7d6faf": {
      "model_module": "@jupyter-widgets/controls",
      "model_module_version": "1.5.0",
      "model_name": "HTMLModel",
      "state": {
       "_dom_classes": [],
       "_model_module": "@jupyter-widgets/controls",
       "_model_module_version": "1.5.0",
       "_model_name": "HTMLModel",
       "_view_count": null,
       "_view_module": "@jupyter-widgets/controls",
       "_view_module_version": "1.5.0",
       "_view_name": "HTMLView",
       "description": "",
       "description_tooltip": null,
       "layout": "IPY_MODEL_2f8c5f2605b84332b8e2900933b51ad1",
       "placeholder": "​",
       "style": "IPY_MODEL_f049b331127a4bebbecb4db7064fccf2",
       "value": " 3/3 [47:39&lt;00:00, 953.25s/it]"
      }
     },
     "3464d3ae0c1a47e6926685f2c1a4483b": {
      "model_module": "@jupyter-widgets/controls",
      "model_module_version": "1.5.0",
      "model_name": "ProgressStyleModel",
      "state": {
       "_model_module": "@jupyter-widgets/controls",
       "_model_module_version": "1.5.0",
       "_model_name": "ProgressStyleModel",
       "_view_count": null,
       "_view_module": "@jupyter-widgets/base",
       "_view_module_version": "1.2.0",
       "_view_name": "StyleView",
       "bar_color": null,
       "description_width": "initial"
      }
     },
     "4bdf6827bed545d0a2f1f762dc458125": {
      "model_module": "@jupyter-widgets/controls",
      "model_module_version": "1.5.0",
      "model_name": "ProgressStyleModel",
      "state": {
       "_model_module": "@jupyter-widgets/controls",
       "_model_module_version": "1.5.0",
       "_model_name": "ProgressStyleModel",
       "_view_count": null,
       "_view_module": "@jupyter-widgets/base",
       "_view_module_version": "1.2.0",
       "_view_name": "StyleView",
       "bar_color": null,
       "description_width": "initial"
      }
     },
     "6dd14275bb22452a8b24bde629078dde": {
      "model_module": "@jupyter-widgets/controls",
      "model_module_version": "1.5.0",
      "model_name": "DescriptionStyleModel",
      "state": {
       "_model_module": "@jupyter-widgets/controls",
       "_model_module_version": "1.5.0",
       "_model_name": "DescriptionStyleModel",
       "_view_count": null,
       "_view_module": "@jupyter-widgets/base",
       "_view_module_version": "1.2.0",
       "_view_name": "StyleView",
       "description_width": ""
      }
     },
     "8549fe52450649799de56fc68b832915": {
      "model_module": "@jupyter-widgets/base",
      "model_module_version": "1.2.0",
      "model_name": "LayoutModel",
      "state": {
       "_model_module": "@jupyter-widgets/base",
       "_model_module_version": "1.2.0",
       "_model_name": "LayoutModel",
       "_view_count": null,
       "_view_module": "@jupyter-widgets/base",
       "_view_module_version": "1.2.0",
       "_view_name": "LayoutView",
       "align_content": null,
       "align_items": null,
       "align_self": null,
       "border": null,
       "bottom": null,
       "display": null,
       "flex": null,
       "flex_flow": null,
       "grid_area": null,
       "grid_auto_columns": null,
       "grid_auto_flow": null,
       "grid_auto_rows": null,
       "grid_column": null,
       "grid_gap": null,
       "grid_row": null,
       "grid_template_areas": null,
       "grid_template_columns": null,
       "grid_template_rows": null,
       "height": null,
       "justify_content": null,
       "justify_items": null,
       "left": null,
       "margin": null,
       "max_height": null,
       "max_width": null,
       "min_height": null,
       "min_width": null,
       "object_fit": null,
       "object_position": null,
       "order": null,
       "overflow": null,
       "overflow_x": null,
       "overflow_y": null,
       "padding": null,
       "right": null,
       "top": null,
       "visibility": null,
       "width": null
      }
     },
     "9472c1bc0de34da691b474d14700f1e8": {
      "model_module": "@jupyter-widgets/base",
      "model_module_version": "1.2.0",
      "model_name": "LayoutModel",
      "state": {
       "_model_module": "@jupyter-widgets/base",
       "_model_module_version": "1.2.0",
       "_model_name": "LayoutModel",
       "_view_count": null,
       "_view_module": "@jupyter-widgets/base",
       "_view_module_version": "1.2.0",
       "_view_name": "LayoutView",
       "align_content": null,
       "align_items": null,
       "align_self": null,
       "border": null,
       "bottom": null,
       "display": null,
       "flex": null,
       "flex_flow": null,
       "grid_area": null,
       "grid_auto_columns": null,
       "grid_auto_flow": null,
       "grid_auto_rows": null,
       "grid_column": null,
       "grid_gap": null,
       "grid_row": null,
       "grid_template_areas": null,
       "grid_template_columns": null,
       "grid_template_rows": null,
       "height": null,
       "justify_content": null,
       "justify_items": null,
       "left": null,
       "margin": null,
       "max_height": null,
       "max_width": null,
       "min_height": null,
       "min_width": null,
       "object_fit": null,
       "object_position": null,
       "order": null,
       "overflow": null,
       "overflow_x": null,
       "overflow_y": null,
       "padding": null,
       "right": null,
       "top": null,
       "visibility": null,
       "width": null
      }
     },
     "a24680ae797c48de92319d144a596a7e": {
      "model_module": "@jupyter-widgets/base",
      "model_module_version": "1.2.0",
      "model_name": "LayoutModel",
      "state": {
       "_model_module": "@jupyter-widgets/base",
       "_model_module_version": "1.2.0",
       "_model_name": "LayoutModel",
       "_view_count": null,
       "_view_module": "@jupyter-widgets/base",
       "_view_module_version": "1.2.0",
       "_view_name": "LayoutView",
       "align_content": null,
       "align_items": null,
       "align_self": null,
       "border": null,
       "bottom": null,
       "display": null,
       "flex": null,
       "flex_flow": null,
       "grid_area": null,
       "grid_auto_columns": null,
       "grid_auto_flow": null,
       "grid_auto_rows": null,
       "grid_column": null,
       "grid_gap": null,
       "grid_row": null,
       "grid_template_areas": null,
       "grid_template_columns": null,
       "grid_template_rows": null,
       "height": null,
       "justify_content": null,
       "justify_items": null,
       "left": null,
       "margin": null,
       "max_height": null,
       "max_width": null,
       "min_height": null,
       "min_width": null,
       "object_fit": null,
       "object_position": null,
       "order": null,
       "overflow": null,
       "overflow_x": null,
       "overflow_y": null,
       "padding": null,
       "right": null,
       "top": null,
       "visibility": null,
       "width": null
      }
     },
     "a9bd0e48e6f8493a9c9aaabdca1b4308": {
      "model_module": "@jupyter-widgets/controls",
      "model_module_version": "1.5.0",
      "model_name": "IntProgressModel",
      "state": {
       "_dom_classes": [],
       "_model_module": "@jupyter-widgets/controls",
       "_model_module_version": "1.5.0",
       "_model_name": "IntProgressModel",
       "_view_count": null,
       "_view_module": "@jupyter-widgets/controls",
       "_view_module_version": "1.5.0",
       "_view_name": "ProgressView",
       "bar_style": "success",
       "description": "100%",
       "description_tooltip": null,
       "layout": "IPY_MODEL_143cc32510af4a7598db65152f3006ec",
       "max": 3,
       "min": 0,
       "orientation": "horizontal",
       "style": "IPY_MODEL_4bdf6827bed545d0a2f1f762dc458125",
       "value": 3
      }
     },
     "f049b331127a4bebbecb4db7064fccf2": {
      "model_module": "@jupyter-widgets/controls",
      "model_module_version": "1.5.0",
      "model_name": "DescriptionStyleModel",
      "state": {
       "_model_module": "@jupyter-widgets/controls",
       "_model_module_version": "1.5.0",
       "_model_name": "DescriptionStyleModel",
       "_view_count": null,
       "_view_module": "@jupyter-widgets/base",
       "_view_module_version": "1.2.0",
       "_view_name": "StyleView",
       "description_width": ""
      }
     },
     "f76ecc50ab84416cbfd7bad34a50530d": {
      "model_module": "@jupyter-widgets/controls",
      "model_module_version": "1.5.0",
      "model_name": "HBoxModel",
      "state": {
       "_dom_classes": [],
       "_model_module": "@jupyter-widgets/controls",
       "_model_module_version": "1.5.0",
       "_model_name": "HBoxModel",
       "_view_count": null,
       "_view_module": "@jupyter-widgets/controls",
       "_view_module_version": "1.5.0",
       "_view_name": "HBoxView",
       "box_style": "",
       "children": [
        "IPY_MODEL_1c7bc51f7cc9417a9447f64cfe82ffad",
        "IPY_MODEL_2bebff39e3dc47e1b005b2e1cd1dbb42"
       ],
       "layout": "IPY_MODEL_3110fa81a71f4b04860bd1fc6635d2d9"
      }
     }
    },
    "version_major": 2,
    "version_minor": 4
   }
  }
 },
 "nbformat": 4,
 "nbformat_minor": 1
}
