{
 "cells": [
  {
   "cell_type": "code",
   "execution_count": 1,
   "metadata": {},
   "outputs": [],
   "source": [
    "#!pip install tensorflow==1.14.0"
   ]
  },
  {
   "cell_type": "code",
   "execution_count": 2,
   "metadata": {},
   "outputs": [],
   "source": [
    "#!pip install keras==2.2.5"
   ]
  },
  {
   "cell_type": "code",
   "execution_count": 3,
   "metadata": {},
   "outputs": [
    {
     "name": "stderr",
     "output_type": "stream",
     "text": [
      "Using TensorFlow backend.\n"
     ]
    }
   ],
   "source": [
    "import os\n",
    "os.environ[\"PYTHONHASHSEED\"] = \"13\"\n",
    "os.environ[\"CUDA_VISIBLE_DEVICES\"] = \"\"\n",
    "\n",
    "import numpy as np\n",
    "import tensorflow as tf\n",
    "import random as rn\n",
    "\n",
    "# The below is necessary for starting Numpy generated random numbers\n",
    "# in a well-defined initial state.\n",
    "\n",
    "np.random.seed(13)\n",
    "\n",
    "# The below is necessary for starting core Python generated random numbers\n",
    "# in a well-defined state.\n",
    "\n",
    "rn.seed(13)\n",
    "\n",
    "# Force TensorFlow to use single thread.\n",
    "# Multiple threads are a potential source of non-reproducible results.\n",
    "# For further details, see: https://stackoverflow.com/questions/42022950/\n",
    "\n",
    "session_conf = tf.ConfigProto(intra_op_parallelism_threads=1,\n",
    "                              inter_op_parallelism_threads=1)\n",
    "\n",
    "from keras import backend as K\n",
    "\n",
    "# The below tf.set_random_seed() will make random number generation\n",
    "# in the TensorFlow backend have a well-defined initial state.\n",
    "# For further details, see:\n",
    "# https://www.tensorflow.org/api_docs/python/tf/set_random_seed\n",
    "\n",
    "tf.set_random_seed(13)\n",
    "\n",
    "sess = tf.Session(graph=tf.get_default_graph(), config=session_conf)\n",
    "K.set_session(sess)"
   ]
  },
  {
   "cell_type": "code",
   "execution_count": 4,
   "metadata": {
    "_cell_guid": "b1076dfc-b9ad-4769-8c92-a6c4dae69d19",
    "_uuid": "8f2839f25d086af736a60e9eeb907d3b93b6e0e5"
   },
   "outputs": [],
   "source": [
    "import gc\n",
    "import warnings\n",
    "\n",
    "import lightgbm as lgb\n",
    "import pandas as pd\n",
    "\n",
    "from matplotlib import pyplot as plt\n",
    "from sklearn.metrics import mean_squared_error\n",
    "from sklearn.model_selection import KFold\n",
    "from sklearn.preprocessing import LabelEncoder, MinMaxScaler, StandardScaler\n",
    "from tqdm.notebook import tqdm\n",
    "\n",
    "import keras\n",
    "from keras.models import Sequential\n",
    "from keras.layers import BatchNormalization, Dense, Dropout\n",
    "\n",
    "path_data = \"../input/ashrae-energy-prediction/\"\n",
    "path_train = path_data + \"train.csv\"\n",
    "path_test = path_data + \"test.csv\"\n",
    "path_building = path_data + \"building_metadata.csv\"\n",
    "path_weather_train = path_data + \"weather_train.csv\"\n",
    "path_weather_test = path_data + \"weather_test.csv\"\n",
    "\n",
    "myfavouritenumber = 13\n",
    "seed = myfavouritenumber\n",
    "\n",
    "warnings.filterwarnings(\"ignore\")"
   ]
  },
  {
   "cell_type": "code",
   "execution_count": 5,
   "metadata": {},
   "outputs": [
    {
     "name": "stdout",
     "output_type": "stream",
     "text": [
      "WARNING:tensorflow:From C:\\Users\\sbbpan\\AppData\\Local\\Continuum\\anaconda3\\lib\\site-packages\\keras\\backend\\tensorflow_backend.py:174: The name tf.get_default_session is deprecated. Please use tf.compat.v1.get_default_session instead.\n",
      "\n",
      "WARNING:tensorflow:From C:\\Users\\sbbpan\\AppData\\Local\\Continuum\\anaconda3\\lib\\site-packages\\keras\\backend\\tensorflow_backend.py:190: The name tf.global_variables is deprecated. Please use tf.compat.v1.global_variables instead.\n",
      "\n"
     ]
    },
    {
     "data": {
      "text/plain": [
       "['/job:localhost/replica:0/task:0/device:GPU:0']"
      ]
     },
     "execution_count": 5,
     "metadata": {},
     "output_type": "execute_result"
    }
   ],
   "source": [
    "K.tensorflow_backend._get_available_gpus()"
   ]
  },
  {
   "cell_type": "code",
   "execution_count": 6,
   "metadata": {},
   "outputs": [
    {
     "name": "stdout",
     "output_type": "stream",
     "text": [
      "[name: \"/device:CPU:0\"\n",
      "device_type: \"CPU\"\n",
      "memory_limit: 268435456\n",
      "locality {\n",
      "}\n",
      "incarnation: 17163255319734219642\n",
      ", name: \"/device:GPU:0\"\n",
      "device_type: \"GPU\"\n",
      "memory_limit: 1426918195\n",
      "locality {\n",
      "  bus_id: 1\n",
      "  links {\n",
      "  }\n",
      "}\n",
      "incarnation: 2197068712700702667\n",
      "physical_device_desc: \"device: 0, name: GeForce MX250, pci bus id: 0000:01:00.0, compute capability: 6.1\"\n",
      "]\n"
     ]
    }
   ],
   "source": [
    "from tensorflow.python.client import device_lib\n",
    "print(device_lib.list_local_devices())"
   ]
  },
  {
   "cell_type": "code",
   "execution_count": 7,
   "metadata": {},
   "outputs": [],
   "source": [
    "site_id = 9"
   ]
  },
  {
   "cell_type": "code",
   "execution_count": 8,
   "metadata": {},
   "outputs": [
    {
     "data": {
      "text/plain": [
       "0"
      ]
     },
     "execution_count": 8,
     "metadata": {},
     "output_type": "execute_result"
    }
   ],
   "source": [
    "df_train = pd.read_csv(path_train)\n",
    "df_test = pd.read_csv(path_test)\n",
    "\n",
    "building = pd.read_csv(path_building)\n",
    "\n",
    "weather_train = pd.read_csv(path_weather_train)\n",
    "weather_test = pd.read_csv(path_weather_test)\n",
    "\n",
    "weather_train.drop([\"sea_level_pressure\", \"wind_direction\", \"wind_speed\"], axis=1, inplace=True)\n",
    "weather_test.drop([\"sea_level_pressure\", \"wind_direction\", \"wind_speed\"], axis=1, inplace=True)\n",
    "\n",
    "weather_train = weather_train.groupby(\"site_id\").apply(lambda group: group.interpolate(limit_direction=\"both\"))\n",
    "weather_test = weather_test.groupby(\"site_id\").apply(lambda group: group.interpolate(limit_direction=\"both\"))\n",
    "\n",
    "df_train = df_train.merge(building, on=\"building_id\")\n",
    "df_test = df_test.merge(building, on=\"building_id\")\n",
    "\n",
    "df_train = df_train[df_train.site_id == site_id]\n",
    "df_test = df_test[df_test.site_id == site_id]\n",
    "\n",
    "df_train = df_train[~((df_train.meter_reading == 0) & (df_train.meter.isin([0, 1])))]\n",
    "df_train = df_train[df_train.meter == 0]\n",
    "\n",
    "df_train = df_train.merge(weather_train, on=[\"site_id\", \"timestamp\"], how=\"left\")\n",
    "df_test = df_test.merge(weather_test, on=[\"site_id\", \"timestamp\"], how=\"left\")\n",
    "\n",
    "df_train.timestamp = pd.to_datetime(df_train.timestamp, format='%Y-%m-%d %H:%M:%S')\n",
    "df_test.timestamp = pd.to_datetime(df_test.timestamp, format='%Y-%m-%d %H:%M:%S')\n",
    "\n",
    "df_train.building_id = df_train.building_id.astype(\"str\")\n",
    "df_test.building_id = df_test.building_id.astype(\"str\")\n",
    "\n",
    "df_train[\"log_meter_reading\"] = np.log1p(df_train.meter_reading)\n",
    "\n",
    "del building\n",
    "gc.collect()"
   ]
  },
  {
   "cell_type": "code",
   "execution_count": 9,
   "metadata": {},
   "outputs": [],
   "source": [
    "df_train[\"hour\"] = df_train.timestamp.dt.hour.astype(\"str\")\n",
    "df_test[\"hour\"] = df_test.timestamp.dt.hour.astype(\"str\")\n",
    "\n",
    "df_train[\"weekday\"] = df_train.timestamp.dt.weekday.astype(\"str\")\n",
    "df_test[\"weekday\"] = df_test.timestamp.dt.weekday.astype(\"str\")\n",
    "\n",
    "df_train[\"month\"] = df_train.timestamp.dt.month.astype(\"str\")\n",
    "df_test[\"month\"] = df_test.timestamp.dt.month.astype(\"str\")"
   ]
  },
  {
   "cell_type": "code",
   "execution_count": 10,
   "metadata": {},
   "outputs": [],
   "source": [
    "features = [\n",
    "    \"building_id\",\n",
    "    \"square_feet\",\n",
    "    \"year_built\",\n",
    "    \"floor_count\",\n",
    "    \"primary_use\",\n",
    "    \"air_temperature\",\n",
    "    \"cloud_coverage\",\n",
    "    \"dew_temperature\",\n",
    "    \"precip_depth_1_hr\",\n",
    "    \"hour\",\n",
    "    \"weekday\",\n",
    "    \"month\"\n",
    "]"
   ]
  },
  {
   "cell_type": "code",
   "execution_count": 11,
   "metadata": {},
   "outputs": [],
   "source": [
    "def rmse(y_true, y_pred):\n",
    "    return K.sqrt(K.mean(K.square(y_pred - y_true)))"
   ]
  },
  {
   "cell_type": "code",
   "execution_count": 12,
   "metadata": {},
   "outputs": [],
   "source": [
    "cv = 5\n",
    "folds = KFold(n_splits = cv, shuffle = False, random_state = seed)\n",
    "\n",
    "df_cv = []\n",
    "df_preds = []"
   ]
  },
  {
   "cell_type": "code",
   "execution_count": 13,
   "metadata": {
    "scrolled": true
   },
   "outputs": [
    {
     "name": "stdout",
     "output_type": "stream",
     "text": [
      "Building Model for site_id 9 and meter 0\n",
      "Preparing Site: 9 , meter: 0 , Fold: 1\n",
      "WARNING:tensorflow:From C:\\Users\\sbbpan\\AppData\\Local\\Continuum\\anaconda3\\lib\\site-packages\\keras\\backend\\tensorflow_backend.py:74: The name tf.get_default_graph is deprecated. Please use tf.compat.v1.get_default_graph instead.\n",
      "\n",
      "WARNING:tensorflow:From C:\\Users\\sbbpan\\AppData\\Local\\Continuum\\anaconda3\\lib\\site-packages\\keras\\backend\\tensorflow_backend.py:517: The name tf.placeholder is deprecated. Please use tf.compat.v1.placeholder instead.\n",
      "\n",
      "WARNING:tensorflow:From C:\\Users\\sbbpan\\AppData\\Local\\Continuum\\anaconda3\\lib\\site-packages\\keras\\backend\\tensorflow_backend.py:4138: The name tf.random_uniform is deprecated. Please use tf.random.uniform instead.\n",
      "\n",
      "WARNING:tensorflow:From C:\\Users\\sbbpan\\AppData\\Local\\Continuum\\anaconda3\\lib\\site-packages\\keras\\backend\\tensorflow_backend.py:3445: calling dropout (from tensorflow.python.ops.nn_ops) with keep_prob is deprecated and will be removed in a future version.\n",
      "Instructions for updating:\n",
      "Please use `rate` instead of `keep_prob`. Rate should be set to `rate = 1 - keep_prob`.\n",
      "WARNING:tensorflow:From C:\\Users\\sbbpan\\AppData\\Local\\Continuum\\anaconda3\\lib\\site-packages\\keras\\optimizers.py:790: The name tf.train.Optimizer is deprecated. Please use tf.compat.v1.train.Optimizer instead.\n",
      "\n",
      "WARNING:tensorflow:From C:\\Users\\sbbpan\\AppData\\Local\\Continuum\\anaconda3\\lib\\site-packages\\tensorflow\\python\\ops\\math_grad.py:1250: add_dispatch_support.<locals>.wrapper (from tensorflow.python.ops.array_ops) is deprecated and will be removed in a future version.\n",
      "Instructions for updating:\n",
      "Use tf.where in 2.0, which has the same broadcast rule as np.where\n",
      "Train on 819169 samples, validate on 204793 samples\n",
      "Epoch 1/21\n",
      " - 24s - loss: 1.9480 - val_loss: 0.9951\n",
      "Epoch 2/21\n",
      " - 22s - loss: 1.3210 - val_loss: 0.9780\n",
      "Epoch 3/21\n",
      " - 24s - loss: 1.2995 - val_loss: 0.9640\n",
      "Epoch 4/21\n",
      " - 22s - loss: 1.2782 - val_loss: 0.9480\n",
      "Epoch 5/21\n",
      " - 23s - loss: 1.2576 - val_loss: 0.9309\n",
      "Epoch 6/21\n",
      " - 22s - loss: 1.2396 - val_loss: 0.9214\n",
      "Epoch 7/21\n",
      " - 22s - loss: 1.2239 - val_loss: 0.9108\n",
      "Epoch 8/21\n",
      " - 22s - loss: 1.2101 - val_loss: 0.9062\n",
      "Epoch 9/21\n",
      " - 21s - loss: 1.1957 - val_loss: 0.8942\n",
      "Epoch 10/21\n",
      " - 21s - loss: 1.1828 - val_loss: 0.8823\n",
      "Epoch 11/21\n",
      " - 21s - loss: 1.1714 - val_loss: 0.8771\n",
      "Epoch 12/21\n",
      " - 21s - loss: 1.1609 - val_loss: 0.8801\n",
      "Epoch 13/21\n",
      " - 21s - loss: 1.1501 - val_loss: 0.8767\n",
      "Epoch 14/21\n",
      " - 21s - loss: 1.1419 - val_loss: 0.8673\n",
      "Epoch 15/21\n",
      " - 20s - loss: 1.1332 - val_loss: 0.8692\n",
      "Epoch 16/21\n",
      " - 23s - loss: 1.1256 - val_loss: 0.8664\n",
      "Epoch 17/21\n",
      " - 22s - loss: 1.1189 - val_loss: 0.8647\n",
      "Epoch 18/21\n",
      " - 23s - loss: 1.1129 - val_loss: 0.8617\n",
      "Epoch 19/21\n",
      " - 23s - loss: 1.1067 - val_loss: 0.8634\n",
      "Epoch 20/21\n",
      " - 23s - loss: 1.1016 - val_loss: 0.8579\n",
      "Epoch 21/21\n",
      " - 22s - loss: 1.0972 - val_loss: 0.8633\n"
     ]
    },
    {
     "data": {
      "image/png": "[encoded data removed]",
      "text/plain": [
       "<Figure size 432x288 with 1 Axes>"
      ]
     },
     "metadata": {
      "needs_background": "light"
     },
     "output_type": "display_data"
    },
    {
     "name": "stdout",
     "output_type": "stream",
     "text": [
      "Preparing Site: 9 , meter: 0 , Fold: 2\n",
      "Train on 819169 samples, validate on 204793 samples\n",
      "Epoch 1/21\n",
      " - 25s - loss: 1.8517 - val_loss: 0.9951\n",
      "Epoch 2/21\n",
      " - 22s - loss: 1.3247 - val_loss: 0.9595\n",
      "Epoch 3/21\n",
      " - 27s - loss: 1.3013 - val_loss: 0.9575\n",
      "Epoch 4/21\n",
      " - 25s - loss: 1.2809 - val_loss: 0.9268\n",
      "Epoch 5/21\n",
      " - 21s - loss: 1.2630 - val_loss: 0.9368\n",
      "Epoch 6/21\n",
      " - 21s - loss: 1.2462 - val_loss: 0.9189\n",
      "Epoch 7/21\n",
      " - 21s - loss: 1.2324 - val_loss: 0.9253\n",
      "Epoch 8/21\n",
      " - 20s - loss: 1.2185 - val_loss: 0.9187\n",
      "Epoch 9/21\n",
      " - 21s - loss: 1.2043 - val_loss: 0.9193\n",
      "Epoch 10/21\n",
      " - 21s - loss: 1.1936 - val_loss: 0.9157\n",
      "Epoch 11/21\n",
      " - 21s - loss: 1.1819 - val_loss: 0.8882\n",
      "Epoch 12/21\n",
      " - 22s - loss: 1.1732 - val_loss: 0.8966\n",
      "Epoch 13/21\n",
      " - 24s - loss: 1.1630 - val_loss: 0.8865\n",
      "Epoch 14/21\n",
      " - 21s - loss: 1.1552 - val_loss: 0.8921\n",
      "Epoch 15/21\n",
      " - 21s - loss: 1.1476 - val_loss: 0.9005\n",
      "Epoch 16/21\n",
      " - 21s - loss: 1.1410 - val_loss: 0.8915\n",
      "Epoch 17/21\n",
      " - 21s - loss: 1.1345 - val_loss: 0.8759\n",
      "Epoch 18/21\n",
      " - 21s - loss: 1.1279 - val_loss: 0.8795\n",
      "Epoch 19/21\n",
      " - 22s - loss: 1.1224 - val_loss: 0.8699\n",
      "Epoch 20/21\n",
      " - 22s - loss: 1.1180 - val_loss: 0.8755\n",
      "Epoch 21/21\n",
      " - 22s - loss: 1.1136 - val_loss: 0.8717\n"
     ]
    },
    {
     "data": {
      "image/png": "[encoded data removed]",
      "text/plain": [
       "<Figure size 432x288 with 1 Axes>"
      ]
     },
     "metadata": {
      "needs_background": "light"
     },
     "output_type": "display_data"
    },
    {
     "name": "stdout",
     "output_type": "stream",
     "text": [
      "Preparing Site: 9 , meter: 0 , Fold: 3\n",
      "Train on 819170 samples, validate on 204792 samples\n",
      "Epoch 1/21\n",
      " - 35s - loss: 1.7635 - val_loss: 1.4440\n",
      "Epoch 2/21\n",
      " - 30s - loss: 1.2170 - val_loss: 1.4026\n",
      "Epoch 3/21\n",
      " - 24s - loss: 1.1869 - val_loss: 1.3741\n",
      "Epoch 4/21\n",
      " - 31s - loss: 1.1607 - val_loss: 1.3474\n",
      "Epoch 5/21\n",
      " - 31s - loss: 1.1374 - val_loss: 1.3268\n",
      "Epoch 6/21\n",
      " - 24s - loss: 1.1162 - val_loss: 1.3157\n",
      "Epoch 7/21\n",
      " - 21s - loss: 1.0967 - val_loss: 1.3008\n",
      "Epoch 8/21\n",
      " - 23s - loss: 1.0791 - val_loss: 1.2878\n",
      "Epoch 9/21\n",
      " - 24s - loss: 1.0622 - val_loss: 1.2817\n",
      "Epoch 10/21\n",
      " - 24s - loss: 1.0475 - val_loss: 1.2754\n",
      "Epoch 11/21\n",
      " - 31s - loss: 1.0337 - val_loss: 1.2810\n",
      "Epoch 12/21\n",
      " - 33s - loss: 1.0221 - val_loss: 1.2659\n",
      "Epoch 13/21\n",
      " - 26s - loss: 1.0111 - val_loss: 1.2704\n",
      "Epoch 14/21\n",
      " - 31s - loss: 1.0014 - val_loss: 1.2710\n",
      "Epoch 15/21\n",
      " - 35s - loss: 0.9920 - val_loss: 1.2674\n",
      "Epoch 16/21\n",
      " - 32s - loss: 0.9834 - val_loss: 1.2640\n",
      "Epoch 17/21\n",
      " - 33s - loss: 0.9760 - val_loss: 1.2725\n",
      "Epoch 18/21\n",
      " - 39s - loss: 0.9689 - val_loss: 1.2743\n",
      "Epoch 19/21\n",
      " - 26s - loss: 0.9637 - val_loss: 1.2708\n",
      "Epoch 20/21\n",
      " - 24s - loss: 0.9582 - val_loss: 1.2705\n",
      "Epoch 21/21\n",
      " - 24s - loss: 0.9532 - val_loss: 1.2786\n"
     ]
    },
    {
     "data": {
      "image/png": "[encoded data removed]",
      "text/plain": [
       "<Figure size 432x288 with 1 Axes>"
      ]
     },
     "metadata": {
      "needs_background": "light"
     },
     "output_type": "display_data"
    },
    {
     "name": "stdout",
     "output_type": "stream",
     "text": [
      "Preparing Site: 9 , meter: 0 , Fold: 4\n",
      "Train on 819170 samples, validate on 204792 samples\n",
      "Epoch 1/21\n",
      " - 29s - loss: 1.8692 - val_loss: 1.1464\n",
      "Epoch 2/21\n",
      " - 21s - loss: 1.3224 - val_loss: 1.1111\n",
      "Epoch 3/21\n",
      " - 26s - loss: 1.2981 - val_loss: 1.0946\n",
      "Epoch 4/21\n",
      " - 26s - loss: 1.2779 - val_loss: 1.0420\n",
      "Epoch 5/21\n",
      " - 25s - loss: 1.2584 - val_loss: 1.0415\n",
      "Epoch 6/21\n",
      " - 25s - loss: 1.2423 - val_loss: 1.0304\n",
      "Epoch 7/21\n",
      " - 25s - loss: 1.2254 - val_loss: 1.0224\n",
      "Epoch 8/21\n",
      " - 25s - loss: 1.2106 - val_loss: 0.9989\n",
      "Epoch 9/21\n",
      " - 25s - loss: 1.1987 - val_loss: 0.9873\n",
      "Epoch 10/21\n",
      " - 22s - loss: 1.1866 - val_loss: 0.9779\n",
      "Epoch 11/21\n",
      " - 28s - loss: 1.1755 - val_loss: 0.9801\n",
      "Epoch 12/21\n",
      " - 24s - loss: 1.1643 - val_loss: 0.9639\n",
      "Epoch 13/21\n",
      " - 24s - loss: 1.1548 - val_loss: 0.9710\n",
      "Epoch 14/21\n",
      " - 22s - loss: 1.1463 - val_loss: 0.9729\n",
      "Epoch 15/21\n",
      " - 21s - loss: 1.1379 - val_loss: 0.9800\n",
      "Epoch 16/21\n",
      " - 21s - loss: 1.1303 - val_loss: 0.9805\n",
      "Epoch 17/21\n",
      " - 21s - loss: 1.1243 - val_loss: 0.9786\n",
      "Epoch 18/21\n",
      " - 23s - loss: 1.1178 - val_loss: 0.9728\n",
      "Epoch 19/21\n",
      " - 22s - loss: 1.1112 - val_loss: 0.9740\n",
      "Epoch 20/21\n",
      " - 23s - loss: 1.1066 - val_loss: 0.9837\n",
      "Epoch 21/21\n",
      " - 24s - loss: 1.1015 - val_loss: 0.9760\n"
     ]
    },
    {
     "data": {
      "image/png": "[encoded data removed]",
      "text/plain": [
       "<Figure size 432x288 with 1 Axes>"
      ]
     },
     "metadata": {
      "needs_background": "light"
     },
     "output_type": "display_data"
    },
    {
     "name": "stdout",
     "output_type": "stream",
     "text": [
      "Preparing Site: 9 , meter: 0 , Fold: 5\n",
      "Train on 819170 samples, validate on 204792 samples\n",
      "Epoch 1/21\n",
      " - 23s - loss: 1.9017 - val_loss: 0.8884\n",
      "Epoch 2/21\n",
      " - 21s - loss: 1.3665 - val_loss: 0.8666\n",
      "Epoch 3/21\n",
      " - 22s - loss: 1.3438 - val_loss: 0.8308\n",
      "Epoch 4/21\n",
      " - 21s - loss: 1.3243 - val_loss: 0.8085\n",
      "Epoch 5/21\n",
      " - 21s - loss: 1.3056 - val_loss: 0.7985\n",
      "Epoch 6/21\n",
      " - 21s - loss: 1.2889 - val_loss: 0.7883\n",
      "Epoch 7/21\n",
      " - 21s - loss: 1.2746 - val_loss: 0.7797\n",
      "Epoch 8/21\n",
      " - 21s - loss: 1.2606 - val_loss: 0.7848\n",
      "Epoch 9/21\n",
      " - 22s - loss: 1.2465 - val_loss: 0.7735\n",
      "Epoch 10/21\n",
      " - 22s - loss: 1.2340 - val_loss: 0.7767\n",
      "Epoch 11/21\n",
      " - 22s - loss: 1.2228 - val_loss: 0.7767\n",
      "Epoch 12/21\n",
      " - 24s - loss: 1.2123 - val_loss: 0.7572\n",
      "Epoch 13/21\n",
      " - 22s - loss: 1.2027 - val_loss: 0.7619\n",
      "Epoch 14/21\n",
      " - 22s - loss: 1.1937 - val_loss: 0.7745\n",
      "Epoch 15/21\n",
      " - 21s - loss: 1.1856 - val_loss: 0.7848\n",
      "Epoch 16/21\n",
      " - 21s - loss: 1.1773 - val_loss: 0.7811\n",
      "Epoch 17/21\n",
      " - 23s - loss: 1.1708 - val_loss: 0.7820\n",
      "Epoch 18/21\n",
      " - 22s - loss: 1.1641 - val_loss: 0.7675\n",
      "Epoch 19/21\n",
      " - 21s - loss: 1.1582 - val_loss: 0.7912\n",
      "Epoch 20/21\n",
      " - 23s - loss: 1.1530 - val_loss: 0.7849\n",
      "Epoch 21/21\n",
      " - 24s - loss: 1.1476 - val_loss: 0.7832\n"
     ]
    },
    {
     "data": {
      "image/png": "[encoded data removed]",
      "text/plain": [
       "<Figure size 432x288 with 1 Axes>"
      ]
     },
     "metadata": {
      "needs_background": "light"
     },
     "output_type": "display_data"
    },
    {
     "name": "stdout",
     "output_type": "stream",
     "text": [
      "\n",
      "CV RMSE for Site: 9 and Meter: 0 is 1.1166431459658102\n",
      "\n",
      "CV RMSE for Site: 9 is 1.1166431459658102\n"
     ]
    }
   ],
   "source": [
    "for meter in df_train.meter.unique():\n",
    "    print(\"Building Model for site_id\", site_id, \"and meter\", meter)\n",
    "        \n",
    "    df_train_site_meter = df_train[df_train.meter == meter].reset_index(drop=True)\n",
    "    df_test_site_meter = df_test[df_test.meter == meter].reset_index(drop=True)\n",
    "    \n",
    "    pred_val = np.zeros(df_train_site_meter.shape[0])\n",
    "    pred_test = np.zeros(df_test_site_meter.shape[0])\n",
    "\n",
    "    row_ids_test = df_test_site_meter.row_id\n",
    "    y_train_site_meter = df_train_site_meter.log_meter_reading.values\n",
    "    \n",
    "    df_train_site_meter = df_train_site_meter[features]\n",
    "    df_test_site_meter = df_test_site_meter[features]\n",
    "\n",
    "    df_train_site_meter = pd.get_dummies(df_train_site_meter)\n",
    "    df_test_site_meter = pd.get_dummies(df_test_site_meter)\n",
    "        \n",
    "    for k, (train_idx, valid_idx) in enumerate(folds.split(df_train_site_meter, y_train_site_meter)):\n",
    "        print(\"Preparing Site:\", site_id, \", meter:\", meter, \", Fold:\", k+1)\n",
    "        \n",
    "        X_train, y_train = df_train_site_meter.iloc[train_idx], y_train_site_meter[train_idx]\n",
    "        X_valid, y_valid = df_train_site_meter.iloc[valid_idx], y_train_site_meter[valid_idx]\n",
    "        \n",
    "        X_train.dropna(axis=1, how=\"all\", inplace=True)\n",
    "        X_train = X_train.loc[:, (X_train != X_train.iloc[0]).any()]\n",
    "\n",
    "        X_valid = X_valid[X_train.columns]\n",
    "        X_test = df_test_site_meter[X_train.columns]\n",
    "        \n",
    "        df_means = pd.concat([X_train, X_valid, X_test], ignore_index=True).mean()\n",
    "        X_train.fillna(df_means, inplace=True)\n",
    "        X_valid.fillna(df_means, inplace=True)\n",
    "        X_test.fillna(df_means, inplace=True)\n",
    "        \n",
    "        sc = MinMaxScaler()\n",
    "        sc.fit(pd.concat([X_train, X_valid, X_test], ignore_index=True))\n",
    "        \n",
    "        X_train = np.array(sc.transform(X_train))\n",
    "        X_valid = np.array(sc.transform(X_valid))\n",
    "        X_test = np.array(sc.transform(X_test))\n",
    "        \n",
    "        model = Sequential()\n",
    "        model.add(Dense(256, input_dim=X_train.shape[1], activation=\"relu\", kernel_initializer=keras.initializers.glorot_uniform(seed=seed)))\n",
    "        model.add(BatchNormalization())\n",
    "        model.add(Dropout(0.2))\n",
    "        model.add(Dense(64, activation=\"tanh\", kernel_initializer=keras.initializers.glorot_uniform(seed=seed)))\n",
    "        model.add(BatchNormalization())\n",
    "        model.add(Dropout(0.2))\n",
    "        model.add(Dense(8, activation=\"tanh\", kernel_initializer=keras.initializers.glorot_uniform(seed=seed)))\n",
    "        model.add(BatchNormalization())\n",
    "        model.add(Dropout(0.2))\n",
    "        model.add(Dense(1))\n",
    "        model.compile(loss=rmse, optimizer=\"adam\")\n",
    "        \n",
    "        model_ffnn = model.fit(X_train, y_train, epochs=21, batch_size=500, validation_data=(X_valid, y_valid), verbose=2, shuffle=False)\n",
    "\n",
    "        plt.plot(model_ffnn.history[\"loss\"])\n",
    "        plt.plot(model_ffnn.history[\"val_loss\"])\n",
    "        plt.title(\"Loss for Site: \" + str(site_id) + \", Meter: \" + str(meter) + \", Fold: \" + str(k+1))\n",
    "        plt.ylabel(\"rmse\")\n",
    "        plt.xlabel(\"Epoch\")\n",
    "        plt.legend([\"train\", \"valid\"], loc=\"upper right\")\n",
    "        plt.show()\n",
    "        \n",
    "        pred_val[valid_idx] = model.predict(X_valid).ravel()\n",
    "        pred_test += model.predict(X_test).ravel() / cv\n",
    "        \n",
    "        gc.collect()\n",
    "        \n",
    "    df_valid = pd.DataFrame({\"site_id\": site_id, \"meter\": meter, \"meter_reading\": np.expm1(y_train_site_meter), \"pred_ffnn\": np.clip(np.expm1(pred_val), 0, a_max=None)})\n",
    "    df_pred = pd.DataFrame({\"row_id\": row_ids_test, \"meter_reading\": np.clip(np.expm1(pred_test), 0, a_max=None)})\n",
    "    \n",
    "    df_cv.append(df_valid)\n",
    "    df_preds.append(df_pred)\n",
    "    \n",
    "    gc.collect()\n",
    "    \n",
    "    print(\"\\nCV RMSE for Site:\", site_id, \"and Meter:\", meter, \"is\", np.sqrt(mean_squared_error(np.log1p(df_valid.meter_reading), np.log1p(df_valid.pred_ffnn))))\n",
    "\n",
    "df_cv = pd.concat(df_cv)\n",
    "print(\"\\nCV RMSE for Site:\", site_id, \"is\", np.sqrt(mean_squared_error(np.log1p(df_cv.meter_reading), np.log1p(df_cv.pred_ffnn))))\n"
   ]
  },
  {
   "cell_type": "code",
   "execution_count": 14,
   "metadata": {},
   "outputs": [],
   "source": [
    "df_preds = pd.concat(df_preds)\n",
    "df_preds.to_csv(\"../sub/ffnn_pred_site_\" + str(site_id) + \".csv\", index=False)"
   ]
  }
 ],
 "metadata": {
  "kernelspec": {
   "display_name": "Python 3",
   "language": "python",
   "name": "python3"
  },
  "language_info": {
   "codemirror_mode": {
    "name": "ipython",
    "version": 3
   },
   "file_extension": ".py",
   "mimetype": "text/x-python",
   "name": "python",
   "nbconvert_exporter": "python",
   "pygments_lexer": "ipython3",
   "version": "3.7.4"
  }
 },
 "nbformat": 4,
 "nbformat_minor": 1
}
