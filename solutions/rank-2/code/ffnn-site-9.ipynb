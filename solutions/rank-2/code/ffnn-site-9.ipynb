{
 "cells": [
  {
   "cell_type": "code",
   "execution_count": 2,
   "metadata": {
    "ExecuteTime": {
     "end_time": "2020-04-26T14:43:38.489363Z",
     "start_time": "2020-04-26T14:43:38.487356Z"
    }
   },
   "outputs": [],
   "source": [
    "#!pip install tensorflow==1.14.0"
   ]
  },
  {
   "cell_type": "code",
   "execution_count": 3,
   "metadata": {
    "ExecuteTime": {
     "end_time": "2020-04-26T14:43:38.493368Z",
     "start_time": "2020-04-26T14:43:38.490710Z"
    }
   },
   "outputs": [],
   "source": [
    "#!pip install keras==2.2.5"
   ]
  },
  {
   "cell_type": "code",
   "execution_count": 4,
   "metadata": {
    "ExecuteTime": {
     "end_time": "2020-04-26T14:43:40.304939Z",
     "start_time": "2020-04-26T14:43:38.495665Z"
    }
   },
   "outputs": [
    {
     "name": "stdout",
     "output_type": "stream",
     "text": [
      "WARNING:tensorflow:From /home/ubuntu/anaconda3/envs/tensorflow_p36/lib/python3.6/site-packages/tensorflow_core/__init__.py:1467: The name tf.estimator.inputs is deprecated. Please use tf.compat.v1.estimator.inputs instead.\n",
      "\n"
     ]
    },
    {
     "name": "stderr",
     "output_type": "stream",
     "text": [
      "Using TensorFlow backend.\n"
     ]
    }
   ],
   "source": [
    "import os\n",
    "os.environ[\"PYTHONHASHSEED\"] = \"13\"\n",
    "os.environ[\"CUDA_VISIBLE_DEVICES\"] = \"0:1\"\n",
    "\n",
    "import numpy as np\n",
    "import tensorflow as tf\n",
    "import random as rn\n",
    "\n",
    "# The below is necessary for starting Numpy generated random numbers\n",
    "# in a well-defined initial state.\n",
    "\n",
    "np.random.seed(13)\n",
    "\n",
    "# The below is necessary for starting core Python generated random numbers\n",
    "# in a well-defined state.\n",
    "\n",
    "rn.seed(13)\n",
    "\n",
    "# Force TensorFlow to use single thread.\n",
    "# Multiple threads are a potential source of non-reproducible results.\n",
    "# For further details, see: https://stackoverflow.com/questions/42022950/\n",
    "\n",
    "session_conf = tf.ConfigProto(intra_op_parallelism_threads=1,\n",
    "                              inter_op_parallelism_threads=1)\n",
    "\n",
    "from keras import backend as K\n",
    "\n",
    "# The below tf.set_random_seed() will make random number generation\n",
    "# in the TensorFlow backend have a well-defined initial state.\n",
    "# For further details, see:\n",
    "# https://www.tensorflow.org/api_docs/python/tf/set_random_seed\n",
    "\n",
    "tf.set_random_seed(13)\n",
    "\n",
    "sess = tf.Session(graph=tf.get_default_graph(), config=session_conf)\n",
    "K.set_session(sess)"
   ]
  },
  {
   "cell_type": "code",
   "execution_count": 5,
   "metadata": {
    "ExecuteTime": {
     "end_time": "2020-04-26T14:43:40.601809Z",
     "start_time": "2020-04-26T14:43:40.306506Z"
    },
    "_cell_guid": "b1076dfc-b9ad-4769-8c92-a6c4dae69d19",
    "_uuid": "8f2839f25d086af736a60e9eeb907d3b93b6e0e5"
   },
   "outputs": [],
   "source": [
    "import gc\n",
    "import warnings\n",
    "\n",
    "#import lightgbm as lgb\n",
    "import pandas as pd\n",
    "\n",
    "from matplotlib import pyplot as plt\n",
    "from sklearn.metrics import mean_squared_error\n",
    "from sklearn.model_selection import KFold\n",
    "from sklearn.preprocessing import LabelEncoder, MinMaxScaler, StandardScaler\n",
    "from tqdm.notebook import tqdm\n",
    "\n",
    "import keras\n",
    "from keras.models import Sequential\n",
    "from keras.layers import BatchNormalization, Dense, Dropout\n",
    "\n",
    "path_data = \"../input/ashrae-energy-prediction/\"\n",
    "path_train = path_data + \"train.csv\"\n",
    "path_test = path_data + \"test.csv\"\n",
    "path_building = path_data + \"building_metadata.csv\"\n",
    "path_weather_train = path_data + \"weather_train.csv\"\n",
    "path_weather_test = path_data + \"weather_test.csv\"\n",
    "\n",
    "myfavouritenumber = 13\n",
    "seed = myfavouritenumber\n",
    "\n",
    "warnings.filterwarnings(\"ignore\")"
   ]
  },
  {
   "cell_type": "code",
   "execution_count": 6,
   "metadata": {
    "ExecuteTime": {
     "end_time": "2020-04-26T14:43:40.608978Z",
     "start_time": "2020-04-26T14:43:40.603217Z"
    }
   },
   "outputs": [
    {
     "name": "stdout",
     "output_type": "stream",
     "text": [
      "WARNING:tensorflow:From /home/ubuntu/anaconda3/envs/tensorflow_p36/lib/python3.6/site-packages/keras/backend/tensorflow_backend.py:174: The name tf.get_default_session is deprecated. Please use tf.compat.v1.get_default_session instead.\n",
      "\n",
      "WARNING:tensorflow:From /home/ubuntu/anaconda3/envs/tensorflow_p36/lib/python3.6/site-packages/keras/backend/tensorflow_backend.py:190: The name tf.global_variables is deprecated. Please use tf.compat.v1.global_variables instead.\n",
      "\n"
     ]
    },
    {
     "data": {
      "text/plain": [
       "['/job:localhost/replica:0/task:0/device:GPU:0']"
      ]
     },
     "execution_count": 6,
     "metadata": {},
     "output_type": "execute_result"
    }
   ],
   "source": [
    "K.tensorflow_backend._get_available_gpus()"
   ]
  },
  {
   "cell_type": "code",
   "execution_count": 7,
   "metadata": {
    "ExecuteTime": {
     "end_time": "2020-04-26T14:43:40.616943Z",
     "start_time": "2020-04-26T14:43:40.610272Z"
    }
   },
   "outputs": [
    {
     "name": "stdout",
     "output_type": "stream",
     "text": [
      "[name: \"/device:CPU:0\"\n",
      "device_type: \"CPU\"\n",
      "memory_limit: 268435456\n",
      "locality {\n",
      "}\n",
      "incarnation: 5021578597200525306\n",
      ", name: \"/device:XLA_CPU:0\"\n",
      "device_type: \"XLA_CPU\"\n",
      "memory_limit: 17179869184\n",
      "locality {\n",
      "}\n",
      "incarnation: 15898309957366372341\n",
      "physical_device_desc: \"device: XLA_CPU device\"\n",
      ", name: \"/device:XLA_GPU:0\"\n",
      "device_type: \"XLA_GPU\"\n",
      "memory_limit: 17179869184\n",
      "locality {\n",
      "}\n",
      "incarnation: 14200497421349292829\n",
      "physical_device_desc: \"device: XLA_GPU device\"\n",
      ", name: \"/device:GPU:0\"\n",
      "device_type: \"GPU\"\n",
      "memory_limit: 14941647668\n",
      "locality {\n",
      "  bus_id: 1\n",
      "  links {\n",
      "  }\n",
      "}\n",
      "incarnation: 10437139698159636797\n",
      "physical_device_desc: \"device: 0, name: Tesla T4, pci bus id: 0000:00:1e.0, compute capability: 7.5\"\n",
      "]\n"
     ]
    }
   ],
   "source": [
    "from tensorflow.python.client import device_lib\n",
    "print(device_lib.list_local_devices())"
   ]
  },
  {
   "cell_type": "code",
   "execution_count": 8,
   "metadata": {
    "ExecuteTime": {
     "end_time": "2020-04-26T14:43:40.619882Z",
     "start_time": "2020-04-26T14:43:40.618178Z"
    }
   },
   "outputs": [],
   "source": [
    "site_id = 9"
   ]
  },
  {
   "cell_type": "code",
   "execution_count": 9,
   "metadata": {
    "ExecuteTime": {
     "end_time": "2020-04-26T14:44:33.015206Z",
     "start_time": "2020-04-26T14:43:40.621166Z"
    }
   },
   "outputs": [
    {
     "data": {
      "text/plain": [
       "148"
      ]
     },
     "execution_count": 9,
     "metadata": {},
     "output_type": "execute_result"
    }
   ],
   "source": [
    "df_train = pd.read_csv(path_train)\n",
    "df_test = pd.read_csv(path_test)\n",
    "\n",
    "building = pd.read_csv(path_building)\n",
    "\n",
    "weather_train = pd.read_csv(path_weather_train)\n",
    "weather_test = pd.read_csv(path_weather_test)\n",
    "\n",
    "weather_train.drop([\"sea_level_pressure\", \"wind_direction\", \"wind_speed\"], axis=1, inplace=True)\n",
    "weather_test.drop([\"sea_level_pressure\", \"wind_direction\", \"wind_speed\"], axis=1, inplace=True)\n",
    "\n",
    "weather_train = weather_train.groupby(\"site_id\").apply(lambda group: group.interpolate(limit_direction=\"both\"))\n",
    "weather_test = weather_test.groupby(\"site_id\").apply(lambda group: group.interpolate(limit_direction=\"both\"))\n",
    "\n",
    "df_train = df_train.merge(building, on=\"building_id\")\n",
    "df_test = df_test.merge(building, on=\"building_id\")\n",
    "\n",
    "df_train = df_train[df_train.site_id == site_id]\n",
    "df_test = df_test[df_test.site_id == site_id]\n",
    "\n",
    "df_train = df_train[~((df_train.meter_reading == 0) & (df_train.meter.isin([0, 1])))]\n",
    "df_train = df_train[df_train.meter == 0]\n",
    "\n",
    "df_train = df_train.merge(weather_train, on=[\"site_id\", \"timestamp\"], how=\"left\")\n",
    "df_test = df_test.merge(weather_test, on=[\"site_id\", \"timestamp\"], how=\"left\")\n",
    "\n",
    "df_train.timestamp = pd.to_datetime(df_train.timestamp, format='%Y-%m-%d %H:%M:%S')\n",
    "df_test.timestamp = pd.to_datetime(df_test.timestamp, format='%Y-%m-%d %H:%M:%S')\n",
    "\n",
    "df_train.building_id = df_train.building_id.astype(\"str\")\n",
    "df_test.building_id = df_test.building_id.astype(\"str\")\n",
    "\n",
    "df_train[\"log_meter_reading\"] = np.log1p(df_train.meter_reading)\n",
    "\n",
    "del building\n",
    "gc.collect()"
   ]
  },
  {
   "cell_type": "code",
   "execution_count": 10,
   "metadata": {
    "ExecuteTime": {
     "end_time": "2020-04-26T14:44:42.470275Z",
     "start_time": "2020-04-26T14:44:33.016769Z"
    }
   },
   "outputs": [],
   "source": [
    "df_train[\"hour\"] = df_train.timestamp.dt.hour.astype(\"str\")\n",
    "df_test[\"hour\"] = df_test.timestamp.dt.hour.astype(\"str\")\n",
    "\n",
    "df_train[\"weekday\"] = df_train.timestamp.dt.weekday.astype(\"str\")\n",
    "df_test[\"weekday\"] = df_test.timestamp.dt.weekday.astype(\"str\")\n",
    "\n",
    "df_train[\"month\"] = df_train.timestamp.dt.month.astype(\"str\")\n",
    "df_test[\"month\"] = df_test.timestamp.dt.month.astype(\"str\")"
   ]
  },
  {
   "cell_type": "code",
   "execution_count": 11,
   "metadata": {
    "ExecuteTime": {
     "end_time": "2020-04-26T14:44:42.474999Z",
     "start_time": "2020-04-26T14:44:42.471940Z"
    }
   },
   "outputs": [],
   "source": [
    "features = [\n",
    "    \"building_id\",\n",
    "    \"square_feet\",\n",
    "    \"year_built\",\n",
    "    \"floor_count\",\n",
    "    \"primary_use\",\n",
    "    \"air_temperature\",\n",
    "    \"cloud_coverage\",\n",
    "    \"dew_temperature\",\n",
    "    \"precip_depth_1_hr\",\n",
    "    \"hour\",\n",
    "    \"weekday\",\n",
    "    \"month\"\n",
    "]"
   ]
  },
  {
   "cell_type": "code",
   "execution_count": 12,
   "metadata": {
    "ExecuteTime": {
     "end_time": "2020-04-26T14:44:42.479274Z",
     "start_time": "2020-04-26T14:44:42.476391Z"
    }
   },
   "outputs": [],
   "source": [
    "def rmse(y_true, y_pred):\n",
    "    return K.sqrt(K.mean(K.square(y_pred - y_true)))"
   ]
  },
  {
   "cell_type": "code",
   "execution_count": 13,
   "metadata": {
    "ExecuteTime": {
     "end_time": "2020-04-26T14:44:42.482724Z",
     "start_time": "2020-04-26T14:44:42.480564Z"
    }
   },
   "outputs": [],
   "source": [
    "cv = 5\n",
    "folds = KFold(n_splits = cv, shuffle = False, random_state = seed)\n",
    "\n",
    "df_cv = []\n",
    "df_preds = []"
   ]
  },
  {
   "cell_type": "code",
   "execution_count": 14,
   "metadata": {
    "ExecuteTime": {
     "end_time": "2020-04-26T15:09:37.356622Z",
     "start_time": "2020-04-26T14:44:42.484021Z"
    },
    "scrolled": true
   },
   "outputs": [
    {
     "name": "stdout",
     "output_type": "stream",
     "text": [
      "Building Model for site_id 9 and meter 0\n",
      "Preparing Site: 9 , meter: 0 , Fold: 1\n",
      "WARNING:tensorflow:From /home/ubuntu/anaconda3/envs/tensorflow_p36/lib/python3.6/site-packages/keras/backend/tensorflow_backend.py:517: The name tf.placeholder is deprecated. Please use tf.compat.v1.placeholder instead.\n",
      "\n",
      "WARNING:tensorflow:From /home/ubuntu/anaconda3/envs/tensorflow_p36/lib/python3.6/site-packages/keras/backend/tensorflow_backend.py:4138: The name tf.random_uniform is deprecated. Please use tf.random.uniform instead.\n",
      "\n",
      "WARNING:tensorflow:From /home/ubuntu/anaconda3/envs/tensorflow_p36/lib/python3.6/site-packages/keras/backend/tensorflow_backend.py:133: The name tf.placeholder_with_default is deprecated. Please use tf.compat.v1.placeholder_with_default instead.\n",
      "\n",
      "WARNING:tensorflow:From /home/ubuntu/anaconda3/envs/tensorflow_p36/lib/python3.6/site-packages/keras/backend/tensorflow_backend.py:3445: calling dropout (from tensorflow.python.ops.nn_ops) with keep_prob is deprecated and will be removed in a future version.\n",
      "Instructions for updating:\n",
      "Please use `rate` instead of `keep_prob`. Rate should be set to `rate = 1 - keep_prob`.\n",
      "WARNING:tensorflow:From /home/ubuntu/anaconda3/envs/tensorflow_p36/lib/python3.6/site-packages/keras/optimizers.py:790: The name tf.train.Optimizer is deprecated. Please use tf.compat.v1.train.Optimizer instead.\n",
      "\n",
      "WARNING:tensorflow:From /home/ubuntu/anaconda3/envs/tensorflow_p36/lib/python3.6/site-packages/tensorflow_core/python/ops/math_grad.py:1424: where (from tensorflow.python.ops.array_ops) is deprecated and will be removed in a future version.\n",
      "Instructions for updating:\n",
      "Use tf.where in 2.0, which has the same broadcast rule as np.where\n",
      "WARNING:tensorflow:From /home/ubuntu/anaconda3/envs/tensorflow_p36/lib/python3.6/site-packages/keras/backend/tensorflow_backend.py:986: The name tf.assign_add is deprecated. Please use tf.compat.v1.assign_add instead.\n",
      "\n",
      "WARNING:tensorflow:From /home/ubuntu/anaconda3/envs/tensorflow_p36/lib/python3.6/site-packages/keras/backend/tensorflow_backend.py:973: The name tf.assign is deprecated. Please use tf.compat.v1.assign instead.\n",
      "\n",
      "Train on 819169 samples, validate on 204793 samples\n",
      "Epoch 1/21\n",
      "WARNING:tensorflow:From /home/ubuntu/anaconda3/envs/tensorflow_p36/lib/python3.6/site-packages/keras/backend/tensorflow_backend.py:199: The name tf.is_variable_initialized is deprecated. Please use tf.compat.v1.is_variable_initialized instead.\n",
      "\n",
      "WARNING:tensorflow:From /home/ubuntu/anaconda3/envs/tensorflow_p36/lib/python3.6/site-packages/keras/backend/tensorflow_backend.py:206: The name tf.variables_initializer is deprecated. Please use tf.compat.v1.variables_initializer instead.\n",
      "\n",
      " - 34s - loss: 1.9481 - val_loss: 0.9977\n",
      "Epoch 2/21\n",
      " - 9s - loss: 1.3210 - val_loss: 0.9799\n",
      "Epoch 3/21\n",
      " - 9s - loss: 1.2993 - val_loss: 0.9659\n",
      "Epoch 4/21\n",
      " - 9s - loss: 1.2780 - val_loss: 0.9460\n",
      "Epoch 5/21\n",
      " - 9s - loss: 1.2575 - val_loss: 0.9295\n",
      "Epoch 6/21\n",
      " - 9s - loss: 1.2395 - val_loss: 0.9213\n",
      "Epoch 7/21\n",
      " - 9s - loss: 1.2239 - val_loss: 0.9043\n",
      "Epoch 8/21\n",
      " - 9s - loss: 1.2100 - val_loss: 0.8959\n",
      "Epoch 9/21\n",
      " - 9s - loss: 1.1958 - val_loss: 0.8865\n",
      "Epoch 10/21\n",
      " - 9s - loss: 1.1829 - val_loss: 0.8885\n",
      "Epoch 11/21\n",
      " - 9s - loss: 1.1714 - val_loss: 0.8795\n",
      "Epoch 12/21\n",
      " - 9s - loss: 1.1609 - val_loss: 0.8825\n",
      "Epoch 13/21\n",
      " - 9s - loss: 1.1502 - val_loss: 0.8757\n",
      "Epoch 14/21\n",
      " - 9s - loss: 1.1418 - val_loss: 0.8713\n",
      "Epoch 15/21\n",
      " - 9s - loss: 1.1332 - val_loss: 0.8735\n",
      "Epoch 16/21\n",
      " - 9s - loss: 1.1255 - val_loss: 0.8696\n",
      "Epoch 17/21\n",
      " - 9s - loss: 1.1190 - val_loss: 0.8634\n",
      "Epoch 18/21\n",
      " - 9s - loss: 1.1129 - val_loss: 0.8650\n",
      "Epoch 19/21\n",
      " - 9s - loss: 1.1068 - val_loss: 0.8632\n",
      "Epoch 20/21\n",
      " - 9s - loss: 1.1015 - val_loss: 0.8626\n",
      "Epoch 21/21\n",
      " - 9s - loss: 1.0972 - val_loss: 0.8643\n"
     ]
    },
    {
     "data": {
      "image/png": "[encoded data removed]",
      "text/plain": [
       "<Figure size 432x288 with 1 Axes>"
      ]
     },
     "metadata": {},
     "output_type": "display_data"
    },
    {
     "name": "stdout",
     "output_type": "stream",
     "text": [
      "CPU times: user 58 s, sys: 3.39 s, total: 1min 1s\n",
      "Wall time: 46.9 s\n",
      "Preparing Site: 9 , meter: 0 , Fold: 2\n",
      "Train on 819169 samples, validate on 204793 samples\n",
      "Epoch 1/21\n",
      " - 10s - loss: 1.8518 - val_loss: 0.9931\n",
      "Epoch 2/21\n",
      " - 9s - loss: 1.3248 - val_loss: 0.9585\n",
      "Epoch 3/21\n",
      " - 9s - loss: 1.3015 - val_loss: 0.9520\n",
      "Epoch 4/21\n",
      " - 9s - loss: 1.2811 - val_loss: 0.9270\n",
      "Epoch 5/21\n",
      " - 9s - loss: 1.2629 - val_loss: 0.9146\n",
      "Epoch 6/21\n",
      " - 9s - loss: 1.2462 - val_loss: 0.9040\n",
      "Epoch 7/21\n",
      " - 9s - loss: 1.2324 - val_loss: 0.9073\n",
      "Epoch 8/21\n",
      " - 9s - loss: 1.2185 - val_loss: 0.9034\n",
      "Epoch 9/21\n",
      " - 9s - loss: 1.2043 - val_loss: 0.8867\n",
      "Epoch 10/21\n",
      " - 9s - loss: 1.1935 - val_loss: 0.8889\n",
      "Epoch 11/21\n",
      " - 9s - loss: 1.1820 - val_loss: 0.8822\n",
      "Epoch 12/21\n",
      " - 9s - loss: 1.1732 - val_loss: 0.8818\n",
      "Epoch 13/21\n",
      " - 9s - loss: 1.1629 - val_loss: 0.8701\n",
      "Epoch 14/21\n",
      " - 9s - loss: 1.1551 - val_loss: 0.8829\n",
      "Epoch 15/21\n",
      " - 9s - loss: 1.1477 - val_loss: 0.8710\n",
      "Epoch 16/21\n",
      " - 9s - loss: 1.1410 - val_loss: 0.8672\n",
      "Epoch 17/21\n",
      " - 9s - loss: 1.1344 - val_loss: 0.8561\n",
      "Epoch 18/21\n",
      " - 9s - loss: 1.1279 - val_loss: 0.8683\n",
      "Epoch 19/21\n",
      " - 9s - loss: 1.1224 - val_loss: 0.8573\n",
      "Epoch 20/21\n",
      " - 9s - loss: 1.1180 - val_loss: 0.8670\n",
      "Epoch 21/21\n",
      " - 9s - loss: 1.1136 - val_loss: 0.8602\n"
     ]
    },
    {
     "data": {
      "image/png": "[encoded data removed]",
      "text/plain": [
       "<Figure size 432x288 with 1 Axes>"
      ]
     },
     "metadata": {},
     "output_type": "display_data"
    },
    {
     "name": "stdout",
     "output_type": "stream",
     "text": [
      "CPU times: user 59.4 s, sys: 3.64 s, total: 1min 3s\n",
      "Wall time: 48.6 s\n",
      "Preparing Site: 9 , meter: 0 , Fold: 3\n",
      "Train on 819170 samples, validate on 204792 samples\n",
      "Epoch 1/21\n",
      " - 10s - loss: 1.7635 - val_loss: 1.4452\n",
      "Epoch 2/21\n",
      " - 9s - loss: 1.2168 - val_loss: 1.4055\n",
      "Epoch 3/21\n",
      " - 9s - loss: 1.1868 - val_loss: 1.3778\n",
      "Epoch 4/21\n",
      " - 9s - loss: 1.1605 - val_loss: 1.3445\n",
      "Epoch 5/21\n",
      " - 9s - loss: 1.1372 - val_loss: 1.3307\n",
      "Epoch 6/21\n",
      " - 9s - loss: 1.1161 - val_loss: 1.3205\n",
      "Epoch 7/21\n",
      " - 9s - loss: 1.0965 - val_loss: 1.3014\n",
      "Epoch 8/21\n",
      " - 9s - loss: 1.0789 - val_loss: 1.2880\n",
      "Epoch 9/21\n",
      " - 9s - loss: 1.0620 - val_loss: 1.2738\n",
      "Epoch 10/21\n",
      " - 9s - loss: 1.0475 - val_loss: 1.2693\n",
      "Epoch 11/21\n",
      " - 9s - loss: 1.0336 - val_loss: 1.2776\n",
      "Epoch 12/21\n",
      " - 9s - loss: 1.0219 - val_loss: 1.2695\n",
      "Epoch 13/21\n",
      " - 9s - loss: 1.0110 - val_loss: 1.2674\n",
      "Epoch 14/21\n",
      " - 9s - loss: 1.0013 - val_loss: 1.2659\n",
      "Epoch 15/21\n",
      " - 9s - loss: 0.9920 - val_loss: 1.2648\n",
      "Epoch 16/21\n",
      " - 9s - loss: 0.9834 - val_loss: 1.2627\n",
      "Epoch 17/21\n",
      " - 9s - loss: 0.9758 - val_loss: 1.2714\n",
      "Epoch 18/21\n",
      " - 9s - loss: 0.9690 - val_loss: 1.2754\n",
      "Epoch 19/21\n",
      " - 9s - loss: 0.9636 - val_loss: 1.2748\n",
      "Epoch 20/21\n",
      " - 9s - loss: 0.9580 - val_loss: 1.2799\n",
      "Epoch 21/21\n",
      " - 9s - loss: 0.9531 - val_loss: 1.2787\n"
     ]
    },
    {
     "data": {
      "image/png": "[encoded data removed]",
      "text/plain": [
       "<Figure size 432x288 with 1 Axes>"
      ]
     },
     "metadata": {},
     "output_type": "display_data"
    },
    {
     "name": "stdout",
     "output_type": "stream",
     "text": [
      "CPU times: user 1min 2s, sys: 3.73 s, total: 1min 6s\n",
      "Wall time: 52 s\n",
      "Preparing Site: 9 , meter: 0 , Fold: 4\n",
      "Train on 819170 samples, validate on 204792 samples\n",
      "Epoch 1/21\n",
      " - 10s - loss: 1.8691 - val_loss: 1.1440\n",
      "Epoch 2/21\n",
      " - 9s - loss: 1.3225 - val_loss: 1.1000\n",
      "Epoch 3/21\n",
      " - 9s - loss: 1.2985 - val_loss: 1.0864\n",
      "Epoch 4/21\n",
      " - 9s - loss: 1.2779 - val_loss: 1.0358\n",
      "Epoch 5/21\n",
      " - 9s - loss: 1.2585 - val_loss: 1.0363\n",
      "Epoch 6/21\n",
      " - 9s - loss: 1.2425 - val_loss: 1.0092\n",
      "Epoch 7/21\n",
      " - 9s - loss: 1.2254 - val_loss: 1.0052\n",
      "Epoch 8/21\n",
      " - 9s - loss: 1.2108 - val_loss: 1.0013\n",
      "Epoch 9/21\n",
      " - 9s - loss: 1.1987 - val_loss: 0.9984\n",
      "Epoch 10/21\n",
      " - 9s - loss: 1.1865 - val_loss: 0.9850\n",
      "Epoch 11/21\n",
      " - 9s - loss: 1.1756 - val_loss: 0.9673\n",
      "Epoch 12/21\n",
      " - 9s - loss: 1.1644 - val_loss: 0.9655\n",
      "Epoch 13/21\n",
      " - 9s - loss: 1.1549 - val_loss: 0.9761\n",
      "Epoch 14/21\n",
      " - 9s - loss: 1.1463 - val_loss: 0.9683\n",
      "Epoch 15/21\n",
      " - 9s - loss: 1.1379 - val_loss: 0.9577\n",
      "Epoch 16/21\n",
      " - 9s - loss: 1.1303 - val_loss: 0.9645\n",
      "Epoch 17/21\n",
      " - 9s - loss: 1.1242 - val_loss: 0.9689\n",
      "Epoch 18/21\n",
      " - 9s - loss: 1.1176 - val_loss: 0.9564\n",
      "Epoch 19/21\n",
      " - 9s - loss: 1.1111 - val_loss: 0.9631\n",
      "Epoch 20/21\n",
      " - 9s - loss: 1.1065 - val_loss: 0.9712\n",
      "Epoch 21/21\n",
      " - 9s - loss: 1.1015 - val_loss: 0.9743\n"
     ]
    },
    {
     "data": {
      "image/png": "[encoded data removed]",
      "text/plain": [
       "<Figure size 432x288 with 1 Axes>"
      ]
     },
     "metadata": {},
     "output_type": "display_data"
    },
    {
     "name": "stdout",
     "output_type": "stream",
     "text": [
      "CPU times: user 1min 4s, sys: 3.5 s, total: 1min 8s\n",
      "Wall time: 53.9 s\n",
      "Preparing Site: 9 , meter: 0 , Fold: 5\n",
      "Train on 819170 samples, validate on 204792 samples\n",
      "Epoch 1/21\n",
      " - 11s - loss: 1.9019 - val_loss: 0.8887\n",
      "Epoch 2/21\n",
      " - 9s - loss: 1.3665 - val_loss: 0.8697\n",
      "Epoch 3/21\n",
      " - 9s - loss: 1.3437 - val_loss: 0.8307\n",
      "Epoch 4/21\n",
      " - 9s - loss: 1.3243 - val_loss: 0.8094\n",
      "Epoch 5/21\n",
      " - 9s - loss: 1.3056 - val_loss: 0.7912\n",
      "Epoch 6/21\n",
      " - 9s - loss: 1.2891 - val_loss: 0.7895\n",
      "Epoch 7/21\n",
      " - 9s - loss: 1.2747 - val_loss: 0.7850\n",
      "Epoch 8/21\n",
      " - 9s - loss: 1.2608 - val_loss: 0.7926\n",
      "Epoch 9/21\n",
      " - 9s - loss: 1.2467 - val_loss: 0.7846\n",
      "Epoch 10/21\n",
      " - 9s - loss: 1.2341 - val_loss: 0.7959\n",
      "Epoch 11/21\n",
      " - 9s - loss: 1.2230 - val_loss: 0.7940\n",
      "Epoch 12/21\n",
      " - 9s - loss: 1.2127 - val_loss: 0.7842\n",
      "Epoch 13/21\n",
      " - 9s - loss: 1.2029 - val_loss: 0.7897\n",
      "Epoch 14/21\n",
      " - 9s - loss: 1.1939 - val_loss: 0.7947\n",
      "Epoch 15/21\n",
      " - 9s - loss: 1.1858 - val_loss: 0.7843\n",
      "Epoch 16/21\n",
      " - 9s - loss: 1.1775 - val_loss: 0.7983\n",
      "Epoch 17/21\n",
      " - 9s - loss: 1.1710 - val_loss: 0.7905\n",
      "Epoch 18/21\n",
      " - 9s - loss: 1.1642 - val_loss: 0.7880\n",
      "Epoch 19/21\n",
      " - 9s - loss: 1.1585 - val_loss: 0.7984\n",
      "Epoch 20/21\n",
      " - 9s - loss: 1.1533 - val_loss: 0.7990\n",
      "Epoch 21/21\n",
      " - 9s - loss: 1.1478 - val_loss: 0.7880\n"
     ]
    },
    {
     "data": {
      "image/png": "[encoded data removed]",
      "text/plain": [
       "<Figure size 432x288 with 1 Axes>"
      ]
     },
     "metadata": {},
     "output_type": "display_data"
    },
    {
     "name": "stdout",
     "output_type": "stream",
     "text": [
      "CPU times: user 1min 13s, sys: 5.07 s, total: 1min 18s\n",
      "Wall time: 1min 7s\n",
      "\n",
      "CV RMSE for Site: 9 and Meter: 0 is 1.1121915739395294\n",
      "\n",
      "CV RMSE for Site: 9 is 1.1121915739395294\n"
     ]
    }
   ],
   "source": [
    "for meter in df_train.meter.unique():\n",
    "    print(\"Building Model for site_id\", site_id, \"and meter\", meter)\n",
    "        \n",
    "    df_train_site_meter = df_train[df_train.meter == meter].reset_index(drop=True)\n",
    "    df_test_site_meter = df_test[df_test.meter == meter].reset_index(drop=True)\n",
    "    \n",
    "    pred_val = np.zeros(df_train_site_meter.shape[0])\n",
    "    pred_test = np.zeros(df_test_site_meter.shape[0])\n",
    "\n",
    "    row_ids_test = df_test_site_meter.row_id\n",
    "    y_train_site_meter = df_train_site_meter.log_meter_reading.values\n",
    "    \n",
    "    df_train_site_meter = df_train_site_meter[features]\n",
    "    df_test_site_meter = df_test_site_meter[features]\n",
    "\n",
    "    df_train_site_meter = pd.get_dummies(df_train_site_meter)\n",
    "    df_test_site_meter = pd.get_dummies(df_test_site_meter)\n",
    "        \n",
    "    for k, (train_idx, valid_idx) in enumerate(folds.split(df_train_site_meter, y_train_site_meter)):\n",
    "        print(\"Preparing Site:\", site_id, \", meter:\", meter, \", Fold:\", k+1)\n",
    "        \n",
    "        X_train, y_train = df_train_site_meter.iloc[train_idx], y_train_site_meter[train_idx]\n",
    "        X_valid, y_valid = df_train_site_meter.iloc[valid_idx], y_train_site_meter[valid_idx]\n",
    "        \n",
    "        X_train.dropna(axis=1, how=\"all\", inplace=True)\n",
    "        X_train = X_train.loc[:, (X_train != X_train.iloc[0]).any()]\n",
    "\n",
    "        X_valid = X_valid[X_train.columns]\n",
    "        X_test = df_test_site_meter[X_train.columns]\n",
    "        \n",
    "        df_means = pd.concat([X_train, X_valid, X_test], ignore_index=True).mean()\n",
    "        X_train.fillna(df_means, inplace=True)\n",
    "        X_valid.fillna(df_means, inplace=True)\n",
    "        X_test.fillna(df_means, inplace=True)\n",
    "        \n",
    "        sc = MinMaxScaler()\n",
    "        sc.fit(pd.concat([X_train, X_valid, X_test], ignore_index=True))\n",
    "        \n",
    "        X_train = np.array(sc.transform(X_train))\n",
    "        X_valid = np.array(sc.transform(X_valid))\n",
    "        X_test = np.array(sc.transform(X_test))\n",
    "        \n",
    "        model = Sequential()\n",
    "        model.add(Dense(256, input_dim=X_train.shape[1], activation=\"relu\", kernel_initializer=keras.initializers.glorot_uniform(seed=seed)))\n",
    "        model.add(BatchNormalization())\n",
    "        model.add(Dropout(0.2))\n",
    "        model.add(Dense(64, activation=\"tanh\", kernel_initializer=keras.initializers.glorot_uniform(seed=seed)))\n",
    "        model.add(BatchNormalization())\n",
    "        model.add(Dropout(0.2))\n",
    "        model.add(Dense(8, activation=\"tanh\", kernel_initializer=keras.initializers.glorot_uniform(seed=seed)))\n",
    "        model.add(BatchNormalization())\n",
    "        model.add(Dropout(0.2))\n",
    "        model.add(Dense(1))\n",
    "        model.compile(loss=rmse, optimizer=\"adam\")\n",
    "        \n",
    "        model_ffnn = model.fit(X_train, y_train, epochs=21, batch_size=500, validation_data=(X_valid, y_valid), verbose=2, shuffle=False)\n",
    "\n",
    "        plt.plot(model_ffnn.history[\"loss\"])\n",
    "        plt.plot(model_ffnn.history[\"val_loss\"])\n",
    "        plt.title(\"Loss for Site: \" + str(site_id) + \", Meter: \" + str(meter) + \", Fold: \" + str(k+1))\n",
    "        plt.ylabel(\"rmse\")\n",
    "        plt.xlabel(\"Epoch\")\n",
    "        plt.legend([\"train\", \"valid\"], loc=\"upper right\")\n",
    "        plt.show()\n",
    "        \n",
    "        pred_val[valid_idx] = model.predict(X_valid).ravel()\n",
    "        %time pred_test += model.predict(X_test).ravel() / cv\n",
    "        \n",
    "        gc.collect()\n",
    "        \n",
    "    df_valid = pd.DataFrame({\"site_id\": site_id, \"meter\": meter, \"meter_reading\": np.expm1(y_train_site_meter), \"pred_ffnn\": np.clip(np.expm1(pred_val), 0, a_max=None)})\n",
    "    df_pred = pd.DataFrame({\"row_id\": row_ids_test, \"meter_reading\": np.clip(np.expm1(pred_test), 0, a_max=None)})\n",
    "    \n",
    "    df_cv.append(df_valid)\n",
    "    df_preds.append(df_pred)\n",
    "    \n",
    "    gc.collect()\n",
    "    \n",
    "    print(\"\\nCV RMSE for Site:\", site_id, \"and Meter:\", meter, \"is\", np.sqrt(mean_squared_error(np.log1p(df_valid.meter_reading), np.log1p(df_valid.pred_ffnn))))\n",
    "\n",
    "df_cv = pd.concat(df_cv)\n",
    "print(\"\\nCV RMSE for Site:\", site_id, \"is\", np.sqrt(mean_squared_error(np.log1p(df_cv.meter_reading), np.log1p(df_cv.pred_ffnn))))\n"
   ]
  },
  {
   "cell_type": "code",
   "execution_count": 15,
   "metadata": {
    "ExecuteTime": {
     "end_time": "2020-04-26T15:09:43.703547Z",
     "start_time": "2020-04-26T15:09:37.358589Z"
    }
   },
   "outputs": [],
   "source": [
    "df_preds = pd.concat(df_preds)\n",
    "df_preds.to_csv(\"../sub/ffnn_pred_site_\" + str(site_id) + \".csv\", index=False)"
   ]
  }
 ],
 "metadata": {
  "kernelspec": {
   "display_name": "Python 3",
   "language": "python",
   "name": "python3"
  },
  "language_info": {
   "codemirror_mode": {
    "name": "ipython",
    "version": 3
   },
   "file_extension": ".py",
   "mimetype": "text/x-python",
   "name": "python",
   "nbconvert_exporter": "python",
   "pygments_lexer": "ipython3",
   "version": "3.6.6"
  }
 },
 "nbformat": 4,
 "nbformat_minor": 1
}
