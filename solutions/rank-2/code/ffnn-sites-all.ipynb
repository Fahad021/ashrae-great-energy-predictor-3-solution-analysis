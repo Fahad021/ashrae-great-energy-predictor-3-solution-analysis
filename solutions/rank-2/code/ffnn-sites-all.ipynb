{
 "cells": [
  {
   "cell_type": "code",
   "execution_count": 1,
   "metadata": {
    "ExecuteTime": {
     "end_time": "2020-04-26T15:46:38.494168Z",
     "start_time": "2020-04-26T15:46:38.239837Z"
    },
    "_cell_guid": "b1076dfc-b9ad-4769-8c92-a6c4dae69d19",
    "_uuid": "8f2839f25d086af736a60e9eeb907d3b93b6e0e5"
   },
   "outputs": [],
   "source": [
    "import pandas as pd"
   ]
  },
  {
   "cell_type": "code",
   "execution_count": 2,
   "metadata": {
    "ExecuteTime": {
     "end_time": "2020-04-26T15:46:42.738315Z",
     "start_time": "2020-04-26T15:46:38.495719Z"
    },
    "_cell_guid": "79c7e3d0-c299-4dcb-8224-4455121ee9b0",
    "_uuid": "d629ff2d2480ee46fbb7e2d37f6b5fab8052498a"
   },
   "outputs": [],
   "source": [
    "ffnn_site_3 = pd.read_csv(\"../sub/ffnn_pred_site_3.csv\")\n",
    "ffnn_site_5 = pd.read_csv(\"../sub/ffnn_pred_site_5.csv\")\n",
    "ffnn_site_6 = pd.read_csv(\"../sub/ffnn_pred_site_6.csv\")\n",
    "ffnn_site_7 = pd.read_csv(\"../sub/ffnn_pred_site_7.csv\")\n",
    "ffnn_site_8 = pd.read_csv(\"../sub/ffnn_pred_site_8.csv\")\n",
    "ffnn_site_9 = pd.read_csv(\"../sub/ffnn_pred_site_9.csv\")\n",
    "ffnn_site_10 = pd.read_csv(\"../sub/ffnn_pred_site_10.csv\")\n",
    "ffnn_site_11 = pd.read_csv(\"../sub/ffnn_pred_site_11.csv\")\n",
    "ffnn_site_12 = pd.read_csv(\"../sub/ffnn_pred_site_12.csv\")\n",
    "ffnn_site_13 = pd.read_csv(\"../sub/ffnn_pred_site_13.csv\")"
   ]
  },
  {
   "cell_type": "code",
   "execution_count": 3,
   "metadata": {
    "ExecuteTime": {
     "end_time": "2020-04-26T15:46:42.820348Z",
     "start_time": "2020-04-26T15:46:42.739946Z"
    }
   },
   "outputs": [],
   "source": [
    "ffnn = pd.concat([ffnn_site_3, ffnn_site_5, ffnn_site_6, ffnn_site_7, ffnn_site_8, ffnn_site_9, ffnn_site_10, ffnn_site_11, ffnn_site_12, ffnn_site_13])"
   ]
  },
  {
   "cell_type": "code",
   "execution_count": 4,
   "metadata": {
    "ExecuteTime": {
     "end_time": "2020-04-26T15:47:25.507537Z",
     "start_time": "2020-04-26T15:46:42.822009Z"
    }
   },
   "outputs": [],
   "source": [
    "ffnn.to_csv(\"../sub/ffnn.csv\", index = False)"
   ]
  }
 ],
 "metadata": {
  "kernelspec": {
   "display_name": "Python 3",
   "language": "python",
   "name": "python3"
  },
  "language_info": {
   "codemirror_mode": {
    "name": "ipython",
    "version": 3
   },
   "file_extension": ".py",
   "mimetype": "text/x-python",
   "name": "python",
   "nbconvert_exporter": "python",
   "pygments_lexer": "ipython3",
   "version": "3.6.6"
  }
 },
 "nbformat": 4,
 "nbformat_minor": 1
}
