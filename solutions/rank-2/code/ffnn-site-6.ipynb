{
 "cells": [
  {
   "cell_type": "code",
   "execution_count": 5,
   "metadata": {
    "ExecuteTime": {
     "end_time": "2020-04-26T14:07:42.984389Z",
     "start_time": "2020-04-26T14:07:42.982371Z"
    }
   },
   "outputs": [],
   "source": [
    "#!pip install tensorflow==1.14.0"
   ]
  },
  {
   "cell_type": "code",
   "execution_count": 6,
   "metadata": {
    "ExecuteTime": {
     "end_time": "2020-04-26T14:07:42.987870Z",
     "start_time": "2020-04-26T14:07:42.985907Z"
    }
   },
   "outputs": [],
   "source": [
    "#!pip install keras==2.2.5"
   ]
  },
  {
   "cell_type": "code",
   "execution_count": 7,
   "metadata": {
    "ExecuteTime": {
     "end_time": "2020-04-26T14:07:42.999452Z",
     "start_time": "2020-04-26T14:07:42.991221Z"
    }
   },
   "outputs": [],
   "source": [
    "import os\n",
    "os.environ[\"PYTHONHASHSEED\"] = \"13\"\n",
    "os.environ[\"CUDA_VISIBLE_DEVICES\"] = \"0:1\"\n",
    "\n",
    "import numpy as np\n",
    "import tensorflow as tf\n",
    "import random as rn\n",
    "\n",
    "# The below is necessary for starting Numpy generated random numbers\n",
    "# in a well-defined initial state.\n",
    "\n",
    "np.random.seed(13)\n",
    "\n",
    "# The below is necessary for starting core Python generated random numbers\n",
    "# in a well-defined state.\n",
    "\n",
    "rn.seed(13)\n",
    "\n",
    "# Force TensorFlow to use single thread.\n",
    "# Multiple threads are a potential source of non-reproducible results.\n",
    "# For further details, see: https://stackoverflow.com/questions/42022950/\n",
    "\n",
    "session_conf = tf.ConfigProto(intra_op_parallelism_threads=1,\n",
    "                              inter_op_parallelism_threads=1)\n",
    "\n",
    "from keras import backend as K\n",
    "\n",
    "# The below tf.set_random_seed() will make random number generation\n",
    "# in the TensorFlow backend have a well-defined initial state.\n",
    "# For further details, see:\n",
    "# https://www.tensorflow.org/api_docs/python/tf/set_random_seed\n",
    "\n",
    "tf.set_random_seed(13)\n",
    "\n",
    "sess = tf.Session(graph=tf.get_default_graph(), config=session_conf)\n",
    "K.set_session(sess)"
   ]
  },
  {
   "cell_type": "code",
   "execution_count": 8,
   "metadata": {
    "ExecuteTime": {
     "end_time": "2020-04-26T14:07:43.112403Z",
     "start_time": "2020-04-26T14:07:43.000777Z"
    },
    "_cell_guid": "b1076dfc-b9ad-4769-8c92-a6c4dae69d19",
    "_uuid": "8f2839f25d086af736a60e9eeb907d3b93b6e0e5"
   },
   "outputs": [],
   "source": [
    "import gc\n",
    "import warnings\n",
    "\n",
    "#import lightgbm as lgb\n",
    "import pandas as pd\n",
    "\n",
    "from matplotlib import pyplot as plt\n",
    "from sklearn.metrics import mean_squared_error\n",
    "from sklearn.model_selection import KFold\n",
    "from sklearn.preprocessing import LabelEncoder, MinMaxScaler, StandardScaler\n",
    "from tqdm.notebook import tqdm\n",
    "\n",
    "import keras\n",
    "from keras.models import Sequential\n",
    "from keras.layers import BatchNormalization, Dense, Dropout\n",
    "\n",
    "path_data = \"../input/ashrae-energy-prediction/\"\n",
    "path_train = path_data + \"train.csv\"\n",
    "path_test = path_data + \"test.csv\"\n",
    "path_building = path_data + \"building_metadata.csv\"\n",
    "path_weather_train = path_data + \"weather_train.csv\"\n",
    "path_weather_test = path_data + \"weather_test.csv\"\n",
    "\n",
    "myfavouritenumber = 13\n",
    "seed = myfavouritenumber\n",
    "\n",
    "warnings.filterwarnings(\"ignore\")"
   ]
  },
  {
   "cell_type": "code",
   "execution_count": 9,
   "metadata": {
    "ExecuteTime": {
     "end_time": "2020-04-26T14:07:43.115499Z",
     "start_time": "2020-04-26T14:07:43.113887Z"
    }
   },
   "outputs": [],
   "source": [
    "site_id = 6"
   ]
  },
  {
   "cell_type": "code",
   "execution_count": 10,
   "metadata": {
    "ExecuteTime": {
     "end_time": "2020-04-26T14:08:31.881217Z",
     "start_time": "2020-04-26T14:07:43.116870Z"
    }
   },
   "outputs": [
    {
     "data": {
      "text/plain": [
       "126"
      ]
     },
     "execution_count": 10,
     "metadata": {},
     "output_type": "execute_result"
    }
   ],
   "source": [
    "df_train = pd.read_csv(path_train)\n",
    "df_test = pd.read_csv(path_test)\n",
    "\n",
    "building = pd.read_csv(path_building)\n",
    "\n",
    "weather_train = pd.read_csv(path_weather_train)\n",
    "weather_test = pd.read_csv(path_weather_test)\n",
    "\n",
    "weather_train.drop([\"sea_level_pressure\", \"wind_direction\", \"wind_speed\"], axis=1, inplace=True)\n",
    "weather_test.drop([\"sea_level_pressure\", \"wind_direction\", \"wind_speed\"], axis=1, inplace=True)\n",
    "\n",
    "weather_train = weather_train.groupby(\"site_id\").apply(lambda group: group.interpolate(limit_direction=\"both\"))\n",
    "weather_test = weather_test.groupby(\"site_id\").apply(lambda group: group.interpolate(limit_direction=\"both\"))\n",
    "\n",
    "df_train = df_train.merge(building, on=\"building_id\")\n",
    "df_test = df_test.merge(building, on=\"building_id\")\n",
    "\n",
    "df_train = df_train[df_train.site_id == site_id]\n",
    "df_test = df_test[df_test.site_id == site_id]\n",
    "\n",
    "df_train = df_train[~((df_train.meter_reading == 0) & (df_train.meter == 0))]\n",
    "df_train = df_train[~((df_train.building_id == 761) & (df_train.timestamp < \"2016-09-02\"))]\n",
    "\n",
    "df_train = df_train[df_train.meter == 0]\n",
    "\n",
    "df_train = df_train.merge(weather_train, on=[\"site_id\", \"timestamp\"], how=\"left\")\n",
    "df_test = df_test.merge(weather_test, on=[\"site_id\", \"timestamp\"], how=\"left\")\n",
    "\n",
    "df_train.timestamp = pd.to_datetime(df_train.timestamp, format='%Y-%m-%d %H:%M:%S')\n",
    "df_test.timestamp = pd.to_datetime(df_test.timestamp, format='%Y-%m-%d %H:%M:%S')\n",
    "\n",
    "df_train.building_id = df_train.building_id.astype(\"str\")\n",
    "df_test.building_id = df_test.building_id.astype(\"str\")\n",
    "\n",
    "df_train[\"log_meter_reading\"] = np.log1p(df_train.meter_reading)\n",
    "\n",
    "del building\n",
    "gc.collect()"
   ]
  },
  {
   "cell_type": "code",
   "execution_count": 11,
   "metadata": {
    "ExecuteTime": {
     "end_time": "2020-04-26T14:08:34.449711Z",
     "start_time": "2020-04-26T14:08:31.882758Z"
    }
   },
   "outputs": [],
   "source": [
    "df_train[\"hour\"] = df_train.timestamp.dt.hour.astype(\"str\")\n",
    "df_test[\"hour\"] = df_test.timestamp.dt.hour.astype(\"str\")\n",
    "\n",
    "df_train[\"weekday\"] = df_train.timestamp.dt.weekday.astype(\"str\")\n",
    "df_test[\"weekday\"] = df_test.timestamp.dt.weekday.astype(\"str\")\n",
    "\n",
    "df_train[\"month\"] = df_train.timestamp.dt.month.astype(\"str\")\n",
    "df_test[\"month\"] = df_test.timestamp.dt.month.astype(\"str\")"
   ]
  },
  {
   "cell_type": "code",
   "execution_count": 12,
   "metadata": {
    "ExecuteTime": {
     "end_time": "2020-04-26T14:08:34.454319Z",
     "start_time": "2020-04-26T14:08:34.451290Z"
    }
   },
   "outputs": [],
   "source": [
    "features = [\n",
    "    \"building_id\",\n",
    "    \"square_feet\",\n",
    "    \"year_built\",\n",
    "    \"floor_count\",\n",
    "    \"primary_use\",\n",
    "    \"air_temperature\",\n",
    "    \"cloud_coverage\",\n",
    "    \"dew_temperature\",\n",
    "    \"precip_depth_1_hr\",\n",
    "    \"hour\",\n",
    "    \"weekday\",\n",
    "    \"month\"\n",
    "]"
   ]
  },
  {
   "cell_type": "code",
   "execution_count": 13,
   "metadata": {
    "ExecuteTime": {
     "end_time": "2020-04-26T14:08:34.458776Z",
     "start_time": "2020-04-26T14:08:34.455681Z"
    }
   },
   "outputs": [],
   "source": [
    "def rmse(y_true, y_pred):\n",
    "    return K.sqrt(K.mean(K.square(y_pred - y_true)))"
   ]
  },
  {
   "cell_type": "code",
   "execution_count": 14,
   "metadata": {
    "ExecuteTime": {
     "end_time": "2020-04-26T14:08:34.462492Z",
     "start_time": "2020-04-26T14:08:34.460180Z"
    }
   },
   "outputs": [],
   "source": [
    "cv = 4\n",
    "folds = KFold(n_splits = cv, shuffle = False, random_state = seed)\n",
    "\n",
    "df_cv = []\n",
    "df_preds = []"
   ]
  },
  {
   "cell_type": "code",
   "execution_count": 15,
   "metadata": {
    "ExecuteTime": {
     "end_time": "2020-04-26T14:14:07.001345Z",
     "start_time": "2020-04-26T14:08:34.463833Z"
    },
    "scrolled": true
   },
   "outputs": [
    {
     "name": "stdout",
     "output_type": "stream",
     "text": [
      "Building Model for site_id 6 and meter 0\n",
      "Preparing Site: 6 , meter: 0 , Fold: 1\n",
      "WARNING:tensorflow:From /home/ubuntu/anaconda3/envs/tensorflow_p36/lib/python3.6/site-packages/keras/backend/tensorflow_backend.py:517: The name tf.placeholder is deprecated. Please use tf.compat.v1.placeholder instead.\n",
      "\n",
      "WARNING:tensorflow:From /home/ubuntu/anaconda3/envs/tensorflow_p36/lib/python3.6/site-packages/keras/backend/tensorflow_backend.py:4138: The name tf.random_uniform is deprecated. Please use tf.random.uniform instead.\n",
      "\n",
      "WARNING:tensorflow:From /home/ubuntu/anaconda3/envs/tensorflow_p36/lib/python3.6/site-packages/keras/backend/tensorflow_backend.py:133: The name tf.placeholder_with_default is deprecated. Please use tf.compat.v1.placeholder_with_default instead.\n",
      "\n",
      "WARNING:tensorflow:From /home/ubuntu/anaconda3/envs/tensorflow_p36/lib/python3.6/site-packages/keras/backend/tensorflow_backend.py:3445: calling dropout (from tensorflow.python.ops.nn_ops) with keep_prob is deprecated and will be removed in a future version.\n",
      "Instructions for updating:\n",
      "Please use `rate` instead of `keep_prob`. Rate should be set to `rate = 1 - keep_prob`.\n",
      "WARNING:tensorflow:From /home/ubuntu/anaconda3/envs/tensorflow_p36/lib/python3.6/site-packages/keras/optimizers.py:790: The name tf.train.Optimizer is deprecated. Please use tf.compat.v1.train.Optimizer instead.\n",
      "\n",
      "WARNING:tensorflow:From /home/ubuntu/anaconda3/envs/tensorflow_p36/lib/python3.6/site-packages/tensorflow_core/python/ops/math_grad.py:1424: where (from tensorflow.python.ops.array_ops) is deprecated and will be removed in a future version.\n",
      "Instructions for updating:\n",
      "Use tf.where in 2.0, which has the same broadcast rule as np.where\n",
      "WARNING:tensorflow:From /home/ubuntu/anaconda3/envs/tensorflow_p36/lib/python3.6/site-packages/keras/backend/tensorflow_backend.py:986: The name tf.assign_add is deprecated. Please use tf.compat.v1.assign_add instead.\n",
      "\n",
      "WARNING:tensorflow:From /home/ubuntu/anaconda3/envs/tensorflow_p36/lib/python3.6/site-packages/keras/backend/tensorflow_backend.py:973: The name tf.assign is deprecated. Please use tf.compat.v1.assign instead.\n",
      "\n",
      "Train on 232137 samples, validate on 77380 samples\n",
      "Epoch 1/31\n",
      "WARNING:tensorflow:From /home/ubuntu/anaconda3/envs/tensorflow_p36/lib/python3.6/site-packages/keras/backend/tensorflow_backend.py:174: The name tf.get_default_session is deprecated. Please use tf.compat.v1.get_default_session instead.\n",
      "\n",
      "WARNING:tensorflow:From /home/ubuntu/anaconda3/envs/tensorflow_p36/lib/python3.6/site-packages/keras/backend/tensorflow_backend.py:190: The name tf.global_variables is deprecated. Please use tf.compat.v1.global_variables instead.\n",
      "\n",
      "WARNING:tensorflow:From /home/ubuntu/anaconda3/envs/tensorflow_p36/lib/python3.6/site-packages/keras/backend/tensorflow_backend.py:199: The name tf.is_variable_initialized is deprecated. Please use tf.compat.v1.is_variable_initialized instead.\n",
      "\n",
      "WARNING:tensorflow:From /home/ubuntu/anaconda3/envs/tensorflow_p36/lib/python3.6/site-packages/keras/backend/tensorflow_backend.py:206: The name tf.variables_initializer is deprecated. Please use tf.compat.v1.variables_initializer instead.\n",
      "\n",
      " - 16s - loss: 4.6677 - val_loss: 3.0945\n",
      "Epoch 2/31\n",
      " - 1s - loss: 3.8035 - val_loss: 1.9297\n",
      "Epoch 3/31\n",
      " - 1s - loss: 2.5759 - val_loss: 0.6786\n",
      "Epoch 4/31\n",
      " - 1s - loss: 1.7227 - val_loss: 0.9027\n",
      "Epoch 5/31\n",
      " - 1s - loss: 1.6222 - val_loss: 1.0819\n",
      "Epoch 6/31\n",
      " - 1s - loss: 1.6061 - val_loss: 1.1213\n",
      "Epoch 7/31\n",
      " - 1s - loss: 1.5911 - val_loss: 1.1337\n",
      "Epoch 8/31\n",
      " - 1s - loss: 1.5736 - val_loss: 1.1386\n",
      "Epoch 9/31\n",
      " - 1s - loss: 1.5395 - val_loss: 1.1441\n",
      "Epoch 10/31\n",
      " - 1s - loss: 1.5172 - val_loss: 1.1468\n",
      "Epoch 11/31\n",
      " - 1s - loss: 1.4893 - val_loss: 1.1504\n",
      "Epoch 12/31\n",
      " - 1s - loss: 1.4686 - val_loss: 1.1548\n",
      "Epoch 13/31\n",
      " - 1s - loss: 1.4430 - val_loss: 1.1586\n",
      "Epoch 14/31\n",
      " - 1s - loss: 1.4186 - val_loss: 1.1664\n",
      "Epoch 15/31\n",
      " - 1s - loss: 1.3954 - val_loss: 1.1687\n",
      "Epoch 16/31\n",
      " - 1s - loss: 1.3728 - val_loss: 1.1676\n",
      "Epoch 17/31\n",
      " - 1s - loss: 1.3494 - val_loss: 1.1704\n",
      "Epoch 18/31\n",
      " - 1s - loss: 1.3265 - val_loss: 1.1742\n",
      "Epoch 19/31\n",
      " - 1s - loss: 1.3052 - val_loss: 1.1682\n",
      "Epoch 20/31\n",
      " - 1s - loss: 1.2838 - val_loss: 1.1768\n",
      "Epoch 21/31\n",
      " - 1s - loss: 1.2644 - val_loss: 1.1855\n",
      "Epoch 22/31\n",
      " - 1s - loss: 1.2451 - val_loss: 1.1823\n",
      "Epoch 23/31\n",
      " - 1s - loss: 1.2243 - val_loss: 1.1850\n",
      "Epoch 24/31\n",
      " - 1s - loss: 1.2047 - val_loss: 1.1865\n",
      "Epoch 25/31\n",
      " - 1s - loss: 1.1883 - val_loss: 1.1993\n",
      "Epoch 26/31\n",
      " - 1s - loss: 1.1716 - val_loss: 1.1954\n",
      "Epoch 27/31\n",
      " - 1s - loss: 1.1545 - val_loss: 1.2021\n",
      "Epoch 28/31\n",
      " - 1s - loss: 1.1396 - val_loss: 1.1951\n",
      "Epoch 29/31\n",
      " - 1s - loss: 1.1244 - val_loss: 1.2019\n",
      "Epoch 30/31\n",
      " - 1s - loss: 1.1108 - val_loss: 1.2051\n",
      "Epoch 31/31\n",
      " - 1s - loss: 1.0949 - val_loss: 1.2108\n"
     ]
    },
    {
     "data": {
      "image/png": "[encoded data removed]",
      "text/plain": [
       "<Figure size 432x288 with 1 Axes>"
      ]
     },
     "metadata": {},
     "output_type": "display_data"
    },
    {
     "name": "stdout",
     "output_type": "stream",
     "text": [
      "CPU times: user 17.3 s, sys: 1.11 s, total: 18.4 s\n",
      "Wall time: 14 s\n",
      "Preparing Site: 6 , meter: 0 , Fold: 2\n",
      "Train on 232138 samples, validate on 77379 samples\n",
      "Epoch 1/31\n",
      " - 2s - loss: 4.4317 - val_loss: 3.6489\n",
      "Epoch 2/31\n",
      " - 1s - loss: 3.5277 - val_loss: 2.5343\n",
      "Epoch 3/31\n",
      " - 1s - loss: 2.3437 - val_loss: 1.2011\n",
      "Epoch 4/31\n",
      " - 1s - loss: 1.6694 - val_loss: 0.8129\n",
      "Epoch 5/31\n",
      " - 1s - loss: 1.6249 - val_loss: 0.7996\n",
      "Epoch 6/31\n",
      " - 1s - loss: 1.6194 - val_loss: 0.7989\n",
      "Epoch 7/31\n",
      " - 1s - loss: 1.6057 - val_loss: 0.7972\n",
      "Epoch 8/31\n",
      " - 1s - loss: 1.5846 - val_loss: 0.7914\n",
      "Epoch 9/31\n",
      " - 1s - loss: 1.5604 - val_loss: 0.7835\n",
      "Epoch 10/31\n",
      " - 1s - loss: 1.5418 - val_loss: 0.7756\n",
      "Epoch 11/31\n",
      " - 1s - loss: 1.5242 - val_loss: 0.7692\n",
      "Epoch 12/31\n",
      " - 1s - loss: 1.5015 - val_loss: 0.7643\n",
      "Epoch 13/31\n",
      " - 1s - loss: 1.4812 - val_loss: 0.7599\n",
      "Epoch 14/31\n",
      " - 1s - loss: 1.4626 - val_loss: 0.7555\n",
      "Epoch 15/31\n",
      " - 1s - loss: 1.4410 - val_loss: 0.7545\n",
      "Epoch 16/31\n",
      " - 1s - loss: 1.4232 - val_loss: 0.7507\n",
      "Epoch 17/31\n",
      " - 1s - loss: 1.4065 - val_loss: 0.7465\n",
      "Epoch 18/31\n",
      " - 1s - loss: 1.3871 - val_loss: 0.7460\n",
      "Epoch 19/31\n",
      " - 1s - loss: 1.3694 - val_loss: 0.7461\n",
      "Epoch 20/31\n",
      " - 1s - loss: 1.3526 - val_loss: 0.7446\n",
      "Epoch 21/31\n",
      " - 1s - loss: 1.3363 - val_loss: 0.7420\n",
      "Epoch 22/31\n",
      " - 1s - loss: 1.3225 - val_loss: 0.7418\n",
      "Epoch 23/31\n",
      " - 1s - loss: 1.3066 - val_loss: 0.7424\n",
      "Epoch 24/31\n",
      " - 1s - loss: 1.2919 - val_loss: 0.7427\n",
      "Epoch 25/31\n",
      " - 1s - loss: 1.2758 - val_loss: 0.7424\n",
      "Epoch 26/31\n",
      " - 1s - loss: 1.2620 - val_loss: 0.7393\n",
      "Epoch 27/31\n",
      " - 1s - loss: 1.2476 - val_loss: 0.7432\n",
      "Epoch 28/31\n",
      " - 1s - loss: 1.2318 - val_loss: 0.7413\n",
      "Epoch 29/31\n",
      " - 1s - loss: 1.2207 - val_loss: 0.7391\n",
      "Epoch 30/31\n",
      " - 1s - loss: 1.2101 - val_loss: 0.7407\n",
      "Epoch 31/31\n",
      " - 1s - loss: 1.1977 - val_loss: 0.7403\n"
     ]
    },
    {
     "data": {
      "image/png": "[encoded data removed]",
      "text/plain": [
       "<Figure size 432x288 with 1 Axes>"
      ]
     },
     "metadata": {},
     "output_type": "display_data"
    },
    {
     "name": "stdout",
     "output_type": "stream",
     "text": [
      "CPU times: user 16.9 s, sys: 1.12 s, total: 18.1 s\n",
      "Wall time: 13.8 s\n",
      "Preparing Site: 6 , meter: 0 , Fold: 3\n",
      "Train on 232138 samples, validate on 77379 samples\n",
      "Epoch 1/31\n",
      " - 3s - loss: 4.4453 - val_loss: 3.9823\n",
      "Epoch 2/31\n",
      " - 1s - loss: 3.4343 - val_loss: 2.7170\n",
      "Epoch 3/31\n",
      " - 1s - loss: 2.3715 - val_loss: 1.3165\n",
      "Epoch 4/31\n",
      " - 1s - loss: 1.7695 - val_loss: 0.6293\n",
      "Epoch 5/31\n",
      " - 1s - loss: 1.6703 - val_loss: 0.5616\n",
      "Epoch 6/31\n",
      " - 1s - loss: 1.6537 - val_loss: 0.5619\n",
      "Epoch 7/31\n",
      " - 1s - loss: 1.6348 - val_loss: 0.5641\n",
      "Epoch 8/31\n",
      " - 1s - loss: 1.6116 - val_loss: 0.5657\n",
      "Epoch 9/31\n",
      " - 1s - loss: 1.5999 - val_loss: 0.5665\n",
      "Epoch 10/31\n",
      " - 1s - loss: 1.5793 - val_loss: 0.5666\n",
      "Epoch 11/31\n",
      " - 1s - loss: 1.5641 - val_loss: 0.5668\n",
      "Epoch 12/31\n",
      " - 1s - loss: 1.5466 - val_loss: 0.5668\n",
      "Epoch 13/31\n",
      " - 1s - loss: 1.5246 - val_loss: 0.5661\n",
      "Epoch 14/31\n",
      " - 1s - loss: 1.5100 - val_loss: 0.5642\n",
      "Epoch 15/31\n",
      " - 1s - loss: 1.4912 - val_loss: 0.5600\n",
      "Epoch 16/31\n",
      " - 1s - loss: 1.4802 - val_loss: 0.5490\n",
      "Epoch 17/31\n",
      " - 1s - loss: 1.4594 - val_loss: 0.5376\n",
      "Epoch 18/31\n",
      " - 1s - loss: 1.4400 - val_loss: 0.5313\n",
      "Epoch 19/31\n",
      " - 1s - loss: 1.4281 - val_loss: 0.5257\n",
      "Epoch 20/31\n",
      " - 1s - loss: 1.4109 - val_loss: 0.5214\n",
      "Epoch 21/31\n",
      " - 1s - loss: 1.3947 - val_loss: 0.5185\n",
      "Epoch 22/31\n",
      " - 1s - loss: 1.3801 - val_loss: 0.5171\n",
      "Epoch 23/31\n",
      " - 1s - loss: 1.3685 - val_loss: 0.5153\n",
      "Epoch 24/31\n",
      " - 1s - loss: 1.3544 - val_loss: 0.5155\n",
      "Epoch 25/31\n",
      " - 1s - loss: 1.3429 - val_loss: 0.5139\n",
      "Epoch 26/31\n",
      " - 1s - loss: 1.3313 - val_loss: 0.5152\n",
      "Epoch 27/31\n",
      " - 1s - loss: 1.3194 - val_loss: 0.5146\n",
      "Epoch 28/31\n",
      " - 1s - loss: 1.3077 - val_loss: 0.5151\n",
      "Epoch 29/31\n",
      " - 1s - loss: 1.2959 - val_loss: 0.5148\n",
      "Epoch 30/31\n",
      " - 1s - loss: 1.2861 - val_loss: 0.5147\n",
      "Epoch 31/31\n",
      " - 1s - loss: 1.2761 - val_loss: 0.5135\n"
     ]
    },
    {
     "data": {
      "image/png": "[encoded data removed]",
      "text/plain": [
       "<Figure size 432x288 with 1 Axes>"
      ]
     },
     "metadata": {},
     "output_type": "display_data"
    },
    {
     "name": "stdout",
     "output_type": "stream",
     "text": [
      "CPU times: user 17.7 s, sys: 1.01 s, total: 18.7 s\n",
      "Wall time: 14.5 s\n",
      "Preparing Site: 6 , meter: 0 , Fold: 4\n",
      "Train on 232138 samples, validate on 77379 samples\n",
      "Epoch 1/31\n",
      " - 3s - loss: 4.0317 - val_loss: 5.3845\n",
      "Epoch 2/31\n",
      " - 1s - loss: 3.2910 - val_loss: 4.3049\n",
      "Epoch 3/31\n",
      " - 1s - loss: 2.2103 - val_loss: 2.9148\n",
      "Epoch 4/31\n",
      " - 1s - loss: 1.4624 - val_loss: 2.0687\n",
      "Epoch 5/31\n",
      " - 1s - loss: 1.3642 - val_loss: 1.8986\n",
      "Epoch 6/31\n",
      " - 1s - loss: 1.3434 - val_loss: 1.8649\n",
      "Epoch 7/31\n",
      " - 1s - loss: 1.3230 - val_loss: 1.8514\n",
      "Epoch 8/31\n",
      " - 1s - loss: 1.2988 - val_loss: 1.8375\n",
      "Epoch 9/31\n",
      " - 1s - loss: 1.2760 - val_loss: 1.8334\n",
      "Epoch 10/31\n",
      " - 1s - loss: 1.2520 - val_loss: 1.8280\n",
      "Epoch 11/31\n",
      " - 1s - loss: 1.2272 - val_loss: 1.8217\n",
      "Epoch 12/31\n",
      " - 1s - loss: 1.2063 - val_loss: 1.8116\n",
      "Epoch 13/31\n",
      " - 1s - loss: 1.1816 - val_loss: 1.8013\n",
      "Epoch 14/31\n",
      " - 1s - loss: 1.1602 - val_loss: 1.7883\n",
      "Epoch 15/31\n",
      " - 1s - loss: 1.1382 - val_loss: 1.7778\n",
      "Epoch 16/31\n",
      " - 1s - loss: 1.1157 - val_loss: 1.7601\n",
      "Epoch 17/31\n",
      " - 1s - loss: 1.0940 - val_loss: 1.7405\n",
      "Epoch 18/31\n",
      " - 1s - loss: 1.0710 - val_loss: 1.7341\n",
      "Epoch 19/31\n",
      " - 1s - loss: 1.0552 - val_loss: 1.7218\n",
      "Epoch 20/31\n",
      " - 1s - loss: 1.0365 - val_loss: 1.7095\n",
      "Epoch 21/31\n",
      " - 1s - loss: 1.0155 - val_loss: 1.6948\n",
      "Epoch 22/31\n",
      " - 1s - loss: 0.9991 - val_loss: 1.6820\n",
      "Epoch 23/31\n",
      " - 1s - loss: 0.9860 - val_loss: 1.6832\n",
      "Epoch 24/31\n",
      " - 1s - loss: 0.9688 - val_loss: 1.6732\n",
      "Epoch 25/31\n",
      " - 1s - loss: 0.9513 - val_loss: 1.6783\n",
      "Epoch 26/31\n",
      " - 1s - loss: 0.9381 - val_loss: 1.6549\n",
      "Epoch 27/31\n",
      " - 1s - loss: 0.9258 - val_loss: 1.6628\n",
      "Epoch 28/31\n",
      " - 1s - loss: 0.9111 - val_loss: 1.6507\n",
      "Epoch 29/31\n",
      " - 1s - loss: 0.8976 - val_loss: 1.6619\n",
      "Epoch 30/31\n",
      " - 1s - loss: 0.8878 - val_loss: 1.6510\n",
      "Epoch 31/31\n",
      " - 1s - loss: 0.8770 - val_loss: 1.6527\n"
     ]
    },
    {
     "data": {
      "image/png": "[encoded data removed]",
      "text/plain": [
       "<Figure size 432x288 with 1 Axes>"
      ]
     },
     "metadata": {},
     "output_type": "display_data"
    },
    {
     "name": "stdout",
     "output_type": "stream",
     "text": [
      "CPU times: user 18.4 s, sys: 1.06 s, total: 19.5 s\n",
      "Wall time: 15.2 s\n",
      "\n",
      "CV RMSE for Site: 6 and Meter: 0 is 1.2444892097089606\n",
      "\n",
      "CV RMSE for Site: 6 is 1.2444892097089606\n"
     ]
    }
   ],
   "source": [
    "for meter in df_train.meter.unique():\n",
    "    print(\"Building Model for site_id\", site_id, \"and meter\", meter)\n",
    "        \n",
    "    df_train_site_meter = df_train[df_train.meter == meter].reset_index(drop=True)\n",
    "    df_test_site_meter = df_test[df_test.meter == meter].reset_index(drop=True)\n",
    "    \n",
    "    pred_val = np.zeros(df_train_site_meter.shape[0])\n",
    "    pred_test = np.zeros(df_test_site_meter.shape[0])\n",
    "\n",
    "    row_ids_test = df_test_site_meter.row_id\n",
    "    y_train_site_meter = df_train_site_meter.log_meter_reading.values\n",
    "    \n",
    "    df_train_site_meter = df_train_site_meter[features]\n",
    "    df_test_site_meter = df_test_site_meter[features]\n",
    "\n",
    "    df_train_site_meter = pd.get_dummies(df_train_site_meter)\n",
    "    df_test_site_meter = pd.get_dummies(df_test_site_meter)\n",
    "        \n",
    "    for k, (train_idx, valid_idx) in enumerate(folds.split(df_train_site_meter, y_train_site_meter)):\n",
    "        print(\"Preparing Site:\", site_id, \", meter:\", meter, \", Fold:\", k+1)\n",
    "        \n",
    "        X_train, y_train = df_train_site_meter.iloc[train_idx], y_train_site_meter[train_idx]\n",
    "        X_valid, y_valid = df_train_site_meter.iloc[valid_idx], y_train_site_meter[valid_idx]\n",
    "        \n",
    "        X_train.dropna(axis=1, how=\"all\", inplace=True)\n",
    "        X_train = X_train.loc[:, (X_train != X_train.iloc[0]).any()]\n",
    "\n",
    "        X_valid = X_valid[X_train.columns]\n",
    "        X_test = df_test_site_meter[X_train.columns]\n",
    "        \n",
    "        df_means = pd.concat([X_train, X_valid, X_test], ignore_index=True).mean()\n",
    "        X_train.fillna(df_means, inplace=True)\n",
    "        X_valid.fillna(df_means, inplace=True)\n",
    "        X_test.fillna(df_means, inplace=True)\n",
    "        \n",
    "        sc = MinMaxScaler()\n",
    "        sc.fit(pd.concat([X_train, X_valid, X_test], ignore_index=True))\n",
    "        \n",
    "        X_train = np.array(sc.transform(X_train))\n",
    "        X_valid = np.array(sc.transform(X_valid))\n",
    "        X_test = np.array(sc.transform(X_test))\n",
    "        \n",
    "        model = Sequential()\n",
    "        model.add(Dense(16, input_dim=X_train.shape[1], activation=\"relu\", kernel_initializer=keras.initializers.glorot_uniform(seed=seed)))\n",
    "        model.add(BatchNormalization())\n",
    "        model.add(Dropout(0.2))\n",
    "        model.add(Dense(4, activation=\"tanh\", kernel_initializer=keras.initializers.glorot_uniform(seed=seed)))\n",
    "        model.add(BatchNormalization())\n",
    "        model.add(Dropout(0.2))\n",
    "        model.add(Dense(2, activation=\"tanh\", kernel_initializer=keras.initializers.glorot_uniform(seed=seed)))\n",
    "        model.add(BatchNormalization())\n",
    "        model.add(Dropout(0.2))\n",
    "        model.add(Dense(1))\n",
    "        model.compile(loss=rmse, optimizer=\"adam\")\n",
    "        \n",
    "        model_ffnn = model.fit(X_train, y_train, epochs=31, batch_size=1000, validation_data=(X_valid, y_valid), verbose=2, shuffle=False)\n",
    "\n",
    "        plt.plot(model_ffnn.history[\"loss\"])\n",
    "        plt.plot(model_ffnn.history[\"val_loss\"])\n",
    "        plt.title(\"Loss for Site: \" + str(site_id) + \", Meter: \" + str(meter) + \", Fold: \" + str(k+1))\n",
    "        plt.ylabel(\"rmse\")\n",
    "        plt.xlabel(\"Epoch\")\n",
    "        plt.legend([\"train\", \"valid\"], loc=\"upper right\")\n",
    "        plt.show()\n",
    "        \n",
    "        pred_val[valid_idx] = model.predict(X_valid).ravel()\n",
    "        %time pred_test += model.predict(X_test).ravel() / cv\n",
    "        \n",
    "        gc.collect()\n",
    "        \n",
    "    df_valid = pd.DataFrame({\"site_id\": site_id, \"meter\": meter, \"meter_reading\": np.expm1(y_train_site_meter), \"pred_ffnn\": np.clip(np.expm1(pred_val), 0, a_max=None)})\n",
    "    df_pred = pd.DataFrame({\"row_id\": row_ids_test, \"meter_reading\": np.clip(np.expm1(pred_test), 0, a_max=None)})\n",
    "    \n",
    "    df_cv.append(df_valid)\n",
    "    df_preds.append(df_pred)\n",
    "    \n",
    "    gc.collect()\n",
    "    \n",
    "    print(\"\\nCV RMSE for Site:\", site_id, \"and Meter:\", meter, \"is\", np.sqrt(mean_squared_error(np.log1p(df_valid.meter_reading), np.log1p(df_valid.pred_ffnn))))\n",
    "\n",
    "df_cv = pd.concat(df_cv)\n",
    "print(\"\\nCV RMSE for Site:\", site_id, \"is\", np.sqrt(mean_squared_error(np.log1p(df_cv.meter_reading), np.log1p(df_cv.pred_ffnn))))\n"
   ]
  },
  {
   "cell_type": "code",
   "execution_count": 18,
   "metadata": {
    "ExecuteTime": {
     "end_time": "2020-04-26T14:14:31.664329Z",
     "start_time": "2020-04-26T14:14:29.732796Z"
    }
   },
   "outputs": [],
   "source": [
    "df_preds = pd.concat(df_preds)\n",
    "df_preds.to_csv(\"../sub/ffnn_pred_site_\" + str(site_id) + \".csv\", index=False)"
   ]
  }
 ],
 "metadata": {
  "kernelspec": {
   "display_name": "Python 3",
   "language": "python",
   "name": "python3"
  },
  "language_info": {
   "codemirror_mode": {
    "name": "ipython",
    "version": 3
   },
   "file_extension": ".py",
   "mimetype": "text/x-python",
   "name": "python",
   "nbconvert_exporter": "python",
   "pygments_lexer": "ipython3",
   "version": "3.6.6"
  }
 },
 "nbformat": 4,
 "nbformat_minor": 1
}
