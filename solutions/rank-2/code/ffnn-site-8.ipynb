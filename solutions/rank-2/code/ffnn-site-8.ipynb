{
 "cells": [
  {
   "cell_type": "code",
   "execution_count": 1,
   "metadata": {
    "ExecuteTime": {
     "end_time": "2020-04-26T14:28:52.423106Z",
     "start_time": "2020-04-26T14:28:52.420191Z"
    }
   },
   "outputs": [],
   "source": [
    "#!pip install tensorflow==1.14.0"
   ]
  },
  {
   "cell_type": "code",
   "execution_count": 2,
   "metadata": {
    "ExecuteTime": {
     "end_time": "2020-04-26T14:28:52.426869Z",
     "start_time": "2020-04-26T14:28:52.424593Z"
    }
   },
   "outputs": [],
   "source": [
    "#!pip install keras==2.2.5"
   ]
  },
  {
   "cell_type": "code",
   "execution_count": 3,
   "metadata": {
    "ExecuteTime": {
     "end_time": "2020-04-26T14:28:52.433047Z",
     "start_time": "2020-04-26T14:28:52.431183Z"
    }
   },
   "outputs": [],
   "source": [
    "# import tensorflow as tf\n",
    "# print(\"Num GPUs Available: \", len(tf.config.experimental.list_physical_devices('GPU')))"
   ]
  },
  {
   "cell_type": "code",
   "execution_count": 4,
   "metadata": {
    "ExecuteTime": {
     "end_time": "2020-04-26T14:28:54.238209Z",
     "start_time": "2020-04-26T14:28:52.434425Z"
    }
   },
   "outputs": [
    {
     "name": "stdout",
     "output_type": "stream",
     "text": [
      "WARNING:tensorflow:From /home/ubuntu/anaconda3/envs/tensorflow_p36/lib/python3.6/site-packages/tensorflow_core/__init__.py:1467: The name tf.estimator.inputs is deprecated. Please use tf.compat.v1.estimator.inputs instead.\n",
      "\n"
     ]
    },
    {
     "name": "stderr",
     "output_type": "stream",
     "text": [
      "Using TensorFlow backend.\n"
     ]
    }
   ],
   "source": [
    "import os\n",
    "os.environ[\"PYTHONHASHSEED\"] = \"13\"\n",
    "os.environ[\"CUDA_VISIBLE_DEVICES\"] = \"0:1\"\n",
    "\n",
    "import numpy as np\n",
    "import tensorflow as tf\n",
    "import random as rn\n",
    "\n",
    "# The below is necessary for starting Numpy generated random numbers\n",
    "# in a well-defined initial state.\n",
    "\n",
    "np.random.seed(13)\n",
    "\n",
    "# The below is necessary for starting core Python generated random numbers\n",
    "# in a well-defined state.\n",
    "\n",
    "rn.seed(13)\n",
    "\n",
    "# Force TensorFlow to use single thread.\n",
    "# Multiple threads are a potential source of non-reproducible results.\n",
    "# For further details, see: https://stackoverflow.com/questions/42022950/\n",
    "\n",
    "session_conf = tf.ConfigProto(intra_op_parallelism_threads=1,\n",
    "                              inter_op_parallelism_threads=1)\n",
    "\n",
    "from keras import backend as K\n",
    "\n",
    "# The below tf.set_random_seed() will make random number generation\n",
    "# in the TensorFlow backend have a well-defined initial state.\n",
    "# For further details, see:\n",
    "# https://www.tensorflow.org/api_docs/python/tf/set_random_seed\n",
    "\n",
    "tf.set_random_seed(13)\n",
    "\n",
    "sess = tf.Session(graph=tf.get_default_graph(), config=session_conf)\n",
    "K.set_session(sess)"
   ]
  },
  {
   "cell_type": "code",
   "execution_count": null,
   "metadata": {},
   "outputs": [],
   "source": []
  },
  {
   "cell_type": "code",
   "execution_count": 5,
   "metadata": {
    "ExecuteTime": {
     "end_time": "2020-04-26T14:28:54.248976Z",
     "start_time": "2020-04-26T14:28:54.239742Z"
    }
   },
   "outputs": [
    {
     "name": "stdout",
     "output_type": "stream",
     "text": [
      "WARNING:tensorflow:From /home/ubuntu/anaconda3/envs/tensorflow_p36/lib/python3.6/site-packages/keras/backend/tensorflow_backend.py:174: The name tf.get_default_session is deprecated. Please use tf.compat.v1.get_default_session instead.\n",
      "\n",
      "WARNING:tensorflow:From /home/ubuntu/anaconda3/envs/tensorflow_p36/lib/python3.6/site-packages/keras/backend/tensorflow_backend.py:190: The name tf.global_variables is deprecated. Please use tf.compat.v1.global_variables instead.\n",
      "\n"
     ]
    },
    {
     "data": {
      "text/plain": [
       "['/job:localhost/replica:0/task:0/device:GPU:0']"
      ]
     },
     "execution_count": 5,
     "metadata": {},
     "output_type": "execute_result"
    }
   ],
   "source": [
    "K.tensorflow_backend._get_available_gpus()"
   ]
  },
  {
   "cell_type": "code",
   "execution_count": 6,
   "metadata": {
    "ExecuteTime": {
     "end_time": "2020-04-26T14:28:54.256717Z",
     "start_time": "2020-04-26T14:28:54.250299Z"
    }
   },
   "outputs": [
    {
     "name": "stdout",
     "output_type": "stream",
     "text": [
      "[name: \"/device:CPU:0\"\n",
      "device_type: \"CPU\"\n",
      "memory_limit: 268435456\n",
      "locality {\n",
      "}\n",
      "incarnation: 13290889655177492993\n",
      ", name: \"/device:XLA_CPU:0\"\n",
      "device_type: \"XLA_CPU\"\n",
      "memory_limit: 17179869184\n",
      "locality {\n",
      "}\n",
      "incarnation: 4338570539148225288\n",
      "physical_device_desc: \"device: XLA_CPU device\"\n",
      ", name: \"/device:XLA_GPU:0\"\n",
      "device_type: \"XLA_GPU\"\n",
      "memory_limit: 17179869184\n",
      "locality {\n",
      "}\n",
      "incarnation: 3790083959447138486\n",
      "physical_device_desc: \"device: XLA_GPU device\"\n",
      ", name: \"/device:GPU:0\"\n",
      "device_type: \"GPU\"\n",
      "memory_limit: 14941647668\n",
      "locality {\n",
      "  bus_id: 1\n",
      "  links {\n",
      "  }\n",
      "}\n",
      "incarnation: 7917141360032168946\n",
      "physical_device_desc: \"device: 0, name: Tesla T4, pci bus id: 0000:00:1e.0, compute capability: 7.5\"\n",
      "]\n"
     ]
    }
   ],
   "source": [
    "from tensorflow.python.client import device_lib\n",
    "print(device_lib.list_local_devices())"
   ]
  },
  {
   "cell_type": "code",
   "execution_count": 7,
   "metadata": {
    "ExecuteTime": {
     "end_time": "2020-04-26T14:28:54.555516Z",
     "start_time": "2020-04-26T14:28:54.257969Z"
    },
    "_cell_guid": "b1076dfc-b9ad-4769-8c92-a6c4dae69d19",
    "_uuid": "8f2839f25d086af736a60e9eeb907d3b93b6e0e5"
   },
   "outputs": [],
   "source": [
    "import gc\n",
    "import warnings\n",
    "\n",
    "#import lightgbm as lgb\n",
    "import pandas as pd\n",
    "\n",
    "from matplotlib import pyplot as plt\n",
    "from sklearn.metrics import mean_squared_error\n",
    "from sklearn.model_selection import KFold\n",
    "from sklearn.preprocessing import LabelEncoder, MinMaxScaler, StandardScaler\n",
    "from tqdm.notebook import tqdm\n",
    "\n",
    "import keras\n",
    "from keras.models import Sequential\n",
    "from keras.layers import BatchNormalization, Dense, Dropout\n",
    "\n",
    "path_data = \"../input/ashrae-energy-prediction/\"\n",
    "path_train = path_data + \"train.csv\"\n",
    "path_test = path_data + \"test.csv\"\n",
    "path_building = path_data + \"building_metadata.csv\"\n",
    "path_weather_train = path_data + \"weather_train.csv\"\n",
    "path_weather_test = path_data + \"weather_test.csv\"\n",
    "\n",
    "myfavouritenumber = 13\n",
    "seed = myfavouritenumber\n",
    "\n",
    "warnings.filterwarnings(\"ignore\")"
   ]
  },
  {
   "cell_type": "code",
   "execution_count": 8,
   "metadata": {
    "ExecuteTime": {
     "end_time": "2020-04-26T14:28:54.558889Z",
     "start_time": "2020-04-26T14:28:54.557013Z"
    }
   },
   "outputs": [],
   "source": [
    "site_id = 8"
   ]
  },
  {
   "cell_type": "code",
   "execution_count": 9,
   "metadata": {
    "ExecuteTime": {
     "end_time": "2020-04-26T14:29:43.559137Z",
     "start_time": "2020-04-26T14:28:54.560193Z"
    }
   },
   "outputs": [
    {
     "data": {
      "text/plain": [
       "148"
      ]
     },
     "execution_count": 9,
     "metadata": {},
     "output_type": "execute_result"
    }
   ],
   "source": [
    "df_train = pd.read_csv(path_train)\n",
    "df_test = pd.read_csv(path_test)\n",
    "\n",
    "building = pd.read_csv(path_building)\n",
    "\n",
    "weather_train = pd.read_csv(path_weather_train)\n",
    "weather_test = pd.read_csv(path_weather_test)\n",
    "\n",
    "weather_train.drop([\"sea_level_pressure\", \"wind_direction\", \"wind_speed\"], axis=1, inplace=True)\n",
    "weather_test.drop([\"sea_level_pressure\", \"wind_direction\", \"wind_speed\"], axis=1, inplace=True)\n",
    "\n",
    "weather_train = weather_train.groupby(\"site_id\").apply(lambda group: group.interpolate(limit_direction=\"both\"))\n",
    "weather_test = weather_test.groupby(\"site_id\").apply(lambda group: group.interpolate(limit_direction=\"both\"))\n",
    "\n",
    "df_train = df_train.merge(building, on=\"building_id\")\n",
    "df_test = df_test.merge(building, on=\"building_id\")\n",
    "\n",
    "df_train = df_train[df_train.site_id == site_id]\n",
    "df_test = df_test[df_test.site_id == site_id]\n",
    "\n",
    "df_train = df_train[~((df_train.building_id == 848) & (df_train.meter_reading == 0))]\n",
    "df_train = df_train[~((df_train.building_id == 815) & (df_train.meter_reading == 0))]\n",
    "\n",
    "df_train = df_train.merge(weather_train, on=[\"site_id\", \"timestamp\"], how=\"left\")\n",
    "df_test = df_test.merge(weather_test, on=[\"site_id\", \"timestamp\"], how=\"left\")\n",
    "\n",
    "df_train.timestamp = pd.to_datetime(df_train.timestamp, format='%Y-%m-%d %H:%M:%S')\n",
    "df_test.timestamp = pd.to_datetime(df_test.timestamp, format='%Y-%m-%d %H:%M:%S')\n",
    "\n",
    "df_train.building_id = df_train.building_id.astype(\"str\")\n",
    "df_test.building_id = df_test.building_id.astype(\"str\")\n",
    "\n",
    "df_train[\"log_meter_reading\"] = np.log1p(df_train.meter_reading)\n",
    "\n",
    "del building\n",
    "gc.collect()"
   ]
  },
  {
   "cell_type": "code",
   "execution_count": 10,
   "metadata": {
    "ExecuteTime": {
     "end_time": "2020-04-26T14:29:46.242845Z",
     "start_time": "2020-04-26T14:29:43.560972Z"
    }
   },
   "outputs": [],
   "source": [
    "df_train[\"hour\"] = df_train.timestamp.dt.hour.astype(\"str\")\n",
    "df_test[\"hour\"] = df_test.timestamp.dt.hour.astype(\"str\")\n",
    "\n",
    "df_train[\"weekday\"] = df_train.timestamp.dt.weekday.astype(\"str\")\n",
    "df_test[\"weekday\"] = df_test.timestamp.dt.weekday.astype(\"str\")\n",
    "\n",
    "df_train[\"month\"] = df_train.timestamp.dt.month.astype(\"str\")\n",
    "df_test[\"month\"] = df_test.timestamp.dt.month.astype(\"str\")"
   ]
  },
  {
   "cell_type": "code",
   "execution_count": 11,
   "metadata": {
    "ExecuteTime": {
     "end_time": "2020-04-26T14:29:46.247408Z",
     "start_time": "2020-04-26T14:29:46.244393Z"
    }
   },
   "outputs": [],
   "source": [
    "features = [\n",
    "    \"building_id\",\n",
    "    \"square_feet\",\n",
    "    \"year_built\",\n",
    "    \"floor_count\",\n",
    "    \"primary_use\",\n",
    "    \"air_temperature\",\n",
    "    \"cloud_coverage\",\n",
    "    \"dew_temperature\",\n",
    "    \"precip_depth_1_hr\",\n",
    "    \"hour\",\n",
    "    \"weekday\",\n",
    "    \"month\"\n",
    "]"
   ]
  },
  {
   "cell_type": "code",
   "execution_count": 12,
   "metadata": {
    "ExecuteTime": {
     "end_time": "2020-04-26T14:29:46.251578Z",
     "start_time": "2020-04-26T14:29:46.248742Z"
    }
   },
   "outputs": [],
   "source": [
    "def rmse(y_true, y_pred):\n",
    "    return K.sqrt(K.mean(K.square(y_pred - y_true)))"
   ]
  },
  {
   "cell_type": "code",
   "execution_count": 13,
   "metadata": {
    "ExecuteTime": {
     "end_time": "2020-04-26T14:29:46.254960Z",
     "start_time": "2020-04-26T14:29:46.252823Z"
    }
   },
   "outputs": [],
   "source": [
    "cv = 5\n",
    "folds = KFold(n_splits = cv, shuffle = False, random_state = seed)\n",
    "\n",
    "df_cv = []\n",
    "df_preds = []"
   ]
  },
  {
   "cell_type": "code",
   "execution_count": 14,
   "metadata": {
    "ExecuteTime": {
     "end_time": "2020-04-26T14:42:33.363834Z",
     "start_time": "2020-04-26T14:29:46.256255Z"
    },
    "scrolled": true
   },
   "outputs": [
    {
     "name": "stdout",
     "output_type": "stream",
     "text": [
      "Building Model for site_id 8 and meter 0\n",
      "Preparing Site: 8 , meter: 0 , Fold: 1\n",
      "WARNING:tensorflow:From /home/ubuntu/anaconda3/envs/tensorflow_p36/lib/python3.6/site-packages/keras/backend/tensorflow_backend.py:517: The name tf.placeholder is deprecated. Please use tf.compat.v1.placeholder instead.\n",
      "\n",
      "WARNING:tensorflow:From /home/ubuntu/anaconda3/envs/tensorflow_p36/lib/python3.6/site-packages/keras/backend/tensorflow_backend.py:4138: The name tf.random_uniform is deprecated. Please use tf.random.uniform instead.\n",
      "\n",
      "WARNING:tensorflow:From /home/ubuntu/anaconda3/envs/tensorflow_p36/lib/python3.6/site-packages/keras/backend/tensorflow_backend.py:133: The name tf.placeholder_with_default is deprecated. Please use tf.compat.v1.placeholder_with_default instead.\n",
      "\n",
      "WARNING:tensorflow:From /home/ubuntu/anaconda3/envs/tensorflow_p36/lib/python3.6/site-packages/keras/backend/tensorflow_backend.py:3445: calling dropout (from tensorflow.python.ops.nn_ops) with keep_prob is deprecated and will be removed in a future version.\n",
      "Instructions for updating:\n",
      "Please use `rate` instead of `keep_prob`. Rate should be set to `rate = 1 - keep_prob`.\n",
      "WARNING:tensorflow:From /home/ubuntu/anaconda3/envs/tensorflow_p36/lib/python3.6/site-packages/keras/optimizers.py:790: The name tf.train.Optimizer is deprecated. Please use tf.compat.v1.train.Optimizer instead.\n",
      "\n",
      "WARNING:tensorflow:From /home/ubuntu/anaconda3/envs/tensorflow_p36/lib/python3.6/site-packages/tensorflow_core/python/ops/math_grad.py:1424: where (from tensorflow.python.ops.array_ops) is deprecated and will be removed in a future version.\n",
      "Instructions for updating:\n",
      "Use tf.where in 2.0, which has the same broadcast rule as np.where\n",
      "WARNING:tensorflow:From /home/ubuntu/anaconda3/envs/tensorflow_p36/lib/python3.6/site-packages/keras/backend/tensorflow_backend.py:986: The name tf.assign_add is deprecated. Please use tf.compat.v1.assign_add instead.\n",
      "\n",
      "WARNING:tensorflow:From /home/ubuntu/anaconda3/envs/tensorflow_p36/lib/python3.6/site-packages/keras/backend/tensorflow_backend.py:973: The name tf.assign is deprecated. Please use tf.compat.v1.assign instead.\n",
      "\n",
      "Train on 449609 samples, validate on 112403 samples\n",
      "Epoch 1/41\n",
      "WARNING:tensorflow:From /home/ubuntu/anaconda3/envs/tensorflow_p36/lib/python3.6/site-packages/keras/backend/tensorflow_backend.py:199: The name tf.is_variable_initialized is deprecated. Please use tf.compat.v1.is_variable_initialized instead.\n",
      "\n",
      "WARNING:tensorflow:From /home/ubuntu/anaconda3/envs/tensorflow_p36/lib/python3.6/site-packages/keras/backend/tensorflow_backend.py:206: The name tf.variables_initializer is deprecated. Please use tf.compat.v1.variables_initializer instead.\n",
      "\n",
      " - 27s - loss: 2.3022 - val_loss: 1.2882\n",
      "Epoch 2/41\n",
      " - 2s - loss: 1.5581 - val_loss: 1.6050\n",
      "Epoch 3/41\n",
      " - 2s - loss: 1.4763 - val_loss: 1.5430\n",
      "Epoch 4/41\n",
      " - 2s - loss: 1.4309 - val_loss: 1.5117\n",
      "Epoch 5/41\n",
      " - 2s - loss: 1.4087 - val_loss: 1.5501\n",
      "Epoch 6/41\n",
      " - 2s - loss: 1.3975 - val_loss: 1.5710\n",
      "Epoch 7/41\n",
      " - 2s - loss: 1.3923 - val_loss: 1.4233\n",
      "Epoch 8/41\n",
      " - 2s - loss: 1.3868 - val_loss: 1.5206\n",
      "Epoch 9/41\n",
      " - 2s - loss: 1.3825 - val_loss: 1.4504\n",
      "Epoch 10/41\n",
      " - 2s - loss: 1.3784 - val_loss: 1.4062\n",
      "Epoch 11/41\n",
      " - 2s - loss: 1.3753 - val_loss: 1.4245\n",
      "Epoch 12/41\n",
      " - 2s - loss: 1.3740 - val_loss: 1.4085\n",
      "Epoch 13/41\n",
      " - 2s - loss: 1.3714 - val_loss: 1.4077\n",
      "Epoch 14/41\n",
      " - 2s - loss: 1.3683 - val_loss: 1.3639\n",
      "Epoch 15/41\n",
      " - 2s - loss: 1.3671 - val_loss: 1.3722\n",
      "Epoch 16/41\n",
      " - 2s - loss: 1.3644 - val_loss: 1.3797\n",
      "Epoch 17/41\n",
      " - 2s - loss: 1.3622 - val_loss: 1.3287\n",
      "Epoch 18/41\n",
      " - 2s - loss: 1.3597 - val_loss: 1.3268\n",
      "Epoch 19/41\n",
      " - 2s - loss: 1.3578 - val_loss: 1.3339\n",
      "Epoch 20/41\n",
      " - 2s - loss: 1.3565 - val_loss: 1.3240\n",
      "Epoch 21/41\n",
      " - 2s - loss: 1.3539 - val_loss: 1.3011\n",
      "Epoch 22/41\n",
      " - 2s - loss: 1.3527 - val_loss: 1.3124\n",
      "Epoch 23/41\n",
      " - 2s - loss: 1.3506 - val_loss: 1.3218\n",
      "Epoch 24/41\n",
      " - 2s - loss: 1.3494 - val_loss: 1.3271\n",
      "Epoch 25/41\n",
      " - 2s - loss: 1.3475 - val_loss: 1.3079\n",
      "Epoch 26/41\n",
      " - 2s - loss: 1.3459 - val_loss: 1.3095\n",
      "Epoch 27/41\n",
      " - 2s - loss: 1.3453 - val_loss: 1.3161\n",
      "Epoch 28/41\n",
      " - 2s - loss: 1.3429 - val_loss: 1.3053\n",
      "Epoch 29/41\n",
      " - 2s - loss: 1.3421 - val_loss: 1.3292\n",
      "Epoch 30/41\n",
      " - 2s - loss: 1.3399 - val_loss: 1.2620\n",
      "Epoch 31/41\n",
      " - 2s - loss: 1.3389 - val_loss: 1.2950\n",
      "Epoch 32/41\n",
      " - 2s - loss: 1.3375 - val_loss: 1.2593\n",
      "Epoch 33/41\n",
      " - 2s - loss: 1.3369 - val_loss: 1.2851\n",
      "Epoch 34/41\n",
      " - 2s - loss: 1.3356 - val_loss: 1.2686\n",
      "Epoch 35/41\n",
      " - 2s - loss: 1.3345 - val_loss: 1.2706\n",
      "Epoch 36/41\n",
      " - 2s - loss: 1.3336 - val_loss: 1.2768\n",
      "Epoch 37/41\n",
      " - 2s - loss: 1.3325 - val_loss: 1.2756\n",
      "Epoch 38/41\n",
      " - 2s - loss: 1.3309 - val_loss: 1.2704\n",
      "Epoch 39/41\n",
      " - 2s - loss: 1.3303 - val_loss: 1.2600\n",
      "Epoch 40/41\n",
      " - 2s - loss: 1.3284 - val_loss: 1.2753\n",
      "Epoch 41/41\n",
      " - 2s - loss: 1.3290 - val_loss: 1.2347\n"
     ]
    },
    {
     "data": {
      "image/png": "[encoded data removed]",
      "text/plain": [
       "<Figure size 432x288 with 1 Axes>"
      ]
     },
     "metadata": {},
     "output_type": "display_data"
    },
    {
     "name": "stdout",
     "output_type": "stream",
     "text": [
      "CPU times: user 32.3 s, sys: 2.07 s, total: 34.3 s\n",
      "Wall time: 26.1 s\n",
      "Preparing Site: 8 , meter: 0 , Fold: 2\n",
      "Train on 449609 samples, validate on 112403 samples\n",
      "Epoch 1/41\n",
      " - 3s - loss: 2.2117 - val_loss: 1.1996\n",
      "Epoch 2/41\n",
      " - 2s - loss: 1.6435 - val_loss: 1.1124\n",
      "Epoch 3/41\n",
      " - 2s - loss: 1.5745 - val_loss: 1.1299\n",
      "Epoch 4/41\n",
      " - 2s - loss: 1.5340 - val_loss: 1.1388\n",
      "Epoch 5/41\n",
      " - 2s - loss: 1.5140 - val_loss: 1.0905\n",
      "Epoch 6/41\n",
      " - 2s - loss: 1.5047 - val_loss: 1.1205\n",
      "Epoch 7/41\n",
      " - 2s - loss: 1.4986 - val_loss: 1.0786\n",
      "Epoch 8/41\n",
      " - 2s - loss: 1.4933 - val_loss: 1.0746\n",
      "Epoch 9/41\n",
      " - 2s - loss: 1.4899 - val_loss: 1.0704\n",
      "Epoch 10/41\n",
      " - 2s - loss: 1.4868 - val_loss: 1.0692\n",
      "Epoch 11/41\n",
      " - 2s - loss: 1.4854 - val_loss: 1.0747\n",
      "Epoch 12/41\n",
      " - 2s - loss: 1.4818 - val_loss: 1.0553\n",
      "Epoch 13/41\n",
      " - 2s - loss: 1.4787 - val_loss: 1.0620\n",
      "Epoch 14/41\n",
      " - 2s - loss: 1.4770 - val_loss: 1.0527\n",
      "Epoch 15/41\n",
      " - 2s - loss: 1.4757 - val_loss: 1.0705\n",
      "Epoch 16/41\n",
      " - 2s - loss: 1.4741 - val_loss: 1.0810\n",
      "Epoch 17/41\n",
      " - 2s - loss: 1.4718 - val_loss: 1.0791\n",
      "Epoch 18/41\n",
      " - 2s - loss: 1.4701 - val_loss: 1.0654\n",
      "Epoch 19/41\n",
      " - 2s - loss: 1.4684 - val_loss: 1.0821\n",
      "Epoch 20/41\n",
      " - 2s - loss: 1.4688 - val_loss: 1.0447\n",
      "Epoch 21/41\n",
      " - 2s - loss: 1.4648 - val_loss: 1.0537\n",
      "Epoch 22/41\n",
      " - 2s - loss: 1.4641 - val_loss: 1.0466\n",
      "Epoch 23/41\n",
      " - 2s - loss: 1.4620 - val_loss: 1.0529\n",
      "Epoch 24/41\n",
      " - 2s - loss: 1.4614 - val_loss: 1.0424\n",
      "Epoch 25/41\n",
      " - 2s - loss: 1.4596 - val_loss: 1.0552\n",
      "Epoch 26/41\n",
      " - 2s - loss: 1.4585 - val_loss: 1.0308\n",
      "Epoch 27/41\n",
      " - 2s - loss: 1.4572 - val_loss: 1.0607\n",
      "Epoch 28/41\n",
      " - 2s - loss: 1.4571 - val_loss: 1.0411\n",
      "Epoch 29/41\n",
      " - 2s - loss: 1.4551 - val_loss: 1.0521\n",
      "Epoch 30/41\n",
      " - 2s - loss: 1.4535 - val_loss: 1.0522\n",
      "Epoch 31/41\n",
      " - 2s - loss: 1.4527 - val_loss: 1.0511\n",
      "Epoch 32/41\n",
      " - 2s - loss: 1.4517 - val_loss: 1.0619\n",
      "Epoch 33/41\n",
      " - 2s - loss: 1.4509 - val_loss: 1.0488\n",
      "Epoch 34/41\n",
      " - 2s - loss: 1.4501 - val_loss: 1.0470\n",
      "Epoch 35/41\n",
      " - 2s - loss: 1.4485 - val_loss: 1.0672\n",
      "Epoch 36/41\n",
      " - 2s - loss: 1.4475 - val_loss: 1.0504\n",
      "Epoch 37/41\n",
      " - 2s - loss: 1.4468 - val_loss: 1.0654\n",
      "Epoch 38/41\n",
      " - 2s - loss: 1.4466 - val_loss: 1.0429\n",
      "Epoch 39/41\n",
      " - 2s - loss: 1.4452 - val_loss: 1.0617\n",
      "Epoch 40/41\n",
      " - 2s - loss: 1.4453 - val_loss: 1.0588\n",
      "Epoch 41/41\n",
      " - 2s - loss: 1.4440 - val_loss: 1.0647\n"
     ]
    },
    {
     "data": {
      "image/png": "[encoded data removed]",
      "text/plain": [
       "<Figure size 432x288 with 1 Axes>"
      ]
     },
     "metadata": {},
     "output_type": "display_data"
    },
    {
     "name": "stdout",
     "output_type": "stream",
     "text": [
      "CPU times: user 33.9 s, sys: 2.05 s, total: 35.9 s\n",
      "Wall time: 27.6 s\n",
      "Preparing Site: 8 , meter: 0 , Fold: 3\n",
      "Train on 449610 samples, validate on 112402 samples\n",
      "Epoch 1/41\n",
      " - 3s - loss: 2.1562 - val_loss: 1.2139\n",
      "Epoch 2/41\n",
      " - 2s - loss: 1.6307 - val_loss: 1.0084\n",
      "Epoch 3/41\n",
      " - 2s - loss: 1.5800 - val_loss: 0.9972\n",
      "Epoch 4/41\n",
      " - 2s - loss: 1.5448 - val_loss: 1.0763\n",
      "Epoch 5/41\n",
      " - 2s - loss: 1.5260 - val_loss: 0.9773\n",
      "Epoch 6/41\n",
      " - 2s - loss: 1.5134 - val_loss: 1.0804\n",
      "Epoch 7/41\n",
      " - 2s - loss: 1.5053 - val_loss: 0.9977\n",
      "Epoch 8/41\n",
      " - 2s - loss: 1.5013 - val_loss: 1.0108\n",
      "Epoch 9/41\n",
      " - 2s - loss: 1.4967 - val_loss: 0.9959\n",
      "Epoch 10/41\n",
      " - 2s - loss: 1.4937 - val_loss: 1.0263\n",
      "Epoch 11/41\n",
      " - 2s - loss: 1.4913 - val_loss: 0.9962\n",
      "Epoch 12/41\n",
      " - 2s - loss: 1.4894 - val_loss: 1.0416\n",
      "Epoch 13/41\n",
      " - 2s - loss: 1.4865 - val_loss: 0.9910\n",
      "Epoch 14/41\n",
      " - 2s - loss: 1.4849 - val_loss: 1.0219\n",
      "Epoch 15/41\n",
      " - 2s - loss: 1.4813 - val_loss: 1.0269\n",
      "Epoch 16/41\n",
      " - 2s - loss: 1.4796 - val_loss: 1.0225\n",
      "Epoch 17/41\n",
      " - 2s - loss: 1.4778 - val_loss: 1.0156\n",
      "Epoch 18/41\n",
      " - 2s - loss: 1.4763 - val_loss: 1.0112\n",
      "Epoch 19/41\n",
      " - 2s - loss: 1.4760 - val_loss: 1.0305\n",
      "Epoch 20/41\n",
      " - 2s - loss: 1.4736 - val_loss: 1.0152\n",
      "Epoch 21/41\n",
      " - 2s - loss: 1.4723 - val_loss: 1.0144\n",
      "Epoch 22/41\n",
      " - 2s - loss: 1.4703 - val_loss: 1.0223\n",
      "Epoch 23/41\n",
      " - 2s - loss: 1.4683 - val_loss: 1.0128\n",
      "Epoch 24/41\n",
      " - 2s - loss: 1.4680 - val_loss: 1.0247\n",
      "Epoch 25/41\n",
      " - 2s - loss: 1.4670 - val_loss: 1.0285\n",
      "Epoch 26/41\n",
      " - 2s - loss: 1.4657 - val_loss: 1.0252\n",
      "Epoch 27/41\n",
      " - 2s - loss: 1.4651 - val_loss: 1.0220\n",
      "Epoch 28/41\n",
      " - 2s - loss: 1.4626 - val_loss: 1.0455\n",
      "Epoch 29/41\n",
      " - 2s - loss: 1.4623 - val_loss: 1.0422\n",
      "Epoch 30/41\n",
      " - 2s - loss: 1.4600 - val_loss: 1.0416\n",
      "Epoch 31/41\n",
      " - 2s - loss: 1.4597 - val_loss: 1.0427\n",
      "Epoch 32/41\n",
      " - 2s - loss: 1.4583 - val_loss: 1.0420\n",
      "Epoch 33/41\n",
      " - 2s - loss: 1.4589 - val_loss: 1.0426\n",
      "Epoch 34/41\n",
      " - 2s - loss: 1.4576 - val_loss: 1.0450\n",
      "Epoch 35/41\n",
      " - 2s - loss: 1.4559 - val_loss: 1.0493\n",
      "Epoch 36/41\n",
      " - 2s - loss: 1.4552 - val_loss: 1.0462\n",
      "Epoch 37/41\n",
      " - 2s - loss: 1.4549 - val_loss: 1.0660\n",
      "Epoch 38/41\n",
      " - 2s - loss: 1.4530 - val_loss: 1.0674\n",
      "Epoch 39/41\n",
      " - 2s - loss: 1.4529 - val_loss: 1.0622\n",
      "Epoch 40/41\n",
      " - 2s - loss: 1.4513 - val_loss: 1.0720\n",
      "Epoch 41/41\n",
      " - 2s - loss: 1.4516 - val_loss: 1.0633\n"
     ]
    },
    {
     "data": {
      "image/png": "[encoded data removed]",
      "text/plain": [
       "<Figure size 432x288 with 1 Axes>"
      ]
     },
     "metadata": {},
     "output_type": "display_data"
    },
    {
     "name": "stdout",
     "output_type": "stream",
     "text": [
      "CPU times: user 35.2 s, sys: 2.03 s, total: 37.3 s\n",
      "Wall time: 29 s\n",
      "Preparing Site: 8 , meter: 0 , Fold: 4\n",
      "Train on 449610 samples, validate on 112402 samples\n",
      "Epoch 1/41\n",
      " - 4s - loss: 2.0799 - val_loss: 1.6566\n",
      "Epoch 2/41\n",
      " - 2s - loss: 1.4757 - val_loss: 1.7440\n",
      "Epoch 3/41\n",
      " - 2s - loss: 1.4240 - val_loss: 1.7344\n",
      "Epoch 4/41\n",
      " - 2s - loss: 1.3876 - val_loss: 1.7179\n",
      "Epoch 5/41\n",
      " - 2s - loss: 1.3686 - val_loss: 1.6539\n",
      "Epoch 6/41\n",
      " - 2s - loss: 1.3591 - val_loss: 1.6575\n",
      "Epoch 7/41\n",
      " - 2s - loss: 1.3529 - val_loss: 1.6372\n",
      "Epoch 8/41\n",
      " - 2s - loss: 1.3481 - val_loss: 1.6094\n",
      "Epoch 9/41\n",
      " - 2s - loss: 1.3439 - val_loss: 1.6052\n",
      "Epoch 10/41\n",
      " - 2s - loss: 1.3408 - val_loss: 1.5890\n",
      "Epoch 11/41\n",
      " - 2s - loss: 1.3381 - val_loss: 1.5989\n",
      "Epoch 12/41\n",
      " - 2s - loss: 1.3355 - val_loss: 1.5909\n",
      "Epoch 13/41\n",
      " - 2s - loss: 1.3342 - val_loss: 1.5949\n",
      "Epoch 14/41\n",
      " - 2s - loss: 1.3312 - val_loss: 1.5883\n",
      "Epoch 15/41\n",
      " - 2s - loss: 1.3290 - val_loss: 1.5759\n",
      "Epoch 16/41\n",
      " - 2s - loss: 1.3268 - val_loss: 1.5893\n",
      "Epoch 17/41\n",
      " - 2s - loss: 1.3248 - val_loss: 1.5820\n",
      "Epoch 18/41\n",
      " - 2s - loss: 1.3224 - val_loss: 1.5796\n",
      "Epoch 19/41\n",
      " - 2s - loss: 1.3202 - val_loss: 1.5676\n",
      "Epoch 20/41\n",
      " - 2s - loss: 1.3194 - val_loss: 1.5766\n",
      "Epoch 21/41\n",
      " - 2s - loss: 1.3187 - val_loss: 1.5733\n",
      "Epoch 22/41\n",
      " - 2s - loss: 1.3167 - val_loss: 1.5538\n",
      "Epoch 23/41\n",
      " - 2s - loss: 1.3155 - val_loss: 1.5532\n",
      "Epoch 24/41\n",
      " - 2s - loss: 1.3129 - val_loss: 1.5610\n",
      "Epoch 25/41\n",
      " - 2s - loss: 1.3119 - val_loss: 1.5569\n",
      "Epoch 26/41\n",
      " - 2s - loss: 1.3106 - val_loss: 1.5576\n",
      "Epoch 27/41\n",
      " - 2s - loss: 1.3098 - val_loss: 1.5416\n",
      "Epoch 28/41\n",
      " - 2s - loss: 1.3079 - val_loss: 1.5657\n",
      "Epoch 29/41\n",
      " - 2s - loss: 1.3064 - val_loss: 1.5349\n",
      "Epoch 30/41\n",
      " - 2s - loss: 1.3046 - val_loss: 1.5556\n",
      "Epoch 31/41\n",
      " - 2s - loss: 1.3035 - val_loss: 1.5333\n",
      "Epoch 32/41\n",
      " - 2s - loss: 1.3025 - val_loss: 1.5527\n",
      "Epoch 33/41\n",
      " - 2s - loss: 1.3011 - val_loss: 1.5369\n",
      "Epoch 34/41\n",
      " - 2s - loss: 1.3005 - val_loss: 1.5473\n",
      "Epoch 35/41\n",
      " - 2s - loss: 1.2991 - val_loss: 1.5399\n",
      "Epoch 36/41\n",
      " - 2s - loss: 1.2976 - val_loss: 1.5520\n",
      "Epoch 37/41\n",
      " - 2s - loss: 1.2964 - val_loss: 1.5309\n",
      "Epoch 38/41\n",
      " - 2s - loss: 1.2953 - val_loss: 1.5398\n",
      "Epoch 39/41\n",
      " - 2s - loss: 1.2941 - val_loss: 1.5386\n",
      "Epoch 40/41\n",
      " - 2s - loss: 1.2925 - val_loss: 1.5328\n",
      "Epoch 41/41\n",
      " - 2s - loss: 1.2915 - val_loss: 1.5284\n"
     ]
    },
    {
     "data": {
      "image/png": "[encoded data removed]",
      "text/plain": [
       "<Figure size 432x288 with 1 Axes>"
      ]
     },
     "metadata": {},
     "output_type": "display_data"
    },
    {
     "name": "stdout",
     "output_type": "stream",
     "text": [
      "CPU times: user 35.9 s, sys: 1.88 s, total: 37.7 s\n",
      "Wall time: 29.5 s\n",
      "Preparing Site: 8 , meter: 0 , Fold: 5\n",
      "Train on 449610 samples, validate on 112402 samples\n",
      "Epoch 1/41\n",
      " - 4s - loss: 2.0100 - val_loss: 2.1045\n",
      "Epoch 2/41\n",
      " - 2s - loss: 1.4964 - val_loss: 1.6688\n",
      "Epoch 3/41\n",
      " - 2s - loss: 1.4172 - val_loss: 1.7359\n",
      "Epoch 4/41\n",
      " - 2s - loss: 1.3809 - val_loss: 1.5027\n",
      "Epoch 5/41\n",
      " - 2s - loss: 1.3597 - val_loss: 1.5612\n",
      "Epoch 6/41\n",
      " - 2s - loss: 1.3499 - val_loss: 1.5246\n",
      "Epoch 7/41\n",
      " - 2s - loss: 1.3439 - val_loss: 1.5078\n",
      "Epoch 8/41\n",
      " - 2s - loss: 1.3386 - val_loss: 1.4904\n",
      "Epoch 9/41\n",
      " - 2s - loss: 1.3349 - val_loss: 1.4584\n",
      "Epoch 10/41\n",
      " - 2s - loss: 1.3322 - val_loss: 1.5258\n",
      "Epoch 11/41\n",
      " - 2s - loss: 1.3305 - val_loss: 1.4808\n",
      "Epoch 12/41\n",
      " - 2s - loss: 1.3277 - val_loss: 1.5335\n",
      "Epoch 13/41\n",
      " - 2s - loss: 1.3250 - val_loss: 1.4631\n",
      "Epoch 14/41\n",
      " - 2s - loss: 1.3234 - val_loss: 1.5157\n",
      "Epoch 15/41\n",
      " - 2s - loss: 1.3221 - val_loss: 1.4964\n",
      "Epoch 16/41\n",
      " - 2s - loss: 1.3192 - val_loss: 1.5279\n",
      "Epoch 17/41\n",
      " - 2s - loss: 1.3184 - val_loss: 1.5114\n",
      "Epoch 18/41\n",
      " - 2s - loss: 1.3166 - val_loss: 1.5429\n",
      "Epoch 19/41\n",
      " - 2s - loss: 1.3152 - val_loss: 1.4969\n",
      "Epoch 20/41\n",
      " - 2s - loss: 1.3141 - val_loss: 1.5395\n",
      "Epoch 21/41\n",
      " - 2s - loss: 1.3129 - val_loss: 1.5087\n",
      "Epoch 22/41\n",
      " - 2s - loss: 1.3109 - val_loss: 1.4725\n",
      "Epoch 23/41\n",
      " - 2s - loss: 1.3100 - val_loss: 1.5206\n",
      "Epoch 24/41\n",
      " - 2s - loss: 1.3083 - val_loss: 1.5130\n",
      "Epoch 25/41\n",
      " - 2s - loss: 1.3073 - val_loss: 1.5267\n",
      "Epoch 26/41\n",
      " - 2s - loss: 1.3075 - val_loss: 1.5125\n",
      "Epoch 27/41\n",
      " - 2s - loss: 1.3064 - val_loss: 1.5077\n",
      "Epoch 28/41\n",
      " - 2s - loss: 1.3050 - val_loss: 1.4835\n",
      "Epoch 29/41\n",
      " - 2s - loss: 1.3032 - val_loss: 1.5355\n",
      "Epoch 30/41\n",
      " - 2s - loss: 1.3014 - val_loss: 1.4879\n",
      "Epoch 31/41\n",
      " - 2s - loss: 1.3010 - val_loss: 1.5550\n",
      "Epoch 32/41\n",
      " - 2s - loss: 1.2996 - val_loss: 1.4698\n",
      "Epoch 33/41\n",
      " - 2s - loss: 1.2990 - val_loss: 1.5105\n",
      "Epoch 34/41\n",
      " - 2s - loss: 1.2987 - val_loss: 1.5122\n",
      "Epoch 35/41\n",
      " - 2s - loss: 1.2980 - val_loss: 1.4897\n",
      "Epoch 36/41\n",
      " - 2s - loss: 1.2980 - val_loss: 1.5110\n",
      "Epoch 37/41\n",
      " - 2s - loss: 1.2962 - val_loss: 1.5389\n",
      "Epoch 38/41\n",
      " - 2s - loss: 1.2938 - val_loss: 1.5052\n",
      "Epoch 39/41\n",
      " - 2s - loss: 1.2940 - val_loss: 1.5298\n",
      "Epoch 40/41\n",
      " - 2s - loss: 1.2946 - val_loss: 1.5375\n",
      "Epoch 41/41\n",
      " - 2s - loss: 1.2925 - val_loss: 1.5082\n"
     ]
    },
    {
     "data": {
      "image/png": "[encoded data removed]",
      "text/plain": [
       "<Figure size 432x288 with 1 Axes>"
      ]
     },
     "metadata": {},
     "output_type": "display_data"
    },
    {
     "name": "stdout",
     "output_type": "stream",
     "text": [
      "CPU times: user 37.5 s, sys: 1.86 s, total: 39.3 s\n",
      "Wall time: 31 s\n",
      "\n",
      "CV RMSE for Site: 8 and Meter: 0 is 1.5109369219333861\n",
      "\n",
      "CV RMSE for Site: 8 is 1.5109369219333861\n"
     ]
    }
   ],
   "source": [
    "for meter in df_train.meter.unique():\n",
    "    print(\"Building Model for site_id\", site_id, \"and meter\", meter)\n",
    "        \n",
    "    df_train_site_meter = df_train[df_train.meter == meter].reset_index(drop=True)\n",
    "    df_test_site_meter = df_test[df_test.meter == meter].reset_index(drop=True)\n",
    "    \n",
    "    pred_val = np.zeros(df_train_site_meter.shape[0])\n",
    "    pred_test = np.zeros(df_test_site_meter.shape[0])\n",
    "\n",
    "    row_ids_test = df_test_site_meter.row_id\n",
    "    y_train_site_meter = df_train_site_meter.log_meter_reading.values\n",
    "    \n",
    "    df_train_site_meter = df_train_site_meter[features]\n",
    "    df_test_site_meter = df_test_site_meter[features]\n",
    "\n",
    "    df_train_site_meter = pd.get_dummies(df_train_site_meter)\n",
    "    df_test_site_meter = pd.get_dummies(df_test_site_meter)\n",
    "        \n",
    "    for k, (train_idx, valid_idx) in enumerate(folds.split(df_train_site_meter, y_train_site_meter)):\n",
    "        print(\"Preparing Site:\", site_id, \", meter:\", meter, \", Fold:\", k+1)\n",
    "        \n",
    "        X_train, y_train = df_train_site_meter.iloc[train_idx], y_train_site_meter[train_idx]\n",
    "        X_valid, y_valid = df_train_site_meter.iloc[valid_idx], y_train_site_meter[valid_idx]\n",
    "        \n",
    "        X_train.dropna(axis=1, how=\"all\", inplace=True)\n",
    "        X_train = X_train.loc[:, (X_train != X_train.iloc[0]).any()]\n",
    "\n",
    "        X_valid = X_valid[X_train.columns]\n",
    "        X_test = df_test_site_meter[X_train.columns]\n",
    "        \n",
    "        df_means = pd.concat([X_train, X_valid, X_test], ignore_index=True).mean()\n",
    "        X_train.fillna(df_means, inplace=True)\n",
    "        X_valid.fillna(df_means, inplace=True)\n",
    "        X_test.fillna(df_means, inplace=True)\n",
    "        \n",
    "        sc = MinMaxScaler()\n",
    "        sc.fit(pd.concat([X_train, X_valid, X_test], ignore_index=True))\n",
    "        \n",
    "        X_train = np.array(sc.transform(X_train))\n",
    "        X_valid = np.array(sc.transform(X_valid))\n",
    "        X_test = np.array(sc.transform(X_test))\n",
    "        \n",
    "        model = Sequential()\n",
    "        model.add(Dense(512, input_dim=X_train.shape[1], activation=\"relu\", kernel_initializer=keras.initializers.glorot_uniform(seed=seed)))\n",
    "        model.add(BatchNormalization())\n",
    "        model.add(Dropout(0.2))\n",
    "        model.add(Dense(128, activation=\"tanh\", kernel_initializer=keras.initializers.glorot_uniform(seed=seed)))\n",
    "        model.add(BatchNormalization())\n",
    "        model.add(Dropout(0.2))\n",
    "        model.add(Dense(16, activation=\"tanh\", kernel_initializer=keras.initializers.glorot_uniform(seed=seed)))\n",
    "        model.add(BatchNormalization())\n",
    "        model.add(Dropout(0.2))\n",
    "        model.add(Dense(1))\n",
    "        model.compile(loss=rmse, optimizer=\"adam\")\n",
    "        \n",
    "        model_ffnn = model.fit(X_train, y_train, epochs=41, batch_size=1300, validation_data=(X_valid, y_valid), verbose=2, shuffle=False)\n",
    "\n",
    "        plt.plot(model_ffnn.history[\"loss\"])\n",
    "        plt.plot(model_ffnn.history[\"val_loss\"])\n",
    "        plt.title(\"Loss for Site: \" + str(site_id) + \", Meter: \" + str(meter) + \", Fold: \" + str(k+1))\n",
    "        plt.ylabel(\"rmse\")\n",
    "        plt.xlabel(\"Epoch\")\n",
    "        plt.legend([\"train\", \"valid\"], loc=\"upper right\")\n",
    "        plt.show()\n",
    "        \n",
    "        pred_val[valid_idx] = model.predict(X_valid).ravel()\n",
    "        %time pred_test += model.predict(X_test).ravel() / cv\n",
    "        \n",
    "        gc.collect()\n",
    "        \n",
    "    df_valid = pd.DataFrame({\"site_id\": site_id, \"meter\": meter, \"meter_reading\": np.expm1(y_train_site_meter), \"pred_ffnn\": np.clip(np.expm1(pred_val), 0, a_max=None)})\n",
    "    df_pred = pd.DataFrame({\"row_id\": row_ids_test, \"meter_reading\": np.clip(np.expm1(pred_test), 0, a_max=None)})\n",
    "    \n",
    "    df_cv.append(df_valid)\n",
    "    df_preds.append(df_pred)\n",
    "    \n",
    "    gc.collect()\n",
    "    \n",
    "    print(\"\\nCV RMSE for Site:\", site_id, \"and Meter:\", meter, \"is\", np.sqrt(mean_squared_error(np.log1p(df_valid.meter_reading), np.log1p(df_valid.pred_ffnn))))\n",
    "\n",
    "df_cv = pd.concat(df_cv)\n",
    "print(\"\\nCV RMSE for Site:\", site_id, \"is\", np.sqrt(mean_squared_error(np.log1p(df_cv.meter_reading), np.log1p(df_cv.pred_ffnn))))\n"
   ]
  },
  {
   "cell_type": "code",
   "execution_count": 15,
   "metadata": {
    "ExecuteTime": {
     "end_time": "2020-04-26T14:42:36.977296Z",
     "start_time": "2020-04-26T14:42:33.365552Z"
    }
   },
   "outputs": [],
   "source": [
    "df_preds = pd.concat(df_preds)\n",
    "df_preds.to_csv(\"../sub/ffnn_pred_site_\" + str(site_id) + \".csv\", index=False)"
   ]
  },
  {
   "cell_type": "code",
   "execution_count": null,
   "metadata": {},
   "outputs": [],
   "source": []
  }
 ],
 "metadata": {
  "kernelspec": {
   "display_name": "Python 3",
   "language": "python",
   "name": "python3"
  },
  "language_info": {
   "codemirror_mode": {
    "name": "ipython",
    "version": 3
   },
   "file_extension": ".py",
   "mimetype": "text/x-python",
   "name": "python",
   "nbconvert_exporter": "python",
   "pygments_lexer": "ipython3",
   "version": "3.6.6"
  }
 },
 "nbformat": 4,
 "nbformat_minor": 1
}
