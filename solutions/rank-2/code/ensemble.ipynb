{
 "cells": [
  {
   "cell_type": "code",
   "execution_count": 1,
   "metadata": {
    "ExecuteTime": {
     "end_time": "2020-04-27T10:53:55.292820Z",
     "start_time": "2020-04-27T10:53:55.045662Z"
    }
   },
   "outputs": [],
   "source": [
    "import pandas as pd\n",
    "import numpy as np"
   ]
  },
  {
   "cell_type": "code",
   "execution_count": 2,
   "metadata": {
    "ExecuteTime": {
     "end_time": "2020-04-27T10:56:14.381703Z",
     "start_time": "2020-04-27T10:53:55.294280Z"
    }
   },
   "outputs": [
    {
     "name": "stderr",
     "output_type": "stream",
     "text": [
      "/home/ubuntu/anaconda3/envs/tensorflow_p36/lib/python3.6/site-packages/numpy/lib/arraysetops.py:569: FutureWarning: elementwise comparison failed; returning scalar instead, but in the future will perform elementwise comparison\n",
      "  mask |= (ar1 == a)\n"
     ]
    }
   ],
   "source": [
    "\n",
    "test = pd.read_csv('../input/ashrae-energy-prediction/test.csv', index_col=0, parse_dates = ['timestamp'])\n",
    "building = pd.read_csv('../input/ashrae-energy-prediction/building_metadata.csv', usecols=['site_id', 'building_id'])\n",
    "\n",
    "test = test.merge(building, left_on = \"building_id\", right_on = \"building_id\", how = \"left\")\n",
    "t = test[['building_id', 'meter', 'timestamp']]\n",
    "t['row_id'] = t.index\n",
    "\n",
    "#v1:ashrae-kfold-lightgbm-without-leak-1-08.ipynb\n",
    "#v2:ashrae-simple-data-cleanup-lb-1-08-no-leaks.ipynb\n",
    "#v3:another-1-08-lb-no-leak.ipynb\n",
    "submission_base1 = pd.read_csv('../sub/submission_1.08_v1.csv', index_col=0)\n",
    "submission_base2 = pd.read_csv('../sub/submission_1.08_v2.csv', index_col=0)\n",
    "submission_base3 = pd.read_csv('../sub/submission_1.08_v3.csv', index_col=0)\n",
    "submission_base4 = pd.read_csv('../sub/submission_1.10_v1.csv', index_col=0)\n",
    "\n",
    "submission_sub = np.expm1(np.log1p(submission_base1)*0.3+\n",
    "                          np.log1p(submission_base2)*0.3+\n",
    "                          np.log1p(submission_base3)*0.3+\n",
    "                          np.log1p(submission_base4)*0.1)\n",
    "test[\"meter_reading\"] = submission_sub.values\n",
    "import pandas as pd\n",
    "leak_df = pd.read_csv('../input/leakdata/leak.csv')\n",
    "leak_df['timestamp'] = pd.to_datetime(leak_df[\"timestamp\"])\n",
    "leak_df.dropna(0, inplace=True)\n",
    "leak_df = leak_df[(leak_df.timestamp.dt.year > 2016) & (leak_df.timestamp.dt.year < 2019)]\n",
    "leak_df.loc[leak_df.meter_reading < 0, 'meter_reading'] = 0 # remove large negative values\n",
    "leak_df = leak_df[leak_df.building_id!=245]\n",
    "leak_df['meter_reading_sc'] = leak_df['meter_reading'] \n",
    "del leak_df['meter_reading'] \n",
    "test = test.merge(leak_df, on=['building_id','meter','timestamp'], how='left')\n",
    "test['meter_reading'] = [a if (a >= 0 and site in [0,1,2,4,15]) else b for a,b,site in zip(test['meter_reading_sc'], test['meter_reading'], test['site_id'])]\n",
    "\n",
    "pub = pd.read_csv(\"../input/ashrae-energy-prediction/sample_submission.csv\")\n",
    "pub[\"meter_reading\"] = test['meter_reading']\n",
    "pub = pub.rename(columns = {\"meter_reading\":'meter_reading_pub'})\n",
    "\n"
   ]
  },
  {
   "cell_type": "code",
   "execution_count": 3,
   "metadata": {
    "ExecuteTime": {
     "end_time": "2020-04-27T10:58:48.061166Z",
     "start_time": "2020-04-27T10:56:14.383416Z"
    }
   },
   "outputs": [],
   "source": [
    "# pub = pd.read_csv('../sub/combv6sub.csv').rename(columns = {\"meter_reading\":'meter_reading_pub'})\n",
    "# lgb = pd.read_csv('../sub/lgb_delete_nulls_from_electrizity').rename(columns = {\"meter_reading\":'meter_reading_lgb'})\n",
    "# xgb = pd.read_csv('../sub/xgb_leak').rename(columns = {\"meter_reading\":'meter_reading_xgb'})\n",
    "lgb = pd.read_csv('../sub/lgb_3wise.csv').rename(columns = {\"meter_reading\":'meter_reading_lgb'})\n",
    "xgb = pd.read_csv('../sub/xgb_3wise.csv').rename(columns = {\"meter_reading\":'meter_reading_xgb'})\n",
    "cat = pd.read_csv('../sub/cb_3wise.csv').rename(columns = {\"meter_reading\":'meter_reading_cat'})\n",
    "ffnn = pd.read_csv('../sub/ffnn.csv').rename(columns = {\"meter_reading\":'meter_reading_ffnn'})\n",
    "\n",
    "\n",
    "test = pd.read_csv('../input/ashrae-energy-prediction/test.csv')[[\"row_id\", \"building_id\", \"meter\"]]\n",
    "building = pd.read_csv('../input/ashrae-energy-prediction/building_metadata.csv', usecols=['site_id', 'building_id'])\n",
    "submit = test.merge(building, left_on = \"building_id\", right_on = \"building_id\", how = \"left\")\n",
    "submit = submit.merge(lgb, on = \"row_id\", how =  \"left\")\n",
    "submit = submit.merge(pub, on = \"row_id\", how =  \"left\")\n",
    "submit = submit.merge(xgb, on = \"row_id\", how =  \"left\")\n",
    "submit = submit.merge(cat, on = \"row_id\", how =  \"left\")\n",
    "submit = submit.merge(ffnn, on = \"row_id\", how =  \"left\")\n",
    "\n",
    "\n",
    "\n",
    "\n"
   ]
  },
  {
   "cell_type": "code",
   "execution_count": 4,
   "metadata": {
    "ExecuteTime": {
     "end_time": "2020-04-27T10:58:51.739357Z",
     "start_time": "2020-04-27T10:58:48.062947Z"
    }
   },
   "outputs": [],
   "source": [
    "submit['meter_reading'] = 0.3*submit['meter_reading_xgb']+0.3*submit['meter_reading_lgb']+\\\n",
    "                                    0.15*submit['meter_reading_cat']+0.25*0.9*submit['meter_reading_pub']\n",
    "\n",
    "submit.loc[~submit.meter_reading_ffnn.isna(),'meter_reading'] = \\\n",
    "0.3*submit.loc[~submit.meter_reading_ffnn.isna(),'meter_reading_xgb'] +\\\n",
    "0.3*submit.loc[~submit.meter_reading_ffnn.isna(),'meter_reading_lgb'] +\\\n",
    "0.15*submit.loc[~submit.meter_reading_ffnn.isna(),'meter_reading_cat'] +\\\n",
    "0.20*0.9*submit.loc[~submit.meter_reading_ffnn.isna(),'meter_reading_pub'] +\\\n",
    "0.05*0.85*submit.loc[~submit.meter_reading_ffnn.isna(),'meter_reading_ffnn']\n",
    "\n",
    "\n",
    "\n",
    "\n",
    "submit.loc[submit.site_id.isin([0,1,2,15]),'meter_reading'] = \\\n",
    "submit.loc[submit.site_id.isin([0,1,2,15]),'meter_reading_xgb']\n",
    "\n",
    "submit.loc[submit.site_id.isin([4]),'meter_reading'] = \\\n",
    "0.5*submit.loc[submit.site_id.isin([4]),'meter_reading_lgb']+\\\n",
    "0.5*submit.loc[submit.site_id.isin([4]),'meter_reading_xgb']\n",
    "\n",
    "\n",
    "submit.loc[(~submit.meter_reading_ffnn.isna()) & (submit.building_id==1099),'meter_reading'] = \\\n",
    "0.95 * 0.9 * submit.loc[(~submit.meter_reading_ffnn.isna()) & (submit.building_id==1099),'meter_reading_pub']+\\\n",
    "0.05 * 0.85 * submit.loc[(~submit.meter_reading_ffnn.isna()) & (submit.building_id==1099),'meter_reading_ffnn']\n",
    "\n",
    "submit.loc[(submit.meter_reading_ffnn.isna()) & (submit.building_id==1099),'meter_reading'] = \\\n",
    "0.9 * submit.loc[(submit.meter_reading_ffnn.isna()) & (submit.building_id==1099),'meter_reading_pub']\n",
    "\n",
    "\n",
    "\n",
    "\n"
   ]
  },
  {
   "cell_type": "code",
   "execution_count": 5,
   "metadata": {
    "ExecuteTime": {
     "end_time": "2020-04-27T11:00:57.384533Z",
     "start_time": "2020-04-27T10:58:51.741103Z"
    }
   },
   "outputs": [],
   "source": [
    "sub = pd.read_csv(\"../input/ashrae-energy-prediction/sample_submission.csv\")\n",
    "\n",
    "sub[\"meter_reading\"] = 0.95*submit['meter_reading']\n",
    "sub.to_csv(\"../sub/final.csv\",  index = False,float_format=\"%.4f\")"
   ]
  },
  {
   "cell_type": "code",
   "execution_count": 6,
   "metadata": {
    "ExecuteTime": {
     "end_time": "2020-04-27T11:00:57.400404Z",
     "start_time": "2020-04-27T11:00:57.386357Z"
    }
   },
   "outputs": [
    {
     "data": {
      "text/html": [
       "<div>\n",
       "<style scoped>\n",
       "    .dataframe tbody tr th:only-of-type {\n",
       "        vertical-align: middle;\n",
       "    }\n",
       "\n",
       "    .dataframe tbody tr th {\n",
       "        vertical-align: top;\n",
       "    }\n",
       "\n",
       "    .dataframe thead th {\n",
       "        text-align: right;\n",
       "    }\n",
       "</style>\n",
       "<table border=\"1\" class=\"dataframe\">\n",
       "  <thead>\n",
       "    <tr style=\"text-align: right;\">\n",
       "      <th></th>\n",
       "      <th>row_id</th>\n",
       "      <th>meter_reading</th>\n",
       "    </tr>\n",
       "  </thead>\n",
       "  <tbody>\n",
       "    <tr>\n",
       "      <th>0</th>\n",
       "      <td>0</td>\n",
       "      <td>164.701785</td>\n",
       "    </tr>\n",
       "    <tr>\n",
       "      <th>1</th>\n",
       "      <td>1</td>\n",
       "      <td>50.837065</td>\n",
       "    </tr>\n",
       "    <tr>\n",
       "      <th>2</th>\n",
       "      <td>2</td>\n",
       "      <td>5.835850</td>\n",
       "    </tr>\n",
       "    <tr>\n",
       "      <th>3</th>\n",
       "      <td>3</td>\n",
       "      <td>96.616425</td>\n",
       "    </tr>\n",
       "    <tr>\n",
       "      <th>4</th>\n",
       "      <td>4</td>\n",
       "      <td>1084.178665</td>\n",
       "    </tr>\n",
       "  </tbody>\n",
       "</table>\n",
       "</div>"
      ],
      "text/plain": [
       "   row_id  meter_reading\n",
       "0       0     164.701785\n",
       "1       1      50.837065\n",
       "2       2       5.835850\n",
       "3       3      96.616425\n",
       "4       4    1084.178665"
      ]
     },
     "execution_count": 6,
     "metadata": {},
     "output_type": "execute_result"
    }
   ],
   "source": [
    "sub.head()"
   ]
  },
  {
   "cell_type": "code",
   "execution_count": 7,
   "metadata": {
    "ExecuteTime": {
     "end_time": "2020-04-27T11:00:57.403413Z",
     "start_time": "2020-04-27T11:00:57.401671Z"
    }
   },
   "outputs": [],
   "source": [
    "# !kaggle competitions submit -c ashrae-energy-prediction -f ../subsub/final_testv2.csv -m \"final_testv2.csv\"\n",
    "\n"
   ]
  },
  {
   "cell_type": "code",
   "execution_count": null,
   "metadata": {},
   "outputs": [],
   "source": []
  },
  {
   "cell_type": "code",
   "execution_count": null,
   "metadata": {},
   "outputs": [],
   "source": []
  },
  {
   "cell_type": "code",
   "execution_count": null,
   "metadata": {},
   "outputs": [],
   "source": []
  },
  {
   "cell_type": "code",
   "execution_count": null,
   "metadata": {},
   "outputs": [],
   "source": []
  }
 ],
 "metadata": {
  "kernelspec": {
   "display_name": "Python 3",
   "language": "python",
   "name": "python3"
  },
  "language_info": {
   "codemirror_mode": {
    "name": "ipython",
    "version": 3
   },
   "file_extension": ".py",
   "mimetype": "text/x-python",
   "name": "python",
   "nbconvert_exporter": "python",
   "pygments_lexer": "ipython3",
   "version": "3.7.4"
  }
 },
 "nbformat": 4,
 "nbformat_minor": 2
}
