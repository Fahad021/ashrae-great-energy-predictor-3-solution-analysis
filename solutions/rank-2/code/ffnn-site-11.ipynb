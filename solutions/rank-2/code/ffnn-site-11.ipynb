{
 "cells": [
  {
   "cell_type": "code",
   "execution_count": 2,
   "metadata": {
    "ExecuteTime": {
     "end_time": "2020-04-26T15:12:03.466281Z",
     "start_time": "2020-04-26T15:12:03.464129Z"
    }
   },
   "outputs": [],
   "source": [
    "#!pip install tensorflow==1.14.0"
   ]
  },
  {
   "cell_type": "code",
   "execution_count": 3,
   "metadata": {
    "ExecuteTime": {
     "end_time": "2020-04-26T15:12:03.469690Z",
     "start_time": "2020-04-26T15:12:03.467655Z"
    }
   },
   "outputs": [],
   "source": [
    "#!pip install keras==2.2.5"
   ]
  },
  {
   "cell_type": "code",
   "execution_count": 4,
   "metadata": {
    "ExecuteTime": {
     "end_time": "2020-04-26T15:12:05.330449Z",
     "start_time": "2020-04-26T15:12:03.470956Z"
    }
   },
   "outputs": [
    {
     "name": "stdout",
     "output_type": "stream",
     "text": [
      "WARNING:tensorflow:From /home/ubuntu/anaconda3/envs/tensorflow_p36/lib/python3.6/site-packages/tensorflow_core/__init__.py:1467: The name tf.estimator.inputs is deprecated. Please use tf.compat.v1.estimator.inputs instead.\n",
      "\n"
     ]
    },
    {
     "name": "stderr",
     "output_type": "stream",
     "text": [
      "Using TensorFlow backend.\n"
     ]
    }
   ],
   "source": [
    "import os\n",
    "os.environ[\"PYTHONHASHSEED\"] = \"13\"\n",
    "os.environ[\"CUDA_VISIBLE_DEVICES\"] = \"0:1\"\n",
    "\n",
    "import numpy as np\n",
    "import tensorflow as tf\n",
    "import random as rn\n",
    "\n",
    "# The below is necessary for starting Numpy generated random numbers\n",
    "# in a well-defined initial state.\n",
    "\n",
    "np.random.seed(13)\n",
    "\n",
    "# The below is necessary for starting core Python generated random numbers\n",
    "# in a well-defined state.\n",
    "\n",
    "rn.seed(13)\n",
    "\n",
    "# Force TensorFlow to use single thread.\n",
    "# Multiple threads are a potential source of non-reproducible results.\n",
    "# For further details, see: https://stackoverflow.com/questions/42022950/\n",
    "\n",
    "session_conf = tf.ConfigProto(intra_op_parallelism_threads=1,\n",
    "                              inter_op_parallelism_threads=1)\n",
    "\n",
    "from keras import backend as K\n",
    "\n",
    "# The below tf.set_random_seed() will make random number generation\n",
    "# in the TensorFlow backend have a well-defined initial state.\n",
    "# For further details, see:\n",
    "# https://www.tensorflow.org/api_docs/python/tf/set_random_seed\n",
    "\n",
    "tf.set_random_seed(13)\n",
    "\n",
    "sess = tf.Session(graph=tf.get_default_graph(), config=session_conf)\n",
    "K.set_session(sess)"
   ]
  },
  {
   "cell_type": "code",
   "execution_count": 5,
   "metadata": {
    "ExecuteTime": {
     "end_time": "2020-04-26T15:12:05.629517Z",
     "start_time": "2020-04-26T15:12:05.332002Z"
    },
    "_cell_guid": "b1076dfc-b9ad-4769-8c92-a6c4dae69d19",
    "_uuid": "8f2839f25d086af736a60e9eeb907d3b93b6e0e5"
   },
   "outputs": [],
   "source": [
    "import gc\n",
    "import warnings\n",
    "\n",
    "#import lightgbm as lgb\n",
    "import pandas as pd\n",
    "\n",
    "from matplotlib import pyplot as plt\n",
    "from sklearn.metrics import mean_squared_error\n",
    "from sklearn.model_selection import KFold\n",
    "from sklearn.preprocessing import LabelEncoder, MinMaxScaler, StandardScaler\n",
    "from tqdm.notebook import tqdm\n",
    "\n",
    "import keras\n",
    "from keras.models import Sequential\n",
    "from keras.layers import BatchNormalization, Dense, Dropout\n",
    "\n",
    "path_data = \"../input/ashrae-energy-prediction/\"\n",
    "path_train = path_data + \"train.csv\"\n",
    "path_test = path_data + \"test.csv\"\n",
    "path_building = path_data + \"building_metadata.csv\"\n",
    "path_weather_train = path_data + \"weather_train.csv\"\n",
    "path_weather_test = path_data + \"weather_test.csv\"\n",
    "\n",
    "myfavouritenumber = 13\n",
    "seed = myfavouritenumber\n",
    "\n",
    "warnings.filterwarnings(\"ignore\")"
   ]
  },
  {
   "cell_type": "code",
   "execution_count": 6,
   "metadata": {
    "ExecuteTime": {
     "end_time": "2020-04-26T15:12:05.632806Z",
     "start_time": "2020-04-26T15:12:05.630926Z"
    }
   },
   "outputs": [],
   "source": [
    "site_id = 11"
   ]
  },
  {
   "cell_type": "code",
   "execution_count": 7,
   "metadata": {
    "ExecuteTime": {
     "end_time": "2020-04-26T15:12:52.728952Z",
     "start_time": "2020-04-26T15:12:05.634081Z"
    }
   },
   "outputs": [
    {
     "data": {
      "text/plain": [
       "49"
      ]
     },
     "execution_count": 7,
     "metadata": {},
     "output_type": "execute_result"
    }
   ],
   "source": [
    "df_train = pd.read_csv(path_train)\n",
    "df_test = pd.read_csv(path_test)\n",
    "\n",
    "building = pd.read_csv(path_building)\n",
    "\n",
    "weather_train = pd.read_csv(path_weather_train)\n",
    "weather_test = pd.read_csv(path_weather_test)\n",
    "\n",
    "weather_train.drop([\"sea_level_pressure\", \"wind_direction\", \"wind_speed\"], axis=1, inplace=True)\n",
    "weather_test.drop([\"sea_level_pressure\", \"wind_direction\", \"wind_speed\"], axis=1, inplace=True)\n",
    "\n",
    "weather_train = weather_train.groupby(\"site_id\").apply(lambda group: group.interpolate(limit_direction=\"both\"))\n",
    "weather_test = weather_test.groupby(\"site_id\").apply(lambda group: group.interpolate(limit_direction=\"both\"))\n",
    "\n",
    "df_train = df_train.merge(building, on=\"building_id\")\n",
    "df_test = df_test.merge(building, on=\"building_id\")\n",
    "\n",
    "df_train = df_train[df_train.site_id == site_id]\n",
    "df_test = df_test[df_test.site_id == site_id]\n",
    "\n",
    "df_train[\"log_meter_reading\"] = np.log1p(df_train.meter_reading)\n",
    "\n",
    "df_train = df_train[~(df_train.log_meter_reading < 3)]\n",
    "\n",
    "df_train = df_train[df_train.meter == 0]\n",
    "\n",
    "df_train = df_train.merge(weather_train, on=[\"site_id\", \"timestamp\"], how=\"left\")\n",
    "df_test = df_test.merge(weather_test, on=[\"site_id\", \"timestamp\"], how=\"left\")\n",
    "\n",
    "df_train.timestamp = pd.to_datetime(df_train.timestamp, format='%Y-%m-%d %H:%M:%S')\n",
    "df_test.timestamp = pd.to_datetime(df_test.timestamp, format='%Y-%m-%d %H:%M:%S')\n",
    "\n",
    "df_train.building_id = df_train.building_id.astype(\"str\")\n",
    "df_test.building_id = df_test.building_id.astype(\"str\")\n",
    "\n",
    "del building\n",
    "gc.collect()"
   ]
  },
  {
   "cell_type": "code",
   "execution_count": 8,
   "metadata": {
    "ExecuteTime": {
     "end_time": "2020-04-26T15:12:53.163338Z",
     "start_time": "2020-04-26T15:12:52.730358Z"
    }
   },
   "outputs": [],
   "source": [
    "df_train[\"hour\"] = df_train.timestamp.dt.hour.astype(\"str\")\n",
    "df_test[\"hour\"] = df_test.timestamp.dt.hour.astype(\"str\")\n",
    "\n",
    "df_train[\"weekday\"] = df_train.timestamp.dt.weekday.astype(\"str\")\n",
    "df_test[\"weekday\"] = df_test.timestamp.dt.weekday.astype(\"str\")\n",
    "\n",
    "df_train[\"month\"] = df_train.timestamp.dt.month.astype(\"str\")\n",
    "df_test[\"month\"] = df_test.timestamp.dt.month.astype(\"str\")"
   ]
  },
  {
   "cell_type": "code",
   "execution_count": 9,
   "metadata": {
    "ExecuteTime": {
     "end_time": "2020-04-26T15:12:53.167914Z",
     "start_time": "2020-04-26T15:12:53.164939Z"
    }
   },
   "outputs": [],
   "source": [
    "features = [\n",
    "    \"building_id\",\n",
    "    \"square_feet\",\n",
    "    \"year_built\",\n",
    "    \"floor_count\",\n",
    "    \"primary_use\",\n",
    "    \"air_temperature\",\n",
    "    \"cloud_coverage\",\n",
    "    \"dew_temperature\",\n",
    "    \"precip_depth_1_hr\",\n",
    "    \"hour\",\n",
    "    \"weekday\",\n",
    "    \"month\"\n",
    "]"
   ]
  },
  {
   "cell_type": "code",
   "execution_count": 10,
   "metadata": {
    "ExecuteTime": {
     "end_time": "2020-04-26T15:12:53.172180Z",
     "start_time": "2020-04-26T15:12:53.169269Z"
    }
   },
   "outputs": [],
   "source": [
    "def rmse(y_true, y_pred):\n",
    "    return K.sqrt(K.mean(K.square(y_pred - y_true)))"
   ]
  },
  {
   "cell_type": "code",
   "execution_count": 11,
   "metadata": {
    "ExecuteTime": {
     "end_time": "2020-04-26T15:12:53.270879Z",
     "start_time": "2020-04-26T15:12:53.173417Z"
    }
   },
   "outputs": [],
   "source": [
    "cv = 4\n",
    "folds = KFold(n_splits = cv, shuffle = False, random_state = seed)\n",
    "\n",
    "df_cv = []\n",
    "df_preds = []"
   ]
  },
  {
   "cell_type": "code",
   "execution_count": 12,
   "metadata": {
    "ExecuteTime": {
     "end_time": "2020-04-26T15:14:43.658601Z",
     "start_time": "2020-04-26T15:12:53.272271Z"
    },
    "scrolled": true
   },
   "outputs": [
    {
     "name": "stdout",
     "output_type": "stream",
     "text": [
      "Building Model for site_id 11 and meter 0\n",
      "Preparing Site: 11 , meter: 0 , Fold: 1\n",
      "WARNING:tensorflow:From /home/ubuntu/anaconda3/envs/tensorflow_p36/lib/python3.6/site-packages/keras/backend/tensorflow_backend.py:517: The name tf.placeholder is deprecated. Please use tf.compat.v1.placeholder instead.\n",
      "\n",
      "WARNING:tensorflow:From /home/ubuntu/anaconda3/envs/tensorflow_p36/lib/python3.6/site-packages/keras/backend/tensorflow_backend.py:4138: The name tf.random_uniform is deprecated. Please use tf.random.uniform instead.\n",
      "\n",
      "WARNING:tensorflow:From /home/ubuntu/anaconda3/envs/tensorflow_p36/lib/python3.6/site-packages/keras/backend/tensorflow_backend.py:133: The name tf.placeholder_with_default is deprecated. Please use tf.compat.v1.placeholder_with_default instead.\n",
      "\n",
      "WARNING:tensorflow:From /home/ubuntu/anaconda3/envs/tensorflow_p36/lib/python3.6/site-packages/keras/backend/tensorflow_backend.py:3445: calling dropout (from tensorflow.python.ops.nn_ops) with keep_prob is deprecated and will be removed in a future version.\n",
      "Instructions for updating:\n",
      "Please use `rate` instead of `keep_prob`. Rate should be set to `rate = 1 - keep_prob`.\n",
      "WARNING:tensorflow:From /home/ubuntu/anaconda3/envs/tensorflow_p36/lib/python3.6/site-packages/keras/optimizers.py:790: The name tf.train.Optimizer is deprecated. Please use tf.compat.v1.train.Optimizer instead.\n",
      "\n",
      "WARNING:tensorflow:From /home/ubuntu/anaconda3/envs/tensorflow_p36/lib/python3.6/site-packages/tensorflow_core/python/ops/math_grad.py:1424: where (from tensorflow.python.ops.array_ops) is deprecated and will be removed in a future version.\n",
      "Instructions for updating:\n",
      "Use tf.where in 2.0, which has the same broadcast rule as np.where\n",
      "WARNING:tensorflow:From /home/ubuntu/anaconda3/envs/tensorflow_p36/lib/python3.6/site-packages/keras/backend/tensorflow_backend.py:986: The name tf.assign_add is deprecated. Please use tf.compat.v1.assign_add instead.\n",
      "\n",
      "WARNING:tensorflow:From /home/ubuntu/anaconda3/envs/tensorflow_p36/lib/python3.6/site-packages/keras/backend/tensorflow_backend.py:973: The name tf.assign is deprecated. Please use tf.compat.v1.assign instead.\n",
      "\n",
      "Train on 32548 samples, validate on 10850 samples\n",
      "Epoch 1/41\n",
      "WARNING:tensorflow:From /home/ubuntu/anaconda3/envs/tensorflow_p36/lib/python3.6/site-packages/keras/backend/tensorflow_backend.py:174: The name tf.get_default_session is deprecated. Please use tf.compat.v1.get_default_session instead.\n",
      "\n",
      "WARNING:tensorflow:From /home/ubuntu/anaconda3/envs/tensorflow_p36/lib/python3.6/site-packages/keras/backend/tensorflow_backend.py:190: The name tf.global_variables is deprecated. Please use tf.compat.v1.global_variables instead.\n",
      "\n",
      "WARNING:tensorflow:From /home/ubuntu/anaconda3/envs/tensorflow_p36/lib/python3.6/site-packages/keras/backend/tensorflow_backend.py:199: The name tf.is_variable_initialized is deprecated. Please use tf.compat.v1.is_variable_initialized instead.\n",
      "\n",
      "WARNING:tensorflow:From /home/ubuntu/anaconda3/envs/tensorflow_p36/lib/python3.6/site-packages/keras/backend/tensorflow_backend.py:206: The name tf.variables_initializer is deprecated. Please use tf.compat.v1.variables_initializer instead.\n",
      "\n",
      " - 23s - loss: 5.3307 - val_loss: 5.1447\n",
      "Epoch 2/41\n",
      " - 0s - loss: 5.2283 - val_loss: 5.1191\n",
      "Epoch 3/41\n",
      " - 0s - loss: 5.1297 - val_loss: 5.0604\n",
      "Epoch 4/41\n",
      " - 0s - loss: 5.0333 - val_loss: 4.9611\n",
      "Epoch 5/41\n",
      " - 0s - loss: 4.9099 - val_loss: 4.8532\n",
      "Epoch 6/41\n",
      " - 0s - loss: 4.7713 - val_loss: 4.7072\n",
      "Epoch 7/41\n",
      " - 0s - loss: 4.6092 - val_loss: 4.5292\n",
      "Epoch 8/41\n",
      " - 0s - loss: 4.4216 - val_loss: 4.3387\n",
      "Epoch 9/41\n",
      " - 0s - loss: 4.2147 - val_loss: 4.1215\n",
      "Epoch 10/41\n",
      " - 0s - loss: 3.9754 - val_loss: 3.8775\n",
      "Epoch 11/41\n",
      " - 0s - loss: 3.7367 - val_loss: 3.6157\n",
      "Epoch 12/41\n",
      " - 0s - loss: 3.4583 - val_loss: 3.3123\n",
      "Epoch 13/41\n",
      " - 0s - loss: 3.1805 - val_loss: 3.0064\n",
      "Epoch 14/41\n",
      " - 0s - loss: 2.8788 - val_loss: 2.6786\n",
      "Epoch 15/41\n",
      " - 0s - loss: 2.5713 - val_loss: 2.3428\n",
      "Epoch 16/41\n",
      " - 0s - loss: 2.2905 - val_loss: 1.9948\n",
      "Epoch 17/41\n",
      " - 0s - loss: 2.0082 - val_loss: 1.6645\n",
      "Epoch 18/41\n",
      " - 0s - loss: 1.7629 - val_loss: 1.3650\n",
      "Epoch 19/41\n",
      " - 0s - loss: 1.5750 - val_loss: 1.1404\n",
      "Epoch 20/41\n",
      " - 0s - loss: 1.4584 - val_loss: 0.9882\n",
      "Epoch 21/41\n",
      " - 0s - loss: 1.4024 - val_loss: 0.8863\n",
      "Epoch 22/41\n",
      " - 0s - loss: 1.3644 - val_loss: 0.8137\n",
      "Epoch 23/41\n",
      " - 0s - loss: 1.3508 - val_loss: 0.7656\n",
      "Epoch 24/41\n",
      " - 0s - loss: 1.3381 - val_loss: 0.7317\n",
      "Epoch 25/41\n",
      " - 0s - loss: 1.3279 - val_loss: 0.7121\n",
      "Epoch 26/41\n",
      " - 0s - loss: 1.3168 - val_loss: 0.6959\n",
      "Epoch 27/41\n",
      " - 0s - loss: 1.3128 - val_loss: 0.6847\n",
      "Epoch 28/41\n",
      " - 0s - loss: 1.3101 - val_loss: 0.6744\n",
      "Epoch 29/41\n",
      " - 0s - loss: 1.3131 - val_loss: 0.6678\n",
      "Epoch 30/41\n",
      " - 0s - loss: 1.3075 - val_loss: 0.6648\n",
      "Epoch 31/41\n",
      " - 0s - loss: 1.3062 - val_loss: 0.6624\n",
      "Epoch 32/41\n",
      " - 0s - loss: 1.2971 - val_loss: 0.6591\n",
      "Epoch 33/41\n",
      " - 0s - loss: 1.2998 - val_loss: 0.6517\n",
      "Epoch 34/41\n",
      " - 0s - loss: 1.2993 - val_loss: 0.6467\n",
      "Epoch 35/41\n",
      " - 0s - loss: 1.2941 - val_loss: 0.6412\n",
      "Epoch 36/41\n",
      " - 0s - loss: 1.2859 - val_loss: 0.6405\n",
      "Epoch 37/41\n",
      " - 0s - loss: 1.2861 - val_loss: 0.6347\n",
      "Epoch 38/41\n",
      " - 0s - loss: 1.2935 - val_loss: 0.6281\n",
      "Epoch 39/41\n",
      " - 0s - loss: 1.2765 - val_loss: 0.6219\n",
      "Epoch 40/41\n",
      " - 0s - loss: 1.2779 - val_loss: 0.6189\n",
      "Epoch 41/41\n",
      " - 0s - loss: 1.2826 - val_loss: 0.6162\n"
     ]
    },
    {
     "data": {
      "image/png": "[encoded data removed]",
      "text/plain": [
       "<Figure size 432x288 with 1 Axes>"
      ]
     },
     "metadata": {},
     "output_type": "display_data"
    },
    {
     "name": "stdout",
     "output_type": "stream",
     "text": [
      "CPU times: user 2.29 s, sys: 129 ms, total: 2.42 s\n",
      "Wall time: 1.83 s\n",
      "Preparing Site: 11 , meter: 0 , Fold: 2\n",
      "Train on 32548 samples, validate on 10850 samples\n",
      "Epoch 1/41\n",
      " - 1s - loss: 5.6316 - val_loss: 4.9604\n",
      "Epoch 2/41\n",
      " - 0s - loss: 5.4437 - val_loss: 4.8153\n",
      "Epoch 3/41\n",
      " - 0s - loss: 5.3019 - val_loss: 4.6771\n",
      "Epoch 4/41\n",
      " - 0s - loss: 5.1647 - val_loss: 4.4885\n",
      "Epoch 5/41\n",
      " - 0s - loss: 5.0170 - val_loss: 4.3174\n",
      "Epoch 6/41\n",
      " - 0s - loss: 4.8425 - val_loss: 4.1355\n",
      "Epoch 7/41\n",
      " - 0s - loss: 4.6608 - val_loss: 3.9371\n",
      "Epoch 8/41\n",
      " - 0s - loss: 4.4550 - val_loss: 3.7140\n",
      "Epoch 9/41\n",
      " - 0s - loss: 4.2330 - val_loss: 3.4424\n",
      "Epoch 10/41\n",
      " - 0s - loss: 3.9779 - val_loss: 3.1700\n",
      "Epoch 11/41\n",
      " - 0s - loss: 3.7147 - val_loss: 2.8667\n",
      "Epoch 12/41\n",
      " - 0s - loss: 3.4410 - val_loss: 2.5550\n",
      "Epoch 13/41\n",
      " - 0s - loss: 3.1410 - val_loss: 2.2271\n",
      "Epoch 14/41\n",
      " - 0s - loss: 2.8529 - val_loss: 1.8954\n",
      "Epoch 15/41\n",
      " - 0s - loss: 2.5514 - val_loss: 1.5471\n",
      "Epoch 16/41\n",
      " - 0s - loss: 2.2490 - val_loss: 1.2137\n",
      "Epoch 17/41\n",
      " - 0s - loss: 1.9940 - val_loss: 0.8960\n",
      "Epoch 18/41\n",
      " - 0s - loss: 1.7708 - val_loss: 0.6534\n",
      "Epoch 19/41\n",
      " - 0s - loss: 1.5917 - val_loss: 0.5519\n",
      "Epoch 20/41\n",
      " - 0s - loss: 1.4877 - val_loss: 0.5463\n",
      "Epoch 21/41\n",
      " - 0s - loss: 1.4195 - val_loss: 0.5679\n",
      "Epoch 22/41\n",
      " - 0s - loss: 1.3632 - val_loss: 0.5849\n",
      "Epoch 23/41\n",
      " - 0s - loss: 1.3576 - val_loss: 0.5955\n",
      "Epoch 24/41\n",
      " - 0s - loss: 1.3295 - val_loss: 0.6106\n",
      "Epoch 25/41\n",
      " - 0s - loss: 1.3306 - val_loss: 0.6187\n",
      "Epoch 26/41\n",
      " - 0s - loss: 1.3139 - val_loss: 0.6214\n",
      "Epoch 27/41\n",
      " - 0s - loss: 1.3067 - val_loss: 0.6207\n",
      "Epoch 28/41\n",
      " - 0s - loss: 1.2963 - val_loss: 0.6196\n",
      "Epoch 29/41\n",
      " - 0s - loss: 1.2969 - val_loss: 0.6180\n",
      "Epoch 30/41\n",
      " - 0s - loss: 1.2915 - val_loss: 0.6147\n",
      "Epoch 31/41\n",
      " - 0s - loss: 1.2849 - val_loss: 0.6125\n",
      "Epoch 32/41\n",
      " - 0s - loss: 1.2879 - val_loss: 0.6132\n",
      "Epoch 33/41\n",
      " - 0s - loss: 1.2850 - val_loss: 0.6167\n",
      "Epoch 34/41\n",
      " - 0s - loss: 1.2720 - val_loss: 0.6135\n",
      "Epoch 35/41\n",
      " - 0s - loss: 1.2754 - val_loss: 0.6116\n",
      "Epoch 36/41\n",
      " - 0s - loss: 1.2703 - val_loss: 0.6120\n",
      "Epoch 37/41\n",
      " - 0s - loss: 1.2742 - val_loss: 0.6164\n",
      "Epoch 38/41\n",
      " - 0s - loss: 1.2611 - val_loss: 0.6197\n",
      "Epoch 39/41\n",
      " - 0s - loss: 1.2597 - val_loss: 0.6186\n",
      "Epoch 40/41\n",
      " - 0s - loss: 1.2584 - val_loss: 0.6208\n",
      "Epoch 41/41\n",
      " - 0s - loss: 1.2589 - val_loss: 0.6176\n"
     ]
    },
    {
     "data": {
      "image/png": "[encoded data removed]",
      "text/plain": [
       "<Figure size 432x288 with 1 Axes>"
      ]
     },
     "metadata": {},
     "output_type": "display_data"
    },
    {
     "name": "stdout",
     "output_type": "stream",
     "text": [
      "CPU times: user 2.34 s, sys: 134 ms, total: 2.48 s\n",
      "Wall time: 1.89 s\n",
      "Preparing Site: 11 , meter: 0 , Fold: 3\n",
      "Train on 32549 samples, validate on 10849 samples\n",
      "Epoch 1/41\n",
      " - 1s - loss: 5.3780 - val_loss: 5.6772\n",
      "Epoch 2/41\n",
      " - 0s - loss: 5.1437 - val_loss: 5.5604\n",
      "Epoch 3/41\n",
      " - 0s - loss: 4.9781 - val_loss: 5.3967\n",
      "Epoch 4/41\n",
      " - 0s - loss: 4.8323 - val_loss: 5.2551\n",
      "Epoch 5/41\n",
      " - 0s - loss: 4.6915 - val_loss: 5.1118\n",
      "Epoch 6/41\n",
      " - 0s - loss: 4.5448 - val_loss: 4.9668\n",
      "Epoch 7/41\n",
      " - 0s - loss: 4.3646 - val_loss: 4.7963\n",
      "Epoch 8/41\n",
      " - 0s - loss: 4.1752 - val_loss: 4.5927\n",
      "Epoch 9/41\n",
      " - 0s - loss: 3.9615 - val_loss: 4.3442\n",
      "Epoch 10/41\n",
      " - 0s - loss: 3.7509 - val_loss: 4.0838\n",
      "Epoch 11/41\n",
      " - 0s - loss: 3.4894 - val_loss: 3.8190\n",
      "Epoch 12/41\n",
      " - 0s - loss: 3.2402 - val_loss: 3.5474\n",
      "Epoch 13/41\n",
      " - 0s - loss: 2.9706 - val_loss: 3.2480\n",
      "Epoch 14/41\n",
      " - 0s - loss: 2.6910 - val_loss: 2.9295\n",
      "Epoch 15/41\n",
      " - 0s - loss: 2.4062 - val_loss: 2.6109\n",
      "Epoch 16/41\n",
      " - 0s - loss: 2.1334 - val_loss: 2.2911\n",
      "Epoch 17/41\n",
      " - 0s - loss: 1.9002 - val_loss: 1.9830\n",
      "Epoch 18/41\n",
      " - 0s - loss: 1.7016 - val_loss: 1.7046\n",
      "Epoch 19/41\n",
      " - 0s - loss: 1.5718 - val_loss: 1.4925\n",
      "Epoch 20/41\n",
      " - 0s - loss: 1.4644 - val_loss: 1.3306\n",
      "Epoch 21/41\n",
      " - 0s - loss: 1.4187 - val_loss: 1.2089\n",
      "Epoch 22/41\n",
      " - 0s - loss: 1.3724 - val_loss: 1.1283\n",
      "Epoch 23/41\n",
      " - 0s - loss: 1.3569 - val_loss: 1.0708\n",
      "Epoch 24/41\n",
      " - 0s - loss: 1.3463 - val_loss: 1.0309\n",
      "Epoch 25/41\n",
      " - 0s - loss: 1.3247 - val_loss: 1.0049\n",
      "Epoch 26/41\n",
      " - 0s - loss: 1.3038 - val_loss: 0.9882\n",
      "Epoch 27/41\n",
      " - 0s - loss: 1.2911 - val_loss: 0.9740\n",
      "Epoch 28/41\n",
      " - 0s - loss: 1.3054 - val_loss: 0.9594\n",
      "Epoch 29/41\n",
      " - 0s - loss: 1.2837 - val_loss: 0.9514\n",
      "Epoch 30/41\n",
      " - 0s - loss: 1.2806 - val_loss: 0.9391\n",
      "Epoch 31/41\n",
      " - 0s - loss: 1.2813 - val_loss: 0.9293\n",
      "Epoch 32/41\n",
      " - 0s - loss: 1.2752 - val_loss: 0.9239\n",
      "Epoch 33/41\n",
      " - 0s - loss: 1.2636 - val_loss: 0.9159\n",
      "Epoch 34/41\n",
      " - 0s - loss: 1.2691 - val_loss: 0.9142\n",
      "Epoch 35/41\n",
      " - 0s - loss: 1.2661 - val_loss: 0.9076\n",
      "Epoch 36/41\n",
      " - 0s - loss: 1.2630 - val_loss: 0.9048\n",
      "Epoch 37/41\n",
      " - 0s - loss: 1.2685 - val_loss: 0.9014\n",
      "Epoch 38/41\n",
      " - 0s - loss: 1.2563 - val_loss: 0.9005\n",
      "Epoch 39/41\n",
      " - 0s - loss: 1.2411 - val_loss: 0.8937\n",
      "Epoch 40/41\n",
      " - 0s - loss: 1.2505 - val_loss: 0.8856\n",
      "Epoch 41/41\n",
      " - 0s - loss: 1.2425 - val_loss: 0.8780\n"
     ]
    },
    {
     "data": {
      "image/png": "[encoded data removed]",
      "text/plain": [
       "<Figure size 432x288 with 1 Axes>"
      ]
     },
     "metadata": {},
     "output_type": "display_data"
    },
    {
     "name": "stdout",
     "output_type": "stream",
     "text": [
      "CPU times: user 2.84 s, sys: 131 ms, total: 2.97 s\n",
      "Wall time: 2.36 s\n",
      "Preparing Site: 11 , meter: 0 , Fold: 4\n",
      "Train on 32549 samples, validate on 10849 samples\n",
      "Epoch 1/41\n",
      " - 2s - loss: 5.3749 - val_loss: 5.2328\n",
      "Epoch 2/41\n",
      " - 0s - loss: 5.2415 - val_loss: 5.1304\n",
      "Epoch 3/41\n",
      " - 0s - loss: 5.1264 - val_loss: 5.0053\n",
      "Epoch 4/41\n",
      " - 0s - loss: 5.0217 - val_loss: 4.8663\n",
      "Epoch 5/41\n",
      " - 0s - loss: 4.8863 - val_loss: 4.7260\n",
      "Epoch 6/41\n",
      " - 0s - loss: 4.7434 - val_loss: 4.5700\n",
      "Epoch 7/41\n",
      " - 0s - loss: 4.5700 - val_loss: 4.3777\n",
      "Epoch 8/41\n",
      " - 0s - loss: 4.3790 - val_loss: 4.1689\n",
      "Epoch 9/41\n",
      " - 0s - loss: 4.1647 - val_loss: 3.9589\n",
      "Epoch 10/41\n",
      " - 0s - loss: 3.9185 - val_loss: 3.7058\n",
      "Epoch 11/41\n",
      " - 0s - loss: 3.6557 - val_loss: 3.4371\n",
      "Epoch 12/41\n",
      " - 0s - loss: 3.3799 - val_loss: 3.1368\n",
      "Epoch 13/41\n",
      " - 0s - loss: 3.0817 - val_loss: 2.8193\n",
      "Epoch 14/41\n",
      " - 0s - loss: 2.7843 - val_loss: 2.4991\n",
      "Epoch 15/41\n",
      " - 0s - loss: 2.4824 - val_loss: 2.1656\n",
      "Epoch 16/41\n",
      " - 0s - loss: 2.1949 - val_loss: 1.8317\n",
      "Epoch 17/41\n",
      " - 0s - loss: 1.9369 - val_loss: 1.5241\n",
      "Epoch 18/41\n",
      " - 0s - loss: 1.7237 - val_loss: 1.2530\n",
      "Epoch 19/41\n",
      " - 0s - loss: 1.5655 - val_loss: 1.0361\n",
      "Epoch 20/41\n",
      " - 0s - loss: 1.4699 - val_loss: 0.8712\n",
      "Epoch 21/41\n",
      " - 0s - loss: 1.4141 - val_loss: 0.7725\n",
      "Epoch 22/41\n",
      " - 0s - loss: 1.3765 - val_loss: 0.7171\n",
      "Epoch 23/41\n",
      " - 0s - loss: 1.3645 - val_loss: 0.6875\n",
      "Epoch 24/41\n",
      " - 0s - loss: 1.3570 - val_loss: 0.6713\n",
      "Epoch 25/41\n",
      " - 0s - loss: 1.3427 - val_loss: 0.6610\n",
      "Epoch 26/41\n",
      " - 0s - loss: 1.3325 - val_loss: 0.6540\n",
      "Epoch 27/41\n",
      " - 0s - loss: 1.3278 - val_loss: 0.6493\n",
      "Epoch 28/41\n",
      " - 0s - loss: 1.3213 - val_loss: 0.6454\n",
      "Epoch 29/41\n",
      " - 0s - loss: 1.3106 - val_loss: 0.6410\n",
      "Epoch 30/41\n",
      " - 0s - loss: 1.3167 - val_loss: 0.6377\n",
      "Epoch 31/41\n",
      " - 0s - loss: 1.3092 - val_loss: 0.6351\n",
      "Epoch 32/41\n",
      " - 0s - loss: 1.3076 - val_loss: 0.6326\n",
      "Epoch 33/41\n",
      " - 0s - loss: 1.3060 - val_loss: 0.6289\n",
      "Epoch 34/41\n",
      " - 0s - loss: 1.3058 - val_loss: 0.6273\n",
      "Epoch 35/41\n",
      " - 0s - loss: 1.2946 - val_loss: 0.6253\n",
      "Epoch 36/41\n",
      " - 0s - loss: 1.2989 - val_loss: 0.6231\n",
      "Epoch 37/41\n",
      " - 0s - loss: 1.2880 - val_loss: 0.6208\n",
      "Epoch 38/41\n",
      " - 0s - loss: 1.2978 - val_loss: 0.6190\n",
      "Epoch 39/41\n",
      " - 0s - loss: 1.2950 - val_loss: 0.6176\n",
      "Epoch 40/41\n",
      " - 0s - loss: 1.2946 - val_loss: 0.6164\n",
      "Epoch 41/41\n",
      " - 0s - loss: 1.2887 - val_loss: 0.6146\n"
     ]
    },
    {
     "data": {
      "image/png": "[encoded data removed]",
      "text/plain": [
       "<Figure size 432x288 with 1 Axes>"
      ]
     },
     "metadata": {},
     "output_type": "display_data"
    },
    {
     "name": "stdout",
     "output_type": "stream",
     "text": [
      "CPU times: user 2.48 s, sys: 172 ms, total: 2.65 s\n",
      "Wall time: 2.06 s\n",
      "\n",
      "CV RMSE for Site: 11 and Meter: 0 is 0.7121089457729848\n",
      "\n",
      "CV RMSE for Site: 11 is 0.7121089457729848\n"
     ]
    }
   ],
   "source": [
    "for meter in df_train.meter.unique():\n",
    "    print(\"Building Model for site_id\", site_id, \"and meter\", meter)\n",
    "        \n",
    "    df_train_site_meter = df_train[df_train.meter == meter].reset_index(drop=True)\n",
    "    df_test_site_meter = df_test[df_test.meter == meter].reset_index(drop=True)\n",
    "    \n",
    "    pred_val = np.zeros(df_train_site_meter.shape[0])\n",
    "    pred_test = np.zeros(df_test_site_meter.shape[0])\n",
    "\n",
    "    row_ids_test = df_test_site_meter.row_id\n",
    "    y_train_site_meter = df_train_site_meter.log_meter_reading.values\n",
    "    \n",
    "    df_train_site_meter = df_train_site_meter[features]\n",
    "    df_test_site_meter = df_test_site_meter[features]\n",
    "\n",
    "    df_train_site_meter = pd.get_dummies(df_train_site_meter)\n",
    "    df_test_site_meter = pd.get_dummies(df_test_site_meter)\n",
    "        \n",
    "    for k, (train_idx, valid_idx) in enumerate(folds.split(df_train_site_meter, y_train_site_meter)):\n",
    "        print(\"Preparing Site:\", site_id, \", meter:\", meter, \", Fold:\", k+1)\n",
    "        \n",
    "        X_train, y_train = df_train_site_meter.iloc[train_idx], y_train_site_meter[train_idx]\n",
    "        X_valid, y_valid = df_train_site_meter.iloc[valid_idx], y_train_site_meter[valid_idx]\n",
    "        \n",
    "        X_train.dropna(axis=1, how=\"all\", inplace=True)\n",
    "        X_train = X_train.loc[:, (X_train != X_train.iloc[0]).any()]\n",
    "\n",
    "        X_valid = X_valid[X_train.columns]\n",
    "        X_test = df_test_site_meter[X_train.columns]\n",
    "        \n",
    "        df_means = pd.concat([X_train, X_valid, X_test], ignore_index=True).mean()\n",
    "        X_train.fillna(df_means, inplace=True)\n",
    "        X_valid.fillna(df_means, inplace=True)\n",
    "        X_test.fillna(df_means, inplace=True)\n",
    "        \n",
    "        sc = MinMaxScaler()\n",
    "        sc.fit(pd.concat([X_train, X_valid, X_test], ignore_index=True))\n",
    "        \n",
    "        X_train = np.array(sc.transform(X_train))\n",
    "        X_valid = np.array(sc.transform(X_valid))\n",
    "        X_test = np.array(sc.transform(X_test))\n",
    "        \n",
    "        model = Sequential()\n",
    "        model.add(Dense(32, input_dim=X_train.shape[1], activation=\"relu\", kernel_initializer=keras.initializers.glorot_uniform(seed=seed)))\n",
    "        model.add(BatchNormalization())\n",
    "        model.add(Dropout(0.2))\n",
    "        model.add(Dense(8, activation=\"tanh\", kernel_initializer=keras.initializers.glorot_uniform(seed=seed)))\n",
    "        model.add(BatchNormalization())\n",
    "        model.add(Dropout(0.2))\n",
    "        model.add(Dense(4, activation=\"tanh\", kernel_initializer=keras.initializers.glorot_uniform(seed=seed)))\n",
    "        model.add(BatchNormalization())\n",
    "        model.add(Dropout(0.2))\n",
    "        model.add(Dense(1))\n",
    "        model.compile(loss=rmse, optimizer=\"adam\")\n",
    "        \n",
    "        model_ffnn = model.fit(X_train, y_train, epochs=41, batch_size=1000, validation_data=(X_valid, y_valid), verbose=2, shuffle=False)\n",
    "\n",
    "        plt.plot(model_ffnn.history[\"loss\"])\n",
    "        plt.plot(model_ffnn.history[\"val_loss\"])\n",
    "        plt.title(\"Loss for Site: \" + str(site_id) + \", Meter: \" + str(meter) + \", Fold: \" + str(k+1))\n",
    "        plt.ylabel(\"rmse\")\n",
    "        plt.xlabel(\"Epoch\")\n",
    "        plt.legend([\"train\", \"valid\"], loc=\"upper right\")\n",
    "        plt.show()\n",
    "        \n",
    "        pred_val[valid_idx] = model.predict(X_valid).ravel()\n",
    "        %time pred_test += model.predict(X_test).ravel() / cv\n",
    "        \n",
    "        gc.collect()\n",
    "        \n",
    "    df_valid = pd.DataFrame({\"site_id\": site_id, \"meter\": meter, \"meter_reading\": np.expm1(y_train_site_meter), \"pred_ffnn\": np.clip(np.expm1(pred_val), 0, a_max=None)})\n",
    "    df_pred = pd.DataFrame({\"row_id\": row_ids_test, \"meter_reading\": np.clip(np.expm1(pred_test), 0, a_max=None)})\n",
    "    \n",
    "    df_cv.append(df_valid)\n",
    "    df_preds.append(df_pred)\n",
    "    \n",
    "    gc.collect()\n",
    "    \n",
    "    print(\"\\nCV RMSE for Site:\", site_id, \"and Meter:\", meter, \"is\", np.sqrt(mean_squared_error(np.log1p(df_valid.meter_reading), np.log1p(df_valid.pred_ffnn))))\n",
    "\n",
    "df_cv = pd.concat(df_cv)\n",
    "print(\"\\nCV RMSE for Site:\", site_id, \"is\", np.sqrt(mean_squared_error(np.log1p(df_cv.meter_reading), np.log1p(df_cv.pred_ffnn))))\n"
   ]
  },
  {
   "cell_type": "code",
   "execution_count": 13,
   "metadata": {
    "ExecuteTime": {
     "end_time": "2020-04-26T15:14:43.931404Z",
     "start_time": "2020-04-26T15:14:43.660078Z"
    }
   },
   "outputs": [],
   "source": [
    "df_preds = pd.concat(df_preds)\n",
    "df_preds.to_csv(\"../sub/ffnn_pred_site_\" + str(site_id) + \".csv\", index=False)"
   ]
  },
  {
   "cell_type": "code",
   "execution_count": 15,
   "metadata": {
    "ExecuteTime": {
     "end_time": "2020-04-26T15:14:43.937555Z",
     "start_time": "2020-04-26T15:14:43.936033Z"
    }
   },
   "outputs": [],
   "source": [
    "exit(0)"
   ]
  },
  {
   "cell_type": "code",
   "execution_count": null,
   "metadata": {},
   "outputs": [],
   "source": []
  }
 ],
 "metadata": {
  "kernelspec": {
   "display_name": "Python 3",
   "language": "python",
   "name": "python3"
  },
  "language_info": {
   "codemirror_mode": {
    "name": "ipython",
    "version": 3
   },
   "file_extension": ".py",
   "mimetype": "text/x-python",
   "name": "python",
   "nbconvert_exporter": "python",
   "pygments_lexer": "ipython3",
   "version": "3.6.6"
  }
 },
 "nbformat": 4,
 "nbformat_minor": 1
}
