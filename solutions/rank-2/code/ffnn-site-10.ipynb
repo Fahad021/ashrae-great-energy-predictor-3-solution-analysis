{
 "cells": [
  {
   "cell_type": "code",
   "execution_count": 2,
   "metadata": {
    "ExecuteTime": {
     "end_time": "2020-04-26T15:04:38.050731Z",
     "start_time": "2020-04-26T15:04:38.048905Z"
    }
   },
   "outputs": [],
   "source": [
    "#!pip install tensorflow==1.14.0"
   ]
  },
  {
   "cell_type": "code",
   "execution_count": 3,
   "metadata": {
    "ExecuteTime": {
     "end_time": "2020-04-26T15:04:38.054230Z",
     "start_time": "2020-04-26T15:04:38.051978Z"
    }
   },
   "outputs": [],
   "source": [
    "#!pip install keras==2.2.5"
   ]
  },
  {
   "cell_type": "code",
   "execution_count": 4,
   "metadata": {
    "ExecuteTime": {
     "end_time": "2020-04-26T15:04:39.896670Z",
     "start_time": "2020-04-26T15:04:38.055510Z"
    }
   },
   "outputs": [
    {
     "name": "stdout",
     "output_type": "stream",
     "text": [
      "WARNING:tensorflow:From /home/ubuntu/anaconda3/envs/tensorflow_p36/lib/python3.6/site-packages/tensorflow_core/__init__.py:1467: The name tf.estimator.inputs is deprecated. Please use tf.compat.v1.estimator.inputs instead.\n",
      "\n"
     ]
    },
    {
     "name": "stderr",
     "output_type": "stream",
     "text": [
      "Using TensorFlow backend.\n"
     ]
    }
   ],
   "source": [
    "import os\n",
    "os.environ[\"PYTHONHASHSEED\"] = \"13\"\n",
    "os.environ[\"CUDA_VISIBLE_DEVICES\"] = \"0:1\"\n",
    "\n",
    "import numpy as np\n",
    "import tensorflow as tf\n",
    "import random as rn\n",
    "\n",
    "# The below is necessary for starting Numpy generated random numbers\n",
    "# in a well-defined initial state.\n",
    "\n",
    "np.random.seed(13)\n",
    "\n",
    "# The below is necessary for starting core Python generated random numbers\n",
    "# in a well-defined state.\n",
    "\n",
    "rn.seed(13)\n",
    "\n",
    "# Force TensorFlow to use single thread.\n",
    "# Multiple threads are a potential source of non-reproducible results.\n",
    "# For further details, see: https://stackoverflow.com/questions/42022950/\n",
    "\n",
    "session_conf = tf.ConfigProto(intra_op_parallelism_threads=1,\n",
    "                              inter_op_parallelism_threads=1)\n",
    "\n",
    "from keras import backend as K\n",
    "\n",
    "# The below tf.set_random_seed() will make random number generation\n",
    "# in the TensorFlow backend have a well-defined initial state.\n",
    "# For further details, see:\n",
    "# https://www.tensorflow.org/api_docs/python/tf/set_random_seed\n",
    "\n",
    "tf.set_random_seed(13)\n",
    "\n",
    "sess = tf.Session(graph=tf.get_default_graph(), config=session_conf)\n",
    "K.set_session(sess)"
   ]
  },
  {
   "cell_type": "code",
   "execution_count": 5,
   "metadata": {
    "ExecuteTime": {
     "end_time": "2020-04-26T15:04:39.904172Z",
     "start_time": "2020-04-26T15:04:39.898226Z"
    }
   },
   "outputs": [
    {
     "name": "stdout",
     "output_type": "stream",
     "text": [
      "WARNING:tensorflow:From /home/ubuntu/anaconda3/envs/tensorflow_p36/lib/python3.6/site-packages/keras/backend/tensorflow_backend.py:174: The name tf.get_default_session is deprecated. Please use tf.compat.v1.get_default_session instead.\n",
      "\n",
      "WARNING:tensorflow:From /home/ubuntu/anaconda3/envs/tensorflow_p36/lib/python3.6/site-packages/keras/backend/tensorflow_backend.py:190: The name tf.global_variables is deprecated. Please use tf.compat.v1.global_variables instead.\n",
      "\n",
      "['/job:localhost/replica:0/task:0/device:GPU:0']\n",
      "[name: \"/device:CPU:0\"\n",
      "device_type: \"CPU\"\n",
      "memory_limit: 268435456\n",
      "locality {\n",
      "}\n",
      "incarnation: 14059270315617354248\n",
      ", name: \"/device:XLA_CPU:0\"\n",
      "device_type: \"XLA_CPU\"\n",
      "memory_limit: 17179869184\n",
      "locality {\n",
      "}\n",
      "incarnation: 6458072097598693600\n",
      "physical_device_desc: \"device: XLA_CPU device\"\n",
      ", name: \"/device:XLA_GPU:0\"\n",
      "device_type: \"XLA_GPU\"\n",
      "memory_limit: 17179869184\n",
      "locality {\n",
      "}\n",
      "incarnation: 16217862812332925325\n",
      "physical_device_desc: \"device: XLA_GPU device\"\n",
      ", name: \"/device:GPU:0\"\n",
      "device_type: \"GPU\"\n",
      "memory_limit: 251068416\n",
      "locality {\n",
      "  bus_id: 1\n",
      "  links {\n",
      "  }\n",
      "}\n",
      "incarnation: 9988187556355637944\n",
      "physical_device_desc: \"device: 0, name: Tesla T4, pci bus id: 0000:00:1e.0, compute capability: 7.5\"\n",
      "]\n"
     ]
    }
   ],
   "source": [
    "print(K.tensorflow_backend._get_available_gpus())\n",
    "from tensorflow.python.client import device_lib\n",
    "print(device_lib.list_local_devices())"
   ]
  },
  {
   "cell_type": "code",
   "execution_count": 6,
   "metadata": {
    "ExecuteTime": {
     "end_time": "2020-04-26T15:04:40.209547Z",
     "start_time": "2020-04-26T15:04:39.905508Z"
    },
    "_cell_guid": "b1076dfc-b9ad-4769-8c92-a6c4dae69d19",
    "_uuid": "8f2839f25d086af736a60e9eeb907d3b93b6e0e5"
   },
   "outputs": [],
   "source": [
    "import gc\n",
    "import warnings\n",
    "\n",
    "#import lightgbm as lgb\n",
    "import pandas as pd\n",
    "\n",
    "from matplotlib import pyplot as plt\n",
    "from sklearn.metrics import mean_squared_error\n",
    "from sklearn.model_selection import KFold\n",
    "from sklearn.preprocessing import LabelEncoder, MinMaxScaler, StandardScaler\n",
    "from tqdm.notebook import tqdm\n",
    "\n",
    "import keras\n",
    "from keras.models import Sequential\n",
    "from keras.layers import BatchNormalization, Dense, Dropout\n",
    "\n",
    "path_data = \"../input/ashrae-energy-prediction/\"\n",
    "path_train = path_data + \"train.csv\"\n",
    "path_test = path_data + \"test.csv\"\n",
    "path_building = path_data + \"building_metadata.csv\"\n",
    "path_weather_train = path_data + \"weather_train.csv\"\n",
    "path_weather_test = path_data + \"weather_test.csv\"\n",
    "\n",
    "myfavouritenumber = 13\n",
    "seed = myfavouritenumber\n",
    "\n",
    "warnings.filterwarnings(\"ignore\")"
   ]
  },
  {
   "cell_type": "code",
   "execution_count": 7,
   "metadata": {
    "ExecuteTime": {
     "end_time": "2020-04-26T15:04:40.212808Z",
     "start_time": "2020-04-26T15:04:40.211000Z"
    }
   },
   "outputs": [],
   "source": [
    "site_id = 10"
   ]
  },
  {
   "cell_type": "code",
   "execution_count": 8,
   "metadata": {
    "ExecuteTime": {
     "end_time": "2020-04-26T15:05:29.321151Z",
     "start_time": "2020-04-26T15:04:40.214108Z"
    }
   },
   "outputs": [
    {
     "data": {
      "text/plain": [
       "49"
      ]
     },
     "execution_count": 8,
     "metadata": {},
     "output_type": "execute_result"
    }
   ],
   "source": [
    "df_train = pd.read_csv(path_train)\n",
    "df_test = pd.read_csv(path_test)\n",
    "\n",
    "building = pd.read_csv(path_building)\n",
    "\n",
    "weather_train = pd.read_csv(path_weather_train)\n",
    "weather_test = pd.read_csv(path_weather_test)\n",
    "\n",
    "weather_train.drop([\"sea_level_pressure\", \"wind_direction\", \"wind_speed\"], axis=1, inplace=True)\n",
    "weather_test.drop([\"sea_level_pressure\", \"wind_direction\", \"wind_speed\"], axis=1, inplace=True)\n",
    "\n",
    "weather_train = weather_train.groupby(\"site_id\").apply(lambda group: group.interpolate(limit_direction=\"both\"))\n",
    "weather_test = weather_test.groupby(\"site_id\").apply(lambda group: group.interpolate(limit_direction=\"both\"))\n",
    "\n",
    "df_train = df_train.merge(building, on=\"building_id\")\n",
    "df_test = df_test.merge(building, on=\"building_id\")\n",
    "\n",
    "df_train = df_train[df_train.site_id == site_id]\n",
    "df_test = df_test[df_test.site_id == site_id]\n",
    "\n",
    "df_train[\"log_meter_reading\"] = np.log1p(df_train.meter_reading)\n",
    "\n",
    "df_train = df_train[~((df_train.building_id != 1010) & (df_train.meter_reading == 0))]\n",
    "df_train = df_train[~((df_train.building_id == 1008) & (df_train.log_meter_reading < 2))]\n",
    "\n",
    "df_train = df_train[df_train.meter == 0]\n",
    "\n",
    "df_train = df_train.merge(weather_train, on=[\"site_id\", \"timestamp\"], how=\"left\")\n",
    "df_test = df_test.merge(weather_test, on=[\"site_id\", \"timestamp\"], how=\"left\")\n",
    "\n",
    "df_train.timestamp = pd.to_datetime(df_train.timestamp, format='%Y-%m-%d %H:%M:%S')\n",
    "df_test.timestamp = pd.to_datetime(df_test.timestamp, format='%Y-%m-%d %H:%M:%S')\n",
    "\n",
    "df_train.building_id = df_train.building_id.astype(\"str\")\n",
    "df_test.building_id = df_test.building_id.astype(\"str\")\n",
    "\n",
    "del building\n",
    "gc.collect()"
   ]
  },
  {
   "cell_type": "code",
   "execution_count": 9,
   "metadata": {
    "ExecuteTime": {
     "end_time": "2020-04-26T15:05:30.987664Z",
     "start_time": "2020-04-26T15:05:29.323099Z"
    }
   },
   "outputs": [],
   "source": [
    "df_train[\"hour\"] = df_train.timestamp.dt.hour.astype(\"str\")\n",
    "df_test[\"hour\"] = df_test.timestamp.dt.hour.astype(\"str\")\n",
    "\n",
    "df_train[\"weekday\"] = df_train.timestamp.dt.weekday.astype(\"str\")\n",
    "df_test[\"weekday\"] = df_test.timestamp.dt.weekday.astype(\"str\")\n",
    "\n",
    "df_train[\"month\"] = df_train.timestamp.dt.month.astype(\"str\")\n",
    "df_test[\"month\"] = df_test.timestamp.dt.month.astype(\"str\")"
   ]
  },
  {
   "cell_type": "code",
   "execution_count": 10,
   "metadata": {
    "ExecuteTime": {
     "end_time": "2020-04-26T15:05:30.992383Z",
     "start_time": "2020-04-26T15:05:30.989202Z"
    }
   },
   "outputs": [],
   "source": [
    "features = [\n",
    "    \"building_id\",\n",
    "    \"square_feet\",\n",
    "    \"year_built\",\n",
    "    \"floor_count\",\n",
    "    \"primary_use\",\n",
    "    \"air_temperature\",\n",
    "    \"cloud_coverage\",\n",
    "    \"dew_temperature\",\n",
    "    \"precip_depth_1_hr\",\n",
    "    \"hour\",\n",
    "    \"weekday\",\n",
    "    \"month\"\n",
    "]"
   ]
  },
  {
   "cell_type": "code",
   "execution_count": 11,
   "metadata": {
    "ExecuteTime": {
     "end_time": "2020-04-26T15:05:30.996636Z",
     "start_time": "2020-04-26T15:05:30.993698Z"
    }
   },
   "outputs": [],
   "source": [
    "def rmse(y_true, y_pred):\n",
    "    return K.sqrt(K.mean(K.square(y_pred - y_true)))"
   ]
  },
  {
   "cell_type": "code",
   "execution_count": 12,
   "metadata": {
    "ExecuteTime": {
     "end_time": "2020-04-26T15:05:31.000260Z",
     "start_time": "2020-04-26T15:05:30.997985Z"
    }
   },
   "outputs": [],
   "source": [
    "cv = 4\n",
    "folds = KFold(n_splits = cv, shuffle = False, random_state = seed)\n",
    "\n",
    "df_cv = []\n",
    "df_preds = []"
   ]
  },
  {
   "cell_type": "code",
   "execution_count": 13,
   "metadata": {
    "ExecuteTime": {
     "end_time": "2020-04-26T15:11:00.427875Z",
     "start_time": "2020-04-26T15:05:31.001692Z"
    },
    "scrolled": true
   },
   "outputs": [
    {
     "name": "stdout",
     "output_type": "stream",
     "text": [
      "Building Model for site_id 10 and meter 0\n",
      "Preparing Site: 10 , meter: 0 , Fold: 1\n",
      "WARNING:tensorflow:From /home/ubuntu/anaconda3/envs/tensorflow_p36/lib/python3.6/site-packages/keras/backend/tensorflow_backend.py:517: The name tf.placeholder is deprecated. Please use tf.compat.v1.placeholder instead.\n",
      "\n",
      "WARNING:tensorflow:From /home/ubuntu/anaconda3/envs/tensorflow_p36/lib/python3.6/site-packages/keras/backend/tensorflow_backend.py:4138: The name tf.random_uniform is deprecated. Please use tf.random.uniform instead.\n",
      "\n",
      "WARNING:tensorflow:From /home/ubuntu/anaconda3/envs/tensorflow_p36/lib/python3.6/site-packages/keras/backend/tensorflow_backend.py:133: The name tf.placeholder_with_default is deprecated. Please use tf.compat.v1.placeholder_with_default instead.\n",
      "\n",
      "WARNING:tensorflow:From /home/ubuntu/anaconda3/envs/tensorflow_p36/lib/python3.6/site-packages/keras/backend/tensorflow_backend.py:3445: calling dropout (from tensorflow.python.ops.nn_ops) with keep_prob is deprecated and will be removed in a future version.\n",
      "Instructions for updating:\n",
      "Please use `rate` instead of `keep_prob`. Rate should be set to `rate = 1 - keep_prob`.\n",
      "WARNING:tensorflow:From /home/ubuntu/anaconda3/envs/tensorflow_p36/lib/python3.6/site-packages/keras/optimizers.py:790: The name tf.train.Optimizer is deprecated. Please use tf.compat.v1.train.Optimizer instead.\n",
      "\n",
      "WARNING:tensorflow:From /home/ubuntu/anaconda3/envs/tensorflow_p36/lib/python3.6/site-packages/tensorflow_core/python/ops/math_grad.py:1424: where (from tensorflow.python.ops.array_ops) is deprecated and will be removed in a future version.\n",
      "Instructions for updating:\n",
      "Use tf.where in 2.0, which has the same broadcast rule as np.where\n",
      "WARNING:tensorflow:From /home/ubuntu/anaconda3/envs/tensorflow_p36/lib/python3.6/site-packages/keras/backend/tensorflow_backend.py:986: The name tf.assign_add is deprecated. Please use tf.compat.v1.assign_add instead.\n",
      "\n",
      "WARNING:tensorflow:From /home/ubuntu/anaconda3/envs/tensorflow_p36/lib/python3.6/site-packages/keras/backend/tensorflow_backend.py:973: The name tf.assign is deprecated. Please use tf.compat.v1.assign instead.\n",
      "\n",
      "Train on 176765 samples, validate on 58922 samples\n",
      "Epoch 1/41\n",
      "WARNING:tensorflow:From /home/ubuntu/anaconda3/envs/tensorflow_p36/lib/python3.6/site-packages/keras/backend/tensorflow_backend.py:199: The name tf.is_variable_initialized is deprecated. Please use tf.compat.v1.is_variable_initialized instead.\n",
      "\n",
      "WARNING:tensorflow:From /home/ubuntu/anaconda3/envs/tensorflow_p36/lib/python3.6/site-packages/keras/backend/tensorflow_backend.py:206: The name tf.variables_initializer is deprecated. Please use tf.compat.v1.variables_initializer instead.\n",
      "\n",
      " - 27s - loss: 3.6357 - val_loss: 3.9590\n",
      "Epoch 2/41\n",
      " - 1s - loss: 2.8979 - val_loss: 2.9023\n",
      "Epoch 3/41\n",
      " - 1s - loss: 1.8565 - val_loss: 1.7203\n",
      "Epoch 4/41\n",
      " - 1s - loss: 1.2940 - val_loss: 1.1904\n",
      "Epoch 5/41\n",
      " - 1s - loss: 1.2187 - val_loss: 1.0826\n",
      "Epoch 6/41\n",
      " - 1s - loss: 1.1968 - val_loss: 1.0621\n",
      "Epoch 7/41\n",
      " - 1s - loss: 1.1851 - val_loss: 1.0508\n",
      "Epoch 8/41\n",
      " - 1s - loss: 1.1756 - val_loss: 1.0415\n",
      "Epoch 9/41\n",
      " - 1s - loss: 1.1668 - val_loss: 1.0234\n",
      "Epoch 10/41\n",
      " - 1s - loss: 1.1579 - val_loss: 1.0181\n",
      "Epoch 11/41\n",
      " - 1s - loss: 1.1481 - val_loss: 1.0100\n",
      "Epoch 12/41\n",
      " - 1s - loss: 1.1409 - val_loss: 0.9984\n",
      "Epoch 13/41\n",
      " - 1s - loss: 1.1342 - val_loss: 0.9760\n",
      "Epoch 14/41\n",
      " - 1s - loss: 1.1261 - val_loss: 0.9709\n",
      "Epoch 15/41\n",
      " - 1s - loss: 1.1222 - val_loss: 0.9629\n",
      "Epoch 16/41\n",
      " - 1s - loss: 1.1107 - val_loss: 0.9462\n",
      "Epoch 17/41\n",
      " - 1s - loss: 1.1042 - val_loss: 0.9366\n",
      "Epoch 18/41\n",
      " - 1s - loss: 1.0958 - val_loss: 0.9144\n",
      "Epoch 19/41\n",
      " - 1s - loss: 1.0893 - val_loss: 0.8955\n",
      "Epoch 20/41\n",
      " - 1s - loss: 1.0786 - val_loss: 0.8855\n",
      "Epoch 21/41\n",
      " - 1s - loss: 1.0717 - val_loss: 0.8848\n",
      "Epoch 22/41\n",
      " - 1s - loss: 1.0687 - val_loss: 0.8660\n",
      "Epoch 23/41\n",
      " - 1s - loss: 1.0602 - val_loss: 0.8545\n",
      "Epoch 24/41\n",
      " - 1s - loss: 1.0561 - val_loss: 0.8542\n",
      "Epoch 25/41\n",
      " - 1s - loss: 1.0485 - val_loss: 0.8478\n",
      "Epoch 26/41\n",
      " - 1s - loss: 1.0412 - val_loss: 0.8372\n",
      "Epoch 27/41\n",
      " - 1s - loss: 1.0330 - val_loss: 0.8396\n",
      "Epoch 28/41\n",
      " - 1s - loss: 1.0281 - val_loss: 0.8409\n",
      "Epoch 29/41\n",
      " - 1s - loss: 1.0209 - val_loss: 0.8329\n",
      "Epoch 30/41\n",
      " - 1s - loss: 1.0176 - val_loss: 0.8339\n",
      "Epoch 31/41\n",
      " - 1s - loss: 1.0113 - val_loss: 0.8155\n",
      "Epoch 32/41\n",
      " - 1s - loss: 1.0051 - val_loss: 0.8257\n",
      "Epoch 33/41\n",
      " - 1s - loss: 0.9993 - val_loss: 0.8077\n",
      "Epoch 34/41\n",
      " - 1s - loss: 0.9938 - val_loss: 0.8043\n",
      "Epoch 35/41\n",
      " - 1s - loss: 0.9896 - val_loss: 0.8116\n",
      "Epoch 36/41\n",
      " - 1s - loss: 0.9829 - val_loss: 0.8040\n",
      "Epoch 37/41\n",
      " - 1s - loss: 0.9802 - val_loss: 0.8073\n",
      "Epoch 38/41\n",
      " - 1s - loss: 0.9718 - val_loss: 0.8017\n",
      "Epoch 39/41\n",
      " - 1s - loss: 0.9689 - val_loss: 0.8067\n",
      "Epoch 40/41\n",
      " - 1s - loss: 0.9644 - val_loss: 0.7941\n",
      "Epoch 41/41\n",
      " - 1s - loss: 0.9595 - val_loss: 0.7973\n"
     ]
    },
    {
     "data": {
      "image/png": "[encoded data removed]",
      "text/plain": [
       "<Figure size 432x288 with 1 Axes>"
      ]
     },
     "metadata": {},
     "output_type": "display_data"
    },
    {
     "name": "stdout",
     "output_type": "stream",
     "text": [
      "CPU times: user 15.2 s, sys: 1.3 s, total: 16.5 s\n",
      "Wall time: 14.8 s\n",
      "Preparing Site: 10 , meter: 0 , Fold: 2\n",
      "Train on 176765 samples, validate on 58922 samples\n",
      "Epoch 1/41\n",
      " - 2s - loss: 3.9797 - val_loss: 2.6799\n",
      "Epoch 2/41\n",
      " - 1s - loss: 3.0852 - val_loss: 1.6469\n",
      "Epoch 3/41\n",
      " - 1s - loss: 1.9938 - val_loss: 0.8338\n",
      "Epoch 4/41\n",
      " - 1s - loss: 1.4202 - val_loss: 0.8110\n",
      "Epoch 5/41\n",
      " - 1s - loss: 1.3003 - val_loss: 0.8625\n",
      "Epoch 6/41\n",
      " - 1s - loss: 1.2633 - val_loss: 0.8758\n",
      "Epoch 7/41\n",
      " - 1s - loss: 1.2448 - val_loss: 0.8777\n",
      "Epoch 8/41\n",
      " - 1s - loss: 1.2310 - val_loss: 0.8742\n",
      "Epoch 9/41\n",
      " - 1s - loss: 1.2194 - val_loss: 0.8731\n",
      "Epoch 10/41\n",
      " - 1s - loss: 1.2131 - val_loss: 0.8731\n",
      "Epoch 11/41\n",
      " - 1s - loss: 1.2046 - val_loss: 0.8738\n",
      "Epoch 12/41\n",
      " - 1s - loss: 1.1939 - val_loss: 0.8713\n",
      "Epoch 13/41\n",
      " - 1s - loss: 1.1891 - val_loss: 0.8636\n",
      "Epoch 14/41\n",
      " - 1s - loss: 1.1788 - val_loss: 0.8666\n",
      "Epoch 15/41\n",
      " - 1s - loss: 1.1701 - val_loss: 0.8653\n",
      "Epoch 16/41\n",
      " - 1s - loss: 1.1634 - val_loss: 0.8653\n",
      "Epoch 17/41\n",
      " - 1s - loss: 1.1543 - val_loss: 0.8607\n",
      "Epoch 18/41\n",
      " - 1s - loss: 1.1492 - val_loss: 0.8525\n",
      "Epoch 19/41\n",
      " - 1s - loss: 1.1364 - val_loss: 0.8437\n",
      "Epoch 20/41\n",
      " - 1s - loss: 1.1279 - val_loss: 0.8342\n",
      "Epoch 21/41\n",
      " - 1s - loss: 1.1212 - val_loss: 0.8199\n",
      "Epoch 22/41\n",
      " - 1s - loss: 1.1124 - val_loss: 0.8154\n",
      "Epoch 23/41\n",
      " - 1s - loss: 1.1054 - val_loss: 0.8062\n",
      "Epoch 24/41\n",
      " - 1s - loss: 1.0950 - val_loss: 0.7982\n",
      "Epoch 25/41\n",
      " - 1s - loss: 1.0871 - val_loss: 0.7995\n",
      "Epoch 26/41\n",
      " - 1s - loss: 1.0806 - val_loss: 0.8020\n",
      "Epoch 27/41\n",
      " - 1s - loss: 1.0738 - val_loss: 0.8027\n",
      "Epoch 28/41\n",
      " - 1s - loss: 1.0661 - val_loss: 0.8000\n",
      "Epoch 29/41\n",
      " - 1s - loss: 1.0603 - val_loss: 0.8078\n",
      "Epoch 30/41\n",
      " - 1s - loss: 1.0491 - val_loss: 0.8132\n",
      "Epoch 31/41\n",
      " - 1s - loss: 1.0461 - val_loss: 0.8056\n",
      "Epoch 32/41\n",
      " - 1s - loss: 1.0404 - val_loss: 0.8271\n",
      "Epoch 33/41\n",
      " - 1s - loss: 1.0316 - val_loss: 0.8181\n",
      "Epoch 34/41\n",
      " - 1s - loss: 1.0258 - val_loss: 0.8369\n",
      "Epoch 35/41\n",
      " - 1s - loss: 1.0191 - val_loss: 0.8250\n",
      "Epoch 36/41\n",
      " - 1s - loss: 1.0129 - val_loss: 0.8242\n",
      "Epoch 37/41\n",
      " - 1s - loss: 1.0064 - val_loss: 0.8230\n",
      "Epoch 38/41\n",
      " - 1s - loss: 1.0020 - val_loss: 0.8273\n",
      "Epoch 39/41\n",
      " - 1s - loss: 0.9963 - val_loss: 0.8353\n",
      "Epoch 40/41\n",
      " - 1s - loss: 0.9888 - val_loss: 0.8256\n",
      "Epoch 41/41\n",
      " - 1s - loss: 0.9854 - val_loss: 0.8423\n"
     ]
    },
    {
     "data": {
      "image/png": "[encoded data removed]",
      "text/plain": [
       "<Figure size 432x288 with 1 Axes>"
      ]
     },
     "metadata": {},
     "output_type": "display_data"
    },
    {
     "name": "stdout",
     "output_type": "stream",
     "text": [
      "CPU times: user 15.6 s, sys: 1.38 s, total: 17 s\n",
      "Wall time: 15.4 s\n",
      "Preparing Site: 10 , meter: 0 , Fold: 3\n",
      "Train on 176765 samples, validate on 58922 samples\n",
      "Epoch 1/41\n",
      " - 2s - loss: 3.9096 - val_loss: 3.1292\n",
      "Epoch 2/41\n",
      " - 1s - loss: 3.0610 - val_loss: 2.0875\n",
      "Epoch 3/41\n",
      " - 1s - loss: 2.0898 - val_loss: 1.0923\n",
      "Epoch 4/41\n",
      " - 1s - loss: 1.4872 - val_loss: 0.9039\n",
      "Epoch 5/41\n",
      " - 1s - loss: 1.3209 - val_loss: 0.9045\n",
      "Epoch 6/41\n",
      " - 1s - loss: 1.2728 - val_loss: 0.9018\n",
      "Epoch 7/41\n",
      " - 1s - loss: 1.2470 - val_loss: 0.8985\n",
      "Epoch 8/41\n",
      " - 1s - loss: 1.2365 - val_loss: 0.8942\n",
      "Epoch 9/41\n",
      " - 1s - loss: 1.2226 - val_loss: 0.8919\n",
      "Epoch 10/41\n",
      " - 1s - loss: 1.2158 - val_loss: 0.8888\n",
      "Epoch 11/41\n",
      " - 1s - loss: 1.2095 - val_loss: 0.8869\n",
      "Epoch 12/41\n",
      " - 1s - loss: 1.1984 - val_loss: 0.8877\n",
      "Epoch 13/41\n",
      " - 1s - loss: 1.1922 - val_loss: 0.8832\n",
      "Epoch 14/41\n",
      " - 1s - loss: 1.1817 - val_loss: 0.8824\n",
      "Epoch 15/41\n",
      " - 1s - loss: 1.1756 - val_loss: 0.8828\n",
      "Epoch 16/41\n",
      " - 1s - loss: 1.1680 - val_loss: 0.8815\n",
      "Epoch 17/41\n",
      " - 1s - loss: 1.1602 - val_loss: 0.8808\n",
      "Epoch 18/41\n",
      " - 1s - loss: 1.1518 - val_loss: 0.8807\n",
      "Epoch 19/41\n",
      " - 1s - loss: 1.1464 - val_loss: 0.8772\n",
      "Epoch 20/41\n",
      " - 1s - loss: 1.1372 - val_loss: 0.8782\n",
      "Epoch 21/41\n",
      " - 1s - loss: 1.1323 - val_loss: 0.8741\n",
      "Epoch 22/41\n",
      " - 1s - loss: 1.1235 - val_loss: 0.8760\n",
      "Epoch 23/41\n",
      " - 1s - loss: 1.1160 - val_loss: 0.8748\n",
      "Epoch 24/41\n",
      " - 1s - loss: 1.1108 - val_loss: 0.8746\n",
      "Epoch 25/41\n",
      " - 1s - loss: 1.0994 - val_loss: 0.8740\n",
      "Epoch 26/41\n",
      " - 1s - loss: 1.0952 - val_loss: 0.8733\n",
      "Epoch 27/41\n",
      " - 1s - loss: 1.0900 - val_loss: 0.8744\n",
      "Epoch 28/41\n",
      " - 1s - loss: 1.0803 - val_loss: 0.8725\n",
      "Epoch 29/41\n",
      " - 1s - loss: 1.0742 - val_loss: 0.8681\n",
      "Epoch 30/41\n",
      " - 1s - loss: 1.0678 - val_loss: 0.8646\n",
      "Epoch 31/41\n",
      " - 1s - loss: 1.0634 - val_loss: 0.8615\n",
      "Epoch 32/41\n",
      " - 1s - loss: 1.0552 - val_loss: 0.8625\n",
      "Epoch 33/41\n",
      " - 1s - loss: 1.0509 - val_loss: 0.8598\n",
      "Epoch 34/41\n",
      " - 1s - loss: 1.0438 - val_loss: 0.8552\n",
      "Epoch 35/41\n",
      " - 1s - loss: 1.0365 - val_loss: 0.8539\n",
      "Epoch 36/41\n",
      " - 1s - loss: 1.0322 - val_loss: 0.8522\n",
      "Epoch 37/41\n",
      " - 1s - loss: 1.0260 - val_loss: 0.8536\n",
      "Epoch 38/41\n",
      " - 1s - loss: 1.0211 - val_loss: 0.8464\n",
      "Epoch 39/41\n",
      " - 1s - loss: 1.0147 - val_loss: 0.8486\n",
      "Epoch 40/41\n",
      " - 1s - loss: 1.0110 - val_loss: 0.8466\n",
      "Epoch 41/41\n",
      " - 1s - loss: 1.0042 - val_loss: 0.8472\n"
     ]
    },
    {
     "data": {
      "image/png": "[encoded data removed]",
      "text/plain": [
       "<Figure size 432x288 with 1 Axes>"
      ]
     },
     "metadata": {},
     "output_type": "display_data"
    },
    {
     "name": "stdout",
     "output_type": "stream",
     "text": [
      "CPU times: user 15.4 s, sys: 916 ms, total: 16.3 s\n",
      "Wall time: 13.5 s\n",
      "Preparing Site: 10 , meter: 0 , Fold: 4\n",
      "Train on 176766 samples, validate on 58921 samples\n",
      "Epoch 1/41\n",
      " - 2s - loss: 3.6584 - val_loss: 3.8275\n",
      "Epoch 2/41\n",
      " - 1s - loss: 2.9131 - val_loss: 2.7772\n",
      "Epoch 3/41\n",
      " - 1s - loss: 1.9561 - val_loss: 1.6371\n",
      "Epoch 4/41\n",
      " - 1s - loss: 1.4379 - val_loss: 1.1704\n",
      "Epoch 5/41\n",
      " - 1s - loss: 1.3088 - val_loss: 1.0672\n",
      "Epoch 6/41\n",
      " - 1s - loss: 1.2750 - val_loss: 1.0321\n",
      "Epoch 7/41\n",
      " - 1s - loss: 1.2567 - val_loss: 1.0147\n",
      "Epoch 8/41\n",
      " - 1s - loss: 1.2454 - val_loss: 0.9964\n",
      "Epoch 9/41\n",
      " - 1s - loss: 1.2355 - val_loss: 0.9998\n",
      "Epoch 10/41\n",
      " - 1s - loss: 1.2329 - val_loss: 0.9789\n",
      "Epoch 11/41\n",
      " - 1s - loss: 1.2250 - val_loss: 0.9736\n",
      "Epoch 12/41\n",
      " - 1s - loss: 1.2164 - val_loss: 0.9548\n",
      "Epoch 13/41\n",
      " - 1s - loss: 1.2130 - val_loss: 0.9589\n",
      "Epoch 14/41\n",
      " - 1s - loss: 1.2051 - val_loss: 0.9486\n",
      "Epoch 15/41\n",
      " - 1s - loss: 1.1956 - val_loss: 0.9255\n",
      "Epoch 16/41\n",
      " - 1s - loss: 1.1894 - val_loss: 0.9289\n",
      "Epoch 17/41\n",
      " - 1s - loss: 1.1834 - val_loss: 0.9213\n",
      "Epoch 18/41\n",
      " - 1s - loss: 1.1790 - val_loss: 0.9092\n",
      "Epoch 19/41\n",
      " - 1s - loss: 1.1674 - val_loss: 0.9095\n",
      "Epoch 20/41\n",
      " - 1s - loss: 1.1630 - val_loss: 0.8996\n",
      "Epoch 21/41\n",
      " - 1s - loss: 1.1575 - val_loss: 0.8923\n",
      "Epoch 22/41\n",
      " - 1s - loss: 1.1528 - val_loss: 0.9004\n",
      "Epoch 23/41\n",
      " - 1s - loss: 1.1466 - val_loss: 0.8877\n",
      "Epoch 24/41\n",
      " - 1s - loss: 1.1394 - val_loss: 0.8732\n",
      "Epoch 25/41\n",
      " - 1s - loss: 1.1329 - val_loss: 0.8734\n",
      "Epoch 26/41\n",
      " - 1s - loss: 1.1307 - val_loss: 0.8491\n",
      "Epoch 27/41\n",
      " - 1s - loss: 1.1179 - val_loss: 0.8443\n",
      "Epoch 28/41\n",
      " - 1s - loss: 1.1171 - val_loss: 0.8580\n",
      "Epoch 29/41\n",
      " - 1s - loss: 1.1082 - val_loss: 0.8355\n",
      "Epoch 30/41\n",
      " - 1s - loss: 1.1061 - val_loss: 0.8371\n",
      "Epoch 31/41\n",
      " - 1s - loss: 1.0997 - val_loss: 0.8232\n",
      "Epoch 32/41\n",
      " - 1s - loss: 1.0931 - val_loss: 0.8320\n",
      "Epoch 33/41\n",
      " - 1s - loss: 1.0885 - val_loss: 0.8129\n",
      "Epoch 34/41\n",
      " - 1s - loss: 1.0832 - val_loss: 0.8116\n",
      "Epoch 35/41\n",
      " - 1s - loss: 1.0758 - val_loss: 0.8135\n",
      "Epoch 36/41\n",
      " - 1s - loss: 1.0749 - val_loss: 0.7938\n",
      "Epoch 37/41\n",
      " - 1s - loss: 1.0685 - val_loss: 0.8005\n",
      "Epoch 38/41\n",
      " - 1s - loss: 1.0647 - val_loss: 0.7994\n",
      "Epoch 39/41\n",
      " - 1s - loss: 1.0591 - val_loss: 0.7800\n",
      "Epoch 40/41\n",
      " - 1s - loss: 1.0572 - val_loss: 0.7919\n",
      "Epoch 41/41\n",
      " - 1s - loss: 1.0503 - val_loss: 0.7832\n"
     ]
    },
    {
     "data": {
      "image/png": "[encoded data removed]",
      "text/plain": [
       "<Figure size 432x288 with 1 Axes>"
      ]
     },
     "metadata": {},
     "output_type": "display_data"
    },
    {
     "name": "stdout",
     "output_type": "stream",
     "text": [
      "CPU times: user 15 s, sys: 827 ms, total: 15.8 s\n",
      "Wall time: 12.3 s\n",
      "\n",
      "CV RMSE for Site: 10 and Meter: 0 is 0.9713658157813542\n",
      "\n",
      "CV RMSE for Site: 10 is 0.9713658157813542\n"
     ]
    }
   ],
   "source": [
    "for meter in df_train.meter.unique():\n",
    "    print(\"Building Model for site_id\", site_id, \"and meter\", meter)\n",
    "        \n",
    "    df_train_site_meter = df_train[df_train.meter == meter].reset_index(drop=True)\n",
    "    df_test_site_meter = df_test[df_test.meter == meter].reset_index(drop=True)\n",
    "    \n",
    "    pred_val = np.zeros(df_train_site_meter.shape[0])\n",
    "    pred_test = np.zeros(df_test_site_meter.shape[0])\n",
    "\n",
    "    row_ids_test = df_test_site_meter.row_id\n",
    "    y_train_site_meter = df_train_site_meter.log_meter_reading.values\n",
    "    \n",
    "    df_train_site_meter = df_train_site_meter[features]\n",
    "    df_test_site_meter = df_test_site_meter[features]\n",
    "\n",
    "    df_train_site_meter = pd.get_dummies(df_train_site_meter)\n",
    "    df_test_site_meter = pd.get_dummies(df_test_site_meter)\n",
    "        \n",
    "    for k, (train_idx, valid_idx) in enumerate(folds.split(df_train_site_meter, y_train_site_meter)):\n",
    "        print(\"Preparing Site:\", site_id, \", meter:\", meter, \", Fold:\", k+1)\n",
    "        \n",
    "        X_train, y_train = df_train_site_meter.iloc[train_idx], y_train_site_meter[train_idx]\n",
    "        X_valid, y_valid = df_train_site_meter.iloc[valid_idx], y_train_site_meter[valid_idx]\n",
    "        \n",
    "        X_train.dropna(axis=1, how=\"all\", inplace=True)\n",
    "        X_train = X_train.loc[:, (X_train != X_train.iloc[0]).any()]\n",
    "\n",
    "        X_valid = X_valid[X_train.columns]\n",
    "        X_test = df_test_site_meter[X_train.columns]\n",
    "        \n",
    "        df_means = pd.concat([X_train, X_valid, X_test], ignore_index=True).mean()\n",
    "        X_train.fillna(df_means, inplace=True)\n",
    "        X_valid.fillna(df_means, inplace=True)\n",
    "        X_test.fillna(df_means, inplace=True)\n",
    "        \n",
    "        sc = MinMaxScaler()\n",
    "        sc.fit(pd.concat([X_train, X_valid, X_test], ignore_index=True))\n",
    "        \n",
    "        X_train = np.array(sc.transform(X_train))\n",
    "        X_valid = np.array(sc.transform(X_valid))\n",
    "        X_test = np.array(sc.transform(X_test))\n",
    "        \n",
    "        model = Sequential()\n",
    "        model.add(Dense(32, input_dim=X_train.shape[1], activation=\"relu\", kernel_initializer=keras.initializers.glorot_uniform(seed=seed)))\n",
    "        model.add(BatchNormalization())\n",
    "        model.add(Dropout(0.2))\n",
    "        model.add(Dense(8, activation=\"tanh\", kernel_initializer=keras.initializers.glorot_uniform(seed=seed)))\n",
    "        model.add(BatchNormalization())\n",
    "        model.add(Dropout(0.2))\n",
    "        model.add(Dense(4, activation=\"tanh\", kernel_initializer=keras.initializers.glorot_uniform(seed=seed)))\n",
    "        model.add(BatchNormalization())\n",
    "        model.add(Dropout(0.2))\n",
    "        model.add(Dense(1))\n",
    "        model.compile(loss=rmse, optimizer=\"adam\")\n",
    "        \n",
    "        model_ffnn = model.fit(X_train, y_train, epochs=41, batch_size=1000, validation_data=(X_valid, y_valid), verbose=2, shuffle=False)\n",
    "\n",
    "        plt.plot(model_ffnn.history[\"loss\"])\n",
    "        plt.plot(model_ffnn.history[\"val_loss\"])\n",
    "        plt.title(\"Loss for Site: \" + str(site_id) + \", Meter: \" + str(meter) + \", Fold: \" + str(k+1))\n",
    "        plt.ylabel(\"rmse\")\n",
    "        plt.xlabel(\"Epoch\")\n",
    "        plt.legend([\"train\", \"valid\"], loc=\"upper right\")\n",
    "        plt.show()\n",
    "        \n",
    "        pred_val[valid_idx] = model.predict(X_valid).ravel()\n",
    "        %time pred_test += model.predict(X_test).ravel() / cv\n",
    "        \n",
    "        gc.collect()\n",
    "        \n",
    "    df_valid = pd.DataFrame({\"site_id\": site_id, \"meter\": meter, \"meter_reading\": np.expm1(y_train_site_meter), \"pred_ffnn\": np.clip(np.expm1(pred_val), 0, a_max=None)})\n",
    "    df_pred = pd.DataFrame({\"row_id\": row_ids_test, \"meter_reading\": np.clip(np.expm1(pred_test), 0, a_max=None)})\n",
    "    \n",
    "    df_cv.append(df_valid)\n",
    "    df_preds.append(df_pred)\n",
    "    \n",
    "    gc.collect()\n",
    "    \n",
    "    print(\"\\nCV RMSE for Site:\", site_id, \"and Meter:\", meter, \"is\", np.sqrt(mean_squared_error(np.log1p(df_valid.meter_reading), np.log1p(df_valid.pred_ffnn))))\n",
    "\n",
    "df_cv = pd.concat(df_cv)\n",
    "print(\"\\nCV RMSE for Site:\", site_id, \"is\", np.sqrt(mean_squared_error(np.log1p(df_cv.meter_reading), np.log1p(df_cv.pred_ffnn))))\n"
   ]
  },
  {
   "cell_type": "code",
   "execution_count": 14,
   "metadata": {
    "ExecuteTime": {
     "end_time": "2020-04-26T15:11:01.978474Z",
     "start_time": "2020-04-26T15:11:00.429897Z"
    }
   },
   "outputs": [],
   "source": [
    "df_preds = pd.concat(df_preds)\n",
    "df_preds.to_csv(\"../sub/ffnn_pred_site_\" + str(site_id) + \".csv\", index=False)"
   ]
  }
 ],
 "metadata": {
  "kernelspec": {
   "display_name": "Python 3",
   "language": "python",
   "name": "python3"
  },
  "language_info": {
   "codemirror_mode": {
    "name": "ipython",
    "version": 3
   },
   "file_extension": ".py",
   "mimetype": "text/x-python",
   "name": "python",
   "nbconvert_exporter": "python",
   "pygments_lexer": "ipython3",
   "version": "3.6.6"
  }
 },
 "nbformat": 4,
 "nbformat_minor": 1
}
