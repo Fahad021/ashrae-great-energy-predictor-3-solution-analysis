{
 "cells": [
  {
   "cell_type": "code",
   "execution_count": 1,
   "metadata": {},
   "outputs": [],
   "source": [
    "#!pip install tensorflow==1.14.0"
   ]
  },
  {
   "cell_type": "code",
   "execution_count": 2,
   "metadata": {},
   "outputs": [],
   "source": [
    "#!pip install keras==2.2.5"
   ]
  },
  {
   "cell_type": "code",
   "execution_count": 3,
   "metadata": {},
   "outputs": [
    {
     "name": "stderr",
     "output_type": "stream",
     "text": [
      "Using TensorFlow backend.\n"
     ]
    }
   ],
   "source": [
    "import os\n",
    "os.environ[\"PYTHONHASHSEED\"] = \"13\"\n",
    "os.environ[\"CUDA_VISIBLE_DEVICES\"] = \"\"\n",
    "\n",
    "import numpy as np\n",
    "import tensorflow as tf\n",
    "import random as rn\n",
    "\n",
    "# The below is necessary for starting Numpy generated random numbers\n",
    "# in a well-defined initial state.\n",
    "\n",
    "np.random.seed(13)\n",
    "\n",
    "# The below is necessary for starting core Python generated random numbers\n",
    "# in a well-defined state.\n",
    "\n",
    "rn.seed(13)\n",
    "\n",
    "# Force TensorFlow to use single thread.\n",
    "# Multiple threads are a potential source of non-reproducible results.\n",
    "# For further details, see: https://stackoverflow.com/questions/42022950/\n",
    "\n",
    "session_conf = tf.ConfigProto(intra_op_parallelism_threads=1,\n",
    "                              inter_op_parallelism_threads=1)\n",
    "\n",
    "from keras import backend as K\n",
    "\n",
    "# The below tf.set_random_seed() will make random number generation\n",
    "# in the TensorFlow backend have a well-defined initial state.\n",
    "# For further details, see:\n",
    "# https://www.tensorflow.org/api_docs/python/tf/set_random_seed\n",
    "\n",
    "tf.set_random_seed(13)\n",
    "\n",
    "sess = tf.Session(graph=tf.get_default_graph(), config=session_conf)\n",
    "K.set_session(sess)"
   ]
  },
  {
   "cell_type": "code",
   "execution_count": 4,
   "metadata": {},
   "outputs": [],
   "source": [
    "import gc\n",
    "import warnings\n",
    "\n",
    "import lightgbm as lgb\n",
    "import pandas as pd\n",
    "\n",
    "from matplotlib import pyplot as plt\n",
    "from sklearn.metrics import mean_squared_error\n",
    "from sklearn.model_selection import KFold\n",
    "from sklearn.preprocessing import LabelEncoder, MinMaxScaler, StandardScaler\n",
    "from tqdm.notebook import tqdm\n",
    "\n",
    "import keras\n",
    "from keras.models import Sequential\n",
    "from keras.layers import BatchNormalization, Dense, Dropout\n",
    "\n",
    "path_data = \"../input/ashrae-energy-prediction/\"\n",
    "path_train = path_data + \"train.csv\"\n",
    "path_test = path_data + \"test.csv\"\n",
    "path_building = path_data + \"building_metadata.csv\"\n",
    "path_weather_train = path_data + \"weather_train.csv\"\n",
    "path_weather_test = path_data + \"weather_test.csv\"\n",
    "\n",
    "myfavouritenumber = 13\n",
    "seed = myfavouritenumber\n",
    "\n",
    "warnings.filterwarnings(\"ignore\")"
   ]
  },
  {
   "cell_type": "code",
   "execution_count": 5,
   "metadata": {},
   "outputs": [],
   "source": [
    "site_id = 13"
   ]
  },
  {
   "cell_type": "code",
   "execution_count": 6,
   "metadata": {},
   "outputs": [
    {
     "data": {
      "text/plain": [
       "0"
      ]
     },
     "execution_count": 6,
     "metadata": {},
     "output_type": "execute_result"
    }
   ],
   "source": [
    "df_train = pd.read_csv(path_train)\n",
    "df_test = pd.read_csv(path_test)\n",
    "\n",
    "building = pd.read_csv(path_building)\n",
    "\n",
    "weather_train = pd.read_csv(path_weather_train)\n",
    "weather_test = pd.read_csv(path_weather_test)\n",
    "\n",
    "weather_train.drop([\"sea_level_pressure\", \"wind_direction\", \"wind_speed\"], axis=1, inplace=True)\n",
    "weather_test.drop([\"sea_level_pressure\", \"wind_direction\", \"wind_speed\"], axis=1, inplace=True)\n",
    "\n",
    "weather_train = weather_train.groupby(\"site_id\").apply(lambda group: group.interpolate(limit_direction=\"both\"))\n",
    "weather_test = weather_test.groupby(\"site_id\").apply(lambda group: group.interpolate(limit_direction=\"both\"))\n",
    "\n",
    "df_train = df_train.merge(building, on=\"building_id\")\n",
    "df_test = df_test.merge(building, on=\"building_id\")\n",
    "\n",
    "df_train = df_train[df_train.site_id == site_id]\n",
    "df_test = df_test[df_test.site_id == site_id]\n",
    "\n",
    "df_train[\"log_meter_reading\"] = np.log1p(df_train.meter_reading)\n",
    "\n",
    "df_train = df_train[~((df_train.building_id == 1069) & (df_train.log_meter_reading < 1))]\n",
    "df_train = df_train[~((df_train.building_id == 1070) & (df_train.log_meter_reading < 1))]\n",
    "df_train = df_train[~((df_train.building_id == 1073) & (df_train.log_meter_reading < 1))]\n",
    "df_train = df_train[~((df_train.building_id == 1079) & (df_train.log_meter_reading < 1))]\n",
    "df_train = df_train[~((df_train.building_id == 1082) & (df_train.log_meter_reading < 1))]\n",
    "df_train = df_train[~((df_train.building_id == 1088) & (df_train.log_meter_reading < 1))]\n",
    "df_train = df_train[~((df_train.building_id == 1091) & (df_train.log_meter_reading < 3))]\n",
    "df_train = df_train[~((df_train.building_id == 1093) & (df_train.log_meter_reading < 1))]\n",
    "df_train = df_train[~((df_train.building_id == 1096) & (df_train.log_meter_reading < 1))]\n",
    "df_train = df_train[~((df_train.building_id == 1098) & (df_train.log_meter_reading < 1))]\n",
    "df_train = df_train[~((df_train.building_id == 1100) & (df_train.log_meter_reading < 1))]\n",
    "df_train = df_train[~((df_train.building_id == 1106) & (df_train.log_meter_reading < 1))]\n",
    "df_train = df_train[~((df_train.building_id == 1113) & (df_train.log_meter_reading < 1))]\n",
    "df_train = df_train[~((df_train.building_id == 1114) & (df_train.log_meter_reading < 1))]\n",
    "df_train = df_train[~((df_train.building_id == 1115) & (df_train.log_meter_reading < 1))]\n",
    "df_train = df_train[~((df_train.building_id == 1119) & (df_train.log_meter_reading < 1))]\n",
    "df_train = df_train[~((df_train.building_id == 1120) & (df_train.log_meter_reading < 1))]\n",
    "df_train = df_train[~((df_train.building_id == 1121) & (df_train.log_meter_reading < 2))]\n",
    "df_train = df_train[~((df_train.building_id == 1125) & (df_train.log_meter_reading < 2))]\n",
    "df_train = df_train[~((df_train.building_id == 1128) & (df_train.log_meter_reading < 1))]\n",
    "df_train = df_train[~((df_train.building_id == 1133) & (df_train.log_meter_reading < 4.5))]\n",
    "df_train = df_train[~((df_train.building_id == 1134) & (df_train.log_meter_reading < 2))]\n",
    "df_train = df_train[~((df_train.building_id == 1137) & (df_train.log_meter_reading < 1))]\n",
    "df_train = df_train[~((df_train.building_id == 1141) & (df_train.log_meter_reading < 1))]\n",
    "df_train = df_train[~((df_train.building_id == 1142) & (df_train.log_meter_reading < 1))]\n",
    "df_train = df_train[~((df_train.building_id == 1151) & (df_train.log_meter_reading < 1))]\n",
    "df_train = df_train[~((df_train.building_id == 1153) & (df_train.log_meter_reading < 1))]\n",
    "df_train = df_train[~((df_train.building_id == 1157) & (df_train.log_meter_reading < 1))]\n",
    "df_train = df_train[~((df_train.building_id == 1159) & (df_train.log_meter_reading < 5))]\n",
    "df_train = df_train[~((df_train.building_id == 1160) & (df_train.log_meter_reading < 1))]\n",
    "df_train = df_train[~((df_train.building_id == 1162) & (df_train.log_meter_reading < 1))]\n",
    "df_train = df_train[~((df_train.building_id == 1163) & (df_train.log_meter_reading < 1))]\n",
    "df_train = df_train[~((df_train.building_id == 1165) & (df_train.log_meter_reading < 1))]\n",
    "df_train = df_train[~((df_train.building_id == 1167) & (df_train.log_meter_reading < 1))]\n",
    "df_train = df_train[~((df_train.building_id == 1168) & (df_train.log_meter_reading > 9))]\n",
    "df_train = df_train[~((df_train.building_id == 1169) & (df_train.log_meter_reading < 1))]\n",
    "df_train = df_train[~((df_train.building_id == 1170) & (df_train.log_meter_reading < 1))]\n",
    "df_train = df_train[~((df_train.building_id == 1172) & (df_train.log_meter_reading < 1))]\n",
    "df_train = df_train[~((df_train.building_id == 1177) & (df_train.log_meter_reading < 1))]\n",
    "df_train = df_train[~((df_train.building_id == 1179) & (df_train.log_meter_reading < 1))]\n",
    "df_train = df_train[~((df_train.building_id == 1182) & (df_train.log_meter_reading < 1))]\n",
    "df_train = df_train[~((df_train.building_id == 1185) & (df_train.log_meter_reading < 1))]\n",
    "df_train = df_train[~((df_train.building_id == 1202) & (df_train.log_meter_reading < 1))]\n",
    "df_train = df_train[~((df_train.building_id == 1203) & (df_train.log_meter_reading < 1))]\n",
    "df_train = df_train[~((df_train.building_id == 1206) & (df_train.log_meter_reading < 1))]\n",
    "df_train = df_train[~((df_train.building_id == 1207) & (df_train.log_meter_reading < 1))]\n",
    "df_train = df_train[~((df_train.building_id == 1208) & (df_train.log_meter_reading < 1))]\n",
    "df_train = df_train[~((df_train.building_id == 1209) & (df_train.log_meter_reading < 1))]\n",
    "df_train = df_train[~((df_train.building_id == 1210) & (df_train.log_meter_reading < 1))]\n",
    "df_train = df_train[~((df_train.building_id == 1212) & (df_train.log_meter_reading < 1))]\n",
    "df_train = df_train[~((df_train.building_id == 1219) & (df_train.log_meter_reading < 1))]\n",
    "df_train = df_train[~((df_train.building_id == 1221) & (df_train.log_meter_reading < 1))]\n",
    "df_train = df_train[~((df_train.building_id == 1222) & (df_train.log_meter_reading < 1))]\n",
    "\n",
    "df_train = df_train[df_train.meter == 0]\n",
    "\n",
    "df_train = df_train.merge(weather_train, on=[\"site_id\", \"timestamp\"], how=\"left\")\n",
    "df_test = df_test.merge(weather_test, on=[\"site_id\", \"timestamp\"], how=\"left\")\n",
    "\n",
    "df_train.timestamp = pd.to_datetime(df_train.timestamp, format='%Y-%m-%d %H:%M:%S')\n",
    "df_test.timestamp = pd.to_datetime(df_test.timestamp, format='%Y-%m-%d %H:%M:%S')\n",
    "\n",
    "df_train.building_id = df_train.building_id.astype(\"str\")\n",
    "df_test.building_id = df_test.building_id.astype(\"str\")\n",
    "\n",
    "del building\n",
    "gc.collect()"
   ]
  },
  {
   "cell_type": "code",
   "execution_count": 7,
   "metadata": {},
   "outputs": [],
   "source": [
    "df_train[\"hour\"] = df_train.timestamp.dt.hour.astype(\"str\")\n",
    "df_test[\"hour\"] = df_test.timestamp.dt.hour.astype(\"str\")\n",
    "\n",
    "df_train[\"weekday\"] = df_train.timestamp.dt.weekday.astype(\"str\")\n",
    "df_test[\"weekday\"] = df_test.timestamp.dt.weekday.astype(\"str\")\n",
    "\n",
    "df_train[\"month\"] = df_train.timestamp.dt.month.astype(\"str\")\n",
    "df_test[\"month\"] = df_test.timestamp.dt.month.astype(\"str\")"
   ]
  },
  {
   "cell_type": "code",
   "execution_count": 8,
   "metadata": {},
   "outputs": [],
   "source": [
    "features = [\n",
    "    \"building_id\",\n",
    "    \"square_feet\",\n",
    "    \"year_built\",\n",
    "    \"floor_count\",\n",
    "    \"primary_use\",\n",
    "    \"air_temperature\",\n",
    "    \"cloud_coverage\",\n",
    "    \"dew_temperature\",\n",
    "    \"precip_depth_1_hr\",\n",
    "    \"hour\",\n",
    "    \"weekday\",\n",
    "    \"month\"\n",
    "]"
   ]
  },
  {
   "cell_type": "code",
   "execution_count": 9,
   "metadata": {},
   "outputs": [],
   "source": [
    "def rmse(y_true, y_pred):\n",
    "    return K.sqrt(K.mean(K.square(y_pred - y_true)))\n"
   ]
  },
  {
   "cell_type": "code",
   "execution_count": 10,
   "metadata": {},
   "outputs": [],
   "source": [
    "cv = 4\n",
    "folds = KFold(n_splits = cv, shuffle = False, random_state = seed)\n",
    "\n",
    "df_cv = []\n",
    "df_preds = []"
   ]
  },
  {
   "cell_type": "code",
   "execution_count": 11,
   "metadata": {
    "scrolled": true
   },
   "outputs": [
    {
     "name": "stdout",
     "output_type": "stream",
     "text": [
      "Building Model for site_id 13 and meter 0\n",
      "Preparing Site: 13 , meter: 0 , Fold: 1\n",
      "WARNING:tensorflow:From C:\\Users\\sbbpan\\AppData\\Local\\Continuum\\anaconda3\\lib\\site-packages\\keras\\backend\\tensorflow_backend.py:74: The name tf.get_default_graph is deprecated. Please use tf.compat.v1.get_default_graph instead.\n",
      "\n",
      "WARNING:tensorflow:From C:\\Users\\sbbpan\\AppData\\Local\\Continuum\\anaconda3\\lib\\site-packages\\keras\\backend\\tensorflow_backend.py:517: The name tf.placeholder is deprecated. Please use tf.compat.v1.placeholder instead.\n",
      "\n",
      "WARNING:tensorflow:From C:\\Users\\sbbpan\\AppData\\Local\\Continuum\\anaconda3\\lib\\site-packages\\keras\\backend\\tensorflow_backend.py:4138: The name tf.random_uniform is deprecated. Please use tf.random.uniform instead.\n",
      "\n",
      "WARNING:tensorflow:From C:\\Users\\sbbpan\\AppData\\Local\\Continuum\\anaconda3\\lib\\site-packages\\keras\\backend\\tensorflow_backend.py:133: The name tf.placeholder_with_default is deprecated. Please use tf.compat.v1.placeholder_with_default instead.\n",
      "\n",
      "WARNING:tensorflow:From C:\\Users\\sbbpan\\AppData\\Local\\Continuum\\anaconda3\\lib\\site-packages\\keras\\backend\\tensorflow_backend.py:3445: calling dropout (from tensorflow.python.ops.nn_ops) with keep_prob is deprecated and will be removed in a future version.\n",
      "Instructions for updating:\n",
      "Please use `rate` instead of `keep_prob`. Rate should be set to `rate = 1 - keep_prob`.\n",
      "WARNING:tensorflow:From C:\\Users\\sbbpan\\AppData\\Local\\Continuum\\anaconda3\\lib\\site-packages\\keras\\optimizers.py:790: The name tf.train.Optimizer is deprecated. Please use tf.compat.v1.train.Optimizer instead.\n",
      "\n",
      "WARNING:tensorflow:From C:\\Users\\sbbpan\\AppData\\Local\\Continuum\\anaconda3\\lib\\site-packages\\tensorflow\\python\\ops\\math_grad.py:1250: add_dispatch_support.<locals>.wrapper (from tensorflow.python.ops.array_ops) is deprecated and will be removed in a future version.\n",
      "Instructions for updating:\n",
      "Use tf.where in 2.0, which has the same broadcast rule as np.where\n",
      "WARNING:tensorflow:From C:\\Users\\sbbpan\\AppData\\Local\\Continuum\\anaconda3\\lib\\site-packages\\keras\\backend\\tensorflow_backend.py:986: The name tf.assign_add is deprecated. Please use tf.compat.v1.assign_add instead.\n",
      "\n",
      "Train on 912525 samples, validate on 304176 samples\n",
      "Epoch 1/17\n",
      " - 19s - loss: 2.3547 - val_loss: 1.1035\n",
      "Epoch 2/17\n",
      " - 16s - loss: 1.3526 - val_loss: 1.0677\n",
      "Epoch 3/17\n",
      " - 17s - loss: 1.3291 - val_loss: 1.0434\n",
      "Epoch 4/17\n",
      " - 25s - loss: 1.3099 - val_loss: 1.0080\n",
      "Epoch 5/17\n",
      " - 24s - loss: 1.2913 - val_loss: 0.9895\n",
      "Epoch 6/17\n",
      " - 33s - loss: 1.2760 - val_loss: 0.9882\n",
      "Epoch 7/17\n",
      " - 26s - loss: 1.2621 - val_loss: 0.9783\n",
      "Epoch 8/17\n",
      " - 28s - loss: 1.2482 - val_loss: 0.9858\n",
      "Epoch 9/17\n",
      " - 29s - loss: 1.2362 - val_loss: 0.9767\n",
      "Epoch 10/17\n",
      " - 33s - loss: 1.2251 - val_loss: 0.9881\n",
      "Epoch 11/17\n",
      " - 35s - loss: 1.2137 - val_loss: 0.9931\n",
      "Epoch 12/17\n",
      " - 32s - loss: 1.2024 - val_loss: 0.9900\n",
      "Epoch 13/17\n",
      " - 34s - loss: 1.1916 - val_loss: 0.9861\n",
      "Epoch 14/17\n",
      " - 34s - loss: 1.1822 - val_loss: 0.9929\n",
      "Epoch 15/17\n",
      " - 33s - loss: 1.1737 - val_loss: 1.0046\n",
      "Epoch 16/17\n",
      " - 25s - loss: 1.1639 - val_loss: 0.9949\n",
      "Epoch 17/17\n",
      " - 28s - loss: 1.1559 - val_loss: 1.0071\n"
     ]
    },
    {
     "data": {
      "image/png": "[encoded data removed]",
      "text/plain": [
       "<Figure size 432x288 with 1 Axes>"
      ]
     },
     "metadata": {
      "needs_background": "light"
     },
     "output_type": "display_data"
    },
    {
     "name": "stdout",
     "output_type": "stream",
     "text": [
      "Preparing Site: 13 , meter: 0 , Fold: 2\n",
      "Train on 912526 samples, validate on 304175 samples\n",
      "Epoch 1/17\n",
      " - 18s - loss: 2.3815 - val_loss: 1.0009\n",
      "Epoch 2/17\n",
      " - 16s - loss: 1.3843 - val_loss: 0.9753\n",
      "Epoch 3/17\n",
      " - 18s - loss: 1.3602 - val_loss: 0.9707\n",
      "Epoch 4/17\n",
      " - 18s - loss: 1.3415 - val_loss: 0.9453\n",
      "Epoch 5/17\n",
      " - 20s - loss: 1.3223 - val_loss: 0.9388\n",
      "Epoch 6/17\n",
      " - 22s - loss: 1.3076 - val_loss: 0.9393\n",
      "Epoch 7/17\n",
      " - 19s - loss: 1.2944 - val_loss: 0.9570\n",
      "Epoch 8/17\n",
      " - 18s - loss: 1.2817 - val_loss: 0.9326\n",
      "Epoch 9/17\n",
      " - 18s - loss: 1.2696 - val_loss: 0.9303\n",
      "Epoch 10/17\n",
      " - 18s - loss: 1.2587 - val_loss: 0.9410\n",
      "Epoch 11/17\n",
      " - 19s - loss: 1.2467 - val_loss: 0.9401\n",
      "Epoch 12/17\n",
      " - 21s - loss: 1.2376 - val_loss: 0.9389\n",
      "Epoch 13/17\n",
      " - 23s - loss: 1.2279 - val_loss: 0.9533\n",
      "Epoch 14/17\n",
      " - 22s - loss: 1.2182 - val_loss: 0.9608\n",
      "Epoch 15/17\n",
      " - 18s - loss: 1.2095 - val_loss: 0.9497\n",
      "Epoch 16/17\n",
      " - 18s - loss: 1.2005 - val_loss: 0.9593\n",
      "Epoch 17/17\n",
      " - 19s - loss: 1.1932 - val_loss: 0.9653\n"
     ]
    },
    {
     "data": {
      "image/png": "[encoded data removed]",
      "text/plain": [
       "<Figure size 432x288 with 1 Axes>"
      ]
     },
     "metadata": {
      "needs_background": "light"
     },
     "output_type": "display_data"
    },
    {
     "name": "stdout",
     "output_type": "stream",
     "text": [
      "Preparing Site: 13 , meter: 0 , Fold: 3\n",
      "Train on 912526 samples, validate on 304175 samples\n",
      "Epoch 1/17\n",
      " - 51s - loss: 2.2805 - val_loss: 1.1133\n",
      "Epoch 2/17\n",
      " - 44s - loss: 1.3310 - val_loss: 1.0312\n",
      "Epoch 3/17\n",
      " - 41s - loss: 1.3047 - val_loss: 1.0179\n",
      "Epoch 4/17\n",
      " - 44s - loss: 1.2845 - val_loss: 0.9910\n",
      "Epoch 5/17\n",
      " - 54s - loss: 1.2676 - val_loss: 0.9843\n",
      "Epoch 6/17\n",
      " - 49s - loss: 1.2531 - val_loss: 0.9735\n",
      "Epoch 7/17\n",
      " - 41s - loss: 1.2374 - val_loss: 0.9760\n",
      "Epoch 8/17\n",
      " - 43s - loss: 1.2250 - val_loss: 0.9748\n",
      "Epoch 9/17\n",
      " - 42s - loss: 1.2113 - val_loss: 0.9627\n",
      "Epoch 10/17\n",
      " - 41s - loss: 1.1994 - val_loss: 0.9760\n",
      "Epoch 11/17\n",
      " - 51s - loss: 1.1880 - val_loss: 0.9528\n",
      "Epoch 12/17\n",
      " - 48s - loss: 1.1768 - val_loss: 0.9556\n",
      "Epoch 13/17\n",
      " - 50s - loss: 1.1671 - val_loss: 0.9563\n",
      "Epoch 14/17\n",
      " - 42s - loss: 1.1573 - val_loss: 0.9569\n",
      "Epoch 15/17\n",
      " - 43s - loss: 1.1486 - val_loss: 0.9575\n",
      "Epoch 16/17\n",
      " - 43s - loss: 1.1392 - val_loss: 0.9599\n",
      "Epoch 17/17\n",
      " - 49s - loss: 1.1295 - val_loss: 0.9740\n"
     ]
    },
    {
     "data": {
      "image/png": "[encoded data removed]",
      "text/plain": [
       "<Figure size 432x288 with 1 Axes>"
      ]
     },
     "metadata": {
      "needs_background": "light"
     },
     "output_type": "display_data"
    },
    {
     "name": "stdout",
     "output_type": "stream",
     "text": [
      "Preparing Site: 13 , meter: 0 , Fold: 4\n",
      "Train on 912526 samples, validate on 304175 samples\n",
      "Epoch 1/17\n",
      " - 58s - loss: 2.3528 - val_loss: 0.9707\n",
      "Epoch 2/17\n",
      " - 50s - loss: 1.3967 - val_loss: 0.9442\n",
      "Epoch 3/17\n",
      " - 44s - loss: 1.3745 - val_loss: 0.9284\n",
      "Epoch 4/17\n",
      " - 42s - loss: 1.3564 - val_loss: 0.9067\n",
      "Epoch 5/17\n",
      " - 43s - loss: 1.3403 - val_loss: 0.9087\n",
      "Epoch 6/17\n",
      " - 42s - loss: 1.3256 - val_loss: 0.9252\n",
      "Epoch 7/17\n",
      " - 45s - loss: 1.3133 - val_loss: 0.9085\n",
      "Epoch 8/17\n",
      " - 42s - loss: 1.3016 - val_loss: 0.9032\n",
      "Epoch 9/17\n",
      " - 49s - loss: 1.2910 - val_loss: 0.9123\n",
      "Epoch 10/17\n",
      " - 50s - loss: 1.2804 - val_loss: 0.8988\n",
      "Epoch 11/17\n",
      " - 42s - loss: 1.2692 - val_loss: 0.9214\n",
      "Epoch 12/17\n",
      " - 43s - loss: 1.2594 - val_loss: 0.9085\n",
      "Epoch 13/17\n",
      " - 42s - loss: 1.2496 - val_loss: 0.9190\n",
      "Epoch 14/17\n",
      " - 42s - loss: 1.2401 - val_loss: 0.9281\n",
      "Epoch 15/17\n",
      " - 44s - loss: 1.2323 - val_loss: 0.9292\n",
      "Epoch 16/17\n",
      " - 50s - loss: 1.2229 - val_loss: 0.9368\n",
      "Epoch 17/17\n",
      " - 40s - loss: 1.2160 - val_loss: 0.9235\n"
     ]
    },
    {
     "data": {
      "image/png": "[encoded data removed]",
      "text/plain": [
       "<Figure size 432x288 with 1 Axes>"
      ]
     },
     "metadata": {
      "needs_background": "light"
     },
     "output_type": "display_data"
    },
    {
     "name": "stdout",
     "output_type": "stream",
     "text": [
      "\n",
      "CV RMSE for Site: 13 and Meter: 0 is 1.1641069808105289\n",
      "\n",
      "CV RMSE for Site: 13 is 1.1641069808105289\n"
     ]
    }
   ],
   "source": [
    "for meter in df_train.meter.unique():\n",
    "    print(\"Building Model for site_id\", site_id, \"and meter\", meter)\n",
    "        \n",
    "    df_train_site_meter = df_train[df_train.meter == meter].reset_index(drop=True)\n",
    "    df_test_site_meter = df_test[df_test.meter == meter].reset_index(drop=True)\n",
    "    \n",
    "    pred_val = np.zeros(df_train_site_meter.shape[0])\n",
    "    pred_test = np.zeros(df_test_site_meter.shape[0])\n",
    "\n",
    "    row_ids_test = df_test_site_meter.row_id\n",
    "    y_train_site_meter = df_train_site_meter.log_meter_reading.values\n",
    "    \n",
    "    df_train_site_meter = df_train_site_meter[features]\n",
    "    df_test_site_meter = df_test_site_meter[features]\n",
    "\n",
    "    df_train_site_meter = pd.get_dummies(df_train_site_meter)\n",
    "    df_test_site_meter = pd.get_dummies(df_test_site_meter)\n",
    "        \n",
    "    for k, (train_idx, valid_idx) in enumerate(folds.split(df_train_site_meter, y_train_site_meter)):\n",
    "        print(\"Preparing Site:\", site_id, \", meter:\", meter, \", Fold:\", k+1)\n",
    "        \n",
    "        X_train, y_train = df_train_site_meter.iloc[train_idx], y_train_site_meter[train_idx]\n",
    "        X_valid, y_valid = df_train_site_meter.iloc[valid_idx], y_train_site_meter[valid_idx]\n",
    "        \n",
    "        X_train.dropna(axis=1, how=\"all\", inplace=True)\n",
    "        X_train = X_train.loc[:, (X_train != X_train.iloc[0]).any()]\n",
    "\n",
    "        X_valid = X_valid[X_train.columns]\n",
    "        X_test = df_test_site_meter[X_train.columns]\n",
    "        \n",
    "        df_means = pd.concat([X_train, X_valid, X_test], ignore_index=True).mean()\n",
    "        X_train.fillna(df_means, inplace=True)\n",
    "        X_valid.fillna(df_means, inplace=True)\n",
    "        X_test.fillna(df_means, inplace=True)\n",
    "        \n",
    "        sc = MinMaxScaler()\n",
    "        sc.fit(pd.concat([X_train, X_valid, X_test], ignore_index=True))\n",
    "        \n",
    "        X_train = np.array(sc.transform(X_train))\n",
    "        X_valid = np.array(sc.transform(X_valid))\n",
    "        X_test = np.array(sc.transform(X_test))\n",
    "        \n",
    "        model = Sequential()\n",
    "        model.add(Dense(256, input_dim=X_train.shape[1], activation=\"relu\", kernel_initializer=keras.initializers.glorot_uniform(seed=seed)))\n",
    "        model.add(BatchNormalization())\n",
    "        model.add(Dropout(0.2))\n",
    "        model.add(Dense(64, activation=\"tanh\", kernel_initializer=keras.initializers.glorot_uniform(seed=seed)))\n",
    "        model.add(BatchNormalization())\n",
    "        model.add(Dropout(0.2))\n",
    "        model.add(Dense(8, activation=\"tanh\", kernel_initializer=keras.initializers.glorot_uniform(seed=seed)))\n",
    "        model.add(BatchNormalization())\n",
    "        model.add(Dropout(0.2))\n",
    "        model.add(Dense(1))\n",
    "        model.compile(loss=rmse, optimizer=\"adam\")\n",
    "        \n",
    "        model_ffnn = model.fit(X_train, y_train, epochs=17, batch_size=1000, validation_data=(X_valid, y_valid), verbose=2, shuffle=False)\n",
    "\n",
    "        plt.plot(model_ffnn.history[\"loss\"])\n",
    "        plt.plot(model_ffnn.history[\"val_loss\"])\n",
    "        plt.title(\"Loss for Site: \" + str(site_id) + \", Meter: \" + str(meter) + \", Fold: \" + str(k+1))\n",
    "        plt.ylabel(\"rmse\")\n",
    "        plt.xlabel(\"Epoch\")\n",
    "        plt.legend([\"train\", \"valid\"], loc=\"upper right\")\n",
    "        plt.show()\n",
    "        \n",
    "        pred_val[valid_idx] = model.predict(X_valid).ravel()\n",
    "        pred_test += model.predict(X_test).ravel() / cv\n",
    "        \n",
    "        gc.collect()\n",
    "        \n",
    "    df_valid = pd.DataFrame({\"site_id\": site_id, \"meter\": meter, \"meter_reading\": np.expm1(y_train_site_meter), \"pred_ffnn\": np.clip(np.expm1(pred_val), 0, a_max=None)})\n",
    "    df_pred = pd.DataFrame({\"row_id\": row_ids_test, \"meter_reading\": np.clip(np.expm1(pred_test), 0, a_max=None)})\n",
    "    \n",
    "    df_cv.append(df_valid)\n",
    "    df_preds.append(df_pred)\n",
    "    \n",
    "    gc.collect()\n",
    "    \n",
    "    print(\"\\nCV RMSE for Site:\", site_id, \"and Meter:\", meter, \"is\", np.sqrt(mean_squared_error(np.log1p(df_valid.meter_reading), np.log1p(df_valid.pred_ffnn))))\n",
    "\n",
    "df_cv = pd.concat(df_cv)\n",
    "print(\"\\nCV RMSE for Site:\", site_id, \"is\", np.sqrt(mean_squared_error(np.log1p(df_cv.meter_reading), np.log1p(df_cv.pred_ffnn))))"
   ]
  },
  {
   "cell_type": "code",
   "execution_count": 12,
   "metadata": {},
   "outputs": [],
   "source": [
    "df_preds = pd.concat(df_preds)\n",
    "#df_preds.to_csv(\"/home/rohan/kaggle/ASHRAE/data/ffnn_pred_site_\" + str(site_id) + \".csv\", index=False)\n",
    "df_preds.to_csv(\"../sub/ffnn_pred_site_\" + str(site_id) + \".csv\", index=False)"
   ]
  },
  {
   "cell_type": "code",
   "execution_count": null,
   "metadata": {},
   "outputs": [],
   "source": []
  }
 ],
 "metadata": {
  "kernelspec": {
   "display_name": "Python 3",
   "language": "python",
   "name": "python3"
  },
  "language_info": {
   "codemirror_mode": {
    "name": "ipython",
    "version": 3
   },
   "file_extension": ".py",
   "mimetype": "text/x-python",
   "name": "python",
   "nbconvert_exporter": "python",
   "pygments_lexer": "ipython3",
   "version": "3.7.4"
  }
 },
 "nbformat": 4,
 "nbformat_minor": 2
}
