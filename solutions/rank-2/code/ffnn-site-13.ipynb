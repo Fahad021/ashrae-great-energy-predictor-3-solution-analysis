{
 "cells": [
  {
   "cell_type": "code",
   "execution_count": 2,
   "metadata": {
    "ExecuteTime": {
     "end_time": "2020-04-26T15:27:05.597041Z",
     "start_time": "2020-04-26T15:17:05.494991Z"
    }
   },
   "outputs": [],
   "source": [
    "import time\n",
    "time.sleep(60*10)"
   ]
  },
  {
   "cell_type": "code",
   "execution_count": 3,
   "metadata": {
    "ExecuteTime": {
     "end_time": "2020-04-26T15:27:05.600572Z",
     "start_time": "2020-04-26T15:27:05.598642Z"
    }
   },
   "outputs": [],
   "source": [
    "#!pip install tensorflow==1.14.0"
   ]
  },
  {
   "cell_type": "code",
   "execution_count": 4,
   "metadata": {
    "ExecuteTime": {
     "end_time": "2020-04-26T15:27:05.604122Z",
     "start_time": "2020-04-26T15:27:05.601855Z"
    }
   },
   "outputs": [],
   "source": [
    "#!pip install keras==2.2.5"
   ]
  },
  {
   "cell_type": "code",
   "execution_count": 5,
   "metadata": {
    "ExecuteTime": {
     "end_time": "2020-04-26T15:27:07.413481Z",
     "start_time": "2020-04-26T15:27:05.605423Z"
    }
   },
   "outputs": [
    {
     "name": "stdout",
     "output_type": "stream",
     "text": [
      "WARNING:tensorflow:From /home/ubuntu/anaconda3/envs/tensorflow_p36/lib/python3.6/site-packages/tensorflow_core/__init__.py:1467: The name tf.estimator.inputs is deprecated. Please use tf.compat.v1.estimator.inputs instead.\n",
      "\n"
     ]
    },
    {
     "name": "stderr",
     "output_type": "stream",
     "text": [
      "Using TensorFlow backend.\n"
     ]
    }
   ],
   "source": [
    "import os\n",
    "os.environ[\"PYTHONHASHSEED\"] = \"13\"\n",
    "os.environ[\"CUDA_VISIBLE_DEVICES\"] = \"0:1\"\n",
    "\n",
    "import numpy as np\n",
    "import tensorflow as tf\n",
    "import random as rn\n",
    "\n",
    "# The below is necessary for starting Numpy generated random numbers\n",
    "# in a well-defined initial state.\n",
    "\n",
    "np.random.seed(13)\n",
    "\n",
    "# The below is necessary for starting core Python generated random numbers\n",
    "# in a well-defined state.\n",
    "\n",
    "rn.seed(13)\n",
    "\n",
    "# Force TensorFlow to use single thread.\n",
    "# Multiple threads are a potential source of non-reproducible results.\n",
    "# For further details, see: https://stackoverflow.com/questions/42022950/\n",
    "\n",
    "session_conf = tf.ConfigProto(intra_op_parallelism_threads=1,\n",
    "                              inter_op_parallelism_threads=1)\n",
    "\n",
    "from keras import backend as K\n",
    "\n",
    "# The below tf.set_random_seed() will make random number generation\n",
    "# in the TensorFlow backend have a well-defined initial state.\n",
    "# For further details, see:\n",
    "# https://www.tensorflow.org/api_docs/python/tf/set_random_seed\n",
    "\n",
    "tf.set_random_seed(13)\n",
    "\n",
    "sess = tf.Session(graph=tf.get_default_graph(), config=session_conf)\n",
    "K.set_session(sess)"
   ]
  },
  {
   "cell_type": "code",
   "execution_count": 6,
   "metadata": {
    "ExecuteTime": {
     "end_time": "2020-04-26T15:27:07.712817Z",
     "start_time": "2020-04-26T15:27:07.415017Z"
    }
   },
   "outputs": [],
   "source": [
    "import gc\n",
    "import warnings\n",
    "\n",
    "#import lightgbm as lgb\n",
    "import pandas as pd\n",
    "\n",
    "from matplotlib import pyplot as plt\n",
    "from sklearn.metrics import mean_squared_error\n",
    "from sklearn.model_selection import KFold\n",
    "from sklearn.preprocessing import LabelEncoder, MinMaxScaler, StandardScaler\n",
    "from tqdm.notebook import tqdm\n",
    "\n",
    "import keras\n",
    "from keras.models import Sequential\n",
    "from keras.layers import BatchNormalization, Dense, Dropout\n",
    "\n",
    "path_data = \"../input/ashrae-energy-prediction/\"\n",
    "path_train = path_data + \"train.csv\"\n",
    "path_test = path_data + \"test.csv\"\n",
    "path_building = path_data + \"building_metadata.csv\"\n",
    "path_weather_train = path_data + \"weather_train.csv\"\n",
    "path_weather_test = path_data + \"weather_test.csv\"\n",
    "\n",
    "myfavouritenumber = 13\n",
    "seed = myfavouritenumber\n",
    "\n",
    "warnings.filterwarnings(\"ignore\")"
   ]
  },
  {
   "cell_type": "code",
   "execution_count": 7,
   "metadata": {
    "ExecuteTime": {
     "end_time": "2020-04-26T15:27:07.716154Z",
     "start_time": "2020-04-26T15:27:07.714260Z"
    }
   },
   "outputs": [],
   "source": [
    "site_id = 13"
   ]
  },
  {
   "cell_type": "code",
   "execution_count": 8,
   "metadata": {
    "ExecuteTime": {
     "end_time": "2020-04-26T15:28:07.837468Z",
     "start_time": "2020-04-26T15:27:07.717490Z"
    }
   },
   "outputs": [
    {
     "data": {
      "text/plain": [
       "21"
      ]
     },
     "execution_count": 8,
     "metadata": {},
     "output_type": "execute_result"
    }
   ],
   "source": [
    "df_train = pd.read_csv(path_train)\n",
    "df_test = pd.read_csv(path_test)\n",
    "\n",
    "building = pd.read_csv(path_building)\n",
    "\n",
    "weather_train = pd.read_csv(path_weather_train)\n",
    "weather_test = pd.read_csv(path_weather_test)\n",
    "\n",
    "weather_train.drop([\"sea_level_pressure\", \"wind_direction\", \"wind_speed\"], axis=1, inplace=True)\n",
    "weather_test.drop([\"sea_level_pressure\", \"wind_direction\", \"wind_speed\"], axis=1, inplace=True)\n",
    "\n",
    "weather_train = weather_train.groupby(\"site_id\").apply(lambda group: group.interpolate(limit_direction=\"both\"))\n",
    "weather_test = weather_test.groupby(\"site_id\").apply(lambda group: group.interpolate(limit_direction=\"both\"))\n",
    "\n",
    "df_train = df_train.merge(building, on=\"building_id\")\n",
    "df_test = df_test.merge(building, on=\"building_id\")\n",
    "\n",
    "df_train = df_train[df_train.site_id == site_id]\n",
    "df_test = df_test[df_test.site_id == site_id]\n",
    "\n",
    "df_train[\"log_meter_reading\"] = np.log1p(df_train.meter_reading)\n",
    "\n",
    "df_train = df_train[~((df_train.building_id == 1069) & (df_train.log_meter_reading < 1))]\n",
    "df_train = df_train[~((df_train.building_id == 1070) & (df_train.log_meter_reading < 1))]\n",
    "df_train = df_train[~((df_train.building_id == 1073) & (df_train.log_meter_reading < 1))]\n",
    "df_train = df_train[~((df_train.building_id == 1079) & (df_train.log_meter_reading < 1))]\n",
    "df_train = df_train[~((df_train.building_id == 1082) & (df_train.log_meter_reading < 1))]\n",
    "df_train = df_train[~((df_train.building_id == 1088) & (df_train.log_meter_reading < 1))]\n",
    "df_train = df_train[~((df_train.building_id == 1091) & (df_train.log_meter_reading < 3))]\n",
    "df_train = df_train[~((df_train.building_id == 1093) & (df_train.log_meter_reading < 1))]\n",
    "df_train = df_train[~((df_train.building_id == 1096) & (df_train.log_meter_reading < 1))]\n",
    "df_train = df_train[~((df_train.building_id == 1098) & (df_train.log_meter_reading < 1))]\n",
    "df_train = df_train[~((df_train.building_id == 1100) & (df_train.log_meter_reading < 1))]\n",
    "df_train = df_train[~((df_train.building_id == 1106) & (df_train.log_meter_reading < 1))]\n",
    "df_train = df_train[~((df_train.building_id == 1113) & (df_train.log_meter_reading < 1))]\n",
    "df_train = df_train[~((df_train.building_id == 1114) & (df_train.log_meter_reading < 1))]\n",
    "df_train = df_train[~((df_train.building_id == 1115) & (df_train.log_meter_reading < 1))]\n",
    "df_train = df_train[~((df_train.building_id == 1119) & (df_train.log_meter_reading < 1))]\n",
    "df_train = df_train[~((df_train.building_id == 1120) & (df_train.log_meter_reading < 1))]\n",
    "df_train = df_train[~((df_train.building_id == 1121) & (df_train.log_meter_reading < 2))]\n",
    "df_train = df_train[~((df_train.building_id == 1125) & (df_train.log_meter_reading < 2))]\n",
    "df_train = df_train[~((df_train.building_id == 1128) & (df_train.log_meter_reading < 1))]\n",
    "df_train = df_train[~((df_train.building_id == 1133) & (df_train.log_meter_reading < 4.5))]\n",
    "df_train = df_train[~((df_train.building_id == 1134) & (df_train.log_meter_reading < 2))]\n",
    "df_train = df_train[~((df_train.building_id == 1137) & (df_train.log_meter_reading < 1))]\n",
    "df_train = df_train[~((df_train.building_id == 1141) & (df_train.log_meter_reading < 1))]\n",
    "df_train = df_train[~((df_train.building_id == 1142) & (df_train.log_meter_reading < 1))]\n",
    "df_train = df_train[~((df_train.building_id == 1151) & (df_train.log_meter_reading < 1))]\n",
    "df_train = df_train[~((df_train.building_id == 1153) & (df_train.log_meter_reading < 1))]\n",
    "df_train = df_train[~((df_train.building_id == 1157) & (df_train.log_meter_reading < 1))]\n",
    "df_train = df_train[~((df_train.building_id == 1159) & (df_train.log_meter_reading < 5))]\n",
    "df_train = df_train[~((df_train.building_id == 1160) & (df_train.log_meter_reading < 1))]\n",
    "df_train = df_train[~((df_train.building_id == 1162) & (df_train.log_meter_reading < 1))]\n",
    "df_train = df_train[~((df_train.building_id == 1163) & (df_train.log_meter_reading < 1))]\n",
    "df_train = df_train[~((df_train.building_id == 1165) & (df_train.log_meter_reading < 1))]\n",
    "df_train = df_train[~((df_train.building_id == 1167) & (df_train.log_meter_reading < 1))]\n",
    "df_train = df_train[~((df_train.building_id == 1168) & (df_train.log_meter_reading > 9))]\n",
    "df_train = df_train[~((df_train.building_id == 1169) & (df_train.log_meter_reading < 1))]\n",
    "df_train = df_train[~((df_train.building_id == 1170) & (df_train.log_meter_reading < 1))]\n",
    "df_train = df_train[~((df_train.building_id == 1172) & (df_train.log_meter_reading < 1))]\n",
    "df_train = df_train[~((df_train.building_id == 1177) & (df_train.log_meter_reading < 1))]\n",
    "df_train = df_train[~((df_train.building_id == 1179) & (df_train.log_meter_reading < 1))]\n",
    "df_train = df_train[~((df_train.building_id == 1182) & (df_train.log_meter_reading < 1))]\n",
    "df_train = df_train[~((df_train.building_id == 1185) & (df_train.log_meter_reading < 1))]\n",
    "df_train = df_train[~((df_train.building_id == 1202) & (df_train.log_meter_reading < 1))]\n",
    "df_train = df_train[~((df_train.building_id == 1203) & (df_train.log_meter_reading < 1))]\n",
    "df_train = df_train[~((df_train.building_id == 1206) & (df_train.log_meter_reading < 1))]\n",
    "df_train = df_train[~((df_train.building_id == 1207) & (df_train.log_meter_reading < 1))]\n",
    "df_train = df_train[~((df_train.building_id == 1208) & (df_train.log_meter_reading < 1))]\n",
    "df_train = df_train[~((df_train.building_id == 1209) & (df_train.log_meter_reading < 1))]\n",
    "df_train = df_train[~((df_train.building_id == 1210) & (df_train.log_meter_reading < 1))]\n",
    "df_train = df_train[~((df_train.building_id == 1212) & (df_train.log_meter_reading < 1))]\n",
    "df_train = df_train[~((df_train.building_id == 1219) & (df_train.log_meter_reading < 1))]\n",
    "df_train = df_train[~((df_train.building_id == 1221) & (df_train.log_meter_reading < 1))]\n",
    "df_train = df_train[~((df_train.building_id == 1222) & (df_train.log_meter_reading < 1))]\n",
    "\n",
    "df_train = df_train[df_train.meter == 0]\n",
    "\n",
    "df_train = df_train.merge(weather_train, on=[\"site_id\", \"timestamp\"], how=\"left\")\n",
    "df_test = df_test.merge(weather_test, on=[\"site_id\", \"timestamp\"], how=\"left\")\n",
    "\n",
    "df_train.timestamp = pd.to_datetime(df_train.timestamp, format='%Y-%m-%d %H:%M:%S')\n",
    "df_test.timestamp = pd.to_datetime(df_test.timestamp, format='%Y-%m-%d %H:%M:%S')\n",
    "\n",
    "df_train.building_id = df_train.building_id.astype(\"str\")\n",
    "df_test.building_id = df_test.building_id.astype(\"str\")\n",
    "\n",
    "del building\n",
    "gc.collect()"
   ]
  },
  {
   "cell_type": "code",
   "execution_count": 9,
   "metadata": {
    "ExecuteTime": {
     "end_time": "2020-04-26T15:28:18.393713Z",
     "start_time": "2020-04-26T15:28:07.839015Z"
    }
   },
   "outputs": [],
   "source": [
    "df_train[\"hour\"] = df_train.timestamp.dt.hour.astype(\"str\")\n",
    "df_test[\"hour\"] = df_test.timestamp.dt.hour.astype(\"str\")\n",
    "\n",
    "df_train[\"weekday\"] = df_train.timestamp.dt.weekday.astype(\"str\")\n",
    "df_test[\"weekday\"] = df_test.timestamp.dt.weekday.astype(\"str\")\n",
    "\n",
    "df_train[\"month\"] = df_train.timestamp.dt.month.astype(\"str\")\n",
    "df_test[\"month\"] = df_test.timestamp.dt.month.astype(\"str\")"
   ]
  },
  {
   "cell_type": "code",
   "execution_count": 10,
   "metadata": {
    "ExecuteTime": {
     "end_time": "2020-04-26T15:28:18.398304Z",
     "start_time": "2020-04-26T15:28:18.395266Z"
    }
   },
   "outputs": [],
   "source": [
    "features = [\n",
    "    \"building_id\",\n",
    "    \"square_feet\",\n",
    "    \"year_built\",\n",
    "    \"floor_count\",\n",
    "    \"primary_use\",\n",
    "    \"air_temperature\",\n",
    "    \"cloud_coverage\",\n",
    "    \"dew_temperature\",\n",
    "    \"precip_depth_1_hr\",\n",
    "    \"hour\",\n",
    "    \"weekday\",\n",
    "    \"month\"\n",
    "]"
   ]
  },
  {
   "cell_type": "code",
   "execution_count": 11,
   "metadata": {
    "ExecuteTime": {
     "end_time": "2020-04-26T15:28:18.401828Z",
     "start_time": "2020-04-26T15:28:18.399651Z"
    }
   },
   "outputs": [],
   "source": [
    "def rmse(y_true, y_pred):\n",
    "    return K.sqrt(K.mean(K.square(y_pred - y_true)))\n"
   ]
  },
  {
   "cell_type": "code",
   "execution_count": 12,
   "metadata": {
    "ExecuteTime": {
     "end_time": "2020-04-26T15:28:18.405371Z",
     "start_time": "2020-04-26T15:28:18.403121Z"
    }
   },
   "outputs": [],
   "source": [
    "cv = 4\n",
    "folds = KFold(n_splits = cv, shuffle = False, random_state = seed)\n",
    "\n",
    "df_cv = []\n",
    "df_preds = []"
   ]
  },
  {
   "cell_type": "code",
   "execution_count": 13,
   "metadata": {
    "ExecuteTime": {
     "end_time": "2020-04-26T15:43:04.590565Z",
     "start_time": "2020-04-26T15:28:18.406739Z"
    },
    "scrolled": true
   },
   "outputs": [
    {
     "name": "stdout",
     "output_type": "stream",
     "text": [
      "Building Model for site_id 13 and meter 0\n",
      "Preparing Site: 13 , meter: 0 , Fold: 1\n",
      "WARNING:tensorflow:From /home/ubuntu/anaconda3/envs/tensorflow_p36/lib/python3.6/site-packages/keras/backend/tensorflow_backend.py:517: The name tf.placeholder is deprecated. Please use tf.compat.v1.placeholder instead.\n",
      "\n",
      "WARNING:tensorflow:From /home/ubuntu/anaconda3/envs/tensorflow_p36/lib/python3.6/site-packages/keras/backend/tensorflow_backend.py:4138: The name tf.random_uniform is deprecated. Please use tf.random.uniform instead.\n",
      "\n",
      "WARNING:tensorflow:From /home/ubuntu/anaconda3/envs/tensorflow_p36/lib/python3.6/site-packages/keras/backend/tensorflow_backend.py:133: The name tf.placeholder_with_default is deprecated. Please use tf.compat.v1.placeholder_with_default instead.\n",
      "\n",
      "WARNING:tensorflow:From /home/ubuntu/anaconda3/envs/tensorflow_p36/lib/python3.6/site-packages/keras/backend/tensorflow_backend.py:3445: calling dropout (from tensorflow.python.ops.nn_ops) with keep_prob is deprecated and will be removed in a future version.\n",
      "Instructions for updating:\n",
      "Please use `rate` instead of `keep_prob`. Rate should be set to `rate = 1 - keep_prob`.\n",
      "WARNING:tensorflow:From /home/ubuntu/anaconda3/envs/tensorflow_p36/lib/python3.6/site-packages/keras/optimizers.py:790: The name tf.train.Optimizer is deprecated. Please use tf.compat.v1.train.Optimizer instead.\n",
      "\n",
      "WARNING:tensorflow:From /home/ubuntu/anaconda3/envs/tensorflow_p36/lib/python3.6/site-packages/tensorflow_core/python/ops/math_grad.py:1424: where (from tensorflow.python.ops.array_ops) is deprecated and will be removed in a future version.\n",
      "Instructions for updating:\n",
      "Use tf.where in 2.0, which has the same broadcast rule as np.where\n",
      "WARNING:tensorflow:From /home/ubuntu/anaconda3/envs/tensorflow_p36/lib/python3.6/site-packages/keras/backend/tensorflow_backend.py:986: The name tf.assign_add is deprecated. Please use tf.compat.v1.assign_add instead.\n",
      "\n",
      "WARNING:tensorflow:From /home/ubuntu/anaconda3/envs/tensorflow_p36/lib/python3.6/site-packages/keras/backend/tensorflow_backend.py:973: The name tf.assign is deprecated. Please use tf.compat.v1.assign instead.\n",
      "\n",
      "Train on 912525 samples, validate on 304176 samples\n",
      "Epoch 1/17\n",
      "WARNING:tensorflow:From /home/ubuntu/anaconda3/envs/tensorflow_p36/lib/python3.6/site-packages/keras/backend/tensorflow_backend.py:174: The name tf.get_default_session is deprecated. Please use tf.compat.v1.get_default_session instead.\n",
      "\n",
      "WARNING:tensorflow:From /home/ubuntu/anaconda3/envs/tensorflow_p36/lib/python3.6/site-packages/keras/backend/tensorflow_backend.py:190: The name tf.global_variables is deprecated. Please use tf.compat.v1.global_variables instead.\n",
      "\n",
      "WARNING:tensorflow:From /home/ubuntu/anaconda3/envs/tensorflow_p36/lib/python3.6/site-packages/keras/backend/tensorflow_backend.py:199: The name tf.is_variable_initialized is deprecated. Please use tf.compat.v1.is_variable_initialized instead.\n",
      "\n",
      "WARNING:tensorflow:From /home/ubuntu/anaconda3/envs/tensorflow_p36/lib/python3.6/site-packages/keras/backend/tensorflow_backend.py:206: The name tf.variables_initializer is deprecated. Please use tf.compat.v1.variables_initializer instead.\n",
      "\n",
      " - 26s - loss: 2.3547 - val_loss: 1.1066\n",
      "Epoch 2/17\n",
      " - 6s - loss: 1.3525 - val_loss: 1.0667\n",
      "Epoch 3/17\n",
      " - 6s - loss: 1.3291 - val_loss: 1.0438\n",
      "Epoch 4/17\n",
      " - 6s - loss: 1.3100 - val_loss: 1.0183\n",
      "Epoch 5/17\n",
      " - 6s - loss: 1.2914 - val_loss: 0.9956\n",
      "Epoch 6/17\n",
      " - 6s - loss: 1.2761 - val_loss: 0.9881\n",
      "Epoch 7/17\n",
      " - 6s - loss: 1.2622 - val_loss: 0.9806\n",
      "Epoch 8/17\n",
      " - 6s - loss: 1.2483 - val_loss: 0.9826\n",
      "Epoch 9/17\n",
      " - 6s - loss: 1.2364 - val_loss: 0.9737\n",
      "Epoch 10/17\n",
      " - 6s - loss: 1.2254 - val_loss: 0.9818\n",
      "Epoch 11/17\n",
      " - 6s - loss: 1.2135 - val_loss: 0.9839\n",
      "Epoch 12/17\n",
      " - 6s - loss: 1.2025 - val_loss: 0.9858\n",
      "Epoch 13/17\n",
      " - 6s - loss: 1.1917 - val_loss: 0.9842\n",
      "Epoch 14/17\n",
      " - 6s - loss: 1.1824 - val_loss: 0.9884\n",
      "Epoch 15/17\n",
      " - 6s - loss: 1.1738 - val_loss: 0.9907\n",
      "Epoch 16/17\n",
      " - 6s - loss: 1.1640 - val_loss: 0.9994\n",
      "Epoch 17/17\n",
      " - 6s - loss: 1.1561 - val_loss: 1.0188\n"
     ]
    },
    {
     "data": {
      "image/png": "[encoded data removed]",
      "text/plain": [
       "<Figure size 432x288 with 1 Axes>"
      ]
     },
     "metadata": {},
     "output_type": "display_data"
    },
    {
     "name": "stdout",
     "output_type": "stream",
     "text": [
      "CPU times: user 1min 6s, sys: 4.1 s, total: 1min 10s\n",
      "Wall time: 54 s\n",
      "Preparing Site: 13 , meter: 0 , Fold: 2\n",
      "Train on 912526 samples, validate on 304175 samples\n",
      "Epoch 1/17\n",
      " - 7s - loss: 2.3815 - val_loss: 1.0029\n",
      "Epoch 2/17\n",
      " - 6s - loss: 1.3845 - val_loss: 0.9757\n",
      "Epoch 3/17\n",
      " - 6s - loss: 1.3605 - val_loss: 0.9682\n",
      "Epoch 4/17\n",
      " - 6s - loss: 1.3417 - val_loss: 0.9439\n",
      "Epoch 5/17\n",
      " - 6s - loss: 1.3223 - val_loss: 0.9369\n",
      "Epoch 6/17\n",
      " - 6s - loss: 1.3080 - val_loss: 0.9338\n",
      "Epoch 7/17\n",
      " - 6s - loss: 1.2946 - val_loss: 0.9449\n",
      "Epoch 8/17\n",
      " - 6s - loss: 1.2819 - val_loss: 0.9405\n",
      "Epoch 9/17\n",
      " - 6s - loss: 1.2700 - val_loss: 0.9395\n",
      "Epoch 10/17\n",
      " - 6s - loss: 1.2590 - val_loss: 0.9520\n",
      "Epoch 11/17\n",
      " - 6s - loss: 1.2468 - val_loss: 0.9478\n",
      "Epoch 12/17\n",
      " - 6s - loss: 1.2378 - val_loss: 0.9383\n",
      "Epoch 13/17\n",
      " - 6s - loss: 1.2280 - val_loss: 0.9489\n",
      "Epoch 14/17\n",
      " - 6s - loss: 1.2184 - val_loss: 0.9417\n",
      "Epoch 15/17\n",
      " - 6s - loss: 1.2098 - val_loss: 0.9511\n",
      "Epoch 16/17\n",
      " - 6s - loss: 1.2005 - val_loss: 0.9461\n",
      "Epoch 17/17\n",
      " - 6s - loss: 1.1933 - val_loss: 0.9619\n"
     ]
    },
    {
     "data": {
      "image/png": "[encoded data removed]",
      "text/plain": [
       "<Figure size 432x288 with 1 Axes>"
      ]
     },
     "metadata": {},
     "output_type": "display_data"
    },
    {
     "name": "stdout",
     "output_type": "stream",
     "text": [
      "CPU times: user 1min 8s, sys: 4.01 s, total: 1min 12s\n",
      "Wall time: 56.3 s\n",
      "Preparing Site: 13 , meter: 0 , Fold: 3\n",
      "Train on 912526 samples, validate on 304175 samples\n",
      "Epoch 1/17\n",
      " - 7s - loss: 2.2809 - val_loss: 1.1216\n",
      "Epoch 2/17\n",
      " - 6s - loss: 1.3312 - val_loss: 1.0517\n",
      "Epoch 3/17\n",
      " - 6s - loss: 1.3050 - val_loss: 1.0225\n",
      "Epoch 4/17\n",
      " - 6s - loss: 1.2851 - val_loss: 0.9971\n",
      "Epoch 5/17\n",
      " - 6s - loss: 1.2677 - val_loss: 0.9893\n",
      "Epoch 6/17\n",
      " - 6s - loss: 1.2532 - val_loss: 0.9707\n",
      "Epoch 7/17\n",
      " - 6s - loss: 1.2374 - val_loss: 0.9799\n",
      "Epoch 8/17\n",
      " - 6s - loss: 1.2249 - val_loss: 0.9614\n",
      "Epoch 9/17\n",
      " - 6s - loss: 1.2112 - val_loss: 0.9553\n",
      "Epoch 10/17\n",
      " - 6s - loss: 1.1993 - val_loss: 0.9620\n",
      "Epoch 11/17\n",
      " - 6s - loss: 1.1882 - val_loss: 0.9631\n",
      "Epoch 12/17\n",
      " - 6s - loss: 1.1768 - val_loss: 0.9550\n",
      "Epoch 13/17\n",
      " - 6s - loss: 1.1673 - val_loss: 0.9617\n",
      "Epoch 14/17\n",
      " - 6s - loss: 1.1575 - val_loss: 0.9587\n",
      "Epoch 15/17\n",
      " - 6s - loss: 1.1486 - val_loss: 0.9644\n",
      "Epoch 16/17\n",
      " - 6s - loss: 1.1394 - val_loss: 0.9672\n",
      "Epoch 17/17\n",
      " - 6s - loss: 1.1297 - val_loss: 0.9859\n"
     ]
    },
    {
     "data": {
      "image/png": "[encoded data removed]",
      "text/plain": [
       "<Figure size 432x288 with 1 Axes>"
      ]
     },
     "metadata": {},
     "output_type": "display_data"
    },
    {
     "name": "stdout",
     "output_type": "stream",
     "text": [
      "CPU times: user 1min 11s, sys: 4.08 s, total: 1min 15s\n",
      "Wall time: 58.8 s\n",
      "Preparing Site: 13 , meter: 0 , Fold: 4\n",
      "Train on 912526 samples, validate on 304175 samples\n",
      "Epoch 1/17\n",
      " - 7s - loss: 2.3528 - val_loss: 0.9719\n",
      "Epoch 2/17\n",
      " - 6s - loss: 1.3967 - val_loss: 0.9460\n",
      "Epoch 3/17\n",
      " - 6s - loss: 1.3746 - val_loss: 0.9300\n",
      "Epoch 4/17\n",
      " - 6s - loss: 1.3565 - val_loss: 0.9091\n",
      "Epoch 5/17\n",
      " - 6s - loss: 1.3404 - val_loss: 0.9095\n",
      "Epoch 6/17\n",
      " - 6s - loss: 1.3257 - val_loss: 0.9201\n",
      "Epoch 7/17\n",
      " - 6s - loss: 1.3133 - val_loss: 0.9123\n",
      "Epoch 8/17\n",
      " - 6s - loss: 1.3018 - val_loss: 0.9152\n",
      "Epoch 9/17\n",
      " - 6s - loss: 1.2910 - val_loss: 0.9208\n",
      "Epoch 10/17\n",
      " - 6s - loss: 1.2804 - val_loss: 0.9125\n",
      "Epoch 11/17\n",
      " - 6s - loss: 1.2690 - val_loss: 0.9212\n",
      "Epoch 12/17\n",
      " - 6s - loss: 1.2594 - val_loss: 0.9284\n",
      "Epoch 13/17\n",
      " - 6s - loss: 1.2497 - val_loss: 0.9240\n",
      "Epoch 14/17\n",
      " - 6s - loss: 1.2402 - val_loss: 0.9359\n",
      "Epoch 15/17\n",
      " - 6s - loss: 1.2323 - val_loss: 0.9253\n",
      "Epoch 16/17\n",
      " - 6s - loss: 1.2230 - val_loss: 0.9333\n",
      "Epoch 17/17\n",
      " - 6s - loss: 1.2161 - val_loss: 0.9101\n"
     ]
    },
    {
     "data": {
      "image/png": "[encoded data removed]",
      "text/plain": [
       "<Figure size 432x288 with 1 Axes>"
      ]
     },
     "metadata": {},
     "output_type": "display_data"
    },
    {
     "name": "stdout",
     "output_type": "stream",
     "text": [
      "CPU times: user 1min 14s, sys: 4.07 s, total: 1min 18s\n",
      "Wall time: 1min 1s\n",
      "\n",
      "CV RMSE for Site: 13 and Meter: 0 is 1.1685863806236356\n",
      "\n",
      "CV RMSE for Site: 13 is 1.1685863806236356\n"
     ]
    }
   ],
   "source": [
    "for meter in df_train.meter.unique():\n",
    "    print(\"Building Model for site_id\", site_id, \"and meter\", meter)\n",
    "        \n",
    "    df_train_site_meter = df_train[df_train.meter == meter].reset_index(drop=True)\n",
    "    df_test_site_meter = df_test[df_test.meter == meter].reset_index(drop=True)\n",
    "    \n",
    "    pred_val = np.zeros(df_train_site_meter.shape[0])\n",
    "    pred_test = np.zeros(df_test_site_meter.shape[0])\n",
    "\n",
    "    row_ids_test = df_test_site_meter.row_id\n",
    "    y_train_site_meter = df_train_site_meter.log_meter_reading.values\n",
    "    \n",
    "    df_train_site_meter = df_train_site_meter[features]\n",
    "    df_test_site_meter = df_test_site_meter[features]\n",
    "\n",
    "    df_train_site_meter = pd.get_dummies(df_train_site_meter)\n",
    "    df_test_site_meter = pd.get_dummies(df_test_site_meter)\n",
    "        \n",
    "    for k, (train_idx, valid_idx) in enumerate(folds.split(df_train_site_meter, y_train_site_meter)):\n",
    "        print(\"Preparing Site:\", site_id, \", meter:\", meter, \", Fold:\", k+1)\n",
    "        \n",
    "        X_train, y_train = df_train_site_meter.iloc[train_idx], y_train_site_meter[train_idx]\n",
    "        X_valid, y_valid = df_train_site_meter.iloc[valid_idx], y_train_site_meter[valid_idx]\n",
    "        \n",
    "        X_train.dropna(axis=1, how=\"all\", inplace=True)\n",
    "        X_train = X_train.loc[:, (X_train != X_train.iloc[0]).any()]\n",
    "\n",
    "        X_valid = X_valid[X_train.columns]\n",
    "        X_test = df_test_site_meter[X_train.columns]\n",
    "        \n",
    "        df_means = pd.concat([X_train, X_valid, X_test], ignore_index=True).mean()\n",
    "        X_train.fillna(df_means, inplace=True)\n",
    "        X_valid.fillna(df_means, inplace=True)\n",
    "        X_test.fillna(df_means, inplace=True)\n",
    "        \n",
    "        sc = MinMaxScaler()\n",
    "        sc.fit(pd.concat([X_train, X_valid, X_test], ignore_index=True))\n",
    "        \n",
    "        X_train = np.array(sc.transform(X_train))\n",
    "        X_valid = np.array(sc.transform(X_valid))\n",
    "        X_test = np.array(sc.transform(X_test))\n",
    "        \n",
    "        model = Sequential()\n",
    "        model.add(Dense(256, input_dim=X_train.shape[1], activation=\"relu\", kernel_initializer=keras.initializers.glorot_uniform(seed=seed)))\n",
    "        model.add(BatchNormalization())\n",
    "        model.add(Dropout(0.2))\n",
    "        model.add(Dense(64, activation=\"tanh\", kernel_initializer=keras.initializers.glorot_uniform(seed=seed)))\n",
    "        model.add(BatchNormalization())\n",
    "        model.add(Dropout(0.2))\n",
    "        model.add(Dense(8, activation=\"tanh\", kernel_initializer=keras.initializers.glorot_uniform(seed=seed)))\n",
    "        model.add(BatchNormalization())\n",
    "        model.add(Dropout(0.2))\n",
    "        model.add(Dense(1))\n",
    "        model.compile(loss=rmse, optimizer=\"adam\")\n",
    "        \n",
    "        model_ffnn = model.fit(X_train, y_train, epochs=17, batch_size=1000, validation_data=(X_valid, y_valid), verbose=2, shuffle=False)\n",
    "\n",
    "        plt.plot(model_ffnn.history[\"loss\"])\n",
    "        plt.plot(model_ffnn.history[\"val_loss\"])\n",
    "        plt.title(\"Loss for Site: \" + str(site_id) + \", Meter: \" + str(meter) + \", Fold: \" + str(k+1))\n",
    "        plt.ylabel(\"rmse\")\n",
    "        plt.xlabel(\"Epoch\")\n",
    "        plt.legend([\"train\", \"valid\"], loc=\"upper right\")\n",
    "        plt.show()\n",
    "        \n",
    "        pred_val[valid_idx] = model.predict(X_valid).ravel()\n",
    "        %time pred_test += model.predict(X_test).ravel() / cv\n",
    "        \n",
    "        gc.collect()\n",
    "        \n",
    "    df_valid = pd.DataFrame({\"site_id\": site_id, \"meter\": meter, \"meter_reading\": np.expm1(y_train_site_meter), \"pred_ffnn\": np.clip(np.expm1(pred_val), 0, a_max=None)})\n",
    "    df_pred = pd.DataFrame({\"row_id\": row_ids_test, \"meter_reading\": np.clip(np.expm1(pred_test), 0, a_max=None)})\n",
    "    \n",
    "    df_cv.append(df_valid)\n",
    "    df_preds.append(df_pred)\n",
    "    \n",
    "    gc.collect()\n",
    "    \n",
    "    print(\"\\nCV RMSE for Site:\", site_id, \"and Meter:\", meter, \"is\", np.sqrt(mean_squared_error(np.log1p(df_valid.meter_reading), np.log1p(df_valid.pred_ffnn))))\n",
    "\n",
    "df_cv = pd.concat(df_cv)\n",
    "print(\"\\nCV RMSE for Site:\", site_id, \"is\", np.sqrt(mean_squared_error(np.log1p(df_cv.meter_reading), np.log1p(df_cv.pred_ffnn))))"
   ]
  },
  {
   "cell_type": "code",
   "execution_count": 14,
   "metadata": {
    "ExecuteTime": {
     "end_time": "2020-04-26T15:43:12.115629Z",
     "start_time": "2020-04-26T15:43:04.592590Z"
    }
   },
   "outputs": [],
   "source": [
    "df_preds = pd.concat(df_preds)\n",
    "#df_preds.to_csv(\"/home/rohan/kaggle/ASHRAE/data/ffnn_pred_site_\" + str(site_id) + \".csv\", index=False)\n",
    "df_preds.to_csv(\"../sub/ffnn_pred_site_\" + str(site_id) + \".csv\", index=False)"
   ]
  },
  {
   "cell_type": "code",
   "execution_count": null,
   "metadata": {},
   "outputs": [],
   "source": []
  }
 ],
 "metadata": {
  "kernelspec": {
   "display_name": "Python 3",
   "language": "python",
   "name": "python3"
  },
  "language_info": {
   "codemirror_mode": {
    "name": "ipython",
    "version": 3
   },
   "file_extension": ".py",
   "mimetype": "text/x-python",
   "name": "python",
   "nbconvert_exporter": "python",
   "pygments_lexer": "ipython3",
   "version": "3.6.6"
  }
 },
 "nbformat": 4,
 "nbformat_minor": 2
}
