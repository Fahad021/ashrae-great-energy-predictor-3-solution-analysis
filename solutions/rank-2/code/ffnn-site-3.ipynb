{
 "cells": [
  {
   "cell_type": "code",
   "execution_count": 1,
   "metadata": {
    "ExecuteTime": {
     "end_time": "2020-04-26T11:46:02.534126Z",
     "start_time": "2020-04-26T11:46:02.531179Z"
    }
   },
   "outputs": [],
   "source": [
    "#!pip install tensorflow-gpu==1.14.0"
   ]
  },
  {
   "cell_type": "code",
   "execution_count": 2,
   "metadata": {
    "ExecuteTime": {
     "end_time": "2020-04-26T11:46:02.539662Z",
     "start_time": "2020-04-26T11:46:02.538162Z"
    }
   },
   "outputs": [],
   "source": [
    "#!pip install keras-gpu==2.2.5"
   ]
  },
  {
   "cell_type": "code",
   "execution_count": 3,
   "metadata": {
    "ExecuteTime": {
     "end_time": "2020-04-26T11:46:02.600879Z",
     "start_time": "2020-04-26T11:46:02.599121Z"
    }
   },
   "outputs": [],
   "source": [
    "#!pip install keras==2.2.5"
   ]
  },
  {
   "cell_type": "code",
   "execution_count": 4,
   "metadata": {
    "ExecuteTime": {
     "end_time": "2020-04-26T11:46:04.436968Z",
     "start_time": "2020-04-26T11:46:02.602223Z"
    }
   },
   "outputs": [
    {
     "name": "stdout",
     "output_type": "stream",
     "text": [
      "WARNING:tensorflow:From /home/ubuntu/anaconda3/envs/tensorflow_p36/lib/python3.6/site-packages/tensorflow_core/__init__.py:1467: The name tf.estimator.inputs is deprecated. Please use tf.compat.v1.estimator.inputs instead.\n",
      "\n"
     ]
    },
    {
     "name": "stderr",
     "output_type": "stream",
     "text": [
      "Using TensorFlow backend.\n"
     ]
    }
   ],
   "source": [
    "import os\n",
    "os.environ[\"PYTHONHASHSEED\"] = \"13\"\n",
    "os.environ[\"CUDA_VISIBLE_DEVICES\"] = \"0:1\"\n",
    "\n",
    "import numpy as np\n",
    "import tensorflow as tf\n",
    "import random as rn\n",
    "\n",
    "# The below is necessary for starting Numpy generated random numbers\n",
    "# in a well-defined initial state.\n",
    "\n",
    "np.random.seed(13)\n",
    "\n",
    "# The below is necessary for starting core Python generated random numbers\n",
    "# in a well-defined state.\n",
    "\n",
    "rn.seed(13)\n",
    "\n",
    "# Force TensorFlow to use single thread.\n",
    "# Multiple threads are a potential source of non-reproducible results.\n",
    "# For further details, see: https://stackoverflow.com/questions/42022950/\n",
    "\n",
    "session_conf = tf.ConfigProto(intra_op_parallelism_threads=1,\n",
    "                              inter_op_parallelism_threads=1)\n",
    "\n",
    "from keras import backend as K\n",
    "\n",
    "# The below tf.set_random_seed() will make random number generation\n",
    "# in the TensorFlow backend have a well-defined initial state.\n",
    "# For further details, see:\n",
    "# https://www.tensorflow.org/api_docs/python/tf/set_random_seed\n",
    "\n",
    "tf.set_random_seed(13)\n",
    "\n",
    "sess = tf.Session(graph=tf.get_default_graph(), config=session_conf)\n",
    "K.set_session(sess)"
   ]
  },
  {
   "cell_type": "code",
   "execution_count": 5,
   "metadata": {
    "ExecuteTime": {
     "end_time": "2020-04-26T11:46:04.737612Z",
     "start_time": "2020-04-26T11:46:04.438546Z"
    }
   },
   "outputs": [],
   "source": [
    "import gc\n",
    "import warnings\n",
    "\n",
    "#import lightgbm as lgb\n",
    "import pandas as pd\n",
    "\n",
    "from matplotlib import pyplot as plt\n",
    "from sklearn.metrics import mean_squared_error\n",
    "from sklearn.model_selection import KFold\n",
    "from sklearn.preprocessing import LabelEncoder, MinMaxScaler, StandardScaler\n",
    "from tqdm.notebook import tqdm\n",
    "\n",
    "import keras\n",
    "from keras.models import Sequential\n",
    "from keras.layers import BatchNormalization, Dense, Dropout\n",
    "\n",
    "path_data = \"../input/ashrae-energy-prediction/\"\n",
    "path_train = path_data + \"train.csv\"\n",
    "path_test = path_data + \"test.csv\"\n",
    "path_building = path_data + \"building_metadata.csv\"\n",
    "path_weather_train = path_data + \"weather_train.csv\"\n",
    "path_weather_test = path_data + \"weather_test.csv\"\n",
    "\n",
    "myfavouritenumber = 13\n",
    "seed = myfavouritenumber\n",
    "\n",
    "warnings.filterwarnings(\"ignore\")"
   ]
  },
  {
   "cell_type": "code",
   "execution_count": 6,
   "metadata": {
    "ExecuteTime": {
     "end_time": "2020-04-26T11:46:04.740901Z",
     "start_time": "2020-04-26T11:46:04.739071Z"
    }
   },
   "outputs": [],
   "source": [
    "site_id = 3"
   ]
  },
  {
   "cell_type": "code",
   "execution_count": 7,
   "metadata": {
    "ExecuteTime": {
     "end_time": "2020-04-26T11:47:08.834439Z",
     "start_time": "2020-04-26T11:46:04.742395Z"
    }
   },
   "outputs": [
    {
     "data": {
      "text/plain": [
       "49"
      ]
     },
     "execution_count": 7,
     "metadata": {},
     "output_type": "execute_result"
    }
   ],
   "source": [
    "df_train = pd.read_csv(path_train)\n",
    "df_test = pd.read_csv(path_test)\n",
    "\n",
    "building = pd.read_csv(path_building)\n",
    "\n",
    "weather_train = pd.read_csv(path_weather_train)\n",
    "weather_test = pd.read_csv(path_weather_test)\n",
    "\n",
    "weather_train.drop([\"sea_level_pressure\", \"wind_direction\", \"wind_speed\"], axis=1, inplace=True)\n",
    "weather_test.drop([\"sea_level_pressure\", \"wind_direction\", \"wind_speed\"], axis=1, inplace=True)\n",
    "\n",
    "weather_train = weather_train.groupby(\"site_id\").apply(lambda group: group.interpolate(limit_direction=\"both\"))\n",
    "weather_test = weather_test.groupby(\"site_id\").apply(lambda group: group.interpolate(limit_direction=\"both\"))\n",
    "\n",
    "df_train = df_train.merge(building, on=\"building_id\")\n",
    "df_test = df_test.merge(building, on=\"building_id\")\n",
    "\n",
    "df_train = df_train[df_train.site_id == site_id]\n",
    "df_test = df_test[df_test.site_id == site_id]\n",
    "\n",
    "df_train[\"log_meter_reading\"] = np.log1p(df_train.meter_reading)\n",
    "\n",
    "df_train = df_train[~((df_train.building_id == 291) & (df_train.log_meter_reading < 4.5))]\n",
    "df_train = df_train[~((df_train.building_id == 292) & (df_train.log_meter_reading > 5.4))]\n",
    "df_train = df_train[~((df_train.building_id == 296) & (df_train.log_meter_reading < 3))]\n",
    "df_train = df_train[~((df_train.building_id == 298) & (df_train.log_meter_reading < 1))]\n",
    "df_train = df_train[~((df_train.building_id == 299) & (df_train.log_meter_reading < 1))]\n",
    "df_train = df_train[~((df_train.building_id == 300) & (df_train.log_meter_reading < 1))]\n",
    "df_train = df_train[~((df_train.building_id == 301) & (df_train.log_meter_reading < 2))]\n",
    "df_train = df_train[~((df_train.building_id == 302) & (df_train.log_meter_reading < 1))]\n",
    "df_train = df_train[~((df_train.building_id == 308) & (df_train.log_meter_reading < 1))]\n",
    "df_train = df_train[~((df_train.building_id == 310) & (df_train.log_meter_reading < 1))]\n",
    "df_train = df_train[~((df_train.building_id == 311) & (df_train.log_meter_reading < 2))]\n",
    "df_train = df_train[~((df_train.building_id == 313) & (df_train.log_meter_reading < 1))]\n",
    "df_train = df_train[~((df_train.building_id == 319) & (df_train.log_meter_reading < 1))]\n",
    "df_train = df_train[~((df_train.building_id == 320) & (df_train.log_meter_reading < 1))]\n",
    "df_train = df_train[~((df_train.building_id == 323) & (df_train.log_meter_reading < 1))]\n",
    "df_train = df_train[~((df_train.building_id == 335) & (df_train.log_meter_reading < 1))]\n",
    "df_train = df_train[~((df_train.building_id == 342) & (df_train.log_meter_reading < 1))]\n",
    "df_train = df_train[~((df_train.building_id == 343) & (df_train.log_meter_reading < 2))]\n",
    "df_train = df_train[~((df_train.building_id == 347) & (df_train.log_meter_reading < 1))]\n",
    "df_train = df_train[~((df_train.building_id == 350) & (df_train.log_meter_reading < 1))]\n",
    "df_train = df_train[~((df_train.building_id == 352) & (df_train.log_meter_reading > 6))]\n",
    "df_train = df_train[~((df_train.building_id == 360) & (df_train.log_meter_reading < 1))]\n",
    "df_train = df_train[~((df_train.building_id == 361) & (df_train.log_meter_reading < 1))]\n",
    "df_train = df_train[~((df_train.building_id == 365) & (df_train.log_meter_reading < 1))]\n",
    "df_train = df_train[~((df_train.building_id == 372) & (df_train.log_meter_reading < 1))]\n",
    "df_train = df_train[~((df_train.building_id == 373) & (df_train.log_meter_reading < 3))]\n",
    "df_train = df_train[~((df_train.building_id == 375) & (df_train.log_meter_reading < 4))]\n",
    "df_train = df_train[~((df_train.building_id == 376) & (df_train.log_meter_reading < 1))]\n",
    "df_train = df_train[~((df_train.building_id == 382) & (df_train.log_meter_reading < 1))]\n",
    "df_train = df_train[~((df_train.building_id == 384) & (df_train.log_meter_reading < 1))]\n",
    "df_train = df_train[~((df_train.building_id == 386) & (df_train.log_meter_reading < 1))]\n",
    "df_train = df_train[~((df_train.building_id == 392) & (df_train.log_meter_reading < 3))]\n",
    "df_train = df_train[~((df_train.building_id == 393) & (df_train.log_meter_reading < 1))]\n",
    "df_train = df_train[~((df_train.building_id == 394) & (df_train.log_meter_reading < 1))]\n",
    "df_train = df_train[~((df_train.building_id == 395) & (df_train.log_meter_reading < 1))]\n",
    "df_train = df_train[~((df_train.building_id == 401) & (df_train.log_meter_reading < 1))]\n",
    "df_train = df_train[~((df_train.building_id == 404) & (df_train.log_meter_reading < 1))]\n",
    "df_train = df_train[~((df_train.building_id == 407) & (df_train.log_meter_reading < 1))]\n",
    "df_train = df_train[~((df_train.building_id == 408) & (df_train.log_meter_reading < 1))]\n",
    "df_train = df_train[~((df_train.building_id == 409) & (df_train.log_meter_reading < 3))]\n",
    "df_train = df_train[~((df_train.building_id == 412) & (df_train.log_meter_reading < 1))]\n",
    "df_train = df_train[~((df_train.building_id == 413) & (df_train.log_meter_reading < 1))]\n",
    "df_train = df_train[~((df_train.building_id == 414) & (df_train.log_meter_reading < 1))]\n",
    "df_train = df_train[~((df_train.building_id == 417) & (df_train.log_meter_reading < 1))]\n",
    "df_train = df_train[~((df_train.building_id == 422) & (df_train.log_meter_reading < 1))]\n",
    "df_train = df_train[~((df_train.building_id == 425) & (df_train.log_meter_reading < 4))]\n",
    "df_train = df_train[~((df_train.building_id == 426) & (df_train.log_meter_reading < 4))]\n",
    "df_train = df_train[~((df_train.building_id == 427) & (df_train.log_meter_reading < 1))]\n",
    "df_train = df_train[~((df_train.building_id == 429) & (df_train.log_meter_reading < 1))]\n",
    "df_train = df_train[~((df_train.building_id == 430) & (df_train.log_meter_reading < 1))]\n",
    "df_train = df_train[~((df_train.building_id == 431) & (df_train.log_meter_reading < 1))]\n",
    "df_train = df_train[~((df_train.building_id == 432) & (df_train.log_meter_reading < 3))]\n",
    "df_train = df_train[~((df_train.building_id == 433) & (df_train.log_meter_reading < 1))]\n",
    "df_train = df_train[~((df_train.building_id == 440) & (df_train.log_meter_reading < 1))]\n",
    "df_train = df_train[~((df_train.building_id == 441) & (df_train.log_meter_reading < 1))]\n",
    "df_train = df_train[~((df_train.building_id == 442) & (df_train.log_meter_reading < 1))]\n",
    "df_train = df_train[~((df_train.building_id == 443) & (df_train.log_meter_reading < 1))]\n",
    "df_train = df_train[~((df_train.building_id == 447) & (df_train.log_meter_reading < 1))]\n",
    "df_train = df_train[~((df_train.building_id == 448) & (df_train.log_meter_reading < 1))]\n",
    "df_train = df_train[~((df_train.building_id == 450) & (df_train.log_meter_reading < 1))]\n",
    "df_train = df_train[~((df_train.building_id == 451) & (df_train.log_meter_reading < 1))]\n",
    "df_train = df_train[~((df_train.building_id == 453) & (df_train.log_meter_reading < 1))]\n",
    "df_train = df_train[~((df_train.building_id == 456) & (df_train.log_meter_reading < 1))]\n",
    "df_train = df_train[~((df_train.building_id == 457) & (df_train.log_meter_reading < 1))]\n",
    "df_train = df_train[~((df_train.building_id == 458) & (df_train.log_meter_reading < 1))]\n",
    "df_train = df_train[~((df_train.building_id == 462) & (df_train.log_meter_reading < 1))]\n",
    "df_train = df_train[~((df_train.building_id == 475) & (df_train.log_meter_reading < 4))]\n",
    "df_train = df_train[~((df_train.building_id == 477) & (df_train.log_meter_reading < 1))]\n",
    "df_train = df_train[~((df_train.building_id == 479) & (df_train.log_meter_reading < 2))]\n",
    "df_train = df_train[~((df_train.building_id == 480) & (df_train.log_meter_reading < 1))]\n",
    "df_train = df_train[~((df_train.building_id == 481) & (df_train.log_meter_reading < 1))]\n",
    "df_train = df_train[~((df_train.building_id == 482) & (df_train.log_meter_reading < 1))]\n",
    "df_train = df_train[~((df_train.building_id == 483) & (df_train.log_meter_reading < 1))]\n",
    "df_train = df_train[~((df_train.building_id == 484) & (df_train.log_meter_reading < 1))]\n",
    "df_train = df_train[~((df_train.building_id == 486) & (df_train.log_meter_reading < 3))]\n",
    "df_train = df_train[~((df_train.building_id == 488) & (df_train.log_meter_reading < 1))]\n",
    "df_train = df_train[~((df_train.building_id == 492) & (df_train.log_meter_reading < 1))]\n",
    "df_train = df_train[~((df_train.building_id == 493) & (df_train.log_meter_reading < 5))]\n",
    "df_train = df_train[~((df_train.building_id == 494) & (df_train.log_meter_reading < 3.2))]\n",
    "df_train = df_train[~((df_train.building_id == 495) & (df_train.log_meter_reading < 1))]\n",
    "df_train = df_train[~((df_train.building_id == 503) & (df_train.log_meter_reading < 2))]\n",
    "df_train = df_train[~((df_train.building_id == 508) & (df_train.log_meter_reading < 1))]\n",
    "df_train = df_train[~((df_train.building_id == 509) & (df_train.log_meter_reading < 1))]\n",
    "df_train = df_train[~((df_train.building_id == 510) & (df_train.log_meter_reading < 1))]\n",
    "df_train = df_train[~((df_train.building_id == 516) & (df_train.log_meter_reading < 1))]\n",
    "df_train = df_train[~((df_train.building_id == 525) & (df_train.log_meter_reading < 1))]\n",
    "df_train = df_train[~((df_train.building_id == 529) & (df_train.log_meter_reading < 1))]\n",
    "df_train = df_train[~((df_train.building_id == 531) & (df_train.log_meter_reading < 1))]\n",
    "df_train = df_train[~((df_train.building_id == 535) & (df_train.log_meter_reading < 1))]\n",
    "df_train = df_train[~((df_train.building_id == 537) & (df_train.log_meter_reading < 1))]\n",
    "df_train = df_train[~((df_train.building_id == 545) & (df_train.log_meter_reading < 1))]\n",
    "df_train = df_train[~((df_train.building_id == 549) & (df_train.log_meter_reading < 1))]\n",
    "df_train = df_train[~((df_train.building_id == 552) & (df_train.log_meter_reading < 1))]\n",
    "df_train = df_train[~((df_train.building_id == 554) & (df_train.log_meter_reading < 1))]\n",
    "df_train = df_train[~((df_train.building_id == 557) & (df_train.log_meter_reading < 1))]\n",
    "df_train = df_train[~((df_train.building_id == 558) & (df_train.log_meter_reading < 1))]\n",
    "df_train = df_train[~((df_train.building_id == 560) & (df_train.log_meter_reading < 5))]\n",
    "df_train = df_train[~((df_train.building_id == 562) & (df_train.log_meter_reading < 1))]\n",
    "\n",
    "df_train = df_train[df_train.meter == 0]\n",
    "\n",
    "df_train = df_train.merge(weather_train, on=[\"site_id\", \"timestamp\"], how=\"left\")\n",
    "df_test = df_test.merge(weather_test, on=[\"site_id\", \"timestamp\"], how=\"left\")\n",
    "\n",
    "df_train.timestamp = pd.to_datetime(df_train.timestamp, format='%Y-%m-%d %H:%M:%S')\n",
    "df_test.timestamp = pd.to_datetime(df_test.timestamp, format='%Y-%m-%d %H:%M:%S')\n",
    "\n",
    "df_train.building_id = df_train.building_id.astype(\"str\")\n",
    "df_test.building_id = df_test.building_id.astype(\"str\")\n",
    "\n",
    "del building\n",
    "gc.collect()"
   ]
  },
  {
   "cell_type": "code",
   "execution_count": 8,
   "metadata": {
    "ExecuteTime": {
     "end_time": "2020-04-26T11:47:19.479137Z",
     "start_time": "2020-04-26T11:47:08.835985Z"
    }
   },
   "outputs": [],
   "source": [
    "df_train[\"hour\"] = df_train.timestamp.dt.hour.astype(\"str\")\n",
    "df_test[\"hour\"] = df_test.timestamp.dt.hour.astype(\"str\")\n",
    "\n",
    "df_train[\"weekday\"] = df_train.timestamp.dt.weekday.astype(\"str\")\n",
    "df_test[\"weekday\"] = df_test.timestamp.dt.weekday.astype(\"str\")\n",
    "\n",
    "df_train[\"month\"] = df_train.timestamp.dt.month.astype(\"str\")\n",
    "df_test[\"month\"] = df_test.timestamp.dt.month.astype(\"str\")"
   ]
  },
  {
   "cell_type": "code",
   "execution_count": 9,
   "metadata": {
    "ExecuteTime": {
     "end_time": "2020-04-26T11:47:19.483788Z",
     "start_time": "2020-04-26T11:47:19.480775Z"
    }
   },
   "outputs": [],
   "source": [
    "features = [\n",
    "    \"building_id\",\n",
    "    \"square_feet\",\n",
    "    \"year_built\",\n",
    "    \"floor_count\",\n",
    "    \"primary_use\",\n",
    "    \"air_temperature\",\n",
    "    \"cloud_coverage\",\n",
    "    \"dew_temperature\",\n",
    "    \"precip_depth_1_hr\",\n",
    "    \"hour\",\n",
    "    \"weekday\",\n",
    "    \"month\"\n",
    "]"
   ]
  },
  {
   "cell_type": "code",
   "execution_count": 10,
   "metadata": {
    "ExecuteTime": {
     "end_time": "2020-04-26T11:47:19.487306Z",
     "start_time": "2020-04-26T11:47:19.485187Z"
    }
   },
   "outputs": [],
   "source": [
    "def rmse(y_true, y_pred):\n",
    "    return K.sqrt(K.mean(K.square(y_pred - y_true)))\n"
   ]
  },
  {
   "cell_type": "code",
   "execution_count": 11,
   "metadata": {
    "ExecuteTime": {
     "end_time": "2020-04-26T11:47:19.490779Z",
     "start_time": "2020-04-26T11:47:19.488611Z"
    }
   },
   "outputs": [],
   "source": [
    "cv = 4\n",
    "folds = KFold(n_splits = cv, shuffle = False, random_state = seed)\n",
    "\n",
    "df_cv = []\n",
    "df_preds = []"
   ]
  },
  {
   "cell_type": "code",
   "execution_count": 12,
   "metadata": {
    "ExecuteTime": {
     "end_time": "2020-04-26T11:47:19.498914Z",
     "start_time": "2020-04-26T11:47:19.492104Z"
    }
   },
   "outputs": [],
   "source": [
    "## Memory optimization\n",
    "\n",
    "# Original code from https://www.kaggle.com/gemartin/load-data-reduce-memory-usage by @gemartin\n",
    "# Modified to support timestamp type, categorical type\n",
    "# Modified to add option to use float16\n",
    "\n",
    "from pandas.api.types import is_datetime64_any_dtype as is_datetime\n",
    "from pandas.api.types import is_categorical_dtype\n",
    "\n",
    "def reduce_mem_usage(df, use_float16=False):\n",
    "    \"\"\"\n",
    "    Iterate through all the columns of a dataframe and modify the data type to reduce memory usage.        \n",
    "    \"\"\"\n",
    "    \n",
    "    start_mem = df.memory_usage().sum() / 1024**2\n",
    "    print(\"Memory usage of dataframe is {:.2f} MB\".format(start_mem))\n",
    "    \n",
    "    for col in df.columns:\n",
    "        if is_datetime(df[col]) or is_categorical_dtype(df[col]):\n",
    "            continue\n",
    "        col_type = df[col].dtype\n",
    "        \n",
    "        if col_type != object:\n",
    "            c_min = df[col].min()\n",
    "            c_max = df[col].max()\n",
    "            if str(col_type)[:3] == \"int\":\n",
    "                if c_min > np.iinfo(np.int8).min and c_max < np.iinfo(np.int8).max:\n",
    "                    df[col] = df[col].astype(np.int8)\n",
    "                elif c_min > np.iinfo(np.int16).min and c_max < np.iinfo(np.int16).max:\n",
    "                    df[col] = df[col].astype(np.int16)\n",
    "                elif c_min > np.iinfo(np.int32).min and c_max < np.iinfo(np.int32).max:\n",
    "                    df[col] = df[col].astype(np.int32)\n",
    "                elif c_min > np.iinfo(np.int64).min and c_max < np.iinfo(np.int64).max:\n",
    "                    df[col] = df[col].astype(np.int64)  \n",
    "            else:\n",
    "                if use_float16 and c_min > np.finfo(np.float16).min and c_max < np.finfo(np.float16).max:\n",
    "                    df[col] = df[col].astype(np.float16)\n",
    "                elif c_min > np.finfo(np.float32).min and c_max < np.finfo(np.float32).max:\n",
    "                    df[col] = df[col].astype(np.float32)\n",
    "                else:\n",
    "                    df[col] = df[col].astype(np.float64)\n",
    "        else:\n",
    "            df[col] = df[col].astype(\"category\")\n",
    "\n",
    "    end_mem = df.memory_usage().sum() / 1024**2\n",
    "    print(\"Memory usage after optimization is: {:.2f} MB\".format(end_mem))\n",
    "    print(\"Decreased by {:.1f}%\".format(100 * (start_mem - end_mem) / start_mem))\n",
    "    \n",
    "    return df"
   ]
  },
  {
   "cell_type": "code",
   "execution_count": 13,
   "metadata": {
    "ExecuteTime": {
     "end_time": "2020-04-26T11:47:21.889504Z",
     "start_time": "2020-04-26T11:47:19.500210Z"
    }
   },
   "outputs": [
    {
     "name": "stdout",
     "output_type": "stream",
     "text": [
      "Memory usage of dataframe is 325.00 MB\n",
      "Memory usage after optimization is: 144.46 MB\n",
      "Decreased by 55.6%\n",
      "Memory usage of dataframe is 622.62 MB\n",
      "Memory usage after optimization is: 274.70 MB\n",
      "Decreased by 55.9%\n"
     ]
    }
   ],
   "source": [
    "df_train = reduce_mem_usage(df_train)\n",
    "df_test  = reduce_mem_usage(df_test)"
   ]
  },
  {
   "cell_type": "code",
   "execution_count": 14,
   "metadata": {
    "ExecuteTime": {
     "end_time": "2020-04-26T12:20:34.457313Z",
     "start_time": "2020-04-26T11:47:21.891172Z"
    },
    "scrolled": true
   },
   "outputs": [
    {
     "name": "stdout",
     "output_type": "stream",
     "text": [
      "Building Model for site_id 3 and meter 0\n",
      "Preparing Site: 3 , meter: 0 , Fold: 1\n",
      "WARNING:tensorflow:From /home/ubuntu/anaconda3/envs/tensorflow_p36/lib/python3.6/site-packages/keras/backend/tensorflow_backend.py:517: The name tf.placeholder is deprecated. Please use tf.compat.v1.placeholder instead.\n",
      "\n",
      "WARNING:tensorflow:From /home/ubuntu/anaconda3/envs/tensorflow_p36/lib/python3.6/site-packages/keras/backend/tensorflow_backend.py:4138: The name tf.random_uniform is deprecated. Please use tf.random.uniform instead.\n",
      "\n",
      "WARNING:tensorflow:From /home/ubuntu/anaconda3/envs/tensorflow_p36/lib/python3.6/site-packages/keras/backend/tensorflow_backend.py:133: The name tf.placeholder_with_default is deprecated. Please use tf.compat.v1.placeholder_with_default instead.\n",
      "\n",
      "WARNING:tensorflow:From /home/ubuntu/anaconda3/envs/tensorflow_p36/lib/python3.6/site-packages/keras/backend/tensorflow_backend.py:3445: calling dropout (from tensorflow.python.ops.nn_ops) with keep_prob is deprecated and will be removed in a future version.\n",
      "Instructions for updating:\n",
      "Please use `rate` instead of `keep_prob`. Rate should be set to `rate = 1 - keep_prob`.\n",
      "WARNING:tensorflow:From /home/ubuntu/anaconda3/envs/tensorflow_p36/lib/python3.6/site-packages/keras/optimizers.py:790: The name tf.train.Optimizer is deprecated. Please use tf.compat.v1.train.Optimizer instead.\n",
      "\n",
      "WARNING:tensorflow:From /home/ubuntu/anaconda3/envs/tensorflow_p36/lib/python3.6/site-packages/tensorflow_core/python/ops/math_grad.py:1424: where (from tensorflow.python.ops.array_ops) is deprecated and will be removed in a future version.\n",
      "Instructions for updating:\n",
      "Use tf.where in 2.0, which has the same broadcast rule as np.where\n",
      "WARNING:tensorflow:From /home/ubuntu/anaconda3/envs/tensorflow_p36/lib/python3.6/site-packages/keras/backend/tensorflow_backend.py:986: The name tf.assign_add is deprecated. Please use tf.compat.v1.assign_add instead.\n",
      "\n",
      "WARNING:tensorflow:From /home/ubuntu/anaconda3/envs/tensorflow_p36/lib/python3.6/site-packages/keras/backend/tensorflow_backend.py:973: The name tf.assign is deprecated. Please use tf.compat.v1.assign instead.\n",
      "\n",
      "Train on 1774956 samples, validate on 591652 samples\n",
      "Epoch 1/21\n",
      "WARNING:tensorflow:From /home/ubuntu/anaconda3/envs/tensorflow_p36/lib/python3.6/site-packages/keras/backend/tensorflow_backend.py:174: The name tf.get_default_session is deprecated. Please use tf.compat.v1.get_default_session instead.\n",
      "\n",
      "WARNING:tensorflow:From /home/ubuntu/anaconda3/envs/tensorflow_p36/lib/python3.6/site-packages/keras/backend/tensorflow_backend.py:190: The name tf.global_variables is deprecated. Please use tf.compat.v1.global_variables instead.\n",
      "\n",
      "WARNING:tensorflow:From /home/ubuntu/anaconda3/envs/tensorflow_p36/lib/python3.6/site-packages/keras/backend/tensorflow_backend.py:199: The name tf.is_variable_initialized is deprecated. Please use tf.compat.v1.is_variable_initialized instead.\n",
      "\n",
      "WARNING:tensorflow:From /home/ubuntu/anaconda3/envs/tensorflow_p36/lib/python3.6/site-packages/keras/backend/tensorflow_backend.py:206: The name tf.variables_initializer is deprecated. Please use tf.compat.v1.variables_initializer instead.\n",
      "\n",
      " - 20s - loss: 1.7188 - val_loss: 1.0394\n",
      "Epoch 2/21\n",
      " - 11s - loss: 1.2969 - val_loss: 1.0214\n",
      "Epoch 3/21\n",
      " - 11s - loss: 1.2724 - val_loss: 1.0116\n",
      "Epoch 4/21\n",
      " - 12s - loss: 1.2503 - val_loss: 1.0061\n",
      "Epoch 5/21\n",
      " - 12s - loss: 1.2317 - val_loss: 0.9855\n",
      "Epoch 6/21\n",
      " - 12s - loss: 1.2162 - val_loss: 1.0048\n",
      "Epoch 7/21\n",
      " - 11s - loss: 1.2017 - val_loss: 0.9908\n",
      "Epoch 8/21\n",
      " - 11s - loss: 1.1886 - val_loss: 1.0087\n",
      "Epoch 9/21\n",
      " - 11s - loss: 1.1771 - val_loss: 0.9936\n",
      "Epoch 10/21\n",
      " - 11s - loss: 1.1671 - val_loss: 1.0309\n",
      "Epoch 11/21\n",
      " - 11s - loss: 1.1576 - val_loss: 1.0041\n",
      "Epoch 12/21\n",
      " - 11s - loss: 1.1497 - val_loss: 1.0269\n",
      "Epoch 13/21\n",
      " - 11s - loss: 1.1427 - val_loss: 1.0226\n",
      "Epoch 14/21\n",
      " - 12s - loss: 1.1362 - val_loss: 1.0285\n",
      "Epoch 15/21\n",
      " - 12s - loss: 1.1311 - val_loss: 1.0301\n",
      "Epoch 16/21\n",
      " - 12s - loss: 1.1252 - val_loss: 1.0512\n",
      "Epoch 17/21\n",
      " - 12s - loss: 1.1209 - val_loss: 1.0299\n",
      "Epoch 18/21\n",
      " - 12s - loss: 1.1173 - val_loss: 1.0516\n",
      "Epoch 19/21\n",
      " - 12s - loss: 1.1139 - val_loss: 1.0464\n",
      "Epoch 20/21\n",
      " - 11s - loss: 1.1109 - val_loss: 1.0616\n",
      "Epoch 21/21\n",
      " - 11s - loss: 1.1080 - val_loss: 1.0523\n"
     ]
    },
    {
     "data": {
      "image/png": "[encoded data removed]",
      "text/plain": [
       "<Figure size 432x288 with 1 Axes>"
      ]
     },
     "metadata": {},
     "output_type": "display_data"
    },
    {
     "name": "stdout",
     "output_type": "stream",
     "text": [
      "CPU times: user 2min 12s, sys: 7.96 s, total: 2min 19s\n",
      "Wall time: 1min 47s\n",
      "Preparing Site: 3 , meter: 0 , Fold: 2\n",
      "Train on 1774956 samples, validate on 591652 samples\n",
      "Epoch 1/21\n",
      " - 13s - loss: 1.7159 - val_loss: 0.9786\n",
      "Epoch 2/21\n",
      " - 12s - loss: 1.3080 - val_loss: 0.9501\n",
      "Epoch 3/21\n",
      " - 12s - loss: 1.2845 - val_loss: 0.9253\n",
      "Epoch 4/21\n",
      " - 12s - loss: 1.2610 - val_loss: 0.9089\n",
      "Epoch 5/21\n",
      " - 12s - loss: 1.2420 - val_loss: 0.8931\n",
      "Epoch 6/21\n",
      " - 12s - loss: 1.2248 - val_loss: 0.9245\n",
      "Epoch 7/21\n",
      " - 12s - loss: 1.2094 - val_loss: 0.9160\n",
      "Epoch 8/21\n",
      " - 12s - loss: 1.1962 - val_loss: 0.9329\n",
      "Epoch 9/21\n",
      " - 12s - loss: 1.1846 - val_loss: 0.9216\n",
      "Epoch 10/21\n",
      " - 12s - loss: 1.1738 - val_loss: 0.9422\n",
      "Epoch 11/21\n",
      " - 12s - loss: 1.1646 - val_loss: 0.9343\n",
      "Epoch 12/21\n",
      " - 12s - loss: 1.1559 - val_loss: 0.9586\n",
      "Epoch 13/21\n",
      " - 12s - loss: 1.1491 - val_loss: 0.9533\n",
      "Epoch 14/21\n",
      " - 12s - loss: 1.1426 - val_loss: 0.9642\n",
      "Epoch 15/21\n",
      " - 12s - loss: 1.1364 - val_loss: 0.9686\n",
      "Epoch 16/21\n",
      " - 12s - loss: 1.1313 - val_loss: 0.9727\n",
      "Epoch 17/21\n",
      " - 12s - loss: 1.1267 - val_loss: 0.9766\n",
      "Epoch 18/21\n",
      " - 12s - loss: 1.1231 - val_loss: 0.9915\n",
      "Epoch 19/21\n",
      " - 12s - loss: 1.1198 - val_loss: 0.9955\n",
      "Epoch 20/21\n",
      " - 12s - loss: 1.1172 - val_loss: 0.9932\n",
      "Epoch 21/21\n",
      " - 12s - loss: 1.1147 - val_loss: 0.9910\n"
     ]
    },
    {
     "data": {
      "image/png": "[encoded data removed]",
      "text/plain": [
       "<Figure size 432x288 with 1 Axes>"
      ]
     },
     "metadata": {},
     "output_type": "display_data"
    },
    {
     "name": "stdout",
     "output_type": "stream",
     "text": [
      "CPU times: user 2min 16s, sys: 8.26 s, total: 2min 25s\n",
      "Wall time: 1min 52s\n",
      "Preparing Site: 3 , meter: 0 , Fold: 3\n",
      "Train on 1774956 samples, validate on 591652 samples\n",
      "Epoch 1/21\n",
      " - 13s - loss: 1.7474 - val_loss: 0.8904\n",
      "Epoch 2/21\n",
      " - 12s - loss: 1.3315 - val_loss: 0.8910\n",
      "Epoch 3/21\n",
      " - 12s - loss: 1.3073 - val_loss: 0.8898\n",
      "Epoch 4/21\n",
      " - 12s - loss: 1.2857 - val_loss: 0.8813\n",
      "Epoch 5/21\n",
      " - 12s - loss: 1.2673 - val_loss: 0.8870\n",
      "Epoch 6/21\n",
      " - 12s - loss: 1.2512 - val_loss: 0.9024\n",
      "Epoch 7/21\n",
      " - 12s - loss: 1.2366 - val_loss: 0.9164\n",
      "Epoch 8/21\n",
      " - 12s - loss: 1.2230 - val_loss: 0.9254\n",
      "Epoch 9/21\n",
      " - 12s - loss: 1.2118 - val_loss: 0.9404\n",
      "Epoch 10/21\n",
      " - 12s - loss: 1.2014 - val_loss: 0.9580\n",
      "Epoch 11/21\n",
      " - 12s - loss: 1.1925 - val_loss: 0.9437\n",
      "Epoch 12/21\n",
      " - 12s - loss: 1.1841 - val_loss: 0.9796\n",
      "Epoch 13/21\n",
      " - 12s - loss: 1.1767 - val_loss: 0.9910\n",
      "Epoch 14/21\n",
      " - 12s - loss: 1.1705 - val_loss: 1.0004\n",
      "Epoch 15/21\n",
      " - 12s - loss: 1.1649 - val_loss: 1.0114\n",
      "Epoch 16/21\n",
      " - 12s - loss: 1.1597 - val_loss: 1.0175\n",
      "Epoch 17/21\n",
      " - 12s - loss: 1.1551 - val_loss: 1.0402\n",
      "Epoch 18/21\n",
      " - 12s - loss: 1.1514 - val_loss: 1.0321\n",
      "Epoch 19/21\n",
      " - 12s - loss: 1.1485 - val_loss: 1.0451\n",
      "Epoch 20/21\n",
      " - 12s - loss: 1.1453 - val_loss: 1.0500\n",
      "Epoch 21/21\n",
      " - 12s - loss: 1.1429 - val_loss: 1.0624\n"
     ]
    },
    {
     "data": {
      "image/png": "[encoded data removed]",
      "text/plain": [
       "<Figure size 432x288 with 1 Axes>"
      ]
     },
     "metadata": {},
     "output_type": "display_data"
    },
    {
     "name": "stdout",
     "output_type": "stream",
     "text": [
      "CPU times: user 2min 21s, sys: 8.35 s, total: 2min 29s\n",
      "Wall time: 1min 56s\n",
      "Preparing Site: 3 , meter: 0 , Fold: 4\n",
      "Train on 1774956 samples, validate on 591652 samples\n",
      "Epoch 1/21\n",
      " - 13s - loss: 1.6827 - val_loss: 1.2900\n",
      "Epoch 2/21\n",
      " - 12s - loss: 1.2656 - val_loss: 1.2464\n",
      "Epoch 3/21\n",
      " - 12s - loss: 1.2396 - val_loss: 1.2260\n",
      "Epoch 4/21\n",
      " - 12s - loss: 1.2163 - val_loss: 1.2051\n",
      "Epoch 5/21\n",
      " - 12s - loss: 1.1952 - val_loss: 1.2074\n",
      "Epoch 6/21\n",
      " - 12s - loss: 1.1778 - val_loss: 1.2116\n",
      "Epoch 7/21\n",
      " - 12s - loss: 1.1616 - val_loss: 1.1943\n",
      "Epoch 8/21\n",
      " - 12s - loss: 1.1476 - val_loss: 1.2001\n",
      "Epoch 9/21\n",
      " - 12s - loss: 1.1350 - val_loss: 1.2132\n",
      "Epoch 10/21\n",
      " - 12s - loss: 1.1242 - val_loss: 1.2122\n",
      "Epoch 11/21\n",
      " - 12s - loss: 1.1143 - val_loss: 1.2104\n",
      "Epoch 12/21\n",
      " - 12s - loss: 1.1056 - val_loss: 1.1863\n",
      "Epoch 13/21\n",
      " - 12s - loss: 1.0976 - val_loss: 1.1860\n",
      "Epoch 14/21\n",
      " - 12s - loss: 1.0908 - val_loss: 1.1885\n",
      "Epoch 15/21\n",
      " - 12s - loss: 1.0842 - val_loss: 1.1891\n",
      "Epoch 16/21\n",
      " - 12s - loss: 1.0790 - val_loss: 1.2070\n",
      "Epoch 17/21\n",
      " - 12s - loss: 1.0743 - val_loss: 1.1790\n",
      "Epoch 18/21\n",
      " - 12s - loss: 1.0701 - val_loss: 1.1932\n",
      "Epoch 19/21\n",
      " - 12s - loss: 1.0669 - val_loss: 1.1790\n",
      "Epoch 20/21\n",
      " - 12s - loss: 1.0638 - val_loss: 1.1880\n",
      "Epoch 21/21\n",
      " - 12s - loss: 1.0612 - val_loss: 1.1625\n"
     ]
    },
    {
     "data": {
      "image/png": "[encoded data removed]",
      "text/plain": [
       "<Figure size 432x288 with 1 Axes>"
      ]
     },
     "metadata": {},
     "output_type": "display_data"
    },
    {
     "name": "stdout",
     "output_type": "stream",
     "text": [
      "CPU times: user 2min 26s, sys: 9.36 s, total: 2min 35s\n",
      "Wall time: 2min 2s\n",
      "\n",
      "CV RMSE for Site: 3 and Meter: 0 is 1.2865168079012708\n",
      "\n",
      "CV RMSE for Site: 3 is 1.2865168079012708\n"
     ]
    }
   ],
   "source": [
    "for meter in df_train.meter.unique():\n",
    "    print(\"Building Model for site_id\", site_id, \"and meter\", meter)\n",
    "        \n",
    "    df_train_site_meter = df_train[df_train.meter == meter].reset_index(drop=True)\n",
    "    df_test_site_meter = df_test[df_test.meter == meter].reset_index(drop=True)\n",
    "    \n",
    "    pred_val = np.zeros(df_train_site_meter.shape[0])\n",
    "    pred_test = np.zeros(df_test_site_meter.shape[0])\n",
    "\n",
    "    row_ids_test = df_test_site_meter.row_id\n",
    "    y_train_site_meter = df_train_site_meter.log_meter_reading.values\n",
    "    \n",
    "    df_train_site_meter = df_train_site_meter[features]\n",
    "    df_test_site_meter = df_test_site_meter[features]\n",
    "\n",
    "    df_train_site_meter = pd.get_dummies(df_train_site_meter)\n",
    "    df_test_site_meter = pd.get_dummies(df_test_site_meter)\n",
    "        \n",
    "    for k, (train_idx, valid_idx) in enumerate(folds.split(df_train_site_meter, y_train_site_meter)):\n",
    "        print(\"Preparing Site:\", site_id, \", meter:\", meter, \", Fold:\", k+1)\n",
    "        \n",
    "        X_train, y_train = df_train_site_meter.iloc[train_idx], y_train_site_meter[train_idx]\n",
    "        X_valid, y_valid = df_train_site_meter.iloc[valid_idx], y_train_site_meter[valid_idx]\n",
    "        \n",
    "        X_train.dropna(axis=1, how=\"all\", inplace=True)\n",
    "        X_train = X_train.loc[:, (X_train != X_train.iloc[0]).any()]\n",
    "\n",
    "        X_valid = X_valid[X_train.columns]\n",
    "        X_test = df_test_site_meter[X_train.columns]\n",
    "        \n",
    "        df_means = pd.concat([X_train, X_valid, X_test], ignore_index=True).mean()\n",
    "        X_train.fillna(df_means, inplace=True)\n",
    "        X_valid.fillna(df_means, inplace=True)\n",
    "        X_test.fillna(df_means, inplace=True)\n",
    "        \n",
    "        sc = MinMaxScaler()\n",
    "        sc.fit(pd.concat([X_train, X_valid, X_test], ignore_index=True))\n",
    "        \n",
    "        X_train = np.array(sc.transform(X_train))\n",
    "        X_valid = np.array(sc.transform(X_valid))\n",
    "        X_test = np.array(sc.transform(X_test))\n",
    "        \n",
    "        model = Sequential()\n",
    "        model.add(Dense(256, input_dim=X_train.shape[1], activation=\"relu\", kernel_initializer=keras.initializers.glorot_uniform(seed=seed)))\n",
    "        model.add(BatchNormalization())\n",
    "        model.add(Dropout(0.2))\n",
    "        model.add(Dense(64, activation=\"tanh\", kernel_initializer=keras.initializers.glorot_uniform(seed=seed)))\n",
    "        model.add(BatchNormalization())\n",
    "        model.add(Dropout(0.2))\n",
    "        model.add(Dense(8, activation=\"tanh\", kernel_initializer=keras.initializers.glorot_uniform(seed=seed)))\n",
    "        model.add(BatchNormalization())\n",
    "        model.add(Dropout(0.2))\n",
    "        model.add(Dense(1))\n",
    "        model.compile(loss=rmse, optimizer=\"adam\")\n",
    "        \n",
    "        model_ffnn = model.fit(X_train, y_train, epochs=21, batch_size=1000, validation_data=(X_valid, y_valid), verbose=2, shuffle=False)\n",
    "\n",
    "        plt.plot(model_ffnn.history[\"loss\"])\n",
    "        plt.plot(model_ffnn.history[\"val_loss\"])\n",
    "        plt.title(\"Loss for Site: \" + str(site_id) + \", Meter: \" + str(meter) + \", Fold: \" + str(k+1))\n",
    "        plt.ylabel(\"rmse\")\n",
    "        plt.xlabel(\"Epoch\")\n",
    "        plt.legend([\"train\", \"valid\"], loc=\"upper right\")\n",
    "        plt.show()\n",
    "        \n",
    "        pred_val[valid_idx] = model.predict(X_valid).ravel()\n",
    "        %time pred_test += model.predict(X_test).ravel() / cv\n",
    "        \n",
    "        gc.collect()\n",
    "        \n",
    "    df_valid = pd.DataFrame({\"site_id\": site_id, \"meter\": meter, \"meter_reading\": np.expm1(y_train_site_meter), \"pred_ffnn\": np.clip(np.expm1(pred_val), 0, a_max=None)})\n",
    "    df_pred = pd.DataFrame({\"row_id\": row_ids_test, \"meter_reading\": np.clip(np.expm1(pred_test), 0, a_max=None)})\n",
    "    \n",
    "    df_cv.append(df_valid)\n",
    "    df_preds.append(df_pred)\n",
    "    \n",
    "    gc.collect()\n",
    "    \n",
    "    print(\"\\nCV RMSE for Site:\", site_id, \"and Meter:\", meter, \"is\", np.sqrt(mean_squared_error(np.log1p(df_valid.meter_reading), np.log1p(df_valid.pred_ffnn))))\n",
    "\n",
    "df_cv = pd.concat(df_cv)\n",
    "print(\"\\nCV RMSE for Site:\", site_id, \"is\", np.sqrt(mean_squared_error(np.log1p(df_cv.meter_reading), np.log1p(df_cv.pred_ffnn))))"
   ]
  },
  {
   "cell_type": "code",
   "execution_count": 15,
   "metadata": {
    "ExecuteTime": {
     "end_time": "2020-04-26T12:20:51.874671Z",
     "start_time": "2020-04-26T12:20:34.458889Z"
    }
   },
   "outputs": [],
   "source": [
    "df_preds = pd.concat(df_preds)\n",
    "df_preds.to_csv(\"../sub/ffnn_pred_site_\" + str(site_id) + \".csv\", index=False)"
   ]
  },
  {
   "cell_type": "code",
   "execution_count": null,
   "metadata": {},
   "outputs": [],
   "source": []
  }
 ],
 "metadata": {
  "kernelspec": {
   "display_name": "Python 3",
   "language": "python",
   "name": "python3"
  },
  "language_info": {
   "codemirror_mode": {
    "name": "ipython",
    "version": 3
   },
   "file_extension": ".py",
   "mimetype": "text/x-python",
   "name": "python",
   "nbconvert_exporter": "python",
   "pygments_lexer": "ipython3",
   "version": "3.6.6"
  }
 },
 "nbformat": 4,
 "nbformat_minor": 2
}
