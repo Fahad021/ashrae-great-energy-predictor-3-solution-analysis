{
 "cells": [
  {
   "cell_type": "code",
   "execution_count": 1,
   "metadata": {
    "ExecuteTime": {
     "end_time": "2020-04-26T14:14:55.475555Z",
     "start_time": "2020-04-26T14:14:55.472402Z"
    }
   },
   "outputs": [],
   "source": [
    "#!pip install tensorflow==1.14.0"
   ]
  },
  {
   "cell_type": "code",
   "execution_count": 2,
   "metadata": {
    "ExecuteTime": {
     "end_time": "2020-04-26T14:14:55.484832Z",
     "start_time": "2020-04-26T14:14:55.482924Z"
    }
   },
   "outputs": [],
   "source": [
    "#!pip install keras==2.2.5"
   ]
  },
  {
   "cell_type": "code",
   "execution_count": 3,
   "metadata": {
    "ExecuteTime": {
     "end_time": "2020-04-26T14:14:57.336981Z",
     "start_time": "2020-04-26T14:14:55.507385Z"
    }
   },
   "outputs": [
    {
     "name": "stdout",
     "output_type": "stream",
     "text": [
      "WARNING:tensorflow:From /home/ubuntu/anaconda3/envs/tensorflow_p36/lib/python3.6/site-packages/tensorflow_core/__init__.py:1467: The name tf.estimator.inputs is deprecated. Please use tf.compat.v1.estimator.inputs instead.\n",
      "\n"
     ]
    },
    {
     "name": "stderr",
     "output_type": "stream",
     "text": [
      "Using TensorFlow backend.\n"
     ]
    }
   ],
   "source": [
    "import os\n",
    "os.environ[\"PYTHONHASHSEED\"] = \"13\"\n",
    "os.environ[\"CUDA_VISIBLE_DEVICES\"] = \"0:1\"\n",
    "\n",
    "import numpy as np\n",
    "import tensorflow as tf\n",
    "import random as rn\n",
    "\n",
    "# The below is necessary for starting Numpy generated random numbers\n",
    "# in a well-defined initial state.\n",
    "\n",
    "np.random.seed(13)\n",
    "\n",
    "# The below is necessary for starting core Python generated random numbers\n",
    "# in a well-defined state.\n",
    "\n",
    "rn.seed(13)\n",
    "\n",
    "# Force TensorFlow to use single thread.\n",
    "# Multiple threads are a potential source of non-reproducible results.\n",
    "# For further details, see: https://stackoverflow.com/questions/42022950/\n",
    "\n",
    "session_conf = tf.ConfigProto(intra_op_parallelism_threads=1,\n",
    "                              inter_op_parallelism_threads=1)\n",
    "\n",
    "from keras import backend as K\n",
    "\n",
    "# The below tf.set_random_seed() will make random number generation\n",
    "# in the TensorFlow backend have a well-defined initial state.\n",
    "# For further details, see:\n",
    "# https://www.tensorflow.org/api_docs/python/tf/set_random_seed\n",
    "\n",
    "tf.set_random_seed(13)\n",
    "\n",
    "sess = tf.Session(graph=tf.get_default_graph(), config=session_conf)\n",
    "K.set_session(sess)"
   ]
  },
  {
   "cell_type": "code",
   "execution_count": 4,
   "metadata": {
    "ExecuteTime": {
     "end_time": "2020-04-26T14:14:57.635300Z",
     "start_time": "2020-04-26T14:14:57.338624Z"
    },
    "_cell_guid": "b1076dfc-b9ad-4769-8c92-a6c4dae69d19",
    "_uuid": "8f2839f25d086af736a60e9eeb907d3b93b6e0e5"
   },
   "outputs": [],
   "source": [
    "import gc\n",
    "import warnings\n",
    "\n",
    "#import lightgbm as lgb\n",
    "import pandas as pd\n",
    "\n",
    "from matplotlib import pyplot as plt\n",
    "from sklearn.metrics import mean_squared_error\n",
    "from sklearn.model_selection import KFold\n",
    "from sklearn.preprocessing import LabelEncoder, MinMaxScaler, StandardScaler\n",
    "from tqdm.notebook import tqdm\n",
    "\n",
    "import keras\n",
    "from keras.models import Sequential\n",
    "from keras.layers import BatchNormalization, Dense, Dropout\n",
    "\n",
    "path_data = \"../input/ashrae-energy-prediction/\"\n",
    "path_train = path_data + \"train.csv\"\n",
    "path_test = path_data + \"test.csv\"\n",
    "path_building = path_data + \"building_metadata.csv\"\n",
    "path_weather_train = path_data + \"weather_train.csv\"\n",
    "path_weather_test = path_data + \"weather_test.csv\"\n",
    "\n",
    "myfavouritenumber = 13\n",
    "seed = myfavouritenumber\n",
    "\n",
    "warnings.filterwarnings(\"ignore\")"
   ]
  },
  {
   "cell_type": "code",
   "execution_count": 5,
   "metadata": {
    "ExecuteTime": {
     "end_time": "2020-04-26T14:14:57.638700Z",
     "start_time": "2020-04-26T14:14:57.636753Z"
    }
   },
   "outputs": [],
   "source": [
    "site_id = 7"
   ]
  },
  {
   "cell_type": "code",
   "execution_count": 6,
   "metadata": {
    "ExecuteTime": {
     "end_time": "2020-04-26T14:15:45.120896Z",
     "start_time": "2020-04-26T14:14:57.640234Z"
    }
   },
   "outputs": [
    {
     "data": {
      "text/plain": [
       "148"
      ]
     },
     "execution_count": 6,
     "metadata": {},
     "output_type": "execute_result"
    }
   ],
   "source": [
    "df_train = pd.read_csv(path_train)\n",
    "df_test = pd.read_csv(path_test)\n",
    "\n",
    "building = pd.read_csv(path_building)\n",
    "\n",
    "weather_train = pd.read_csv(path_weather_train)\n",
    "weather_test = pd.read_csv(path_weather_test)\n",
    "\n",
    "weather_train.drop([\"sea_level_pressure\", \"wind_direction\", \"wind_speed\"], axis=1, inplace=True)\n",
    "weather_test.drop([\"sea_level_pressure\", \"wind_direction\", \"wind_speed\"], axis=1, inplace=True)\n",
    "\n",
    "weather_train = weather_train.groupby(\"site_id\").apply(lambda group: group.interpolate(limit_direction=\"both\"))\n",
    "weather_test = weather_test.groupby(\"site_id\").apply(lambda group: group.interpolate(limit_direction=\"both\"))\n",
    "\n",
    "df_train = df_train.merge(building, on=\"building_id\")\n",
    "df_test = df_test.merge(building, on=\"building_id\")\n",
    "\n",
    "df_train = df_train[df_train.site_id == site_id]\n",
    "df_test = df_test[df_test.site_id == site_id]\n",
    "\n",
    "df_train = df_train[~((df_train.building_id == 789) & (df_train.meter_reading == 0))]\n",
    "df_train = df_train[~((df_train.building_id == 790) & (df_train.meter_reading == 0))]\n",
    "df_train = df_train[~((df_train.building_id == 791) & (df_train.meter_reading == 0))]\n",
    "df_train = df_train[~((df_train.building_id == 792) & (df_train.meter_reading == 0))]\n",
    "df_train = df_train[~((df_train.building_id == 795) & (df_train.meter == 0) & (df_train.meter_reading == 0))]\n",
    "df_train = df_train[~((df_train.building_id == 798) & (df_train.meter_reading == 0))]\n",
    "df_train = df_train[~((df_train.building_id == 799) & (df_train.meter == 0) & (df_train.meter_reading == 0))]\n",
    "df_train = df_train[~((df_train.building_id == 801) & (df_train.meter_reading == 0))]\n",
    "df_train = df_train[~((df_train.building_id == 802) & (df_train.meter_reading == 0))]\n",
    "\n",
    "df_train = df_train[df_train.meter == 0]\n",
    "\n",
    "df_train = df_train.merge(weather_train, on=[\"site_id\", \"timestamp\"], how=\"left\")\n",
    "df_test = df_test.merge(weather_test, on=[\"site_id\", \"timestamp\"], how=\"left\")\n",
    "\n",
    "df_train.timestamp = pd.to_datetime(df_train.timestamp, format='%Y-%m-%d %H:%M:%S')\n",
    "df_test.timestamp = pd.to_datetime(df_test.timestamp, format='%Y-%m-%d %H:%M:%S')\n",
    "\n",
    "df_train.building_id = df_train.building_id.astype(\"str\")\n",
    "df_test.building_id = df_test.building_id.astype(\"str\")\n",
    "\n",
    "df_train[\"log_meter_reading\"] = np.log1p(df_train.meter_reading)\n",
    "\n",
    "del building\n",
    "gc.collect()"
   ]
  },
  {
   "cell_type": "code",
   "execution_count": 7,
   "metadata": {
    "ExecuteTime": {
     "end_time": "2020-04-26T14:15:46.343146Z",
     "start_time": "2020-04-26T14:15:45.122422Z"
    }
   },
   "outputs": [],
   "source": [
    "df_train[\"hour\"] = df_train.timestamp.dt.hour.astype(\"str\")\n",
    "df_test[\"hour\"] = df_test.timestamp.dt.hour.astype(\"str\")\n",
    "\n",
    "df_train[\"weekday\"] = df_train.timestamp.dt.weekday.astype(\"str\")\n",
    "df_test[\"weekday\"] = df_test.timestamp.dt.weekday.astype(\"str\")\n",
    "\n",
    "df_train[\"month\"] = df_train.timestamp.dt.month.astype(\"str\")\n",
    "df_test[\"month\"] = df_test.timestamp.dt.month.astype(\"str\")"
   ]
  },
  {
   "cell_type": "code",
   "execution_count": 8,
   "metadata": {
    "ExecuteTime": {
     "end_time": "2020-04-26T14:15:46.347896Z",
     "start_time": "2020-04-26T14:15:46.344891Z"
    }
   },
   "outputs": [],
   "source": [
    "features = [\n",
    "    \"building_id\",\n",
    "    \"square_feet\",\n",
    "    \"year_built\",\n",
    "    \"floor_count\",\n",
    "    \"primary_use\",\n",
    "    \"air_temperature\",\n",
    "    \"cloud_coverage\",\n",
    "    \"dew_temperature\",\n",
    "    \"precip_depth_1_hr\",\n",
    "    \"hour\",\n",
    "    \"weekday\",\n",
    "    \"month\"\n",
    "]"
   ]
  },
  {
   "cell_type": "code",
   "execution_count": 9,
   "metadata": {
    "ExecuteTime": {
     "end_time": "2020-04-26T14:15:46.351667Z",
     "start_time": "2020-04-26T14:15:46.349361Z"
    }
   },
   "outputs": [],
   "source": [
    "def rmse(y_true, y_pred):\n",
    "    return K.sqrt(K.mean(K.square(y_pred - y_true)))"
   ]
  },
  {
   "cell_type": "code",
   "execution_count": 10,
   "metadata": {
    "ExecuteTime": {
     "end_time": "2020-04-26T14:15:46.355585Z",
     "start_time": "2020-04-26T14:15:46.353190Z"
    }
   },
   "outputs": [],
   "source": [
    "cv = 4\n",
    "folds = KFold(n_splits = cv, shuffle = False, random_state = seed)\n",
    "\n",
    "df_cv = []\n",
    "df_preds = []"
   ]
  },
  {
   "cell_type": "code",
   "execution_count": 11,
   "metadata": {
    "ExecuteTime": {
     "end_time": "2020-04-26T14:18:56.097724Z",
     "start_time": "2020-04-26T14:15:46.356947Z"
    },
    "scrolled": true
   },
   "outputs": [
    {
     "name": "stdout",
     "output_type": "stream",
     "text": [
      "Building Model for site_id 7 and meter 0\n",
      "Preparing Site: 7 , meter: 0 , Fold: 1\n",
      "WARNING:tensorflow:From /home/ubuntu/anaconda3/envs/tensorflow_p36/lib/python3.6/site-packages/keras/backend/tensorflow_backend.py:517: The name tf.placeholder is deprecated. Please use tf.compat.v1.placeholder instead.\n",
      "\n",
      "WARNING:tensorflow:From /home/ubuntu/anaconda3/envs/tensorflow_p36/lib/python3.6/site-packages/keras/backend/tensorflow_backend.py:4138: The name tf.random_uniform is deprecated. Please use tf.random.uniform instead.\n",
      "\n",
      "WARNING:tensorflow:From /home/ubuntu/anaconda3/envs/tensorflow_p36/lib/python3.6/site-packages/keras/backend/tensorflow_backend.py:133: The name tf.placeholder_with_default is deprecated. Please use tf.compat.v1.placeholder_with_default instead.\n",
      "\n",
      "WARNING:tensorflow:From /home/ubuntu/anaconda3/envs/tensorflow_p36/lib/python3.6/site-packages/keras/backend/tensorflow_backend.py:3445: calling dropout (from tensorflow.python.ops.nn_ops) with keep_prob is deprecated and will be removed in a future version.\n",
      "Instructions for updating:\n",
      "Please use `rate` instead of `keep_prob`. Rate should be set to `rate = 1 - keep_prob`.\n",
      "WARNING:tensorflow:From /home/ubuntu/anaconda3/envs/tensorflow_p36/lib/python3.6/site-packages/keras/optimizers.py:790: The name tf.train.Optimizer is deprecated. Please use tf.compat.v1.train.Optimizer instead.\n",
      "\n",
      "WARNING:tensorflow:From /home/ubuntu/anaconda3/envs/tensorflow_p36/lib/python3.6/site-packages/tensorflow_core/python/ops/math_grad.py:1424: where (from tensorflow.python.ops.array_ops) is deprecated and will be removed in a future version.\n",
      "Instructions for updating:\n",
      "Use tf.where in 2.0, which has the same broadcast rule as np.where\n",
      "WARNING:tensorflow:From /home/ubuntu/anaconda3/envs/tensorflow_p36/lib/python3.6/site-packages/keras/backend/tensorflow_backend.py:986: The name tf.assign_add is deprecated. Please use tf.compat.v1.assign_add instead.\n",
      "\n",
      "WARNING:tensorflow:From /home/ubuntu/anaconda3/envs/tensorflow_p36/lib/python3.6/site-packages/keras/backend/tensorflow_backend.py:973: The name tf.assign is deprecated. Please use tf.compat.v1.assign instead.\n",
      "\n",
      "Train on 70880 samples, validate on 23627 samples\n",
      "Epoch 1/31\n",
      "WARNING:tensorflow:From /home/ubuntu/anaconda3/envs/tensorflow_p36/lib/python3.6/site-packages/keras/backend/tensorflow_backend.py:174: The name tf.get_default_session is deprecated. Please use tf.compat.v1.get_default_session instead.\n",
      "\n",
      "WARNING:tensorflow:From /home/ubuntu/anaconda3/envs/tensorflow_p36/lib/python3.6/site-packages/keras/backend/tensorflow_backend.py:190: The name tf.global_variables is deprecated. Please use tf.compat.v1.global_variables instead.\n",
      "\n",
      "WARNING:tensorflow:From /home/ubuntu/anaconda3/envs/tensorflow_p36/lib/python3.6/site-packages/keras/backend/tensorflow_backend.py:199: The name tf.is_variable_initialized is deprecated. Please use tf.compat.v1.is_variable_initialized instead.\n",
      "\n",
      "WARNING:tensorflow:From /home/ubuntu/anaconda3/envs/tensorflow_p36/lib/python3.6/site-packages/keras/backend/tensorflow_backend.py:206: The name tf.variables_initializer is deprecated. Please use tf.compat.v1.variables_initializer instead.\n",
      "\n",
      " - 23s - loss: 6.9734 - val_loss: 6.6634\n",
      "Epoch 2/31\n",
      " - 1s - loss: 6.4963 - val_loss: 6.0353\n",
      "Epoch 3/31\n",
      " - 1s - loss: 5.7309 - val_loss: 5.0062\n",
      "Epoch 4/31\n",
      " - 1s - loss: 4.6761 - val_loss: 3.6938\n",
      "Epoch 5/31\n",
      " - 1s - loss: 3.5003 - val_loss: 2.2647\n",
      "Epoch 6/31\n",
      " - 1s - loss: 2.6308 - val_loss: 1.1797\n",
      "Epoch 7/31\n",
      " - 1s - loss: 2.2618 - val_loss: 0.6975\n",
      "Epoch 8/31\n",
      " - 1s - loss: 2.1740 - val_loss: 0.6020\n",
      "Epoch 9/31\n",
      " - 1s - loss: 2.1541 - val_loss: 0.5821\n",
      "Epoch 10/31\n",
      " - 1s - loss: 2.1426 - val_loss: 0.5818\n",
      "Epoch 11/31\n",
      " - 1s - loss: 2.1314 - val_loss: 0.5781\n",
      "Epoch 12/31\n",
      " - 1s - loss: 2.1218 - val_loss: 0.5804\n",
      "Epoch 13/31\n",
      " - 1s - loss: 2.1146 - val_loss: 0.5682\n",
      "Epoch 14/31\n",
      " - 1s - loss: 2.1130 - val_loss: 0.5746\n",
      "Epoch 15/31\n",
      " - 1s - loss: 2.0974 - val_loss: 0.5750\n",
      "Epoch 16/31\n",
      " - 1s - loss: 2.0999 - val_loss: 0.5752\n",
      "Epoch 17/31\n",
      " - 1s - loss: 2.0885 - val_loss: 0.5743\n",
      "Epoch 18/31\n",
      " - 1s - loss: 2.0753 - val_loss: 0.5703\n",
      "Epoch 19/31\n",
      " - 1s - loss: 2.0677 - val_loss: 0.5683\n",
      "Epoch 20/31\n",
      " - 1s - loss: 2.0679 - val_loss: 0.5632\n",
      "Epoch 21/31\n",
      " - 1s - loss: 2.0540 - val_loss: 0.5594\n",
      "Epoch 22/31\n",
      " - 1s - loss: 2.0544 - val_loss: 0.5584\n",
      "Epoch 23/31\n",
      " - 1s - loss: 2.0405 - val_loss: 0.5584\n",
      "Epoch 24/31\n",
      " - 1s - loss: 2.0331 - val_loss: 0.5597\n",
      "Epoch 25/31\n",
      " - 1s - loss: 2.0190 - val_loss: 0.5540\n",
      "Epoch 26/31\n",
      " - 1s - loss: 2.0174 - val_loss: 0.5532\n",
      "Epoch 27/31\n",
      " - 1s - loss: 2.0090 - val_loss: 0.5536\n",
      "Epoch 28/31\n",
      " - 1s - loss: 1.9953 - val_loss: 0.5477\n",
      "Epoch 29/31\n",
      " - 1s - loss: 1.9951 - val_loss: 0.5475\n",
      "Epoch 30/31\n",
      " - 1s - loss: 1.9831 - val_loss: 0.5502\n",
      "Epoch 31/31\n",
      " - 1s - loss: 1.9743 - val_loss: 0.5502\n"
     ]
    },
    {
     "data": {
      "image/png": "[encoded data removed]",
      "text/plain": [
       "<Figure size 432x288 with 1 Axes>"
      ]
     },
     "metadata": {},
     "output_type": "display_data"
    },
    {
     "name": "stdout",
     "output_type": "stream",
     "text": [
      "CPU times: user 6.37 s, sys: 302 ms, total: 6.67 s\n",
      "Wall time: 5.21 s\n",
      "Preparing Site: 7 , meter: 0 , Fold: 2\n",
      "Train on 70880 samples, validate on 23627 samples\n",
      "Epoch 1/31\n",
      " - 2s - loss: 6.9010 - val_loss: 6.8439\n",
      "Epoch 2/31\n",
      " - 1s - loss: 6.2866 - val_loss: 6.0791\n",
      "Epoch 3/31\n",
      " - 1s - loss: 5.4432 - val_loss: 4.9760\n",
      "Epoch 4/31\n",
      " - 1s - loss: 4.3444 - val_loss: 3.5495\n",
      "Epoch 5/31\n",
      " - 1s - loss: 3.2053 - val_loss: 2.2096\n",
      "Epoch 6/31\n",
      " - 1s - loss: 2.4702 - val_loss: 1.2662\n",
      "Epoch 7/31\n",
      " - 1s - loss: 2.1919 - val_loss: 0.9947\n",
      "Epoch 8/31\n",
      " - 1s - loss: 2.1439 - val_loss: 0.9383\n",
      "Epoch 9/31\n",
      " - 1s - loss: 2.1294 - val_loss: 0.9227\n",
      "Epoch 10/31\n",
      " - 1s - loss: 2.1183 - val_loss: 0.9177\n",
      "Epoch 11/31\n",
      " - 1s - loss: 2.1106 - val_loss: 0.9105\n",
      "Epoch 12/31\n",
      " - 1s - loss: 2.0995 - val_loss: 0.9029\n",
      "Epoch 13/31\n",
      " - 1s - loss: 2.0919 - val_loss: 0.8927\n",
      "Epoch 14/31\n",
      " - 1s - loss: 2.0793 - val_loss: 0.8856\n",
      "Epoch 15/31\n",
      " - 1s - loss: 2.0762 - val_loss: 0.8791\n",
      "Epoch 16/31\n",
      " - 1s - loss: 2.0721 - val_loss: 0.8724\n",
      "Epoch 17/31\n",
      " - 1s - loss: 2.0656 - val_loss: 0.8690\n",
      "Epoch 18/31\n",
      " - 1s - loss: 2.0587 - val_loss: 0.8693\n",
      "Epoch 19/31\n",
      " - 1s - loss: 2.0403 - val_loss: 0.8631\n",
      "Epoch 20/31\n",
      " - 1s - loss: 2.0356 - val_loss: 0.8621\n",
      "Epoch 21/31\n",
      " - 1s - loss: 2.0345 - val_loss: 0.8584\n",
      "Epoch 22/31\n",
      " - 1s - loss: 2.0250 - val_loss: 0.8524\n",
      "Epoch 23/31\n",
      " - 1s - loss: 2.0162 - val_loss: 0.8576\n",
      "Epoch 24/31\n",
      " - 1s - loss: 2.0084 - val_loss: 0.8560\n",
      "Epoch 25/31\n",
      " - 1s - loss: 1.9996 - val_loss: 0.8533\n",
      "Epoch 26/31\n",
      " - 1s - loss: 1.9903 - val_loss: 0.8503\n",
      "Epoch 27/31\n",
      " - 1s - loss: 1.9868 - val_loss: 0.8436\n",
      "Epoch 28/31\n",
      " - 1s - loss: 1.9707 - val_loss: 0.8445\n",
      "Epoch 29/31\n",
      " - 1s - loss: 1.9625 - val_loss: 0.8392\n",
      "Epoch 30/31\n",
      " - 1s - loss: 1.9514 - val_loss: 0.8386\n",
      "Epoch 31/31\n",
      " - 1s - loss: 1.9521 - val_loss: 0.8343\n"
     ]
    },
    {
     "data": {
      "image/png": "[encoded data removed]",
      "text/plain": [
       "<Figure size 432x288 with 1 Axes>"
      ]
     },
     "metadata": {},
     "output_type": "display_data"
    },
    {
     "name": "stdout",
     "output_type": "stream",
     "text": [
      "CPU times: user 6.49 s, sys: 367 ms, total: 6.86 s\n",
      "Wall time: 5.39 s\n",
      "Preparing Site: 7 , meter: 0 , Fold: 3\n",
      "Train on 70880 samples, validate on 23627 samples\n",
      "Epoch 1/31\n",
      " - 2s - loss: 7.0297 - val_loss: 6.3295\n",
      "Epoch 2/31\n",
      " - 1s - loss: 6.4146 - val_loss: 5.6688\n",
      "Epoch 3/31\n",
      " - 1s - loss: 5.6075 - val_loss: 4.6421\n",
      "Epoch 4/31\n",
      " - 1s - loss: 4.5257 - val_loss: 3.3063\n",
      "Epoch 5/31\n",
      " - 1s - loss: 3.3160 - val_loss: 1.9700\n",
      "Epoch 6/31\n",
      " - 1s - loss: 2.4162 - val_loss: 1.4187\n",
      "Epoch 7/31\n",
      " - 1s - loss: 2.1057 - val_loss: 1.2508\n",
      "Epoch 8/31\n",
      " - 1s - loss: 2.0696 - val_loss: 1.2173\n",
      "Epoch 9/31\n",
      " - 1s - loss: 2.0540 - val_loss: 1.2085\n",
      "Epoch 10/31\n",
      " - 1s - loss: 2.0519 - val_loss: 1.2049\n",
      "Epoch 11/31\n",
      " - 1s - loss: 2.0379 - val_loss: 1.2042\n",
      "Epoch 12/31\n",
      " - 1s - loss: 2.0314 - val_loss: 1.1939\n",
      "Epoch 13/31\n",
      " - 1s - loss: 2.0143 - val_loss: 1.1799\n",
      "Epoch 14/31\n",
      " - 1s - loss: 2.0062 - val_loss: 1.1660\n",
      "Epoch 15/31\n",
      " - 1s - loss: 2.0094 - val_loss: 1.1381\n",
      "Epoch 16/31\n",
      " - 1s - loss: 1.9917 - val_loss: 1.1181\n",
      "Epoch 17/31\n",
      " - 1s - loss: 1.9778 - val_loss: 1.1101\n",
      "Epoch 18/31\n",
      " - 1s - loss: 1.9690 - val_loss: 1.1052\n",
      "Epoch 19/31\n",
      " - 1s - loss: 1.9676 - val_loss: 1.0995\n",
      "Epoch 20/31\n",
      " - 1s - loss: 1.9553 - val_loss: 1.0834\n",
      "Epoch 21/31\n",
      " - 1s - loss: 1.9466 - val_loss: 1.0793\n",
      "Epoch 22/31\n",
      " - 1s - loss: 1.9332 - val_loss: 1.0767\n",
      "Epoch 23/31\n",
      " - 1s - loss: 1.9356 - val_loss: 1.0764\n",
      "Epoch 24/31\n",
      " - 1s - loss: 1.9123 - val_loss: 1.0637\n",
      "Epoch 25/31\n",
      " - 1s - loss: 1.9133 - val_loss: 1.0670\n",
      "Epoch 26/31\n",
      " - 1s - loss: 1.9109 - val_loss: 1.0504\n",
      "Epoch 27/31\n",
      " - 1s - loss: 1.8935 - val_loss: 1.0444\n",
      "Epoch 28/31\n",
      " - 1s - loss: 1.8845 - val_loss: 1.0412\n",
      "Epoch 29/31\n",
      " - 1s - loss: 1.8811 - val_loss: 1.0434\n",
      "Epoch 30/31\n",
      " - 1s - loss: 1.8717 - val_loss: 1.0306\n",
      "Epoch 31/31\n",
      " - 1s - loss: 1.8563 - val_loss: 1.0242\n"
     ]
    },
    {
     "data": {
      "image/png": "[encoded data removed]",
      "text/plain": [
       "<Figure size 432x288 with 1 Axes>"
      ]
     },
     "metadata": {},
     "output_type": "display_data"
    },
    {
     "name": "stdout",
     "output_type": "stream",
     "text": [
      "CPU times: user 5.84 s, sys: 322 ms, total: 6.16 s\n",
      "Wall time: 4.75 s\n",
      "Preparing Site: 7 , meter: 0 , Fold: 4\n",
      "Train on 70881 samples, validate on 23626 samples\n",
      "Epoch 1/31\n",
      " - 2s - loss: 7.0049 - val_loss: 6.5712\n",
      "Epoch 2/31\n",
      " - 1s - loss: 6.3765 - val_loss: 5.8711\n",
      "Epoch 3/31\n",
      " - 1s - loss: 5.3551 - val_loss: 4.8627\n",
      "Epoch 4/31\n",
      " - 1s - loss: 4.0145 - val_loss: 3.6157\n",
      "Epoch 5/31\n",
      " - 1s - loss: 2.6893 - val_loss: 2.5833\n",
      "Epoch 6/31\n",
      " - 1s - loss: 2.0156 - val_loss: 2.1842\n",
      "Epoch 7/31\n",
      " - 1s - loss: 1.8668 - val_loss: 2.0856\n",
      "Epoch 8/31\n",
      " - 1s - loss: 1.8433 - val_loss: 2.0615\n",
      "Epoch 9/31\n",
      " - 1s - loss: 1.8294 - val_loss: 2.0615\n",
      "Epoch 10/31\n",
      " - 1s - loss: 1.8351 - val_loss: 2.0653\n",
      "Epoch 11/31\n",
      " - 1s - loss: 1.8139 - val_loss: 2.0637\n",
      "Epoch 12/31\n",
      " - 1s - loss: 1.7967 - val_loss: 2.0576\n",
      "Epoch 13/31\n",
      " - 1s - loss: 1.7883 - val_loss: 2.0614\n",
      "Epoch 14/31\n",
      " - 1s - loss: 1.7792 - val_loss: 2.0595\n",
      "Epoch 15/31\n",
      " - 1s - loss: 1.7754 - val_loss: 2.0646\n",
      "Epoch 16/31\n",
      " - 1s - loss: 1.7655 - val_loss: 2.0574\n",
      "Epoch 17/31\n",
      " - 1s - loss: 1.7542 - val_loss: 2.0570\n",
      "Epoch 18/31\n",
      " - 1s - loss: 1.7428 - val_loss: 2.0575\n",
      "Epoch 19/31\n",
      " - 1s - loss: 1.7334 - val_loss: 2.0565\n",
      "Epoch 20/31\n",
      " - 1s - loss: 1.7295 - val_loss: 2.0567\n",
      "Epoch 21/31\n",
      " - 1s - loss: 1.7092 - val_loss: 2.0573\n",
      "Epoch 22/31\n",
      " - 1s - loss: 1.6982 - val_loss: 2.0612\n",
      "Epoch 23/31\n",
      " - 1s - loss: 1.6944 - val_loss: 2.0590\n",
      "Epoch 24/31\n",
      " - 1s - loss: 1.6731 - val_loss: 2.0641\n",
      "Epoch 25/31\n",
      " - 1s - loss: 1.6731 - val_loss: 2.0650\n",
      "Epoch 26/31\n",
      " - 1s - loss: 1.6562 - val_loss: 2.0648\n",
      "Epoch 27/31\n",
      " - 1s - loss: 1.6473 - val_loss: 2.0642\n",
      "Epoch 28/31\n",
      " - 1s - loss: 1.6339 - val_loss: 2.0668\n",
      "Epoch 29/31\n",
      " - 1s - loss: 1.6297 - val_loss: 2.0674\n",
      "Epoch 30/31\n",
      " - 1s - loss: 1.6160 - val_loss: 2.0715\n",
      "Epoch 31/31\n",
      " - 1s - loss: 1.6092 - val_loss: 2.0701\n"
     ]
    },
    {
     "data": {
      "image/png": "[encoded data removed]",
      "text/plain": [
       "<Figure size 432x288 with 1 Axes>"
      ]
     },
     "metadata": {},
     "output_type": "display_data"
    },
    {
     "name": "stdout",
     "output_type": "stream",
     "text": [
      "CPU times: user 6.02 s, sys: 355 ms, total: 6.37 s\n",
      "Wall time: 4.96 s\n",
      "\n",
      "CV RMSE for Site: 7 and Meter: 0 is 1.5567250008268696\n",
      "\n",
      "CV RMSE for Site: 7 is 1.5567250008268696\n"
     ]
    }
   ],
   "source": [
    "for meter in df_train.meter.unique():\n",
    "    print(\"Building Model for site_id\", site_id, \"and meter\", meter)\n",
    "        \n",
    "    df_train_site_meter = df_train[df_train.meter == meter].reset_index(drop=True)\n",
    "    df_test_site_meter = df_test[df_test.meter == meter].reset_index(drop=True)\n",
    "    \n",
    "    pred_val = np.zeros(df_train_site_meter.shape[0])\n",
    "    pred_test = np.zeros(df_test_site_meter.shape[0])\n",
    "\n",
    "    row_ids_test = df_test_site_meter.row_id\n",
    "    y_train_site_meter = df_train_site_meter.log_meter_reading.values\n",
    "    \n",
    "    df_train_site_meter = df_train_site_meter[features]\n",
    "    df_test_site_meter = df_test_site_meter[features]\n",
    "\n",
    "    df_train_site_meter = pd.get_dummies(df_train_site_meter)\n",
    "    df_test_site_meter = pd.get_dummies(df_test_site_meter)\n",
    "        \n",
    "    for k, (train_idx, valid_idx) in enumerate(folds.split(df_train_site_meter, y_train_site_meter)):\n",
    "        print(\"Preparing Site:\", site_id, \", meter:\", meter, \", Fold:\", k+1)\n",
    "        \n",
    "        X_train, y_train = df_train_site_meter.iloc[train_idx], y_train_site_meter[train_idx]\n",
    "        X_valid, y_valid = df_train_site_meter.iloc[valid_idx], y_train_site_meter[valid_idx]\n",
    "        \n",
    "        X_train.dropna(axis=1, how=\"all\", inplace=True)\n",
    "        X_train = X_train.loc[:, (X_train != X_train.iloc[0]).any()]\n",
    "\n",
    "        X_valid = X_valid[X_train.columns]\n",
    "        X_test = df_test_site_meter[X_train.columns]\n",
    "        \n",
    "        df_means = pd.concat([X_train, X_valid, X_test], ignore_index=True).mean()\n",
    "        X_train.fillna(df_means, inplace=True)\n",
    "        X_valid.fillna(df_means, inplace=True)\n",
    "        X_test.fillna(df_means, inplace=True)\n",
    "        \n",
    "        sc = MinMaxScaler()\n",
    "        sc.fit(pd.concat([X_train, X_valid, X_test], ignore_index=True))\n",
    "        \n",
    "        X_train = np.array(sc.transform(X_train))\n",
    "        X_valid = np.array(sc.transform(X_valid))\n",
    "        X_test = np.array(sc.transform(X_test))\n",
    "        \n",
    "        model = Sequential()\n",
    "        model.add(Dense(32, input_dim=X_train.shape[1], activation=\"relu\", kernel_initializer=keras.initializers.glorot_uniform(seed=seed)))\n",
    "        model.add(BatchNormalization())\n",
    "        model.add(Dropout(0.2))\n",
    "        model.add(Dense(8, activation=\"tanh\", kernel_initializer=keras.initializers.glorot_uniform(seed=seed)))\n",
    "        model.add(BatchNormalization())\n",
    "        model.add(Dropout(0.2))\n",
    "        model.add(Dense(4, activation=\"tanh\", kernel_initializer=keras.initializers.glorot_uniform(seed=seed)))\n",
    "        model.add(BatchNormalization())\n",
    "        model.add(Dropout(0.2))\n",
    "        model.add(Dense(1))\n",
    "        model.compile(loss=rmse, optimizer=\"adam\")\n",
    "        \n",
    "        model_ffnn = model.fit(X_train, y_train, epochs=31, batch_size=500, validation_data=(X_valid, y_valid), verbose=2, shuffle=False)\n",
    "\n",
    "        plt.plot(model_ffnn.history[\"loss\"])\n",
    "        plt.plot(model_ffnn.history[\"val_loss\"])\n",
    "        plt.title(\"Loss for Site: \" + str(site_id) + \", Meter: \" + str(meter) + \", Fold: \" + str(k+1))\n",
    "        plt.ylabel(\"rmse\")\n",
    "        plt.xlabel(\"Epoch\")\n",
    "        plt.legend([\"train\", \"valid\"], loc=\"upper right\")\n",
    "        plt.show()\n",
    "        \n",
    "        pred_val[valid_idx] = model.predict(X_valid).ravel()\n",
    "        %time pred_test += model.predict(X_test).ravel() / cv\n",
    "        \n",
    "        gc.collect()\n",
    "        \n",
    "    df_valid = pd.DataFrame({\"site_id\": site_id, \"meter\": meter, \"meter_reading\": np.expm1(y_train_site_meter), \"pred_ffnn\": np.clip(np.expm1(pred_val), 0, a_max=None)})\n",
    "    df_pred = pd.DataFrame({\"row_id\": row_ids_test, \"meter_reading\": np.clip(np.expm1(pred_test), 0, a_max=None)})\n",
    "    \n",
    "    df_cv.append(df_valid)\n",
    "    df_preds.append(df_pred)\n",
    "    \n",
    "    gc.collect()\n",
    "    \n",
    "    print(\"\\nCV RMSE for Site:\", site_id, \"and Meter:\", meter, \"is\", np.sqrt(mean_squared_error(np.log1p(df_valid.meter_reading), np.log1p(df_valid.pred_ffnn))))\n",
    "\n",
    "df_cv = pd.concat(df_cv)\n",
    "print(\"\\nCV RMSE for Site:\", site_id, \"is\", np.sqrt(mean_squared_error(np.log1p(df_cv.meter_reading), np.log1p(df_cv.pred_ffnn))))\n"
   ]
  },
  {
   "cell_type": "code",
   "execution_count": 12,
   "metadata": {
    "ExecuteTime": {
     "end_time": "2020-04-26T14:18:56.735986Z",
     "start_time": "2020-04-26T14:18:56.099191Z"
    }
   },
   "outputs": [],
   "source": [
    "df_preds = pd.concat(df_preds)\n",
    "df_preds.to_csv(\"../sub/ffnn_pred_site_\" + str(site_id) + \".csv\", index=False)"
   ]
  }
 ],
 "metadata": {
  "kernelspec": {
   "display_name": "Python 3",
   "language": "python",
   "name": "python3"
  },
  "language_info": {
   "codemirror_mode": {
    "name": "ipython",
    "version": 3
   },
   "file_extension": ".py",
   "mimetype": "text/x-python",
   "name": "python",
   "nbconvert_exporter": "python",
   "pygments_lexer": "ipython3",
   "version": "3.6.6"
  }
 },
 "nbformat": 4,
 "nbformat_minor": 1
}
