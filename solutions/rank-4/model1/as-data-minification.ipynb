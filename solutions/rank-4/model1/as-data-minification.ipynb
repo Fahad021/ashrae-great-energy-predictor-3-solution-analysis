{
 "cells": [
  {
   "cell_type": "code",
   "execution_count": 4,
   "metadata": {
    "_cell_guid": "b1076dfc-b9ad-4769-8c92-a6c4dae69d19",
    "_uuid": "8f2839f25d086af736a60e9eeb907d3b93b6e0e5"
   },
   "outputs": [],
   "source": [
    "# General imports\n",
    "import numpy as np\n",
    "import pandas as pd\n",
    "import os, warnings, math\n",
    "\n",
    "from sklearn.preprocessing import LabelEncoder\n",
    "\n",
    "warnings.filterwarnings('ignore')"
   ]
  },
  {
   "cell_type": "code",
   "execution_count": 5,
   "metadata": {
    "_cell_guid": "79c7e3d0-c299-4dcb-8224-4455121ee9b0",
    "_uuid": "d629ff2d2480ee46fbb7e2d37f6b5fab8052498a"
   },
   "outputs": [],
   "source": [
    "########################### Helpers\n",
    "#################################################################################\n",
    "## -------------------\n",
    "## Memory Reducer\n",
    "# :df pandas dataframe to reduce size             # type: pd.DataFrame()\n",
    "# :verbose                                        # type: bool\n",
    "def reduce_mem_usage(df, verbose=True):\n",
    "    numerics = ['int16', 'int32', 'int64', 'float16', 'float32', 'float64']\n",
    "    start_mem = df.memory_usage().sum() / 1024**2    \n",
    "    for col in df.columns:\n",
    "        col_type = df[col].dtypes\n",
    "        if col_type in numerics:\n",
    "            c_min = df[col].min()\n",
    "            c_max = df[col].max()\n",
    "            if str(col_type)[:3] == 'int':\n",
    "                if c_min > np.iinfo(np.int8).min and c_max < np.iinfo(np.int8).max:\n",
    "                    df[col] = df[col].astype(np.int8)\n",
    "                elif c_min > np.iinfo(np.int16).min and c_max < np.iinfo(np.int16).max:\n",
    "                    df[col] = df[col].astype(np.int16)\n",
    "                elif c_min > np.iinfo(np.int32).min and c_max < np.iinfo(np.int32).max:\n",
    "                    df[col] = df[col].astype(np.int32)\n",
    "                elif c_min > np.iinfo(np.int64).min and c_max < np.iinfo(np.int64).max:\n",
    "                    df[col] = df[col].astype(np.int64)  \n",
    "            else:\n",
    "                if c_min > np.finfo(np.float16).min and c_max < np.finfo(np.float16).max:\n",
    "                    df[col] = df[col].astype(np.float16)\n",
    "                elif c_min > np.finfo(np.float32).min and c_max < np.finfo(np.float32).max:\n",
    "                    df[col] = df[col].astype(np.float32)\n",
    "                else:\n",
    "                    df[col] = df[col].astype(np.float64)    \n",
    "    end_mem = df.memory_usage().sum() / 1024**2\n",
    "    if verbose: print('Mem. usage decreased to {:5.2f} Mb ({:.1f}% reduction)'.format(end_mem, 100 * (start_mem - end_mem) / start_mem))\n",
    "    return df\n",
    "## -------------------"
   ]
  },
  {
   "cell_type": "code",
   "execution_count": 6,
   "metadata": {},
   "outputs": [
    {
     "name": "stdout",
     "output_type": "stream",
     "text": [
      "Load Data\n"
     ]
    }
   ],
   "source": [
    "########################### DATA LOAD\n",
    "#################################################################################\n",
    "print('Load Data')\n",
    "train_df = pd.read_csv('../input/ashrae-energy-prediction/train.csv')\n",
    "test_df = pd.read_csv('../input/ashrae-energy-prediction/test.csv')\n",
    "\n",
    "building_df = pd.read_csv('../input/ashrae-energy-prediction/building_metadata.csv')\n",
    "\n",
    "train_weather_df = pd.read_csv('../input/ashrae-energy-prediction/weather_train.csv')\n",
    "test_weather_df = pd.read_csv('../input/ashrae-energy-prediction/weather_test.csv')"
   ]
  },
  {
   "cell_type": "code",
   "execution_count": 7,
   "metadata": {},
   "outputs": [
    {
     "name": "stdout",
     "output_type": "stream",
     "text": [
      "<class 'pandas.core.frame.DataFrame'>\n",
      "RangeIndex: 20216100 entries, 0 to 20216099\n",
      "Data columns (total 4 columns):\n",
      "building_id      int64\n",
      "meter            int64\n",
      "timestamp        object\n",
      "meter_reading    float64\n",
      "dtypes: float64(1), int64(2), object(1)\n",
      "memory usage: 616.9+ MB\n",
      "Main data: ['building_id', 'meter', 'timestamp', 'meter_reading'] None\n",
      "####################\n",
      "<class 'pandas.core.frame.DataFrame'>\n",
      "RangeIndex: 1449 entries, 0 to 1448\n",
      "Data columns (total 6 columns):\n",
      "site_id        1449 non-null int64\n",
      "building_id    1449 non-null int64\n",
      "primary_use    1449 non-null object\n",
      "square_feet    1449 non-null int64\n",
      "year_built     675 non-null float64\n",
      "floor_count    355 non-null float64\n",
      "dtypes: float64(2), int64(3), object(1)\n",
      "memory usage: 68.0+ KB\n",
      "Buildings data: ['site_id', 'building_id', 'primary_use', 'square_feet', 'year_built', 'floor_count'] None\n",
      "####################\n",
      "<class 'pandas.core.frame.DataFrame'>\n",
      "RangeIndex: 139773 entries, 0 to 139772\n",
      "Data columns (total 9 columns):\n",
      "site_id               139773 non-null int64\n",
      "timestamp             139773 non-null object\n",
      "air_temperature       139718 non-null float64\n",
      "cloud_coverage        70600 non-null float64\n",
      "dew_temperature       139660 non-null float64\n",
      "precip_depth_1_hr     89484 non-null float64\n",
      "sea_level_pressure    129155 non-null float64\n",
      "wind_direction        133505 non-null float64\n",
      "wind_speed            139469 non-null float64\n",
      "dtypes: float64(7), int64(1), object(1)\n",
      "memory usage: 9.6+ MB\n",
      "Weather data: ['site_id', 'timestamp', 'air_temperature', 'cloud_coverage', 'dew_temperature', 'precip_depth_1_hr', 'sea_level_pressure', 'wind_direction', 'wind_speed'] None\n",
      "####################\n"
     ]
    }
   ],
   "source": [
    "########################### Data Check\n",
    "#################################################################################\n",
    "print('Main data:', list(train_df), train_df.info())\n",
    "print('#'*20)\n",
    "\n",
    "print('Buildings data:',list(building_df), building_df.info())\n",
    "print('#'*20)\n",
    "\n",
    "print('Weather data:',list(train_weather_df), train_weather_df.info())\n",
    "print('#'*20)"
   ]
  },
  {
   "cell_type": "code",
   "execution_count": 8,
   "metadata": {},
   "outputs": [],
   "source": [
    "########################### Convert timestamp to date\n",
    "#################################################################################\n",
    "for df in [train_df, test_df, train_weather_df, test_weather_df]:\n",
    "    df['timestamp'] = pd.to_datetime(df['timestamp'])\n",
    "    \n",
    "for df in [train_df, test_df]:\n",
    "    # 年中第几月\n",
    "    df['DT_M'] = df['timestamp'].dt.month.astype(np.int8)\n",
    "    # 年中第几周\n",
    "    df['DT_W'] = df['timestamp'].dt.weekofyear.astype(np.int8)\n",
    "    # 年中第几天\n",
    "    df['DT_D'] = df['timestamp'].dt.dayofyear.astype(np.int16)\n",
    "    \n",
    "    # 小时，0点至23点\n",
    "    df['DT_hour'] = df['timestamp'].dt.hour.astype(np.int8)\n",
    "    # 周几，0是周一，5是周六，6是周天\n",
    "    df['DT_day_week'] = df['timestamp'].dt.dayofweek.astype(np.int8)\n",
    "    # 每个月的几号\n",
    "    df['DT_day_month'] = df['timestamp'].dt.day.astype(np.int8)\n",
    "    # 一个月中第几周, 感觉有些多余，能知道第五周之后是新月份的第一周吗？\n",
    "    df['DT_week_month'] = df['timestamp'].dt.day/7\n",
    "    df['DT_week_month'] = df['DT_week_month'].apply(lambda x: math.ceil(x)).astype(np.int8)"
   ]
  },
  {
   "cell_type": "code",
   "execution_count": 9,
   "metadata": {},
   "outputs": [],
   "source": [
    "########################### Strings to category\n",
    "#################################################################################\n",
    "building_df['primary_use'] = building_df['primary_use'].astype('category')"
   ]
  },
  {
   "cell_type": "code",
   "execution_count": 10,
   "metadata": {},
   "outputs": [],
   "source": [
    "########################### Building Transform\n",
    "#################################################################################\n",
    "# 这里的空值先不处理\n",
    "# building_df['floor_count'] = building_df['floor_count'].fillna(0).astype(np.int8)\n",
    "# building_df['year_built'] = building_df['year_built'].fillna(-999).astype(np.int16)\n",
    "\n",
    "le = LabelEncoder()\n",
    "building_df['primary_use'] = building_df['primary_use'].astype(str)\n",
    "building_df['primary_use'] = le.fit_transform(building_df['primary_use']).astype(np.int8)"
   ]
  },
  {
   "cell_type": "code",
   "execution_count": 11,
   "metadata": {},
   "outputs": [
    {
     "data": {
      "text/plain": [
       "0             0.000\n",
       "1             0.000\n",
       "2             0.000\n",
       "3             0.000\n",
       "4             0.000\n",
       "             ...   \n",
       "20216095      8.750\n",
       "20216096      4.825\n",
       "20216097      0.000\n",
       "20216098    159.575\n",
       "20216099      2.850\n",
       "Name: meter_reading, Length: 20216100, dtype: float64"
      ]
     },
     "execution_count": 11,
     "metadata": {},
     "output_type": "execute_result"
    }
   ],
   "source": [
    "train_df.meter_reading"
   ]
  },
  {
   "cell_type": "code",
   "execution_count": 12,
   "metadata": {},
   "outputs": [
    {
     "data": {
      "text/plain": [
       "0         25.0\n",
       "1         24.4\n",
       "2         22.8\n",
       "3         21.1\n",
       "4         20.0\n",
       "          ... \n",
       "139768     3.0\n",
       "139769     2.8\n",
       "139770     2.8\n",
       "139771     2.2\n",
       "139772     1.7\n",
       "Name: air_temperature, Length: 139773, dtype: float64"
      ]
     },
     "execution_count": 12,
     "metadata": {},
     "output_type": "execute_result"
    }
   ],
   "source": [
    "train_weather_df.air_temperature"
   ]
  },
  {
   "cell_type": "code",
   "execution_count": 13,
   "metadata": {},
   "outputs": [
    {
     "data": {
      "text/plain": [
       "0         20.0\n",
       "1         21.1\n",
       "2         21.1\n",
       "3         20.6\n",
       "4         20.0\n",
       "          ... \n",
       "139768    -8.0\n",
       "139769    -8.9\n",
       "139770    -7.2\n",
       "139771    -6.7\n",
       "139772    -5.6\n",
       "Name: dew_temperature, Length: 139773, dtype: float64"
      ]
     },
     "execution_count": 13,
     "metadata": {},
     "output_type": "execute_result"
    }
   ],
   "source": [
    "train_weather_df.dew_temperature"
   ]
  },
  {
   "cell_type": "code",
   "execution_count": 14,
   "metadata": {},
   "outputs": [
    {
     "data": {
      "text/plain": [
       "0         1019.7\n",
       "1         1020.2\n",
       "2         1020.2\n",
       "3         1020.1\n",
       "4         1020.0\n",
       "           ...  \n",
       "139768       NaN\n",
       "139769    1007.4\n",
       "139770    1007.5\n",
       "139771    1008.0\n",
       "139772    1008.5\n",
       "Name: sea_level_pressure, Length: 139773, dtype: float64"
      ]
     },
     "execution_count": 14,
     "metadata": {},
     "output_type": "execute_result"
    }
   ],
   "source": [
    "train_weather_df.sea_level_pressure"
   ]
  },
  {
   "cell_type": "code",
   "execution_count": 15,
   "metadata": {},
   "outputs": [
    {
     "data": {
      "text/plain": [
       "0           0.0\n",
       "1          70.0\n",
       "2           0.0\n",
       "3           0.0\n",
       "4         250.0\n",
       "          ...  \n",
       "139768    180.0\n",
       "139769    180.0\n",
       "139770    180.0\n",
       "139771    170.0\n",
       "139772    180.0\n",
       "Name: wind_direction, Length: 139773, dtype: float64"
      ]
     },
     "execution_count": 15,
     "metadata": {},
     "output_type": "execute_result"
    }
   ],
   "source": [
    "train_weather_df.wind_direction"
   ]
  },
  {
   "cell_type": "code",
   "execution_count": 16,
   "metadata": {},
   "outputs": [
    {
     "name": "stdout",
     "output_type": "stream",
     "text": [
      "Mem. usage decreased to 443.43 Mb (42.5% reduction)\n",
      "Bad transformation meter_reading\n",
      "Mem. usage decreased to 914.62 Mb (42.5% reduction)\n",
      "Mem. usage decreased to  0.02 Mb (70.6% reduction)\n",
      "Mem. usage decreased to  3.07 Mb (68.1% reduction)\n",
      "Bad transformation air_temperature\n",
      "Bad transformation dew_temperature\n",
      "Bad transformation sea_level_pressure\n",
      "Bad transformation wind_speed\n",
      "Mem. usage decreased to  6.08 Mb (68.1% reduction)\n",
      "Bad transformation air_temperature\n",
      "Bad transformation dew_temperature\n",
      "Bad transformation sea_level_pressure\n",
      "Bad transformation wind_speed\n"
     ]
    }
   ],
   "source": [
    "########################### Base check\n",
    "#################################################################################\n",
    "do_not_convert = ['category','datetime64[ns]','object']\n",
    "for df in [train_df, test_df, building_df, train_weather_df, test_weather_df]:\n",
    "    original = df.copy()\n",
    "    df = reduce_mem_usage(df)\n",
    "\n",
    "    for col in list(df):\n",
    "        if df[col].dtype.name not in do_not_convert:\n",
    "            if (df[col]-original[col]).sum()!=0:\n",
    "                df[col] = original[col]\n",
    "                print('Bad transformation', col)"
   ]
  },
  {
   "cell_type": "code",
   "execution_count": 17,
   "metadata": {},
   "outputs": [
    {
     "data": {
      "text/plain": [
       "0             0.000\n",
       "1             0.000\n",
       "2             0.000\n",
       "3             0.000\n",
       "4             0.000\n",
       "             ...   \n",
       "20216095      8.750\n",
       "20216096      4.825\n",
       "20216097      0.000\n",
       "20216098    159.575\n",
       "20216099      2.850\n",
       "Name: meter_reading, Length: 20216100, dtype: float64"
      ]
     },
     "execution_count": 17,
     "metadata": {},
     "output_type": "execute_result"
    }
   ],
   "source": [
    "train_df.meter_reading"
   ]
  },
  {
   "cell_type": "code",
   "execution_count": 18,
   "metadata": {},
   "outputs": [
    {
     "data": {
      "text/plain": [
       "0         25.0\n",
       "1         24.4\n",
       "2         22.8\n",
       "3         21.1\n",
       "4         20.0\n",
       "          ... \n",
       "139768     3.0\n",
       "139769     2.8\n",
       "139770     2.8\n",
       "139771     2.2\n",
       "139772     1.7\n",
       "Name: air_temperature, Length: 139773, dtype: float64"
      ]
     },
     "execution_count": 18,
     "metadata": {},
     "output_type": "execute_result"
    }
   ],
   "source": [
    "train_weather_df.air_temperature"
   ]
  },
  {
   "cell_type": "code",
   "execution_count": 19,
   "metadata": {},
   "outputs": [
    {
     "data": {
      "text/plain": [
       "0         20.0\n",
       "1         21.1\n",
       "2         21.1\n",
       "3         20.6\n",
       "4         20.0\n",
       "          ... \n",
       "139768    -8.0\n",
       "139769    -8.9\n",
       "139770    -7.2\n",
       "139771    -6.7\n",
       "139772    -5.6\n",
       "Name: dew_temperature, Length: 139773, dtype: float64"
      ]
     },
     "execution_count": 19,
     "metadata": {},
     "output_type": "execute_result"
    }
   ],
   "source": [
    "train_weather_df.dew_temperature"
   ]
  },
  {
   "cell_type": "code",
   "execution_count": 20,
   "metadata": {},
   "outputs": [
    {
     "data": {
      "text/plain": [
       "0         1019.7\n",
       "1         1020.2\n",
       "2         1020.2\n",
       "3         1020.1\n",
       "4         1020.0\n",
       "           ...  \n",
       "139768       NaN\n",
       "139769    1007.4\n",
       "139770    1007.5\n",
       "139771    1008.0\n",
       "139772    1008.5\n",
       "Name: sea_level_pressure, Length: 139773, dtype: float64"
      ]
     },
     "execution_count": 20,
     "metadata": {},
     "output_type": "execute_result"
    }
   ],
   "source": [
    "train_weather_df.sea_level_pressure"
   ]
  },
  {
   "cell_type": "code",
   "execution_count": 21,
   "metadata": {},
   "outputs": [
    {
     "data": {
      "text/plain": [
       "0           0.0\n",
       "1          70.0\n",
       "2           0.0\n",
       "3           0.0\n",
       "4         250.0\n",
       "          ...  \n",
       "139768    180.0\n",
       "139769    180.0\n",
       "139770    180.0\n",
       "139771    170.0\n",
       "139772    180.0\n",
       "Name: wind_direction, Length: 139773, dtype: float16"
      ]
     },
     "execution_count": 21,
     "metadata": {},
     "output_type": "execute_result"
    }
   ],
   "source": [
    "train_weather_df.wind_direction"
   ]
  },
  {
   "cell_type": "code",
   "execution_count": 22,
   "metadata": {},
   "outputs": [
    {
     "name": "stdout",
     "output_type": "stream",
     "text": [
      "<class 'pandas.core.frame.DataFrame'>\n",
      "RangeIndex: 20216100 entries, 0 to 20216099\n",
      "Data columns (total 11 columns):\n",
      "building_id      int16\n",
      "meter            int8\n",
      "timestamp        datetime64[ns]\n",
      "meter_reading    float64\n",
      "DT_M             int8\n",
      "DT_W             int8\n",
      "DT_D             int16\n",
      "DT_hour          int8\n",
      "DT_day_week      int8\n",
      "DT_day_month     int8\n",
      "DT_week_month    int8\n",
      "dtypes: datetime64[ns](1), float64(1), int16(2), int8(7)\n",
      "memory usage: 520.5 MB\n",
      "Main data: ['building_id', 'meter', 'timestamp', 'meter_reading', 'DT_M', 'DT_W', 'DT_D', 'DT_hour', 'DT_day_week', 'DT_day_month', 'DT_week_month'] None\n",
      "####################\n",
      "<class 'pandas.core.frame.DataFrame'>\n",
      "RangeIndex: 1449 entries, 0 to 1448\n",
      "Data columns (total 6 columns):\n",
      "site_id        1449 non-null int8\n",
      "building_id    1449 non-null int16\n",
      "primary_use    1449 non-null int8\n",
      "square_feet    1449 non-null int32\n",
      "year_built     675 non-null float16\n",
      "floor_count    355 non-null float16\n",
      "dtypes: float16(2), int16(1), int32(1), int8(2)\n",
      "memory usage: 17.1 KB\n",
      "Buildings data: ['site_id', 'building_id', 'primary_use', 'square_feet', 'year_built', 'floor_count'] None\n",
      "####################\n",
      "<class 'pandas.core.frame.DataFrame'>\n",
      "RangeIndex: 139773 entries, 0 to 139772\n",
      "Data columns (total 9 columns):\n",
      "site_id               139773 non-null int8\n",
      "timestamp             139773 non-null datetime64[ns]\n",
      "air_temperature       139718 non-null float64\n",
      "cloud_coverage        70600 non-null float16\n",
      "dew_temperature       139660 non-null float64\n",
      "precip_depth_1_hr     89484 non-null float16\n",
      "sea_level_pressure    129155 non-null float64\n",
      "wind_direction        133505 non-null float16\n",
      "wind_speed            139469 non-null float64\n",
      "dtypes: datetime64[ns](1), float16(3), float64(4), int8(1)\n",
      "memory usage: 6.3 MB\n",
      "Weather data: ['site_id', 'timestamp', 'air_temperature', 'cloud_coverage', 'dew_temperature', 'precip_depth_1_hr', 'sea_level_pressure', 'wind_direction', 'wind_speed'] None\n",
      "####################\n"
     ]
    }
   ],
   "source": [
    "########################### Data Check\n",
    "#################################################################################\n",
    "print('Main data:', list(train_df), train_df.info())\n",
    "print('#'*20)\n",
    "\n",
    "print('Buildings data:',list(building_df), building_df.info())\n",
    "print('#'*20)\n",
    "\n",
    "print('Weather data:',list(train_weather_df), train_weather_df.info())\n",
    "print('#'*20)"
   ]
  },
  {
   "cell_type": "code",
   "execution_count": 23,
   "metadata": {},
   "outputs": [],
   "source": [
    "########################### Export (using same names as in competition dataset)\n",
    "#################################################################################\n",
    "train_df.to_pickle('../input/as-data-minification/train.pkl')\n",
    "test_df.to_pickle('../input/as-data-minification/test.pkl')\n",
    "\n",
    "building_df.to_pickle('../input/as-data-minification/building_metadata.pkl')\n",
    "\n",
    "train_weather_df.to_pickle('../input/as-data-minification/weather_train.pkl')\n",
    "test_weather_df.to_pickle('../input/as-data-minification/weather_test.pkl')"
   ]
  }
 ],
 "metadata": {
  "kernelspec": {
   "display_name": "Python 3",
   "language": "python",
   "name": "python3"
  },
  "language_info": {
   "codemirror_mode": {
    "name": "ipython",
    "version": 3
   },
   "file_extension": ".py",
   "mimetype": "text/x-python",
   "name": "python",
   "nbconvert_exporter": "python",
   "pygments_lexer": "ipython3",
   "version": "3.7.4"
  }
 },
 "nbformat": 4,
 "nbformat_minor": 1
}
