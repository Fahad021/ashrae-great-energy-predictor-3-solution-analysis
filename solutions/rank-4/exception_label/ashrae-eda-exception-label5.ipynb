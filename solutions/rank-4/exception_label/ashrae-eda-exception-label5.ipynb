{
 "cells": [
  {
   "cell_type": "markdown",
   "metadata": {},
   "source": [
    "经验证：\n",
    "* 1、test的时间顺序并不是全部都是时序的，排行榜是按时序排列后取前0.78为public，后0.22为private，所以以后的工作重心将落到train的后44%\n",
    "* 2、测试集中私有部分从2018-07-24 09:00:00开始，有9173472条数据，包含全部的building_id\n",
    "* 3、测试集中公共部分与私有部分对应的数据从2017-07-24 09:00:00开始，有9174900条数据，包含全部的building_id\n",
    "* 4、重点为训练集中2017-07-24 09:00:00后的数据建模，有9003109条数据，占训练集0.445\n",
    "* 5、为防止测试集中不评分的那部分不知道算不算在0.22里面，也为防止一定的过拟合，可以考虑重点关注2017-07月后的训练数据，占0.51\n",
    "* 6、验证EDA1后，发现0-104号建筑5月20日前的大量为0的数据是有误的，训练集不应该对这部分数据进行过拟合，删除这部分数据训练对提高public评分很有帮助，遗憾的是，private并不包含这类数据\n",
    "* 7、猜想某些大范围为0的数据都同0-104号一样是有误的，重点验证7月后的该种数据，测试是否能提高public"
   ]
  },
  {
   "cell_type": "code",
   "execution_count": 1,
   "metadata": {
    "ExecuteTime": {
     "end_time": "2020-05-19T15:48:18.116448Z",
     "start_time": "2020-05-19T15:48:17.267177Z"
    },
    "_cell_guid": "b1076dfc-b9ad-4769-8c92-a6c4dae69d19",
    "_uuid": "8f2839f25d086af736a60e9eeb907d3b93b6e0e5"
   },
   "outputs": [
    {
     "data": {
      "text/html": [
       "        <script type=\"text/javascript\">\n",
       "        window.PlotlyConfig = {MathJaxConfig: 'local'};\n",
       "        if (window.MathJax) {MathJax.Hub.Config({SVG: {font: \"STIX-Web\"}});}\n",
       "        if (typeof require !== 'undefined') {\n",
       "        require.undef(\"plotly\");\n",
       "        requirejs.config({\n",
       "            paths: {\n",
       "                'plotly': ['https://cdn.plot.ly/plotly-latest.min']\n",
       "            }\n",
       "        });\n",
       "        require(['plotly'], function(Plotly) {\n",
       "            window._Plotly = Plotly;\n",
       "        });\n",
       "        }\n",
       "        </script>\n",
       "        "
      ]
     },
     "metadata": {},
     "output_type": "display_data"
    },
    {
     "data": {
      "text/html": [
       "        <script type=\"text/javascript\">\n",
       "        window.PlotlyConfig = {MathJaxConfig: 'local'};\n",
       "        if (window.MathJax) {MathJax.Hub.Config({SVG: {font: \"STIX-Web\"}});}\n",
       "        if (typeof require !== 'undefined') {\n",
       "        require.undef(\"plotly\");\n",
       "        requirejs.config({\n",
       "            paths: {\n",
       "                'plotly': ['https://cdn.plot.ly/plotly-latest.min']\n",
       "            }\n",
       "        });\n",
       "        require(['plotly'], function(Plotly) {\n",
       "            window._Plotly = Plotly;\n",
       "        });\n",
       "        }\n",
       "        </script>\n",
       "        "
      ]
     },
     "metadata": {},
     "output_type": "display_data"
    },
    {
     "data": {
      "text/html": [
       "        <script type=\"text/javascript\">\n",
       "        window.PlotlyConfig = {MathJaxConfig: 'local'};\n",
       "        if (window.MathJax) {MathJax.Hub.Config({SVG: {font: \"STIX-Web\"}});}\n",
       "        if (typeof require !== 'undefined') {\n",
       "        require.undef(\"plotly\");\n",
       "        requirejs.config({\n",
       "            paths: {\n",
       "                'plotly': ['https://cdn.plot.ly/plotly-latest.min']\n",
       "            }\n",
       "        });\n",
       "        require(['plotly'], function(Plotly) {\n",
       "            window._Plotly = Plotly;\n",
       "        });\n",
       "        }\n",
       "        </script>\n",
       "        "
      ]
     },
     "metadata": {},
     "output_type": "display_data"
    },
    {
     "name": "stdout",
     "output_type": "stream",
     "text": [
      "../input/ashrae-energy-prediction/train.csv\n",
      "../input/ashrae-energy-prediction/sample_submission.csv\n",
      "../input/ashrae-energy-prediction/building_metadata.csv\n",
      "../input/ashrae-energy-prediction/weather_train.csv\n",
      "../input/ashrae-energy-prediction/weather_test.csv\n",
      "../input/ashrae-energy-prediction/ashrae-energy-prediction.zip\n",
      "../input/ashrae-energy-prediction/test.csv\n"
     ]
    }
   ],
   "source": [
    "import numpy as np # linear algebra\n",
    "import pandas as pd # data processing, CSV file I/O (e.g. pd.read_csv)\n",
    "# Suppress warnings \n",
    "import warnings\n",
    "warnings.filterwarnings('ignore')\n",
    "import gc\n",
    "\n",
    "\n",
    "# matplotlib and seaborn for plotting\n",
    "import matplotlib.pyplot as plt\n",
    "%matplotlib inline\n",
    "\n",
    "import seaborn as sns\n",
    "import matplotlib.patches as patches\n",
    "\n",
    "from plotly import tools, subplots\n",
    "import plotly.offline as py\n",
    "py.init_notebook_mode(connected=True)\n",
    "import plotly.graph_objs as go\n",
    "import plotly.express as px\n",
    "pd.set_option('max_columns', 100)\n",
    "\n",
    "\n",
    "py.init_notebook_mode(connected=True)\n",
    "from plotly.offline import init_notebook_mode, iplot\n",
    "init_notebook_mode(connected=True)\n",
    "import plotly.graph_objs as go\n",
    "\n",
    "# Input data files are available in the \"../input/\" directory.\n",
    "# For example, running this (by clicking run or pressing Shift+Enter) will list all files under the input directory\n",
    "\n",
    "import os\n",
    "for dirname, _, filenames in os.walk('../input'):\n",
    "    for filename in filenames:\n",
    "        print(os.path.join(dirname, filename))"
   ]
  },
  {
   "cell_type": "code",
   "execution_count": 2,
   "metadata": {
    "ExecuteTime": {
     "end_time": "2020-05-19T15:48:36.035107Z",
     "start_time": "2020-05-19T15:48:18.117708Z"
    },
    "_cell_guid": "79c7e3d0-c299-4dcb-8224-4455121ee9b0",
    "_uuid": "d629ff2d2480ee46fbb7e2d37f6b5fab8052498a"
   },
   "outputs": [],
   "source": [
    "# 导入数据, 只有train 和 test\n",
    "train = pd.read_csv('../input/ashrae-energy-prediction/train.csv')\n",
    "test = pd.read_csv('../input/ashrae-energy-prediction/test.csv')"
   ]
  },
  {
   "cell_type": "code",
   "execution_count": 3,
   "metadata": {
    "ExecuteTime": {
     "end_time": "2020-05-19T15:48:44.030608Z",
     "start_time": "2020-05-19T15:48:36.036674Z"
    }
   },
   "outputs": [],
   "source": [
    "# 时间戳转换日期\n",
    "train[\"timestamp\"] = pd.to_datetime(train[\"timestamp\"])\n",
    "test[\"timestamp\"] = pd.to_datetime(test[\"timestamp\"])"
   ]
  },
  {
   "cell_type": "code",
   "execution_count": 4,
   "metadata": {
    "ExecuteTime": {
     "end_time": "2020-05-19T15:48:44.465746Z",
     "start_time": "2020-05-19T15:48:44.032054Z"
    }
   },
   "outputs": [
    {
     "data": {
      "text/plain": [
       "31"
      ]
     },
     "execution_count": 4,
     "metadata": {},
     "output_type": "execute_result"
    }
   ],
   "source": [
    "train_exception = pd.read_pickle('../output/fork-of-ashrae-eda-exception-label2/train_exception.pkl')\n",
    "train['exception'] = train_exception.exception.values\n",
    "del train_exception\n",
    "gc.collect()"
   ]
  },
  {
   "cell_type": "code",
   "execution_count": 5,
   "metadata": {
    "ExecuteTime": {
     "end_time": "2020-05-19T15:48:45.096468Z",
     "start_time": "2020-05-19T15:48:44.466894Z"
    }
   },
   "outputs": [
    {
     "data": {
      "text/plain": [
       "20"
      ]
     },
     "execution_count": 5,
     "metadata": {},
     "output_type": "execute_result"
    }
   ],
   "source": [
    "test_exception = pd.read_pickle('../output/fork-of-ashrae-eda-exception-label2/test_exception.pkl')\n",
    "test['exception'] = test_exception.exception.values\n",
    "del test_exception\n",
    "gc.collect()"
   ]
  },
  {
   "cell_type": "code",
   "execution_count": 6,
   "metadata": {
    "ExecuteTime": {
     "end_time": "2020-05-19T15:48:45.137916Z",
     "start_time": "2020-05-19T15:48:45.097575Z"
    }
   },
   "outputs": [
    {
     "data": {
      "text/plain": [
       "20"
      ]
     },
     "execution_count": 6,
     "metadata": {},
     "output_type": "execute_result"
    }
   ],
   "source": [
    "gc.collect()"
   ]
  },
  {
   "cell_type": "code",
   "execution_count": 7,
   "metadata": {
    "ExecuteTime": {
     "end_time": "2020-05-19T15:48:45.141074Z",
     "start_time": "2020-05-19T15:48:45.139022Z"
    }
   },
   "outputs": [],
   "source": [
    "# 1413个建筑有0，498个建筑有1，324个建筑有2，145个建筑有3\n",
    "# [0,1]有132个，[0,2]64，[0,3]21, [1,2]13\n",
    "# [0,1,2]220, [0,1,3]111\n",
    "# [0,1,2,3]13"
   ]
  },
  {
   "cell_type": "code",
   "execution_count": 8,
   "metadata": {
    "ExecuteTime": {
     "end_time": "2020-05-19T15:48:45.190032Z",
     "start_time": "2020-05-19T15:48:45.142816Z"
    }
   },
   "outputs": [
    {
     "data": {
      "text/plain": [
       "40"
      ]
     },
     "execution_count": 8,
     "metadata": {},
     "output_type": "execute_result"
    }
   ],
   "source": [
    "gc.collect()"
   ]
  },
  {
   "cell_type": "code",
   "execution_count": 9,
   "metadata": {
    "ExecuteTime": {
     "end_time": "2020-05-19T15:48:45.193277Z",
     "start_time": "2020-05-19T15:48:45.191543Z"
    }
   },
   "outputs": [],
   "source": [
    "# (0,0)到(104,0)从5月中旬才开始有读数, 其中有些在开始有读数之前有一些读数，不知什么情况\n",
    "# 猜测该地区出现了大面积的电表故障或者大面积的电力故障，其中有极少建筑幸存或用于检修测试，所以有少量读数，5月中旬后修好才恢复该地区正常用电或读表"
   ]
  },
  {
   "cell_type": "code",
   "execution_count": 10,
   "metadata": {
    "ExecuteTime": {
     "end_time": "2020-05-19T15:48:45.383201Z",
     "start_time": "2020-05-19T15:48:45.194332Z"
    }
   },
   "outputs": [
    {
     "data": {
      "text/plain": [
       " 0    17761403\n",
       "-1     1924531\n",
       " 1      365029\n",
       "-2       85465\n",
       " 2       79672\n",
       "Name: exception, dtype: int64"
      ]
     },
     "execution_count": 10,
     "metadata": {},
     "output_type": "execute_result"
    }
   ],
   "source": [
    "train.exception.value_counts(dropna=False)"
   ]
  },
  {
   "cell_type": "code",
   "execution_count": 11,
   "metadata": {
    "ExecuteTime": {
     "end_time": "2020-05-19T15:48:45.838460Z",
     "start_time": "2020-05-19T15:48:45.384337Z"
    }
   },
   "outputs": [
    {
     "data": {
      "text/plain": [
       " 0.0    35435620\n",
       "-1.0     3920902\n",
       " NaN     1239910\n",
       " 1.0      771806\n",
       "-2.0      170502\n",
       " 2.0      158860\n",
       "Name: exception, dtype: int64"
      ]
     },
     "execution_count": 11,
     "metadata": {},
     "output_type": "execute_result"
    }
   ],
   "source": [
    "test.exception.value_counts(dropna=False)"
   ]
  },
  {
   "cell_type": "code",
   "execution_count": 12,
   "metadata": {
    "ExecuteTime": {
     "end_time": "2020-05-19T15:48:45.844779Z",
     "start_time": "2020-05-19T15:48:45.839631Z"
    }
   },
   "outputs": [],
   "source": [
    "def exception_label(bid, meter, start, end):\n",
    "    print(f'标记bid={bid}, meter={meter}异常')\n",
    "    train.loc[(train.building_id == bid)  & (train.meter == meter) & (train.timestamp >= start) & (train.timestamp <= end), 'exception'] = 3\n",
    "    test.loc[(test.building_id == bid)  & (test.meter == meter) & (test.timestamp >= start.replace('2016', '2017')) & (test.timestamp <= end.replace('2016', '2017')), 'exception'] = 3\n",
    "    test.loc[(test.building_id == bid)  & (test.meter == meter) & (test.timestamp >= start.replace('2016', '2018')) & (test.timestamp <= end.replace('2016', '2018')), 'exception'] = 3\n",
    "    gc.collect()"
   ]
  },
  {
   "cell_type": "code",
   "execution_count": 13,
   "metadata": {
    "ExecuteTime": {
     "end_time": "2020-05-19T15:52:45.359341Z",
     "start_time": "2020-05-19T15:48:45.845866Z"
    }
   },
   "outputs": [
    {
     "name": "stdout",
     "output_type": "stream",
     "text": [
      "标记bid=0, meter=0异常\n",
      "标记bid=1, meter=0异常\n",
      "标记bid=2, meter=0异常\n",
      "标记bid=3, meter=0异常\n",
      "标记bid=4, meter=0异常\n",
      "标记bid=5, meter=0异常\n",
      "标记bid=6, meter=0异常\n",
      "标记bid=7, meter=0异常\n",
      "标记bid=8, meter=0异常\n",
      "标记bid=9, meter=0异常\n",
      "标记bid=10, meter=0异常\n",
      "标记bid=11, meter=0异常\n",
      "标记bid=12, meter=0异常\n",
      "标记bid=13, meter=0异常\n",
      "标记bid=14, meter=0异常\n",
      "标记bid=15, meter=0异常\n",
      "标记bid=16, meter=0异常\n",
      "标记bid=17, meter=0异常\n",
      "标记bid=18, meter=0异常\n",
      "标记bid=19, meter=0异常\n",
      "标记bid=20, meter=0异常\n",
      "标记bid=21, meter=0异常\n",
      "标记bid=22, meter=0异常\n",
      "标记bid=23, meter=0异常\n",
      "标记bid=24, meter=0异常\n",
      "标记bid=25, meter=0异常\n",
      "标记bid=26, meter=0异常\n",
      "标记bid=27, meter=0异常\n",
      "标记bid=28, meter=0异常\n",
      "标记bid=30, meter=0异常\n",
      "标记bid=31, meter=0异常\n",
      "标记bid=32, meter=0异常\n",
      "标记bid=33, meter=0异常\n",
      "标记bid=34, meter=0异常\n",
      "标记bid=35, meter=0异常\n",
      "标记bid=36, meter=0异常\n",
      "标记bid=37, meter=0异常\n",
      "标记bid=38, meter=0异常\n",
      "标记bid=39, meter=0异常\n",
      "标记bid=41, meter=0异常\n",
      "标记bid=42, meter=0异常\n",
      "标记bid=43, meter=0异常\n",
      "标记bid=44, meter=0异常\n",
      "标记bid=47, meter=0异常\n",
      "标记bid=48, meter=0异常\n",
      "标记bid=49, meter=0异常\n",
      "标记bid=50, meter=0异常\n",
      "标记bid=51, meter=0异常\n",
      "标记bid=52, meter=0异常\n",
      "标记bid=54, meter=0异常\n",
      "标记bid=55, meter=0异常\n",
      "标记bid=56, meter=0异常\n",
      "标记bid=57, meter=0异常\n",
      "标记bid=58, meter=0异常\n",
      "标记bid=59, meter=0异常\n",
      "标记bid=60, meter=0异常\n",
      "标记bid=61, meter=0异常\n",
      "标记bid=62, meter=0异常\n",
      "标记bid=63, meter=0异常\n",
      "标记bid=64, meter=0异常\n",
      "标记bid=65, meter=0异常\n",
      "标记bid=66, meter=0异常\n",
      "标记bid=67, meter=0异常\n",
      "标记bid=68, meter=0异常\n",
      "标记bid=69, meter=0异常\n",
      "标记bid=70, meter=0异常\n",
      "标记bid=71, meter=0异常\n",
      "标记bid=72, meter=0异常\n",
      "标记bid=73, meter=0异常\n",
      "标记bid=74, meter=0异常\n",
      "标记bid=75, meter=0异常\n",
      "标记bid=76, meter=0异常\n",
      "标记bid=77, meter=0异常\n",
      "标记bid=78, meter=0异常\n",
      "标记bid=79, meter=0异常\n",
      "标记bid=80, meter=0异常\n",
      "标记bid=81, meter=0异常\n",
      "标记bid=82, meter=0异常\n",
      "标记bid=83, meter=0异常\n",
      "标记bid=84, meter=0异常\n",
      "标记bid=85, meter=0异常\n",
      "标记bid=86, meter=0异常\n",
      "标记bid=87, meter=0异常\n",
      "标记bid=88, meter=0异常\n",
      "标记bid=89, meter=0异常\n",
      "标记bid=90, meter=0异常\n",
      "标记bid=91, meter=0异常\n",
      "标记bid=92, meter=0异常\n",
      "标记bid=93, meter=0异常\n",
      "标记bid=94, meter=0异常\n",
      "标记bid=95, meter=0异常\n",
      "标记bid=96, meter=0异常\n",
      "标记bid=97, meter=0异常\n",
      "标记bid=98, meter=0异常\n",
      "标记bid=99, meter=0异常\n",
      "标记bid=100, meter=0异常\n",
      "标记bid=101, meter=0异常\n",
      "标记bid=102, meter=0异常\n",
      "标记bid=103, meter=0异常\n",
      "标记bid=104, meter=0异常\n",
      "标记bid=40, meter=0异常\n",
      "标记bid=45, meter=0异常\n",
      "标记bid=46, meter=0异常\n",
      "标记bid=177, meter=0异常\n",
      "标记bid=269, meter=0异常\n",
      "标记bid=376, meter=0异常\n",
      "标记bid=503, meter=0异常\n",
      "标记bid=537, meter=0异常\n",
      "标记bid=545, meter=0异常\n",
      "标记bid=681, meter=0异常\n",
      "标记bid=733, meter=0异常\n",
      "标记bid=738, meter=0异常\n",
      "标记bid=738, meter=0异常\n",
      "标记bid=738, meter=0异常\n",
      "标记bid=739, meter=0异常\n",
      "标记bid=848, meter=0异常\n",
      "标记bid=909, meter=0异常\n",
      "标记bid=929, meter=0异常\n",
      "标记bid=986, meter=0异常\n",
      "标记bid=997, meter=0异常\n",
      "标记bid=1240, meter=0异常\n",
      "标记bid=1265, meter=0异常\n",
      "标记bid=1303, meter=0异常\n",
      "标记bid=278, meter=0异常\n",
      "标记bid=817, meter=0异常\n",
      "标记bid=868, meter=0异常\n"
     ]
    }
   ],
   "source": [
    "for bid in range(105):\n",
    "    if bid not in [29, 53, 40, 45, 46]:\n",
    "        exception_label(bid, 0, '2016-01-01 00:00:00', '2016-05-20 17:00:00')\n",
    "        \n",
    "exception_label(40, 0, '2016-01-01 00:00:00', '2016-06-03 10:00:00')\n",
    "exception_label(45, 0, '2016-01-01 00:00:00', '2016-06-30 12:00:00')\n",
    "exception_label(46, 0, '2016-03-01 15:00:00', '2016-05-20 17:00:00')\n",
    "\n",
    "exception_label(177, 0, '2016-06-03 23:00:00', '2016-06-25 00:00:00')\n",
    "\n",
    "exception_label(269, 0, '2016-06-03 23:00:00', '2016-06-25 00:00:00')\n",
    "\n",
    "exception_label(376, 0, '2016-05-22 23:00:00', '2016-05-31 23:00:00')\n",
    "\n",
    "exception_label(503, 0, '2016-01-21 18:00:00', '2016-01-29 09:00:00')\n",
    "\n",
    "exception_label(537, 0, '2016-07-16 00:00:00', '2016-07-25 15:00:00')\n",
    "\n",
    "exception_label(545, 0, '2016-01-17 01:00:00', '2016-02-10 00:00:00')\n",
    "\n",
    "exception_label(681, 0, '2016-01-01 00:00:00', '2016-04-25 23:00:00')\n",
    "\n",
    "exception_label(733, 0, '2016-05-29 01:00:00', '2016-06-20 23:00:00')\n",
    "\n",
    "exception_label(738, 0, '2016-10-15 01:00:00', '2016-10-22 23:00:00')\n",
    "exception_label(738, 0, '2016-10-24 01:00:00', '2016-10-30 23:00:00')\n",
    "exception_label(738, 0, '2016-11-01 01:00:00', '2016-11-13 23:00:00')\n",
    "\n",
    "exception_label(739, 0, '2016-09-21 01:00:00', '2016-10-02 23:00:00')\n",
    "\n",
    "exception_label(848, 0, '2016-01-15 00:00:00', '2016-03-19 23:00:00')\n",
    "\n",
    "exception_label(909, 0, '2016-01-01 00:00:00', '2016-02-02 11:00:00')\n",
    "\n",
    "exception_label(929, 0, '2016-01-22 11:00:00', '2016-02-02 07:00:00')\n",
    "\n",
    "exception_label(986, 0, '2016-01-01 00:00:00', '2016-02-17 07:00:00')\n",
    "\n",
    "exception_label(997, 0, '2016-01-01 00:00:00', '2016-06-23 07:00:00')\n",
    "\n",
    "# exception_label(1066, 0, '2016-02-13 20:00:00', '2016-02-29 11:00:00')\n",
    "train.loc[(train.building_id == 1066)  & (train.meter == 0) & (train.timestamp >= '2016-02-13 20:00:00') & (train.timestamp <= '2016-02-29 11:00:00'), 'exception'] = 3\n",
    "test.loc[(test.building_id == 1066)  & (test.meter == 0) & (test.timestamp >= '2017-02-13 20:00:00') & (test.timestamp <= '2017-02-28 23:00:00'), 'exception'] = 3\n",
    "test.loc[(test.building_id == 1066)  & (test.meter == 0) & (test.timestamp >= '2018-02-13 20:00:00') & (test.timestamp <= '2018-02-28 23:00:00'), 'exception'] = 3\n",
    "\n",
    "exception_label(1240, 0, '2016-04-20 23:00:00', '2016-05-02 11:00:00')\n",
    "\n",
    "exception_label(1265, 0, '2016-05-05 06:00:00', '2016-05-26 14:00:00')\n",
    "\n",
    "exception_label(1303, 0, '2016-01-26 01:00:00', '2016-03-21 17:00:00')\n",
    "\n",
    "\n",
    "exception_label(278, 0, '2016-11-27 20:00:00', '2016-12-06 07:00:00')\n",
    "\n",
    "exception_label(817, 0, '2016-07-18 00:00:00', '2016-08-17 23:00:00')\n",
    "\n",
    "exception_label(868, 0, '2016-07-23 00:00:00', '2016-08-05 23:00:00')"
   ]
  },
  {
   "cell_type": "code",
   "execution_count": 14,
   "metadata": {
    "ExecuteTime": {
     "end_time": "2020-05-19T15:52:45.401381Z",
     "start_time": "2020-05-19T15:52:45.360531Z"
    }
   },
   "outputs": [
    {
     "data": {
      "text/plain": [
       "20"
      ]
     },
     "execution_count": 14,
     "metadata": {},
     "output_type": "execute_result"
    }
   ],
   "source": [
    "gc.collect()"
   ]
  },
  {
   "cell_type": "code",
   "execution_count": 15,
   "metadata": {
    "ExecuteTime": {
     "end_time": "2020-05-19T15:54:31.957992Z",
     "start_time": "2020-05-19T15:52:45.402460Z"
    }
   },
   "outputs": [
    {
     "name": "stdout",
     "output_type": "stream",
     "text": [
      "CPU times: user 1min, sys: 45.9 s, total: 1min 46s\n",
      "Wall time: 1min 46s\n"
     ]
    }
   ],
   "source": [
    "%%time\n",
    "for bid in train[(train.exception == 3) & (train.meter == 0)].building_id.unique():\n",
    "    train.loc[(train.building_id == bid) & (train.meter == 0) & (train.exception == 0), 'exception'] = -3\n",
    "    test.loc[(test.building_id == bid) & (test.meter == 0) & (test.exception != 3), 'exception'] = -3"
   ]
  },
  {
   "cell_type": "code",
   "execution_count": 16,
   "metadata": {
    "ExecuteTime": {
     "end_time": "2020-05-19T15:54:32.144373Z",
     "start_time": "2020-05-19T15:54:31.959216Z"
    }
   },
   "outputs": [
    {
     "data": {
      "text/plain": [
       " 0    16686286\n",
       "-1     1924531\n",
       "-3      713041\n",
       " 1      365029\n",
       " 3      363028\n",
       "-2       85465\n",
       " 2       78720\n",
       "Name: exception, dtype: int64"
      ]
     },
     "execution_count": 16,
     "metadata": {},
     "output_type": "execute_result"
    }
   ],
   "source": [
    "train.exception.value_counts(dropna=False)"
   ]
  },
  {
   "cell_type": "code",
   "execution_count": 17,
   "metadata": {
    "ExecuteTime": {
     "end_time": "2020-05-19T15:54:32.605542Z",
     "start_time": "2020-05-19T15:54:32.145508Z"
    }
   },
   "outputs": [
    {
     "data": {
      "text/plain": [
       " 0.0    33291288\n",
       "-1.0     3920902\n",
       "-3.0     1463098\n",
       " NaN     1228508\n",
       " 1.0      771806\n",
       " 3.0      726902\n",
       "-2.0      147834\n",
       " 2.0      147262\n",
       "Name: exception, dtype: int64"
      ]
     },
     "execution_count": 17,
     "metadata": {},
     "output_type": "execute_result"
    }
   ],
   "source": [
    "test.exception.value_counts(dropna=False)"
   ]
  },
  {
   "cell_type": "code",
   "execution_count": 18,
   "metadata": {
    "ExecuteTime": {
     "end_time": "2020-05-19T15:55:36.521239Z",
     "start_time": "2020-05-19T15:54:32.606716Z"
    }
   },
   "outputs": [
    {
     "name": "stdout",
     "output_type": "stream",
     "text": [
      "标记bid=43, meter=1异常\n",
      "标记bid=43, meter=1异常\n",
      "标记bid=60, meter=1异常\n",
      "标记bid=60, meter=1异常\n",
      "标记bid=98, meter=1异常\n",
      "标记bid=172, meter=1异常\n",
      "标记bid=190, meter=1异常\n",
      "标记bid=190, meter=1异常\n",
      "标记bid=191, meter=1异常\n",
      "标记bid=231, meter=1异常\n",
      "标记bid=235, meter=1异常\n",
      "标记bid=236, meter=1异常\n",
      "标记bid=236, meter=1异常\n",
      "标记bid=240, meter=1异常\n",
      "标记bid=264, meter=1异常\n",
      "标记bid=880, meter=1异常\n",
      "标记bid=880, meter=1异常\n",
      "标记bid=1227, meter=1异常\n",
      "标记bid=1227, meter=1异常\n",
      "标记bid=1239, meter=1异常\n",
      "标记bid=1240, meter=1异常\n",
      "标记bid=1246, meter=1异常\n",
      "标记bid=1268, meter=1异常\n",
      "标记bid=1276, meter=1异常\n",
      "标记bid=1290, meter=1异常\n",
      "标记bid=1303, meter=1异常\n",
      "标记bid=1349, meter=1异常\n",
      "标记bid=1349, meter=1异常\n",
      "标记bid=1349, meter=1异常\n",
      "标记bid=1349, meter=1异常\n",
      "标记bid=1363, meter=1异常\n",
      "标记bid=175, meter=1异常\n",
      "标记bid=1307, meter=1异常\n"
     ]
    }
   ],
   "source": [
    "exception_label(43, 1, '2016-04-04 18:00:00', '2016-05-01 18:00:00')\n",
    "exception_label(43, 1, '2016-05-01 20:00:00', '2016-06-06 11:00:00')\n",
    "\n",
    "exception_label(60, 1, '2016-01-01 00:00:00', '2016-04-23 21:00:00')\n",
    "exception_label(60, 1, '2016-04-23 23:00:00', '2016-04-29 10:00:00')\n",
    "\n",
    "exception_label(98, 1, '2016-05-04 17:00:00', '2016-06-15 11:00:00')\n",
    "\n",
    "exception_label(172, 1, '2016-03-12 00:00:00', '2016-03-21 09:00:00')\n",
    "\n",
    "exception_label(190, 1, '2016-01-01 00:00:00', '2016-02-08 09:00:00')\n",
    "exception_label(190, 1, '2016-12-02 20:00:00', '2016-12-09 11:00:00')\n",
    "\n",
    "exception_label(191, 1, '2016-04-02 09:00:00', '2016-04-11 04:00:00')\n",
    "\n",
    "exception_label(231, 1, '2016-03-23 13:00:00', '2016-04-04 09:00:00')\n",
    "\n",
    "# 235 之前只处理了最后的，现在的处理可以先不处理，先比较，或者想一想处理的时候怎么验证\n",
    "exception_label(235, 1, '2016-05-18 06:00:00', '2016-06-23 04:00:00')\n",
    "\n",
    "exception_label(236, 1, '2016-01-24 01:00:00', '2016-03-12 22:00:00')\n",
    "exception_label(236, 1, '2016-03-16 16:00:00', '2016-03-21 12:00:00')\n",
    "\n",
    "exception_label(240, 1, '2016-01-01 00:00:00', '2016-01-08 09:00:00')\n",
    "\n",
    "exception_label(264, 1, '2016-01-01 00:00:00', '2016-02-08 10:00:00')\n",
    "\n",
    "exception_label(880, 1, '2016-03-18 22:00:00', '2016-05-02 08:00:00')\n",
    "exception_label(880, 1, '2016-05-02 10:00:00', '2016-05-18 10:00:00')\n",
    "\n",
    "exception_label(1227, 1, '2016-02-10 19:00:00', '2016-02-26 14:00:00')\n",
    "exception_label(1227, 1, '2016-04-09 20:00:00', '2016-04-18 19:00:00')\n",
    "\n",
    "exception_label(1239, 1, '2016-03-19 03:00:00', '2016-03-27 16:00:00')\n",
    "\n",
    "exception_label(1240, 1, '2016-04-20 23:00:00', '2016-05-02 11:00:00')\n",
    "\n",
    "exception_label(1246, 1, '2016-01-01 00:00:00', '2016-03-02 19:00:00')\n",
    "\n",
    "exception_label(1268, 1, '2016-01-19 13:00:00', '2016-01-27 09:00:00')\n",
    "# exception_label(1268, 1, '2016-02-16 03:00:00', '2016-02-29 15:00:00')\n",
    "train.loc[(train.building_id == 1268)  & (train.meter == 1) & (train.timestamp >= '2016-02-16 03:00:00') & (train.timestamp <= '2016-02-29 15:00:00'), 'exception'] = 3\n",
    "test.loc[(test.building_id == 1268)  & (test.meter == 1) & (test.timestamp >= '2017-02-16 03:00:00') & (test.timestamp <= '2017-02-28 23:00:00'), 'exception'] = 3\n",
    "test.loc[(test.building_id == 1268)  & (test.meter == 1) & (test.timestamp >= '2018-02-16 03:00:00') & (test.timestamp <= '2018-02-28 23:00:00'), 'exception'] = 3\n",
    "\n",
    "exception_label(1276, 1, '2016-01-01 00:00:00', '2016-01-31 18:00:00')\n",
    "\n",
    "exception_label(1290, 1, '2016-01-01 00:00:00', '2016-01-31 18:00:00')\n",
    "\n",
    "exception_label(1303, 1, '2016-01-30 20:00:00', '2016-02-12 02:00:00')\n",
    "\n",
    "exception_label(1349, 1, '2016-01-05 22:00:00', '2016-01-21 09:00:00')\n",
    "exception_label(1349, 1, '2016-01-21 17:00:00', '2016-01-27 11:00:00')\n",
    "exception_label(1349, 1, '2016-01-27 20:00:00', '2016-04-11 11:00:00')\n",
    "exception_label(1349, 1, '2016-04-11 22:00:00', '2016-04-26 13:00:00')\n",
    "\n",
    "exception_label(1363, 1, '2016-04-14 09:00:00', '2016-04-21 06:00:00')\n",
    "\n",
    "\n",
    "exception_label(175, 1, '2016-12-22 19:00:00', '2016-12-31 23:00:00')\n",
    "\n",
    "exception_label(1307, 1, '2016-12-17 06:00:00', '2016-12-31 23:00:00')"
   ]
  },
  {
   "cell_type": "code",
   "execution_count": 19,
   "metadata": {
    "ExecuteTime": {
     "end_time": "2020-05-19T15:55:57.056316Z",
     "start_time": "2020-05-19T15:55:36.522430Z"
    }
   },
   "outputs": [
    {
     "name": "stdout",
     "output_type": "stream",
     "text": [
      "CPU times: user 11.6 s, sys: 8.91 s, total: 20.5 s\n",
      "Wall time: 20.5 s\n"
     ]
    }
   ],
   "source": [
    "%%time\n",
    "for bid in train[(train.exception == 3) & (train.meter == 1)].building_id.unique():\n",
    "    train.loc[(train.building_id == bid) & (train.meter == 1) & (train.exception == 0), 'exception'] = -3\n",
    "    test.loc[(test.building_id == bid) & (test.meter == 1) & (test.exception != 3), 'exception'] = -3"
   ]
  },
  {
   "cell_type": "code",
   "execution_count": 20,
   "metadata": {
    "ExecuteTime": {
     "end_time": "2020-05-19T15:55:57.242538Z",
     "start_time": "2020-05-19T15:55:57.057541Z"
    }
   },
   "outputs": [
    {
     "data": {
      "text/plain": [
       " 0    16495815\n",
       "-1     1923669\n",
       "-3      887630\n",
       " 3      379772\n",
       " 1      365029\n",
       "-2       85465\n",
       " 2       78720\n",
       "Name: exception, dtype: int64"
      ]
     },
     "execution_count": 20,
     "metadata": {},
     "output_type": "execute_result"
    }
   ],
   "source": [
    "train.exception.value_counts(dropna=False)"
   ]
  },
  {
   "cell_type": "code",
   "execution_count": 21,
   "metadata": {
    "ExecuteTime": {
     "end_time": "2020-05-19T15:55:57.704820Z",
     "start_time": "2020-05-19T15:55:57.243687Z"
    }
   },
   "outputs": [
    {
     "data": {
      "text/plain": [
       " 0.0    32911252\n",
       "-1.0     3904132\n",
       "-3.0     1843538\n",
       " NaN     1205584\n",
       " 1.0      771056\n",
       " 3.0      766942\n",
       "-2.0      147834\n",
       " 2.0      147262\n",
       "Name: exception, dtype: int64"
      ]
     },
     "execution_count": 21,
     "metadata": {},
     "output_type": "execute_result"
    }
   ],
   "source": [
    "test.exception.value_counts(dropna=False)"
   ]
  },
  {
   "cell_type": "code",
   "execution_count": 22,
   "metadata": {
    "ExecuteTime": {
     "end_time": "2020-05-19T15:56:25.937946Z",
     "start_time": "2020-05-19T15:55:57.705971Z"
    }
   },
   "outputs": [
    {
     "name": "stdout",
     "output_type": "stream",
     "text": [
      "标记bid=751, meter=2异常\n",
      "标记bid=766, meter=2异常\n",
      "标记bid=770, meter=2异常\n",
      "标记bid=774, meter=2异常\n",
      "标记bid=876, meter=2异常\n",
      "标记bid=886, meter=2异常\n",
      "标记bid=895, meter=2异常\n",
      "标记bid=929, meter=2异常\n",
      "标记bid=932, meter=2异常\n",
      "标记bid=961, meter=2异常\n",
      "标记bid=972, meter=2异常\n",
      "标记bid=1176, meter=2异常\n",
      "标记bid=1189, meter=2异常\n",
      "标记bid=1238, meter=2异常\n",
      "标记bid=1303, meter=2异常\n"
     ]
    }
   ],
   "source": [
    "exception_label(751, 2, '2016-01-01 00:00:00', '2016-02-03 13:00:00')\n",
    "\n",
    "exception_label(766, 2, '2016-01-01 00:00:00', '2016-02-03 13:00:00')\n",
    "\n",
    "exception_label(770, 2, '2016-01-08 12:00:00', '2016-02-03 13:00:00')\n",
    "\n",
    "exception_label(774, 2, '2016-01-01 00:00:00', '2016-02-11 08:00:00')\n",
    "\n",
    "exception_label(876, 2, '2016-04-07 15:00:00', '2016-05-16 07:00:00')\n",
    "\n",
    "exception_label(886, 2, '2016-01-01 00:00:00', '2016-01-26 08:00:00')\n",
    "\n",
    "exception_label(895, 2, '2016-01-12 16:00:00', '2016-04-27 08:00:00')\n",
    "\n",
    "exception_label(929, 2, '2016-01-22 11:00:00', '2016-02-02 07:00:00')\n",
    "\n",
    "exception_label(932, 2, '2016-02-04 09:00:00', '2016-04-28 09:00:00')\n",
    "\n",
    "exception_label(961, 2, '2016-06-17 09:00:00', '2016-07-05 17:00:00')\n",
    "\n",
    "exception_label(972, 2, '2016-03-01 10:00:00', '2016-06-22 09:00:00')\n",
    "\n",
    "exception_label(1176, 2, '2016-01-01 00:00:00', '2016-02-10 15:00:00')\n",
    "\n",
    "exception_label(1189, 2, '2016-01-01 00:00:00', '2016-02-10 15:00:00')\n",
    "\n",
    "exception_label(1238, 2, '2016-01-20 15:00:00', '2016-05-26 19:00:00')\n",
    "\n",
    "exception_label(1303, 2, '2016-01-15 12:00:00', '2016-06-06 18:00:00')"
   ]
  },
  {
   "cell_type": "code",
   "execution_count": 23,
   "metadata": {
    "ExecuteTime": {
     "end_time": "2020-05-19T15:56:38.786301Z",
     "start_time": "2020-05-19T15:56:25.940138Z"
    }
   },
   "outputs": [
    {
     "name": "stdout",
     "output_type": "stream",
     "text": [
      "CPU times: user 7.36 s, sys: 5.48 s, total: 12.8 s\n",
      "Wall time: 12.8 s\n"
     ]
    }
   ],
   "source": [
    "%%time\n",
    "for bid in train[(train.exception == 3) & (train.meter == 2)].building_id.unique():\n",
    "    train.loc[(train.building_id == bid) & (train.meter == 2) & (train.exception == 0), 'exception'] = -3\n",
    "    test.loc[(test.building_id == bid) & (test.meter == 2) & (test.exception != 3), 'exception'] = -3"
   ]
  },
  {
   "cell_type": "code",
   "execution_count": 24,
   "metadata": {
    "ExecuteTime": {
     "end_time": "2020-05-19T15:56:38.972526Z",
     "start_time": "2020-05-19T15:56:38.787680Z"
    }
   },
   "outputs": [
    {
     "data": {
      "text/plain": [
       " 0    16364143\n",
       "-1     1923669\n",
       "-3      998165\n",
       " 3      400909\n",
       " 1      365029\n",
       "-2       85465\n",
       " 2       78720\n",
       "Name: exception, dtype: int64"
      ]
     },
     "execution_count": 24,
     "metadata": {},
     "output_type": "execute_result"
    }
   ],
   "source": [
    "train.exception.value_counts(dropna=False)"
   ]
  },
  {
   "cell_type": "code",
   "execution_count": 25,
   "metadata": {
    "ExecuteTime": {
     "end_time": "2020-05-19T15:56:39.435047Z",
     "start_time": "2020-05-19T15:56:38.973672Z"
    }
   },
   "outputs": [
    {
     "data": {
      "text/plain": [
       " 0.0    32648628\n",
       "-1.0     3904132\n",
       "-3.0     2064168\n",
       " NaN     1205408\n",
       " 3.0      809112\n",
       " 1.0      771056\n",
       "-2.0      147834\n",
       " 2.0      147262\n",
       "Name: exception, dtype: int64"
      ]
     },
     "execution_count": 25,
     "metadata": {},
     "output_type": "execute_result"
    }
   ],
   "source": [
    "test.exception.value_counts(dropna=False)"
   ]
  },
  {
   "cell_type": "code",
   "execution_count": 26,
   "metadata": {
    "ExecuteTime": {
     "end_time": "2020-05-19T15:57:13.305507Z",
     "start_time": "2020-05-19T15:56:39.436170Z"
    }
   },
   "outputs": [
    {
     "name": "stdout",
     "output_type": "stream",
     "text": [
      "标记bid=163, meter=3异常\n",
      "标记bid=167, meter=3异常\n",
      "标记bid=171, meter=3异常\n",
      "标记bid=200, meter=3异常\n",
      "标记bid=279, meter=3异常\n",
      "标记bid=279, meter=3异常\n",
      "标记bid=287, meter=3异常\n",
      "标记bid=287, meter=3异常\n",
      "标记bid=287, meter=3异常\n",
      "标记bid=1227, meter=3异常\n",
      "标记bid=1227, meter=3异常\n",
      "标记bid=1235, meter=3异常\n",
      "标记bid=1235, meter=3异常\n",
      "标记bid=1240, meter=3异常\n",
      "标记bid=1241, meter=3异常\n",
      "标记bid=1244, meter=3异常\n",
      "标记bid=1244, meter=3异常\n",
      "标记bid=1246, meter=3异常\n"
     ]
    }
   ],
   "source": [
    "exception_label(163, 3, '2016-01-31 11:00:00', '2016-12-31 22:00:00')\n",
    "\n",
    "exception_label(167, 3, '2016-08-01 00:00:00', '2016-11-21 08:00:00')\n",
    "\n",
    "exception_label(171, 3, '2016-03-18 02:00:00', '2016-12-05 11:00:00')\n",
    "\n",
    "exception_label(200, 3, '2016-03-22 01:00:00', '2016-12-31 23:00:00')\n",
    "\n",
    "exception_label(279, 3, '2016-01-01 00:00:00', '2016-04-23 04:00:00')\n",
    "exception_label(279, 3, '2016-04-25 08:00:00', '2016-12-31 23:00:00')\n",
    "\n",
    "exception_label(287, 3, '2016-01-01 00:00:00', '2016-06-03 20:00:00')\n",
    "exception_label(287, 3, '2016-06-04 01:00:00', '2016-08-30 12:00:00')\n",
    "exception_label(287, 3, '2016-09-01 04:00:00', '2016-12-31 23:00:00')\n",
    "\n",
    "exception_label(1227, 3, '2016-01-01 00:00:00', '2016-02-26 14:00:00')\n",
    "exception_label(1227, 3, '2016-04-09 20:00:00', '2016-04-18 19:00:00')\n",
    "\n",
    "exception_label(1235, 3, '2016-04-04 22:00:00', '2016-04-22 07:00:00')\n",
    "exception_label(1235, 3, '2016-05-02 18:00:00', '2016-05-09 12:00:00')\n",
    "\n",
    "exception_label(1240, 3, '2016-04-20 23:00:00', '2016-05-02 11:00:00')\n",
    "\n",
    "exception_label(1241, 3, '2016-05-22 15:00:00', '2016-12-31 23:00:00')\n",
    "\n",
    "exception_label(1244, 3, '2016-04-04 22:00:00', '2016-05-06 17:00:00')\n",
    "exception_label(1244, 3, '2016-08-23 10:00:00', '2016-08-31 19:00:00')\n",
    "\n",
    "exception_label(1246, 3, '2016-01-01 00:00:00', '2016-03-02 18:00:00')"
   ]
  },
  {
   "cell_type": "code",
   "execution_count": 27,
   "metadata": {
    "ExecuteTime": {
     "end_time": "2020-05-19T15:57:23.608354Z",
     "start_time": "2020-05-19T15:57:13.306681Z"
    }
   },
   "outputs": [
    {
     "name": "stdout",
     "output_type": "stream",
     "text": [
      "CPU times: user 5.79 s, sys: 4.5 s, total: 10.3 s\n",
      "Wall time: 10.3 s\n"
     ]
    }
   ],
   "source": [
    "%%time\n",
    "for bid in train[(train.exception == 3) & (train.meter == 3)].building_id.unique():\n",
    "    train.loc[(train.building_id == bid) & (train.meter == 3) & (train.exception == 0), 'exception'] = -3\n",
    "    test.loc[(test.building_id == bid) & (test.meter == 3) & (test.exception != 3), 'exception'] = -3"
   ]
  },
  {
   "cell_type": "code",
   "execution_count": 28,
   "metadata": {
    "ExecuteTime": {
     "end_time": "2020-05-19T15:57:23.794952Z",
     "start_time": "2020-05-19T15:57:23.609572Z"
    }
   },
   "outputs": [
    {
     "data": {
      "text/plain": [
       " 0    16258788\n",
       "-1     1923669\n",
       "-3     1051924\n",
       " 3      452505\n",
       " 1      365029\n",
       "-2       85465\n",
       " 2       78720\n",
       "Name: exception, dtype: int64"
      ]
     },
     "execution_count": 28,
     "metadata": {},
     "output_type": "execute_result"
    }
   ],
   "source": [
    "train.exception.value_counts(dropna=False)"
   ]
  },
  {
   "cell_type": "code",
   "execution_count": 29,
   "metadata": {
    "ExecuteTime": {
     "end_time": "2020-05-19T15:57:24.257218Z",
     "start_time": "2020-05-19T15:57:23.796083Z"
    }
   },
   "outputs": [
    {
     "data": {
      "text/plain": [
       " 0.0    32438494\n",
       "-1.0     3904132\n",
       "-3.0     2171394\n",
       " NaN     1205302\n",
       " 3.0      912126\n",
       " 1.0      771056\n",
       "-2.0      147834\n",
       " 2.0      147262\n",
       "Name: exception, dtype: int64"
      ]
     },
     "execution_count": 29,
     "metadata": {},
     "output_type": "execute_result"
    }
   ],
   "source": [
    "test.exception.value_counts(dropna=False)"
   ]
  },
  {
   "cell_type": "code",
   "execution_count": 30,
   "metadata": {
    "ExecuteTime": {
     "end_time": "2020-05-19T15:57:24.260153Z",
     "start_time": "2020-05-19T15:57:24.258366Z"
    }
   },
   "outputs": [],
   "source": [
    "# ## 存疑异常标记\n",
    "\n",
    "# # 30前期有大量0值\n",
    "# train.loc[(train.building_id == 30) & (train.meter == 1) & (train.meter_reading < 212), 'exception'] = 2\n",
    "\n",
    "# # 43大量0值\n",
    "# train.loc[(train.building_id == 43) & (train.meter == 1) & (train.meter_reading == 0), 'exception'] = 2\n",
    "\n",
    "# # 28大量0值\n",
    "# train.loc[(train.building_id == 28) & (train.meter == 1) & (train.meter_reading == 0), 'exception'] = 2"
   ]
  },
  {
   "cell_type": "code",
   "execution_count": 31,
   "metadata": {
    "ExecuteTime": {
     "end_time": "2020-05-19T15:57:24.320131Z",
     "start_time": "2020-05-19T15:57:24.261159Z"
    }
   },
   "outputs": [
    {
     "data": {
      "text/plain": [
       "100"
      ]
     },
     "execution_count": 31,
     "metadata": {},
     "output_type": "execute_result"
    }
   ],
   "source": [
    "gc.collect()"
   ]
  },
  {
   "cell_type": "code",
   "execution_count": 33,
   "metadata": {
    "ExecuteTime": {
     "end_time": "2020-05-19T15:58:05.037303Z",
     "start_time": "2020-05-19T15:58:03.733632Z"
    }
   },
   "outputs": [],
   "source": [
    "train[['exception']].to_pickle('../output/ashrae-eda-exception-label5/train_exception.pkl')\n",
    "test[['exception']].to_pickle('../output/ashrae-eda-exception-label5/test_exception.pkl')"
   ]
  }
 ],
 "metadata": {
  "kernelspec": {
   "display_name": "Python 3",
   "language": "python",
   "name": "python3"
  },
  "language_info": {
   "codemirror_mode": {
    "name": "ipython",
    "version": 3
   },
   "file_extension": ".py",
   "mimetype": "text/x-python",
   "name": "python",
   "nbconvert_exporter": "python",
   "pygments_lexer": "ipython3",
   "version": "3.7.7"
  }
 },
 "nbformat": 4,
 "nbformat_minor": 1
}
