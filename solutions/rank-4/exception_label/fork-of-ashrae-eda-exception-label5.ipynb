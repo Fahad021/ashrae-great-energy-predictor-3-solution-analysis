{
 "cells": [
  {
   "cell_type": "markdown",
   "metadata": {},
   "source": [
    "经验证：\n",
    "* 1、test的时间顺序并不是全部都是时序的，排行榜是按时序排列后取前0.78为public，后0.22为private，所以以后的工作重心将落到train的后44%\n",
    "* 2、测试集中私有部分从2018-07-24 09:00:00开始，有9173472条数据，包含全部的building_id\n",
    "* 3、测试集中公共部分与私有部分对应的数据从2017-07-24 09:00:00开始，有9174900条数据，包含全部的building_id\n",
    "* 4、重点为训练集中2017-07-24 09:00:00后的数据建模，有9003109条数据，占训练集0.445\n",
    "* 5、为防止测试集中不评分的那部分不知道算不算在0.22里面，也为防止一定的过拟合，可以考虑重点关注2017-07月后的训练数据，占0.51\n",
    "* 6、验证EDA1后，发现0-104号建筑5月20日前的大量为0的数据是有误的，训练集不应该对这部分数据进行过拟合，删除这部分数据训练对提高public评分很有帮助，遗憾的是，private并不包含这类数据\n",
    "* 7、猜想某些大范围为0的数据都同0-104号一样是有误的，重点验证7月后的该种数据，测试是否能提高public"
   ]
  },
  {
   "cell_type": "code",
   "execution_count": 5,
   "metadata": {
    "ExecuteTime": {
     "end_time": "2020-05-19T16:04:20.806677Z",
     "start_time": "2020-05-19T16:04:20.792800Z"
    },
    "_cell_guid": "b1076dfc-b9ad-4769-8c92-a6c4dae69d19",
    "_uuid": "8f2839f25d086af736a60e9eeb907d3b93b6e0e5"
   },
   "outputs": [
    {
     "data": {
      "text/html": [
       "        <script type=\"text/javascript\">\n",
       "        window.PlotlyConfig = {MathJaxConfig: 'local'};\n",
       "        if (window.MathJax) {MathJax.Hub.Config({SVG: {font: \"STIX-Web\"}});}\n",
       "        if (typeof require !== 'undefined') {\n",
       "        require.undef(\"plotly\");\n",
       "        requirejs.config({\n",
       "            paths: {\n",
       "                'plotly': ['https://cdn.plot.ly/plotly-latest.min']\n",
       "            }\n",
       "        });\n",
       "        require(['plotly'], function(Plotly) {\n",
       "            window._Plotly = Plotly;\n",
       "        });\n",
       "        }\n",
       "        </script>\n",
       "        "
      ]
     },
     "metadata": {},
     "output_type": "display_data"
    },
    {
     "data": {
      "text/html": [
       "        <script type=\"text/javascript\">\n",
       "        window.PlotlyConfig = {MathJaxConfig: 'local'};\n",
       "        if (window.MathJax) {MathJax.Hub.Config({SVG: {font: \"STIX-Web\"}});}\n",
       "        if (typeof require !== 'undefined') {\n",
       "        require.undef(\"plotly\");\n",
       "        requirejs.config({\n",
       "            paths: {\n",
       "                'plotly': ['https://cdn.plot.ly/plotly-latest.min']\n",
       "            }\n",
       "        });\n",
       "        require(['plotly'], function(Plotly) {\n",
       "            window._Plotly = Plotly;\n",
       "        });\n",
       "        }\n",
       "        </script>\n",
       "        "
      ]
     },
     "metadata": {},
     "output_type": "display_data"
    },
    {
     "data": {
      "text/html": [
       "        <script type=\"text/javascript\">\n",
       "        window.PlotlyConfig = {MathJaxConfig: 'local'};\n",
       "        if (window.MathJax) {MathJax.Hub.Config({SVG: {font: \"STIX-Web\"}});}\n",
       "        if (typeof require !== 'undefined') {\n",
       "        require.undef(\"plotly\");\n",
       "        requirejs.config({\n",
       "            paths: {\n",
       "                'plotly': ['https://cdn.plot.ly/plotly-latest.min']\n",
       "            }\n",
       "        });\n",
       "        require(['plotly'], function(Plotly) {\n",
       "            window._Plotly = Plotly;\n",
       "        });\n",
       "        }\n",
       "        </script>\n",
       "        "
      ]
     },
     "metadata": {},
     "output_type": "display_data"
    },
    {
     "name": "stdout",
     "output_type": "stream",
     "text": [
      "../input/ashrae-energy-prediction/train.csv\n",
      "../input/ashrae-energy-prediction/sample_submission.csv\n",
      "../input/ashrae-energy-prediction/building_metadata.csv\n",
      "../input/ashrae-energy-prediction/weather_train.csv\n",
      "../input/ashrae-energy-prediction/weather_test.csv\n",
      "../input/ashrae-energy-prediction/ashrae-energy-prediction.zip\n",
      "../input/ashrae-energy-prediction/test.csv\n"
     ]
    }
   ],
   "source": [
    "import numpy as np # linear algebra\n",
    "import pandas as pd # data processing, CSV file I/O (e.g. pd.read_csv)\n",
    "# Suppress warnings \n",
    "import warnings\n",
    "warnings.filterwarnings('ignore')\n",
    "import gc\n",
    "\n",
    "\n",
    "# matplotlib and seaborn for plotting\n",
    "import matplotlib.pyplot as plt\n",
    "%matplotlib inline\n",
    "\n",
    "import seaborn as sns\n",
    "import matplotlib.patches as patches\n",
    "\n",
    "from plotly import tools, subplots\n",
    "import plotly.offline as py\n",
    "py.init_notebook_mode(connected=True)\n",
    "import plotly.graph_objs as go\n",
    "import plotly.express as px\n",
    "pd.set_option('max_columns', 100)\n",
    "\n",
    "\n",
    "py.init_notebook_mode(connected=True)\n",
    "from plotly.offline import init_notebook_mode, iplot\n",
    "init_notebook_mode(connected=True)\n",
    "import plotly.graph_objs as go\n",
    "\n",
    "# Input data files are available in the \"../input/\" directory.\n",
    "# For example, running this (by clicking run or pressing Shift+Enter) will list all files under the input directory\n",
    "\n",
    "import os\n",
    "for dirname, _, filenames in os.walk('../input'):\n",
    "    for filename in filenames:\n",
    "        print(os.path.join(dirname, filename))"
   ]
  },
  {
   "cell_type": "code",
   "execution_count": 6,
   "metadata": {
    "ExecuteTime": {
     "end_time": "2020-05-19T16:04:38.768388Z",
     "start_time": "2020-05-19T16:04:20.808270Z"
    },
    "_cell_guid": "79c7e3d0-c299-4dcb-8224-4455121ee9b0",
    "_uuid": "d629ff2d2480ee46fbb7e2d37f6b5fab8052498a"
   },
   "outputs": [],
   "source": [
    "# 导入数据, 只有train 和 test\n",
    "train = pd.read_csv('../input/ashrae-energy-prediction/train.csv')\n",
    "test = pd.read_csv('../input/ashrae-energy-prediction/test.csv')"
   ]
  },
  {
   "cell_type": "code",
   "execution_count": 7,
   "metadata": {
    "ExecuteTime": {
     "end_time": "2020-05-19T16:04:46.781908Z",
     "start_time": "2020-05-19T16:04:38.769941Z"
    }
   },
   "outputs": [],
   "source": [
    "# 时间戳转换日期\n",
    "train[\"timestamp\"] = pd.to_datetime(train[\"timestamp\"])\n",
    "test[\"timestamp\"] = pd.to_datetime(test[\"timestamp\"])"
   ]
  },
  {
   "cell_type": "code",
   "execution_count": 8,
   "metadata": {
    "ExecuteTime": {
     "end_time": "2020-05-19T16:04:47.465854Z",
     "start_time": "2020-05-19T16:04:46.783461Z"
    }
   },
   "outputs": [
    {
     "data": {
      "text/plain": [
       "0"
      ]
     },
     "execution_count": 8,
     "metadata": {},
     "output_type": "execute_result"
    }
   ],
   "source": [
    "train_exception = pd.read_pickle('../output/fork-of-ashrae-eda-exception-label2/train_exception.pkl')\n",
    "train['exception1'] = train_exception.exception.values\n",
    "del train_exception\n",
    "gc.collect()\n",
    "\n",
    "train_exception = pd.read_pickle('../output/ashrae-eda-exception-label5/train_exception.pkl')\n",
    "train['exception'] = train_exception.exception.values\n",
    "del train_exception\n",
    "gc.collect()"
   ]
  },
  {
   "cell_type": "code",
   "execution_count": 9,
   "metadata": {
    "ExecuteTime": {
     "end_time": "2020-05-19T16:04:48.738645Z",
     "start_time": "2020-05-19T16:04:47.467033Z"
    }
   },
   "outputs": [
    {
     "data": {
      "text/plain": [
       "0"
      ]
     },
     "execution_count": 9,
     "metadata": {},
     "output_type": "execute_result"
    }
   ],
   "source": [
    "test_exception = pd.read_pickle('../output/fork-of-ashrae-eda-exception-label2/test_exception.pkl')\n",
    "test['exception1'] = test_exception.exception.values\n",
    "del test_exception\n",
    "gc.collect()\n",
    "\n",
    "test_exception = pd.read_pickle('../output/ashrae-eda-exception-label5/test_exception.pkl')\n",
    "test['exception'] = test_exception.exception.values\n",
    "del test_exception\n",
    "gc.collect()"
   ]
  },
  {
   "cell_type": "code",
   "execution_count": 10,
   "metadata": {
    "ExecuteTime": {
     "end_time": "2020-05-19T16:04:48.780085Z",
     "start_time": "2020-05-19T16:04:48.739749Z"
    }
   },
   "outputs": [
    {
     "data": {
      "text/plain": [
       "20"
      ]
     },
     "execution_count": 10,
     "metadata": {},
     "output_type": "execute_result"
    }
   ],
   "source": [
    "gc.collect()"
   ]
  },
  {
   "cell_type": "code",
   "execution_count": 11,
   "metadata": {
    "ExecuteTime": {
     "end_time": "2020-05-19T16:04:48.966656Z",
     "start_time": "2020-05-19T16:04:48.781181Z"
    }
   },
   "outputs": [
    {
     "data": {
      "text/plain": [
       " 0    16258788\n",
       "-1     1923669\n",
       "-3     1051924\n",
       " 3      452505\n",
       " 1      365029\n",
       "-2       85465\n",
       " 2       78720\n",
       "Name: exception, dtype: int64"
      ]
     },
     "execution_count": 11,
     "metadata": {},
     "output_type": "execute_result"
    }
   ],
   "source": [
    "train.exception.value_counts(dropna=False)"
   ]
  },
  {
   "cell_type": "code",
   "execution_count": 12,
   "metadata": {
    "ExecuteTime": {
     "end_time": "2020-05-19T16:04:49.149441Z",
     "start_time": "2020-05-19T16:04:48.968487Z"
    }
   },
   "outputs": [
    {
     "data": {
      "text/plain": [
       " 0    17761403\n",
       "-1     1924531\n",
       " 1      365029\n",
       "-2       85465\n",
       " 2       79672\n",
       "Name: exception1, dtype: int64"
      ]
     },
     "execution_count": 12,
     "metadata": {},
     "output_type": "execute_result"
    }
   ],
   "source": [
    "train.exception1.value_counts(dropna=False)"
   ]
  },
  {
   "cell_type": "code",
   "execution_count": 13,
   "metadata": {
    "ExecuteTime": {
     "end_time": "2020-05-19T16:04:49.614341Z",
     "start_time": "2020-05-19T16:04:49.150813Z"
    }
   },
   "outputs": [
    {
     "data": {
      "text/plain": [
       " 0.0    32438494\n",
       "-1.0     3904132\n",
       "-3.0     2171394\n",
       " NaN     1205302\n",
       " 3.0      912126\n",
       " 1.0      771056\n",
       "-2.0      147834\n",
       " 2.0      147262\n",
       "Name: exception, dtype: int64"
      ]
     },
     "execution_count": 13,
     "metadata": {},
     "output_type": "execute_result"
    }
   ],
   "source": [
    "test.exception.value_counts(dropna=False)"
   ]
  },
  {
   "cell_type": "code",
   "execution_count": 14,
   "metadata": {
    "ExecuteTime": {
     "end_time": "2020-05-19T16:04:50.068465Z",
     "start_time": "2020-05-19T16:04:49.615522Z"
    }
   },
   "outputs": [
    {
     "data": {
      "text/plain": [
       " 0.0    35435620\n",
       "-1.0     3920902\n",
       " NaN     1239910\n",
       " 1.0      771806\n",
       "-2.0      170502\n",
       " 2.0      158860\n",
       "Name: exception1, dtype: int64"
      ]
     },
     "execution_count": 14,
     "metadata": {},
     "output_type": "execute_result"
    }
   ],
   "source": [
    "test.exception1.value_counts(dropna=False)"
   ]
  },
  {
   "cell_type": "code",
   "execution_count": 15,
   "metadata": {
    "ExecuteTime": {
     "end_time": "2020-05-19T16:04:50.902129Z",
     "start_time": "2020-05-19T16:04:50.069618Z"
    }
   },
   "outputs": [
    {
     "data": {
      "text/plain": [
       "-3.0    15794\n",
       " 3.0     1726\n",
       "Name: exception, dtype: int64"
      ]
     },
     "execution_count": 15,
     "metadata": {},
     "output_type": "execute_result"
    }
   ],
   "source": [
    "test[(test.building_id == 235) & (test.meter == 1)].exception.value_counts(dropna=False)"
   ]
  },
  {
   "cell_type": "code",
   "execution_count": 16,
   "metadata": {
    "ExecuteTime": {
     "end_time": "2020-05-19T16:04:51.056980Z",
     "start_time": "2020-05-19T16:04:50.903331Z"
    }
   },
   "outputs": [
    {
     "data": {
      "text/plain": [
       "-1.0    16770\n",
       " 1.0      750\n",
       "Name: exception1, dtype: int64"
      ]
     },
     "execution_count": 16,
     "metadata": {},
     "output_type": "execute_result"
    }
   ],
   "source": [
    "test[(test.building_id == 235) & (test.meter == 1)].exception1.value_counts(dropna=False)"
   ]
  },
  {
   "cell_type": "code",
   "execution_count": 17,
   "metadata": {
    "ExecuteTime": {
     "end_time": "2020-05-19T16:04:51.300564Z",
     "start_time": "2020-05-19T16:04:51.058154Z"
    }
   },
   "outputs": [],
   "source": [
    "updata_id = test[(test.building_id == 235) & (test.meter == 1) & (test.exception1 == 1)].row_id.values"
   ]
  },
  {
   "cell_type": "code",
   "execution_count": 18,
   "metadata": {
    "ExecuteTime": {
     "end_time": "2020-05-19T16:04:51.304624Z",
     "start_time": "2020-05-19T16:04:51.301842Z"
    }
   },
   "outputs": [
    {
     "data": {
      "text/plain": [
       "750"
      ]
     },
     "execution_count": 18,
     "metadata": {},
     "output_type": "execute_result"
    }
   ],
   "source": [
    "len(updata_id)"
   ]
  },
  {
   "cell_type": "code",
   "execution_count": 19,
   "metadata": {
    "ExecuteTime": {
     "end_time": "2020-05-19T16:04:51.659924Z",
     "start_time": "2020-05-19T16:04:51.305670Z"
    }
   },
   "outputs": [],
   "source": [
    "test.loc[updata_id, 'exception'] = 1"
   ]
  },
  {
   "cell_type": "code",
   "execution_count": 20,
   "metadata": {
    "ExecuteTime": {
     "end_time": "2020-05-19T16:04:51.813648Z",
     "start_time": "2020-05-19T16:04:51.661208Z"
    }
   },
   "outputs": [
    {
     "data": {
      "text/plain": [
       "-3.0    15044\n",
       " 3.0     1726\n",
       " 1.0      750\n",
       "Name: exception, dtype: int64"
      ]
     },
     "execution_count": 20,
     "metadata": {},
     "output_type": "execute_result"
    }
   ],
   "source": [
    "test[(test.building_id == 235) & (test.meter == 1)].exception.value_counts(dropna=False)"
   ]
  },
  {
   "cell_type": "code",
   "execution_count": 21,
   "metadata": {
    "ExecuteTime": {
     "end_time": "2020-05-19T16:04:52.277025Z",
     "start_time": "2020-05-19T16:04:51.814841Z"
    }
   },
   "outputs": [
    {
     "data": {
      "text/plain": [
       " 0.0    32438494\n",
       "-1.0     3904132\n",
       "-3.0     2170644\n",
       " NaN     1205302\n",
       " 3.0      912126\n",
       " 1.0      771806\n",
       "-2.0      147834\n",
       " 2.0      147262\n",
       "Name: exception, dtype: int64"
      ]
     },
     "execution_count": 21,
     "metadata": {},
     "output_type": "execute_result"
    }
   ],
   "source": [
    "test.exception.value_counts(dropna=False)"
   ]
  },
  {
   "cell_type": "code",
   "execution_count": 22,
   "metadata": {
    "ExecuteTime": {
     "end_time": "2020-05-19T16:04:52.279987Z",
     "start_time": "2020-05-19T16:04:52.278170Z"
    }
   },
   "outputs": [],
   "source": [
    "# ## 存疑异常标记\n",
    "\n",
    "# # 30前期有大量0值\n",
    "# train.loc[(train.building_id == 30) & (train.meter == 1) & (train.meter_reading < 212), 'exception'] = 2\n",
    "\n",
    "# # 43大量0值\n",
    "# train.loc[(train.building_id == 43) & (train.meter == 1) & (train.meter_reading == 0), 'exception'] = 2\n",
    "\n",
    "# # 28大量0值\n",
    "# train.loc[(train.building_id == 28) & (train.meter == 1) & (train.meter_reading == 0), 'exception'] = 2"
   ]
  },
  {
   "cell_type": "code",
   "execution_count": 23,
   "metadata": {
    "ExecuteTime": {
     "end_time": "2020-05-19T16:04:52.339062Z",
     "start_time": "2020-05-19T16:04:52.281038Z"
    }
   },
   "outputs": [
    {
     "data": {
      "text/plain": [
       "160"
      ]
     },
     "execution_count": 23,
     "metadata": {},
     "output_type": "execute_result"
    }
   ],
   "source": [
    "gc.collect()"
   ]
  },
  {
   "cell_type": "code",
   "execution_count": 24,
   "metadata": {
    "ExecuteTime": {
     "end_time": "2020-05-19T16:04:54.143310Z",
     "start_time": "2020-05-19T16:04:52.340147Z"
    }
   },
   "outputs": [],
   "source": [
    "train[['exception']].to_pickle('../output/fork-of-ashrae-eda-exception-label5/train_exception.pkl')\n",
    "test[['exception']].to_pickle('../output/fork-of-ashrae-eda-exception-label5/test_exception.pkl')"
   ]
  }
 ],
 "metadata": {
  "kernelspec": {
   "display_name": "Python 3",
   "language": "python",
   "name": "python3"
  },
  "language_info": {
   "codemirror_mode": {
    "name": "ipython",
    "version": 3
   },
   "file_extension": ".py",
   "mimetype": "text/x-python",
   "name": "python",
   "nbconvert_exporter": "python",
   "pygments_lexer": "ipython3",
   "version": "3.7.7"
  }
 },
 "nbformat": 4,
 "nbformat_minor": 1
}
