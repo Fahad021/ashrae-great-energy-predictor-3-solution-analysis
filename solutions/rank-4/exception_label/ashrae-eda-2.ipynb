{
 "cells": [
  {
   "cell_type": "markdown",
   "metadata": {},
   "source": [
    "经验证：\n",
    "* 1、test的时间顺序并不是全部都是时序的，排行榜是按时序排列后取前0.78为public，后0.22为private，所以以后的工作重心将落到train的后44%\n",
    "* 2、测试集中私有部分从2018-07-24 09:00:00开始，有9173472条数据，包含全部的building_id\n",
    "* 3、测试集中公共部分与私有部分对应的数据从2017-07-24 09:00:00开始，有9174900条数据，包含全部的building_id\n",
    "* 4、重点为训练集中2017-07-24 09:00:00后的数据建模，有9003109条数据，占训练集0.445\n",
    "* 5、为防止测试集中不评分的那部分不知道算不算在0.22里面，也为防止一定的过拟合，可以考虑重点关注2017-07月后的训练数据，占0.51\n",
    "* 6、验证EDA1后，发现0-104号建筑5月20日前的大量为0的数据是有误的，训练集不应该对这部分数据进行过拟合，删除这部分数据训练对提高public评分很有帮助，遗憾的是，private并不包含这类数据\n",
    "* 7、猜想某些大范围为0的数据都同0-104号一样是有误的，重点验证7月后的该种数据，测试是否能提高public"
   ]
  },
  {
   "cell_type": "code",
   "execution_count": 1,
   "metadata": {
    "ExecuteTime": {
     "end_time": "2020-05-19T15:09:39.529788Z",
     "start_time": "2020-05-19T15:09:37.990921Z"
    },
    "_cell_guid": "b1076dfc-b9ad-4769-8c92-a6c4dae69d19",
    "_uuid": "8f2839f25d086af736a60e9eeb907d3b93b6e0e5"
   },
   "outputs": [
    {
     "data": {
      "text/html": [
       "        <script type=\"text/javascript\">\n",
       "        window.PlotlyConfig = {MathJaxConfig: 'local'};\n",
       "        if (window.MathJax) {MathJax.Hub.Config({SVG: {font: \"STIX-Web\"}});}\n",
       "        if (typeof require !== 'undefined') {\n",
       "        require.undef(\"plotly\");\n",
       "        requirejs.config({\n",
       "            paths: {\n",
       "                'plotly': ['https://cdn.plot.ly/plotly-latest.min']\n",
       "            }\n",
       "        });\n",
       "        require(['plotly'], function(Plotly) {\n",
       "            window._Plotly = Plotly;\n",
       "        });\n",
       "        }\n",
       "        </script>\n",
       "        "
      ]
     },
     "metadata": {},
     "output_type": "display_data"
    },
    {
     "data": {
      "text/html": [
       "        <script type=\"text/javascript\">\n",
       "        window.PlotlyConfig = {MathJaxConfig: 'local'};\n",
       "        if (window.MathJax) {MathJax.Hub.Config({SVG: {font: \"STIX-Web\"}});}\n",
       "        if (typeof require !== 'undefined') {\n",
       "        require.undef(\"plotly\");\n",
       "        requirejs.config({\n",
       "            paths: {\n",
       "                'plotly': ['https://cdn.plot.ly/plotly-latest.min']\n",
       "            }\n",
       "        });\n",
       "        require(['plotly'], function(Plotly) {\n",
       "            window._Plotly = Plotly;\n",
       "        });\n",
       "        }\n",
       "        </script>\n",
       "        "
      ]
     },
     "metadata": {},
     "output_type": "display_data"
    },
    {
     "data": {
      "text/html": [
       "        <script type=\"text/javascript\">\n",
       "        window.PlotlyConfig = {MathJaxConfig: 'local'};\n",
       "        if (window.MathJax) {MathJax.Hub.Config({SVG: {font: \"STIX-Web\"}});}\n",
       "        if (typeof require !== 'undefined') {\n",
       "        require.undef(\"plotly\");\n",
       "        requirejs.config({\n",
       "            paths: {\n",
       "                'plotly': ['https://cdn.plot.ly/plotly-latest.min']\n",
       "            }\n",
       "        });\n",
       "        require(['plotly'], function(Plotly) {\n",
       "            window._Plotly = Plotly;\n",
       "        });\n",
       "        }\n",
       "        </script>\n",
       "        "
      ]
     },
     "metadata": {},
     "output_type": "display_data"
    },
    {
     "name": "stdout",
     "output_type": "stream",
     "text": [
      "../input/ashrae-energy-prediction/train.csv\n",
      "../input/ashrae-energy-prediction/sample_submission.csv\n",
      "../input/ashrae-energy-prediction/building_metadata.csv\n",
      "../input/ashrae-energy-prediction/weather_train.csv\n",
      "../input/ashrae-energy-prediction/weather_test.csv\n",
      "../input/ashrae-energy-prediction/ashrae-energy-prediction.zip\n",
      "../input/ashrae-energy-prediction/test.csv\n"
     ]
    }
   ],
   "source": [
    "import numpy as np # linear algebra\n",
    "import pandas as pd # data processing, CSV file I/O (e.g. pd.read_csv)\n",
    "# Suppress warnings \n",
    "import warnings\n",
    "warnings.filterwarnings('ignore')\n",
    "import gc\n",
    "\n",
    "\n",
    "# matplotlib and seaborn for plotting\n",
    "import matplotlib.pyplot as plt\n",
    "%matplotlib inline\n",
    "\n",
    "import seaborn as sns\n",
    "import matplotlib.patches as patches\n",
    "\n",
    "from plotly import tools, subplots\n",
    "import plotly.offline as py\n",
    "py.init_notebook_mode(connected=True)\n",
    "import plotly.graph_objs as go\n",
    "import plotly.express as px\n",
    "pd.set_option('max_columns', 100)\n",
    "\n",
    "\n",
    "py.init_notebook_mode(connected=True)\n",
    "from plotly.offline import init_notebook_mode, iplot\n",
    "init_notebook_mode(connected=True)\n",
    "import plotly.graph_objs as go\n",
    "\n",
    "# Input data files are available in the \"../input/\" directory.\n",
    "# For example, running this (by clicking run or pressing Shift+Enter) will list all files under the input directory\n",
    "\n",
    "import os\n",
    "for dirname, _, filenames in os.walk('../input'):\n",
    "    for filename in filenames:\n",
    "        print(os.path.join(dirname, filename))"
   ]
  },
  {
   "cell_type": "code",
   "execution_count": 2,
   "metadata": {
    "ExecuteTime": {
     "end_time": "2020-05-19T15:09:57.478802Z",
     "start_time": "2020-05-19T15:09:39.531079Z"
    },
    "_cell_guid": "79c7e3d0-c299-4dcb-8224-4455121ee9b0",
    "_uuid": "d629ff2d2480ee46fbb7e2d37f6b5fab8052498a"
   },
   "outputs": [],
   "source": [
    "# 导入数据, 只有train 和 test\n",
    "train = pd.read_csv('../input/ashrae-energy-prediction/train.csv')\n",
    "test = pd.read_csv('../input/ashrae-energy-prediction/test.csv')\n",
    "building_df = pd.read_csv('../input/ashrae-energy-prediction/building_metadata.csv')"
   ]
  },
  {
   "cell_type": "code",
   "execution_count": 3,
   "metadata": {
    "ExecuteTime": {
     "end_time": "2020-05-19T15:10:05.492053Z",
     "start_time": "2020-05-19T15:09:57.480601Z"
    }
   },
   "outputs": [],
   "source": [
    "# 时间戳转换日期\n",
    "train[\"timestamp\"] = pd.to_datetime(train[\"timestamp\"])\n",
    "test[\"timestamp\"] = pd.to_datetime(test[\"timestamp\"])"
   ]
  },
  {
   "cell_type": "code",
   "execution_count": 4,
   "metadata": {
    "ExecuteTime": {
     "end_time": "2020-05-19T15:10:05.496112Z",
     "start_time": "2020-05-19T15:10:05.493799Z"
    }
   },
   "outputs": [],
   "source": [
    "# # 结合konstan的1.36的预测观察\n",
    "# sub_136 = pd.read_csv('../input/ashrae-baseline-lgbm/submission.csv')\n",
    "# test['meter_reading'] = sub_136.meter_reading.values\n",
    "# del sub_136\n",
    "\n",
    "# sub_test = pd.read_csv('../input/ashrae-baseline-lgbm-predict/submission.csv')\n",
    "# test['meter_reading_test'] = sub_test.meter_reading.values\n",
    "# del sub_test\n",
    "# gc.collect()"
   ]
  },
  {
   "cell_type": "code",
   "execution_count": 5,
   "metadata": {
    "ExecuteTime": {
     "end_time": "2020-05-19T15:10:05.550705Z",
     "start_time": "2020-05-19T15:10:05.497636Z"
    }
   },
   "outputs": [],
   "source": [
    "train['exception'] = 0"
   ]
  },
  {
   "cell_type": "code",
   "execution_count": 6,
   "metadata": {
    "ExecuteTime": {
     "end_time": "2020-05-19T15:10:05.605574Z",
     "start_time": "2020-05-19T15:10:05.552084Z"
    }
   },
   "outputs": [
    {
     "data": {
      "text/plain": [
       "80"
      ]
     },
     "execution_count": 6,
     "metadata": {},
     "output_type": "execute_result"
    }
   ],
   "source": [
    "gc.collect()"
   ]
  },
  {
   "cell_type": "code",
   "execution_count": 7,
   "metadata": {
    "ExecuteTime": {
     "end_time": "2020-05-19T15:10:05.609300Z",
     "start_time": "2020-05-19T15:10:05.607171Z"
    }
   },
   "outputs": [],
   "source": [
    "# num = 0\n",
    "# for i in range(1449):\n",
    "#     meter_array = train[train.building_id == i].meter.unique()\n",
    "#     if len(meter_array) == 3:\n",
    "#         if (1 in meter_array) and (2 in meter_array) and (3 in meter_array):\n",
    "#             num += 1\n",
    "# print(num)"
   ]
  },
  {
   "cell_type": "code",
   "execution_count": 8,
   "metadata": {
    "ExecuteTime": {
     "end_time": "2020-05-19T15:10:05.614220Z",
     "start_time": "2020-05-19T15:10:05.611955Z"
    }
   },
   "outputs": [],
   "source": [
    "# 1413个建筑有0，498个建筑有1，324个建筑有2，145个建筑有3\n",
    "# [0,1]有132个，[0,2]64，[0,3]21, [1,2]13\n",
    "# [0,1,2]220, [0,1,3]111\n",
    "# [0,1,2,3]13"
   ]
  },
  {
   "cell_type": "code",
   "execution_count": 9,
   "metadata": {
    "ExecuteTime": {
     "end_time": "2020-05-19T15:10:05.627011Z",
     "start_time": "2020-05-19T15:10:05.616143Z"
    }
   },
   "outputs": [
    {
     "data": {
      "text/html": [
       "<div>\n",
       "<style scoped>\n",
       "    .dataframe tbody tr th:only-of-type {\n",
       "        vertical-align: middle;\n",
       "    }\n",
       "\n",
       "    .dataframe tbody tr th {\n",
       "        vertical-align: top;\n",
       "    }\n",
       "\n",
       "    .dataframe thead th {\n",
       "        text-align: right;\n",
       "    }\n",
       "</style>\n",
       "<table border=\"1\" class=\"dataframe\">\n",
       "  <thead>\n",
       "    <tr style=\"text-align: right;\">\n",
       "      <th></th>\n",
       "      <th>row_id</th>\n",
       "      <th>building_id</th>\n",
       "      <th>meter</th>\n",
       "      <th>timestamp</th>\n",
       "    </tr>\n",
       "  </thead>\n",
       "  <tbody>\n",
       "    <tr>\n",
       "      <th>0</th>\n",
       "      <td>0</td>\n",
       "      <td>0</td>\n",
       "      <td>0</td>\n",
       "      <td>2017-01-01 00:00:00</td>\n",
       "    </tr>\n",
       "    <tr>\n",
       "      <th>1</th>\n",
       "      <td>1</td>\n",
       "      <td>1</td>\n",
       "      <td>0</td>\n",
       "      <td>2017-01-01 00:00:00</td>\n",
       "    </tr>\n",
       "    <tr>\n",
       "      <th>2</th>\n",
       "      <td>2</td>\n",
       "      <td>2</td>\n",
       "      <td>0</td>\n",
       "      <td>2017-01-01 00:00:00</td>\n",
       "    </tr>\n",
       "    <tr>\n",
       "      <th>3</th>\n",
       "      <td>3</td>\n",
       "      <td>3</td>\n",
       "      <td>0</td>\n",
       "      <td>2017-01-01 00:00:00</td>\n",
       "    </tr>\n",
       "    <tr>\n",
       "      <th>4</th>\n",
       "      <td>4</td>\n",
       "      <td>4</td>\n",
       "      <td>0</td>\n",
       "      <td>2017-01-01 00:00:00</td>\n",
       "    </tr>\n",
       "    <tr>\n",
       "      <th>...</th>\n",
       "      <td>...</td>\n",
       "      <td>...</td>\n",
       "      <td>...</td>\n",
       "      <td>...</td>\n",
       "    </tr>\n",
       "    <tr>\n",
       "      <th>41697595</th>\n",
       "      <td>41697595</td>\n",
       "      <td>1444</td>\n",
       "      <td>0</td>\n",
       "      <td>2018-05-09 07:00:00</td>\n",
       "    </tr>\n",
       "    <tr>\n",
       "      <th>41697596</th>\n",
       "      <td>41697596</td>\n",
       "      <td>1445</td>\n",
       "      <td>0</td>\n",
       "      <td>2018-05-09 07:00:00</td>\n",
       "    </tr>\n",
       "    <tr>\n",
       "      <th>41697597</th>\n",
       "      <td>41697597</td>\n",
       "      <td>1446</td>\n",
       "      <td>0</td>\n",
       "      <td>2018-05-09 07:00:00</td>\n",
       "    </tr>\n",
       "    <tr>\n",
       "      <th>41697598</th>\n",
       "      <td>41697598</td>\n",
       "      <td>1447</td>\n",
       "      <td>0</td>\n",
       "      <td>2018-05-09 07:00:00</td>\n",
       "    </tr>\n",
       "    <tr>\n",
       "      <th>41697599</th>\n",
       "      <td>41697599</td>\n",
       "      <td>1448</td>\n",
       "      <td>0</td>\n",
       "      <td>2018-05-09 07:00:00</td>\n",
       "    </tr>\n",
       "  </tbody>\n",
       "</table>\n",
       "<p>41697600 rows × 4 columns</p>\n",
       "</div>"
      ],
      "text/plain": [
       "            row_id  building_id  meter           timestamp\n",
       "0                0            0      0 2017-01-01 00:00:00\n",
       "1                1            1      0 2017-01-01 00:00:00\n",
       "2                2            2      0 2017-01-01 00:00:00\n",
       "3                3            3      0 2017-01-01 00:00:00\n",
       "4                4            4      0 2017-01-01 00:00:00\n",
       "...            ...          ...    ...                 ...\n",
       "41697595  41697595         1444      0 2018-05-09 07:00:00\n",
       "41697596  41697596         1445      0 2018-05-09 07:00:00\n",
       "41697597  41697597         1446      0 2018-05-09 07:00:00\n",
       "41697598  41697598         1447      0 2018-05-09 07:00:00\n",
       "41697599  41697599         1448      0 2018-05-09 07:00:00\n",
       "\n",
       "[41697600 rows x 4 columns]"
      ]
     },
     "execution_count": 9,
     "metadata": {},
     "output_type": "execute_result"
    }
   ],
   "source": [
    "test"
   ]
  },
  {
   "cell_type": "code",
   "execution_count": 10,
   "metadata": {
    "ExecuteTime": {
     "end_time": "2020-05-19T15:10:05.666436Z",
     "start_time": "2020-05-19T15:10:05.628349Z"
    }
   },
   "outputs": [
    {
     "data": {
      "text/plain": [
       "20"
      ]
     },
     "execution_count": 10,
     "metadata": {},
     "output_type": "execute_result"
    }
   ],
   "source": [
    "gc.collect()"
   ]
  },
  {
   "cell_type": "code",
   "execution_count": 11,
   "metadata": {
    "ExecuteTime": {
     "end_time": "2020-05-19T15:10:05.669967Z",
     "start_time": "2020-05-19T15:10:05.667973Z"
    }
   },
   "outputs": [],
   "source": [
    "# (0,0)到(104,0)从5月中旬才开始有读数, 其中有些在开始有读数之前有一些读数，不知什么情况\n",
    "# 猜测该地区出现了大面积的电表故障或者大面积的电力故障，其中有极少建筑幸存或用于检修测试，所以有少量读数，5月中旬后修好才恢复该地区正常用电或读表"
   ]
  },
  {
   "cell_type": "code",
   "execution_count": 12,
   "metadata": {
    "ExecuteTime": {
     "end_time": "2020-05-19T15:10:05.678085Z",
     "start_time": "2020-05-19T15:10:05.671459Z"
    }
   },
   "outputs": [],
   "source": [
    "def plot_train_test(building_id, meter):\n",
    "    plt.plot(train[(train.building_id == building_id) & (train.meter == meter)]['timestamp'], train[(train.building_id == building_id) & (train.meter == meter)]['meter_reading'])\n",
    "    plt.figure(figsize=(12, 4))\n",
    "    plt.plot(test[(test.building_id == building_id) & (test.meter == meter)]['timestamp'], test[(test.building_id == building_id) & (test.meter == meter)]['meter_reading'])\n",
    "    plt.figure(figsize=(12, 4))\n",
    "    plt.plot(test[(test.building_id == building_id) & (test.meter == meter)]['timestamp'], test[(test.building_id == building_id) & (test.meter == meter)]['meter_reading_test'])"
   ]
  },
  {
   "cell_type": "code",
   "execution_count": 13,
   "metadata": {
    "ExecuteTime": {
     "end_time": "2020-05-19T15:10:05.684244Z",
     "start_time": "2020-05-19T15:10:05.679321Z"
    }
   },
   "outputs": [
    {
     "data": {
      "text/plain": [
       "803"
      ]
     },
     "execution_count": 13,
     "metadata": {},
     "output_type": "execute_result"
    }
   ],
   "source": [
    "building_df[building_df.site_id == 7].building_id.max()"
   ]
  },
  {
   "cell_type": "code",
   "execution_count": 14,
   "metadata": {
    "ExecuteTime": {
     "end_time": "2020-05-19T15:10:05.693637Z",
     "start_time": "2020-05-19T15:10:05.685688Z"
    }
   },
   "outputs": [
    {
     "data": {
      "text/html": [
       "<div>\n",
       "<style scoped>\n",
       "    .dataframe tbody tr th:only-of-type {\n",
       "        vertical-align: middle;\n",
       "    }\n",
       "\n",
       "    .dataframe tbody tr th {\n",
       "        vertical-align: top;\n",
       "    }\n",
       "\n",
       "    .dataframe thead th {\n",
       "        text-align: right;\n",
       "    }\n",
       "</style>\n",
       "<table border=\"1\" class=\"dataframe\">\n",
       "  <thead>\n",
       "    <tr style=\"text-align: right;\">\n",
       "      <th></th>\n",
       "      <th>site_id</th>\n",
       "      <th>building_id</th>\n",
       "      <th>primary_use</th>\n",
       "      <th>square_feet</th>\n",
       "      <th>year_built</th>\n",
       "      <th>floor_count</th>\n",
       "    </tr>\n",
       "  </thead>\n",
       "  <tbody>\n",
       "    <tr>\n",
       "      <th>29</th>\n",
       "      <td>0</td>\n",
       "      <td>29</td>\n",
       "      <td>Education</td>\n",
       "      <td>113866</td>\n",
       "      <td>2006.0</td>\n",
       "      <td>NaN</td>\n",
       "    </tr>\n",
       "  </tbody>\n",
       "</table>\n",
       "</div>"
      ],
      "text/plain": [
       "    site_id  building_id primary_use  square_feet  year_built  floor_count\n",
       "29        0           29   Education       113866      2006.0          NaN"
      ]
     },
     "execution_count": 14,
     "metadata": {},
     "output_type": "execute_result"
    }
   ],
   "source": [
    "building_df[building_df.building_id == 29]"
   ]
  },
  {
   "cell_type": "code",
   "execution_count": 15,
   "metadata": {
    "ExecuteTime": {
     "end_time": "2020-05-19T15:10:05.701681Z",
     "start_time": "2020-05-19T15:10:05.695009Z"
    }
   },
   "outputs": [
    {
     "data": {
      "text/html": [
       "<div>\n",
       "<style scoped>\n",
       "    .dataframe tbody tr th:only-of-type {\n",
       "        vertical-align: middle;\n",
       "    }\n",
       "\n",
       "    .dataframe tbody tr th {\n",
       "        vertical-align: top;\n",
       "    }\n",
       "\n",
       "    .dataframe thead th {\n",
       "        text-align: right;\n",
       "    }\n",
       "</style>\n",
       "<table border=\"1\" class=\"dataframe\">\n",
       "  <thead>\n",
       "    <tr style=\"text-align: right;\">\n",
       "      <th></th>\n",
       "      <th>site_id</th>\n",
       "      <th>building_id</th>\n",
       "      <th>primary_use</th>\n",
       "      <th>square_feet</th>\n",
       "      <th>year_built</th>\n",
       "      <th>floor_count</th>\n",
       "    </tr>\n",
       "  </thead>\n",
       "  <tbody>\n",
       "    <tr>\n",
       "      <th>1393</th>\n",
       "      <td>15</td>\n",
       "      <td>1393</td>\n",
       "      <td>Entertainment/public assembly</td>\n",
       "      <td>151900</td>\n",
       "      <td>1990.0</td>\n",
       "      <td>NaN</td>\n",
       "    </tr>\n",
       "  </tbody>\n",
       "</table>\n",
       "</div>"
      ],
      "text/plain": [
       "      site_id  building_id                    primary_use  square_feet  \\\n",
       "1393       15         1393  Entertainment/public assembly       151900   \n",
       "\n",
       "      year_built  floor_count  \n",
       "1393      1990.0          NaN  "
      ]
     },
     "execution_count": 15,
     "metadata": {},
     "output_type": "execute_result"
    }
   ],
   "source": [
    "building_df[building_df.building_id == 1393]"
   ]
  },
  {
   "cell_type": "code",
   "execution_count": 16,
   "metadata": {
    "ExecuteTime": {
     "end_time": "2020-05-19T15:10:05.714440Z",
     "start_time": "2020-05-19T15:10:05.702696Z"
    }
   },
   "outputs": [
    {
     "data": {
      "text/html": [
       "<div>\n",
       "<style scoped>\n",
       "    .dataframe tbody tr th:only-of-type {\n",
       "        vertical-align: middle;\n",
       "    }\n",
       "\n",
       "    .dataframe tbody tr th {\n",
       "        vertical-align: top;\n",
       "    }\n",
       "\n",
       "    .dataframe thead th {\n",
       "        text-align: right;\n",
       "    }\n",
       "</style>\n",
       "<table border=\"1\" class=\"dataframe\">\n",
       "  <thead>\n",
       "    <tr style=\"text-align: right;\">\n",
       "      <th></th>\n",
       "      <th>site_id</th>\n",
       "      <th>building_id</th>\n",
       "      <th>primary_use</th>\n",
       "      <th>square_feet</th>\n",
       "      <th>year_built</th>\n",
       "      <th>floor_count</th>\n",
       "    </tr>\n",
       "  </thead>\n",
       "  <tbody>\n",
       "    <tr>\n",
       "      <th>1069</th>\n",
       "      <td>13</td>\n",
       "      <td>1069</td>\n",
       "      <td>Office</td>\n",
       "      <td>20864</td>\n",
       "      <td>NaN</td>\n",
       "      <td>NaN</td>\n",
       "    </tr>\n",
       "    <tr>\n",
       "      <th>1071</th>\n",
       "      <td>13</td>\n",
       "      <td>1071</td>\n",
       "      <td>Office</td>\n",
       "      <td>10385</td>\n",
       "      <td>NaN</td>\n",
       "      <td>NaN</td>\n",
       "    </tr>\n",
       "    <tr>\n",
       "      <th>1073</th>\n",
       "      <td>13</td>\n",
       "      <td>1073</td>\n",
       "      <td>Office</td>\n",
       "      <td>194111</td>\n",
       "      <td>NaN</td>\n",
       "      <td>NaN</td>\n",
       "    </tr>\n",
       "    <tr>\n",
       "      <th>1074</th>\n",
       "      <td>13</td>\n",
       "      <td>1074</td>\n",
       "      <td>Office</td>\n",
       "      <td>89858</td>\n",
       "      <td>NaN</td>\n",
       "      <td>NaN</td>\n",
       "    </tr>\n",
       "    <tr>\n",
       "      <th>1075</th>\n",
       "      <td>13</td>\n",
       "      <td>1075</td>\n",
       "      <td>Office</td>\n",
       "      <td>72709</td>\n",
       "      <td>NaN</td>\n",
       "      <td>NaN</td>\n",
       "    </tr>\n",
       "    <tr>\n",
       "      <th>...</th>\n",
       "      <td>...</td>\n",
       "      <td>...</td>\n",
       "      <td>...</td>\n",
       "      <td>...</td>\n",
       "      <td>...</td>\n",
       "      <td>...</td>\n",
       "    </tr>\n",
       "    <tr>\n",
       "      <th>1211</th>\n",
       "      <td>13</td>\n",
       "      <td>1211</td>\n",
       "      <td>Office</td>\n",
       "      <td>94988</td>\n",
       "      <td>NaN</td>\n",
       "      <td>NaN</td>\n",
       "    </tr>\n",
       "    <tr>\n",
       "      <th>1214</th>\n",
       "      <td>13</td>\n",
       "      <td>1214</td>\n",
       "      <td>Office</td>\n",
       "      <td>195437</td>\n",
       "      <td>NaN</td>\n",
       "      <td>NaN</td>\n",
       "    </tr>\n",
       "    <tr>\n",
       "      <th>1216</th>\n",
       "      <td>13</td>\n",
       "      <td>1216</td>\n",
       "      <td>Office</td>\n",
       "      <td>15269</td>\n",
       "      <td>NaN</td>\n",
       "      <td>NaN</td>\n",
       "    </tr>\n",
       "    <tr>\n",
       "      <th>1219</th>\n",
       "      <td>13</td>\n",
       "      <td>1219</td>\n",
       "      <td>Office</td>\n",
       "      <td>91316</td>\n",
       "      <td>NaN</td>\n",
       "      <td>NaN</td>\n",
       "    </tr>\n",
       "    <tr>\n",
       "      <th>1221</th>\n",
       "      <td>13</td>\n",
       "      <td>1221</td>\n",
       "      <td>Office</td>\n",
       "      <td>29062</td>\n",
       "      <td>NaN</td>\n",
       "      <td>NaN</td>\n",
       "    </tr>\n",
       "  </tbody>\n",
       "</table>\n",
       "<p>75 rows × 6 columns</p>\n",
       "</div>"
      ],
      "text/plain": [
       "      site_id  building_id primary_use  square_feet  year_built  floor_count\n",
       "1069       13         1069      Office        20864         NaN          NaN\n",
       "1071       13         1071      Office        10385         NaN          NaN\n",
       "1073       13         1073      Office       194111         NaN          NaN\n",
       "1074       13         1074      Office        89858         NaN          NaN\n",
       "1075       13         1075      Office        72709         NaN          NaN\n",
       "...       ...          ...         ...          ...         ...          ...\n",
       "1211       13         1211      Office        94988         NaN          NaN\n",
       "1214       13         1214      Office       195437         NaN          NaN\n",
       "1216       13         1216      Office        15269         NaN          NaN\n",
       "1219       13         1219      Office        91316         NaN          NaN\n",
       "1221       13         1221      Office        29062         NaN          NaN\n",
       "\n",
       "[75 rows x 6 columns]"
      ]
     },
     "execution_count": 16,
     "metadata": {},
     "output_type": "execute_result"
    }
   ],
   "source": [
    "building_df[(building_df.site_id == 13) & (building_df.primary_use == \"Office\")]"
   ]
  },
  {
   "cell_type": "code",
   "execution_count": 17,
   "metadata": {
    "ExecuteTime": {
     "end_time": "2020-05-19T15:10:06.206215Z",
     "start_time": "2020-05-19T15:10:05.715422Z"
    }
   },
   "outputs": [
    {
     "data": {
      "text/plain": [
       "array([0])"
      ]
     },
     "execution_count": 17,
     "metadata": {},
     "output_type": "execute_result"
    }
   ],
   "source": [
    "train[train.building_id == 1393].meter.unique()"
   ]
  },
  {
   "cell_type": "code",
   "execution_count": 18,
   "metadata": {
    "ExecuteTime": {
     "end_time": "2020-05-19T15:10:06.298620Z",
     "start_time": "2020-05-19T15:10:06.207381Z"
    }
   },
   "outputs": [
    {
     "data": {
      "text/plain": [
       "1.40      58\n",
       "1.08      35\n",
       "1.41      35\n",
       "1.09      33\n",
       "1.36      25\n",
       "          ..\n",
       "49.17      1\n",
       "56.69      1\n",
       "80.89      1\n",
       "117.22     1\n",
       "58.50      1\n",
       "Name: meter_reading, Length: 2927, dtype: int64"
      ]
     },
     "execution_count": 18,
     "metadata": {},
     "output_type": "execute_result"
    }
   ],
   "source": [
    "train[(train.building_id == 532) & (train.timestamp > '2016-05-20 00:00:00')].meter_reading.value_counts()"
   ]
  },
  {
   "cell_type": "code",
   "execution_count": 19,
   "metadata": {
    "ExecuteTime": {
     "end_time": "2020-05-19T15:10:06.377727Z",
     "start_time": "2020-05-19T15:10:06.299790Z"
    }
   },
   "outputs": [
    {
     "data": {
      "text/html": [
       "<div>\n",
       "<style scoped>\n",
       "    .dataframe tbody tr th:only-of-type {\n",
       "        vertical-align: middle;\n",
       "    }\n",
       "\n",
       "    .dataframe tbody tr th {\n",
       "        vertical-align: top;\n",
       "    }\n",
       "\n",
       "    .dataframe thead th {\n",
       "        text-align: right;\n",
       "    }\n",
       "</style>\n",
       "<table border=\"1\" class=\"dataframe\">\n",
       "  <thead>\n",
       "    <tr style=\"text-align: right;\">\n",
       "      <th></th>\n",
       "      <th>building_id</th>\n",
       "      <th>meter</th>\n",
       "      <th>timestamp</th>\n",
       "      <th>meter_reading</th>\n",
       "      <th>exception</th>\n",
       "    </tr>\n",
       "  </thead>\n",
       "  <tbody>\n",
       "    <tr>\n",
       "      <th>888</th>\n",
       "      <td>740</td>\n",
       "      <td>0</td>\n",
       "      <td>2016-01-01 00:00:00</td>\n",
       "      <td>0.0002</td>\n",
       "      <td>0</td>\n",
       "    </tr>\n",
       "    <tr>\n",
       "      <th>3187</th>\n",
       "      <td>740</td>\n",
       "      <td>0</td>\n",
       "      <td>2016-01-01 01:00:00</td>\n",
       "      <td>0.0004</td>\n",
       "      <td>0</td>\n",
       "    </tr>\n",
       "    <tr>\n",
       "      <th>5482</th>\n",
       "      <td>740</td>\n",
       "      <td>0</td>\n",
       "      <td>2016-01-01 02:00:00</td>\n",
       "      <td>0.0004</td>\n",
       "      <td>0</td>\n",
       "    </tr>\n",
       "    <tr>\n",
       "      <th>7780</th>\n",
       "      <td>740</td>\n",
       "      <td>0</td>\n",
       "      <td>2016-01-01 03:00:00</td>\n",
       "      <td>0.0004</td>\n",
       "      <td>0</td>\n",
       "    </tr>\n",
       "    <tr>\n",
       "      <th>10075</th>\n",
       "      <td>740</td>\n",
       "      <td>0</td>\n",
       "      <td>2016-01-01 04:00:00</td>\n",
       "      <td>0.0004</td>\n",
       "      <td>0</td>\n",
       "    </tr>\n",
       "    <tr>\n",
       "      <th>...</th>\n",
       "      <td>...</td>\n",
       "      <td>...</td>\n",
       "      <td>...</td>\n",
       "      <td>...</td>\n",
       "      <td>...</td>\n",
       "    </tr>\n",
       "    <tr>\n",
       "      <th>20205199</th>\n",
       "      <td>740</td>\n",
       "      <td>0</td>\n",
       "      <td>2016-12-31 19:00:00</td>\n",
       "      <td>0.0004</td>\n",
       "      <td>0</td>\n",
       "    </tr>\n",
       "    <tr>\n",
       "      <th>20207562</th>\n",
       "      <td>740</td>\n",
       "      <td>0</td>\n",
       "      <td>2016-12-31 20:00:00</td>\n",
       "      <td>0.0004</td>\n",
       "      <td>0</td>\n",
       "    </tr>\n",
       "    <tr>\n",
       "      <th>20209927</th>\n",
       "      <td>740</td>\n",
       "      <td>0</td>\n",
       "      <td>2016-12-31 21:00:00</td>\n",
       "      <td>0.0004</td>\n",
       "      <td>0</td>\n",
       "    </tr>\n",
       "    <tr>\n",
       "      <th>20212293</th>\n",
       "      <td>740</td>\n",
       "      <td>0</td>\n",
       "      <td>2016-12-31 22:00:00</td>\n",
       "      <td>0.0004</td>\n",
       "      <td>0</td>\n",
       "    </tr>\n",
       "    <tr>\n",
       "      <th>20214659</th>\n",
       "      <td>740</td>\n",
       "      <td>0</td>\n",
       "      <td>2016-12-31 23:00:00</td>\n",
       "      <td>0.0004</td>\n",
       "      <td>0</td>\n",
       "    </tr>\n",
       "  </tbody>\n",
       "</table>\n",
       "<p>8784 rows × 5 columns</p>\n",
       "</div>"
      ],
      "text/plain": [
       "          building_id  meter           timestamp  meter_reading  exception\n",
       "888               740      0 2016-01-01 00:00:00         0.0002          0\n",
       "3187              740      0 2016-01-01 01:00:00         0.0004          0\n",
       "5482              740      0 2016-01-01 02:00:00         0.0004          0\n",
       "7780              740      0 2016-01-01 03:00:00         0.0004          0\n",
       "10075             740      0 2016-01-01 04:00:00         0.0004          0\n",
       "...               ...    ...                 ...            ...        ...\n",
       "20205199          740      0 2016-12-31 19:00:00         0.0004          0\n",
       "20207562          740      0 2016-12-31 20:00:00         0.0004          0\n",
       "20209927          740      0 2016-12-31 21:00:00         0.0004          0\n",
       "20212293          740      0 2016-12-31 22:00:00         0.0004          0\n",
       "20214659          740      0 2016-12-31 23:00:00         0.0004          0\n",
       "\n",
       "[8784 rows x 5 columns]"
      ]
     },
     "execution_count": 19,
     "metadata": {},
     "output_type": "execute_result"
    }
   ],
   "source": [
    "train[(train.building_id == 740) & (train.meter_reading != 0)]"
   ]
  },
  {
   "cell_type": "code",
   "execution_count": 20,
   "metadata": {
    "ExecuteTime": {
     "end_time": "2020-05-19T15:10:06.380534Z",
     "start_time": "2020-05-19T15:10:06.378862Z"
    }
   },
   "outputs": [],
   "source": [
    "# plot_train_test(1396, 0)"
   ]
  },
  {
   "cell_type": "code",
   "execution_count": 21,
   "metadata": {
    "ExecuteTime": {
     "end_time": "2020-05-19T15:10:42.790919Z",
     "start_time": "2020-05-19T15:10:06.381643Z"
    }
   },
   "outputs": [],
   "source": [
    "## 异常标记\n",
    "\n",
    "train.loc[(train.building_id == 29) & (train.meter == 0) & (train.meter_reading < 500), 'exception'] = 1\n",
    "train.loc[(train.building_id == 29) & (train.meter == 0) & (train.meter_reading >= 500), 'exception'] = -1\n",
    "\n",
    "train.loc[(train.building_id == 53) & (train.meter == 0) & (train.meter_reading == 0), 'exception'] = 1\n",
    "train.loc[(train.building_id == 53) & (train.meter == 0) & (train.meter_reading != 0), 'exception'] = -1\n",
    "\n",
    "train.loc[(train.building_id == 106) & (train.meter == 0) & (train.meter_reading < 1), 'exception'] = 1\n",
    "train.loc[(train.building_id == 106) & (train.meter == 0) & (train.meter_reading >= 1), 'exception'] = -1\n",
    "\n",
    "train.loc[(train.building_id == 107) & (train.meter == 0) & (train.meter_reading <= 1), 'exception'] = 1\n",
    "train.loc[(train.building_id == 107) & (train.meter == 0) & (train.meter_reading > 1), 'exception'] = -1\n",
    "\n",
    "train.loc[(train.building_id == 112) & (train.meter == 0) & (train.meter_reading <= 1), 'exception'] = 1\n",
    "train.loc[(train.building_id == 112) & (train.meter == 0) & (train.meter_reading > 1), 'exception'] = -1\n",
    "\n",
    "train.loc[(train.building_id == 144) & (train.meter == 0) & (train.meter_reading <= 5), 'exception'] = 1\n",
    "train.loc[(train.building_id == 144) & (train.meter == 0) & (train.meter_reading > 5), 'exception'] = -1\n",
    "\n",
    "# 147也许不用这样做,可能对私有没有影响\n",
    "train.loc[(train.building_id == 147) & (train.meter == 0) & (train.meter_reading <= 1), 'exception'] = 1\n",
    "train.loc[(train.building_id == 147) & (train.meter == 0) & (train.meter_reading > 1), 'exception'] = -1\n",
    "\n",
    "# 180有三个值出现过多, 也有小部分出现也比较多的相同值，以后再看是否处理\n",
    "train.loc[(train.building_id == 180) & (train.meter == 0) & (train.meter_reading == 0), 'exception'] = 1\n",
    "train.loc[(train.building_id == 180) & (train.meter == 0) & (train.meter_reading == 18.17), 'exception'] = 1\n",
    "train.loc[(train.building_id == 180) & (train.meter == 0) & (train.meter_reading == 30.41), 'exception'] = 1\n",
    "train.loc[(train.building_id == 180) & (train.meter == 0) & (train.meter_reading != 0) & (train.meter_reading != 18.17) & (train.meter_reading != 30.41), 'exception'] = -1\n",
    "\n",
    "# 218也有很多重复值, 将前四作为异常\n",
    "train.loc[(train.building_id == 218) & (train.meter == 0) & (train.meter_reading == 59.94), 'exception'] = 1\n",
    "train.loc[(train.building_id == 218) & (train.meter == 0) & (train.meter_reading == 85.44), 'exception'] = 1\n",
    "train.loc[(train.building_id == 218) & (train.meter == 0) & (train.meter_reading == 5.31), 'exception'] = 1\n",
    "train.loc[(train.building_id == 218) & (train.meter == 0) & (train.meter_reading == 57.31), 'exception'] = 1\n",
    "train.loc[(train.building_id == 218) & (train.meter == 0) & (train.meter_reading != 59.94) & (train.meter_reading != 85.44) & (train.meter_reading != 5.31) & (train.meter_reading != 57.31), 'exception'] = -1\n",
    "\n",
    "train.loc[(train.building_id == 258) & (train.meter == 0) & (train.meter_reading == 0), 'exception'] = 1\n",
    "train.loc[(train.building_id == 258) & (train.meter == 0) & (train.meter_reading != 0), 'exception'] = -1\n",
    "\n",
    "# 260也许很低的那部分全是异常，值得探究，暂且先把小于50的部分当作异常\n",
    "train.loc[(train.building_id == 260) & (train.meter == 0) & (train.meter_reading < 50), 'exception'] = 1\n",
    "train.loc[(train.building_id == 260) & (train.meter == 0) & (train.meter_reading >= 50), 'exception'] = -1\n",
    "\n",
    "# 331是学校放假还是异常值得探究，先将小于200部分算作异常\n",
    "train.loc[(train.building_id == 331) & (train.meter == 0) & (train.meter_reading <= 200), 'exception'] = 1\n",
    "train.loc[(train.building_id == 331) & (train.meter == 0) & (train.meter_reading > 200), 'exception'] = -1\n",
    "\n",
    "train.loc[(train.building_id == 604) & (train.meter == 0) & (train.meter_reading < 0.5), 'exception'] = 1\n",
    "train.loc[(train.building_id == 604) & (train.meter == 0) & (train.meter_reading >= 0.5), 'exception'] = -1\n",
    "\n",
    "train.loc[(train.building_id == 693) & (train.meter == 0) & (train.meter_reading < 20), 'exception'] = 1\n",
    "train.loc[(train.building_id == 693) & (train.meter == 0) & (train.meter_reading >= 20), 'exception'] = -1\n",
    "\n",
    "train.loc[(train.building_id == 723) & (train.meter == 0) & (train.meter_reading < 30), 'exception'] = 1\n",
    "train.loc[(train.building_id == 723) & (train.meter == 0) & (train.meter_reading >= 30), 'exception'] = -1\n",
    "\n",
    "# 740全是异常\n",
    "train.loc[(train.building_id == 740) & (train.meter == 0) & (train.meter_reading < 30), 'exception'] = 1\n",
    "# train.loc[(train.building_id == 740) & (train.meter == 0) & (train.meter_reading >= 30), 'exception'] = -1\n",
    "\n",
    "train.loc[(train.building_id == 799) & (train.meter == 0) & (train.meter_reading < 10), 'exception'] = 1\n",
    "train.loc[(train.building_id == 799) & (train.meter == 0) & (train.meter_reading >= 10), 'exception'] = -1\n",
    "\n",
    "train.loc[(train.building_id == 802) & (train.meter == 0) & (train.meter_reading < 10), 'exception'] = 1\n",
    "train.loc[(train.building_id == 802) & (train.meter == 0) & (train.meter_reading >= 10), 'exception'] = -1\n",
    "\n",
    "train.loc[(train.building_id == 803) & (train.meter == 0) & (train.meter_reading < 100), 'exception'] = 1\n",
    "train.loc[(train.building_id == 803) & (train.meter == 0) & (train.meter_reading >= 100), 'exception'] = -1\n",
    "\n",
    "train.loc[(train.building_id == 815) & (train.meter == 0) & (train.meter_reading == 0), 'exception'] = 1\n",
    "train.loc[(train.building_id == 815) & (train.meter == 0) & (train.meter_reading != 0), 'exception'] = -1\n",
    "\n",
    "# 853和845的异常居然一样，严重怀疑都有异常\n",
    "train.loc[(train.building_id == 853) & (train.meter == 0) & (train.meter_reading < 0.05), 'exception'] = 1\n",
    "train.loc[(train.building_id == 853) & (train.meter == 0) & (train.meter_reading >= 0.05), 'exception'] = -1\n",
    "\n",
    "train.loc[(train.building_id == 857) & (train.meter == 0) & (train.meter_reading == 0), 'exception'] = 1\n",
    "train.loc[(train.building_id == 857) & (train.meter == 0) & (train.meter_reading != 0), 'exception'] = -1\n",
    "\n",
    "train.loc[(train.building_id == 864) & (train.meter == 0) & (train.meter_reading < 2), 'exception'] = 1\n",
    "train.loc[(train.building_id == 864) & (train.meter == 0) & (train.meter_reading >= 2), 'exception'] = -1\n",
    "\n",
    "train.loc[(train.building_id == 886) & (train.meter == 0) & (train.meter_reading == 0), 'exception'] = 1\n",
    "train.loc[(train.building_id == 886) & (train.meter == 0) & (train.meter_reading != 0), 'exception'] = -1\n",
    "\n",
    "# 904对私有不影响\n",
    "train.loc[(train.building_id == 904) & (train.meter == 0) & (train.meter_reading == 0), 'exception'] = 1\n",
    "train.loc[(train.building_id == 904) & (train.meter == 0) & (train.meter_reading != 0), 'exception'] = -1\n",
    "\n",
    "train.loc[(train.building_id == 954) & (train.meter == 0) & (train.meter_reading < 100), 'exception'] = 1\n",
    "train.loc[(train.building_id == 954) & (train.meter == 0) & (train.meter_reading >= 100), 'exception'] = -1\n",
    "\n",
    "# 994不知道是不是放假，但与周围比较，更像异常\n",
    "train.loc[(train.building_id == 994) & (train.meter == 0) & (train.meter_reading == 0), 'exception'] = 1\n",
    "train.loc[(train.building_id == 994) & (train.meter == 0) & (train.meter_reading != 0), 'exception'] = -1\n",
    "\n",
    "# 997对私有无影响\n",
    "train.loc[(train.building_id == 994) & (train.meter == 0) & (train.meter_reading == 0), 'exception'] = 1\n",
    "train.loc[(train.building_id == 994) & (train.meter == 0) & (train.meter_reading != 0), 'exception'] = -1\n",
    "\n",
    "# 1113对私有无影响\n",
    "train.loc[(train.building_id == 1113) & (train.meter == 0) & (train.meter_reading < 5), 'exception'] = 1\n",
    "train.loc[(train.building_id == 1113) & (train.meter == 0) & (train.meter_reading >= 5), 'exception'] = -1\n",
    "\n",
    "# 对私有影响不大\n",
    "train.loc[(train.building_id == 1169) & (train.meter == 0) & (train.meter_reading == 0), 'exception'] = 1\n",
    "train.loc[(train.building_id == 1169) & (train.meter == 0) & (train.meter_reading != 0), 'exception'] = -1\n",
    "\n",
    "train.loc[(train.building_id == 1199) & (train.meter == 0) & (train.meter_reading == 25.207), 'exception'] = 1\n",
    "train.loc[(train.building_id == 1199) & (train.meter == 0) & (train.meter_reading != 25.207), 'exception'] = -1\n",
    "\n",
    "train.loc[(train.building_id == 1221) & (train.meter == 0) & (train.meter_reading == 0), 'exception'] = 1\n",
    "train.loc[(train.building_id == 1221) & (train.meter == 0) & (train.meter_reading != 0), 'exception'] = -1\n",
    "\n",
    "train.loc[(train.building_id == 1223) & (train.meter == 0) & (train.meter_reading == 0), 'exception'] = 1\n",
    "train.loc[(train.building_id == 1223) & (train.meter == 0) & (train.meter_reading != 0), 'exception'] = -1\n",
    "\n",
    "train.loc[(train.building_id == 1225) & (train.meter == 0) & (train.meter_reading == 0), 'exception'] = 1\n",
    "train.loc[(train.building_id == 1225) & (train.meter == 0) & (train.meter_reading != 0), 'exception'] = -1\n",
    "\n",
    "train.loc[(train.building_id == 1226) & (train.meter == 0) & (train.meter_reading == 0), 'exception'] = 1\n",
    "train.loc[(train.building_id == 1226) & (train.meter == 0) & (train.meter_reading != 0), 'exception'] = -1\n",
    "\n",
    "# 1227也许可以全部数据标记为异常\n",
    "train.loc[(train.building_id == 1227) & (train.meter == 0) & (train.meter_reading == 0), 'exception'] = 1\n",
    "train.loc[(train.building_id == 1227) & (train.meter == 0) & (train.meter_reading != 0), 'exception'] = -1\n",
    "\n",
    "train.loc[(train.building_id == 1233) & (train.meter == 0) & (train.meter_reading == 0), 'exception'] = 1\n",
    "train.loc[(train.building_id == 1233) & (train.meter == 0) & (train.meter_reading != 0), 'exception'] = -1\n",
    "\n",
    "train.loc[(train.building_id == 1234) & (train.meter == 0) & (train.meter_reading == 0), 'exception'] = 1\n",
    "train.loc[(train.building_id == 1234) & (train.meter == 0) & (train.meter_reading != 0), 'exception'] = -1\n",
    "\n",
    "train.loc[(train.building_id == 1241) & (train.meter == 0) & (train.meter_reading == 0), 'exception'] = 1\n",
    "train.loc[(train.building_id == 1241) & (train.meter == 0) & (train.meter_reading != 0), 'exception'] = -1\n",
    "\n",
    "train.loc[(train.building_id == 1250) & (train.meter == 0) & (train.meter_reading == 0), 'exception'] = 1\n",
    "train.loc[(train.building_id == 1250) & (train.meter == 0) & (train.meter_reading != 0), 'exception'] = -1\n",
    "\n",
    "train.loc[(train.building_id == 1255) & (train.meter == 0) & (train.meter_reading == 0), 'exception'] = 1\n",
    "train.loc[(train.building_id == 1255) & (train.meter == 0) & (train.meter_reading != 0), 'exception'] = -1\n",
    "\n",
    "train.loc[(train.building_id == 1264) & (train.meter == 0) & (train.meter_reading == 0), 'exception'] = 1\n",
    "train.loc[(train.building_id == 1264) & (train.meter == 0) & (train.meter_reading != 0), 'exception'] = -1\n",
    "\n",
    "train.loc[(train.building_id == 1272) & (train.meter == 0) & (train.meter_reading == 0), 'exception'] = 1\n",
    "train.loc[(train.building_id == 1272) & (train.meter == 0) & (train.meter_reading != 0), 'exception'] = -1\n",
    "\n",
    "for i in range(1275, 1281):\n",
    "    train.loc[(train.building_id == i) & (train.meter == 0) & (train.meter_reading == 0), 'exception'] = 1\n",
    "    train.loc[(train.building_id == i) & (train.meter == 0) & (train.meter_reading != 0), 'exception'] = -1\n",
    "    \n",
    "train.loc[(train.building_id == 1283) & (train.meter == 0) & (train.meter_reading == 0), 'exception'] = 1\n",
    "train.loc[(train.building_id == 1283) & (train.meter == 0) & (train.meter_reading == 77.8316), 'exception'] = 1\n",
    "train.loc[(train.building_id == 1283) & (train.meter == 0) & (train.meter_reading != 0) & (train.meter_reading != 77.8316), 'exception'] = -1\n",
    "\n",
    "for i in range(1291, 1301):\n",
    "    train.loc[(train.building_id == i) & (train.meter == 0) & (train.meter_reading == 0), 'exception'] = 1\n",
    "    train.loc[(train.building_id == i) & (train.meter == 0) & (train.meter_reading != 0), 'exception'] = -1\n",
    "    \n",
    "train.loc[(train.building_id == 1302) & (train.meter == 0) & (train.meter_reading == 0), 'exception'] = 1\n",
    "train.loc[(train.building_id == 1302) & (train.meter == 0) & (train.meter_reading != 0), 'exception'] = -1\n",
    "\n",
    "# 1314暂不处理\n",
    "\n",
    "train.loc[(train.building_id == 1317) & (train.meter == 0) & (train.meter_reading == 0), 'exception'] = 1\n",
    "train.loc[(train.building_id == 1317) & (train.meter == 0) & (train.meter_reading != 0), 'exception'] = -1\n",
    "\n",
    "train.loc[(train.building_id == 1319) & (train.meter == 0) & (train.meter_reading == 0), 'exception'] = 1\n",
    "train.loc[(train.building_id == 1319) & (train.meter == 0) & (train.meter_reading != 0), 'exception'] = -1\n",
    "\n",
    "train.loc[(train.building_id == 1322) & (train.meter == 0) & (train.meter_reading == 0), 'exception'] = 1\n",
    "train.loc[(train.building_id == 1322) & (train.meter == 0) & (train.meter_reading != 0), 'exception'] = -1\n",
    "\n",
    "train.loc[(train.building_id == 1345) & (train.meter == 0) & (train.meter_reading == 0), 'exception'] = 1\n",
    "train.loc[(train.building_id == 1345) & (train.meter == 0) & (train.meter_reading != 0), 'exception'] = -1\n",
    "\n",
    "train.loc[(train.building_id == 1359) & (train.meter == 0) & (train.meter_reading == 0), 'exception'] = 1\n",
    "train.loc[(train.building_id == 1359) & (train.meter == 0) & (train.meter_reading != 0), 'exception'] = -1"
   ]
  },
  {
   "cell_type": "code",
   "execution_count": 22,
   "metadata": {
    "ExecuteTime": {
     "end_time": "2020-05-19T15:10:42.841490Z",
     "start_time": "2020-05-19T15:10:42.792185Z"
    }
   },
   "outputs": [
    {
     "data": {
      "text/plain": [
       "20"
      ]
     },
     "execution_count": 22,
     "metadata": {},
     "output_type": "execute_result"
    }
   ],
   "source": [
    "gc.collect()"
   ]
  },
  {
   "cell_type": "code",
   "execution_count": 23,
   "metadata": {
    "ExecuteTime": {
     "end_time": "2020-05-19T15:10:53.730747Z",
     "start_time": "2020-05-19T15:10:42.843642Z"
    }
   },
   "outputs": [],
   "source": [
    "## 存疑异常标记\n",
    "\n",
    "# 304小于0.28的值中有大量重复，全部算作存疑异常\n",
    "train.loc[(train.building_id == 304) & (train.meter == 0) & (train.meter_reading <= 0.28), 'exception'] = 2\n",
    "train.loc[(train.building_id == 304) & (train.meter == 0) & (train.meter_reading > 0.28), 'exception'] = -2\n",
    "\n",
    "# 339小于20的部分有些可疑\n",
    "train.loc[(train.building_id == 339) & (train.meter == 0) & (train.meter_reading <= 15), 'exception'] = 2\n",
    "train.loc[(train.building_id == 339) & (train.meter == 0) & (train.meter_reading > 15), 'exception'] = -2\n",
    "\n",
    "# 345小于1的部分有些可疑\n",
    "train.loc[(train.building_id == 345) & (train.meter == 0) & (train.meter_reading <= 0.16), 'exception'] = 2\n",
    "train.loc[(train.building_id == 345) & (train.meter == 0) & (train.meter_reading > 0.16), 'exception'] = -2\n",
    "\n",
    "# 352不知如何操作\n",
    "\n",
    "# 356小于2的部分有些可疑\n",
    "train.loc[(train.building_id == 356) & (train.meter == 0) & (train.meter_reading < 2), 'exception'] = 2\n",
    "train.loc[(train.building_id == 356) & (train.meter == 0) & (train.meter_reading >= 2), 'exception'] = -2\n",
    "\n",
    "# 371存疑，小于5的部分也许有问题\n",
    "\n",
    "# 492存疑，有几个较大数字重复次数过多\n",
    "\n",
    "# 499小于100的部分有些可疑,也不知道是不是学校放假\n",
    "train.loc[(train.building_id == 499) & (train.meter == 0) & (train.meter_reading < 100), 'exception'] = 2\n",
    "train.loc[(train.building_id == 499) & (train.meter == 0) & (train.meter_reading >= 100), 'exception'] = -2\n",
    "\n",
    "# 516小于50的部分有些可疑,也不知道是不是学校放假\n",
    "train.loc[(train.building_id == 516) & (train.meter == 0) & (train.meter_reading < 40), 'exception'] = 2\n",
    "train.loc[(train.building_id == 516) & (train.meter == 0) & (train.meter_reading >= 40), 'exception'] = -2\n",
    "\n",
    "# 532小于20的部分有些可疑,也不知道是不是学校放假\n",
    "train.loc[(train.building_id == 532) & (train.meter == 0) & (train.meter_reading < 20), 'exception'] = 2\n",
    "train.loc[(train.building_id == 532) & (train.meter == 0) & (train.meter_reading >= 20), 'exception'] = -2\n",
    "\n",
    "# 537也许是真异常，但位置对私有影响很小\n",
    "train.loc[(train.building_id == 537) & (train.meter == 0) & (train.meter_reading == 0), 'exception'] = 2\n",
    "train.loc[(train.building_id == 537) & (train.meter == 0) & (train.meter_reading != 0), 'exception'] = -2\n",
    "\n",
    "# 568小于2的部分有些可疑\n",
    "train.loc[(train.building_id == 568) & (train.meter == 0) & (train.meter_reading < 2), 'exception'] = 2\n",
    "train.loc[(train.building_id == 568) & (train.meter == 0) & (train.meter_reading >= 2), 'exception'] = -2\n",
    "\n",
    "# 669在6左右出现了频率较高的值，但也不知道到底是中间有问题还是两边有问题还是没有问题\n",
    "\n",
    "# 687小于11的部分有些可疑\n",
    "train.loc[(train.building_id == 687) & (train.meter == 0) & (train.meter_reading < 11), 'exception'] = 2\n",
    "train.loc[(train.building_id == 687) & (train.meter == 0) & (train.meter_reading >= 11), 'exception'] = -2\n",
    "\n",
    "# 761与周围比较，小于10的部分很可疑，也许是真异常\n",
    "train.loc[(train.building_id == 761) & (train.meter == 0) & (train.meter_reading < 8), 'exception'] = 2\n",
    "train.loc[(train.building_id == 761) & (train.meter == 0) & (train.meter_reading >= 8), 'exception'] = -2\n",
    "\n",
    "# 817小于0.05的部分很可疑\n",
    "train.loc[(train.building_id == 817) & (train.meter == 0) & (train.meter_reading < 0.05), 'exception'] = 2\n",
    "train.loc[(train.building_id == 817) & (train.meter == 0) & (train.meter_reading >= 0.05), 'exception'] = -2\n",
    "\n",
    "# 822 0.5和0.375出现频率过高\n",
    "\n",
    "# 826 小于15的部分可疑\n",
    "train.loc[(train.building_id == 826) & (train.meter == 0) & (train.meter_reading < 15), 'exception'] = 2\n",
    "train.loc[(train.building_id == 826) & (train.meter == 0) & (train.meter_reading >= 15), 'exception'] = -2\n",
    "\n",
    "# 829 等于2.3333的部分很可疑，也就是那段间隔，和其有同一间隔的其他也许有相同问题\n",
    "train.loc[(train.building_id == 829) & (train.meter == 0) & (train.meter_reading == 2.3333), 'exception'] = 2\n",
    "train.loc[(train.building_id == 829) & (train.meter == 0) & (train.meter_reading != 2.3333), 'exception'] = -2\n",
    "\n",
    "# 845存疑，0.0417与0频率过高\n",
    "train.loc[(train.building_id == 845) & (train.meter == 0) & (train.meter_reading < 0.05), 'exception'] = 2\n",
    "train.loc[(train.building_id == 845) & (train.meter == 0) & (train.meter_reading >= 0.05), 'exception'] = -2\n",
    "\n",
    "# 856有些值出现频率过多\n",
    "\n",
    "# 858有些值出现频率过多\n",
    "\n",
    "# 861有些值出现频率过多\n",
    "train.loc[(train.building_id == 861) & (train.meter == 0) & (train.meter_reading == 12.5000), 'exception'] = 2\n",
    "train.loc[(train.building_id == 861) & (train.meter == 0) & (train.meter_reading == 8.3333), 'exception'] = 2\n",
    "train.loc[(train.building_id == 861) & (train.meter == 0) & (train.meter_reading != 8.3333) & (train.meter_reading != 12.5000), 'exception'] = -2\n",
    "\n",
    "# 868极低值存疑\n",
    "\n",
    "# 871 2左右频率过高\n",
    "\n",
    "# 1008存疑，也许是放假\n",
    "train.loc[(train.building_id == 1008) & (train.meter == 0) & (train.meter_reading < 5), 'exception'] = 2\n",
    "train.loc[(train.building_id == 1008) & (train.meter == 0) & (train.meter_reading >= 5), 'exception'] = -2\n",
    "\n",
    "# 1073小于200存疑\n",
    "train.loc[(train.building_id == 1073) & (train.meter == 0) & (train.meter_reading < 200), 'exception'] = 2\n",
    "train.loc[(train.building_id == 1073) & (train.meter == 0) & (train.meter_reading >= 200), 'exception'] = -2\n",
    "\n",
    "# 1094存疑，也不知道是低的是异常还是高的是异常，先试试低的\n",
    "train.loc[(train.building_id == 1094) & (train.meter == 0) & (train.meter_reading < 200), 'exception'] = 2\n",
    "train.loc[(train.building_id == 1094) & (train.meter == 0) & (train.meter_reading >= 200), 'exception'] = -2\n",
    "\n",
    "# 1195感觉有点奇怪，但不知怎么处理\n",
    "\n",
    "# 1232存疑，也不知道是低的是异常还是高的是异常，先试试低的\n",
    "train.loc[(train.building_id == 1232) & (train.meter == 0) & (train.meter_reading == 0), 'exception'] = 2\n",
    "train.loc[(train.building_id == 1232) & (train.meter == 0) & (train.meter_reading != 0), 'exception'] = -2\n",
    "\n",
    "# 1281相当有意思，不知如何处理"
   ]
  },
  {
   "cell_type": "code",
   "execution_count": 24,
   "metadata": {
    "ExecuteTime": {
     "end_time": "2020-05-19T15:10:53.781545Z",
     "start_time": "2020-05-19T15:10:53.732163Z"
    }
   },
   "outputs": [
    {
     "data": {
      "text/plain": [
       "20"
      ]
     },
     "execution_count": 24,
     "metadata": {},
     "output_type": "execute_result"
    }
   ],
   "source": [
    "gc.collect()"
   ]
  },
  {
   "cell_type": "code",
   "execution_count": 25,
   "metadata": {
    "ExecuteTime": {
     "end_time": "2020-05-19T15:10:54.292273Z",
     "start_time": "2020-05-19T15:10:53.782598Z"
    }
   },
   "outputs": [],
   "source": [
    "train[['exception']].to_pickle('../output/ashrae-eda-2/train_exception.pkl')"
   ]
  },
  {
   "cell_type": "code",
   "execution_count": 26,
   "metadata": {
    "ExecuteTime": {
     "end_time": "2020-05-19T15:10:54.369586Z",
     "start_time": "2020-05-19T15:10:54.293520Z"
    }
   },
   "outputs": [
    {
     "data": {
      "text/plain": [
       "0.000     6506\n",
       "1.100       75\n",
       "8.100       25\n",
       "6.600       20\n",
       "3.000       18\n",
       "          ... \n",
       "15.300       1\n",
       "17.800       1\n",
       "5.125        1\n",
       "15.375       1\n",
       "17.625       1\n",
       "Name: meter_reading, Length: 178, dtype: int64"
      ]
     },
     "execution_count": 26,
     "metadata": {},
     "output_type": "execute_result"
    }
   ],
   "source": [
    "train[(train.building_id == 1345) & (train.meter == 0)].meter_reading.value_counts()"
   ]
  },
  {
   "cell_type": "code",
   "execution_count": null,
   "metadata": {},
   "outputs": [],
   "source": []
  },
  {
   "cell_type": "code",
   "execution_count": 27,
   "metadata": {
    "ExecuteTime": {
     "end_time": "2020-05-19T15:10:56.591143Z",
     "start_time": "2020-05-19T15:10:54.370762Z"
    }
   },
   "outputs": [
    {
     "name": "stdout",
     "output_type": "stream",
     "text": [
      "0:[0]\n",
      "1:[0]\n",
      "2:[0]\n",
      "3:[0]\n",
      "4:[0]\n",
      "5:[0]\n",
      "6:[0]\n",
      "7:[0 1]\n",
      "8:[0]\n",
      "9:[0 1]\n",
      "10:[0]\n",
      "11:[0]\n",
      "12:[0]\n",
      "13:[0 1]\n",
      "14:[0 1]\n",
      "15:[0 1]\n",
      "16:[0]\n",
      "17:[0]\n",
      "18:[0]\n",
      "19:[0]\n",
      "20:[0]\n",
      "21:[0]\n",
      "22:[0]\n",
      "23:[0]\n",
      "24:[0]\n",
      "25:[0]\n",
      "26:[0]\n",
      "27:[0]\n",
      "28:[0 1]\n",
      "29:[0 1]\n",
      "30:[0 1]\n",
      "31:[0 1]\n",
      "32:[0]\n",
      "33:[0]\n",
      "34:[0]\n",
      "35:[0]\n",
      "36:[0]\n",
      "37:[0]\n",
      "38:[0]\n",
      "39:[0]\n",
      "40:[0]\n",
      "41:[0]\n",
      "42:[0]\n",
      "43:[0 1]\n",
      "44:[0]\n",
      "45:[0]\n",
      "46:[0]\n",
      "47:[0]\n",
      "48:[0]\n",
      "49:[0]\n",
      "50:[0 1]\n",
      "51:[0]\n",
      "52:[0]\n",
      "53:[0]\n",
      "54:[0]\n",
      "55:[0 1]\n",
      "56:[0]\n",
      "57:[0]\n",
      "58:[0]\n",
      "59:[0]\n",
      "60:[0 1]\n",
      "61:[0]\n",
      "62:[0]\n",
      "63:[0]\n",
      "64:[0]\n",
      "65:[0]\n",
      "66:[0]\n",
      "67:[0]\n",
      "68:[0]\n",
      "69:[0]\n",
      "70:[0]\n",
      "71:[0]\n",
      "72:[0]\n",
      "73:[0]\n",
      "74:[0]\n",
      "75:[0 1]\n",
      "76:[0 1]\n",
      "77:[0]\n",
      "78:[0 1]\n",
      "79:[0]\n",
      "80:[0]\n",
      "81:[0]\n",
      "82:[0 1]\n",
      "83:[0]\n",
      "84:[0]\n",
      "85:[0]\n",
      "86:[0]\n",
      "87:[0]\n",
      "88:[0]\n",
      "89:[0]\n",
      "90:[0]\n",
      "91:[0 1]\n",
      "92:[0 1]\n",
      "93:[0]\n",
      "94:[0]\n",
      "95:[0 1]\n",
      "96:[0 1]\n",
      "97:[0 1]\n",
      "98:[0 1]\n",
      "99:[0]\n",
      "100:[0]\n",
      "101:[0]\n",
      "102:[0]\n",
      "103:[0 1]\n",
      "104:[0]\n"
     ]
    }
   ],
   "source": [
    "for i in range(105):\n",
    "    print(str(i) + \":\" + str(train[train.building_id == i].meter.unique()))"
   ]
  },
  {
   "cell_type": "code",
   "execution_count": 28,
   "metadata": {
    "ExecuteTime": {
     "end_time": "2020-05-19T15:10:56.690245Z",
     "start_time": "2020-05-19T15:10:56.592399Z"
    }
   },
   "outputs": [
    {
     "data": {
      "text/html": [
       "<div>\n",
       "<style scoped>\n",
       "    .dataframe tbody tr th:only-of-type {\n",
       "        vertical-align: middle;\n",
       "    }\n",
       "\n",
       "    .dataframe tbody tr th {\n",
       "        vertical-align: top;\n",
       "    }\n",
       "\n",
       "    .dataframe thead th {\n",
       "        text-align: right;\n",
       "    }\n",
       "</style>\n",
       "<table border=\"1\" class=\"dataframe\">\n",
       "  <thead>\n",
       "    <tr style=\"text-align: right;\">\n",
       "      <th></th>\n",
       "      <th>building_id</th>\n",
       "      <th>meter</th>\n",
       "      <th>timestamp</th>\n",
       "      <th>meter_reading</th>\n",
       "      <th>exception</th>\n",
       "    </tr>\n",
       "  </thead>\n",
       "  <tbody>\n",
       "    <tr>\n",
       "      <th>6509944</th>\n",
       "      <td>8</td>\n",
       "      <td>0</td>\n",
       "      <td>2016-05-01 19:00:00</td>\n",
       "      <td>749.000</td>\n",
       "      <td>0</td>\n",
       "    </tr>\n",
       "    <tr>\n",
       "      <th>7576731</th>\n",
       "      <td>8</td>\n",
       "      <td>0</td>\n",
       "      <td>2016-05-20 18:00:00</td>\n",
       "      <td>270.294</td>\n",
       "      <td>0</td>\n",
       "    </tr>\n",
       "    <tr>\n",
       "      <th>7579078</th>\n",
       "      <td>8</td>\n",
       "      <td>0</td>\n",
       "      <td>2016-05-20 19:00:00</td>\n",
       "      <td>348.788</td>\n",
       "      <td>0</td>\n",
       "    </tr>\n",
       "    <tr>\n",
       "      <th>7581424</th>\n",
       "      <td>8</td>\n",
       "      <td>0</td>\n",
       "      <td>2016-05-20 20:00:00</td>\n",
       "      <td>367.217</td>\n",
       "      <td>0</td>\n",
       "    </tr>\n",
       "    <tr>\n",
       "      <th>7583771</th>\n",
       "      <td>8</td>\n",
       "      <td>0</td>\n",
       "      <td>2016-05-20 21:00:00</td>\n",
       "      <td>366.193</td>\n",
       "      <td>0</td>\n",
       "    </tr>\n",
       "    <tr>\n",
       "      <th>7586117</th>\n",
       "      <td>8</td>\n",
       "      <td>0</td>\n",
       "      <td>2016-05-20 22:00:00</td>\n",
       "      <td>342.645</td>\n",
       "      <td>0</td>\n",
       "    </tr>\n",
       "    <tr>\n",
       "      <th>7588462</th>\n",
       "      <td>8</td>\n",
       "      <td>0</td>\n",
       "      <td>2016-05-20 23:00:00</td>\n",
       "      <td>304.763</td>\n",
       "      <td>0</td>\n",
       "    </tr>\n",
       "    <tr>\n",
       "      <th>7590806</th>\n",
       "      <td>8</td>\n",
       "      <td>0</td>\n",
       "      <td>2016-05-21 00:00:00</td>\n",
       "      <td>308.517</td>\n",
       "      <td>0</td>\n",
       "    </tr>\n",
       "    <tr>\n",
       "      <th>7593153</th>\n",
       "      <td>8</td>\n",
       "      <td>0</td>\n",
       "      <td>2016-05-21 01:00:00</td>\n",
       "      <td>323.875</td>\n",
       "      <td>0</td>\n",
       "    </tr>\n",
       "    <tr>\n",
       "      <th>7595499</th>\n",
       "      <td>8</td>\n",
       "      <td>0</td>\n",
       "      <td>2016-05-21 02:00:00</td>\n",
       "      <td>309.882</td>\n",
       "      <td>0</td>\n",
       "    </tr>\n",
       "  </tbody>\n",
       "</table>\n",
       "</div>"
      ],
      "text/plain": [
       "         building_id  meter           timestamp  meter_reading  exception\n",
       "6509944            8      0 2016-05-01 19:00:00        749.000          0\n",
       "7576731            8      0 2016-05-20 18:00:00        270.294          0\n",
       "7579078            8      0 2016-05-20 19:00:00        348.788          0\n",
       "7581424            8      0 2016-05-20 20:00:00        367.217          0\n",
       "7583771            8      0 2016-05-20 21:00:00        366.193          0\n",
       "7586117            8      0 2016-05-20 22:00:00        342.645          0\n",
       "7588462            8      0 2016-05-20 23:00:00        304.763          0\n",
       "7590806            8      0 2016-05-21 00:00:00        308.517          0\n",
       "7593153            8      0 2016-05-21 01:00:00        323.875          0\n",
       "7595499            8      0 2016-05-21 02:00:00        309.882          0"
      ]
     },
     "execution_count": 28,
     "metadata": {},
     "output_type": "execute_result"
    }
   ],
   "source": [
    "train[(train.building_id == 8) & (train.meter == 0) & (train.meter_reading != 0)].head(10)"
   ]
  },
  {
   "cell_type": "code",
   "execution_count": 29,
   "metadata": {
    "ExecuteTime": {
     "end_time": "2020-05-19T15:10:56.693180Z",
     "start_time": "2020-05-19T15:10:56.691414Z"
    }
   },
   "outputs": [],
   "source": [
    "# 2016-05-20 18:00:00 为恢复供电时间， 53有点特别，也许全年无消耗"
   ]
  },
  {
   "cell_type": "code",
   "execution_count": 30,
   "metadata": {
    "ExecuteTime": {
     "end_time": "2020-05-19T15:11:05.139587Z",
     "start_time": "2020-05-19T15:10:56.694229Z"
    }
   },
   "outputs": [
    {
     "name": "stdout",
     "output_type": "stream",
     "text": [
      "3378\n",
      "6756\n",
      "10134\n",
      "13512\n",
      "16890\n",
      "20268\n",
      "23646\n",
      "28977\n",
      "32355\n",
      "37686\n",
      "41064\n",
      "44442\n",
      "47820\n",
      "53151\n",
      "58482\n",
      "63813\n",
      "67191\n",
      "70569\n",
      "73947\n",
      "77325\n",
      "80703\n",
      "84081\n",
      "87459\n",
      "90837\n",
      "94215\n",
      "97593\n",
      "100971\n",
      "104349\n",
      "108618\n",
      "110628\n",
      "115959\n",
      "121289\n",
      "124667\n",
      "128045\n",
      "131423\n",
      "134801\n",
      "138179\n",
      "141557\n",
      "144935\n",
      "148313\n",
      "151649\n",
      "155027\n",
      "158405\n",
      "163736\n",
      "167114\n",
      "170491\n",
      "173869\n",
      "177247\n",
      "179213\n",
      "182591\n",
      "187922\n",
      "191300\n",
      "194678\n",
      "196156\n",
      "199534\n",
      "204865\n",
      "208243\n",
      "211621\n",
      "214999\n",
      "218377\n",
      "223708\n",
      "227086\n",
      "230464\n",
      "233842\n",
      "237220\n",
      "240598\n",
      "243976\n",
      "247354\n",
      "250732\n",
      "254110\n",
      "257488\n",
      "260866\n",
      "264244\n",
      "267622\n",
      "271000\n",
      "276331\n",
      "281662\n",
      "285040\n",
      "290371\n",
      "293749\n",
      "297127\n",
      "300505\n",
      "305836\n",
      "309214\n",
      "312592\n",
      "315970\n",
      "319348\n",
      "322726\n",
      "326104\n",
      "329482\n",
      "332860\n",
      "338191\n",
      "343522\n",
      "346900\n",
      "350278\n",
      "355609\n",
      "360940\n",
      "366220\n",
      "369961\n",
      "373339\n",
      "376717\n",
      "380095\n",
      "383473\n",
      "388735\n",
      "392113\n"
     ]
    }
   ],
   "source": [
    "number = 0\n",
    "for i in range(105):\n",
    "    number += train[(train.building_id == i) & (train.timestamp < '2016-05-20 18:00:00')].shape[0]\n",
    "    print(number)"
   ]
  },
  {
   "cell_type": "code",
   "execution_count": 31,
   "metadata": {
    "ExecuteTime": {
     "end_time": "2020-05-19T15:11:51.356896Z",
     "start_time": "2020-05-19T15:11:05.140800Z"
    }
   },
   "outputs": [
    {
     "name": "stdout",
     "output_type": "stream",
     "text": [
      "865332\n"
     ]
    }
   ],
   "source": [
    "number = 0\n",
    "for i in range(105):\n",
    "    number += test[(test.building_id == i) & ((test.timestamp < '2017-05-20 18:00:00') | ((test.timestamp > '2017-12-31 23:00:00') & (test.timestamp < '2018-05-20 18:00:00')))].shape[0]\n",
    "print(number)"
   ]
  },
  {
   "cell_type": "code",
   "execution_count": null,
   "metadata": {},
   "outputs": [],
   "source": []
  }
 ],
 "metadata": {
  "kernelspec": {
   "display_name": "Python 3",
   "language": "python",
   "name": "python3"
  },
  "language_info": {
   "codemirror_mode": {
    "name": "ipython",
    "version": 3
   },
   "file_extension": ".py",
   "mimetype": "text/x-python",
   "name": "python",
   "nbconvert_exporter": "python",
   "pygments_lexer": "ipython3",
   "version": "3.7.7"
  }
 },
 "nbformat": 4,
 "nbformat_minor": 1
}
