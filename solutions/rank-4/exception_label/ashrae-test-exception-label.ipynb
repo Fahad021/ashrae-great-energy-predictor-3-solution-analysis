{
 "cells": [
  {
   "cell_type": "markdown",
   "metadata": {},
   "source": [
    "**测试公共部分私有为0数据是否是正确的数值，或是其他原因导致的具有干扰性的数据"
   ]
  },
  {
   "cell_type": "code",
   "execution_count": 1,
   "metadata": {
    "ExecuteTime": {
     "end_time": "2020-05-19T15:17:43.383580Z",
     "start_time": "2020-05-19T15:17:43.190017Z"
    },
    "_cell_guid": "b1076dfc-b9ad-4769-8c92-a6c4dae69d19",
    "_uuid": "8f2839f25d086af736a60e9eeb907d3b93b6e0e5"
   },
   "outputs": [],
   "source": [
    "# General imports\n",
    "import numpy as np\n",
    "import pandas as pd\n",
    "import gc"
   ]
  },
  {
   "cell_type": "code",
   "execution_count": 2,
   "metadata": {
    "ExecuteTime": {
     "end_time": "2020-05-19T15:18:04.303151Z",
     "start_time": "2020-05-19T15:17:43.384832Z"
    }
   },
   "outputs": [
    {
     "data": {
      "text/plain": [
       "0"
      ]
     },
     "execution_count": 2,
     "metadata": {},
     "output_type": "execute_result"
    }
   ],
   "source": [
    "train = pd.read_csv('../input/ashrae-energy-prediction/train.csv')\n",
    "train['ny_time'] = train.timestamp.apply(lambda x:x.replace('2016', '2017'))\n",
    "train['nyy_time'] = train.timestamp.apply(lambda x:x.replace('2016', '2018'))\n",
    "\n",
    "train[\"timestamp\"] = pd.to_datetime(train[\"timestamp\"])\n",
    "\n",
    "train_exception = pd.read_pickle('../output/ashrae-eda-2/train_exception.pkl')\n",
    "train['exception'] = train_exception.exception.values\n",
    "del train_exception\n",
    "gc.collect()"
   ]
  },
  {
   "cell_type": "code",
   "execution_count": 3,
   "metadata": {
    "ExecuteTime": {
     "end_time": "2020-05-19T15:18:16.035189Z",
     "start_time": "2020-05-19T15:18:04.304608Z"
    }
   },
   "outputs": [],
   "source": [
    "test = pd.read_csv('../input/ashrae-energy-prediction/test.csv')\n",
    "# test[\"timestamp\"] = pd.to_datetime(test[\"timestamp\"])"
   ]
  },
  {
   "cell_type": "code",
   "execution_count": 4,
   "metadata": {
    "ExecuteTime": {
     "end_time": "2020-05-19T15:18:39.158484Z",
     "start_time": "2020-05-19T15:18:16.036628Z"
    }
   },
   "outputs": [
    {
     "name": "stderr",
     "output_type": "stream",
     "text": [
      "/home/ubuntu/anaconda3/lib/python3.7/site-packages/ipykernel_launcher.py:2: SettingWithCopyWarning: \n",
      "A value is trying to be set on a copy of a slice from a DataFrame.\n",
      "Try using .loc[row_indexer,col_indexer] = value instead\n",
      "\n",
      "See the caveats in the documentation: https://pandas.pydata.org/pandas-docs/stable/user_guide/indexing.html#returning-a-view-versus-a-copy\n",
      "  \n"
     ]
    },
    {
     "data": {
      "text/plain": [
       "0"
      ]
     },
     "execution_count": 4,
     "metadata": {},
     "output_type": "execute_result"
    }
   ],
   "source": [
    "temp_df = train[['building_id', 'meter', 'ny_time', 'exception']]\n",
    "temp_df['timestamp'] = temp_df['ny_time'].values\n",
    "del temp_df['ny_time']\n",
    "gc.collect()\n",
    "test = test.merge(temp_df, on=['building_id', 'meter', 'timestamp'], how='left')\n",
    "gc.collect()"
   ]
  },
  {
   "cell_type": "code",
   "execution_count": 5,
   "metadata": {
    "ExecuteTime": {
     "end_time": "2020-05-19T15:18:39.177965Z",
     "start_time": "2020-05-19T15:18:39.159579Z"
    }
   },
   "outputs": [
    {
     "data": {
      "text/plain": [
       "20"
      ]
     },
     "execution_count": 5,
     "metadata": {},
     "output_type": "execute_result"
    }
   ],
   "source": [
    "gc.collect()"
   ]
  },
  {
   "cell_type": "code",
   "execution_count": 6,
   "metadata": {
    "ExecuteTime": {
     "end_time": "2020-05-19T15:19:00.770985Z",
     "start_time": "2020-05-19T15:18:39.179049Z"
    }
   },
   "outputs": [
    {
     "name": "stderr",
     "output_type": "stream",
     "text": [
      "/home/ubuntu/anaconda3/lib/python3.7/site-packages/ipykernel_launcher.py:2: SettingWithCopyWarning: \n",
      "A value is trying to be set on a copy of a slice from a DataFrame.\n",
      "Try using .loc[row_indexer,col_indexer] = value instead\n",
      "\n",
      "See the caveats in the documentation: https://pandas.pydata.org/pandas-docs/stable/user_guide/indexing.html#returning-a-view-versus-a-copy\n",
      "  \n"
     ]
    },
    {
     "data": {
      "text/plain": [
       "0"
      ]
     },
     "execution_count": 6,
     "metadata": {},
     "output_type": "execute_result"
    }
   ],
   "source": [
    "temp_df = train[['building_id', 'meter', 'nyy_time', 'exception']]\n",
    "temp_df['timestamp'] = temp_df['nyy_time'].values\n",
    "del temp_df['nyy_time']\n",
    "gc.collect()\n",
    "test = test.merge(temp_df, on=['building_id', 'meter', 'timestamp'], how='left')\n",
    "gc.collect()"
   ]
  },
  {
   "cell_type": "code",
   "execution_count": 7,
   "metadata": {
    "ExecuteTime": {
     "end_time": "2020-05-19T15:19:01.473493Z",
     "start_time": "2020-05-19T15:19:00.772172Z"
    }
   },
   "outputs": [
    {
     "data": {
      "text/plain": [
       "20"
      ]
     },
     "execution_count": 7,
     "metadata": {},
     "output_type": "execute_result"
    }
   ],
   "source": [
    "del train, temp_df\n",
    "gc.collect()"
   ]
  },
  {
   "cell_type": "code",
   "execution_count": 8,
   "metadata": {
    "ExecuteTime": {
     "end_time": "2020-05-19T15:19:02.916416Z",
     "start_time": "2020-05-19T15:19:01.474986Z"
    }
   },
   "outputs": [],
   "source": [
    "test.loc[test.exception_y.notna(), 'exception_x'] = test.loc[test.exception_y.notna(), 'exception_y'].values"
   ]
  },
  {
   "cell_type": "code",
   "execution_count": 9,
   "metadata": {
    "ExecuteTime": {
     "end_time": "2020-05-19T15:19:03.227161Z",
     "start_time": "2020-05-19T15:19:02.917744Z"
    }
   },
   "outputs": [
    {
     "data": {
      "text/plain": [
       "40"
      ]
     },
     "execution_count": 9,
     "metadata": {},
     "output_type": "execute_result"
    }
   ],
   "source": [
    "test['exception'] = test.exception_x.values\n",
    "del test['exception_x']\n",
    "del test['exception_y']\n",
    "gc.collect()"
   ]
  },
  {
   "cell_type": "code",
   "execution_count": 10,
   "metadata": {
    "ExecuteTime": {
     "end_time": "2020-05-19T15:19:03.673086Z",
     "start_time": "2020-05-19T15:19:03.228241Z"
    }
   },
   "outputs": [
    {
     "data": {
      "text/plain": [
       " 0.0    38915560\n",
       " NaN     1365768\n",
       "-1.0      773916\n",
       " 1.0      312994\n",
       "-2.0      170502\n",
       " 2.0      158860\n",
       "Name: exception, dtype: int64"
      ]
     },
     "execution_count": 10,
     "metadata": {},
     "output_type": "execute_result"
    }
   ],
   "source": [
    "test.exception.value_counts(dropna=False)"
   ]
  },
  {
   "cell_type": "code",
   "execution_count": 11,
   "metadata": {
    "ExecuteTime": {
     "end_time": "2020-05-19T15:19:06.881865Z",
     "start_time": "2020-05-19T15:19:03.674194Z"
    }
   },
   "outputs": [],
   "source": [
    "test[['exception']].to_pickle('../output/ashrae-test-exception-label/test_exception.pkl')"
   ]
  }
 ],
 "metadata": {
  "kernelspec": {
   "display_name": "Python 3",
   "language": "python",
   "name": "python3"
  },
  "language_info": {
   "codemirror_mode": {
    "name": "ipython",
    "version": 3
   },
   "file_extension": ".py",
   "mimetype": "text/x-python",
   "name": "python",
   "nbconvert_exporter": "python",
   "pygments_lexer": "ipython3",
   "version": "3.7.7"
  }
 },
 "nbformat": 4,
 "nbformat_minor": 1
}
