{
 "cells": [
  {
   "cell_type": "markdown",
   "metadata": {},
   "source": [
    "经验证：\n",
    "* 1、test的时间顺序并不是全部都是时序的，排行榜是按时序排列后取前0.78为public，后0.22为private，所以以后的工作重心将落到train的后44%\n",
    "* 2、测试集中私有部分从2018-07-24 09:00:00开始，有9173472条数据，包含全部的building_id\n",
    "* 3、测试集中公共部分与私有部分对应的数据从2017-07-24 09:00:00开始，有9174900条数据，包含全部的building_id\n",
    "* 4、重点为训练集中2017-07-24 09:00:00后的数据建模，有9003109条数据，占训练集0.445\n",
    "* 5、为防止测试集中不评分的那部分不知道算不算在0.22里面，也为防止一定的过拟合，可以考虑重点关注2017-07月后的训练数据，占0.51\n",
    "* 6、验证EDA1后，发现0-104号建筑5月20日前的大量为0的数据是有误的，训练集不应该对这部分数据进行过拟合，删除这部分数据训练对提高public评分很有帮助，遗憾的是，private并不包含这类数据\n",
    "* 7、猜想某些大范围为0的数据都同0-104号一样是有误的，重点验证7月后的该种数据，测试是否能提高public"
   ]
  },
  {
   "cell_type": "code",
   "execution_count": 1,
   "metadata": {
    "ExecuteTime": {
     "end_time": "2020-05-19T15:22:48.672726Z",
     "start_time": "2020-05-19T15:22:47.834517Z"
    },
    "_cell_guid": "b1076dfc-b9ad-4769-8c92-a6c4dae69d19",
    "_uuid": "8f2839f25d086af736a60e9eeb907d3b93b6e0e5"
   },
   "outputs": [
    {
     "data": {
      "text/html": [
       "        <script type=\"text/javascript\">\n",
       "        window.PlotlyConfig = {MathJaxConfig: 'local'};\n",
       "        if (window.MathJax) {MathJax.Hub.Config({SVG: {font: \"STIX-Web\"}});}\n",
       "        if (typeof require !== 'undefined') {\n",
       "        require.undef(\"plotly\");\n",
       "        requirejs.config({\n",
       "            paths: {\n",
       "                'plotly': ['https://cdn.plot.ly/plotly-latest.min']\n",
       "            }\n",
       "        });\n",
       "        require(['plotly'], function(Plotly) {\n",
       "            window._Plotly = Plotly;\n",
       "        });\n",
       "        }\n",
       "        </script>\n",
       "        "
      ]
     },
     "metadata": {},
     "output_type": "display_data"
    },
    {
     "data": {
      "text/html": [
       "        <script type=\"text/javascript\">\n",
       "        window.PlotlyConfig = {MathJaxConfig: 'local'};\n",
       "        if (window.MathJax) {MathJax.Hub.Config({SVG: {font: \"STIX-Web\"}});}\n",
       "        if (typeof require !== 'undefined') {\n",
       "        require.undef(\"plotly\");\n",
       "        requirejs.config({\n",
       "            paths: {\n",
       "                'plotly': ['https://cdn.plot.ly/plotly-latest.min']\n",
       "            }\n",
       "        });\n",
       "        require(['plotly'], function(Plotly) {\n",
       "            window._Plotly = Plotly;\n",
       "        });\n",
       "        }\n",
       "        </script>\n",
       "        "
      ]
     },
     "metadata": {},
     "output_type": "display_data"
    },
    {
     "data": {
      "text/html": [
       "        <script type=\"text/javascript\">\n",
       "        window.PlotlyConfig = {MathJaxConfig: 'local'};\n",
       "        if (window.MathJax) {MathJax.Hub.Config({SVG: {font: \"STIX-Web\"}});}\n",
       "        if (typeof require !== 'undefined') {\n",
       "        require.undef(\"plotly\");\n",
       "        requirejs.config({\n",
       "            paths: {\n",
       "                'plotly': ['https://cdn.plot.ly/plotly-latest.min']\n",
       "            }\n",
       "        });\n",
       "        require(['plotly'], function(Plotly) {\n",
       "            window._Plotly = Plotly;\n",
       "        });\n",
       "        }\n",
       "        </script>\n",
       "        "
      ]
     },
     "metadata": {},
     "output_type": "display_data"
    },
    {
     "name": "stdout",
     "output_type": "stream",
     "text": [
      "../input/ashrae-energy-prediction/train.csv\n",
      "../input/ashrae-energy-prediction/sample_submission.csv\n",
      "../input/ashrae-energy-prediction/building_metadata.csv\n",
      "../input/ashrae-energy-prediction/weather_train.csv\n",
      "../input/ashrae-energy-prediction/weather_test.csv\n",
      "../input/ashrae-energy-prediction/ashrae-energy-prediction.zip\n",
      "../input/ashrae-energy-prediction/test.csv\n"
     ]
    }
   ],
   "source": [
    "import numpy as np # linear algebra\n",
    "import pandas as pd # data processing, CSV file I/O (e.g. pd.read_csv)\n",
    "# Suppress warnings \n",
    "import warnings\n",
    "warnings.filterwarnings('ignore')\n",
    "import gc\n",
    "\n",
    "\n",
    "# matplotlib and seaborn for plotting\n",
    "import matplotlib.pyplot as plt\n",
    "%matplotlib inline\n",
    "\n",
    "import seaborn as sns\n",
    "import matplotlib.patches as patches\n",
    "\n",
    "from plotly import tools, subplots\n",
    "import plotly.offline as py\n",
    "py.init_notebook_mode(connected=True)\n",
    "import plotly.graph_objs as go\n",
    "import plotly.express as px\n",
    "pd.set_option('max_columns', 100)\n",
    "\n",
    "\n",
    "py.init_notebook_mode(connected=True)\n",
    "from plotly.offline import init_notebook_mode, iplot\n",
    "init_notebook_mode(connected=True)\n",
    "import plotly.graph_objs as go\n",
    "\n",
    "# Input data files are available in the \"../input/\" directory.\n",
    "# For example, running this (by clicking run or pressing Shift+Enter) will list all files under the input directory\n",
    "\n",
    "import os\n",
    "for dirname, _, filenames in os.walk('../input'):\n",
    "    for filename in filenames:\n",
    "        print(os.path.join(dirname, filename))"
   ]
  },
  {
   "cell_type": "code",
   "execution_count": 2,
   "metadata": {
    "ExecuteTime": {
     "end_time": "2020-05-19T15:23:06.842094Z",
     "start_time": "2020-05-19T15:22:48.674012Z"
    },
    "_cell_guid": "79c7e3d0-c299-4dcb-8224-4455121ee9b0",
    "_uuid": "d629ff2d2480ee46fbb7e2d37f6b5fab8052498a"
   },
   "outputs": [],
   "source": [
    "# 导入数据, 只有train 和 test\n",
    "train = pd.read_csv('../input/ashrae-energy-prediction/train.csv')\n",
    "test = pd.read_csv('../input/ashrae-energy-prediction/test.csv')\n",
    "building_df = pd.read_csv('../input/ashrae-energy-prediction/building_metadata.csv')"
   ]
  },
  {
   "cell_type": "code",
   "execution_count": 3,
   "metadata": {
    "ExecuteTime": {
     "end_time": "2020-05-19T15:23:14.875441Z",
     "start_time": "2020-05-19T15:23:06.843681Z"
    }
   },
   "outputs": [],
   "source": [
    "# 时间戳转换日期\n",
    "train[\"timestamp\"] = pd.to_datetime(train[\"timestamp\"])\n",
    "test[\"timestamp\"] = pd.to_datetime(test[\"timestamp\"])"
   ]
  },
  {
   "cell_type": "code",
   "execution_count": 4,
   "metadata": {
    "ExecuteTime": {
     "end_time": "2020-05-19T15:23:15.311366Z",
     "start_time": "2020-05-19T15:23:14.876850Z"
    }
   },
   "outputs": [
    {
     "data": {
      "text/plain": [
       "31"
      ]
     },
     "execution_count": 4,
     "metadata": {},
     "output_type": "execute_result"
    }
   ],
   "source": [
    "train_exception = pd.read_pickle('../output/ashrae-eda-2/train_exception.pkl')\n",
    "train['exception'] = train_exception.exception.values\n",
    "del train_exception\n",
    "gc.collect()"
   ]
  },
  {
   "cell_type": "code",
   "execution_count": 5,
   "metadata": {
    "ExecuteTime": {
     "end_time": "2020-05-19T15:23:16.373422Z",
     "start_time": "2020-05-19T15:23:15.312490Z"
    }
   },
   "outputs": [
    {
     "data": {
      "text/plain": [
       "20"
      ]
     },
     "execution_count": 5,
     "metadata": {},
     "output_type": "execute_result"
    }
   ],
   "source": [
    "test_exception = pd.read_pickle('../output/ashrae-test-exception-label/test_exception.pkl')\n",
    "test['exception'] = test_exception.exception.values\n",
    "del test_exception\n",
    "gc.collect()"
   ]
  },
  {
   "cell_type": "code",
   "execution_count": 6,
   "metadata": {
    "ExecuteTime": {
     "end_time": "2020-05-19T15:23:16.376435Z",
     "start_time": "2020-05-19T15:23:16.374589Z"
    }
   },
   "outputs": [],
   "source": [
    "# # 结合konstan的1.36的预测观察\n",
    "# sub_136 = pd.read_csv('../input/ashrae-baseline-lgbm/submission.csv')\n",
    "# test['meter_reading'] = sub_136.meter_reading.values\n",
    "# del sub_136\n",
    "\n",
    "# sub_test = pd.read_csv('../input/ashrae-baseline-lgbm-predict/submission.csv')\n",
    "# test['meter_reading_test'] = sub_test.meter_reading.values\n",
    "# del sub_test\n",
    "# gc.collect()"
   ]
  },
  {
   "cell_type": "code",
   "execution_count": 7,
   "metadata": {
    "ExecuteTime": {
     "end_time": "2020-05-19T15:23:16.419222Z",
     "start_time": "2020-05-19T15:23:16.377468Z"
    }
   },
   "outputs": [
    {
     "data": {
      "text/plain": [
       "40"
      ]
     },
     "execution_count": 7,
     "metadata": {},
     "output_type": "execute_result"
    }
   ],
   "source": [
    "gc.collect()"
   ]
  },
  {
   "cell_type": "code",
   "execution_count": 8,
   "metadata": {
    "ExecuteTime": {
     "end_time": "2020-05-19T15:23:16.422730Z",
     "start_time": "2020-05-19T15:23:16.421064Z"
    }
   },
   "outputs": [],
   "source": [
    "# num = 0\n",
    "# for i in range(1449):\n",
    "#     meter_array = train[train.building_id == i].meter.unique()\n",
    "#     if len(meter_array) == 3:\n",
    "#         if (1 in meter_array) and (2 in meter_array) and (3 in meter_array):\n",
    "#             num += 1\n",
    "# print(num)"
   ]
  },
  {
   "cell_type": "code",
   "execution_count": 9,
   "metadata": {
    "ExecuteTime": {
     "end_time": "2020-05-19T15:23:16.425871Z",
     "start_time": "2020-05-19T15:23:16.424127Z"
    }
   },
   "outputs": [],
   "source": [
    "# 1413个建筑有0，498个建筑有1，324个建筑有2，145个建筑有3\n",
    "# [0,1]有132个，[0,2]64，[0,3]21, [1,2]13\n",
    "# [0,1,2]220, [0,1,3]111\n",
    "# [0,1,2,3]13"
   ]
  },
  {
   "cell_type": "code",
   "execution_count": 10,
   "metadata": {
    "ExecuteTime": {
     "end_time": "2020-05-19T15:23:16.465985Z",
     "start_time": "2020-05-19T15:23:16.426909Z"
    }
   },
   "outputs": [
    {
     "data": {
      "text/plain": [
       "60"
      ]
     },
     "execution_count": 10,
     "metadata": {},
     "output_type": "execute_result"
    }
   ],
   "source": [
    "gc.collect()"
   ]
  },
  {
   "cell_type": "code",
   "execution_count": 11,
   "metadata": {
    "ExecuteTime": {
     "end_time": "2020-05-19T15:23:16.468751Z",
     "start_time": "2020-05-19T15:23:16.467084Z"
    }
   },
   "outputs": [],
   "source": [
    "# (0,0)到(104,0)从5月中旬才开始有读数, 其中有些在开始有读数之前有一些读数，不知什么情况\n",
    "# 猜测该地区出现了大面积的电表故障或者大面积的电力故障，其中有极少建筑幸存或用于检修测试，所以有少量读数，5月中旬后修好才恢复该地区正常用电或读表"
   ]
  },
  {
   "cell_type": "code",
   "execution_count": 12,
   "metadata": {
    "ExecuteTime": {
     "end_time": "2020-05-19T15:23:16.654990Z",
     "start_time": "2020-05-19T15:23:16.469780Z"
    }
   },
   "outputs": [
    {
     "data": {
      "text/plain": [
       " 0    19506044\n",
       "-1      388110\n",
       " 1      156809\n",
       "-2       85465\n",
       " 2       79672\n",
       "Name: exception, dtype: int64"
      ]
     },
     "execution_count": 12,
     "metadata": {},
     "output_type": "execute_result"
    }
   ],
   "source": [
    "train.exception.value_counts(dropna=False)"
   ]
  },
  {
   "cell_type": "code",
   "execution_count": 13,
   "metadata": {
    "ExecuteTime": {
     "end_time": "2020-05-19T15:23:17.099813Z",
     "start_time": "2020-05-19T15:23:16.656159Z"
    }
   },
   "outputs": [
    {
     "data": {
      "text/plain": [
       " 0.0    38915560\n",
       " NaN     1365768\n",
       "-1.0      773916\n",
       " 1.0      312994\n",
       "-2.0      170502\n",
       " 2.0      158860\n",
       "Name: exception, dtype: int64"
      ]
     },
     "execution_count": 13,
     "metadata": {},
     "output_type": "execute_result"
    }
   ],
   "source": [
    "test.exception.value_counts(dropna=False)"
   ]
  },
  {
   "cell_type": "code",
   "execution_count": 14,
   "metadata": {
    "ExecuteTime": {
     "end_time": "2020-05-19T15:23:17.106243Z",
     "start_time": "2020-05-19T15:23:17.101034Z"
    }
   },
   "outputs": [],
   "source": [
    "def exception_label(bid, meter, start, end):\n",
    "    print(f'标记bid={bid}, meter={meter}异常')\n",
    "    train.loc[(train.building_id == bid)  & (train.meter == meter) & (train.timestamp >= start) & (train.timestamp <= end), 'exception'] = 1\n",
    "    test.loc[(test.building_id == bid)  & (test.meter == meter) & (test.timestamp >= start.replace('2016', '2017')) & (test.timestamp <= end.replace('2016', '2017')), 'exception'] = 1\n",
    "    test.loc[(test.building_id == bid)  & (test.meter == meter) & (test.timestamp >= start.replace('2016', '2018')) & (test.timestamp <= end.replace('2016', '2018')), 'exception'] = 1\n",
    "    gc.collect()"
   ]
  },
  {
   "cell_type": "code",
   "execution_count": 15,
   "metadata": {
    "ExecuteTime": {
     "end_time": "2020-05-19T15:23:49.887076Z",
     "start_time": "2020-05-19T15:23:17.107443Z"
    }
   },
   "outputs": [],
   "source": [
    "## 异常标记\n",
    "\n",
    "train.loc[(train.building_id == 7)  & (train.meter == 1) & (train.timestamp > '2016-11-03 10:00:00') & (train.timestamp < '2016-11-28 13:00:00'), 'exception'] = 1\n",
    "test.loc[(test.building_id == 7)  & (test.meter == 1) & (test.timestamp > '2017-11-03 10:00:00') & (test.timestamp < '2017-11-28 13:00:00'), 'exception'] = 1\n",
    "test.loc[(test.building_id == 7)  & (test.meter == 1) & (test.timestamp > '2018-11-03 10:00:00') & (test.timestamp < '2018-11-28 13:00:00'), 'exception'] = 1\n",
    "\n",
    "train.loc[(train.building_id == 9)  & (train.meter == 1) & (train.timestamp > '2016-12-06 09:00:00'), 'exception'] = 1\n",
    "test.loc[(test.building_id == 9)  & (test.meter == 1) & (test.timestamp > '2017-12-06 09:00:00') & (test.timestamp <= '2017-12-31 23:00:00'), 'exception'] = 1\n",
    "test.loc[(test.building_id == 9)  & (test.meter == 1) & (test.timestamp > '2018-12-06 09:00:00'), 'exception'] = 1\n",
    "\n",
    "train.loc[(train.building_id == 29) & (train.meter == 1) & (train.timestamp > '2016-11-05 12:00:00'), 'exception'] = 1\n",
    "test.loc[(test.building_id == 29) & (test.meter == 1) & (test.timestamp > '2017-11-05 12:00:00') & (test.timestamp <= '2017-12-31 23:00:00'), 'exception'] = 1\n",
    "test.loc[(test.building_id == 29) & (test.meter == 1) & (test.timestamp > '2018-11-05 12:00:00'), 'exception'] = 1\n",
    "\n",
    "train.loc[(train.building_id == 75) & (train.meter == 1) & (train.timestamp > '2016-08-05 13:00:00') & (train.timestamp < '2016-08-26 10:00:00'), 'exception'] = 1\n",
    "test.loc[(test.building_id == 75) & (test.meter == 1) & (test.timestamp > '2017-08-05 13:00:00') & (test.timestamp < '2017-08-26 10:00:00'), 'exception'] = 1\n",
    "test.loc[(test.building_id == 75) & (test.meter == 1) & (test.timestamp > '2018-08-05 13:00:00') & (test.timestamp < '2018-08-26 10:00:00'), 'exception'] = 1\n",
    "\n",
    "train.loc[(train.building_id == 95) & (train.meter == 1) & (train.timestamp > '2016-08-08 10:00:00') & (train.timestamp < '2016-08-25 13:00:00'), 'exception'] = 1\n",
    "test.loc[(test.building_id == 95) & (test.meter == 1) & (test.timestamp > '2017-08-08 10:00:00') & (test.timestamp < '2017-08-25 13:00:00'), 'exception'] = 1\n",
    "test.loc[(test.building_id == 95) & (test.meter == 1) & (test.timestamp > '2018-08-08 10:00:00') & (test.timestamp < '2018-08-25 13:00:00'), 'exception'] = 1\n",
    "\n",
    "train.loc[(train.building_id == 96) & (train.meter == 1) & (train.timestamp > '2016-09-12 14:00:00') & (train.timestamp < '2016-09-26 15:00:00'), 'exception'] = 1\n",
    "test.loc[(test.building_id == 96) & (test.meter == 1) & (test.timestamp > '2017-09-12 14:00:00') & (test.timestamp < '2017-09-26 15:00:00'), 'exception'] = 1\n",
    "test.loc[(test.building_id == 96) & (test.meter == 1) & (test.timestamp > '2018-09-12 14:00:00') & (test.timestamp < '2018-09-26 15:00:00'), 'exception'] = 1\n",
    "\n",
    "train.loc[(train.building_id == 97) & (train.meter == 1) & (train.timestamp > '2016-08-08 14:00:00') & (train.timestamp < '2016-08-25 14:00:00'), 'exception'] = 1\n",
    "test.loc[(test.building_id == 97) & (test.meter == 1) & (test.timestamp > '2017-08-08 14:00:00') & (test.timestamp < '2017-08-25 14:00:00'), 'exception'] = 1\n",
    "test.loc[(test.building_id == 97) & (test.meter == 1) & (test.timestamp > '2018-08-08 14:00:00') & (test.timestamp < '2018-08-25 14:00:00'), 'exception'] = 1\n",
    "\n",
    "train.loc[(train.building_id == 162) & (train.meter == 1) & (train.timestamp > '2016-09-13 12:00:00') & (train.timestamp < '2016-10-10 09:00:00'), 'exception'] = 1\n",
    "test.loc[(test.building_id == 162) & (test.meter == 1) & (test.timestamp > '2017-09-13 12:00:00') & (test.timestamp < '2017-10-10 09:00:00'), 'exception'] = 1\n",
    "test.loc[(test.building_id == 162) & (test.meter == 1) & (test.timestamp > '2018-09-13 12:00:00') & (test.timestamp < '2018-10-10 09:00:00'), 'exception'] = 1\n",
    "\n",
    "train.loc[(train.building_id == 163) & (train.meter == 1) & (train.timestamp > '2016-11-17 08:00:00') & (train.timestamp < '2016-11-21 06:00:00'), 'exception'] = 1\n",
    "train.loc[(train.building_id == 163) & (train.meter == 1) & (train.timestamp > '2016-11-25 00:00:00') & (train.timestamp < '2016-12-16 11:00:00'), 'exception'] = 1\n",
    "train.loc[(train.building_id == 163) & (train.meter == 1) & (train.timestamp > '2016-12-18 04:00:00') & (train.timestamp < '2016-12-23 03:00:00'), 'exception'] = 1\n",
    "train.loc[(train.building_id == 163) & (train.meter == 1) & (train.timestamp > '2016-12-26 05:00:00') & (train.timestamp < '2016-12-31 05:00:00'), 'exception'] = 1\n",
    "\n",
    "test.loc[(test.building_id == 163) & (test.meter == 1) & (test.timestamp > '2017-11-17 08:00:00') & (test.timestamp < '2017-11-21 06:00:00'), 'exception'] = 1\n",
    "test.loc[(test.building_id == 163) & (test.meter == 1) & (test.timestamp > '2017-11-25 00:00:00') & (test.timestamp < '2017-12-16 11:00:00'), 'exception'] = 1\n",
    "test.loc[(test.building_id == 163) & (test.meter == 1) & (test.timestamp > '2017-12-18 04:00:00') & (test.timestamp < '2017-12-23 03:00:00'), 'exception'] = 1\n",
    "test.loc[(test.building_id == 163) & (test.meter == 1) & (test.timestamp > '2017-12-26 05:00:00') & (test.timestamp < '2017-12-31 05:00:00'), 'exception'] = 1\n",
    "\n",
    "test.loc[(test.building_id == 163) & (test.meter == 1) & (test.timestamp > '2018-11-17 08:00:00') & (test.timestamp < '2018-11-21 06:00:00'), 'exception'] = 1\n",
    "test.loc[(test.building_id == 163) & (test.meter == 1) & (test.timestamp > '2018-11-25 00:00:00') & (test.timestamp < '2018-12-16 11:00:00'), 'exception'] = 1\n",
    "test.loc[(test.building_id == 163) & (test.meter == 1) & (test.timestamp > '2018-12-18 04:00:00') & (test.timestamp < '2018-12-23 03:00:00'), 'exception'] = 1\n",
    "test.loc[(test.building_id == 163) & (test.meter == 1) & (test.timestamp > '2018-12-26 05:00:00') & (test.timestamp < '2018-12-31 05:00:00'), 'exception'] = 1\n",
    "\n",
    "\n",
    "train.loc[(train.building_id == 180) & (train.meter == 1) & (train.timestamp > '2016-02-20 07:00:00') & (train.timestamp < '2016-04-05 12:00:00'), 'exception'] = 1\n",
    "train.loc[(train.building_id == 180) & (train.meter == 1) & (train.timestamp > '2016-02-20 07:00:00') & (train.timestamp < '2016-04-05 12:00:00'), 'exception'] = 1\n",
    "train.loc[(train.building_id == 180) & (train.meter == 1) & (train.timestamp > '2016-04-09 07:00:00') & (train.timestamp < '2016-10-19 23:00:00'), 'exception'] = 1\n",
    "train.loc[(train.building_id == 180) & (train.meter == 1) & (train.timestamp > '2016-10-20 23:00:00') & (train.timestamp < '2016-12-31 22:00:00'), 'exception'] = 1\n",
    "\n",
    "test.loc[(test.building_id == 180) & (test.meter == 1) & (test.timestamp > '2017-02-20 07:00:00') & (test.timestamp < '2017-04-05 12:00:00'), 'exception'] = 1\n",
    "test.loc[(test.building_id == 180) & (test.meter == 1) & (test.timestamp > '2017-02-20 07:00:00') & (test.timestamp < '2017-04-05 12:00:00'), 'exception'] = 1\n",
    "test.loc[(test.building_id == 180) & (test.meter == 1) & (test.timestamp > '2017-04-09 07:00:00') & (test.timestamp < '2017-10-19 23:00:00'), 'exception'] = 1\n",
    "test.loc[(test.building_id == 180) & (test.meter == 1) & (test.timestamp > '2017-10-20 23:00:00') & (test.timestamp < '2017-12-31 22:00:00'), 'exception'] = 1\n",
    "\n",
    "test.loc[(test.building_id == 180) & (test.meter == 1) & (test.timestamp > '2018-02-20 07:00:00') & (test.timestamp < '2018-04-05 12:00:00'), 'exception'] = 1\n",
    "test.loc[(test.building_id == 180) & (test.meter == 1) & (test.timestamp > '2018-02-20 07:00:00') & (test.timestamp < '2018-04-05 12:00:00'), 'exception'] = 1\n",
    "test.loc[(test.building_id == 180) & (test.meter == 1) & (test.timestamp > '2018-04-09 07:00:00') & (test.timestamp < '2018-10-19 23:00:00'), 'exception'] = 1\n",
    "test.loc[(test.building_id == 180) & (test.meter == 1) & (test.timestamp > '2018-10-20 23:00:00') & (test.timestamp < '2018-12-31 22:00:00'), 'exception'] = 1\n",
    "\n",
    "train.loc[(train.building_id == 188) & (train.meter == 1) & (train.timestamp > '2016-09-09 15:00:00') & (train.timestamp < '2016-11-07 13:00:00'), 'exception'] = 1\n",
    "test.loc[(test.building_id == 188) & (test.meter == 1) & (test.timestamp > '2017-09-09 15:00:00') & (test.timestamp < '2017-11-07 13:00:00'), 'exception'] = 1\n",
    "test.loc[(test.building_id == 188) & (test.meter == 1) & (test.timestamp > '2018-09-09 15:00:00') & (test.timestamp < '2018-11-07 13:00:00'), 'exception'] = 1\n",
    "\n",
    "train.loc[(train.building_id == 189) & (train.meter == 1) & (train.timestamp > '2016-11-29 06:00:00') & (train.timestamp < '2016-12-13 14:00:00'), 'exception'] = 1\n",
    "test.loc[(test.building_id == 189) & (test.meter == 1) & (test.timestamp > '2017-11-29 06:00:00') & (test.timestamp < '2017-12-13 14:00:00'), 'exception'] = 1\n",
    "test.loc[(test.building_id == 189) & (test.meter == 1) & (test.timestamp > '2018-11-29 06:00:00') & (test.timestamp < '2018-12-13 14:00:00'), 'exception'] = 1\n",
    "\n",
    "# 192自己学得还不错"
   ]
  },
  {
   "cell_type": "code",
   "execution_count": 16,
   "metadata": {
    "ExecuteTime": {
     "end_time": "2020-05-19T15:32:24.924075Z",
     "start_time": "2020-05-19T15:23:49.888456Z"
    }
   },
   "outputs": [
    {
     "name": "stdout",
     "output_type": "stream",
     "text": [
      "标记bid=206, meter=1异常\n",
      "标记bid=207, meter=1异常\n",
      "标记bid=235, meter=1异常\n",
      "标记bid=252, meter=1异常\n",
      "标记bid=252, meter=1异常\n",
      "标记bid=252, meter=1异常\n",
      "标记bid=252, meter=1异常\n",
      "标记bid=258, meter=1异常\n",
      "标记bid=258, meter=1异常\n",
      "标记bid=259, meter=1异常\n",
      "标记bid=259, meter=1异常\n",
      "标记bid=259, meter=1异常\n",
      "标记bid=259, meter=1异常\n",
      "标记bid=259, meter=1异常\n",
      "标记bid=259, meter=1异常\n",
      "标记bid=259, meter=1异常\n",
      "标记bid=259, meter=1异常\n",
      "标记bid=260, meter=1异常\n",
      "标记bid=260, meter=1异常\n",
      "标记bid=263, meter=1异常\n",
      "标记bid=265, meter=1异常\n",
      "标记bid=265, meter=1异常\n",
      "标记bid=265, meter=1异常\n",
      "标记bid=265, meter=1异常\n",
      "标记bid=265, meter=1异常\n",
      "标记bid=265, meter=1异常\n",
      "标记bid=267, meter=1异常\n",
      "标记bid=267, meter=1异常\n",
      "标记bid=267, meter=1异常\n",
      "标记bid=268, meter=1异常\n",
      "标记bid=284, meter=1异常\n",
      "标记bid=290, meter=1异常\n",
      "标记bid=290, meter=1异常\n",
      "标记bid=290, meter=1异常\n",
      "标记bid=745, meter=1异常\n",
      "标记bid=745, meter=1异常\n",
      "标记bid=745, meter=1异常\n",
      "标记bid=747, meter=1异常\n",
      "标记bid=747, meter=1异常\n",
      "标记bid=747, meter=1异常\n",
      "标记bid=747, meter=1异常\n",
      "标记bid=747, meter=1异常\n",
      "标记bid=747, meter=1异常\n",
      "标记bid=750, meter=1异常\n",
      "标记bid=752, meter=1异常\n",
      "标记bid=753, meter=1异常\n",
      "标记bid=753, meter=1异常\n",
      "标记bid=753, meter=1异常\n",
      "标记bid=753, meter=1异常\n",
      "标记bid=753, meter=1异常\n",
      "标记bid=753, meter=1异常\n",
      "标记bid=753, meter=1异常\n",
      "标记bid=753, meter=1异常\n",
      "标记bid=753, meter=1异常\n",
      "标记bid=763, meter=1异常\n",
      "标记bid=765, meter=1异常\n",
      "标记bid=765, meter=1异常\n",
      "标记bid=765, meter=1异常\n",
      "标记bid=765, meter=1异常\n",
      "标记bid=765, meter=1异常\n",
      "标记bid=765, meter=1异常\n",
      "标记bid=769, meter=1异常\n",
      "标记bid=769, meter=1异常\n",
      "标记bid=769, meter=1异常\n",
      "标记bid=770, meter=1异常\n",
      "标记bid=774, meter=1异常\n",
      "标记bid=774, meter=1异常\n",
      "标记bid=774, meter=1异常\n",
      "标记bid=776, meter=1异常\n",
      "标记bid=777, meter=1异常\n",
      "标记bid=777, meter=1异常\n",
      "标记bid=777, meter=1异常\n",
      "标记bid=777, meter=1异常\n",
      "标记bid=777, meter=1异常\n",
      "标记bid=778, meter=1异常\n",
      "标记bid=778, meter=1异常\n",
      "标记bid=778, meter=1异常\n",
      "标记bid=780, meter=1异常\n",
      "标记bid=780, meter=1异常\n",
      "标记bid=786, meter=1异常\n",
      "标记bid=787, meter=1异常\n",
      "标记bid=787, meter=1异常\n",
      "标记bid=787, meter=1异常\n",
      "标记bid=874, meter=1异常\n",
      "标记bid=874, meter=1异常\n",
      "标记bid=875, meter=1异常\n",
      "标记bid=875, meter=1异常\n",
      "标记bid=878, meter=1异常\n",
      "标记bid=878, meter=1异常\n",
      "标记bid=883, meter=1异常\n",
      "标记bid=883, meter=1异常\n",
      "标记bid=885, meter=1异常\n",
      "标记bid=885, meter=1异常\n",
      "标记bid=886, meter=1异常\n",
      "标记bid=886, meter=1异常\n",
      "标记bid=887, meter=1异常\n",
      "标记bid=887, meter=1异常\n",
      "标记bid=888, meter=1异常\n",
      "标记bid=888, meter=1异常\n",
      "标记bid=889, meter=1异常\n",
      "标记bid=889, meter=1异常\n",
      "标记bid=890, meter=1异常\n",
      "标记bid=890, meter=1异常\n",
      "标记bid=891, meter=1异常\n",
      "标记bid=891, meter=1异常\n",
      "标记bid=893, meter=1异常\n",
      "标记bid=893, meter=1异常\n",
      "标记bid=893, meter=1异常\n",
      "标记bid=894, meter=1异常\n",
      "标记bid=894, meter=1异常\n",
      "标记bid=911, meter=1异常\n",
      "标记bid=929, meter=1异常\n",
      "标记bid=954, meter=1异常\n",
      "标记bid=957, meter=1异常\n",
      "标记bid=961, meter=1异常\n",
      "标记bid=978, meter=1异常\n",
      "标记bid=978, meter=1异常\n",
      "标记bid=895, meter=1异常\n",
      "标记bid=895, meter=1异常\n",
      "标记bid=896, meter=1异常\n",
      "标记bid=896, meter=1异常\n",
      "标记bid=898, meter=1异常\n",
      "标记bid=898, meter=1异常\n",
      "标记bid=899, meter=1异常\n",
      "标记bid=899, meter=1异常\n",
      "标记bid=900, meter=1异常\n",
      "标记bid=900, meter=1异常\n",
      "标记bid=901, meter=1异常\n",
      "标记bid=901, meter=1异常\n",
      "标记bid=903, meter=1异常\n",
      "标记bid=903, meter=1异常\n",
      "标记bid=905, meter=1异常\n",
      "标记bid=905, meter=1异常\n",
      "标记bid=906, meter=1异常\n",
      "标记bid=906, meter=1异常\n",
      "标记bid=907, meter=1异常\n",
      "标记bid=907, meter=1异常\n",
      "标记bid=908, meter=1异常\n",
      "标记bid=908, meter=1异常\n",
      "标记bid=910, meter=1异常\n",
      "标记bid=910, meter=1异常\n",
      "标记bid=911, meter=1异常\n",
      "标记bid=911, meter=1异常\n",
      "标记bid=912, meter=1异常\n",
      "标记bid=912, meter=1异常\n",
      "标记bid=913, meter=1异常\n",
      "标记bid=913, meter=1异常\n",
      "标记bid=914, meter=1异常\n",
      "标记bid=914, meter=1异常\n",
      "标记bid=915, meter=1异常\n",
      "标记bid=915, meter=1异常\n",
      "标记bid=916, meter=1异常\n",
      "标记bid=916, meter=1异常\n",
      "标记bid=917, meter=1异常\n",
      "标记bid=917, meter=1异常\n",
      "标记bid=918, meter=1异常\n",
      "标记bid=918, meter=1异常\n",
      "标记bid=920, meter=1异常\n",
      "标记bid=920, meter=1异常\n",
      "标记bid=921, meter=1异常\n",
      "标记bid=921, meter=1异常\n",
      "标记bid=922, meter=1异常\n",
      "标记bid=922, meter=1异常\n",
      "标记bid=923, meter=1异常\n",
      "标记bid=923, meter=1异常\n",
      "标记bid=924, meter=1异常\n",
      "标记bid=924, meter=1异常\n",
      "标记bid=925, meter=1异常\n",
      "标记bid=925, meter=1异常\n",
      "标记bid=926, meter=1异常\n",
      "标记bid=926, meter=1异常\n",
      "标记bid=927, meter=1异常\n",
      "标记bid=927, meter=1异常\n",
      "标记bid=928, meter=1异常\n",
      "标记bid=928, meter=1异常\n",
      "标记bid=929, meter=1异常\n",
      "标记bid=929, meter=1异常\n",
      "标记bid=931, meter=1异常\n",
      "标记bid=931, meter=1异常\n",
      "标记bid=932, meter=1异常\n",
      "标记bid=932, meter=1异常\n",
      "标记bid=933, meter=1异常\n",
      "标记bid=933, meter=1异常\n",
      "标记bid=934, meter=1异常\n",
      "标记bid=934, meter=1异常\n",
      "标记bid=935, meter=1异常\n",
      "标记bid=935, meter=1异常\n",
      "标记bid=942, meter=1异常\n",
      "标记bid=942, meter=1异常\n",
      "标记bid=945, meter=1异常\n",
      "标记bid=945, meter=1异常\n",
      "标记bid=946, meter=1异常\n",
      "标记bid=946, meter=1异常\n",
      "标记bid=948, meter=1异常\n",
      "标记bid=948, meter=1异常\n",
      "标记bid=949, meter=1异常\n",
      "标记bid=949, meter=1异常\n",
      "标记bid=951, meter=1异常\n",
      "标记bid=951, meter=1异常\n",
      "标记bid=952, meter=1异常\n",
      "标记bid=952, meter=1异常\n",
      "标记bid=953, meter=1异常\n",
      "标记bid=953, meter=1异常\n",
      "标记bid=954, meter=1异常\n",
      "标记bid=954, meter=1异常\n",
      "标记bid=955, meter=1异常\n",
      "标记bid=955, meter=1异常\n",
      "标记bid=956, meter=1异常\n",
      "标记bid=956, meter=1异常\n",
      "标记bid=957, meter=1异常\n",
      "标记bid=957, meter=1异常\n",
      "标记bid=958, meter=1异常\n",
      "标记bid=958, meter=1异常\n",
      "标记bid=959, meter=1异常\n",
      "标记bid=959, meter=1异常\n",
      "标记bid=960, meter=1异常\n",
      "标记bid=960, meter=1异常\n",
      "标记bid=961, meter=1异常\n",
      "标记bid=961, meter=1异常\n",
      "标记bid=962, meter=1异常\n",
      "标记bid=962, meter=1异常\n",
      "标记bid=963, meter=1异常\n",
      "标记bid=963, meter=1异常\n",
      "标记bid=964, meter=1异常\n",
      "标记bid=964, meter=1异常\n",
      "标记bid=965, meter=1异常\n",
      "标记bid=965, meter=1异常\n",
      "标记bid=966, meter=1异常\n",
      "标记bid=966, meter=1异常\n",
      "标记bid=967, meter=1异常\n",
      "标记bid=967, meter=1异常\n",
      "标记bid=968, meter=1异常\n",
      "标记bid=968, meter=1异常\n",
      "标记bid=969, meter=1异常\n",
      "标记bid=969, meter=1异常\n",
      "标记bid=971, meter=1异常\n",
      "标记bid=971, meter=1异常\n",
      "标记bid=972, meter=1异常\n",
      "标记bid=972, meter=1异常\n",
      "标记bid=973, meter=1异常\n",
      "标记bid=973, meter=1异常\n",
      "标记bid=974, meter=1异常\n",
      "标记bid=974, meter=1异常\n",
      "标记bid=975, meter=1异常\n",
      "标记bid=975, meter=1异常\n",
      "标记bid=976, meter=1异常\n",
      "标记bid=976, meter=1异常\n",
      "标记bid=978, meter=1异常\n",
      "标记bid=978, meter=1异常\n",
      "标记bid=979, meter=1异常\n",
      "标记bid=979, meter=1异常\n",
      "标记bid=980, meter=1异常\n",
      "标记bid=980, meter=1异常\n",
      "标记bid=981, meter=1异常\n",
      "标记bid=981, meter=1异常\n",
      "标记bid=983, meter=1异常\n",
      "标记bid=983, meter=1异常\n",
      "标记bid=987, meter=1异常\n",
      "标记bid=987, meter=1异常\n",
      "标记bid=989, meter=1异常\n",
      "标记bid=989, meter=1异常\n",
      "标记bid=990, meter=1异常\n",
      "标记bid=990, meter=1异常\n",
      "标记bid=991, meter=1异常\n",
      "标记bid=991, meter=1异常\n",
      "标记bid=992, meter=1异常\n",
      "标记bid=992, meter=1异常\n",
      "标记bid=993, meter=1异常\n",
      "标记bid=993, meter=1异常\n",
      "标记bid=994, meter=1异常\n",
      "标记bid=994, meter=1异常\n",
      "标记bid=995, meter=1异常\n",
      "标记bid=995, meter=1异常\n",
      "标记bid=996, meter=1异常\n",
      "标记bid=996, meter=1异常\n",
      "标记bid=997, meter=1异常\n",
      "标记bid=997, meter=1异常\n"
     ]
    }
   ],
   "source": [
    "exception_label(206, 1, '2016-11-30 16:00:00', '2016-12-14 14:00:00')\n",
    "\n",
    "exception_label(207, 1, '2016-07-02 21:00:00', '2016-08-25 11:00:00')\n",
    "\n",
    "# 231暂时不处理, 233不明\n",
    "\n",
    "exception_label(235, 1, '2016-12-16 09:00:00', '2016-12-31 23:00:00')\n",
    "\n",
    "# 直接预测还不错，不一定需要处理, 周围几个一样情况的也是\n",
    "# exception_label(247, 1, '2016-08-08 07:00:00', '2016-08-16 08:00:00')\n",
    "# exception_label(247, 1, '2016-10-28 07:00:00', '2016-11-01 12:00:00')\n",
    "\n",
    "exception_label(252, 1, '2016-03-22 07:00:00', '2016-06-02 16:00:00')\n",
    "exception_label(252, 1, '2016-08-19 08:00:00', '2016-11-16 11:00:00')\n",
    "exception_label(252, 1, '2016-11-23 17:00:00', '2016-12-08 14:00:00')\n",
    "exception_label(252, 1, '2016-12-16 17:00:00', '2016-12-29 14:00:00')\n",
    "\n",
    "exception_label(258, 1, '2016-08-29 09:00:00', '2016-09-08 13:00:00')\n",
    "exception_label(258, 1, '2016-09-19 03:00:00', '2016-12-11 13:00:00')\n",
    "\n",
    "exception_label(259, 1, '2016-01-01 00:00:00', '2016-04-07 23:00:00')\n",
    "exception_label(259, 1, '2016-04-15 00:00:00', '2016-05-07 02:00:00')\n",
    "exception_label(259, 1, '2016-05-08 20:00:00', '2016-05-19 05:00:00')\n",
    "exception_label(259, 1, '2016-05-20 09:00:00', '2016-06-08 10:00:00')\n",
    "exception_label(259, 1, '2016-06-13 16:00:00', '2016-06-21 07:00:00')\n",
    "exception_label(259, 1, '2016-10-12 20:00:00', '2016-10-24 13:00:00')\n",
    "exception_label(259, 1, '2016-11-12 14:00:00', '2016-11-20 18:00:00')\n",
    "exception_label(259, 1, '2016-11-23 17:00:00', '2016-12-15 23:00:00')\n",
    "\n",
    "exception_label(260, 1, '2016-05-10 22:00:00', '2016-08-17 10:00:00')\n",
    "exception_label(260, 1, '2016-08-28 04:00:00', '2016-10-31 12:00:00')\n",
    "\n",
    "exception_label(263, 1, '2016-11-27 16:00:00', '2016-12-31 23:00:00')\n",
    "\n",
    "exception_label(265, 1, '2016-03-11 13:00:00', '2016-03-21 08:00:00')\n",
    "exception_label(265, 1, '2016-09-04 09:00:00', '2016-09-06 23:00:00') # 也许停了两天水？\n",
    "exception_label(265, 1, '2016-09-15 06:00:00', '2016-09-20 19:00:00')\n",
    "exception_label(265, 1, '2016-09-23 15:00:00', '2016-09-29 08:00:00')\n",
    "exception_label(265, 1, '2016-10-03 19:00:00', '2016-10-08 22:00:00')\n",
    "exception_label(265, 1, '2016-10-10 20:00:00', '2016-10-14 10:00:00') \n",
    "\n",
    "exception_label(267, 1, '2016-01-14 16:00:00', '2016-01-28 10:00:00') \n",
    "exception_label(267, 1, '2016-01-30 17:00:00', '2016-02-10 09:00:00') \n",
    "exception_label(267, 1, '2016-12-08 05:00:00', '2016-12-31 23:00:00') \n",
    "\n",
    "exception_label(268, 1, '2016-12-23 19:00:00', '2016-12-31 23:00:00') \n",
    "\n",
    "exception_label(284, 1, '2016-08-26 12:00:00', '2016-09-08 10:00:00') \n",
    "\n",
    "exception_label(290, 1, '2016-08-19 00:00:00', '2016-09-09 07:00:00') \n",
    "exception_label(290, 1, '2016-09-14 16:00:00', '2016-09-23 05:00:00') \n",
    "exception_label(290, 1, '2016-10-08 13:00:00', '2016-10-14 09:00:00') \n",
    "\n",
    "exception_label(745, 1, '2016-01-01 00:00:00', '2016-03-13 02:00:00') \n",
    "exception_label(745, 1, '2016-03-13 04:00:00', '2016-05-13 02:00:00')\n",
    "exception_label(745, 1, '2016-10-22 04:00:00', '2016-12-31 23:00:00') \n",
    "\n",
    "exception_label(747, 1, '2016-01-01 00:00:00', '2016-01-18 11:00:00') \n",
    "exception_label(747, 1, '2016-01-19 13:00:00', '2016-03-06 11:00:00')\n",
    "exception_label(747, 1, '2016-04-02 07:00:00', '2016-04-11 15:00:00') \n",
    "exception_label(747, 1, '2016-10-04 08:00:00', '2016-10-10 08:00:00') \n",
    "exception_label(747, 1, '2016-10-14 01:00:00', '2016-10-20 10:00:00') \n",
    "exception_label(747, 1, '2016-11-28 11:00:00', '2016-12-31 23:00:00')\n",
    "\n",
    "exception_label(750, 1, '2016-10-04 09:00:00', '2016-10-10 11:00:00')\n",
    "\n",
    "exception_label(752, 1, '2016-10-04 08:00:00', '2016-10-10 08:00:00')\n",
    "\n",
    "exception_label(753, 1, '2016-01-01 00:00:00', '2016-01-31 15:00:00')\n",
    "exception_label(753, 1, '2016-02-04 08:00:00', '2016-02-16 07:00:00')\n",
    "exception_label(753, 1, '2016-04-02 23:00:00', '2016-04-13 14:00:00')\n",
    "exception_label(753, 1, '2016-04-28 16:00:00', '2016-05-09 18:00:00')\n",
    "exception_label(753, 1, '2016-05-15 05:00:00', '2016-05-19 14:00:00')\n",
    "exception_label(753, 1, '2016-09-21 16:00:00', '2016-10-10 08:00:00')\n",
    "exception_label(753, 1, '2016-12-03 15:00:00', '2016-12-18 05:00:00')\n",
    "exception_label(753, 1, '2016-12-18 15:00:00', '2016-12-25 13:00:00')\n",
    "exception_label(753, 1, '2016-12-27 21:00:00', '2016-12-31 23:00:00')\n",
    "\n",
    "exception_label(763, 1, '2016-10-04 09:00:00', '2016-10-10 11:00:00')\n",
    "\n",
    "exception_label(765, 1, '2016-01-01 00:00:00', '2016-01-18 09:00:00')\n",
    "exception_label(765, 1, '2016-01-19 12:00:00', '2016-02-28 23:00:00')\n",
    "exception_label(765, 1, '2016-04-01 22:00:00', '2016-04-22 16:00:00')\n",
    "exception_label(765, 1, '2016-10-04 08:00:00', '2016-10-12 11:00:00')\n",
    "exception_label(765, 1, '2016-11-09 21:00:00', '2016-11-25 07:00:00')\n",
    "\n",
    "exception_label(765, 1, '2016-10-04 08:00:00', '2016-10-10 08:00:00') # 跟前面有几个很像，这几个一起停水了？\n",
    "\n",
    "exception_label(769, 1, '2016-07-19 10:00:00', '2016-08-30 08:00:00')\n",
    "exception_label(769, 1, '2016-08-30 10:00:00', '2016-10-04 01:00:00')\n",
    "exception_label(769, 1, '2016-10-04 08:00:00', '2016-12-31 23:00:00')\n",
    "\n",
    "exception_label(770, 1, '2016-10-04 09:00:00', '2016-10-10 11:00:00')\n",
    "\n",
    "exception_label(774, 1, '2016-01-10 19:00:00', '2016-02-01 09:00:00')\n",
    "exception_label(774, 1, '2016-10-04 09:00:00', '2016-11-01 10:00:00')\n",
    "exception_label(774, 1, '2016-12-05 12:00:00', '2016-12-31 23:00:00')\n",
    "\n",
    "exception_label(776, 1, '2016-10-04 08:00:00', '2016-10-10 08:00:00')\n",
    "\n",
    "exception_label(777, 1, '2016-01-01 00:00:00', '2016-03-13 02:00:00')\n",
    "exception_label(777, 1, '2016-03-13 04:00:00', '2016-04-18 08:00:00')\n",
    "exception_label(777, 1, '2016-10-04 08:00:00', '2016-10-10 08:00:00')\n",
    "exception_label(777, 1, '2016-11-22 09:00:00', '2016-11-29 17:00:00')\n",
    "exception_label(777, 1, '2016-11-30 04:00:00', '2016-12-31 23:00:00')\n",
    "\n",
    "exception_label(778, 1, '2016-01-01 00:00:00', '2016-09-08 09:00:00')\n",
    "exception_label(778, 1, '2016-10-04 08:00:00', '2016-10-10 08:00:00')\n",
    "exception_label(778, 1, '2016-10-19 09:00:00', '2016-12-31 23:00:00')\n",
    "\n",
    "exception_label(780, 1, '2016-01-05 08:00:00', '2016-03-09 14:00:00')\n",
    "exception_label(780, 1, '2016-09-30 04:00:00', '2016-12-31 23:00:00')\n",
    "\n",
    "exception_label(786, 1, '2016-10-04 08:00:00', '2016-10-10 08:00:00')\n",
    "\n",
    "exception_label(787, 1, '2016-01-01 00:00:00', '2016-03-08 11:00:00')\n",
    "exception_label(787, 1, '2016-10-04 09:00:00', '2016-10-10 11:00:00')\n",
    "exception_label(787, 1, '2016-12-02 15:00:00', '2016-12-31 23:00:00')\n",
    "\n",
    "# 左右多0，暂时先不用\n",
    "# exception_label(793, 1, '2016-01-01 00:00:00', '2016-05-06 12:00:00')\n",
    "# exception_label(793, 1, '2016-11-04 18:00:00', '2016-12-31 23:00:00')\n",
    "\n",
    "# exception_label(794, 1, '2016-01-01 00:00:00', '2016-05-15 21:00:00')\n",
    "# exception_label(794, 1, '2016-10-24 09:00:00', '2016-12-31 23:00:00')\n",
    "\n",
    "# exception_label(795, 1, '2016-01-01 00:00:00', '2016-05-16 21:00:00')\n",
    "# exception_label(795, 1, '2016-10-18 16:00:00', '2016-12-31 23:00:00')\n",
    "\n",
    "# exception_label(796, 1, '2016-11-21 10:00:00', '2016-12-31 23:00:00')\n",
    "\n",
    "# exception_label(797, 1, '2016-01-01 00:00:00', '2016-05-05 09:00:00')\n",
    "# exception_label(797, 1, '2016-10-18 23:00:00', '2016-12-31 23:00:00')\n",
    "\n",
    "# exception_label(799, 1, '2016-01-01 00:00:00', '2016-05-09 14:00:00')\n",
    "# exception_label(799, 1, '2016-10-17 14:00:00', '2016-11-03 12:00:00')\n",
    "# exception_label(799, 1, '2016-11-03 14:00:00', '2016-12-31 23:00:00')\n",
    "\n",
    "# exception_label(800, 1, '2016-01-01 00:00:00', '2016-01-07 08:00:00')\n",
    "# exception_label(800, 1, '2016-01-07 11:00:00', '2016-04-17 13:00:00')\n",
    "# exception_label(800, 1, '2016-04-18 00:00:00', '2016-05-11 11:00:00')\n",
    "# exception_label(800, 1, '2016-10-18 23:00:00', '2016-11-09 16:00:00')\n",
    "# exception_label(800, 1, '2016-10-18 23:00:00', '2016-11-09 16:00:00')\n",
    "# exception_label(800, 1, '2016-11-09 18:00:00', '2016-12-12 12:00:00')\n",
    "# exception_label(800, 1, '2016-11-09 18:00:00', '2016-12-12 12:00:00')\n",
    "# exception_label(800, 1, '2016-12-12 14:00:00', '2016-12-31 23:00:00')\n",
    "\n",
    "# exception_label(803, 1, '2016-01-01 00:00:00', '2016-02-17 16:00:00')\n",
    "# exception_label(803, 1, '2016-02-17 19:00:00', '2016-03-19 08:00:00')\n",
    "# exception_label(803, 1, '2016-03-19 11:00:00', '2016-04-04 04:00:00')\n",
    "# exception_label(803, 1, '2016-04-04 07:00:00', '2016-04-17 16:00:00')\n",
    "# exception_label(803, 1, '2016-10-20 01:00:00', '2016-11-04 14:00:00')\n",
    "# exception_label(803, 1, '2016-11-16 20:00:00', '2016-11-25 07:00:00')\n",
    "# exception_label(803, 1, '2016-12-05 13:00:00', '2016-12-13 09:00:00')\n",
    "# exception_label(803, 1, '2016-12-13 15:00:00', '2016-12-21 16:00:00')\n",
    "# exception_label(803, 1, '2016-12-21 18:00:00', '2016-12-31 23:00:00')\n",
    "\n",
    "exception_label(874, 1, '2016-07-01 15:00:00', '2016-07-05 05:00:00')\n",
    "exception_label(874, 1, '2016-10-14 23:00:00', '2016-10-17 07:00:00')\n",
    "\n",
    "exception_label(875, 1, '2016-07-01 15:00:00', '2016-07-05 05:00:00')\n",
    "exception_label(875, 1, '2016-10-14 23:00:00', '2016-10-17 07:00:00')\n",
    "\n",
    "exception_label(878, 1, '2016-07-01 15:00:00', '2016-07-05 05:00:00')\n",
    "exception_label(878, 1, '2016-10-14 23:00:00', '2016-10-17 07:00:00')\n",
    "\n",
    "exception_label(883, 1, '2016-07-01 15:00:00', '2016-07-05 05:00:00')\n",
    "exception_label(883, 1, '2016-10-14 23:00:00', '2016-10-17 07:00:00')\n",
    "\n",
    "exception_label(885, 1, '2016-07-01 15:00:00', '2016-07-05 05:00:00')\n",
    "exception_label(885, 1, '2016-10-14 23:00:00', '2016-10-17 07:00:00')\n",
    "\n",
    "exception_label(886, 1, '2016-07-01 15:00:00', '2016-07-05 05:00:00')\n",
    "exception_label(886, 1, '2016-10-14 23:00:00', '2016-10-17 07:00:00')\n",
    "\n",
    "exception_label(887, 1, '2016-07-01 15:00:00', '2016-07-05 05:00:00')\n",
    "exception_label(887, 1, '2016-10-14 23:00:00', '2016-10-17 07:00:00')\n",
    "\n",
    "exception_label(888, 1, '2016-07-01 15:00:00', '2016-07-05 05:00:00')\n",
    "exception_label(888, 1, '2016-10-14 23:00:00', '2016-10-17 07:00:00')\n",
    "\n",
    "exception_label(889, 1, '2016-07-01 15:00:00', '2016-07-05 05:00:00')\n",
    "exception_label(889, 1, '2016-10-14 23:00:00', '2016-10-17 07:00:00')\n",
    "\n",
    "exception_label(890, 1, '2016-07-01 15:00:00', '2016-07-05 05:00:00')\n",
    "exception_label(890, 1, '2016-10-14 23:00:00', '2016-10-17 07:00:00')\n",
    "\n",
    "exception_label(891, 1, '2016-07-01 15:00:00', '2016-07-05 05:00:00')\n",
    "exception_label(891, 1, '2016-10-14 23:00:00', '2016-10-17 07:00:00')\n",
    "\n",
    "exception_label(893, 1, '2016-07-01 15:00:00', '2016-07-05 05:00:00')\n",
    "exception_label(893, 1, '2016-10-14 23:00:00', '2016-10-17 07:00:00')\n",
    "exception_label(893, 1, '2016-09-01 12:00:00', '2016-09-09 07:00:00')\n",
    "\n",
    "exception_label(894, 1, '2016-07-01 15:00:00', '2016-07-05 05:00:00')\n",
    "exception_label(894, 1, '2016-10-14 23:00:00', '2016-10-17 07:00:00')\n",
    "\n",
    "exception_label(911, 1, '2016-10-20 12:00:00', '2016-11-02 14:00:00')\n",
    "\n",
    "exception_label(929, 1, '2016-02-23 23:00:00', '2016-03-16 00:00:00')\n",
    "\n",
    "exception_label(954, 1, '2016-01-01 00:00:00', '2016-08-08 10:00:00')\n",
    "\n",
    "exception_label(957, 1, '2016-03-23 14:00:00', '2016-05-18 12:00:00')\n",
    "\n",
    "exception_label(961, 1, '2016-08-29 16:00:00', '2016-09-08 12:00:00')\n",
    "\n",
    "exception_label(978, 1, '2016-07-29 14:00:00', '2016-09-06 08:00:00')\n",
    "exception_label(978, 1, '2016-10-24 10:00:00', '2016-12-16 13:00:00')\n",
    "\n",
    "for bid in [895, 896, 898, 899, 900, 901, 903, 905, 906, 907, 908, 910, 911, 912, 913, 914, 915, 916, 917, 918, 920, 921, 922, 923, 924, 925, 926, 927, 928,\n",
    "           929, 931, 932, 933, 934, 935, 942, 945, 946, 948, 949, 951, 952, 953, 954, 955, 956, 957, 958, 959, 960, 961, 962, 963, 964, 965, 966, 967, 968, \n",
    "           969, 971, 972, 973, 974, 975, 976, 978, 979, 980, 981, 983, 987, 989, 990, 991, 992, 993, 994, 995, 996, 997]:\n",
    "    exception_label(bid, 1, '2016-07-01 15:00:00', '2016-07-05 05:00:00')\n",
    "    exception_label(bid, 1, '2016-10-14 23:00:00', '2016-10-17 07:00:00')"
   ]
  },
  {
   "cell_type": "code",
   "execution_count": 17,
   "metadata": {
    "ExecuteTime": {
     "end_time": "2020-05-19T15:34:35.072946Z",
     "start_time": "2020-05-19T15:32:24.925362Z"
    }
   },
   "outputs": [
    {
     "name": "stdout",
     "output_type": "stream",
     "text": [
      "标记bid=1017, meter=1异常\n",
      "标记bid=1017, meter=1异常\n",
      "标记bid=1017, meter=1异常\n",
      "标记bid=1018, meter=1异常\n",
      "标记bid=1018, meter=1异常\n",
      "标记bid=1022, meter=1异常\n",
      "标记bid=1022, meter=1异常\n",
      "标记bid=1130, meter=1异常\n",
      "标记bid=1160, meter=1异常\n",
      "标记bid=1223, meter=1异常\n",
      "标记bid=1225, meter=1异常\n",
      "标记bid=1226, meter=1异常\n",
      "标记bid=1230, meter=1异常\n",
      "标记bid=1232, meter=1异常\n",
      "标记bid=1232, meter=1异常\n",
      "标记bid=1232, meter=1异常\n",
      "标记bid=1233, meter=1异常\n",
      "标记bid=1233, meter=1异常\n",
      "标记bid=1234, meter=1异常\n",
      "标记bid=1234, meter=1异常\n",
      "标记bid=1244, meter=1异常\n",
      "标记bid=1263, meter=1异常\n",
      "标记bid=1264, meter=1异常\n",
      "标记bid=1264, meter=1异常\n",
      "标记bid=1265, meter=1异常\n",
      "标记bid=1265, meter=1异常\n",
      "标记bid=1272, meter=1异常\n",
      "标记bid=1272, meter=1异常\n",
      "标记bid=1272, meter=1异常\n",
      "标记bid=1272, meter=1异常\n",
      "标记bid=1272, meter=1异常\n",
      "标记bid=1272, meter=1异常\n",
      "标记bid=1272, meter=1异常\n",
      "标记bid=1272, meter=1异常\n",
      "标记bid=1272, meter=1异常\n",
      "标记bid=1273, meter=1异常\n",
      "标记bid=1273, meter=1异常\n",
      "标记bid=1273, meter=1异常\n",
      "标记bid=1273, meter=1异常\n",
      "标记bid=1273, meter=1异常\n",
      "标记bid=1273, meter=1异常\n",
      "标记bid=1274, meter=1异常\n",
      "标记bid=1274, meter=1异常\n",
      "标记bid=1274, meter=1异常\n",
      "标记bid=1274, meter=1异常\n",
      "标记bid=1274, meter=1异常\n",
      "标记bid=1275, meter=1异常\n",
      "标记bid=1275, meter=1异常\n",
      "标记bid=1275, meter=1异常\n",
      "标记bid=1280, meter=1异常\n",
      "标记bid=1280, meter=1异常\n",
      "标记bid=1280, meter=1异常\n",
      "标记bid=1280, meter=1异常\n",
      "标记bid=1280, meter=1异常\n",
      "标记bid=1288, meter=1异常\n",
      "标记bid=1291, meter=1异常\n",
      "标记bid=1292, meter=1异常\n",
      "标记bid=1293, meter=1异常\n",
      "标记bid=1294, meter=1异常\n",
      "标记bid=1295, meter=1异常\n",
      "标记bid=1296, meter=1异常\n",
      "标记bid=1297, meter=1异常\n",
      "标记bid=1300, meter=1异常\n",
      "标记bid=1302, meter=1异常\n",
      "标记bid=1308, meter=1异常\n",
      "标记bid=1310, meter=1异常\n",
      "标记bid=1317, meter=1异常\n",
      "标记bid=1317, meter=1异常\n"
     ]
    }
   ],
   "source": [
    "# exception_label(998, 1, '2016-01-01 00:00:00', '2016-03-18 10:00:00')\n",
    "# exception_label(998, 1, '2016-12-05 10:00:00', '2016-12-31 23:00:00')\n",
    "\n",
    "# exception_label(1000, 1, '2016-01-01 00:00:00', '2016-04-08 16:00:00')\n",
    "# exception_label(1000, 1, '2016-04-23 15:00:00', '2016-05-03 13:00:00')\n",
    "# exception_label(1000, 1, '2016-09-09 01:00:00', '2016-09-16 11:00:00')\n",
    "# exception_label(1000, 1, '2016-10-28 15:00:00', '2016-11-03 16:00:00')\n",
    "# exception_label(1000, 1, '2016-11-15 16:00:00', '2016-11-20 15:00:00')\n",
    "# exception_label(1000, 1, '2016-11-20 17:00:00', '2016-11-26 15:00:00')\n",
    "# exception_label(1000, 1, '2016-11-26 23:00:00', '2016-12-31 23:00:00')\n",
    "\n",
    "# exception_label(1001, 1, '2016-01-01 00:00:00', '2016-03-04 06:00:00')\n",
    "# exception_label(1001, 1, '2016-03-05 14:00:00', '2016-03-10 10:00:00')\n",
    "# exception_label(1001, 1, '2016-03-12 11:00:00', '2016-03-21 04:00:00')\n",
    "# exception_label(1001, 1, '2016-03-21 19:00:00', '2016-04-02 11:00:00')\n",
    "# exception_label(1001, 1, '2016-11-19 15:00:00', '2016-12-31 23:00:00')\n",
    "\n",
    "# exception_label(1013, 1, '2016-01-01 00:00:00', '2016-03-18 11:00:00')\n",
    "# exception_label(1013, 1, '2016-09-28 20:00:00', '2016-10-12 02:00:00')\n",
    "# exception_label(1013, 1, '2016-11-20 02:00:00', '2016-12-02 23:00:00')\n",
    "# exception_label(1013, 1, '2016-12-04 07:00:00', '2016-12-11 07:00:00')\n",
    "# exception_label(1013, 1, '2016-12-19 15:00:00', '2016-12-25 16:00:00')\n",
    "\n",
    "exception_label(1017, 1, '2016-01-01 00:00:00', '2016-03-18 10:00:00')\n",
    "exception_label(1017, 1, '2016-10-19 08:00:00', '2016-10-30 07:00:00')\n",
    "exception_label(1017, 1, '2016-11-28 16:00:00', '2016-12-31 23:00:00')\n",
    "\n",
    "exception_label(1018, 1, '2016-01-01 00:00:00', '2016-11-08 16:00:00')\n",
    "exception_label(1018, 1, '2016-11-08 18:00:00', '2016-12-31 23:00:00')\n",
    "\n",
    "# exception_label(1022, 1, '2016-01-01 00:00:00', '2016-02-29 09:00:00')\n",
    "train.loc[(train.building_id == 1022) & (train.meter == 1) & (train.timestamp >= '2016-01-01 00:00:00') & (train.timestamp <= '2016-02-29 09:00:00'), 'exception'] = 1\n",
    "test.loc[(test.building_id == 1022) & (test.meter == 1) & (test.timestamp >= '2017-01-01 00:00:00') & (test.timestamp <= '2017-02-28 23:00:00'), 'exception'] = 1\n",
    "test.loc[(test.building_id == 1022) & (test.meter == 1) & (test.timestamp >= '2018-01-01 00:00:00') & (test.timestamp <= '2018-02-28 23:00:00'), 'exception'] = 1\n",
    "exception_label(1022, 1, '2016-03-09 19:00:00', '2016-04-23 15:00:00')\n",
    "exception_label(1022, 1, '2016-04-26 07:00:00', '2016-12-31 23:00:00')\n",
    "\n",
    "# exception_label(1028, 1, '2016-01-01 00:00:00', '2016-05-25 11:00:00')\n",
    "# exception_label(1028, 1, '2016-10-18 14:00:00', '2016-12-31 23:00:00')\n",
    "\n",
    "# exception_label(1030, 1, '2016-01-01 00:00:00', '2016-05-18 12:00:00')\n",
    "# exception_label(1030, 1, '2016-06-08 09:00:00', '2016-06-13 12:00:00')\n",
    "# exception_label(1030, 1, '2016-10-11 10:00:00', '2016-12-31 23:00:00')\n",
    "\n",
    "# exception_label(1031, 1, '2016-01-01 00:00:00', '2016-05-20 10:00:00')\n",
    "# exception_label(1031, 1, '2016-06-08 06:00:00', '2016-06-13 12:00:00')\n",
    "# exception_label(1031, 1, '2016-10-11 10:00:00', '2016-12-31 23:00:00')\n",
    "\n",
    "# exception_label(1032, 1, '2016-01-01 00:00:00', '2016-05-25 08:00:00')\n",
    "# exception_label(1032, 1, '2016-10-12 16:00:00', '2016-12-31 23:00:00')\n",
    "\n",
    "# exception_label(1074, 1, '2016-01-01 00:00:00', '2016-04-13 09:00:00')\n",
    "# exception_label(1074, 1, '2016-11-22 11:00:00', '2016-12-31 23:00:00')\n",
    "\n",
    "# exception_label(1077, 1, '2016-01-01 00:00:00', '2016-03-29 10:00:00')\n",
    "# exception_label(1077, 1, '2016-11-14 21:00:00', '2016-12-31 23:00:00')\n",
    "\n",
    "# exception_label(1078, 1, '2016-11-29 12:00:00', '2016-12-06 11:00:00')\n",
    "# exception_label(1078, 1, '2016-12-07 18:00:00', '2016-12-19 16:00:00')\n",
    "# exception_label(1078, 1, '2016-12-24 17:00:00', '2016-12-28 10:00:00')\n",
    "\n",
    "# exception_label(1079, 1, '2016-01-01 00:00:00', '2016-04-12 10:00:00')\n",
    "# exception_label(1079, 1, '2016-04-25 08:00:00', '2016-05-02 09:00:00')\n",
    "# exception_label(1079, 1, '2016-11-17 15:00:00', '2016-12-31 23:00:00')\n",
    "\n",
    "# exception_label(1080, 1, '2016-01-01 00:00:00', '2016-04-14 19:00:00')\n",
    "# exception_label(1080, 1, '2016-11-22 07:00:00', '2016-12-31 23:00:00')\n",
    "\n",
    "# exception_label(1084, 1, '2016-01-01 00:00:00', '2016-03-16 10:00:00')\n",
    "# exception_label(1084, 1, '2016-10-22 15:00:00', '2016-12-31 23:00:00')\n",
    "\n",
    "# exception_label(1085, 1, '2016-01-01 00:00:00', '2016-04-13 14:00:00')\n",
    "# exception_label(1085, 1, '2016-11-19 13:00:00', '2016-12-31 23:00:00')\n",
    "\n",
    "# exception_label(1090, 1, '2016-01-01 00:00:00', '2016-02-27 11:00:00')\n",
    "# exception_label(1090, 1, '2016-11-18 07:00:00', '2016-11-28 06:00:00')\n",
    "# exception_label(1090, 1, '2016-11-28 15:00:00', '2016-12-31 23:00:00')\n",
    "\n",
    "# exception_label(1093, 1, '2016-01-01 00:00:00', '2016-04-29 15:00:00')\n",
    "# exception_label(1093, 1, '2016-07-18 20:00:00', '2016-07-27 13:00:00')\n",
    "# exception_label(1093, 1, '2016-10-24 15:00:00', '2016-12-31 23:00:00')\n",
    "\n",
    "# exception_label(1094, 1, '2016-01-01 00:00:00', '2016-04-14 10:00:00')\n",
    "# exception_label(1094, 1, '2016-11-13 19:00:00', '2016-12-31 23:00:00')\n",
    "\n",
    "# exception_label(1095, 1, '2016-01-01 00:00:00', '2016-04-14 14:00:00')\n",
    "# exception_label(1095, 1, '2016-04-23 22:00:00', '2016-05-03 12:00:00')\n",
    "# exception_label(1095, 1, '2016-10-25 15:00:00', '2016-12-31 23:00:00')\n",
    "\n",
    "# exception_label(1097, 1, '2016-01-01 00:00:00', '2016-03-08 15:00:00')\n",
    "# exception_label(1097, 1, '2016-03-12 19:00:00', '2016-03-20 13:00:00')\n",
    "# exception_label(1097, 1, '2016-11-26 20:00:00', '2016-12-05 14:00:00')\n",
    "\n",
    "# exception_label(1098, 1, '2016-01-01 00:00:00', '2016-04-19 13:00:00')\n",
    "# exception_label(1098, 1, '2016-04-21 19:00:00', '2016-05-02 10:00:00')\n",
    "# exception_label(1098, 1, '2016-10-18 19:00:00', '2016-12-31 23:00:00')\n",
    "\n",
    "# exception_label(1101, 1, '2016-01-01 00:00:00', '2016-04-14 12:00:00')\n",
    "# exception_label(1101, 1, '2016-11-18 09:00:00', '2016-12-31 23:00:00')\n",
    "\n",
    "# exception_label(1104, 1, '2016-01-01 00:00:00', '2016-03-09 10:00:00')\n",
    "# exception_label(1104, 1, '2016-11-18 13:00:00', '2016-12-31 23:00:00')\n",
    "\n",
    "# exception_label(1109, 1, '2016-01-01 00:00:00', '2016-04-13 13:00:00')\n",
    "# exception_label(1109, 1, '2016-10-23 13:00:00', '2016-12-31 23:00:00') # 左右为0太多了，暂时先做这些，如果后续确实有效果，慢慢补充完整\n",
    "\n",
    "exception_label(1130, 1, '2016-01-01 00:00:00', '2016-09-30 12:00:00')\n",
    "\n",
    "exception_label(1160, 1, '2016-01-01 00:00:00', '2016-10-14 09:00:00')\n",
    "\n",
    "exception_label(1223, 1, '2016-09-28 08:00:00', '2016-10-20 12:00:00')\n",
    "\n",
    "exception_label(1225, 1, '2016-08-23 00:00:00', '2016-10-11 13:00:00')\n",
    "\n",
    "exception_label(1226, 1, '2016-08-23 00:00:00', '2016-10-20 12:00:00')\n",
    "\n",
    "exception_label(1230, 1, '2016-08-22 09:00:00', '2016-10-05 17:00:00')\n",
    "\n",
    "exception_label(1232, 1, '2016-01-06 17:00:00', '2016-01-10 15:00:00')\n",
    "exception_label(1232, 1, '2016-01-10 21:00:00', '2016-01-16 14:00:00')\n",
    "exception_label(1232, 1, '2016-06-23 17:00:00', '2016-08-31 19:00:00')\n",
    "\n",
    "exception_label(1233, 1, '2016-09-28 04:00:00', '2016-10-20 12:00:00')\n",
    "exception_label(1233, 1, '2016-11-09 16:00:00', '2016-12-31 23:00:00')\n",
    "\n",
    "exception_label(1234, 1, '2016-09-28 04:00:00', '2016-10-20 12:00:00')\n",
    "exception_label(1234, 1, '2016-11-09 16:00:00', '2016-12-31 23:00:00')\n",
    "\n",
    "exception_label(1244, 1, '2016-07-13 14:00:00', '2016-08-31 19:00:00')\n",
    "\n",
    "exception_label(1263, 1, '2016-11-10 14:00:00', '2016-11-21 14:00:00')\n",
    "\n",
    "exception_label(1264, 1, '2016-08-22 18:00:00', '2016-09-22 19:00:00')\n",
    "exception_label(1264, 1, '2016-09-28 08:00:00', '2016-10-20 12:00:00')\n",
    "\n",
    "exception_label(1265, 1, '2016-01-01 00:00:00', '2016-04-19 12:00:00')\n",
    "exception_label(1265, 1, '2016-10-28 13:00:00', '2016-12-31 23:00:00')\n",
    "\n",
    "exception_label(1272, 1, '2016-01-01 00:00:00', '2016-01-31 18:00:00')\n",
    "exception_label(1272, 1, '2016-02-01 22:00:00', '2016-02-20 15:00:00')\n",
    "exception_label(1272, 1, '2016-02-21 03:00:00', '2016-02-28 16:00:00')\n",
    "exception_label(1272, 1, '2016-03-02 05:00:00', '2016-03-07 16:00:00')\n",
    "exception_label(1272, 1, '2016-08-18 18:00:00', '2016-08-24 10:00:00')\n",
    "exception_label(1272, 1, '2016-08-25 21:00:00', '2016-08-30 18:00:00')\n",
    "exception_label(1272, 1, '2016-09-28 08:00:00', '2016-10-20 12:00:00')\n",
    "exception_label(1272, 1, '2016-11-19 21:00:00', '2016-11-24 17:00:00')\n",
    "exception_label(1272, 1, '2016-12-01 05:00:00', '2016-12-12 19:00:00')\n",
    "\n",
    "exception_label(1273, 1, '2016-01-01 00:00:00', '2016-01-10 18:00:00')\n",
    "exception_label(1273, 1, '2016-01-10 20:00:00', '2016-01-31 18:00:00')\n",
    "exception_label(1273, 1, '2016-02-02 17:00:00', '2016-02-20 15:00:00')\n",
    "exception_label(1273, 1, '2016-02-21 03:00:00', '2016-02-28 16:00:00')\n",
    "exception_label(1273, 1, '2016-05-31 15:00:00', '2016-06-16 23:00:00')\n",
    "exception_label(1273, 1, '2016-12-01 05:00:00', '2016-12-12 19:00:00')\n",
    "\n",
    "exception_label(1274, 1, '2016-01-01 00:00:00', '2016-01-10 18:00:00')\n",
    "exception_label(1274, 1, '2016-01-10 20:00:00', '2016-01-31 18:00:00')\n",
    "exception_label(1274, 1, '2016-02-01 17:00:00', '2016-02-20 15:00:00')\n",
    "exception_label(1274, 1, '2016-12-01 13:00:00', '2016-12-12 19:00:00')\n",
    "exception_label(1274, 1, '2016-12-22 22:00:00', '2016-12-31 23:00:00')\n",
    "\n",
    "exception_label(1275, 1, '2016-01-01 00:00:00', '2016-01-31 18:00:00')\n",
    "exception_label(1275, 1, '2016-02-01 22:00:00', '2016-02-20 15:00:00')\n",
    "exception_label(1275, 1, '2016-12-01 09:00:00', '2016-12-12 19:00:00')\n",
    "\n",
    "# exception_label(1280, 1, '2016-02-29 00:00:00', '2016-05-02 04:00:00')\n",
    "train.loc[(train.building_id == 1280) & (train.meter == 1) & (train.timestamp >= '2016-02-29 00:00:00') & (train.timestamp <= '2016-05-02 04:00:00'), 'exception'] = 1\n",
    "test.loc[(test.building_id == 1280) & (test.meter == 1) & (test.timestamp >= '2017-03-01 00:00:00') & (test.timestamp <= '2017-05-02 04:00:00'), 'exception'] = 1\n",
    "test.loc[(test.building_id == 1280) & (test.meter == 1) & (test.timestamp >= '2018-03-01 00:00:00') & (test.timestamp <= '2018-05-02 04:00:00'), 'exception'] = 1\n",
    "exception_label(1280, 1, '2016-05-18 01:00:00', '2016-05-26 08:00:00')\n",
    "exception_label(1280, 1, '2016-06-15 14:00:00', '2016-07-07 05:00:00')\n",
    "exception_label(1280, 1, '2016-06-15 14:00:00', '2016-07-07 05:00:00')\n",
    "exception_label(1280, 1, '2016-10-17 04:00:00', '2016-10-29 09:00:00')\n",
    "exception_label(1280, 1, '2016-12-12 21:00:00', '2016-12-24 03:00:00')\n",
    "\n",
    "# 1283感觉很有问题\n",
    "\n",
    "exception_label(1288, 1, '2016-07-07 16:00:00', '2016-08-10 18:00:00')\n",
    "\n",
    "exception_label(1291, 1, '2016-09-28 08:00:00', '2016-10-20 12:00:00')\n",
    "\n",
    "exception_label(1292, 1, '2016-09-28 08:00:00', '2016-10-20 12:00:00')\n",
    "\n",
    "exception_label(1293, 1, '2016-09-28 08:00:00', '2016-10-20 12:00:00')\n",
    "\n",
    "exception_label(1294, 1, '2016-09-28 08:00:00', '2016-10-20 12:00:00')\n",
    "\n",
    "exception_label(1295, 1, '2016-09-28 08:00:00', '2016-10-20 12:00:00')\n",
    "\n",
    "exception_label(1296, 1, '2016-09-28 08:00:00', '2016-10-20 12:00:00')\n",
    "\n",
    "exception_label(1297, 1, '2016-09-28 08:00:00', '2016-10-20 12:00:00')\n",
    "\n",
    "exception_label(1300, 1, '2016-09-28 08:00:00', '2016-10-20 12:00:00')\n",
    "\n",
    "exception_label(1302, 1, '2016-09-28 08:00:00', '2016-10-20 12:00:00')\n",
    "\n",
    "exception_label(1308, 1, '2016-12-17 06:00:00', '2016-12-31 23:00:00')\n",
    "\n",
    "exception_label(1310, 1, '2016-12-17 03:00:00', '2016-12-31 23:00:00')\n",
    "\n",
    "exception_label(1317, 1, '2016-10-06 14:00:00', '2016-10-11 13:00:00')\n",
    "exception_label(1317, 1, '2016-10-12 16:00:00', '2016-10-21 10:00:00')"
   ]
  },
  {
   "cell_type": "code",
   "execution_count": 18,
   "metadata": {
    "ExecuteTime": {
     "end_time": "2020-05-19T15:34:35.113597Z",
     "start_time": "2020-05-19T15:34:35.074107Z"
    }
   },
   "outputs": [
    {
     "data": {
      "text/plain": [
       "20"
      ]
     },
     "execution_count": 18,
     "metadata": {},
     "output_type": "execute_result"
    }
   ],
   "source": [
    "gc.collect()"
   ]
  },
  {
   "cell_type": "code",
   "execution_count": 19,
   "metadata": {
    "ExecuteTime": {
     "end_time": "2020-05-19T15:36:57.038643Z",
     "start_time": "2020-05-19T15:34:35.114684Z"
    }
   },
   "outputs": [
    {
     "name": "stdout",
     "output_type": "stream",
     "text": [
      "CPU times: user 1min 20s, sys: 1min 1s, total: 2min 21s\n",
      "Wall time: 2min 21s\n"
     ]
    }
   ],
   "source": [
    "%%time\n",
    "for bid in train[(train.exception == 1) & (train.meter == 1)].building_id.unique():\n",
    "    train.loc[(train.building_id == bid) & (train.meter == 1) & (train.exception == 0), 'exception'] = -1\n",
    "    test.loc[(test.building_id == bid) & (test.meter == 1) & (test.exception != 1), 'exception'] = -1"
   ]
  },
  {
   "cell_type": "code",
   "execution_count": 20,
   "metadata": {
    "ExecuteTime": {
     "end_time": "2020-05-19T15:36:57.224168Z",
     "start_time": "2020-05-19T15:36:57.039893Z"
    }
   },
   "outputs": [
    {
     "data": {
      "text/plain": [
       " 0    18065316\n",
       "-1     1670842\n",
       " 1      314805\n",
       "-2       85465\n",
       " 2       79672\n",
       "Name: exception, dtype: int64"
      ]
     },
     "execution_count": 20,
     "metadata": {},
     "output_type": "execute_result"
    }
   ],
   "source": [
    "train.exception.value_counts(dropna=False)"
   ]
  },
  {
   "cell_type": "code",
   "execution_count": 21,
   "metadata": {
    "ExecuteTime": {
     "end_time": "2020-05-19T15:36:57.678112Z",
     "start_time": "2020-05-19T15:36:57.225322Z"
    }
   },
   "outputs": [
    {
     "data": {
      "text/plain": [
       " 0.0    36041924\n",
       "-1.0     3388094\n",
       " NaN     1296044\n",
       " 1.0      642176\n",
       "-2.0      170502\n",
       " 2.0      158860\n",
       "Name: exception, dtype: int64"
      ]
     },
     "execution_count": 21,
     "metadata": {},
     "output_type": "execute_result"
    }
   ],
   "source": [
    "test.exception.value_counts(dropna=False)"
   ]
  },
  {
   "cell_type": "code",
   "execution_count": 22,
   "metadata": {
    "ExecuteTime": {
     "end_time": "2020-05-19T15:36:57.830186Z",
     "start_time": "2020-05-19T15:36:57.679261Z"
    }
   },
   "outputs": [
    {
     "data": {
      "text/plain": [
       " NaN    14198\n",
       " 1.0     3086\n",
       "-1.0      236\n",
       "Name: exception, dtype: int64"
      ]
     },
     "execution_count": 22,
     "metadata": {},
     "output_type": "execute_result"
    }
   ],
   "source": [
    "test[(test.building_id == 53) & (test.meter == 0)].exception.value_counts(dropna=False)"
   ]
  },
  {
   "cell_type": "code",
   "execution_count": 23,
   "metadata": {
    "ExecuteTime": {
     "end_time": "2020-05-19T15:36:58.414227Z",
     "start_time": "2020-05-19T15:36:57.832391Z"
    }
   },
   "outputs": [],
   "source": [
    "test.loc[(test.building_id == 53) & (test.meter == 0) & (test.exception.isna()), 'exception'] = 1"
   ]
  },
  {
   "cell_type": "code",
   "execution_count": 24,
   "metadata": {
    "ExecuteTime": {
     "end_time": "2020-05-19T15:36:58.566707Z",
     "start_time": "2020-05-19T15:36:58.415658Z"
    }
   },
   "outputs": [
    {
     "data": {
      "text/plain": [
       " 1.0    17284\n",
       "-1.0      236\n",
       "Name: exception, dtype: int64"
      ]
     },
     "execution_count": 24,
     "metadata": {},
     "output_type": "execute_result"
    }
   ],
   "source": [
    "test[(test.building_id == 53) & (test.meter == 0)].exception.value_counts(dropna=False)"
   ]
  },
  {
   "cell_type": "code",
   "execution_count": 25,
   "metadata": {
    "ExecuteTime": {
     "end_time": "2020-05-19T15:36:58.569621Z",
     "start_time": "2020-05-19T15:36:58.567839Z"
    }
   },
   "outputs": [],
   "source": [
    "# ## 存疑异常标记\n",
    "\n",
    "# # 30前期有大量0值\n",
    "# train.loc[(train.building_id == 30) & (train.meter == 1) & (train.meter_reading < 212), 'exception'] = 2\n",
    "\n",
    "# # 43大量0值\n",
    "# train.loc[(train.building_id == 43) & (train.meter == 1) & (train.meter_reading == 0), 'exception'] = 2\n",
    "\n",
    "# # 28大量0值\n",
    "# train.loc[(train.building_id == 28) & (train.meter == 1) & (train.meter_reading == 0), 'exception'] = 2"
   ]
  },
  {
   "cell_type": "code",
   "execution_count": 26,
   "metadata": {
    "ExecuteTime": {
     "end_time": "2020-05-19T15:36:58.626914Z",
     "start_time": "2020-05-19T15:36:58.570648Z"
    }
   },
   "outputs": [
    {
     "data": {
      "text/plain": [
       "80"
      ]
     },
     "execution_count": 26,
     "metadata": {},
     "output_type": "execute_result"
    }
   ],
   "source": [
    "gc.collect()"
   ]
  },
  {
   "cell_type": "code",
   "execution_count": 27,
   "metadata": {
    "ExecuteTime": {
     "end_time": "2020-05-19T15:36:59.912240Z",
     "start_time": "2020-05-19T15:36:58.627960Z"
    }
   },
   "outputs": [],
   "source": [
    "train[['exception']].to_pickle('../output/ashrae-eda-exception-label1/train_exception.pkl')\n",
    "test[['exception']].to_pickle('../output/ashrae-eda-exception-label1/test_exception.pkl')"
   ]
  },
  {
   "cell_type": "code",
   "execution_count": 28,
   "metadata": {
    "ExecuteTime": {
     "end_time": "2020-05-19T15:37:00.366232Z",
     "start_time": "2020-05-19T15:36:59.913435Z"
    }
   },
   "outputs": [
    {
     "data": {
      "text/plain": [
       " 0.0    36041924\n",
       "-1.0     3388094\n",
       " NaN     1281846\n",
       " 1.0      656374\n",
       "-2.0      170502\n",
       " 2.0      158860\n",
       "Name: exception, dtype: int64"
      ]
     },
     "execution_count": 28,
     "metadata": {},
     "output_type": "execute_result"
    }
   ],
   "source": [
    "test.exception.value_counts(dropna=False)"
   ]
  },
  {
   "cell_type": "code",
   "execution_count": null,
   "metadata": {},
   "outputs": [],
   "source": []
  },
  {
   "cell_type": "code",
   "execution_count": 29,
   "metadata": {
    "ExecuteTime": {
     "end_time": "2020-05-19T15:37:02.572387Z",
     "start_time": "2020-05-19T15:37:00.367379Z"
    }
   },
   "outputs": [
    {
     "name": "stdout",
     "output_type": "stream",
     "text": [
      "0:[0]\n",
      "1:[0]\n",
      "2:[0]\n",
      "3:[0]\n",
      "4:[0]\n",
      "5:[0]\n",
      "6:[0]\n",
      "7:[0 1]\n",
      "8:[0]\n",
      "9:[0 1]\n",
      "10:[0]\n",
      "11:[0]\n",
      "12:[0]\n",
      "13:[0 1]\n",
      "14:[0 1]\n",
      "15:[0 1]\n",
      "16:[0]\n",
      "17:[0]\n",
      "18:[0]\n",
      "19:[0]\n",
      "20:[0]\n",
      "21:[0]\n",
      "22:[0]\n",
      "23:[0]\n",
      "24:[0]\n",
      "25:[0]\n",
      "26:[0]\n",
      "27:[0]\n",
      "28:[0 1]\n",
      "29:[0 1]\n",
      "30:[0 1]\n",
      "31:[0 1]\n",
      "32:[0]\n",
      "33:[0]\n",
      "34:[0]\n",
      "35:[0]\n",
      "36:[0]\n",
      "37:[0]\n",
      "38:[0]\n",
      "39:[0]\n",
      "40:[0]\n",
      "41:[0]\n",
      "42:[0]\n",
      "43:[0 1]\n",
      "44:[0]\n",
      "45:[0]\n",
      "46:[0]\n",
      "47:[0]\n",
      "48:[0]\n",
      "49:[0]\n",
      "50:[0 1]\n",
      "51:[0]\n",
      "52:[0]\n",
      "53:[0]\n",
      "54:[0]\n",
      "55:[0 1]\n",
      "56:[0]\n",
      "57:[0]\n",
      "58:[0]\n",
      "59:[0]\n",
      "60:[0 1]\n",
      "61:[0]\n",
      "62:[0]\n",
      "63:[0]\n",
      "64:[0]\n",
      "65:[0]\n",
      "66:[0]\n",
      "67:[0]\n",
      "68:[0]\n",
      "69:[0]\n",
      "70:[0]\n",
      "71:[0]\n",
      "72:[0]\n",
      "73:[0]\n",
      "74:[0]\n",
      "75:[0 1]\n",
      "76:[0 1]\n",
      "77:[0]\n",
      "78:[0 1]\n",
      "79:[0]\n",
      "80:[0]\n",
      "81:[0]\n",
      "82:[0 1]\n",
      "83:[0]\n",
      "84:[0]\n",
      "85:[0]\n",
      "86:[0]\n",
      "87:[0]\n",
      "88:[0]\n",
      "89:[0]\n",
      "90:[0]\n",
      "91:[0 1]\n",
      "92:[0 1]\n",
      "93:[0]\n",
      "94:[0]\n",
      "95:[0 1]\n",
      "96:[0 1]\n",
      "97:[0 1]\n",
      "98:[0 1]\n",
      "99:[0]\n",
      "100:[0]\n",
      "101:[0]\n",
      "102:[0]\n",
      "103:[0 1]\n",
      "104:[0]\n"
     ]
    }
   ],
   "source": [
    "for i in range(105):\n",
    "    print(str(i) + \":\" + str(train[train.building_id == i].meter.unique()))"
   ]
  },
  {
   "cell_type": "code",
   "execution_count": 30,
   "metadata": {
    "ExecuteTime": {
     "end_time": "2020-05-19T15:37:02.671936Z",
     "start_time": "2020-05-19T15:37:02.573559Z"
    }
   },
   "outputs": [
    {
     "data": {
      "text/html": [
       "<div>\n",
       "<style scoped>\n",
       "    .dataframe tbody tr th:only-of-type {\n",
       "        vertical-align: middle;\n",
       "    }\n",
       "\n",
       "    .dataframe tbody tr th {\n",
       "        vertical-align: top;\n",
       "    }\n",
       "\n",
       "    .dataframe thead th {\n",
       "        text-align: right;\n",
       "    }\n",
       "</style>\n",
       "<table border=\"1\" class=\"dataframe\">\n",
       "  <thead>\n",
       "    <tr style=\"text-align: right;\">\n",
       "      <th></th>\n",
       "      <th>building_id</th>\n",
       "      <th>meter</th>\n",
       "      <th>timestamp</th>\n",
       "      <th>meter_reading</th>\n",
       "      <th>exception</th>\n",
       "    </tr>\n",
       "  </thead>\n",
       "  <tbody>\n",
       "    <tr>\n",
       "      <th>6509944</th>\n",
       "      <td>8</td>\n",
       "      <td>0</td>\n",
       "      <td>2016-05-01 19:00:00</td>\n",
       "      <td>749.000</td>\n",
       "      <td>0</td>\n",
       "    </tr>\n",
       "    <tr>\n",
       "      <th>7576731</th>\n",
       "      <td>8</td>\n",
       "      <td>0</td>\n",
       "      <td>2016-05-20 18:00:00</td>\n",
       "      <td>270.294</td>\n",
       "      <td>0</td>\n",
       "    </tr>\n",
       "    <tr>\n",
       "      <th>7579078</th>\n",
       "      <td>8</td>\n",
       "      <td>0</td>\n",
       "      <td>2016-05-20 19:00:00</td>\n",
       "      <td>348.788</td>\n",
       "      <td>0</td>\n",
       "    </tr>\n",
       "    <tr>\n",
       "      <th>7581424</th>\n",
       "      <td>8</td>\n",
       "      <td>0</td>\n",
       "      <td>2016-05-20 20:00:00</td>\n",
       "      <td>367.217</td>\n",
       "      <td>0</td>\n",
       "    </tr>\n",
       "    <tr>\n",
       "      <th>7583771</th>\n",
       "      <td>8</td>\n",
       "      <td>0</td>\n",
       "      <td>2016-05-20 21:00:00</td>\n",
       "      <td>366.193</td>\n",
       "      <td>0</td>\n",
       "    </tr>\n",
       "    <tr>\n",
       "      <th>7586117</th>\n",
       "      <td>8</td>\n",
       "      <td>0</td>\n",
       "      <td>2016-05-20 22:00:00</td>\n",
       "      <td>342.645</td>\n",
       "      <td>0</td>\n",
       "    </tr>\n",
       "    <tr>\n",
       "      <th>7588462</th>\n",
       "      <td>8</td>\n",
       "      <td>0</td>\n",
       "      <td>2016-05-20 23:00:00</td>\n",
       "      <td>304.763</td>\n",
       "      <td>0</td>\n",
       "    </tr>\n",
       "    <tr>\n",
       "      <th>7590806</th>\n",
       "      <td>8</td>\n",
       "      <td>0</td>\n",
       "      <td>2016-05-21 00:00:00</td>\n",
       "      <td>308.517</td>\n",
       "      <td>0</td>\n",
       "    </tr>\n",
       "    <tr>\n",
       "      <th>7593153</th>\n",
       "      <td>8</td>\n",
       "      <td>0</td>\n",
       "      <td>2016-05-21 01:00:00</td>\n",
       "      <td>323.875</td>\n",
       "      <td>0</td>\n",
       "    </tr>\n",
       "    <tr>\n",
       "      <th>7595499</th>\n",
       "      <td>8</td>\n",
       "      <td>0</td>\n",
       "      <td>2016-05-21 02:00:00</td>\n",
       "      <td>309.882</td>\n",
       "      <td>0</td>\n",
       "    </tr>\n",
       "  </tbody>\n",
       "</table>\n",
       "</div>"
      ],
      "text/plain": [
       "         building_id  meter           timestamp  meter_reading  exception\n",
       "6509944            8      0 2016-05-01 19:00:00        749.000          0\n",
       "7576731            8      0 2016-05-20 18:00:00        270.294          0\n",
       "7579078            8      0 2016-05-20 19:00:00        348.788          0\n",
       "7581424            8      0 2016-05-20 20:00:00        367.217          0\n",
       "7583771            8      0 2016-05-20 21:00:00        366.193          0\n",
       "7586117            8      0 2016-05-20 22:00:00        342.645          0\n",
       "7588462            8      0 2016-05-20 23:00:00        304.763          0\n",
       "7590806            8      0 2016-05-21 00:00:00        308.517          0\n",
       "7593153            8      0 2016-05-21 01:00:00        323.875          0\n",
       "7595499            8      0 2016-05-21 02:00:00        309.882          0"
      ]
     },
     "execution_count": 30,
     "metadata": {},
     "output_type": "execute_result"
    }
   ],
   "source": [
    "train[(train.building_id == 8) & (train.meter == 0) & (train.meter_reading != 0)].head(10)"
   ]
  },
  {
   "cell_type": "code",
   "execution_count": 31,
   "metadata": {
    "ExecuteTime": {
     "end_time": "2020-05-19T15:37:02.674787Z",
     "start_time": "2020-05-19T15:37:02.673032Z"
    }
   },
   "outputs": [],
   "source": [
    "# 2016-05-20 18:00:00 为恢复供电时间， 53有点特别，也许全年无消耗"
   ]
  },
  {
   "cell_type": "code",
   "execution_count": 32,
   "metadata": {
    "ExecuteTime": {
     "end_time": "2020-05-19T15:37:11.132939Z",
     "start_time": "2020-05-19T15:37:02.675829Z"
    }
   },
   "outputs": [
    {
     "name": "stdout",
     "output_type": "stream",
     "text": [
      "3378\n",
      "6756\n",
      "10134\n",
      "13512\n",
      "16890\n",
      "20268\n",
      "23646\n",
      "28977\n",
      "32355\n",
      "37686\n",
      "41064\n",
      "44442\n",
      "47820\n",
      "53151\n",
      "58482\n",
      "63813\n",
      "67191\n",
      "70569\n",
      "73947\n",
      "77325\n",
      "80703\n",
      "84081\n",
      "87459\n",
      "90837\n",
      "94215\n",
      "97593\n",
      "100971\n",
      "104349\n",
      "108618\n",
      "110628\n",
      "115959\n",
      "121289\n",
      "124667\n",
      "128045\n",
      "131423\n",
      "134801\n",
      "138179\n",
      "141557\n",
      "144935\n",
      "148313\n",
      "151649\n",
      "155027\n",
      "158405\n",
      "163736\n",
      "167114\n",
      "170491\n",
      "173869\n",
      "177247\n",
      "179213\n",
      "182591\n",
      "187922\n",
      "191300\n",
      "194678\n",
      "196156\n",
      "199534\n",
      "204865\n",
      "208243\n",
      "211621\n",
      "214999\n",
      "218377\n",
      "223708\n",
      "227086\n",
      "230464\n",
      "233842\n",
      "237220\n",
      "240598\n",
      "243976\n",
      "247354\n",
      "250732\n",
      "254110\n",
      "257488\n",
      "260866\n",
      "264244\n",
      "267622\n",
      "271000\n",
      "276331\n",
      "281662\n",
      "285040\n",
      "290371\n",
      "293749\n",
      "297127\n",
      "300505\n",
      "305836\n",
      "309214\n",
      "312592\n",
      "315970\n",
      "319348\n",
      "322726\n",
      "326104\n",
      "329482\n",
      "332860\n",
      "338191\n",
      "343522\n",
      "346900\n",
      "350278\n",
      "355609\n",
      "360940\n",
      "366220\n",
      "369961\n",
      "373339\n",
      "376717\n",
      "380095\n",
      "383473\n",
      "388735\n",
      "392113\n"
     ]
    }
   ],
   "source": [
    "number = 0\n",
    "for i in range(105):\n",
    "    number += train[(train.building_id == i) & (train.timestamp < '2016-05-20 18:00:00')].shape[0]\n",
    "    print(number)"
   ]
  },
  {
   "cell_type": "code",
   "execution_count": 33,
   "metadata": {
    "ExecuteTime": {
     "end_time": "2020-05-19T15:37:57.205123Z",
     "start_time": "2020-05-19T15:37:11.134144Z"
    }
   },
   "outputs": [
    {
     "name": "stdout",
     "output_type": "stream",
     "text": [
      "865332\n"
     ]
    }
   ],
   "source": [
    "number = 0\n",
    "for i in range(105):\n",
    "    number += test[(test.building_id == i) & ((test.timestamp < '2017-05-20 18:00:00') | ((test.timestamp > '2017-12-31 23:00:00') & (test.timestamp < '2018-05-20 18:00:00')))].shape[0]\n",
    "print(number)"
   ]
  }
 ],
 "metadata": {
  "kernelspec": {
   "display_name": "Python 3",
   "language": "python",
   "name": "python3"
  },
  "language_info": {
   "codemirror_mode": {
    "name": "ipython",
    "version": 3
   },
   "file_extension": ".py",
   "mimetype": "text/x-python",
   "name": "python",
   "nbconvert_exporter": "python",
   "pygments_lexer": "ipython3",
   "version": "3.7.7"
  }
 },
 "nbformat": 4,
 "nbformat_minor": 1
}
